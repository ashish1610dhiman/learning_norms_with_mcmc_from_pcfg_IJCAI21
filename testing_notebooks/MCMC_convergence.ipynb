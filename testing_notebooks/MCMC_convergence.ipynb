{
 "cells": [
  {
   "cell_type": "markdown",
   "metadata": {},
   "source": [
    "# MCMC Convergence testing\n",
    "\n",
    "Let us first load the previously created data and env for the task (clearing the area of green and blue squares) with given norms  \n",
    "<img src=\"mcmc_convergence/jup_1.jpeg\" alt=\"Drawing\" style=\"width: 520px;float: left\"/>                        \n",
    "<img src=\"mcmc_convergence/mcmc_data_norms.jpeg\" alt=\"Drawing\" style=\"width: 400px;float: right\"/>"
   ]
  },
  {
   "cell_type": "code",
   "execution_count": 1,
   "metadata": {},
   "outputs": [],
   "source": [
    "from algorithm_1 import algorithm_1,to_tuple\n",
    "import pickle\n",
    "from rules_3 import *\n",
    "from mcmc_convergence import calculate_variance\n",
    "import pandas as pd\n",
    "import matplotlib.pyplot as plt\n",
    "import seaborn as sns\n",
    "from collections import Counter\n",
    "import os\n",
    "import sys"
   ]
  },
  {
   "cell_type": "code",
   "execution_count": 2,
   "metadata": {},
   "outputs": [
    {
     "name": "stdout",
     "output_type": "stream",
     "text": [
      "Num_objects in env=30,\n",
      "colours=['r', 'g', 'b'],\n",
      "shapes=['square', 'circle', 'triangle'],\n",
      "zones={1: -0.33333333333333337, 2: 0.33333333333333326, 3: 1.0}\n"
     ]
    },
    {
     "data": {
      "text/plain": [
       "[(('pickup', 13), ('putdown', 13, 3)),\n",
       " (('pickup', 13), ('putdown', 13, 3)),\n",
       " (('pickup', 13), ('putdown', 13, 3)),\n",
       " (('pickup', 13), ('putdown', 13, 3)),\n",
       " (('pickup', 13), ('putdown', 13, 3))]"
      ]
     },
     "execution_count": 2,
     "metadata": {},
     "output_type": "execute_result"
    }
   ],
   "source": [
    "with open ('mcmc_convergence/env_convergence.txt', 'rb') as fp:\n",
    "    env = pickle.load(fp)\n",
    "print (\"Num_objects in env={},\\ncolours={},\\nshapes={},\\nzones={}\".format(len(env[0]),env[1],env[2],env[3]))\n",
    "\n",
    "with open ('mcmc_convergence/data_norms.txt', 'rb') as fp:\n",
    "    data = pickle.load(fp)\n",
    "data[:5]"
   ]
  },
  {
   "cell_type": "markdown",
   "metadata": {},
   "source": [
    "## Create multiple Markov chains"
   ]
  },
  {
   "cell_type": "code",
   "execution_count": 3,
   "metadata": {},
   "outputs": [
    {
     "name": "stdout",
     "output_type": "stream",
     "text": [
      "\n",
      ":::::::::::::::::::: FOR SEQUENCE 1 ::::::::::::::::::::\n",
      "E0 chosen is:\n",
      "------------------------------------------------\n",
      "                NORM Number=1\n",
      "------------------------------------------------\n",
      "   > OBLIGATORY to\n",
      "     PUTDOWN G-SQUAREs in ZONE-2\n",
      "     if you PICKUP G-SQUAREs\n",
      "------------------------------------------------\n",
      "                NORM Number=2\n",
      "------------------------------------------------\n",
      "   > PERMITTED to PICKUP\n",
      "     R-TRIANGLEs in ZONE-1\n",
      "\n",
      ":::::::::::::::::::: FOR SEQUENCE 2 ::::::::::::::::::::\n",
      "E0 chosen is:\n",
      "------------------------------------------------\n",
      "                NORM Number=1\n",
      "------------------------------------------------\n",
      "   > PROHIBITED to PUTDOWN\n",
      "     R-CIRCLEs in ZONE-1\n",
      "------------------------------------------------\n",
      "                NORM Number=2\n",
      "------------------------------------------------\n",
      "   > PERMITTED to PUTDOWN\n",
      "     R-CIRCLEs in ZONE-1\n",
      "\n",
      ":::::::::::::::::::: FOR SEQUENCE 3 ::::::::::::::::::::\n",
      "E0 chosen is:\n",
      "------------------------------------------------\n",
      "                NORM Number=1\n",
      "------------------------------------------------\n",
      "   > PROHIBITED to PUTDOWN\n",
      "     G-SQUAREs in ZONE-1\n",
      "------------------------------------------------\n",
      "                NORM Number=2\n",
      "------------------------------------------------\n",
      "   > PERMITTED to PICKUP\n",
      "     G-TRIANGLEs in ZONE-3\n",
      "\n",
      ":::::::::::::::::::: FOR SEQUENCE 4 ::::::::::::::::::::\n",
      "E0 chosen is:\n",
      "------------------------------------------------\n",
      "                NORM Number=1\n",
      "------------------------------------------------\n",
      "   > OBLIGATORY to\n",
      "     PUTDOWN R-CIRCLEs in ZONE-1\n",
      "     if you PICKUP R-CIRCLEs\n",
      "------------------------------------------------\n",
      "                NORM Number=2\n",
      "------------------------------------------------\n",
      "   > PERMITTED to PUTDOWN\n",
      "     B-CIRCLEs in ZONE-2\n",
      "\n",
      ":::::::::::::::::::: FOR SEQUENCE 5 ::::::::::::::::::::\n",
      "E0 chosen is:\n",
      "------------------------------------------------\n",
      "                NORM Number=1\n",
      "------------------------------------------------\n",
      "   > OBLIGATORY to\n",
      "     PUTDOWN B-CIRCLEs in ZONE-1\n",
      "     if you PICKUP B-CIRCLEs\n",
      "------------------------------------------------\n",
      "                NORM Number=2\n",
      "------------------------------------------------\n",
      "   > PERMITTED to PICKUP\n",
      "     B-TRIANGLEs in ZONE-1\n"
     ]
    }
   ],
   "source": [
    "n=10000 #Length of sequence after discarding warm-up part and splitting in half\n",
    "m=10 #Number of sequences after splitting in half\n",
    "\n",
    "sequence_list=[]\n",
    "for i in range(1,int(m/2+1)):\n",
    "    print (\"\\n:::::::::::::::::::: FOR SEQUENCE {} ::::::::::::::::::::\".format(i))\n",
    "    exp_seq,lik_list=algorithm_1(data,env,q_dict,rule_dict,\n",
    "                                           filename=\"mcmc_convergence/report_for_chain_{}\".format(i),max_iterations=4*n,testing=True)\n",
    "    sequence_list.append(exp_seq)"
   ]
  },
  {
   "cell_type": "markdown",
   "metadata": {},
   "source": [
    "### Discard the warm-up part for each chain and then split the remaining chain into two halves\n"
   ]
  },
  {
   "cell_type": "code",
   "execution_count": 22,
   "metadata": {},
   "outputs": [],
   "source": [
    "def prepare_sequences(sequence_list,warmup=True,split=True): \n",
    "    if warmup==True:\n",
    "        wo_warmup=[sequence[int(len(sequence)/2)+1:] for sequence in sequence_list]\n",
    "    else:\n",
    "        wo_warmup=sequence_list\n",
    "    split_halves=[]\n",
    "    if split==True:\n",
    "        for seq in wo_warmup:\n",
    "            split_halves.append(seq[:int(len(seq)/2)])\n",
    "            split_halves.append(seq[int(len(seq)/2):])\n",
    "    else:\n",
    "        split_halves=wo_warmup\n",
    "    return (split_halves)\n",
    "\n",
    "def calculate_R(split_halves,step_size):\n",
    "    import time\n",
    "    result={\"iterations\":[],\"R\":[],\"within_seq_var\":[],\"between_seq_var\":[],\"var_over_est\":[]}\n",
    "    counter=0\n",
    "    flag=0\n",
    "    n=len(split_halves[0])\n",
    "    while (counter<n):\n",
    "        if flag==1:\n",
    "            counter+=counter\n",
    "        else:\n",
    "            counter+=step_size\n",
    "            flag=1\n",
    "        counter=min(n,counter)\n",
    "        s=time.time()\n",
    "        print (\"\\nCalculating Variance for 1st {} iterations\".format(counter))\n",
    "        my_seq=[sequence[:counter] for sequence in split_halves]\n",
    "        W,B=calculate_variance(my_seq)\n",
    "        result[\"iterations\"].append(counter)\n",
    "        result[\"within_seq_var\"].append(W)\n",
    "        result[\"between_seq_var\"].append(B)\n",
    "        result[\"var_over_est\"].append(((n-1)/n)*W+(1/n)*B)\n",
    "        result[\"R\"].append((result[\"var_over_est\"][-1]/W)**0.5)\n",
    "        print (\"Time taken for job={:.1f}s\".format(time.time()-s))\n",
    "    result=pd.DataFrame(result)\n",
    "    return (result)"
   ]
  },
  {
   "cell_type": "markdown",
   "metadata": {},
   "source": [
    "## Calculate within and between sequence variance\n",
    "<img src=\"mcmc_convergence/B_W_def.jpeg\" alt=\"Drawing\" style=\"width: 700px;float: center\"/> "
   ]
  },
  {
   "cell_type": "code",
   "execution_count": 26,
   "metadata": {},
   "outputs": [
    {
     "name": "stdout",
     "output_type": "stream",
     "text": [
      "\n",
      "Calculating Variance for 1st 200 iterations\n",
      "Time taken for job=1.8s\n",
      "\n",
      "Calculating Variance for 1st 400 iterations\n",
      "Time taken for job=3.7s\n",
      "\n",
      "Calculating Variance for 1st 800 iterations\n",
      "Time taken for job=7.9s\n",
      "\n",
      "Calculating Variance for 1st 1600 iterations\n",
      "Time taken for job=16.2s\n",
      "\n",
      "Calculating Variance for 1st 3200 iterations\n",
      "Time taken for job=32.3s\n",
      "\n",
      "Calculating Variance for 1st 6400 iterations\n",
      "Time taken for job=63.5s\n",
      "\n",
      "Calculating Variance for 1st 10000 iterations\n",
      "Time taken for job=100.6s\n"
     ]
    },
    {
     "data": {
      "text/html": [
       "<div>\n",
       "<style scoped>\n",
       "    .dataframe tbody tr th:only-of-type {\n",
       "        vertical-align: middle;\n",
       "    }\n",
       "\n",
       "    .dataframe tbody tr th {\n",
       "        vertical-align: top;\n",
       "    }\n",
       "\n",
       "    .dataframe thead th {\n",
       "        text-align: right;\n",
       "    }\n",
       "</style>\n",
       "<table border=\"1\" class=\"dataframe\">\n",
       "  <thead>\n",
       "    <tr style=\"text-align: right;\">\n",
       "      <th></th>\n",
       "      <th>iterations</th>\n",
       "      <th>R</th>\n",
       "      <th>within_seq_var</th>\n",
       "      <th>between_seq_var</th>\n",
       "      <th>var_over_est</th>\n",
       "    </tr>\n",
       "  </thead>\n",
       "  <tbody>\n",
       "    <tr>\n",
       "      <th>0</th>\n",
       "      <td>200</td>\n",
       "      <td>1.000402</td>\n",
       "      <td>5.936151</td>\n",
       "      <td>53.682333</td>\n",
       "      <td>5.940925</td>\n",
       "    </tr>\n",
       "    <tr>\n",
       "      <th>1</th>\n",
       "      <td>400</td>\n",
       "      <td>1.000518</td>\n",
       "      <td>6.013707</td>\n",
       "      <td>68.325722</td>\n",
       "      <td>6.019938</td>\n",
       "    </tr>\n",
       "    <tr>\n",
       "      <th>2</th>\n",
       "      <td>800</td>\n",
       "      <td>1.000374</td>\n",
       "      <td>6.119151</td>\n",
       "      <td>51.944028</td>\n",
       "      <td>6.123734</td>\n",
       "    </tr>\n",
       "    <tr>\n",
       "      <th>3</th>\n",
       "      <td>1600</td>\n",
       "      <td>1.000360</td>\n",
       "      <td>6.149259</td>\n",
       "      <td>50.444361</td>\n",
       "      <td>6.153688</td>\n",
       "    </tr>\n",
       "    <tr>\n",
       "      <th>4</th>\n",
       "      <td>3200</td>\n",
       "      <td>1.000344</td>\n",
       "      <td>6.164561</td>\n",
       "      <td>48.537597</td>\n",
       "      <td>6.168798</td>\n",
       "    </tr>\n",
       "    <tr>\n",
       "      <th>5</th>\n",
       "      <td>6400</td>\n",
       "      <td>1.000345</td>\n",
       "      <td>6.170343</td>\n",
       "      <td>48.731177</td>\n",
       "      <td>6.174599</td>\n",
       "    </tr>\n",
       "    <tr>\n",
       "      <th>6</th>\n",
       "      <td>10000</td>\n",
       "      <td>1.000362</td>\n",
       "      <td>6.173420</td>\n",
       "      <td>50.850664</td>\n",
       "      <td>6.177888</td>\n",
       "    </tr>\n",
       "  </tbody>\n",
       "</table>\n",
       "</div>"
      ],
      "text/plain": [
       "   iterations         R  within_seq_var  between_seq_var  var_over_est\n",
       "0         200  1.000402        5.936151        53.682333      5.940925\n",
       "1         400  1.000518        6.013707        68.325722      6.019938\n",
       "2         800  1.000374        6.119151        51.944028      6.123734\n",
       "3        1600  1.000360        6.149259        50.444361      6.153688\n",
       "4        3200  1.000344        6.164561        48.537597      6.168798\n",
       "5        6400  1.000345        6.170343        48.731177      6.174599\n",
       "6       10000  1.000362        6.173420        50.850664      6.177888"
      ]
     },
     "execution_count": 26,
     "metadata": {},
     "output_type": "execute_result"
    }
   ],
   "source": [
    "with_warmup_result=calculate_R(prepare_sequences(sequence_list,warmup=True),200)\n",
    "with_warmup_result"
   ]
  },
  {
   "cell_type": "code",
   "execution_count": 27,
   "metadata": {},
   "outputs": [
    {
     "name": "stdout",
     "output_type": "stream",
     "text": [
      "\n",
      "Calculating Variance for 1st 400 iterations\n",
      "Time taken for job=4.2s\n",
      "\n",
      "Calculating Variance for 1st 800 iterations\n",
      "Time taken for job=8.6s\n",
      "\n",
      "Calculating Variance for 1st 1600 iterations\n",
      "Time taken for job=17.9s\n",
      "\n",
      "Calculating Variance for 1st 3200 iterations\n",
      "Time taken for job=35.5s\n",
      "\n",
      "Calculating Variance for 1st 6400 iterations\n",
      "Time taken for job=71.3s\n",
      "\n",
      "Calculating Variance for 1st 12800 iterations\n",
      "Time taken for job=151.8s\n",
      "\n",
      "Calculating Variance for 1st 20000 iterations\n",
      "Time taken for job=226.4s\n"
     ]
    },
    {
     "data": {
      "text/html": [
       "<div>\n",
       "<style scoped>\n",
       "    .dataframe tbody tr th:only-of-type {\n",
       "        vertical-align: middle;\n",
       "    }\n",
       "\n",
       "    .dataframe tbody tr th {\n",
       "        vertical-align: top;\n",
       "    }\n",
       "\n",
       "    .dataframe thead th {\n",
       "        text-align: right;\n",
       "    }\n",
       "</style>\n",
       "<table border=\"1\" class=\"dataframe\">\n",
       "  <thead>\n",
       "    <tr style=\"text-align: right;\">\n",
       "      <th></th>\n",
       "      <th>iterations</th>\n",
       "      <th>R</th>\n",
       "      <th>within_seq_var</th>\n",
       "      <th>between_seq_var</th>\n",
       "      <th>var_over_est</th>\n",
       "    </tr>\n",
       "  </thead>\n",
       "  <tbody>\n",
       "    <tr>\n",
       "      <th>0</th>\n",
       "      <td>400</td>\n",
       "      <td>1.001668</td>\n",
       "      <td>8.002762</td>\n",
       "      <td>542.546833</td>\n",
       "      <td>8.029489</td>\n",
       "    </tr>\n",
       "    <tr>\n",
       "      <th>1</th>\n",
       "      <td>800</td>\n",
       "      <td>1.001920</td>\n",
       "      <td>7.518342</td>\n",
       "      <td>585.376667</td>\n",
       "      <td>7.547235</td>\n",
       "    </tr>\n",
       "    <tr>\n",
       "      <th>2</th>\n",
       "      <td>1600</td>\n",
       "      <td>1.001074</td>\n",
       "      <td>7.063757</td>\n",
       "      <td>310.621403</td>\n",
       "      <td>7.078935</td>\n",
       "    </tr>\n",
       "    <tr>\n",
       "      <th>3</th>\n",
       "      <td>3200</td>\n",
       "      <td>1.000650</td>\n",
       "      <td>6.673813</td>\n",
       "      <td>180.300618</td>\n",
       "      <td>6.682495</td>\n",
       "    </tr>\n",
       "    <tr>\n",
       "      <th>4</th>\n",
       "      <td>6400</td>\n",
       "      <td>1.000409</td>\n",
       "      <td>6.439658</td>\n",
       "      <td>111.886406</td>\n",
       "      <td>6.444931</td>\n",
       "    </tr>\n",
       "    <tr>\n",
       "      <th>5</th>\n",
       "      <td>12800</td>\n",
       "      <td>1.000335</td>\n",
       "      <td>6.311900</td>\n",
       "      <td>90.900670</td>\n",
       "      <td>6.316130</td>\n",
       "    </tr>\n",
       "    <tr>\n",
       "      <th>6</th>\n",
       "      <td>20000</td>\n",
       "      <td>1.000320</td>\n",
       "      <td>6.264438</td>\n",
       "      <td>86.548776</td>\n",
       "      <td>6.268452</td>\n",
       "    </tr>\n",
       "  </tbody>\n",
       "</table>\n",
       "</div>"
      ],
      "text/plain": [
       "   iterations         R  within_seq_var  between_seq_var  var_over_est\n",
       "0         400  1.001668        8.002762       542.546833      8.029489\n",
       "1         800  1.001920        7.518342       585.376667      7.547235\n",
       "2        1600  1.001074        7.063757       310.621403      7.078935\n",
       "3        3200  1.000650        6.673813       180.300618      6.682495\n",
       "4        6400  1.000409        6.439658       111.886406      6.444931\n",
       "5       12800  1.000335        6.311900        90.900670      6.316130\n",
       "6       20000  1.000320        6.264438        86.548776      6.268452"
      ]
     },
     "execution_count": 27,
     "metadata": {},
     "output_type": "execute_result"
    }
   ],
   "source": [
    "wo_warmup_result=calculate_R(prepare_sequences(sequence_list,warmup=False),400)\n",
    "wo_warmup_result"
   ]
  },
  {
   "cell_type": "code",
   "execution_count": 28,
   "metadata": {},
   "outputs": [
    {
     "data": {
      "image/png": "[encoded data removed]",
      "text/plain": [
       "<Figure size 1008x720 with 2 Axes>"
      ]
     },
     "metadata": {},
     "output_type": "display_data"
    }
   ],
   "source": [
    "sns.set_style(\"darkgrid\")\n",
    "fig,ax=plt.subplots(1, 2, sharex=False, sharey=False,figsize=(14,10))\n",
    "fig.suptitle('Trend of R with length of sequence')\n",
    "\n",
    "ax[0].plot(with_warmup_result[\"iterations\"].values,with_warmup_result[\"R\"].values,\"o-\",c=(250/255,93/255,130/255,0.7),markerfacecolor=(250/255,18/255,72/255,0.77))\n",
    "ax[0].set_ylabel(\"Value of R\")\n",
    "ax[0].set_xlabel(\"First Iterations of Sequence\")\n",
    "ax[0].title.set_text(\"When Warmup is discarded\");\n",
    "\n",
    "ax[1].plot(wo_warmup_result[\"iterations\"].values,wo_warmup_result[\"R\"].values,\"o-\",c=(250/255,93/255,130/255,0.7),markerfacecolor=(250/255,18/255,72/255,0.77))\n",
    "ax[1].set_ylabel(\"Value of R\")\n",
    "ax[1].set_xlabel(\"First Iterations of Sequence\")\n",
    "ax[1].title.set_text(\"When Warmup is kept\");"
   ]
  },
  {
   "cell_type": "markdown",
   "metadata": {},
   "source": [
    "### See the learned norms in both the cases and plot their frequencies"
   ]
  },
  {
   "cell_type": "code",
   "execution_count": 29,
   "metadata": {},
   "outputs": [
    {
     "name": "stdout",
     "output_type": "stream",
     "text": [
      "For data generated with Warmup:\n",
      "Number of unique Norms in sequence=52\n"
     ]
    }
   ],
   "source": [
    "learned_norms_with=Counter(map(to_tuple,prepare_sequences(sequence_list,warmup=True)[0]))\n",
    "t_with=sum(learned_norms_with.values())\n",
    "print (\"For data generated with Warmup:\")\n",
    "print (\"Number of unique Norms in sequence={}\".format(len(learned_norms_with)))\n",
    "#print (\"Order of Improvement in Likelihood={:.2E}\".format(max(lik_list_with)/min(lik_list_with)))"
   ]
  },
  {
   "cell_type": "code",
   "execution_count": 30,
   "metadata": {},
   "outputs": [
    {
     "name": "stdout",
     "output_type": "stream",
     "text": [
      "For data generated without norms:\n",
      "Number of unique Norms in sequence=147\n"
     ]
    }
   ],
   "source": [
    "learned_norms_wo=Counter(map(to_tuple,prepare_sequences(sequence_list,warmup=False)[0]))\n",
    "t_wo=sum(learned_norms_wo.values())\n",
    "print (\"For data generated without norms:\")\n",
    "print (\"Number of unique Norms in sequence={}\".format(len(learned_norms_wo)))\n",
    "#print (\"Order of Improvement in Likelihood={:.2E}\".format(max(lik_list_wo)/min(lik_list_wo)))"
   ]
  },
  {
   "cell_type": "code",
   "execution_count": 31,
   "metadata": {},
   "outputs": [
    {
     "data": {
      "image/png": "[encoded data removed]",
      "text/plain": [
       "<Figure size 1008x720 with 2 Axes>"
      ]
     },
     "metadata": {},
     "output_type": "display_data"
    }
   ],
   "source": [
    "sns.set_style(\"darkgrid\")\n",
    "fig,ax=plt.subplots(1, 2, sharex=False, sharey=False,figsize=(14,10))\n",
    "fig.suptitle('Frequency of Norms in the generated sequence')\n",
    "\n",
    "ax[0].plot(sorted(learned_norms_with.values()),\"o-\",c=(250/255,93/255,130/255,0.7),markerfacecolor=(250/255,18/255,72/255,0.77))\n",
    "ax[0].set_ylabel(\"Frequency in sample of size={}\".format(t_with))\n",
    "ax[0].set_xlabel(\"Index of Norms from a total of {} Norms\".format(len(learned_norms_with)))\n",
    "ax[0].title.set_text(\"NORMS learned with warmup\")\n",
    "\n",
    "ax[1].plot(sorted(learned_norms_wo.values()),\"o-\",c=(250/255,93/255,130/255,0.7),markerfacecolor=(250/255,18/255,72/255,0.77))\n",
    "ax[1].set_ylabel(\"Frequency in sample of size={}\".format(t_wo))\n",
    "ax[1].set_xlabel(\"Index of Norms from a total of {} Norms\".format(len(learned_norms_wo)))\n",
    "ax[1].title.set_text(\"NORMS learned without warmup\")"
   ]
  },
  {
   "cell_type": "markdown",
   "metadata": {},
   "source": [
    "### Investigate the top_norms learned from a chain with warmup"
   ]
  },
  {
   "cell_type": "code",
   "execution_count": 32,
   "metadata": {},
   "outputs": [
    {
     "name": "stdout",
     "output_type": "stream",
     "text": [
      "Rank:1 Norm has relative frequency=2.870%\n",
      "Rank:11 Norm has relative frequency=2.160%\n",
      "Rank:21 Norm has relative frequency=1.990%\n",
      "Rank:31 Norm has relative frequency=1.820%\n",
      "Rank:41 Norm has relative frequency=1.650%\n",
      "Rank:51 Norm has relative frequency=1.490%\n"
     ]
    }
   ],
   "source": [
    "top=learned_norms_with.most_common()\n",
    "exists = os.path.isfile('./mcmc_convergence/top_norms_with_warmup.txt')\n",
    "if exists==True:\n",
    "    os.remove('./mcmc_convergence/top_norms_with_warmup.txt')\n",
    "original = sys.stdout\n",
    "for i in range(len(top)):\n",
    "    exp=top[i]\n",
    "    if (i%10==0):\n",
    "        print(\"Rank:{} Norm has relative frequency={:.3f}%\".format(i+1,exp[1]*100/t_with))\n",
    "    sys.stdout = open('./mcmc_convergence/top_norms_with_warmup.txt', 'a+')\n",
    "    print(\"\\n\\n\\n************Rank:{}, %-Frequency={:.3f}%**********\".format(i+1,exp[1]*100/t_with))\n",
    "    print_expression(exp[0])\n",
    "    print(\"*************************************************\")\n",
    "    sys.stdout=original"
   ]
  },
  {
   "cell_type": "markdown",
   "metadata": {},
   "source": [
    "### Investigate the top_norms learned from a chain without warmup"
   ]
  },
  {
   "cell_type": "code",
   "execution_count": 33,
   "metadata": {},
   "outputs": [
    {
     "name": "stdout",
     "output_type": "stream",
     "text": [
      "Rank:1 Norm has relative frequency=4.810%\n",
      "Rank:11 Norm has relative frequency=4.210%\n",
      "Rank:21 Norm has relative frequency=3.950%\n",
      "Rank:31 Norm has relative frequency=3.600%\n",
      "Rank:41 Norm has relative frequency=3.330%\n",
      "Rank:51 Norm has relative frequency=2.810%\n",
      "Rank:61 Norm has relative frequency=0.090%\n",
      "Rank:71 Norm has relative frequency=0.050%\n",
      "Rank:81 Norm has relative frequency=0.050%\n",
      "Rank:91 Norm has relative frequency=0.040%\n",
      "Rank:101 Norm has relative frequency=0.020%\n",
      "Rank:111 Norm has relative frequency=0.020%\n",
      "Rank:121 Norm has relative frequency=0.010%\n",
      "Rank:131 Norm has relative frequency=0.010%\n",
      "Rank:141 Norm has relative frequency=0.010%\n"
     ]
    }
   ],
   "source": [
    "top=learned_norms_wo.most_common()\n",
    "exists = os.path.isfile('./mcmc_convergence/top_norms_wo_warmup.txt')\n",
    "if exists==True:\n",
    "    os.remove('./mcmc_convergence/top_norms_wo_warmup.txt')\n",
    "original = sys.stdout\n",
    "for i in range(len(top)):\n",
    "    exp=top[i]\n",
    "    if (i%10==0):\n",
    "        print(\"Rank:{} Norm has relative frequency={:.3f}%\".format(i+1,exp[1]*100/t_with))\n",
    "    sys.stdout = open('./mcmc_convergence/top_norms_wo_warmup.txt', 'a+')\n",
    "    print(\"\\n\\n\\n************Rank:{}, %-Frequency={:.3f}%**********\".format(i+1,exp[1]*100/t_with))\n",
    "    print_expression(exp[0])\n",
    "    print(\"*************************************************\")\n",
    "    sys.stdout=original"
   ]
  }
 ],
 "metadata": {
  "kernelspec": {
   "display_name": "Python 3",
   "language": "python",
   "name": "python3"
  },
  "language_info": {
   "codemirror_mode": {
    "name": "ipython",
    "version": 3
   },
   "file_extension": ".py",
   "mimetype": "text/x-python",
   "name": "python",
   "nbconvert_exporter": "python",
   "pygments_lexer": "ipython3",
   "version": "3.7.3"
  }
 },
 "nbformat": 4,
 "nbformat_minor": 2
}
