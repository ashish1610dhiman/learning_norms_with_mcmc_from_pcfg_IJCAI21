{
 "cells": [
  {
   "cell_type": "markdown",
   "metadata": {},
   "source": [
    "## Non Compliance Experiment=2\n",
    "Test top norms for different w_nc, and relation between violations and "
   ]
  },
  {
   "cell_type": "code",
   "execution_count": 1,
   "metadata": {},
   "outputs": [],
   "source": [
    "import sys\n",
    "sys.path.append('../src')"
   ]
  },
  {
   "cell_type": "code",
   "execution_count": 2,
   "metadata": {},
   "outputs": [],
   "source": [
    "import yaml\n",
    "from IPython.utils import io\n",
    "from tqdm.notebook import tqdm\n",
    "from pathlib import Path\n",
    "import pandas as pd\n",
    "import numpy as np\n",
    "from mcmc_norm_learning.algorithm_1_v4 import to_tuple"
   ]
  },
  {
   "cell_type": "code",
   "execution_count": 3,
   "metadata": {},
   "outputs": [],
   "source": [
    "def write_log(output,path):\n",
    "    with open(Path(path), 'w') as f:\n",
    "        f.write(output)"
   ]
  },
  {
   "cell_type": "markdown",
   "metadata": {},
   "source": [
    "### Loop over w_nc values"
   ]
  },
  {
   "cell_type": "code",
   "execution_count": 4,
   "metadata": {},
   "outputs": [],
   "source": [
    "# !rm -r ../data_nc/exp_nc2/*"
   ]
  },
  {
   "cell_type": "code",
   "execution_count": 5,
   "metadata": {},
   "outputs": [],
   "source": [
    "w_nc_list_part1=[0.0,0.05,0.1,0.2]"
   ]
  },
  {
   "cell_type": "code",
   "execution_count": 6,
   "metadata": {},
   "outputs": [
    {
     "data": {
      "application/vnd.jupyter.widget-view+json": {
       "model_id": "b7546b384db84398990fd3db1a2dfd1e",
       "version_major": 2,
       "version_minor": 0
      },
      "text/plain": [
       "HBox(children=(HTML(value='Loop Over diff w_nc'), FloatProgress(value=0.0, max=4.0), HTML(value='')))"
      ]
     },
     "metadata": {},
     "output_type": "display_data"
    },
    {
     "name": "stdout",
     "output_type": "stream",
     "text": [
      "\n"
     ]
    }
   ],
   "source": [
    "#Stopped after w_nc=0.1, due to hight compute time\n",
    "for w_nc in tqdm(w_nc_list_part1,\"Loop Over diff w_nc\"):\n",
    "    exp_dir_name=\"exp_nc2/w_nc={}\".format(w_nc)\n",
    "    with io.capture_output() as exp_log:\n",
    "        !python ../scripts/nc_experiments.py -exp $exp_dir_name -w_nc $w_nc  -n_threads 6\n",
    "    write_log(exp_log.stdout,\"../data_nc/{}/run.log\".format(exp_dir_name)) "
   ]
  },
  {
   "cell_type": "code",
   "execution_count": 7,
   "metadata": {},
   "outputs": [],
   "source": [
    "w_nc_list_part2=[0.15,0.2]"
   ]
  },
  {
   "cell_type": "code",
   "execution_count": 8,
   "metadata": {},
   "outputs": [
    {
     "data": {
      "application/vnd.jupyter.widget-view+json": {
       "model_id": "9eec4ee7114a4b858b41e17f4468d267",
       "version_major": 2,
       "version_minor": 0
      },
      "text/plain": [
       "HBox(children=(HTML(value='Loop Over diff w_nc'), FloatProgress(value=0.0, max=2.0), HTML(value='')))"
      ]
     },
     "metadata": {},
     "output_type": "display_data"
    },
    {
     "name": "stdout",
     "output_type": "stream",
     "text": [
      "\n"
     ]
    }
   ],
   "source": [
    "#Stopped after w_nc=0.1, due to hight compute time\n",
    "for w_nc in tqdm(w_nc_list_part2,\"Loop Over diff w_nc\"):\n",
    "    exp_dir_name=\"exp_nc2/w_nc={}\".format(w_nc)\n",
    "    with io.capture_output() as exp_log:\n",
    "        !python ../scripts/nc_experiments.py -exp $exp_dir_name -w_nc $w_nc  -n_threads 6\n",
    "    write_log(exp_log.stdout,\"../data_nc/{}/run.log\".format(exp_dir_name)) "
   ]
  },
  {
   "cell_type": "code",
   "execution_count": null,
   "metadata": {},
   "outputs": [],
   "source": [
    "# w_nc_list_part3=[0.25,0.3,0.35,0.4,0.45]"
   ]
  },
  {
   "cell_type": "markdown",
   "metadata": {},
   "source": [
    "## Analysis\n",
    "### 1. True Norm log_posterior for diff w_nc"
   ]
  },
  {
   "cell_type": "code",
   "execution_count": 14,
   "metadata": {},
   "outputs": [],
   "source": [
    "w_nc_list = [0.0,0.05,0.1,0.15,0.2]"
   ]
  },
  {
   "cell_type": "code",
   "execution_count": 15,
   "metadata": {},
   "outputs": [
    {
     "name": "stdout",
     "output_type": "stream",
     "text": [
      "For w_nc=0.0:\n",
      "['For True Norm, prior=8.930612711476907e-07, log_prior=-13.928610645716274']\n",
      "[]\n",
      "\n",
      "For w_nc=0.05:\n",
      "['For True Norm, prior=8.930612711476907e-07, log_prior=-13.928610645716274']\n",
      "[]\n",
      "\n",
      "For w_nc=0.1:\n",
      "['For True Norm, prior=8.930612711476907e-07, log_prior=-13.928610645716274']\n",
      "[]\n",
      "\n",
      "For w_nc=0.15:\n",
      "['For True Norm, prior=8.930612711476907e-07, log_prior=-13.928610645716274']\n",
      "[]\n",
      "\n",
      "For w_nc=0.2:\n",
      "['For True Norm, prior=8.930612711476907e-07, log_prior=-13.928610645716274']\n",
      "[]\n",
      "\n"
     ]
    }
   ],
   "source": [
    "for w_nc in w_nc_list:\n",
    "    exp_dir_name=\"exp_nc2/w_nc={}\".format(w_nc)\n",
    "    prior_out=!grep \"For True Norm\" ../data_nc/{exp_dir_name}/run.log\n",
    "    post_out=!grep \"log_post_true_norm\" ../data_nc/{exp_dir_name}/run.log\n",
    "    print (f\"For w_nc={w_nc}:\")\n",
    "    print (prior_out)\n",
    "    print (post_out)\n",
    "    print()"
   ]
  },
  {
   "cell_type": "markdown",
   "metadata": {},
   "source": [
    "### 2. True Norm atleast mentioned in any chains, for diff w_nc"
   ]
  },
  {
   "cell_type": "code",
   "execution_count": 16,
   "metadata": {},
   "outputs": [
    {
     "name": "stdout",
     "output_type": "stream",
     "text": [
      "For w_nc=0.0, True Norm found=['True norm in some chain(s): True']\n",
      "For w_nc=0.05, True Norm found=['True norm in some chain(s): True']\n",
      "For w_nc=0.1, True Norm found=['True norm in some chain(s): False']\n",
      "For w_nc=0.15, True Norm found=['True norm in some chain(s): True']\n",
      "For w_nc=0.2, True Norm found=['True norm in some chain(s): True']\n"
     ]
    }
   ],
   "source": [
    "for w_nc in w_nc_list:\n",
    "    exp_dir_name=\"exp_nc2/w_nc={}\".format(w_nc)\n",
    "    out=!grep \"True norm in some chain(s)\" ../data_nc/{exp_dir_name}/chain_info.txt\n",
    "    print (f\"For w_nc={w_nc}, True Norm found={out}\")"
   ]
  },
  {
   "cell_type": "markdown",
   "metadata": {},
   "source": [
    "### 3. Rank of True Norm as per log_post, iff it was found"
   ]
  },
  {
   "cell_type": "code",
   "execution_count": 17,
   "metadata": {},
   "outputs": [],
   "source": [
    "with open(\"../params_nc.yaml\", 'r') as fd:\n",
    "    params = yaml.safe_load(fd)\n",
    "true_norm=to_tuple(params['true_norm']['exp'])"
   ]
  },
  {
   "cell_type": "code",
   "execution_count": 19,
   "metadata": {},
   "outputs": [
    {
     "name": "stdout",
     "output_type": "stream",
     "text": [
      "For w_nc=0.0, True Norm rank=1.0,wi posterior=-25176.704950912368\n",
      "For w_nc=0.05, True Norm rank=1.0,wi posterior=-25781.819948105094\n",
      "For w_nc=0.15, True Norm rank=1.0,wi posterior=-25772.77641199651\n",
      "For w_nc=0.2, True Norm rank=1.0,wi posterior=-25883.433244964857\n"
     ]
    }
   ],
   "source": [
    "for w_nc in w_nc_list:\n",
    "    exp_dir_name=\"exp_nc2/w_nc={}\".format(w_nc)\n",
    "    rank_df=pd.read_csv(f\"../data_nc/{exp_dir_name}/ranked_posteriors.csv\",index_col=False)\n",
    "    rank_post=rank_df.loc[rank_df.expression==str(true_norm)][[\"post_rank\",\"log_posterior\"]].values\n",
    "    if rank_post.shape[0]==1:\n",
    "        print (f\"For w_nc={w_nc}, True Norm rank={rank_post[0][0]},wi posterior={rank_post[0][1]}\")"
   ]
  },
  {
   "cell_type": "markdown",
   "metadata": {},
   "source": [
    "#### ==> True Norm always has highest posterior, when its found,\n",
    "confirm if it is in one chain, or multiple"
   ]
  },
  {
   "cell_type": "markdown",
   "metadata": {},
   "source": [
    "### 4. In how many chains, max post crosses post(true_norm)"
   ]
  },
  {
   "cell_type": "code",
   "execution_count": 20,
   "metadata": {},
   "outputs": [],
   "source": [
    "stacked=pd.DataFrame()\n",
    "for w_nc in w_nc_list:\n",
    "    exp_dir_name=\"exp_nc2/w_nc={}\".format(w_nc)\n",
    "    result = pd.read_csv(f\"../data_nc/{exp_dir_name}/chain_posteriors_nc.csv\")\n",
    "    result[\"w_nc\"] = w_nc\n",
    "    stacked=stacked.append(result)"
   ]
  },
  {
   "cell_type": "code",
   "execution_count": 21,
   "metadata": {},
   "outputs": [],
   "source": [
    "grouped=stacked.groupby([\"w_nc\",\"chain_number\"])[[\"log_posterior\"]].agg(['min', 'max', 'mean', 'std'])"
   ]
  },
  {
   "cell_type": "code",
   "execution_count": 29,
   "metadata": {},
   "outputs": [],
   "source": [
    "true_post={\n",
    "    \"a\":-25177,\"b\":-25782,\\\n",
    "    \"c\":1,\"d\":-25773,\\\n",
    "    \"e\":-25884,\"f\":1\n",
    "}"
   ]
  },
  {
   "cell_type": "code",
   "execution_count": 30,
   "metadata": {},
   "outputs": [],
   "source": [
    "grouped[\"w_nc\"]=[x[0] for x in grouped.index]\n",
    "grouped[\"key\"]=np.where(grouped[\"w_nc\"]==0.0,\"a\",\\\n",
    "                        np.where(grouped[\"w_nc\"]==0.05,\"b\",\\\n",
    "                                np.where(grouped[\"w_nc\"]==0.1,\"c\",\\\n",
    "                                        np.where(grouped[\"w_nc\"]==0.15,\"d\",\\\n",
    "                                                np.where(grouped[\"w_nc\"]==0.2,\"e\",\"f\")\\\n",
    "                                                )\\\n",
    "                                        )\\\n",
    "                                )\\\n",
    "                        )"
   ]
  },
  {
   "cell_type": "code",
   "execution_count": 31,
   "metadata": {},
   "outputs": [
    {
     "data": {
      "text/html": [
       "<style  type=\"text/css\" >\n",
       "#T_e36fd6f6_530d_11eb_a27f_acde48001122row0_col0,#T_e36fd6f6_530d_11eb_a27f_acde48001122row0_col1,#T_e36fd6f6_530d_11eb_a27f_acde48001122row0_col2,#T_e36fd6f6_530d_11eb_a27f_acde48001122row0_col3,#T_e36fd6f6_530d_11eb_a27f_acde48001122row0_col4,#T_e36fd6f6_530d_11eb_a27f_acde48001122row0_col5,#T_e36fd6f6_530d_11eb_a27f_acde48001122row2_col0,#T_e36fd6f6_530d_11eb_a27f_acde48001122row2_col1,#T_e36fd6f6_530d_11eb_a27f_acde48001122row2_col2,#T_e36fd6f6_530d_11eb_a27f_acde48001122row2_col3,#T_e36fd6f6_530d_11eb_a27f_acde48001122row2_col4,#T_e36fd6f6_530d_11eb_a27f_acde48001122row2_col5,#T_e36fd6f6_530d_11eb_a27f_acde48001122row6_col0,#T_e36fd6f6_530d_11eb_a27f_acde48001122row6_col1,#T_e36fd6f6_530d_11eb_a27f_acde48001122row6_col2,#T_e36fd6f6_530d_11eb_a27f_acde48001122row6_col3,#T_e36fd6f6_530d_11eb_a27f_acde48001122row6_col4,#T_e36fd6f6_530d_11eb_a27f_acde48001122row6_col5,#T_e36fd6f6_530d_11eb_a27f_acde48001122row7_col0,#T_e36fd6f6_530d_11eb_a27f_acde48001122row7_col1,#T_e36fd6f6_530d_11eb_a27f_acde48001122row7_col2,#T_e36fd6f6_530d_11eb_a27f_acde48001122row7_col3,#T_e36fd6f6_530d_11eb_a27f_acde48001122row7_col4,#T_e36fd6f6_530d_11eb_a27f_acde48001122row7_col5,#T_e36fd6f6_530d_11eb_a27f_acde48001122row16_col0,#T_e36fd6f6_530d_11eb_a27f_acde48001122row16_col1,#T_e36fd6f6_530d_11eb_a27f_acde48001122row16_col2,#T_e36fd6f6_530d_11eb_a27f_acde48001122row16_col3,#T_e36fd6f6_530d_11eb_a27f_acde48001122row16_col4,#T_e36fd6f6_530d_11eb_a27f_acde48001122row16_col5,#T_e36fd6f6_530d_11eb_a27f_acde48001122row18_col0,#T_e36fd6f6_530d_11eb_a27f_acde48001122row18_col1,#T_e36fd6f6_530d_11eb_a27f_acde48001122row18_col2,#T_e36fd6f6_530d_11eb_a27f_acde48001122row18_col3,#T_e36fd6f6_530d_11eb_a27f_acde48001122row18_col4,#T_e36fd6f6_530d_11eb_a27f_acde48001122row18_col5,#T_e36fd6f6_530d_11eb_a27f_acde48001122row22_col0,#T_e36fd6f6_530d_11eb_a27f_acde48001122row22_col1,#T_e36fd6f6_530d_11eb_a27f_acde48001122row22_col2,#T_e36fd6f6_530d_11eb_a27f_acde48001122row22_col3,#T_e36fd6f6_530d_11eb_a27f_acde48001122row22_col4,#T_e36fd6f6_530d_11eb_a27f_acde48001122row22_col5,#T_e36fd6f6_530d_11eb_a27f_acde48001122row24_col0,#T_e36fd6f6_530d_11eb_a27f_acde48001122row24_col1,#T_e36fd6f6_530d_11eb_a27f_acde48001122row24_col2,#T_e36fd6f6_530d_11eb_a27f_acde48001122row24_col3,#T_e36fd6f6_530d_11eb_a27f_acde48001122row24_col4,#T_e36fd6f6_530d_11eb_a27f_acde48001122row24_col5{\n",
       "            background:  lightgreen;\n",
       "        }</style><table id=\"T_e36fd6f6_530d_11eb_a27f_acde48001122\" ><thead>    <tr>        <th class=\"blank\" ></th>        <th class=\"blank level0\" ></th>        <th class=\"col_heading level0 col0\" colspan=4>log_posterior</th>        <th class=\"col_heading level0 col4\" >w_nc</th>        <th class=\"col_heading level0 col5\" >key</th>    </tr>    <tr>        <th class=\"blank\" ></th>        <th class=\"blank level1\" ></th>        <th class=\"col_heading level1 col0\" >min</th>        <th class=\"col_heading level1 col1\" >max</th>        <th class=\"col_heading level1 col2\" >mean</th>        <th class=\"col_heading level1 col3\" >std</th>        <th class=\"col_heading level1 col4\" ></th>        <th class=\"col_heading level1 col5\" ></th>    </tr>    <tr>        <th class=\"index_name level0\" >w_nc</th>        <th class=\"index_name level1\" >chain_number</th>        <th class=\"blank\" ></th>        <th class=\"blank\" ></th>        <th class=\"blank\" ></th>        <th class=\"blank\" ></th>        <th class=\"blank\" ></th>        <th class=\"blank\" ></th>    </tr></thead><tbody>\n",
       "                <tr>\n",
       "                        <th id=\"T_e36fd6f6_530d_11eb_a27f_acde48001122level0_row0\" class=\"row_heading level0 row0\" rowspan=5>0.0</th>\n",
       "                        <th id=\"T_e36fd6f6_530d_11eb_a27f_acde48001122level1_row0\" class=\"row_heading level1 row0\" >0</th>\n",
       "                        <td id=\"T_e36fd6f6_530d_11eb_a27f_acde48001122row0_col0\" class=\"data row0 col0\" >-26786.586837</td>\n",
       "                        <td id=\"T_e36fd6f6_530d_11eb_a27f_acde48001122row0_col1\" class=\"data row0 col1\" >-25176.704951</td>\n",
       "                        <td id=\"T_e36fd6f6_530d_11eb_a27f_acde48001122row0_col2\" class=\"data row0 col2\" >-25434.017078</td>\n",
       "                        <td id=\"T_e36fd6f6_530d_11eb_a27f_acde48001122row0_col3\" class=\"data row0 col3\" >584.183858</td>\n",
       "                        <td id=\"T_e36fd6f6_530d_11eb_a27f_acde48001122row0_col4\" class=\"data row0 col4\" >0.000000</td>\n",
       "                        <td id=\"T_e36fd6f6_530d_11eb_a27f_acde48001122row0_col5\" class=\"data row0 col5\" >a</td>\n",
       "            </tr>\n",
       "            <tr>\n",
       "                                <th id=\"T_e36fd6f6_530d_11eb_a27f_acde48001122level1_row1\" class=\"row_heading level1 row1\" >1</th>\n",
       "                        <td id=\"T_e36fd6f6_530d_11eb_a27f_acde48001122row1_col0\" class=\"data row1 col0\" >-26852.759978</td>\n",
       "                        <td id=\"T_e36fd6f6_530d_11eb_a27f_acde48001122row1_col1\" class=\"data row1 col1\" >-26772.561281</td>\n",
       "                        <td id=\"T_e36fd6f6_530d_11eb_a27f_acde48001122row1_col2\" class=\"data row1 col2\" >-26774.062901</td>\n",
       "                        <td id=\"T_e36fd6f6_530d_11eb_a27f_acde48001122row1_col3\" class=\"data row1 col3\" >7.004465</td>\n",
       "                        <td id=\"T_e36fd6f6_530d_11eb_a27f_acde48001122row1_col4\" class=\"data row1 col4\" >0.000000</td>\n",
       "                        <td id=\"T_e36fd6f6_530d_11eb_a27f_acde48001122row1_col5\" class=\"data row1 col5\" >a</td>\n",
       "            </tr>\n",
       "            <tr>\n",
       "                                <th id=\"T_e36fd6f6_530d_11eb_a27f_acde48001122level1_row2\" class=\"row_heading level1 row2\" >2</th>\n",
       "                        <td id=\"T_e36fd6f6_530d_11eb_a27f_acde48001122row2_col0\" class=\"data row2 col0\" >-26906.229257</td>\n",
       "                        <td id=\"T_e36fd6f6_530d_11eb_a27f_acde48001122row2_col1\" class=\"data row2 col1\" >-25176.704951</td>\n",
       "                        <td id=\"T_e36fd6f6_530d_11eb_a27f_acde48001122row2_col2\" class=\"data row2 col2\" >-25229.315524</td>\n",
       "                        <td id=\"T_e36fd6f6_530d_11eb_a27f_acde48001122row2_col3\" class=\"data row2 col3\" >221.172967</td>\n",
       "                        <td id=\"T_e36fd6f6_530d_11eb_a27f_acde48001122row2_col4\" class=\"data row2 col4\" >0.000000</td>\n",
       "                        <td id=\"T_e36fd6f6_530d_11eb_a27f_acde48001122row2_col5\" class=\"data row2 col5\" >a</td>\n",
       "            </tr>\n",
       "            <tr>\n",
       "                                <th id=\"T_e36fd6f6_530d_11eb_a27f_acde48001122level1_row3\" class=\"row_heading level1 row3\" >3</th>\n",
       "                        <td id=\"T_e36fd6f6_530d_11eb_a27f_acde48001122row3_col0\" class=\"data row3 col0\" >-26910.911388</td>\n",
       "                        <td id=\"T_e36fd6f6_530d_11eb_a27f_acde48001122row3_col1\" class=\"data row3 col1\" >-26542.237328</td>\n",
       "                        <td id=\"T_e36fd6f6_530d_11eb_a27f_acde48001122row3_col2\" class=\"data row3 col2\" >-26651.219298</td>\n",
       "                        <td id=\"T_e36fd6f6_530d_11eb_a27f_acde48001122row3_col3\" class=\"data row3 col3\" >121.939795</td>\n",
       "                        <td id=\"T_e36fd6f6_530d_11eb_a27f_acde48001122row3_col4\" class=\"data row3 col4\" >0.000000</td>\n",
       "                        <td id=\"T_e36fd6f6_530d_11eb_a27f_acde48001122row3_col5\" class=\"data row3 col5\" >a</td>\n",
       "            </tr>\n",
       "            <tr>\n",
       "                                <th id=\"T_e36fd6f6_530d_11eb_a27f_acde48001122level1_row4\" class=\"row_heading level1 row4\" >4</th>\n",
       "                        <td id=\"T_e36fd6f6_530d_11eb_a27f_acde48001122row4_col0\" class=\"data row4 col0\" >-26859.213031</td>\n",
       "                        <td id=\"T_e36fd6f6_530d_11eb_a27f_acde48001122row4_col1\" class=\"data row4 col1\" >-26772.945909</td>\n",
       "                        <td id=\"T_e36fd6f6_530d_11eb_a27f_acde48001122row4_col2\" class=\"data row4 col2\" >-26780.181968</td>\n",
       "                        <td id=\"T_e36fd6f6_530d_11eb_a27f_acde48001122row4_col3\" class=\"data row4 col3\" >15.674899</td>\n",
       "                        <td id=\"T_e36fd6f6_530d_11eb_a27f_acde48001122row4_col4\" class=\"data row4 col4\" >0.000000</td>\n",
       "                        <td id=\"T_e36fd6f6_530d_11eb_a27f_acde48001122row4_col5\" class=\"data row4 col5\" >a</td>\n",
       "            </tr>\n",
       "            <tr>\n",
       "                        <th id=\"T_e36fd6f6_530d_11eb_a27f_acde48001122level0_row5\" class=\"row_heading level0 row5\" rowspan=5>0.05</th>\n",
       "                        <th id=\"T_e36fd6f6_530d_11eb_a27f_acde48001122level1_row5\" class=\"row_heading level1 row5\" >0</th>\n",
       "                        <td id=\"T_e36fd6f6_530d_11eb_a27f_acde48001122row5_col0\" class=\"data row5 col0\" >-26864.764194</td>\n",
       "                        <td id=\"T_e36fd6f6_530d_11eb_a27f_acde48001122row5_col1\" class=\"data row5 col1\" >-26330.513616</td>\n",
       "                        <td id=\"T_e36fd6f6_530d_11eb_a27f_acde48001122row5_col2\" class=\"data row5 col2\" >-26394.297899</td>\n",
       "                        <td id=\"T_e36fd6f6_530d_11eb_a27f_acde48001122row5_col3\" class=\"data row5 col3\" >163.664495</td>\n",
       "                        <td id=\"T_e36fd6f6_530d_11eb_a27f_acde48001122row5_col4\" class=\"data row5 col4\" >0.050000</td>\n",
       "                        <td id=\"T_e36fd6f6_530d_11eb_a27f_acde48001122row5_col5\" class=\"data row5 col5\" >b</td>\n",
       "            </tr>\n",
       "            <tr>\n",
       "                                <th id=\"T_e36fd6f6_530d_11eb_a27f_acde48001122level1_row6\" class=\"row_heading level1 row6\" >1</th>\n",
       "                        <td id=\"T_e36fd6f6_530d_11eb_a27f_acde48001122row6_col0\" class=\"data row6 col0\" >-26862.279287</td>\n",
       "                        <td id=\"T_e36fd6f6_530d_11eb_a27f_acde48001122row6_col1\" class=\"data row6 col1\" >-25781.819948</td>\n",
       "                        <td id=\"T_e36fd6f6_530d_11eb_a27f_acde48001122row6_col2\" class=\"data row6 col2\" >-26110.746621</td>\n",
       "                        <td id=\"T_e36fd6f6_530d_11eb_a27f_acde48001122row6_col3\" class=\"data row6 col3\" >431.760696</td>\n",
       "                        <td id=\"T_e36fd6f6_530d_11eb_a27f_acde48001122row6_col4\" class=\"data row6 col4\" >0.050000</td>\n",
       "                        <td id=\"T_e36fd6f6_530d_11eb_a27f_acde48001122row6_col5\" class=\"data row6 col5\" >b</td>\n",
       "            </tr>\n",
       "            <tr>\n",
       "                                <th id=\"T_e36fd6f6_530d_11eb_a27f_acde48001122level1_row7\" class=\"row_heading level1 row7\" >2</th>\n",
       "                        <td id=\"T_e36fd6f6_530d_11eb_a27f_acde48001122row7_col0\" class=\"data row7 col0\" >-26797.195223</td>\n",
       "                        <td id=\"T_e36fd6f6_530d_11eb_a27f_acde48001122row7_col1\" class=\"data row7 col1\" >-25781.819948</td>\n",
       "                        <td id=\"T_e36fd6f6_530d_11eb_a27f_acde48001122row7_col2\" class=\"data row7 col2\" >-25902.095152</td>\n",
       "                        <td id=\"T_e36fd6f6_530d_11eb_a27f_acde48001122row7_col3\" class=\"data row7 col3\" >291.951113</td>\n",
       "                        <td id=\"T_e36fd6f6_530d_11eb_a27f_acde48001122row7_col4\" class=\"data row7 col4\" >0.050000</td>\n",
       "                        <td id=\"T_e36fd6f6_530d_11eb_a27f_acde48001122row7_col5\" class=\"data row7 col5\" >b</td>\n",
       "            </tr>\n",
       "            <tr>\n",
       "                                <th id=\"T_e36fd6f6_530d_11eb_a27f_acde48001122level1_row8\" class=\"row_heading level1 row8\" >3</th>\n",
       "                        <td id=\"T_e36fd6f6_530d_11eb_a27f_acde48001122row8_col0\" class=\"data row8 col0\" >-26859.388915</td>\n",
       "                        <td id=\"T_e36fd6f6_530d_11eb_a27f_acde48001122row8_col1\" class=\"data row8 col1\" >-26350.877680</td>\n",
       "                        <td id=\"T_e36fd6f6_530d_11eb_a27f_acde48001122row8_col2\" class=\"data row8 col2\" >-26620.659279</td>\n",
       "                        <td id=\"T_e36fd6f6_530d_11eb_a27f_acde48001122row8_col3\" class=\"data row8 col3\" >157.284233</td>\n",
       "                        <td id=\"T_e36fd6f6_530d_11eb_a27f_acde48001122row8_col4\" class=\"data row8 col4\" >0.050000</td>\n",
       "                        <td id=\"T_e36fd6f6_530d_11eb_a27f_acde48001122row8_col5\" class=\"data row8 col5\" >b</td>\n",
       "            </tr>\n",
       "            <tr>\n",
       "                                <th id=\"T_e36fd6f6_530d_11eb_a27f_acde48001122level1_row9\" class=\"row_heading level1 row9\" >4</th>\n",
       "                        <td id=\"T_e36fd6f6_530d_11eb_a27f_acde48001122row9_col0\" class=\"data row9 col0\" >-26863.377900</td>\n",
       "                        <td id=\"T_e36fd6f6_530d_11eb_a27f_acde48001122row9_col1\" class=\"data row9 col1\" >-26655.511829</td>\n",
       "                        <td id=\"T_e36fd6f6_530d_11eb_a27f_acde48001122row9_col2\" class=\"data row9 col2\" >-26668.567280</td>\n",
       "                        <td id=\"T_e36fd6f6_530d_11eb_a27f_acde48001122row9_col3\" class=\"data row9 col3\" >36.749601</td>\n",
       "                        <td id=\"T_e36fd6f6_530d_11eb_a27f_acde48001122row9_col4\" class=\"data row9 col4\" >0.050000</td>\n",
       "                        <td id=\"T_e36fd6f6_530d_11eb_a27f_acde48001122row9_col5\" class=\"data row9 col5\" >b</td>\n",
       "            </tr>\n",
       "            <tr>\n",
       "                        <th id=\"T_e36fd6f6_530d_11eb_a27f_acde48001122level0_row10\" class=\"row_heading level0 row10\" rowspan=5>0.1</th>\n",
       "                        <th id=\"T_e36fd6f6_530d_11eb_a27f_acde48001122level1_row10\" class=\"row_heading level1 row10\" >0</th>\n",
       "                        <td id=\"T_e36fd6f6_530d_11eb_a27f_acde48001122row10_col0\" class=\"data row10 col0\" >-26723.073868</td>\n",
       "                        <td id=\"T_e36fd6f6_530d_11eb_a27f_acde48001122row10_col1\" class=\"data row10 col1\" >-26206.018037</td>\n",
       "                        <td id=\"T_e36fd6f6_530d_11eb_a27f_acde48001122row10_col2\" class=\"data row10 col2\" >-26310.036033</td>\n",
       "                        <td id=\"T_e36fd6f6_530d_11eb_a27f_acde48001122row10_col3\" class=\"data row10 col3\" >189.467046</td>\n",
       "                        <td id=\"T_e36fd6f6_530d_11eb_a27f_acde48001122row10_col4\" class=\"data row10 col4\" >0.100000</td>\n",
       "                        <td id=\"T_e36fd6f6_530d_11eb_a27f_acde48001122row10_col5\" class=\"data row10 col5\" >c</td>\n",
       "            </tr>\n",
       "            <tr>\n",
       "                                <th id=\"T_e36fd6f6_530d_11eb_a27f_acde48001122level1_row11\" class=\"row_heading level1 row11\" >1</th>\n",
       "                        <td id=\"T_e36fd6f6_530d_11eb_a27f_acde48001122row11_col0\" class=\"data row11 col0\" >-26836.529006</td>\n",
       "                        <td id=\"T_e36fd6f6_530d_11eb_a27f_acde48001122row11_col1\" class=\"data row11 col1\" >-26619.210316</td>\n",
       "                        <td id=\"T_e36fd6f6_530d_11eb_a27f_acde48001122row11_col2\" class=\"data row11 col2\" >-26625.696118</td>\n",
       "                        <td id=\"T_e36fd6f6_530d_11eb_a27f_acde48001122row11_col3\" class=\"data row11 col3\" >31.747838</td>\n",
       "                        <td id=\"T_e36fd6f6_530d_11eb_a27f_acde48001122row11_col4\" class=\"data row11 col4\" >0.100000</td>\n",
       "                        <td id=\"T_e36fd6f6_530d_11eb_a27f_acde48001122row11_col5\" class=\"data row11 col5\" >c</td>\n",
       "            </tr>\n",
       "            <tr>\n",
       "                                <th id=\"T_e36fd6f6_530d_11eb_a27f_acde48001122level1_row12\" class=\"row_heading level1 row12\" >2</th>\n",
       "                        <td id=\"T_e36fd6f6_530d_11eb_a27f_acde48001122row12_col0\" class=\"data row12 col0\" >-26862.943920</td>\n",
       "                        <td id=\"T_e36fd6f6_530d_11eb_a27f_acde48001122row12_col1\" class=\"data row12 col1\" >-26206.018037</td>\n",
       "                        <td id=\"T_e36fd6f6_530d_11eb_a27f_acde48001122row12_col2\" class=\"data row12 col2\" >-26561.308973</td>\n",
       "                        <td id=\"T_e36fd6f6_530d_11eb_a27f_acde48001122row12_col3\" class=\"data row12 col3\" >234.241765</td>\n",
       "                        <td id=\"T_e36fd6f6_530d_11eb_a27f_acde48001122row12_col4\" class=\"data row12 col4\" >0.100000</td>\n",
       "                        <td id=\"T_e36fd6f6_530d_11eb_a27f_acde48001122row12_col5\" class=\"data row12 col5\" >c</td>\n",
       "            </tr>\n",
       "            <tr>\n",
       "                                <th id=\"T_e36fd6f6_530d_11eb_a27f_acde48001122level1_row13\" class=\"row_heading level1 row13\" >3</th>\n",
       "                        <td id=\"T_e36fd6f6_530d_11eb_a27f_acde48001122row13_col0\" class=\"data row13 col0\" >-26864.735680</td>\n",
       "                        <td id=\"T_e36fd6f6_530d_11eb_a27f_acde48001122row13_col1\" class=\"data row13 col1\" >-26392.178876</td>\n",
       "                        <td id=\"T_e36fd6f6_530d_11eb_a27f_acde48001122row13_col2\" class=\"data row13 col2\" >-26400.047076</td>\n",
       "                        <td id=\"T_e36fd6f6_530d_11eb_a27f_acde48001122row13_col3\" class=\"data row13 col3\" >33.264805</td>\n",
       "                        <td id=\"T_e36fd6f6_530d_11eb_a27f_acde48001122row13_col4\" class=\"data row13 col4\" >0.100000</td>\n",
       "                        <td id=\"T_e36fd6f6_530d_11eb_a27f_acde48001122row13_col5\" class=\"data row13 col5\" >c</td>\n",
       "            </tr>\n",
       "            <tr>\n",
       "                                <th id=\"T_e36fd6f6_530d_11eb_a27f_acde48001122level1_row14\" class=\"row_heading level1 row14\" >4</th>\n",
       "                        <td id=\"T_e36fd6f6_530d_11eb_a27f_acde48001122row14_col0\" class=\"data row14 col0\" >-26869.417811</td>\n",
       "                        <td id=\"T_e36fd6f6_530d_11eb_a27f_acde48001122row14_col1\" class=\"data row14 col1\" >-26392.178876</td>\n",
       "                        <td id=\"T_e36fd6f6_530d_11eb_a27f_acde48001122row14_col2\" class=\"data row14 col2\" >-26692.790342</td>\n",
       "                        <td id=\"T_e36fd6f6_530d_11eb_a27f_acde48001122row14_col3\" class=\"data row14 col3\" >87.962119</td>\n",
       "                        <td id=\"T_e36fd6f6_530d_11eb_a27f_acde48001122row14_col4\" class=\"data row14 col4\" >0.100000</td>\n",
       "                        <td id=\"T_e36fd6f6_530d_11eb_a27f_acde48001122row14_col5\" class=\"data row14 col5\" >c</td>\n",
       "            </tr>\n",
       "            <tr>\n",
       "                        <th id=\"T_e36fd6f6_530d_11eb_a27f_acde48001122level0_row15\" class=\"row_heading level0 row15\" rowspan=5>0.15</th>\n",
       "                        <th id=\"T_e36fd6f6_530d_11eb_a27f_acde48001122level1_row15\" class=\"row_heading level1 row15\" >0</th>\n",
       "                        <td id=\"T_e36fd6f6_530d_11eb_a27f_acde48001122row15_col0\" class=\"data row15 col0\" >-26869.478639</td>\n",
       "                        <td id=\"T_e36fd6f6_530d_11eb_a27f_acde48001122row15_col1\" class=\"data row15 col1\" >-26439.464372</td>\n",
       "                        <td id=\"T_e36fd6f6_530d_11eb_a27f_acde48001122row15_col2\" class=\"data row15 col2\" >-26471.639750</td>\n",
       "                        <td id=\"T_e36fd6f6_530d_11eb_a27f_acde48001122row15_col3\" class=\"data row15 col3\" >109.645794</td>\n",
       "                        <td id=\"T_e36fd6f6_530d_11eb_a27f_acde48001122row15_col4\" class=\"data row15 col4\" >0.150000</td>\n",
       "                        <td id=\"T_e36fd6f6_530d_11eb_a27f_acde48001122row15_col5\" class=\"data row15 col5\" >d</td>\n",
       "            </tr>\n",
       "            <tr>\n",
       "                                <th id=\"T_e36fd6f6_530d_11eb_a27f_acde48001122level1_row16\" class=\"row_heading level1 row16\" >1</th>\n",
       "                        <td id=\"T_e36fd6f6_530d_11eb_a27f_acde48001122row16_col0\" class=\"data row16 col0\" >-26633.523972</td>\n",
       "                        <td id=\"T_e36fd6f6_530d_11eb_a27f_acde48001122row16_col1\" class=\"data row16 col1\" >-25772.776412</td>\n",
       "                        <td id=\"T_e36fd6f6_530d_11eb_a27f_acde48001122row16_col2\" class=\"data row16 col2\" >-25825.625902</td>\n",
       "                        <td id=\"T_e36fd6f6_530d_11eb_a27f_acde48001122row16_col3\" class=\"data row16 col3\" >160.479678</td>\n",
       "                        <td id=\"T_e36fd6f6_530d_11eb_a27f_acde48001122row16_col4\" class=\"data row16 col4\" >0.150000</td>\n",
       "                        <td id=\"T_e36fd6f6_530d_11eb_a27f_acde48001122row16_col5\" class=\"data row16 col5\" >d</td>\n",
       "            </tr>\n",
       "            <tr>\n",
       "                                <th id=\"T_e36fd6f6_530d_11eb_a27f_acde48001122level1_row17\" class=\"row_heading level1 row17\" >2</th>\n",
       "                        <td id=\"T_e36fd6f6_530d_11eb_a27f_acde48001122row17_col0\" class=\"data row17 col0\" >-26864.391043</td>\n",
       "                        <td id=\"T_e36fd6f6_530d_11eb_a27f_acde48001122row17_col1\" class=\"data row17 col1\" >-26294.746163</td>\n",
       "                        <td id=\"T_e36fd6f6_530d_11eb_a27f_acde48001122row17_col2\" class=\"data row17 col2\" >-26698.138486</td>\n",
       "                        <td id=\"T_e36fd6f6_530d_11eb_a27f_acde48001122row17_col3\" class=\"data row17 col3\" >193.529704</td>\n",
       "                        <td id=\"T_e36fd6f6_530d_11eb_a27f_acde48001122row17_col4\" class=\"data row17 col4\" >0.150000</td>\n",
       "                        <td id=\"T_e36fd6f6_530d_11eb_a27f_acde48001122row17_col5\" class=\"data row17 col5\" >d</td>\n",
       "            </tr>\n",
       "            <tr>\n",
       "                                <th id=\"T_e36fd6f6_530d_11eb_a27f_acde48001122level1_row18\" class=\"row_heading level1 row18\" >3</th>\n",
       "                        <td id=\"T_e36fd6f6_530d_11eb_a27f_acde48001122row18_col0\" class=\"data row18 col0\" >-26897.227922</td>\n",
       "                        <td id=\"T_e36fd6f6_530d_11eb_a27f_acde48001122row18_col1\" class=\"data row18 col1\" >-25772.776412</td>\n",
       "                        <td id=\"T_e36fd6f6_530d_11eb_a27f_acde48001122row18_col2\" class=\"data row18 col2\" >-26204.999982</td>\n",
       "                        <td id=\"T_e36fd6f6_530d_11eb_a27f_acde48001122row18_col3\" class=\"data row18 col3\" >420.610291</td>\n",
       "                        <td id=\"T_e36fd6f6_530d_11eb_a27f_acde48001122row18_col4\" class=\"data row18 col4\" >0.150000</td>\n",
       "                        <td id=\"T_e36fd6f6_530d_11eb_a27f_acde48001122row18_col5\" class=\"data row18 col5\" >d</td>\n",
       "            </tr>\n",
       "            <tr>\n",
       "                                <th id=\"T_e36fd6f6_530d_11eb_a27f_acde48001122level1_row19\" class=\"row_heading level1 row19\" >4</th>\n",
       "                        <td id=\"T_e36fd6f6_530d_11eb_a27f_acde48001122row19_col0\" class=\"data row19 col0\" >-26864.391043</td>\n",
       "                        <td id=\"T_e36fd6f6_530d_11eb_a27f_acde48001122row19_col1\" class=\"data row19 col1\" >-26294.746163</td>\n",
       "                        <td id=\"T_e36fd6f6_530d_11eb_a27f_acde48001122row19_col2\" class=\"data row19 col2\" >-26690.791087</td>\n",
       "                        <td id=\"T_e36fd6f6_530d_11eb_a27f_acde48001122row19_col3\" class=\"data row19 col3\" >115.621375</td>\n",
       "                        <td id=\"T_e36fd6f6_530d_11eb_a27f_acde48001122row19_col4\" class=\"data row19 col4\" >0.150000</td>\n",
       "                        <td id=\"T_e36fd6f6_530d_11eb_a27f_acde48001122row19_col5\" class=\"data row19 col5\" >d</td>\n",
       "            </tr>\n",
       "            <tr>\n",
       "                        <th id=\"T_e36fd6f6_530d_11eb_a27f_acde48001122level0_row20\" class=\"row_heading level0 row20\" rowspan=5>0.2</th>\n",
       "                        <th id=\"T_e36fd6f6_530d_11eb_a27f_acde48001122level1_row20\" class=\"row_heading level1 row20\" >0</th>\n",
       "                        <td id=\"T_e36fd6f6_530d_11eb_a27f_acde48001122row20_col0\" class=\"data row20 col0\" >-26869.923238</td>\n",
       "                        <td id=\"T_e36fd6f6_530d_11eb_a27f_acde48001122row20_col1\" class=\"data row20 col1\" >-26767.543194</td>\n",
       "                        <td id=\"T_e36fd6f6_530d_11eb_a27f_acde48001122row20_col2\" class=\"data row20 col2\" >-26770.860427</td>\n",
       "                        <td id=\"T_e36fd6f6_530d_11eb_a27f_acde48001122row20_col3\" class=\"data row20 col3\" >16.696603</td>\n",
       "                        <td id=\"T_e36fd6f6_530d_11eb_a27f_acde48001122row20_col4\" class=\"data row20 col4\" >0.200000</td>\n",
       "                        <td id=\"T_e36fd6f6_530d_11eb_a27f_acde48001122row20_col5\" class=\"data row20 col5\" >e</td>\n",
       "            </tr>\n",
       "            <tr>\n",
       "                                <th id=\"T_e36fd6f6_530d_11eb_a27f_acde48001122level1_row21\" class=\"row_heading level1 row21\" >1</th>\n",
       "                        <td id=\"T_e36fd6f6_530d_11eb_a27f_acde48001122row21_col0\" class=\"data row21 col0\" >-26845.342921</td>\n",
       "                        <td id=\"T_e36fd6f6_530d_11eb_a27f_acde48001122row21_col1\" class=\"data row21 col1\" >-26623.739948</td>\n",
       "                        <td id=\"T_e36fd6f6_530d_11eb_a27f_acde48001122row21_col2\" class=\"data row21 col2\" >-26667.318525</td>\n",
       "                        <td id=\"T_e36fd6f6_530d_11eb_a27f_acde48001122row21_col3\" class=\"data row21 col3\" >79.675311</td>\n",
       "                        <td id=\"T_e36fd6f6_530d_11eb_a27f_acde48001122row21_col4\" class=\"data row21 col4\" >0.200000</td>\n",
       "                        <td id=\"T_e36fd6f6_530d_11eb_a27f_acde48001122row21_col5\" class=\"data row21 col5\" >e</td>\n",
       "            </tr>\n",
       "            <tr>\n",
       "                                <th id=\"T_e36fd6f6_530d_11eb_a27f_acde48001122level1_row22\" class=\"row_heading level1 row22\" >2</th>\n",
       "                        <td id=\"T_e36fd6f6_530d_11eb_a27f_acde48001122row22_col0\" class=\"data row22 col0\" >-26914.642277</td>\n",
       "                        <td id=\"T_e36fd6f6_530d_11eb_a27f_acde48001122row22_col1\" class=\"data row22 col1\" >-25883.433245</td>\n",
       "                        <td id=\"T_e36fd6f6_530d_11eb_a27f_acde48001122row22_col2\" class=\"data row22 col2\" >-26103.891209</td>\n",
       "                        <td id=\"T_e36fd6f6_530d_11eb_a27f_acde48001122row22_col3\" class=\"data row22 col3\" >390.336179</td>\n",
       "                        <td id=\"T_e36fd6f6_530d_11eb_a27f_acde48001122row22_col4\" class=\"data row22 col4\" >0.200000</td>\n",
       "                        <td id=\"T_e36fd6f6_530d_11eb_a27f_acde48001122row22_col5\" class=\"data row22 col5\" >e</td>\n",
       "            </tr>\n",
       "            <tr>\n",
       "                                <th id=\"T_e36fd6f6_530d_11eb_a27f_acde48001122level1_row23\" class=\"row_heading level1 row23\" >3</th>\n",
       "                        <td id=\"T_e36fd6f6_530d_11eb_a27f_acde48001122row23_col0\" class=\"data row23 col0\" >-26890.598158</td>\n",
       "                        <td id=\"T_e36fd6f6_530d_11eb_a27f_acde48001122row23_col1\" class=\"data row23 col1\" >-25993.578671</td>\n",
       "                        <td id=\"T_e36fd6f6_530d_11eb_a27f_acde48001122row23_col2\" class=\"data row23 col2\" >-26195.989939</td>\n",
       "                        <td id=\"T_e36fd6f6_530d_11eb_a27f_acde48001122row23_col3\" class=\"data row23 col3\" >337.563294</td>\n",
       "                        <td id=\"T_e36fd6f6_530d_11eb_a27f_acde48001122row23_col4\" class=\"data row23 col4\" >0.200000</td>\n",
       "                        <td id=\"T_e36fd6f6_530d_11eb_a27f_acde48001122row23_col5\" class=\"data row23 col5\" >e</td>\n",
       "            </tr>\n",
       "            <tr>\n",
       "                                <th id=\"T_e36fd6f6_530d_11eb_a27f_acde48001122level1_row24\" class=\"row_heading level1 row24\" >4</th>\n",
       "                        <td id=\"T_e36fd6f6_530d_11eb_a27f_acde48001122row24_col0\" class=\"data row24 col0\" >-26911.303641</td>\n",
       "                        <td id=\"T_e36fd6f6_530d_11eb_a27f_acde48001122row24_col1\" class=\"data row24 col1\" >-25883.433245</td>\n",
       "                        <td id=\"T_e36fd6f6_530d_11eb_a27f_acde48001122row24_col2\" class=\"data row24 col2\" >-25917.624288</td>\n",
       "                        <td id=\"T_e36fd6f6_530d_11eb_a27f_acde48001122row24_col3\" class=\"data row24 col3\" >167.827249</td>\n",
       "                        <td id=\"T_e36fd6f6_530d_11eb_a27f_acde48001122row24_col4\" class=\"data row24 col4\" >0.200000</td>\n",
       "                        <td id=\"T_e36fd6f6_530d_11eb_a27f_acde48001122row24_col5\" class=\"data row24 col5\" >e</td>\n",
       "            </tr>\n",
       "    </tbody></table>"
      ],
      "text/plain": [
       "<pandas.io.formats.style.Styler at 0x126279c10>"
      ]
     },
     "execution_count": 31,
     "metadata": {},
     "output_type": "execute_result"
    }
   ],
   "source": [
    "grouped.style.apply(lambda x: ['background: lightgreen' if x['log_posterior',  'max'] >=\\\n",
    "                               true_post[x[\"key\"].values.item()] else '' for i in x], \n",
    "               axis=1)"
   ]
  },
  {
   "cell_type": "markdown",
   "metadata": {},
   "source": [
    "### 5. If True Norm, features in Top Norms"
   ]
  },
  {
   "cell_type": "code",
   "execution_count": 32,
   "metadata": {},
   "outputs": [],
   "source": [
    "top_norms=stacked.groupby([\"w_nc\",\"expression\"]\\\n",
    "               )[[\"chain_number\",\"log_posterior\"\\\n",
    "                 ]].agg({\"log_posterior\":'mean',\"chain_number\":\"count\"}\\\n",
    "                       ).sort_values(by=[\"chain_number\"]\\\n",
    "                                    ).groupby([\"w_nc\"\\\n",
    "                                              ]).tail(20).sort_values(by=[\"w_nc\",\"chain_number\"],\\\n",
    "                                                                     ascending=[True, False])"
   ]
  },
  {
   "cell_type": "code",
   "execution_count": 33,
   "metadata": {},
   "outputs": [],
   "source": [
    "top_norms[\"grp_rnk\"]=top_norms.groupby(\"w_nc\")[[\"chain_number\"]].rank(method='dense',ascending=False)"
   ]
  },
  {
   "cell_type": "code",
   "execution_count": 34,
   "metadata": {},
   "outputs": [
    {
     "data": {
      "text/html": [
       "<style  type=\"text/css\" >\n",
       "#T_e7705d5c_530d_11eb_a27f_acde48001122row0_col0,#T_e7705d5c_530d_11eb_a27f_acde48001122row0_col1,#T_e7705d5c_530d_11eb_a27f_acde48001122row0_col2,#T_e7705d5c_530d_11eb_a27f_acde48001122row1_col0,#T_e7705d5c_530d_11eb_a27f_acde48001122row1_col1,#T_e7705d5c_530d_11eb_a27f_acde48001122row1_col2{\n",
       "            background:  lightgreen;\n",
       "        }</style><table id=\"T_e7705d5c_530d_11eb_a27f_acde48001122\" ><thead>    <tr>        <th class=\"blank level0\" ></th>        <th class=\"col_heading level0 col0\" >log_posterior</th>        <th class=\"col_heading level0 col1\" >chain_number</th>        <th class=\"col_heading level0 col2\" >grp_rnk</th>    </tr>    <tr>        <th class=\"index_name level0\" >expression</th>        <th class=\"blank\" ></th>        <th class=\"blank\" ></th>        <th class=\"blank\" ></th>    </tr></thead><tbody>\n",
       "                <tr>\n",
       "                        <th id=\"T_e7705d5c_530d_11eb_a27f_acde48001122level0_row0\" class=\"row_heading level0 row0\" >['Norms', ['Obl', ['Moved', ['Colour', 'any'], ['Shape', 'circle'], ['Zone', '1'], ['Next-Move', ['Colour', 'any'], ['Shape', 'any']]], ['Zone', '2']], ['Per', ['Action', 'putdown'], ['Colour', 'any'], ['Shape', 'square'], ['PerZone', '3']]]</th>\n",
       "                        <td id=\"T_e7705d5c_530d_11eb_a27f_acde48001122row0_col0\" class=\"data row0 col0\" >-25176.704951</td>\n",
       "                        <td id=\"T_e7705d5c_530d_11eb_a27f_acde48001122row0_col1\" class=\"data row0 col1\" >4745</td>\n",
       "                        <td id=\"T_e7705d5c_530d_11eb_a27f_acde48001122row0_col2\" class=\"data row0 col2\" >1.000000</td>\n",
       "            </tr>\n",
       "            <tr>\n",
       "                        <th id=\"T_e7705d5c_530d_11eb_a27f_acde48001122level0_row1\" class=\"row_heading level0 row1\" >['Norms', ['Obl', ['Moved', ['Colour', 'r'], ['Shape', 'any'], ['Zone', '1'], ['Next-Move', ['Colour', 'any'], ['Shape', 'any']]], ['Zone', '2']], ['Per', ['Action', 'putdown'], ['Colour', 'any'], ['Shape', 'square'], ['PerZone', '3']]]</th>\n",
       "                        <td id=\"T_e7705d5c_530d_11eb_a27f_acde48001122row1_col0\" class=\"data row1 col0\" >-25176.704951</td>\n",
       "                        <td id=\"T_e7705d5c_530d_11eb_a27f_acde48001122row1_col1\" class=\"data row1 col1\" >4285</td>\n",
       "                        <td id=\"T_e7705d5c_530d_11eb_a27f_acde48001122row1_col2\" class=\"data row1 col2\" >2.000000</td>\n",
       "            </tr>\n",
       "            <tr>\n",
       "                        <th id=\"T_e7705d5c_530d_11eb_a27f_acde48001122level0_row2\" class=\"row_heading level0 row2\" >['Norms', ['Obl', ['Moved', ['Colour', 'b'], ['Shape', 'any'], ['Zone', '3'], ['Moved', ['Colour', 'any'], ['Shape', 'any'], ['Zone', '3'], ['Next-Move', ['Colour', 'b'], ['Shape', 'any']]]], ['Zone', '3']], ['Per', ['Action', 'putdown'], ['Colour', 'any'], ['Shape', 'triangle'], ['PerZone', '2']]]</th>\n",
       "                        <td id=\"T_e7705d5c_530d_11eb_a27f_acde48001122row2_col0\" class=\"data row2 col0\" >-26772.561281</td>\n",
       "                        <td id=\"T_e7705d5c_530d_11eb_a27f_acde48001122row2_col1\" class=\"data row2 col1\" >2225</td>\n",
       "                        <td id=\"T_e7705d5c_530d_11eb_a27f_acde48001122row2_col2\" class=\"data row2 col2\" >3.000000</td>\n",
       "            </tr>\n",
       "            <tr>\n",
       "                        <th id=\"T_e7705d5c_530d_11eb_a27f_acde48001122level0_row3\" class=\"row_heading level0 row3\" >['Norm', ['Obl', ['Moved', ['Colour', 'any'], ['Shape', 'triangle'], ['Zone', '3'], ['Next-Move', ['Colour', 'g'], ['Shape', 'any']]], ['Zone', '1']]]</th>\n",
       "                        <td id=\"T_e7705d5c_530d_11eb_a27f_acde48001122row3_col0\" class=\"data row3 col0\" >-26542.237328</td>\n",
       "                        <td id=\"T_e7705d5c_530d_11eb_a27f_acde48001122row3_col1\" class=\"data row3 col1\" >1951</td>\n",
       "                        <td id=\"T_e7705d5c_530d_11eb_a27f_acde48001122row3_col2\" class=\"data row3 col2\" >4.000000</td>\n",
       "            </tr>\n",
       "            <tr>\n",
       "                        <th id=\"T_e7705d5c_530d_11eb_a27f_acde48001122level0_row4\" class=\"row_heading level0 row4\" >['Norms', ['Obl', ['Moved', ['Colour', 'r'], ['Shape', 'circle'], ['Zone', '1'], ['Next-Move', ['Colour', 'any'], ['Shape', 'any']]], ['Zone', '2']], ['Per', ['Action', 'putdown'], ['Colour', 'any'], ['Shape', 'square'], ['PerZone', '3']]]</th>\n",
       "                        <td id=\"T_e7705d5c_530d_11eb_a27f_acde48001122row4_col0\" class=\"data row4 col0\" >-25177.803563</td>\n",
       "                        <td id=\"T_e7705d5c_530d_11eb_a27f_acde48001122row4_col1\" class=\"data row4 col1\" >1604</td>\n",
       "                        <td id=\"T_e7705d5c_530d_11eb_a27f_acde48001122row4_col2\" class=\"data row4 col2\" >5.000000</td>\n",
       "            </tr>\n",
       "            <tr>\n",
       "                        <th id=\"T_e7705d5c_530d_11eb_a27f_acde48001122level0_row5\" class=\"row_heading level0 row5\" >['Norms', ['Obl', ['Moved', ['Colour', 'b'], ['Shape', 'any'], ['Zone', '3'], ['Moved', ['Colour', 'r'], ['Shape', 'any'], ['Zone', '3'], ['Next-Move', ['Colour', 'b'], ['Shape', 'any']]]], ['Zone', '3']], ['Per', ['Action', 'putdown'], ['Colour', 'any'], ['Shape', 'triangle'], ['PerZone', '2']]]</th>\n",
       "                        <td id=\"T_e7705d5c_530d_11eb_a27f_acde48001122row5_col0\" class=\"data row5 col0\" >-26773.659894</td>\n",
       "                        <td id=\"T_e7705d5c_530d_11eb_a27f_acde48001122row5_col1\" class=\"data row5 col1\" >1029</td>\n",
       "                        <td id=\"T_e7705d5c_530d_11eb_a27f_acde48001122row5_col2\" class=\"data row5 col2\" >6.000000</td>\n",
       "            </tr>\n",
       "            <tr>\n",
       "                        <th id=\"T_e7705d5c_530d_11eb_a27f_acde48001122level0_row6\" class=\"row_heading level0 row6\" >['Norms', ['Obl', ['Moved', ['Colour', 'b'], ['Shape', 'any'], ['Zone', '3'], ['Moved', ['Colour', 'any'], ['Shape', 'circle'], ['Zone', '3'], ['Next-Move', ['Colour', 'b'], ['Shape', 'any']]]], ['Zone', '3']], ['Per', ['Action', 'putdown'], ['Colour', 'any'], ['Shape', 'triangle'], ['PerZone', '2']]]</th>\n",
       "                        <td id=\"T_e7705d5c_530d_11eb_a27f_acde48001122row6_col0\" class=\"data row6 col0\" >-26773.659894</td>\n",
       "                        <td id=\"T_e7705d5c_530d_11eb_a27f_acde48001122row6_col1\" class=\"data row6 col1\" >898</td>\n",
       "                        <td id=\"T_e7705d5c_530d_11eb_a27f_acde48001122row6_col2\" class=\"data row6 col2\" >7.000000</td>\n",
       "            </tr>\n",
       "            <tr>\n",
       "                        <th id=\"T_e7705d5c_530d_11eb_a27f_acde48001122level0_row7\" class=\"row_heading level0 row7\" >['Norms', ['Obl', ['Moved', ['Colour', 'b'], ['Shape', 'any'], ['Zone', '3'], ['Moved', ['Colour', 'any'], ['Shape', 'any'], ['Zone', '3'], ['Next-Move', ['Colour', 'b'], ['Shape', 'any']]]], ['Zone', '3']], ['Per', ['Action', 'putdown'], ['Colour', 'b'], ['Shape', 'triangle'], ['PerZone', '2']]]</th>\n",
       "                        <td id=\"T_e7705d5c_530d_11eb_a27f_acde48001122row7_col0\" class=\"data row7 col0\" >-26773.659894</td>\n",
       "                        <td id=\"T_e7705d5c_530d_11eb_a27f_acde48001122row7_col1\" class=\"data row7 col1\" >842</td>\n",
       "                        <td id=\"T_e7705d5c_530d_11eb_a27f_acde48001122row7_col2\" class=\"data row7 col2\" >8.000000</td>\n",
       "            </tr>\n",
       "            <tr>\n",
       "                        <th id=\"T_e7705d5c_530d_11eb_a27f_acde48001122level0_row8\" class=\"row_heading level0 row8\" >['Norm', ['Obl', ['Moved', ['Colour', 'b'], ['Shape', 'any'], ['Zone', '1'], ['Next-Move', ['Colour', 'b'], ['Shape', 'square']]], ['Zone', '1']]]</th>\n",
       "                        <td id=\"T_e7705d5c_530d_11eb_a27f_acde48001122row8_col0\" class=\"data row8 col0\" >-26774.044521</td>\n",
       "                        <td id=\"T_e7705d5c_530d_11eb_a27f_acde48001122row8_col1\" class=\"data row8 col1\" >729</td>\n",
       "                        <td id=\"T_e7705d5c_530d_11eb_a27f_acde48001122row8_col2\" class=\"data row8 col2\" >9.000000</td>\n",
       "            </tr>\n",
       "            <tr>\n",
       "                        <th id=\"T_e7705d5c_530d_11eb_a27f_acde48001122level0_row9\" class=\"row_heading level0 row9\" >['Norm', ['Obl', ['Moved', ['Colour', 'b'], ['Shape', 'triangle'], ['Zone', '3'], ['Next-Move', ['Colour', 'g'], ['Shape', 'any']]], ['Zone', '1']]]</th>\n",
       "                        <td id=\"T_e7705d5c_530d_11eb_a27f_acde48001122row9_col0\" class=\"data row9 col0\" >-26543.335940</td>\n",
       "                        <td id=\"T_e7705d5c_530d_11eb_a27f_acde48001122row9_col1\" class=\"data row9 col1\" >657</td>\n",
       "                        <td id=\"T_e7705d5c_530d_11eb_a27f_acde48001122row9_col2\" class=\"data row9 col2\" >10.000000</td>\n",
       "            </tr>\n",
       "    </tbody></table>"
      ],
      "text/plain": [
       "<pandas.io.formats.style.Styler at 0x12765aa30>"
      ]
     },
     "execution_count": 34,
     "metadata": {},
     "output_type": "execute_result"
    }
   ],
   "source": [
    "top_norms.loc[0.0].head(10).style.apply(lambda x: ['background: lightgreen' if x['log_posterior'] >=\\\n",
    "                               true_post[\"a\"] else '' for i in x], \n",
    "               axis=1)"
   ]
  },
  {
   "cell_type": "code",
   "execution_count": 35,
   "metadata": {},
   "outputs": [
    {
     "data": {
      "text/html": [
       "<style  type=\"text/css\" >\n",
       "#T_eb7cc84a_530d_11eb_a27f_acde48001122row1_col0,#T_eb7cc84a_530d_11eb_a27f_acde48001122row1_col1,#T_eb7cc84a_530d_11eb_a27f_acde48001122row1_col2,#T_eb7cc84a_530d_11eb_a27f_acde48001122row2_col0,#T_eb7cc84a_530d_11eb_a27f_acde48001122row2_col1,#T_eb7cc84a_530d_11eb_a27f_acde48001122row2_col2{\n",
       "            background:  lightgreen;\n",
       "        }</style><table id=\"T_eb7cc84a_530d_11eb_a27f_acde48001122\" ><thead>    <tr>        <th class=\"blank level0\" ></th>        <th class=\"col_heading level0 col0\" >log_posterior</th>        <th class=\"col_heading level0 col1\" >chain_number</th>        <th class=\"col_heading level0 col2\" >grp_rnk</th>    </tr>    <tr>        <th class=\"index_name level0\" >expression</th>        <th class=\"blank\" ></th>        <th class=\"blank\" ></th>        <th class=\"blank\" ></th>    </tr></thead><tbody>\n",
       "                <tr>\n",
       "                        <th id=\"T_eb7cc84a_530d_11eb_a27f_acde48001122level0_row0\" class=\"row_heading level0 row0\" >['Norms', ['Obl', ['Moved', ['Colour', 'any'], ['Shape', 'any'], ['Zone', '1'], ['Moved', ['Colour', 'any'], ['Shape', 'any'], ['Zone', '1'], ['Next-Move', ['Colour', 'any'], ['Shape', 'square']]]], ['Zone', '3']], ['Per', ['Action', 'putdown'], ['Colour', 'g'], ['Shape', 'any'], ['PerZone', '2']]]</th>\n",
       "                        <td id=\"T_eb7cc84a_530d_11eb_a27f_acde48001122row0_col0\" class=\"data row0 col0\" >-26655.511829</td>\n",
       "                        <td id=\"T_eb7cc84a_530d_11eb_a27f_acde48001122row0_col1\" class=\"data row0 col1\" >4274</td>\n",
       "                        <td id=\"T_eb7cc84a_530d_11eb_a27f_acde48001122row0_col2\" class=\"data row0 col2\" >1.000000</td>\n",
       "            </tr>\n",
       "            <tr>\n",
       "                        <th id=\"T_eb7cc84a_530d_11eb_a27f_acde48001122level0_row1\" class=\"row_heading level0 row1\" >['Norms', ['Obl', ['Moved', ['Colour', 'r'], ['Shape', 'any'], ['Zone', '1'], ['Next-Move', ['Colour', 'any'], ['Shape', 'any']]], ['Zone', '2']], ['Per', ['Action', 'putdown'], ['Colour', 'any'], ['Shape', 'square'], ['PerZone', '3']]]</th>\n",
       "                        <td id=\"T_eb7cc84a_530d_11eb_a27f_acde48001122row1_col0\" class=\"data row1 col0\" >-25781.819948</td>\n",
       "                        <td id=\"T_eb7cc84a_530d_11eb_a27f_acde48001122row1_col1\" class=\"data row1 col1\" >2973</td>\n",
       "                        <td id=\"T_eb7cc84a_530d_11eb_a27f_acde48001122row1_col2\" class=\"data row1 col2\" >2.000000</td>\n",
       "            </tr>\n",
       "            <tr>\n",
       "                        <th id=\"T_eb7cc84a_530d_11eb_a27f_acde48001122level0_row2\" class=\"row_heading level0 row2\" >['Norms', ['Obl', ['Moved', ['Colour', 'any'], ['Shape', 'circle'], ['Zone', '1'], ['Next-Move', ['Colour', 'any'], ['Shape', 'any']]], ['Zone', '2']], ['Per', ['Action', 'putdown'], ['Colour', 'any'], ['Shape', 'square'], ['PerZone', '3']]]</th>\n",
       "                        <td id=\"T_eb7cc84a_530d_11eb_a27f_acde48001122row2_col0\" class=\"data row2 col0\" >-25781.819948</td>\n",
       "                        <td id=\"T_eb7cc84a_530d_11eb_a27f_acde48001122row2_col1\" class=\"data row2 col1\" >2561</td>\n",
       "                        <td id=\"T_eb7cc84a_530d_11eb_a27f_acde48001122row2_col2\" class=\"data row2 col2\" >3.000000</td>\n",
       "            </tr>\n",
       "            <tr>\n",
       "                        <th id=\"T_eb7cc84a_530d_11eb_a27f_acde48001122level0_row3\" class=\"row_heading level0 row3\" >['Norm', ['Obl', ['Moved', ['Colour', 'any'], ['Shape', 'circle'], ['Zone', '3'], ['Moved', ['Colour', 'any'], ['Shape', 'any'], ['Zone', '2'], ['Next-Move', ['Colour', 'any'], ['Shape', 'square']]]], ['Zone', '3']]]</th>\n",
       "                        <td id=\"T_eb7cc84a_530d_11eb_a27f_acde48001122row3_col0\" class=\"data row3 col0\" >-26706.745893</td>\n",
       "                        <td id=\"T_eb7cc84a_530d_11eb_a27f_acde48001122row3_col1\" class=\"data row3 col1\" >2510</td>\n",
       "                        <td id=\"T_eb7cc84a_530d_11eb_a27f_acde48001122row3_col2\" class=\"data row3 col2\" >4.000000</td>\n",
       "            </tr>\n",
       "    </tbody></table>"
      ],
      "text/plain": [
       "<pandas.io.formats.style.Styler at 0x1276447c0>"
      ]
     },
     "execution_count": 35,
     "metadata": {},
     "output_type": "execute_result"
    }
   ],
   "source": [
    "top_norms.loc[0.05].head(4).style.apply(lambda x: ['background: lightgreen' if x['log_posterior'] >=\\\n",
    "                               true_post[\"b\"] else '' for i in x], \n",
    "               axis=1)"
   ]
  },
  {
   "cell_type": "code",
   "execution_count": 39,
   "metadata": {},
   "outputs": [
    {
     "data": {
      "text/plain": [
       "('Norms',\n",
       " ('Obl',\n",
       "  ('Moved',\n",
       "   ('Colour', 'r'),\n",
       "   ('Shape', 'any'),\n",
       "   ('Zone', '1'),\n",
       "   ('Next-Move', ('Colour', 'any'), ('Shape', 'any'))),\n",
       "  ('Zone', '2')),\n",
       " ('Per',\n",
       "  ('Action', 'putdown'),\n",
       "  ('Colour', 'any'),\n",
       "  ('Shape', 'square'),\n",
       "  ('PerZone', '3')))"
      ]
     },
     "execution_count": 39,
     "metadata": {},
     "output_type": "execute_result"
    }
   ],
   "source": [
    "true_norm"
   ]
  },
  {
   "cell_type": "markdown",
   "metadata": {},
   "source": [
    "#### Below top norms(1,2) equivalent norm to true norm for a very peculiar action seq:\n",
    "1. posterior is lowered due to low prior (~complex condition)"
   ]
  },
  {
   "cell_type": "code",
   "execution_count": 36,
   "metadata": {},
   "outputs": [
    {
     "data": {
      "text/html": [
       "<style  type=\"text/css\" >\n",
       "</style><table id=\"T_ed2a2b10_530d_11eb_a27f_acde48001122\" ><thead>    <tr>        <th class=\"blank level0\" ></th>        <th class=\"col_heading level0 col0\" >log_posterior</th>        <th class=\"col_heading level0 col1\" >chain_number</th>        <th class=\"col_heading level0 col2\" >grp_rnk</th>    </tr>    <tr>        <th class=\"index_name level0\" >expression</th>        <th class=\"blank\" ></th>        <th class=\"blank\" ></th>        <th class=\"blank\" ></th>    </tr></thead><tbody>\n",
       "                <tr>\n",
       "                        <th id=\"T_ed2a2b10_530d_11eb_a27f_acde48001122level0_row0\" class=\"row_heading level0 row0\" >['Norm', ['Obl', ['Moved', ['Colour', 'b'], ['Shape', 'any'], ['Zone', '2'], ['Moved', ['Colour', 'any'], ['Shape', 'any'], ['Zone', '2'], ['Moved', ['Colour', 'any'], ['Shape', 'any'], ['Zone', '2'], ['Next-Move', ['Colour', 'any'], ['Shape', 'any']]]]], ['Zone', '2']]]</th>\n",
       "                        <td id=\"T_ed2a2b10_530d_11eb_a27f_acde48001122row0_col0\" class=\"data row0 col0\" >-26716.599977</td>\n",
       "                        <td id=\"T_ed2a2b10_530d_11eb_a27f_acde48001122row0_col1\" class=\"data row0 col1\" >3941</td>\n",
       "                        <td id=\"T_ed2a2b10_530d_11eb_a27f_acde48001122row0_col2\" class=\"data row0 col2\" >1.000000</td>\n",
       "            </tr>\n",
       "            <tr>\n",
       "                        <th id=\"T_ed2a2b10_530d_11eb_a27f_acde48001122level0_row1\" class=\"row_heading level0 row1\" >['Norms', ['Obl', ['Moved', ['Colour', 'any'], ['Shape', 'any'], ['Zone', '2'], ['Moved', ['Colour', 'r'], ['Shape', 'any'], ['Zone', '1'], ['Next-Move', ['Colour', 'any'], ['Shape', 'any']]]], ['Zone', '2']], ['Per', ['Action', 'putdown'], ['Colour', 'b'], ['Shape', 'square'], ['PerZone', '3']]]</th>\n",
       "                        <td id=\"T_ed2a2b10_530d_11eb_a27f_acde48001122row1_col0\" class=\"data row1 col0\" >-26392.178876</td>\n",
       "                        <td id=\"T_ed2a2b10_530d_11eb_a27f_acde48001122row1_col1\" class=\"data row1 col1\" >2594</td>\n",
       "                        <td id=\"T_ed2a2b10_530d_11eb_a27f_acde48001122row1_col2\" class=\"data row1 col2\" >2.000000</td>\n",
       "            </tr>\n",
       "            <tr>\n",
       "                        <th id=\"T_ed2a2b10_530d_11eb_a27f_acde48001122level0_row2\" class=\"row_heading level0 row2\" >['Norms', ['Obl', ['Moved', ['Colour', 'any'], ['Shape', 'any'], ['Zone', '2'], ['Moved', ['Colour', 'any'], ['Shape', 'circle'], ['Zone', '1'], ['Next-Move', ['Colour', 'any'], ['Shape', 'any']]]], ['Zone', '2']], ['Per', ['Action', 'putdown'], ['Colour', 'b'], ['Shape', 'square'], ['PerZone', '3']]]</th>\n",
       "                        <td id=\"T_ed2a2b10_530d_11eb_a27f_acde48001122row2_col0\" class=\"data row2 col0\" >-26392.178876</td>\n",
       "                        <td id=\"T_ed2a2b10_530d_11eb_a27f_acde48001122row2_col1\" class=\"data row2 col1\" >2561</td>\n",
       "                        <td id=\"T_ed2a2b10_530d_11eb_a27f_acde48001122row2_col2\" class=\"data row2 col2\" >3.000000</td>\n",
       "            </tr>\n",
       "            <tr>\n",
       "                        <th id=\"T_ed2a2b10_530d_11eb_a27f_acde48001122level0_row3\" class=\"row_heading level0 row3\" >['Norm', ['Obl', ['Moved', ['Colour', 'r'], ['Shape', 'any'], ['Zone', '1'], ['Next-Move', ['Colour', 'any'], ['Shape', 'triangle']]], ['Zone', '2']]]</th>\n",
       "                        <td id=\"T_ed2a2b10_530d_11eb_a27f_acde48001122row3_col0\" class=\"data row3 col0\" >-26206.018037</td>\n",
       "                        <td id=\"T_ed2a2b10_530d_11eb_a27f_acde48001122row3_col1\" class=\"data row3 col1\" >1999</td>\n",
       "                        <td id=\"T_ed2a2b10_530d_11eb_a27f_acde48001122row3_col2\" class=\"data row3 col2\" >4.000000</td>\n",
       "            </tr>\n",
       "    </tbody></table>"
      ],
      "text/plain": [
       "<pandas.io.formats.style.Styler at 0x127644730>"
      ]
     },
     "execution_count": 36,
     "metadata": {},
     "output_type": "execute_result"
    }
   ],
   "source": [
    "top_norms.loc[0.1].head(4).style.apply(lambda x: ['background: lightgreen' if x['log_posterior'] >=\\\n",
    "                               true_post[\"c\"] else '' for i in x], \n",
    "               axis=1)"
   ]
  },
  {
   "cell_type": "code",
   "execution_count": 37,
   "metadata": {},
   "outputs": [
    {
     "data": {
      "text/html": [
       "<style  type=\"text/css\" >\n",
       "#T_fddc4812_530d_11eb_a27f_acde48001122row0_col0,#T_fddc4812_530d_11eb_a27f_acde48001122row0_col1,#T_fddc4812_530d_11eb_a27f_acde48001122row0_col2,#T_fddc4812_530d_11eb_a27f_acde48001122row1_col0,#T_fddc4812_530d_11eb_a27f_acde48001122row1_col1,#T_fddc4812_530d_11eb_a27f_acde48001122row1_col2{\n",
       "            background:  lightgreen;\n",
       "        }</style><table id=\"T_fddc4812_530d_11eb_a27f_acde48001122\" ><thead>    <tr>        <th class=\"blank level0\" ></th>        <th class=\"col_heading level0 col0\" >log_posterior</th>        <th class=\"col_heading level0 col1\" >chain_number</th>        <th class=\"col_heading level0 col2\" >grp_rnk</th>    </tr>    <tr>        <th class=\"index_name level0\" >expression</th>        <th class=\"blank\" ></th>        <th class=\"blank\" ></th>        <th class=\"blank\" ></th>    </tr></thead><tbody>\n",
       "                <tr>\n",
       "                        <th id=\"T_fddc4812_530d_11eb_a27f_acde48001122level0_row0\" class=\"row_heading level0 row0\" >['Norms', ['Obl', ['Moved', ['Colour', 'any'], ['Shape', 'circle'], ['Zone', '1'], ['Next-Move', ['Colour', 'any'], ['Shape', 'any']]], ['Zone', '2']], ['Per', ['Action', 'putdown'], ['Colour', 'any'], ['Shape', 'square'], ['PerZone', '3']]]</th>\n",
       "                        <td id=\"T_fddc4812_530d_11eb_a27f_acde48001122row0_col0\" class=\"data row0 col0\" >-25772.776412</td>\n",
       "                        <td id=\"T_fddc4812_530d_11eb_a27f_acde48001122row0_col1\" class=\"data row0 col1\" >3554</td>\n",
       "                        <td id=\"T_fddc4812_530d_11eb_a27f_acde48001122row0_col2\" class=\"data row0 col2\" >1.000000</td>\n",
       "            </tr>\n",
       "            <tr>\n",
       "                        <th id=\"T_fddc4812_530d_11eb_a27f_acde48001122level0_row1\" class=\"row_heading level0 row1\" >['Norms', ['Obl', ['Moved', ['Colour', 'r'], ['Shape', 'any'], ['Zone', '1'], ['Next-Move', ['Colour', 'any'], ['Shape', 'any']]], ['Zone', '2']], ['Per', ['Action', 'putdown'], ['Colour', 'any'], ['Shape', 'square'], ['PerZone', '3']]]</th>\n",
       "                        <td id=\"T_fddc4812_530d_11eb_a27f_acde48001122row1_col0\" class=\"data row1 col0\" >-25772.776412</td>\n",
       "                        <td id=\"T_fddc4812_530d_11eb_a27f_acde48001122row1_col1\" class=\"data row1 col1\" >3334</td>\n",
       "                        <td id=\"T_fddc4812_530d_11eb_a27f_acde48001122row1_col2\" class=\"data row1 col2\" >2.000000</td>\n",
       "            </tr>\n",
       "            <tr>\n",
       "                        <th id=\"T_fddc4812_530d_11eb_a27f_acde48001122level0_row2\" class=\"row_heading level0 row2\" >['Norm', ['Obl', ['Moved', ['Colour', 'any'], ['Shape', 'any'], ['Zone', '1'], ['Moved', ['Colour', 'any'], ['Shape', 'any'], ['Zone', '2'], ['Moved', ['Colour', 'any'], ['Shape', 'any'], ['Zone', '2'], ['Next-Move', ['Colour', 'any'], ['Shape', 'any']]]]], ['Zone', '1']]]</th>\n",
       "                        <td id=\"T_fddc4812_530d_11eb_a27f_acde48001122row2_col0\" class=\"data row2 col0\" >-26723.138570</td>\n",
       "                        <td id=\"T_fddc4812_530d_11eb_a27f_acde48001122row2_col1\" class=\"data row2 col1\" >2906</td>\n",
       "                        <td id=\"T_fddc4812_530d_11eb_a27f_acde48001122row2_col2\" class=\"data row2 col2\" >3.000000</td>\n",
       "            </tr>\n",
       "            <tr>\n",
       "                        <th id=\"T_fddc4812_530d_11eb_a27f_acde48001122level0_row3\" class=\"row_heading level0 row3\" >['Norms', ['Obl', ['Moved', ['Colour', 'r'], ['Shape', 'circle'], ['Zone', '1'], ['Next-Move', ['Colour', 'any'], ['Shape', 'any']]], ['Zone', '2']], ['Per', ['Action', 'putdown'], ['Colour', 'any'], ['Shape', 'square'], ['PerZone', '3']]]</th>\n",
       "                        <td id=\"T_fddc4812_530d_11eb_a27f_acde48001122row3_col0\" class=\"data row3 col0\" >-25773.875024</td>\n",
       "                        <td id=\"T_fddc4812_530d_11eb_a27f_acde48001122row3_col1\" class=\"data row3 col1\" >1358</td>\n",
       "                        <td id=\"T_fddc4812_530d_11eb_a27f_acde48001122row3_col2\" class=\"data row3 col2\" >4.000000</td>\n",
       "            </tr>\n",
       "    </tbody></table>"
      ],
      "text/plain": [
       "<pandas.io.formats.style.Styler at 0x1276bde50>"
      ]
     },
     "execution_count": 37,
     "metadata": {},
     "output_type": "execute_result"
    }
   ],
   "source": [
    "top_norms.loc[0.15].head(4).style.apply(lambda x: ['background: lightgreen' if x['log_posterior'] >=\\\n",
    "                               true_post[\"d\"] else '' for i in x], \n",
    "               axis=1)"
   ]
  },
  {
   "cell_type": "code",
   "execution_count": 38,
   "metadata": {},
   "outputs": [
    {
     "data": {
      "text/html": [
       "<style  type=\"text/css\" >\n",
       "#T_00668084_530e_11eb_a27f_acde48001122row0_col0,#T_00668084_530e_11eb_a27f_acde48001122row0_col1,#T_00668084_530e_11eb_a27f_acde48001122row0_col2,#T_00668084_530e_11eb_a27f_acde48001122row1_col0,#T_00668084_530e_11eb_a27f_acde48001122row1_col1,#T_00668084_530e_11eb_a27f_acde48001122row1_col2{\n",
       "            background:  lightgreen;\n",
       "        }</style><table id=\"T_00668084_530e_11eb_a27f_acde48001122\" ><thead>    <tr>        <th class=\"blank level0\" ></th>        <th class=\"col_heading level0 col0\" >log_posterior</th>        <th class=\"col_heading level0 col1\" >chain_number</th>        <th class=\"col_heading level0 col2\" >grp_rnk</th>    </tr>    <tr>        <th class=\"index_name level0\" >expression</th>        <th class=\"blank\" ></th>        <th class=\"blank\" ></th>        <th class=\"blank\" ></th>    </tr></thead><tbody>\n",
       "                <tr>\n",
       "                        <th id=\"T_00668084_530e_11eb_a27f_acde48001122level0_row0\" class=\"row_heading level0 row0\" >['Norms', ['Obl', ['Moved', ['Colour', 'r'], ['Shape', 'any'], ['Zone', '1'], ['Next-Move', ['Colour', 'any'], ['Shape', 'any']]], ['Zone', '2']], ['Per', ['Action', 'putdown'], ['Colour', 'any'], ['Shape', 'square'], ['PerZone', '3']]]</th>\n",
       "                        <td id=\"T_00668084_530e_11eb_a27f_acde48001122row0_col0\" class=\"data row0 col0\" >-25883.433245</td>\n",
       "                        <td id=\"T_00668084_530e_11eb_a27f_acde48001122row0_col1\" class=\"data row0 col1\" >5239</td>\n",
       "                        <td id=\"T_00668084_530e_11eb_a27f_acde48001122row0_col2\" class=\"data row0 col2\" >1.000000</td>\n",
       "            </tr>\n",
       "            <tr>\n",
       "                        <th id=\"T_00668084_530e_11eb_a27f_acde48001122level0_row1\" class=\"row_heading level0 row1\" >['Norms', ['Obl', ['Moved', ['Colour', 'any'], ['Shape', 'circle'], ['Zone', '1'], ['Next-Move', ['Colour', 'any'], ['Shape', 'any']]], ['Zone', '2']], ['Per', ['Action', 'putdown'], ['Colour', 'any'], ['Shape', 'square'], ['PerZone', '3']]]</th>\n",
       "                        <td id=\"T_00668084_530e_11eb_a27f_acde48001122row1_col0\" class=\"data row1 col0\" >-25883.433245</td>\n",
       "                        <td id=\"T_00668084_530e_11eb_a27f_acde48001122row1_col1\" class=\"data row1 col1\" >3505</td>\n",
       "                        <td id=\"T_00668084_530e_11eb_a27f_acde48001122row1_col2\" class=\"data row1 col2\" >2.000000</td>\n",
       "            </tr>\n",
       "            <tr>\n",
       "                        <th id=\"T_00668084_530e_11eb_a27f_acde48001122level0_row2\" class=\"row_heading level0 row2\" >['Norms', ['Obl', ['Moved', ['Colour', 'any'], ['Shape', 'any'], ['Zone', '1'], ['Moved', ['Colour', 'r'], ['Shape', 'any'], ['Zone', '3'], ['Next-Move', ['Colour', 'any'], ['Shape', 'any']]]], ['Zone', '3']], ['Per', ['Action', 'putdown'], ['Colour', 'any'], ['Shape', 'any'], ['PerZone', '1']]]</th>\n",
       "                        <td id=\"T_00668084_530e_11eb_a27f_acde48001122row2_col0\" class=\"data row2 col0\" >-26767.543194</td>\n",
       "                        <td id=\"T_00668084_530e_11eb_a27f_acde48001122row2_col1\" class=\"data row2 col1\" >2988</td>\n",
       "                        <td id=\"T_00668084_530e_11eb_a27f_acde48001122row2_col2\" class=\"data row2 col2\" >3.000000</td>\n",
       "            </tr>\n",
       "            <tr>\n",
       "                        <th id=\"T_00668084_530e_11eb_a27f_acde48001122level0_row3\" class=\"row_heading level0 row3\" >['Norm', ['Obl', ['Moved', ['Colour', 'r'], ['Shape', 'any'], ['Zone', '1'], ['Next-Move', ['Colour', 'any'], ['Shape', 'any']]], ['Zone', '2']]]</th>\n",
       "                        <td id=\"T_00668084_530e_11eb_a27f_acde48001122row3_col0\" class=\"data row3 col0\" >-25993.578671</td>\n",
       "                        <td id=\"T_00668084_530e_11eb_a27f_acde48001122row3_col1\" class=\"data row3 col1\" >1960</td>\n",
       "                        <td id=\"T_00668084_530e_11eb_a27f_acde48001122row3_col2\" class=\"data row3 col2\" >4.000000</td>\n",
       "            </tr>\n",
       "            <tr>\n",
       "                        <th id=\"T_00668084_530e_11eb_a27f_acde48001122level0_row4\" class=\"row_heading level0 row4\" >['Norms', ['Obl', ['Moved', ['Colour', 'any'], ['Shape', 'any'], ['Zone', '1'], ['Moved', ['Colour', 'any'], ['Shape', 'circle'], ['Zone', '3'], ['Next-Move', ['Colour', 'any'], ['Shape', 'any']]]], ['Zone', '3']], ['Per', ['Action', 'putdown'], ['Colour', 'any'], ['Shape', 'any'], ['PerZone', '1']]]</th>\n",
       "                        <td id=\"T_00668084_530e_11eb_a27f_acde48001122row4_col0\" class=\"data row4 col0\" >-26767.543194</td>\n",
       "                        <td id=\"T_00668084_530e_11eb_a27f_acde48001122row4_col1\" class=\"data row4 col1\" >1899</td>\n",
       "                        <td id=\"T_00668084_530e_11eb_a27f_acde48001122row4_col2\" class=\"data row4 col2\" >5.000000</td>\n",
       "            </tr>\n",
       "            <tr>\n",
       "                        <th id=\"T_00668084_530e_11eb_a27f_acde48001122level0_row5\" class=\"row_heading level0 row5\" >['Norm', ['Obl', ['Moved', ['Colour', 'any'], ['Shape', 'circle'], ['Zone', '1'], ['Next-Move', ['Colour', 'any'], ['Shape', 'any']]], ['Zone', '2']]]</th>\n",
       "                        <td id=\"T_00668084_530e_11eb_a27f_acde48001122row5_col0\" class=\"data row5 col0\" >-25993.578671</td>\n",
       "                        <td id=\"T_00668084_530e_11eb_a27f_acde48001122row5_col1\" class=\"data row5 col1\" >1891</td>\n",
       "                        <td id=\"T_00668084_530e_11eb_a27f_acde48001122row5_col2\" class=\"data row5 col2\" >6.000000</td>\n",
       "            </tr>\n",
       "            <tr>\n",
       "                        <th id=\"T_00668084_530e_11eb_a27f_acde48001122level0_row6\" class=\"row_heading level0 row6\" >['Norm', ['Obl', ['Moved', ['Colour', 'b'], ['Shape', 'any'], ['Zone', '3'], ['Next-Move', ['Colour', 'b'], ['Shape', 'any']]], ['Zone', '2']]]</th>\n",
       "                        <td id=\"T_00668084_530e_11eb_a27f_acde48001122row6_col0\" class=\"data row6 col0\" >-26750.758130</td>\n",
       "                        <td id=\"T_00668084_530e_11eb_a27f_acde48001122row6_col1\" class=\"data row6 col1\" >1433</td>\n",
       "                        <td id=\"T_00668084_530e_11eb_a27f_acde48001122row6_col2\" class=\"data row6 col2\" >7.000000</td>\n",
       "            </tr>\n",
       "            <tr>\n",
       "                        <th id=\"T_00668084_530e_11eb_a27f_acde48001122level0_row7\" class=\"row_heading level0 row7\" >['Norms', ['Obl', ['Moved', ['Colour', 'r'], ['Shape', 'circle'], ['Zone', '1'], ['Next-Move', ['Colour', 'any'], ['Shape', 'any']]], ['Zone', '2']], ['Per', ['Action', 'putdown'], ['Colour', 'any'], ['Shape', 'square'], ['PerZone', '3']]]</th>\n",
       "                        <td id=\"T_00668084_530e_11eb_a27f_acde48001122row7_col0\" class=\"data row7 col0\" >-25884.531857</td>\n",
       "                        <td id=\"T_00668084_530e_11eb_a27f_acde48001122row7_col1\" class=\"data row7 col1\" >1347</td>\n",
       "                        <td id=\"T_00668084_530e_11eb_a27f_acde48001122row7_col2\" class=\"data row7 col2\" >8.000000</td>\n",
       "            </tr>\n",
       "            <tr>\n",
       "                        <th id=\"T_00668084_530e_11eb_a27f_acde48001122level0_row8\" class=\"row_heading level0 row8\" >['Norms', ['Obl', ['Moved', ['Colour', 'b'], ['Shape', 'any'], ['Zone', '1'], ['Next-Move', ['Colour', 'r'], ['Shape', 'any']]], ['Zone', '3']], ['Per', ['Action', 'putdown'], ['Colour', 'any'], ['Shape', 'any'], ['PerZone', '1']]]</th>\n",
       "                        <td id=\"T_00668084_530e_11eb_a27f_acde48001122row8_col0\" class=\"data row8 col0\" >-26623.739948</td>\n",
       "                        <td id=\"T_00668084_530e_11eb_a27f_acde48001122row8_col1\" class=\"data row8 col1\" >1263</td>\n",
       "                        <td id=\"T_00668084_530e_11eb_a27f_acde48001122row8_col2\" class=\"data row8 col2\" >9.000000</td>\n",
       "            </tr>\n",
       "            <tr>\n",
       "                        <th id=\"T_00668084_530e_11eb_a27f_acde48001122level0_row9\" class=\"row_heading level0 row9\" >['Norms', ['Obl', ['Moved', ['Colour', 'b'], ['Shape', 'any'], ['Zone', '1'], ['Next-Move', ['Colour', 'any'], ['Shape', 'circle']]], ['Zone', '3']], ['Per', ['Action', 'putdown'], ['Colour', 'any'], ['Shape', 'any'], ['PerZone', '1']]]</th>\n",
       "                        <td id=\"T_00668084_530e_11eb_a27f_acde48001122row9_col0\" class=\"data row9 col0\" >-26623.739948</td>\n",
       "                        <td id=\"T_00668084_530e_11eb_a27f_acde48001122row9_col1\" class=\"data row9 col1\" >1199</td>\n",
       "                        <td id=\"T_00668084_530e_11eb_a27f_acde48001122row9_col2\" class=\"data row9 col2\" >10.000000</td>\n",
       "            </tr>\n",
       "    </tbody></table>"
      ],
      "text/plain": [
       "<pandas.io.formats.style.Styler at 0x1276bd490>"
      ]
     },
     "execution_count": 38,
     "metadata": {},
     "output_type": "execute_result"
    }
   ],
   "source": [
    "top_norms.loc[0.2].head(10).style.apply(lambda x: ['background: lightgreen' if x['log_posterior'] >=\\\n",
    "                               true_post[\"e\"] else '' for i in x], \n",
    "               axis=1)"
   ]
  },
  {
   "cell_type": "code",
   "execution_count": null,
   "metadata": {},
   "outputs": [],
   "source": []
  },
  {
   "cell_type": "code",
   "execution_count": null,
   "metadata": {},
   "outputs": [],
   "source": []
  },
  {
   "cell_type": "code",
   "execution_count": null,
   "metadata": {},
   "outputs": [],
   "source": []
  }
 ],
 "metadata": {
  "kernelspec": {
   "display_name": "Python 3",
   "language": "python",
   "name": "python3"
  },
  "language_info": {
   "codemirror_mode": {
    "name": "ipython",
    "version": 3
   },
   "file_extension": ".py",
   "mimetype": "text/x-python",
   "name": "python",
   "nbconvert_exporter": "python",
   "pygments_lexer": "ipython3",
   "version": "3.8.2"
  }
 },
 "nbformat": 4,
 "nbformat_minor": 4
}
