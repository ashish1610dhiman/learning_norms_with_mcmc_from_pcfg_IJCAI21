{
 "cells": [
  {
   "cell_type": "markdown",
   "metadata": {},
   "source": [
    "### Initial set-up\n",
    "Getting up to speed with the current version"
   ]
  },
  {
   "cell_type": "code",
   "execution_count": 2,
   "metadata": {},
   "outputs": [
    {
     "name": "stdout",
     "output_type": "stream",
     "text": [
      "scripts\r\n",
      "testing_scripts\r\n"
     ]
    }
   ],
   "source": [
    "!ls ../ | grep script"
   ]
  },
  {
   "cell_type": "code",
   "execution_count": 6,
   "metadata": {},
   "outputs": [
    {
     "name": "stdout",
     "output_type": "stream",
     "text": [
      "Stage 'gen_env' is cached - skipping run, checking out outputs        core\u001b[39m>\n",
      "Updating lock file 'dvc.lock'\n",
      "\n",
      "To track the changes with git, run:\n",
      "\n",
      "\tgit add dvc.lock\n",
      "Use `dvc push` to send your updates to remote storage.\n",
      "\u001b[0m"
     ]
    }
   ],
   "source": [
    "!dvc repro -s gen_env"
   ]
  },
  {
   "cell_type": "code",
   "execution_count": 8,
   "metadata": {},
   "outputs": [],
   "source": [
    "!dvc dag > dvc_dag.out"
   ]
  },
  {
   "cell_type": "code",
   "execution_count": null,
   "metadata": {},
   "outputs": [],
   "source": [
    "# !dvc fetch ../../data/default_env.pickle.dvc\n",
    "# !dvc checkout ../../data/default_env.pickle.dvc"
   ]
  },
  {
   "cell_type": "code",
   "execution_count": 4,
   "metadata": {},
   "outputs": [
    {
     "name": "stdout",
     "output_type": "stream",
     "text": [
      "\u001b[31mERROR\u001b[39m: output '../data/env.pickle' is already specified in stages:39m>\n",
      "\t- non_compliance_testing/dvc.yaml:gen_env\n",
      "\t- gen_env\n",
      "\u001b[0m"
     ]
    }
   ],
   "source": [
    "!dvc repro -s gen_env"
   ]
  },
  {
   "cell_type": "code",
   "execution_count": 5,
   "metadata": {},
   "outputs": [
    {
     "name": "stdout",
     "output_type": "stream",
     "text": [
      "\u001b[31mERROR\u001b[39m: argument COMMAND: invalid choice: 'pipeline' (choose from 'init', 'get', 'get-url', 'destroy', 'add', 'remove', 'move', 'unprotect', 'run', 'repro', 'pull', 'push', 'fetch', 'status', 'gc', 'import', 'import-url', 'config', 'checkout', 'remote', 'cache', 'metrics', 'params', 'install', 'root', 'list', 'freeze', 'unfreeze', 'dag', 'daemon', 'commit', 'completion', 'diff', 'version', 'doctor', 'update', 'git-hook', 'plots', 'experiments', 'exp', 'check-ignore')\n",
      "usage: dvc [-q | -v] [-h] [-V] [--cd <path>] COMMAND ...\n",
      "\n",
      "Data Version Control\n",
      "\n",
      "optional arguments:\n",
      "  -q, --quiet       Be quiet.\n",
      "  -v, --verbose     Be verbose.\n",
      "  -h, --help        Show this help message and exit.\n",
      "  -V, --version     Show program's version.\n",
      "  --cd <path>       Change to directory before executing.\n",
      "\n",
      "Available Commands:\n",
      "  COMMAND           Use `dvc COMMAND --help` for command-specific help.\n",
      "    init            Initialize DVC in the current directory.\n",
      "    get             Download file or directory tracked by DVC or by Git.\n",
      "    get-url         Download or copy files from URL.\n",
      "    destroy         Remove DVC-files, local DVC config and data cache.\n",
      "    add             Track data files or directories with DVC.\n",
      "    remove          Remove stages or .dvc files, unprotect their outputs, and erase .gitignore entries.\n",
      "    move            Rename or move a DVC controlled data file or a directory.\n",
      "    unprotect       Unprotect tracked files or directories (when hardlinks or symlinks have been enabled with `dvc config cache.type`)\n",
      "    run             Generate a stage file from a command and execute the command.\n",
      "    repro           Reproduce complete or partial pipelines by executing their stages.\n",
      "    pull            Download tracked files or directories from remote storage.\n",
      "    push            Upload tracked files or directories to remote storage.\n",
      "    fetch           Download cached files or directories from remote storage.\n",
      "    status          Show changed stages, compare local cache and a remote storage.\n",
      "    gc              Garbage collect unused objects from cache or remote storage.\n",
      "    import          Download file or directory tracked by DVC or by Git into the workspace, and track it.\n",
      "    import-url      Download or copy file from URL and take it under DVC control.\n",
      "    config          Get or set config options.\n",
      "    checkout        Checkout data files from cache.\n",
      "    remote          Set up and manage data remotes.\n",
      "    cache           Manage cache settings.\n",
      "    metrics         Commands to display and compare metrics.\n",
      "    params          Commands to display params.\n",
      "    install         Install DVC git hooks into the repository.\n",
      "    root            Return the relative path to the root of the DVC project.\n",
      "    list            List repository contents, including files and directories tracked by DVC and by Git.\n",
      "    freeze          Freeze stages or .dvc files.\n",
      "    unfreeze        Unfreeze stages or .dvc files.\n",
      "    dag             Visualize DVC project DAG.\n",
      "    commit          Save changed data to cache and update DVC-files.\n",
      "    completion      Generate shell tab completion.\n",
      "    diff            Show added, modified, or deleted data between commits in the DVC repository, or between a commit and the workspace.\n",
      "    version (doctor)\n",
      "                    Display the DVC version and system/environment information.\n",
      "    update          Update data artifacts imported from other DVC repositories.\n",
      "    plots           Commands to visualize and compare plot metrics in structured files (JSON, YAML, CSV, TSV)\n",
      "    check-ignore    Check whether files or directories are excluded due to `.dvcignore`.\n",
      "\u001b[0m"
     ]
    }
   ],
   "source": [
    "!dvc pipeline show --tree results/model.dvc"
   ]
  },
  {
   "cell_type": "code",
   "execution_count": 15,
   "metadata": {},
   "outputs": [
    {
     "name": "stdout",
     "output_type": "stream",
     "text": [
      "\u001b[31mERROR\u001b[39m: too few arguments. Specify at least one: `-d`, `-o`, `-O`, `-m`, `-M`, `-p`, `--plots`, `--plots-no-cache`, `--outs-persist`, `--outs-persist-no-cache`, `command`.\n",
      "\u001b[0m"
     ]
    }
   ],
   "source": [
    "!dvc run -f features/features.dvc \\\n",
    "-d data/train.csv -d data/test.csv -d pytitanic/features.py \\\n",
    "-o features/train_features.csv \\\n",
    "-o features/test_features.csv \\\n",
    "python3 -m pytitanic.features \\\n",
    "-o features -r data/train.csv -s data/test.csv"
   ]
  },
  {
   "cell_type": "code",
   "execution_count": 22,
   "metadata": {},
   "outputs": [
    {
     "name": "stdout",
     "output_type": "stream",
     "text": [
      "usage: dvc run [-h] [-q | -v] [-d <path>] [-n NAME] [-o <filename>]\r\n",
      "               [-O <filename>] [-p [<filename>:]<params_list>] [-m <path>]\r\n",
      "               [-M <path>] [--plots <path>] [--plots-no-cache <path>]\r\n",
      "               [-w <path>] [--no-exec] [-f] [--no-run-cache] [--no-commit]\r\n",
      "               [--outs-persist <filename>]\r\n",
      "               [--outs-persist-no-cache <filename>] [--always-changed]\r\n",
      "               [--external] [--desc <text>]\r\n",
      "               ...\r\n",
      "\r\n",
      "Generate a stage file from a command and execute the command.\r\n",
      "Documentation: <\u001b[36mhttps://man.dvc.org/run\u001b[39m>\r\n",
      "\r\n",
      "positional arguments:\r\n",
      "  command               Command to execute.\r\n",
      "\r\n",
      "optional arguments:\r\n",
      "  -h, --help            show this help message and exit\r\n",
      "  -q, --quiet           Be quiet.\r\n",
      "  -v, --verbose         Be verbose.\r\n",
      "  -d <path>, --deps <path>\r\n",
      "                        Declare dependencies for reproducible cmd.\r\n",
      "  -n NAME, --name NAME  Stage name.\r\n",
      "  -o <filename>, --outs <filename>\r\n",
      "                        Declare output file or directory.\r\n",
      "  -O <filename>, --outs-no-cache <filename>\r\n",
      "                        Declare output file or directory (do not put into DVC\r\n",
      "                        cache).\r\n",
      "  -p [<filename>:]<params_list>, --params [<filename>:]<params_list>\r\n",
      "                        Declare parameter to use as additional dependency.\r\n",
      "  -m <path>, --metrics <path>\r\n",
      "                        Declare output metrics file.\r\n",
      "  -M <path>, --metrics-no-cache <path>\r\n",
      "                        Declare output metrics file (do not put into DVC\r\n",
      "                        cache).\r\n",
      "  --plots <path>        Declare output plot file.\r\n",
      "  --plots-no-cache <path>\r\n",
      "                        Declare output plot file (do not put into DVC cache).\r\n",
      "  -w <path>, --wdir <path>\r\n",
      "                        Directory within your repo to run your command in.\r\n",
      "  --no-exec             Only create stage file without actually running it.\r\n",
      "  -f, --force           Overwrite existing stage\r\n",
      "  --no-run-cache        Execute the command even if this stage has already\r\n",
      "                        been run with the same\r\n",
      "                        command/dependencies/outputs/etc before.\r\n",
      "  --no-commit           Don't put files/directories into cache.\r\n",
      "  --outs-persist <filename>\r\n",
      "                        Declare output file or directory that will not be\r\n",
      "                        removed upon repro.\r\n",
      "  --outs-persist-no-cache <filename>\r\n",
      "                        Declare output file or directory that will not be\r\n",
      "                        removed upon repro (do not put into DVC cache).\r\n",
      "  --always-changed      Always consider this DVC-file as changed.\r\n",
      "  --external            Allow outputs that are outside of the DVC repository.\r\n",
      "  --desc <text>         User description of the stage (optional). This doesn't\r\n",
      "                        affect any DVC operations.\r\n",
      "\u001b[0m"
     ]
    }
   ],
   "source": [
    "!dvc run --help"
   ]
  },
  {
   "cell_type": "code",
   "execution_count": null,
   "metadata": {},
   "outputs": [],
   "source": []
  },
  {
   "cell_type": "code",
   "execution_count": null,
   "metadata": {},
   "outputs": [],
   "source": []
  },
  {
   "cell_type": "code",
   "execution_count": null,
   "metadata": {},
   "outputs": [],
   "source": []
  },
  {
   "cell_type": "code",
   "execution_count": null,
   "metadata": {},
   "outputs": [],
   "source": []
  },
  {
   "cell_type": "code",
   "execution_count": null,
   "metadata": {},
   "outputs": [],
   "source": []
  }
 ],
 "metadata": {
  "kernelspec": {
   "display_name": "Python 3",
   "language": "python",
   "name": "python3"
  },
  "language_info": {
   "codemirror_mode": {
    "name": "ipython",
    "version": 3
   },
   "file_extension": ".py",
   "mimetype": "text/x-python",
   "name": "python",
   "nbconvert_exporter": "python",
   "pygments_lexer": "ipython3",
   "version": "3.8.2"
  }
 },
 "nbformat": 4,
 "nbformat_minor": 4
}
