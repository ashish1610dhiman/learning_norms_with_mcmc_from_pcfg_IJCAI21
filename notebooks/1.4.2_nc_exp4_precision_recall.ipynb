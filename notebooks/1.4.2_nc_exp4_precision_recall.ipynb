{
 "cells": [
  {
   "cell_type": "code",
   "execution_count": 1,
   "metadata": {},
   "outputs": [],
   "source": [
    "import sys\n",
    "sys.path.append('../src')\n",
    "\n",
    "from mcmc_norm_learning.environment import position, plot_env\n",
    "from mcmc_norm_learning.algorithm_1_v4 import to_tuple\n",
    "from mcmc_norm_learning.rules_4 import get_log_prob\n",
    "from mcmc_norm_learning.mcmc_performance import performance\n",
    "from mcmc_norm_learning.robot_task_new import task\n",
    "from mcmc_norm_learning.algorithm_1_v4 import algorithm_1, over_dispersed_starting_points\n",
    "from pickle_wrapper import unpickle\n",
    "from collections import Counter\n",
    "import pandas as pd\n",
    "import yaml\n",
    "import tqdm\n",
    "from numpy import log\n",
    "from algorithm_2_utilities import Likelihood\n",
    "from IPython.utils import io"
   ]
  },
  {
   "cell_type": "code",
   "execution_count": 2,
   "metadata": {},
   "outputs": [],
   "source": [
    "with open(\"../params_nc.yaml\", 'r') as fd:\n",
    "    params = yaml.safe_load(fd)"
   ]
  },
  {
   "cell_type": "code",
   "execution_count": 3,
   "metadata": {},
   "outputs": [],
   "source": [
    "num_obs=params[\"num_observations\"]\n",
    "true_norm=params['true_norm']['exp']\n",
    "env = unpickle(f'../data/env.pickle')"
   ]
  },
  {
   "cell_type": "code",
   "execution_count": 4,
   "metadata": {},
   "outputs": [
    {
     "name": "stdout",
     "output_type": "stream",
     "text": [
      "(-0.8, 0.7)\n",
      "(0.25, 0.99)\n"
     ]
    }
   ],
   "source": [
    "colour_specific = params['colour_specific']\n",
    "shape_specific = params['shape_specific']\n",
    "target_area_parts = params['target_area'].replace(' ', '').split(';')\n",
    "target_area_part0 = position(*map(float, target_area_parts[0].split(',')))\n",
    "target_area_part1 = position(*map(float, target_area_parts[1].split(',')))\n",
    "target_area = (target_area_part0, target_area_part1)\n",
    "print(target_area_part0.coordinates())\n",
    "print(target_area_part1.coordinates())\n",
    "the_task = task(colour_specific, shape_specific, target_area)"
   ]
  },
  {
   "cell_type": "code",
   "execution_count": 11,
   "metadata": {},
   "outputs": [],
   "source": [
    "base_path=\"../data_nc/exp_nc4/\"\n",
    "exp_paths=!ls $base_path\n",
    "n_top = 5\n",
    "n=params[\"num_observations\"]"
   ]
  },
  {
   "cell_type": "code",
   "execution_count": 12,
   "metadata": {},
   "outputs": [],
   "source": [
    "def iter_stats(exp_path):\n",
    "    result={}\n",
    "    w_nc,trial=tuple(map(lambda x: float(x.split(\"=\")[-1]),exp_path.split(\",\")))\n",
    "    data=unpickle(base_path+exp_path+\"/obs.pickle\")\n",
    "    posterior_sample = unpickle(base_path+exp_path+'/posterior_nc.pickle')\n",
    "    learned_expressions=Counter(map(to_tuple, posterior_sample))\n",
    "    with io.capture_output() as exp_log:\n",
    "        pr_result=performance(the_task,env,true_norm,learned_expressions,\n",
    "                        folder_name=\"temp\",file_name=\"top_norm\",\n",
    "                        top_n=n_top,beta=1,repeat=100000,verbose=False)\n",
    "    pr_result[\"w_nc\"]=w_nc\n",
    "    pr_result[\"trial\"]=trial\n",
    "    result[\"w_nc\"]=pr_result\n",
    "    chain_details = pd.read_csv(f\"{base_path+exp_path}/chain_posteriors_nc.csv\")\n",
    "    top_norms=chain_details.loc[chain_details.chain_pos>2*n\\\n",
    "                           ].groupby([\"expression\"]).agg({\"log_posterior\":[\"mean\",\"count\"]})\n",
    "    top_norms[\"chain_rank\"]=top_norms[[('log_posterior', 'count')]].rank(method='dense',ascending=False)\n",
    "    top_norms.sort_values(by=[\"chain_rank\"],inplace=True)\n",
    "    top_norms[\"w_nc\"]=w_nc\n",
    "    top_norms[\"trial\"]=trial\n",
    "    result[\"trial\"]=top_norms\n",
    "    return(result)"
   ]
  },
  {
   "cell_type": "code",
   "execution_count": 13,
   "metadata": {},
   "outputs": [
    {
     "name": "stderr",
     "output_type": "stream",
     "text": [
      "\n",
      "\n",
      "Loop for Individual w_nc,trial:   0%|          | 0/36 [00:00<?, ?it/s]\u001b[A\u001b[A[Parallel(n_jobs=7)]: Using backend LokyBackend with 7 concurrent workers.\n",
      "\n",
      "\n",
      "Loop for Individual w_nc,trial:  39%|███▉      | 14/36 [24:22<38:18, 104.49s/it]\u001b[A\u001b[A[Parallel(n_jobs=7)]: Done   4 tasks      | elapsed: 25.9min\n",
      "\n",
      "\n",
      "Loop for Individual w_nc,trial:  75%|███████▌  | 27/36 [1:42:09<34:03, 227.01s/it]A\u001b[A\n",
      "[Parallel(n_jobs=7)]: Done  11 tasks      | elapsed: 52.2min\n",
      "\n",
      "\n",
      "Loop for Individual w_nc,trial:  78%|███████▊  | 28/36 [1:17:13<22:21, 167.73s/it]\u001b[A\u001b[A[Parallel(n_jobs=7)]: Done  18 tasks      | elapsed: 81.8min\n",
      "\n",
      "\n",
      "Loop for Individual w_nc,trial: 100%|██████████| 36/36 [1:44:28<00:00, 174.11s/it]\u001b[A\u001b[A\n",
      "[Parallel(n_jobs=7)]: Done  27 out of  36 | elapsed: 112.1min remaining: 37.4min\n",
      "[Parallel(n_jobs=7)]: Done  31 out of  36 | elapsed: 133.9min remaining: 21.6min\n",
      "[Parallel(n_jobs=7)]: Done  36 out of  36 | elapsed: 143.9min finished\n"
     ]
    }
   ],
   "source": [
    "from joblib import Parallel, delayed\n",
    "stats_iters = Parallel(verbose=10, n_jobs=7, prefer=\"processes\"\\\n",
    "                                     )(delayed(iter_stats)(exp_path)\\\n",
    "                                       for exp_path in tqdm.tqdm(exp_paths,\\\n",
    "                                                            desc=\"Loop for Individual w_nc,trial\"))"
   ]
  },
  {
   "cell_type": "code",
   "execution_count": 18,
   "metadata": {},
   "outputs": [],
   "source": [
    "z_pr=pd.DataFrame()\n",
    "for indiviaudal_results in stats_iters:\n",
    "    pr_recall=indiviaudal_results[\"w_nc\"]\n",
    "    z_pr=z_pr.append(pr_recall)"
   ]
  },
  {
   "cell_type": "code",
   "execution_count": 21,
   "metadata": {},
   "outputs": [
    {
     "data": {
      "text/html": [
       "<div>\n",
       "<style scoped>\n",
       "    .dataframe tbody tr th:only-of-type {\n",
       "        vertical-align: middle;\n",
       "    }\n",
       "\n",
       "    .dataframe tbody tr th {\n",
       "        vertical-align: top;\n",
       "    }\n",
       "\n",
       "    .dataframe thead th {\n",
       "        text-align: right;\n",
       "    }\n",
       "</style>\n",
       "<table border=\"1\" class=\"dataframe\">\n",
       "  <thead>\n",
       "    <tr style=\"text-align: right;\">\n",
       "      <th></th>\n",
       "      <th>norm_rank</th>\n",
       "      <th>weight</th>\n",
       "      <th>precision</th>\n",
       "      <th>recall</th>\n",
       "      <th>F_1</th>\n",
       "      <th>w_nc</th>\n",
       "      <th>trial</th>\n",
       "    </tr>\n",
       "  </thead>\n",
       "  <tbody>\n",
       "    <tr>\n",
       "      <th>0</th>\n",
       "      <td>1</td>\n",
       "      <td>0.300211</td>\n",
       "      <td>0.737884</td>\n",
       "      <td>0.966270</td>\n",
       "      <td>0.836773</td>\n",
       "      <td>0.0</td>\n",
       "      <td>1.0</td>\n",
       "    </tr>\n",
       "    <tr>\n",
       "      <th>1</th>\n",
       "      <td>2</td>\n",
       "      <td>0.216120</td>\n",
       "      <td>0.978808</td>\n",
       "      <td>0.976352</td>\n",
       "      <td>0.977578</td>\n",
       "      <td>0.0</td>\n",
       "      <td>1.0</td>\n",
       "    </tr>\n",
       "    <tr>\n",
       "      <th>2</th>\n",
       "      <td>3</td>\n",
       "      <td>0.182617</td>\n",
       "      <td>0.978830</td>\n",
       "      <td>0.977421</td>\n",
       "      <td>0.978125</td>\n",
       "      <td>0.0</td>\n",
       "      <td>1.0</td>\n",
       "    </tr>\n",
       "  </tbody>\n",
       "</table>\n",
       "</div>"
      ],
      "text/plain": [
       "  norm_rank    weight  precision    recall       F_1  w_nc  trial\n",
       "0         1  0.300211   0.737884  0.966270  0.836773   0.0    1.0\n",
       "1         2  0.216120   0.978808  0.976352  0.977578   0.0    1.0\n",
       "2         3  0.182617   0.978830  0.977421  0.978125   0.0    1.0"
      ]
     },
     "execution_count": 21,
     "metadata": {},
     "output_type": "execute_result"
    }
   ],
   "source": [
    "z_pr.head(3)"
   ]
  },
  {
   "cell_type": "code",
   "execution_count": 26,
   "metadata": {},
   "outputs": [],
   "source": [
    "z_pr.groupby([\"w_nc\",\"norm_rank\"]).mean().to_csv(\"precision_recall_result_exp4_w_nc.csv\")"
   ]
  },
  {
   "cell_type": "code",
   "execution_count": 27,
   "metadata": {},
   "outputs": [],
   "source": [
    "z_top=pd.DataFrame()\n",
    "for indiviaudal_results in stats_iters:\n",
    "    pr_recall=indiviaudal_results[\"trial\"]\n",
    "    z_top=z_top.append(pr_recall)"
   ]
  },
  {
   "cell_type": "code",
   "execution_count": 31,
   "metadata": {},
   "outputs": [
    {
     "data": {
      "text/plain": [
       "MultiIndex([('log_posterior',  'mean'),\n",
       "            ('log_posterior', 'count'),\n",
       "            (   'chain_rank',      ''),\n",
       "            (         'w_nc',      ''),\n",
       "            (        'trial',      '')],\n",
       "           )"
      ]
     },
     "execution_count": 31,
     "metadata": {},
     "output_type": "execute_result"
    }
   ],
   "source": [
    "z_top.columns"
   ]
  },
  {
   "cell_type": "code",
   "execution_count": 51,
   "metadata": {},
   "outputs": [
    {
     "data": {
      "text/plain": [
       "(trial, )\n",
       "1.0    AxesSubplot(0.125,0.125;0.775x0.755)\n",
       "2.0    AxesSubplot(0.125,0.125;0.775x0.755)\n",
       "3.0    AxesSubplot(0.125,0.125;0.775x0.755)\n",
       "dtype: object"
      ]
     },
     "execution_count": 51,
     "metadata": {},
     "output_type": "execute_result"
    },
    {
     "data": {
      "image/png": "[encoded data removed]",
      "text/plain": [
       "<Figure size 432x288 with 1 Axes>"
      ]
     },
     "metadata": {
      "needs_background": "light"
     },
     "output_type": "display_data"
    },
    {
     "data": {
      "image/png": "[encoded data removed]",
      "text/plain": [
       "<Figure size 432x288 with 1 Axes>"
      ]
     },
     "metadata": {
      "needs_background": "light"
     },
     "output_type": "display_data"
    },
    {
     "data": {
      "image/png": "[encoded data removed]",
      "text/plain": [
       "<Figure size 432x288 with 1 Axes>"
      ]
     },
     "metadata": {
      "needs_background": "light"
     },
     "output_type": "display_data"
    }
   ],
   "source": [
    "z_top.to_csv(\"\")"
   ]
  },
  {
   "cell_type": "markdown",
   "metadata": {},
   "source": [
    "### Convergence Results"
   ]
  },
  {
   "cell_type": "code",
   "execution_count": 61,
   "metadata": {},
   "outputs": [
    {
     "data": {
      "text/plain": [
       "w_nc  trial\n",
       "0.00  1.0      1.0\n",
       "      2.0      1.0\n",
       "      3.0      1.0\n",
       "0.05  1.0      1.0\n",
       "      2.0      1.0\n",
       "      3.0      3.0\n",
       "0.10  1.0      2.0\n",
       "      2.0      1.0\n",
       "      3.0      3.0\n",
       "0.15  1.0      1.0\n",
       "      2.0      1.0\n",
       "      3.0      1.0\n",
       "0.20  1.0      1.0\n",
       "      2.0      1.0\n",
       "      3.0      1.0\n",
       "0.25  1.0      1.0\n",
       "      2.0      1.0\n",
       "      3.0      1.0\n",
       "0.30  1.0      1.0\n",
       "      2.0      1.0\n",
       "      3.0      1.0\n",
       "0.35  1.0      1.0\n",
       "      2.0      1.0\n",
       "      3.0      2.0\n",
       "0.40  1.0      1.0\n",
       "      2.0      1.0\n",
       "      3.0      1.0\n",
       "0.45  1.0      1.0\n",
       "      2.0      1.0\n",
       "      3.0      2.0\n",
       "0.50  1.0      1.0\n",
       "      2.0      1.0\n",
       "      3.0      1.0\n",
       "0.55  1.0      1.0\n",
       "      2.0      1.0\n",
       "      3.0      1.0\n",
       "dtype: float64"
      ]
     },
     "execution_count": 61,
     "metadata": {},
     "output_type": "execute_result"
    }
   ],
   "source": [
    "z_top.groupby([\"w_nc\",\"trial\"]).apply(lambda x: x.chain_rank.loc[x.index==\"['No-norm', 'true']\"].min())"
   ]
  },
  {
   "cell_type": "markdown",
   "metadata": {},
   "source": [
    "### Collate convergence"
   ]
  },
  {
   "cell_type": "code",
   "execution_count": 100,
   "metadata": {},
   "outputs": [],
   "source": [
    "!touch \"exp4_convergence.txt\""
   ]
  },
  {
   "cell_type": "code",
   "execution_count": 101,
   "metadata": {},
   "outputs": [],
   "source": [
    "for exp_path in exp_paths:\n",
    "    #w_nc,trial=tuple(map(lambda x: float(x.split(\"=\")[-1]),exp_path.split(\",\")))\n",
    "    !echo {exp_path} >> exp4_convergence.txt\n",
    "    !cat {base_path+exp_path+\"/conv_test_nc.txt\"} >> exp4_convergence.txt\n",
    "    !echo -e \"\\n ---\" >> exp4_convergence.txt"
   ]
  },
  {
   "cell_type": "code",
   "execution_count": null,
   "metadata": {},
   "outputs": [],
   "source": []
  },
  {
   "cell_type": "code",
   "execution_count": null,
   "metadata": {},
   "outputs": [],
   "source": []
  },
  {
   "cell_type": "code",
   "execution_count": null,
   "metadata": {},
   "outputs": [],
   "source": []
  }
 ],
 "metadata": {
  "kernelspec": {
   "display_name": "Python 3",
   "language": "python",
   "name": "python3"
  },
  "language_info": {
   "codemirror_mode": {
    "name": "ipython",
    "version": 3
   },
   "file_extension": ".py",
   "mimetype": "text/x-python",
   "name": "python",
   "nbconvert_exporter": "python",
   "pygments_lexer": "ipython3",
   "version": "3.8.2"
  }
 },
 "nbformat": 4,
 "nbformat_minor": 4
}
