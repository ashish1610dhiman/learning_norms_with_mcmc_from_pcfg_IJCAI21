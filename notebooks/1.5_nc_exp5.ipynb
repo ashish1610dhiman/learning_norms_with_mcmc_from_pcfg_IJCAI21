{
 "cells": [
  {
   "cell_type": "markdown",
   "metadata": {},
   "source": [
    "## Non Compliance Experiment=5\n",
    "Test top norms for different w_nc, and relation between violations with diff params   \n",
    "Dask page: http://localhost:8787/info/main/workers.html"
   ]
  },
  {
   "cell_type": "code",
   "execution_count": 1,
   "metadata": {},
   "outputs": [],
   "source": [
    "import sys\n",
    "sys.path.append('../src')"
   ]
  },
  {
   "cell_type": "code",
   "execution_count": 2,
   "metadata": {},
   "outputs": [],
   "source": [
    "import yaml\n",
    "from IPython.utils import io\n",
    "from tqdm.notebook import tqdm\n",
    "from pathlib import Path\n",
    "import pandas as pd\n",
    "import numpy as np\n",
    "from mcmc_norm_learning.algorithm_1_v4 import to_tuple\n",
    "from pickle_wrapper import unpickle"
   ]
  },
  {
   "cell_type": "code",
   "execution_count": 3,
   "metadata": {},
   "outputs": [],
   "source": [
    "def write_log(output,path):\n",
    "    with open(Path(path), 'w') as f:\n",
    "        f.write(output)"
   ]
  },
  {
   "cell_type": "markdown",
   "metadata": {},
   "source": [
    "## Loop over w_nc values\n",
    "### Trial=1"
   ]
  },
  {
   "cell_type": "code",
   "execution_count": 4,
   "metadata": {},
   "outputs": [],
   "source": [
    "exp_pattern=\"exp_nc5/w_nc={},trial={}\""
   ]
  },
  {
   "cell_type": "code",
   "execution_count": 5,
   "metadata": {},
   "outputs": [
    {
     "name": "stdout",
     "output_type": "stream",
     "text": [
      "zsh:1: no matches found: ../data_nc/exp_nc5/*\r\n"
     ]
    }
   ],
   "source": [
    "!rm -r ../data_nc/exp_nc5/*"
   ]
  },
  {
   "cell_type": "code",
   "execution_count": 6,
   "metadata": {},
   "outputs": [
    {
     "data": {
      "text/plain": [
       "[0.0, 0.05, 0.1, 0.15, 0.2, 0.25, 0.3, 0.35, 0.4, 0.45, 0.5, 0.55]"
      ]
     },
     "execution_count": 6,
     "metadata": {},
     "output_type": "execute_result"
    }
   ],
   "source": [
    "w_nc_list=[round(0.05*i,2) for i in range(12)]\n",
    "w_nc_list"
   ]
  },
  {
   "cell_type": "code",
   "execution_count": 7,
   "metadata": {},
   "outputs": [],
   "source": [
    "w_nc_parts={\n",
    "    f\"part_{part}\": w_nc_list[i*2:(i+1)*2]\\\n",
    "    for part,i in zip([\"a\",\"b\",\"c\",\"d\",\"e\",\"f\"],range(int(len(w_nc_list)/2)+1))\\\n",
    "}"
   ]
  },
  {
   "cell_type": "code",
   "execution_count": 8,
   "metadata": {},
   "outputs": [
    {
     "data": {
      "text/plain": [
       "{'part_a': [0.0, 0.05],\n",
       " 'part_b': [0.1, 0.15],\n",
       " 'part_c': [0.2, 0.25],\n",
       " 'part_d': [0.3, 0.35],\n",
       " 'part_e': [0.4, 0.45],\n",
       " 'part_f': [0.5, 0.55]}"
      ]
     },
     "execution_count": 8,
     "metadata": {},
     "output_type": "execute_result"
    }
   ],
   "source": [
    "w_nc_parts"
   ]
  },
  {
   "cell_type": "code",
   "execution_count": 9,
   "metadata": {},
   "outputs": [
    {
     "data": {
      "application/vnd.jupyter.widget-view+json": {
       "model_id": "0ec2cc9a1ddc4d7297d8df87acf965fd",
       "version_major": 2,
       "version_minor": 0
      },
      "text/plain": [
       "HBox(children=(HTML(value='Loop Over diff w_nc: Part part_a'), FloatProgress(value=0.0, max=2.0), HTML(value='…"
      ]
     },
     "metadata": {},
     "output_type": "display_data"
    },
    {
     "name": "stdout",
     "output_type": "stream",
     "text": [
      "\n"
     ]
    },
    {
     "data": {
      "application/vnd.jupyter.widget-view+json": {
       "model_id": "7780cf95a1d9466ebb91bc493de06b9e",
       "version_major": 2,
       "version_minor": 0
      },
      "text/plain": [
       "HBox(children=(HTML(value='Loop Over diff w_nc: Part part_b'), FloatProgress(value=0.0, max=2.0), HTML(value='…"
      ]
     },
     "metadata": {},
     "output_type": "display_data"
    },
    {
     "name": "stdout",
     "output_type": "stream",
     "text": [
      "\n"
     ]
    },
    {
     "data": {
      "application/vnd.jupyter.widget-view+json": {
       "model_id": "55cf0bfc3e0645b7bd6151a541f8076a",
       "version_major": 2,
       "version_minor": 0
      },
      "text/plain": [
       "HBox(children=(HTML(value='Loop Over diff w_nc: Part part_c'), FloatProgress(value=0.0, max=2.0), HTML(value='…"
      ]
     },
     "metadata": {},
     "output_type": "display_data"
    },
    {
     "name": "stdout",
     "output_type": "stream",
     "text": [
      "\n"
     ]
    },
    {
     "data": {
      "application/vnd.jupyter.widget-view+json": {
       "model_id": "b2088483130a4a9a8758b7c9b533bfe2",
       "version_major": 2,
       "version_minor": 0
      },
      "text/plain": [
       "HBox(children=(HTML(value='Loop Over diff w_nc: Part part_d'), FloatProgress(value=0.0, max=2.0), HTML(value='…"
      ]
     },
     "metadata": {},
     "output_type": "display_data"
    },
    {
     "name": "stdout",
     "output_type": "stream",
     "text": [
      "\n"
     ]
    },
    {
     "data": {
      "application/vnd.jupyter.widget-view+json": {
       "model_id": "5421066953044540a99d3bca3646d6d7",
       "version_major": 2,
       "version_minor": 0
      },
      "text/plain": [
       "HBox(children=(HTML(value='Loop Over diff w_nc: Part part_e'), FloatProgress(value=0.0, max=2.0), HTML(value='…"
      ]
     },
     "metadata": {},
     "output_type": "display_data"
    },
    {
     "name": "stdout",
     "output_type": "stream",
     "text": [
      "\n"
     ]
    },
    {
     "data": {
      "application/vnd.jupyter.widget-view+json": {
       "model_id": "7c34925be2284a0a99572d57c5f7aede",
       "version_major": 2,
       "version_minor": 0
      },
      "text/plain": [
       "HBox(children=(HTML(value='Loop Over diff w_nc: Part part_f'), FloatProgress(value=0.0, max=2.0), HTML(value='…"
      ]
     },
     "metadata": {},
     "output_type": "display_data"
    },
    {
     "name": "stdout",
     "output_type": "stream",
     "text": [
      "\n"
     ]
    },
    {
     "data": {
      "application/vnd.jupyter.widget-view+json": {
       "model_id": "617daa6e7dcc4906ad94515567190ad9",
       "version_major": 2,
       "version_minor": 0
      },
      "text/plain": [
       "HBox(children=(HTML(value='Loop Over diff w_nc: Part part_a'), FloatProgress(value=0.0, max=2.0), HTML(value='…"
      ]
     },
     "metadata": {},
     "output_type": "display_data"
    },
    {
     "name": "stdout",
     "output_type": "stream",
     "text": [
      "\n"
     ]
    },
    {
     "data": {
      "application/vnd.jupyter.widget-view+json": {
       "model_id": "81ab87f17b0b48dbb20a69c1ee11447a",
       "version_major": 2,
       "version_minor": 0
      },
      "text/plain": [
       "HBox(children=(HTML(value='Loop Over diff w_nc: Part part_b'), FloatProgress(value=0.0, max=2.0), HTML(value='…"
      ]
     },
     "metadata": {},
     "output_type": "display_data"
    },
    {
     "name": "stdout",
     "output_type": "stream",
     "text": [
      "\n"
     ]
    },
    {
     "data": {
      "application/vnd.jupyter.widget-view+json": {
       "model_id": "f335abbfc2994767be9f254481f26223",
       "version_major": 2,
       "version_minor": 0
      },
      "text/plain": [
       "HBox(children=(HTML(value='Loop Over diff w_nc: Part part_c'), FloatProgress(value=0.0, max=2.0), HTML(value='…"
      ]
     },
     "metadata": {},
     "output_type": "display_data"
    },
    {
     "name": "stdout",
     "output_type": "stream",
     "text": [
      "\n"
     ]
    },
    {
     "data": {
      "application/vnd.jupyter.widget-view+json": {
       "model_id": "b00c3817ad694d9ebb3e4d7d526fc558",
       "version_major": 2,
       "version_minor": 0
      },
      "text/plain": [
       "HBox(children=(HTML(value='Loop Over diff w_nc: Part part_d'), FloatProgress(value=0.0, max=2.0), HTML(value='…"
      ]
     },
     "metadata": {},
     "output_type": "display_data"
    },
    {
     "name": "stdout",
     "output_type": "stream",
     "text": [
      "\n"
     ]
    },
    {
     "data": {
      "application/vnd.jupyter.widget-view+json": {
       "model_id": "21ad3ae10c6c4d5488fd71f6a2c9c1a1",
       "version_major": 2,
       "version_minor": 0
      },
      "text/plain": [
       "HBox(children=(HTML(value='Loop Over diff w_nc: Part part_e'), FloatProgress(value=0.0, max=2.0), HTML(value='…"
      ]
     },
     "metadata": {},
     "output_type": "display_data"
    },
    {
     "name": "stdout",
     "output_type": "stream",
     "text": [
      "\n"
     ]
    },
    {
     "data": {
      "application/vnd.jupyter.widget-view+json": {
       "model_id": "e27679f0fda34d1e93ebfb70dc40c5ab",
       "version_major": 2,
       "version_minor": 0
      },
      "text/plain": [
       "HBox(children=(HTML(value='Loop Over diff w_nc: Part part_f'), FloatProgress(value=0.0, max=2.0), HTML(value='…"
      ]
     },
     "metadata": {},
     "output_type": "display_data"
    },
    {
     "name": "stdout",
     "output_type": "stream",
     "text": [
      "\n"
     ]
    },
    {
     "data": {
      "application/vnd.jupyter.widget-view+json": {
       "model_id": "b91cbbd9887141668524e15c0785541f",
       "version_major": 2,
       "version_minor": 0
      },
      "text/plain": [
       "HBox(children=(HTML(value='Loop Over diff w_nc: Part part_a'), FloatProgress(value=0.0, max=2.0), HTML(value='…"
      ]
     },
     "metadata": {},
     "output_type": "display_data"
    },
    {
     "name": "stdout",
     "output_type": "stream",
     "text": [
      "\n"
     ]
    },
    {
     "data": {
      "application/vnd.jupyter.widget-view+json": {
       "model_id": "4391ae956d3a4ce5838dd7b001201426",
       "version_major": 2,
       "version_minor": 0
      },
      "text/plain": [
       "HBox(children=(HTML(value='Loop Over diff w_nc: Part part_b'), FloatProgress(value=0.0, max=2.0), HTML(value='…"
      ]
     },
     "metadata": {},
     "output_type": "display_data"
    },
    {
     "name": "stdout",
     "output_type": "stream",
     "text": [
      "\n"
     ]
    },
    {
     "data": {
      "application/vnd.jupyter.widget-view+json": {
       "model_id": "64b136f8549c4a978b020f3ef91102de",
       "version_major": 2,
       "version_minor": 0
      },
      "text/plain": [
       "HBox(children=(HTML(value='Loop Over diff w_nc: Part part_c'), FloatProgress(value=0.0, max=2.0), HTML(value='…"
      ]
     },
     "metadata": {},
     "output_type": "display_data"
    },
    {
     "name": "stdout",
     "output_type": "stream",
     "text": [
      "\n"
     ]
    },
    {
     "data": {
      "application/vnd.jupyter.widget-view+json": {
       "model_id": "c6322f78c510404d9b6d986bb4521ccb",
       "version_major": 2,
       "version_minor": 0
      },
      "text/plain": [
       "HBox(children=(HTML(value='Loop Over diff w_nc: Part part_d'), FloatProgress(value=0.0, max=2.0), HTML(value='…"
      ]
     },
     "metadata": {},
     "output_type": "display_data"
    },
    {
     "name": "stdout",
     "output_type": "stream",
     "text": [
      "\n"
     ]
    },
    {
     "data": {
      "application/vnd.jupyter.widget-view+json": {
       "model_id": "b6f506b475954a7a802f89c61ee0a428",
       "version_major": 2,
       "version_minor": 0
      },
      "text/plain": [
       "HBox(children=(HTML(value='Loop Over diff w_nc: Part part_e'), FloatProgress(value=0.0, max=2.0), HTML(value='…"
      ]
     },
     "metadata": {},
     "output_type": "display_data"
    },
    {
     "name": "stdout",
     "output_type": "stream",
     "text": [
      "\n"
     ]
    },
    {
     "data": {
      "application/vnd.jupyter.widget-view+json": {
       "model_id": "5addd7a6da874ae3b3d95a23aedcd0bf",
       "version_major": 2,
       "version_minor": 0
      },
      "text/plain": [
       "HBox(children=(HTML(value='Loop Over diff w_nc: Part part_f'), FloatProgress(value=0.0, max=2.0), HTML(value='…"
      ]
     },
     "metadata": {},
     "output_type": "display_data"
    },
    {
     "name": "stdout",
     "output_type": "stream",
     "text": [
      "\n"
     ]
    }
   ],
   "source": [
    "import time\n",
    "for trial in [1,2,3]:\n",
    "    for part,w_nc_sub in w_nc_parts.items():\n",
    "        for w_nc in tqdm(w_nc_sub,f\"Loop Over diff w_nc: Part {part}\"):\n",
    "            exp_dir_name=exp_pattern.format(w_nc,trial)\n",
    "            with io.capture_output() as exp_log:\n",
    "                !python ../scripts/nc_experiments.py -exp $exp_dir_name -w_nc $w_nc  -n_threads 7\n",
    "            write_log(exp_log.stdout,\"../data_nc/{}/run.log\".format(exp_dir_name))\n",
    "            time.sleep(10)"
   ]
  },
  {
   "cell_type": "markdown",
   "metadata": {},
   "source": [
    "## Check if lik values are as expected\n",
    "### 1. True Norm log_posterior for diff w_nc"
   ]
  },
  {
   "cell_type": "code",
   "execution_count": 10,
   "metadata": {},
   "outputs": [
    {
     "data": {
      "text/plain": [
       "'exp_nc5/w_nc={},trial={}'"
      ]
     },
     "execution_count": 10,
     "metadata": {},
     "output_type": "execute_result"
    }
   ],
   "source": [
    "exp_pattern"
   ]
  },
  {
   "cell_type": "code",
   "execution_count": 11,
   "metadata": {},
   "outputs": [
    {
     "data": {
      "text/plain": [
       "-549.3061443340548"
      ]
     },
     "execution_count": 11,
     "metadata": {},
     "output_type": "execute_result"
    }
   ],
   "source": [
    "from numpy import log\n",
    "100*log(1/243)"
   ]
  },
  {
   "cell_type": "code",
   "execution_count": 12,
   "metadata": {},
   "outputs": [
    {
     "name": "stdout",
     "output_type": "stream",
     "text": [
      "For w_nc=0.0:\n",
      "['For True Norm, prior=8.930612711476907e-07, log_prior=-13.928610645716274']\n",
      "['lik_no_norm=-549.3061443340544,lik_true_norm=-522.2848671932203']\n",
      "\n",
      "For w_nc=0.05:\n",
      "['For True Norm, prior=8.930612711476907e-07, log_prior=-13.928610645716274']\n",
      "['lik_no_norm=-549.3061443340544,lik_true_norm=-519.092988336261']\n",
      "\n",
      "For w_nc=0.1:\n",
      "['For True Norm, prior=8.930612711476907e-07, log_prior=-13.928610645716274']\n",
      "['lik_no_norm=-549.3061443340544,lik_true_norm=-524.9618152263345']\n",
      "\n",
      "For w_nc=0.15:\n",
      "['For True Norm, prior=8.930612711476907e-07, log_prior=-13.928610645716274']\n",
      "['lik_no_norm=-549.3061443340544,lik_true_norm=-525.9182147369628']\n",
      "\n",
      "For w_nc=0.2:\n",
      "['For True Norm, prior=8.930612711476907e-07, log_prior=-13.928610645716274']\n",
      "['lik_no_norm=-549.3061443340544,lik_true_norm=-522.2426149850588']\n",
      "\n",
      "For w_nc=0.25:\n",
      "['For True Norm, prior=8.930612711476907e-07, log_prior=-13.928610645716274']\n",
      "['lik_no_norm=-549.3061443340544,lik_true_norm=-521.831469788085']\n",
      "\n",
      "For w_nc=0.3:\n",
      "['For True Norm, prior=8.930612711476907e-07, log_prior=-13.928610645716274']\n",
      "['lik_no_norm=-549.3061443340544,lik_true_norm=-546.636335717091']\n",
      "\n",
      "For w_nc=0.35:\n",
      "['For True Norm, prior=8.930612711476907e-07, log_prior=-13.928610645716274']\n",
      "['lik_no_norm=-549.3061443340544,lik_true_norm=-535.2448322590167']\n",
      "\n",
      "For w_nc=0.4:\n",
      "['For True Norm, prior=8.930612711476907e-07, log_prior=-13.928610645716274']\n",
      "['lik_no_norm=-549.3061443340544,lik_true_norm=-531.7846222861425']\n",
      "\n",
      "For w_nc=0.45:\n",
      "['For True Norm, prior=8.930612711476907e-07, log_prior=-13.928610645716274']\n",
      "['lik_no_norm=-549.3061443340544,lik_true_norm=-535.1474453379703']\n",
      "\n",
      "For w_nc=0.5:\n",
      "['For True Norm, prior=8.930612711476907e-07, log_prior=-13.928610645716274']\n",
      "['lik_no_norm=-549.3061443340544,lik_true_norm=-544.5489801766041']\n",
      "\n",
      "For w_nc=0.55:\n",
      "['For True Norm, prior=8.930612711476907e-07, log_prior=-13.928610645716274']\n",
      "['lik_no_norm=-549.3061443340544,lik_true_norm=-539.5234932315396']\n",
      "\n",
      "For w_nc=0.0:\n",
      "['For True Norm, prior=8.930612711476907e-07, log_prior=-13.928610645716274']\n",
      "['lik_no_norm=-549.3061443340544,lik_true_norm=-514.0192170276399']\n",
      "\n",
      "For w_nc=0.05:\n",
      "['For True Norm, prior=8.930612711476907e-07, log_prior=-13.928610645716274']\n",
      "['lik_no_norm=-549.3061443340544,lik_true_norm=-519.6175133258258']\n",
      "\n",
      "For w_nc=0.1:\n",
      "['For True Norm, prior=8.930612711476907e-07, log_prior=-13.928610645716274']\n",
      "['lik_no_norm=-549.3061443340544,lik_true_norm=-515.6526105896987']\n",
      "\n",
      "For w_nc=0.15:\n",
      "['For True Norm, prior=8.930612711476907e-07, log_prior=-13.928610645716274']\n",
      "['lik_no_norm=-549.3061443340544,lik_true_norm=-516.1462559291599']\n",
      "\n",
      "For w_nc=0.2:\n",
      "['For True Norm, prior=8.930612711476907e-07, log_prior=-13.928610645716274']\n",
      "['lik_no_norm=-549.3061443340544,lik_true_norm=-526.0717519729906']\n",
      "\n",
      "For w_nc=0.25:\n",
      "['For True Norm, prior=8.930612711476907e-07, log_prior=-13.928610645716274']\n",
      "['lik_no_norm=-549.3061443340544,lik_true_norm=-531.245112376173']\n",
      "\n",
      "For w_nc=0.3:\n",
      "['For True Norm, prior=8.930612711476907e-07, log_prior=-13.928610645716274']\n",
      "['lik_no_norm=-549.3061443340544,lik_true_norm=-533.7932265387981']\n",
      "\n",
      "For w_nc=0.35:\n",
      "['For True Norm, prior=8.930612711476907e-07, log_prior=-13.928610645716274']\n",
      "['lik_no_norm=-549.3061443340544,lik_true_norm=-538.5631199216838']\n",
      "\n",
      "For w_nc=0.4:\n",
      "['For True Norm, prior=8.930612711476907e-07, log_prior=-13.928610645716274']\n",
      "['lik_no_norm=-549.3061443340544,lik_true_norm=-538.3975947809339']\n",
      "\n",
      "For w_nc=0.45:\n",
      "['For True Norm, prior=8.930612711476907e-07, log_prior=-13.928610645716274']\n",
      "['lik_no_norm=-549.3061443340544,lik_true_norm=-545.3675432861542']\n",
      "\n",
      "For w_nc=0.5:\n",
      "['For True Norm, prior=8.930612711476907e-07, log_prior=-13.928610645716274']\n",
      "['lik_no_norm=-549.3061443340544,lik_true_norm=-538.9729446107244']\n",
      "\n",
      "For w_nc=0.55:\n",
      "['For True Norm, prior=8.930612711476907e-07, log_prior=-13.928610645716274']\n",
      "['lik_no_norm=-549.3061443340544,lik_true_norm=-543.3958428782432']\n",
      "\n",
      "For w_nc=0.0:\n",
      "['For True Norm, prior=8.930612711476907e-07, log_prior=-13.928610645716274']\n",
      "['lik_no_norm=-549.3061443340544,lik_true_norm=-514.5424651714045']\n",
      "\n",
      "For w_nc=0.05:\n",
      "['For True Norm, prior=8.930612711476907e-07, log_prior=-13.928610645716274']\n",
      "['lik_no_norm=-549.3061443340544,lik_true_norm=-522.0505678026918']\n",
      "\n",
      "For w_nc=0.1:\n",
      "['For True Norm, prior=8.930612711476907e-07, log_prior=-13.928610645716274']\n",
      "['lik_no_norm=-549.3061443340544,lik_true_norm=-516.4083098758542']\n",
      "\n",
      "For w_nc=0.15:\n",
      "['For True Norm, prior=8.930612711476907e-07, log_prior=-13.928610645716274']\n",
      "['lik_no_norm=-549.3061443340544,lik_true_norm=-516.3495022524168']\n",
      "\n",
      "For w_nc=0.2:\n",
      "['For True Norm, prior=8.930612711476907e-07, log_prior=-13.928610645716274']\n",
      "['lik_no_norm=-549.3061443340544,lik_true_norm=-524.6141808935738']\n",
      "\n",
      "For w_nc=0.25:\n",
      "['For True Norm, prior=8.930612711476907e-07, log_prior=-13.928610645716274']\n",
      "['lik_no_norm=-549.3061443340544,lik_true_norm=-550.1113057293626']\n",
      "\n",
      "For w_nc=0.3:\n",
      "['For True Norm, prior=8.930612711476907e-07, log_prior=-13.928610645716274']\n",
      "['lik_no_norm=-549.3061443340544,lik_true_norm=-538.4594600061267']\n",
      "\n",
      "For w_nc=0.35:\n",
      "['For True Norm, prior=8.930612711476907e-07, log_prior=-13.928610645716274']\n",
      "['lik_no_norm=-549.3061443340544,lik_true_norm=-541.5874653966404']\n",
      "\n",
      "For w_nc=0.4:\n",
      "['For True Norm, prior=8.930612711476907e-07, log_prior=-13.928610645716274']\n",
      "['lik_no_norm=-549.3061443340544,lik_true_norm=-534.1094390038322']\n",
      "\n",
      "For w_nc=0.45:\n",
      "['For True Norm, prior=8.930612711476907e-07, log_prior=-13.928610645716274']\n",
      "['lik_no_norm=-549.3061443340544,lik_true_norm=-535.6142509376177']\n",
      "\n",
      "For w_nc=0.5:\n",
      "['For True Norm, prior=8.930612711476907e-07, log_prior=-13.928610645716274']\n",
      "['lik_no_norm=-549.3061443340544,lik_true_norm=-546.8752817962154']\n",
      "\n",
      "For w_nc=0.55:\n",
      "['For True Norm, prior=8.930612711476907e-07, log_prior=-13.928610645716274']\n",
      "['lik_no_norm=-549.3061443340544,lik_true_norm=-545.1253266740241']\n",
      "\n"
     ]
    }
   ],
   "source": [
    "for trial in [1,2,3]:\n",
    "    for w_nc in w_nc_list:\n",
    "        exp_dir_name=exp_pattern.format(w_nc,trial)\n",
    "        prior_out=!grep \"For True Norm\" ../data_nc/{exp_dir_name}/run.log\n",
    "        post_out=!grep \"lik_no_norm\" ../data_nc/{exp_dir_name}/run.log\n",
    "        print (f\"For w_nc={w_nc}:\")\n",
    "        print (prior_out)\n",
    "        print (post_out)\n",
    "        print()"
   ]
  },
  {
   "cell_type": "markdown",
   "metadata": {},
   "source": [
    "### 2. True Norm atleast mentioned in any chains, for diff w_nc"
   ]
  },
  {
   "cell_type": "code",
   "execution_count": null,
   "metadata": {},
   "outputs": [],
   "source": [
    "# for w_nc in w_nc_list:\n",
    "#     exp_dir_name=exp_pattern.format(w_nc)\n",
    "#     out=!grep \"True norm in some chain(s)\" ../data_nc/{exp_dir_name}/chain_info.txt\n",
    "#     print (f\"For w_nc={w_nc}, True Norm found={out}\")"
   ]
  },
  {
   "cell_type": "markdown",
   "metadata": {},
   "source": [
    "### 3. Rank of True Norm as per log_post, iff it was found"
   ]
  },
  {
   "cell_type": "code",
   "execution_count": null,
   "metadata": {},
   "outputs": [],
   "source": [
    "# with open(\"../params_nc.yaml\", 'r') as fd:\n",
    "#     params = yaml.safe_load(fd)\n",
    "# true_norm=to_tuple(params['true_norm']['exp'])"
   ]
  },
  {
   "cell_type": "code",
   "execution_count": null,
   "metadata": {},
   "outputs": [],
   "source": [
    "# for w_nc in w_nc_list:\n",
    "#     exp_dir_name=exp_pattern.format(w_nc)\n",
    "#     rank_df=pd.read_csv(f\"../data_nc/{exp_dir_name}/ranked_posteriors.csv\",index_col=False)\n",
    "#     rank_post=rank_df.loc[rank_df.expression==str(true_norm)][[\"post_rank\",\"log_posterior\"]].values\n",
    "#     if rank_post.shape[0]==1:\n",
    "#         print (f\"For w_nc={w_nc}, True Norm rank={rank_post[0][0]},wi posterior={rank_post[0][1]}\")"
   ]
  },
  {
   "cell_type": "markdown",
   "metadata": {},
   "source": [
    "#### ==> True Norm always has highest posterior, when its found,\n",
    "confirm if it is in one chain, or multiple"
   ]
  },
  {
   "cell_type": "markdown",
   "metadata": {},
   "source": [
    "### 4. In how many chains, max post crosses post(true_norm)"
   ]
  },
  {
   "cell_type": "code",
   "execution_count": null,
   "metadata": {},
   "outputs": [],
   "source": [
    "# stacked=pd.DataFrame()\n",
    "# for w_nc in w_nc_list:\n",
    "#     exp_dir_name=\"exp_nc2/w_nc={}\".format(w_nc)\n",
    "#     result = pd.read_csv(f\"../data_nc/{exp_dir_name}/chain_posteriors_nc.csv\")\n",
    "#     result[\"w_nc\"] = w_nc\n",
    "#     stacked=stacked.append(result)"
   ]
  },
  {
   "cell_type": "code",
   "execution_count": null,
   "metadata": {},
   "outputs": [],
   "source": [
    "# grouped=stacked.groupby([\"w_nc\",\"chain_number\"])[[\"log_posterior\"]].agg(['min', 'max', 'mean', 'std'])"
   ]
  },
  {
   "cell_type": "code",
   "execution_count": null,
   "metadata": {},
   "outputs": [],
   "source": [
    "# true_post={\n",
    "#     \"a\":-25177,\"b\":-25782,\\\n",
    "#     \"c\":1,\"d\":-25773,\\\n",
    "#     \"e\":-25884,\"f\":1\n",
    "# }"
   ]
  },
  {
   "cell_type": "code",
   "execution_count": null,
   "metadata": {},
   "outputs": [],
   "source": [
    "# grouped[\"w_nc\"]=[x[0] for x in grouped.index]\n",
    "# grouped[\"key\"]=np.where(grouped[\"w_nc\"]==0.0,\"a\",\\\n",
    "#                         np.where(grouped[\"w_nc\"]==0.05,\"b\",\\\n",
    "#                                 np.where(grouped[\"w_nc\"]==0.1,\"c\",\\\n",
    "#                                         np.where(grouped[\"w_nc\"]==0.15,\"d\",\\\n",
    "#                                                 np.where(grouped[\"w_nc\"]==0.2,\"e\",\"f\")\\\n",
    "#                                                 )\\\n",
    "#                                         )\\\n",
    "#                                 )\\\n",
    "#                         )"
   ]
  },
  {
   "cell_type": "code",
   "execution_count": null,
   "metadata": {},
   "outputs": [],
   "source": [
    "# grouped.style.apply(lambda x: ['background: lightgreen' if x['log_posterior',  'max'] >=\\\n",
    "#                                true_post[x[\"key\"].values.item()] else '' for i in x], \n",
    "#                axis=1)"
   ]
  },
  {
   "cell_type": "markdown",
   "metadata": {},
   "source": [
    "### 5. If True Norm, features in Top Norms"
   ]
  },
  {
   "cell_type": "code",
   "execution_count": null,
   "metadata": {},
   "outputs": [],
   "source": [
    "# top_norms=stacked.groupby([\"w_nc\",\"expression\"]\\\n",
    "#                )[[\"chain_number\",\"log_posterior\"\\\n",
    "#                  ]].agg({\"log_posterior\":'mean',\"chain_number\":\"count\"}\\\n",
    "#                        ).sort_values(by=[\"chain_number\"]\\\n",
    "#                                     ).groupby([\"w_nc\"\\\n",
    "#                                               ]).tail(20).sort_values(by=[\"w_nc\",\"chain_number\"],\\\n",
    "#                                                                      ascending=[True, False])"
   ]
  },
  {
   "cell_type": "code",
   "execution_count": null,
   "metadata": {},
   "outputs": [],
   "source": [
    "# top_norms[\"grp_rnk\"]=top_norms.groupby(\"w_nc\")[[\"chain_number\"]].rank(method='dense',ascending=False)"
   ]
  },
  {
   "cell_type": "code",
   "execution_count": null,
   "metadata": {},
   "outputs": [],
   "source": [
    "# top_norms.loc[0.0].head(10).style.apply(lambda x: ['background: lightgreen' if x['log_posterior'] >=\\\n",
    "#                                true_post[\"a\"] else '' for i in x], \n",
    "#                axis=1)"
   ]
  },
  {
   "cell_type": "code",
   "execution_count": null,
   "metadata": {},
   "outputs": [],
   "source": [
    "# top_norms.loc[0.05].head(4).style.apply(lambda x: ['background: lightgreen' if x['log_posterior'] >=\\\n",
    "#                                true_post[\"b\"] else '' for i in x], \n",
    "#                axis=1)"
   ]
  },
  {
   "cell_type": "code",
   "execution_count": null,
   "metadata": {},
   "outputs": [],
   "source": [
    "# true_norm"
   ]
  },
  {
   "cell_type": "markdown",
   "metadata": {},
   "source": [
    "#### Below top norms(1,2) equivalent norm to true norm for a very peculiar action seq:\n",
    "1. posterior is lowered due to low prior (~complex condition)"
   ]
  },
  {
   "cell_type": "code",
   "execution_count": null,
   "metadata": {},
   "outputs": [],
   "source": [
    "# top_norms.loc[0.1].head(4).style.apply(lambda x: ['background: lightgreen' if x['log_posterior'] >=\\\n",
    "#                                true_post[\"c\"] else '' for i in x], \n",
    "#                axis=1)"
   ]
  },
  {
   "cell_type": "code",
   "execution_count": null,
   "metadata": {},
   "outputs": [],
   "source": [
    "# top_norms.loc[0.15].head(4).style.apply(lambda x: ['background: lightgreen' if x['log_posterior'] >=\\\n",
    "#                                true_post[\"d\"] else '' for i in x], \n",
    "#                axis=1)"
   ]
  },
  {
   "cell_type": "code",
   "execution_count": null,
   "metadata": {},
   "outputs": [],
   "source": [
    "# top_norms.loc[0.2].head(10).style.apply(lambda x: ['background: lightgreen' if x['log_posterior'] >=\\\n",
    "#                                true_post[\"e\"] else '' for i in x], \n",
    "#                axis=1)"
   ]
  },
  {
   "cell_type": "code",
   "execution_count": null,
   "metadata": {},
   "outputs": [],
   "source": []
  },
  {
   "cell_type": "code",
   "execution_count": null,
   "metadata": {},
   "outputs": [],
   "source": []
  },
  {
   "cell_type": "code",
   "execution_count": null,
   "metadata": {},
   "outputs": [],
   "source": []
  }
 ],
 "metadata": {
  "kernelspec": {
   "display_name": "Python 3",
   "language": "python",
   "name": "python3"
  },
  "language_info": {
   "codemirror_mode": {
    "name": "ipython",
    "version": 3
   },
   "file_extension": ".py",
   "mimetype": "text/x-python",
   "name": "python",
   "nbconvert_exporter": "python",
   "pygments_lexer": "ipython3",
   "version": "3.8.2"
  }
 },
 "nbformat": 4,
 "nbformat_minor": 4
}
