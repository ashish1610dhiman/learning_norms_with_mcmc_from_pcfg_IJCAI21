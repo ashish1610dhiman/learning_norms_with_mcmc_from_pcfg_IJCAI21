{
 "cells": [
  {
   "cell_type": "markdown",
   "metadata": {
    "cell_id": "f421d884-17ac-4768-b79b-35d060a84d8c"
   },
   "source": [
    "### Notebook to illustrate MCMC sampling of Norms from pre-defined PCFGs\n",
    "\n",
    " *There are  the 5 main sections :*  \n",
    " **1. Initialising Environment and True Expression**  \n",
    " **2. Create Action Data on environment while performing randomised tasks**  \n",
    " **3. Run MCMC Algorithms to learn expressions from the data created earlier**  \n",
    " **4. Test  the performance of MCMC Algorithm by calculating Preciscion and Recall of Learned Norms**  \n",
    " **5. Test the convergence of MCMC algorithm**  "
   ]
  },
  {
   "cell_type": "code",
   "execution_count": null,
   "metadata": {
    "cell_id": "70f95fd0-0828-42ca-9594-8024c0748e98"
   },
   "outputs": [],
   "source": [
    "#Import the different modules required\n",
    "from mcmc_norm_learning.environment import *\n",
    "from mcmc_norm_learning.rules_4 import *\n",
    "from mcmc_norm_learning.robot_task_new import *\n",
    "from mcmc_norm_learning.algorithm_1_v4 import create_data,algorithm_1,to_tuple\n",
    "from mcmc_norm_learning.mcmc_performance import performance\n",
    "from mcmc_norm_learning.mcmc_convergence import prepare_sequences,calculate_R\n",
    "\n",
    "import matplotlib.pyplot as plt\n",
    "from collections import Counter\n",
    "import pickle\n",
    "import time\n",
    "import seaborn as sns\n",
    "import os\n",
    "import sys\n",
    "from tqdm import tnrange, tqdm_notebook\n"
   ]
  },
  {
   "cell_type": "markdown",
   "metadata": {
    "cell_id": "c2340673-b1cf-40b2-a608-53bc0bfd799f"
   },
   "source": [
    "### 1. Initialising Environment and True Expression\n",
    "* *Environment can be initialisaed with any number of objects (default=20) and a seed value can also be fed.*\n",
    "* *Expression refers to Norms initialised from the PCFG, True Expression means the eexpression used to create data which if further used to learn norms from MCMC.*\n"
   ]
  },
  {
   "cell_type": "code",
   "execution_count": null,
   "metadata": {
    "cell_id": "4d813185-84af-416f-9fc1-1b15c16267fe"
   },
   "outputs": [],
   "source": [
    "actionable = []\n",
    "while len(actionable) < 4:\n",
    "    env=create_env(N=40)\n",
    "    #fig,ax=plt.subplots(figsize=(8,6))\n",
    "    #plot_env(env,ax,legend=True)\n",
    "\n",
    "    #Dump env to file\n",
    "    with open('./demo/demo_env.sv', 'wb') as fp:\n",
    "        pickle.dump(env, fp)\n",
    "\n",
    "    target_area=[position(-0.8,0.7),position(0.25,0.99)]\n",
    "    task1=task(colour_specific=np.nan,shape_specific=np.nan,target_area=target_area)\n",
    "\n",
    "    rob = robot(task1,env)\n",
    "    actionable = rob.all_actionable()\n",
    "\n",
    "print(actionable)\n",
    "\n",
    "fig,ax=plt.subplots(figsize=(8,6))\n",
    "plot_task(env,ax,\"Clearing the highlighted area\",task1,True)\n",
    "#fig.savefig(\"example_task.pdf\", bbox_inches='tight')\n",
    "\n"
   ]
  },
  {
   "cell_type": "code",
   "execution_count": null,
   "metadata": {
    "cell_id": "379dcbd4-1d27-424c-a763-eb4b7f01d4e8"
   },
   "outputs": [],
   "source": [
    "true_expression=expand(\"NORMS\")\n",
    "print_expression(true_expression)\n",
    "\n",
    "\n",
    "#Dump expression\n",
    "with open('./demo/demo_exp.sv', 'wb') as fp:\n",
    "    pickle.dump(true_expression, fp)"
   ]
  },
  {
   "cell_type": "markdown",
   "metadata": {
    "cell_id": "221776a4-59b0-4ed5-b681-b39e99c3c350"
   },
   "source": [
    "### 2. Create Action Data on environment while performing randomised tasks\n",
    "Action data is can be created in two ways (parametrised by random_task):\n",
    "1. Either Initialising a task beforehand and performing it ceratin times (*num_repeat*)\n",
    "2. or, by initialisng random tasks for each iteration in *num_repeat*. In such a case relevance of tasks becomes redundant, and though target are of task is randomised, scope of task (i.e. color and shape of objects) is fixed. And in next step rf must be passed as nan.\n",
    "\n",
    "In both the cases the repetition of tasks is on the original state of environment provided to function"
   ]
  },
  {
   "cell_type": "code",
   "execution_count": null,
   "metadata": {
    "cell_id": "355b3325-1b63-477d-a38d-2dedfa1e49b9"
   },
   "outputs": [],
   "source": [
    "true_expression = ['Rules', ['Obl', ['Moved', ['Colour', 'any'], ['Shape', 'circle'], ['Zone', '2'], ['Moved', ['Colour', 'g'], ['Shape', 'square'], ['Zone', '2'], ['Next-Move', ['Colour', 'b'], ['Shape', 'triangle']]]], ['Zone', '3']], ['Per', ['Action', 'putdown'], ['Colour', 'g'], ['Shape', 'triangle'], ['PerZone', '1']]]\n",
    "\n",
    "with open('./demo/demo_exp.sv', 'wb') as fp:\n",
    "    pickle.dump(true_expression, fp)"
   ]
  },
  {
   "cell_type": "code",
   "execution_count": null,
   "metadata": {
    "cell_id": "62694026-1ade-40fc-8636-5badec0e7698"
   },
   "outputs": [],
   "source": [
    "\"\"\"\n",
    "with open('./demo/demo_env.sv', 'wb') as fp:\n",
    "    env = pickle.load(fp)\n",
    "with open('./demo/demo_exp.sv', 'rb') as fp:\n",
    "    true_expression = pickle.load(fp)\n",
    "\"\"\"\n",
    "\n",
    "import mcmc_norm_learning.verify_action_4\n",
    "import mcmc_norm_learning.rules_4\n",
    "import mcmc_norm_learning.robot_task_new\n",
    "import mcmc_norm_learning.working\n",
    "from importlib import reload\n",
    "from copy import deepcopy\n",
    "\n",
    "reload(mcmc_norm_learning.verify_action_4)\n",
    "reload(mcmc_norm_learning.rules_4)\n",
    "reload(mcmc_norm_learning.robot_task_new)\n",
    "reload(mcmc_norm_learning.working)\n",
    "from mcmc_norm_learning.working import *\n",
    "from mcmc_norm_learning.robot_task_new import *\n",
    "from mcmc_norm_learning.verify_action_4 import *\n",
    "\n",
    "rules = [true_expression[i] for i in range(1, len(true_expression))]\n",
    "\n",
    "if rules[0][0]==\"Pro\":\n",
    "    the_pro = rules[0]\n",
    "    print(\">>> Prohibition match check for\", the_pro, '\\n')\n",
    "    for oid in actionable:\n",
    "        get_obj(oid,env).describe()\n",
    "        print(check_pro_or_per(get_obj(oid,env),pro_or_per_action(the_pro),{1:the_pro}))\n",
    "        print()\n",
    "\n",
    "if rules[0][0]==\"Obl\":\n",
    "    rule = rules[0]\n",
    "    print(\">>> Obligation match check for\", rule, '\\n')\n",
    "    cond = rule[1]\n",
    "    conds_list = separate_conds(cond)\n",
    "    next_move = conds_list[-1]\n",
    "    for oid in actionable:\n",
    "        get_obj(oid,env).describe()\n",
    "        print(check_obl(get_obj(oid,env),{1:rule}))\n",
    "        print()\n",
    "\n",
    "if len(rules) > 1:\n",
    "    the_per = rules[1]\n",
    "    print(\">>> Permission match check for\", the_per,'\\n')\n",
    "    for oid in actionable:\n",
    "        get_obj(oid,env).describe()\n",
    "        print(check_pro_or_per(get_obj(oid,env),pro_or_per_action(the_per),{1:the_per}))\n",
    "        print()\n",
    "\n",
    "rob = robot(task1,deepcopy(env))\n",
    "ac = rob.all_compliant(rules,\"foo\")\n",
    "print(ac)\n",
    "\n",
    "from working import unless_moves\n",
    "print(\"List of unless moves\")\n",
    "print(list(unless_moves(ac)))\n",
    "\n",
    "order_constrained_subseqs = []\n",
    "for um in unless_moves(ac):\n",
    "    obl_obj_id, obl_obj_zones, moved_conds, pairs_dict = um\n",
    "    mss = list(matching_subseqs(moved_conds, pairs_dict, obl_obj_id, obl_obj_zones, env))\n",
    "    order_constrained_subseqs.extend(mss)\n",
    "\n",
    "print(\"order_constrained_subseqs:\")\n",
    "print(order_constrained_subseqs)\n",
    "\n",
    "\n",
    "for x in violating_sub_permutations(order_constrained_subseqs):\n",
    "    print(set(x))\n",
    "\n"
   ]
  },
  {
   "cell_type": "code",
   "execution_count": null,
   "metadata": {
    "cell_id": "5a83cb96-78be-48f4-9966-eca3a43f6903"
   },
   "outputs": [],
   "source": [
    "s=time.time()\n",
    "action_profile_with_norms=create_data(true_expression,env,name=\"demo\",task1=task1,random_task=False,\n",
    "                num_actionable=np.nan,num_repeat=250,verbose=False)\n",
    "print (\"Time Taken to complete job={:.2f}s\\n\".format(time.time()-s))"
   ]
  },
  {
   "cell_type": "code",
   "execution_count": null,
   "metadata": {
    "cell_id": "4a507c5d-ecd7-4605-b687-72b9bd97d1b7"
   },
   "outputs": [],
   "source": [
    "data=[]\n",
    "for itr,ap in action_profile_with_norms.items():\n",
    "    for i in range(0,int(len(ap)/2)):\n",
    "        data.append(tuple([ap[2*i],ap[2*i+1]]))\n",
    "print (\"Data Generated:\")\n",
    "for i in range(5):\n",
    "    print(data[i])\n",
    "    \n",
    "with open('./demo/demo_data.sv', 'wb') as fp:\n",
    "    pickle.dump(data, fp)"
   ]
  },
  {
   "cell_type": "markdown",
   "metadata": {
    "cell_id": "38ea23fc-774a-4b39-8fdd-873611569016"
   },
   "source": [
    "### 3. Run MCMC Algorithm to learn expressions from the data created earlier\n",
    "1. rf is the relevance discounting factor for irrelevant expressions.\n",
    "2. sim_t is the similarity threshold: cos(E1,E2) above which p_accept is penalised.\n",
    "3. sim_pen is the penalty imposed if the above threshold is crossed."
   ]
  },
  {
   "cell_type": "code",
   "execution_count": null,
   "metadata": {
    "cell_id": "1fab1a38-259f-4a27-879f-567ce2ef7ee5"
   },
   "outputs": [],
   "source": [
    "# Different parameters for MCMC sequence\n",
    "rf=0.5 #To negate relevance logic use np.nan\n",
    "sim_t=0.8\n",
    "sim_pen=0.7 #To negate similarity logic use 1"
   ]
  },
  {
   "cell_type": "code",
   "execution_count": null,
   "metadata": {
    "cell_id": "29effadf-2079-4f70-b22f-627d35eb23a3"
   },
   "outputs": [],
   "source": [
    "s=time.time()\n",
    "print (\"Generating sequence\")\n",
    "exp_seq,lik_list=algorithm_1(data,env,task1,true_expression,q_dict,rule_dict,\n",
    "                                       filename=\"demo/demo_mcmc_report\",\n",
    "                                       sim_threshold=sim_t,similarity_penalty=sim_pen,\n",
    "                                       relevance_factor=rf,max_iterations=50000,verbose=False)\n",
    "print (\"\\nTime Taken to complete job={:.2f}s\\n\".format(time.time()-s))"
   ]
  },
  {
   "cell_type": "code",
   "execution_count": null,
   "metadata": {
    "cell_id": "f1b3e87d-c039-4227-add8-da22bd7baaac"
   },
   "outputs": [],
   "source": [
    "learned_expressions=Counter(map(to_tuple,exp_seq[int(len(exp_seq)/2)+1:]))#Discarding 1 half as warmup\n",
    "print (\"Number of unique Norms in sequence={}\".format(len(learned_expressions)))"
   ]
  },
  {
   "cell_type": "code",
   "execution_count": null,
   "metadata": {
    "cell_id": "df1c087f-b052-4913-8e82-c853673e0db6"
   },
   "outputs": [],
   "source": [
    "# Write top norms to file\n",
    "filename=\"demo_top_norms\"\n",
    "top=learned_expressions.most_common()\n",
    "t=sum(learned_expressions.values())\n",
    "exists = os.path.isfile('./demo/{}.txt'.format(filename))\n",
    "if exists==True:\n",
    "    os.remove('./demo/{}.txt'.format(filename))\n",
    "original = sys.stdout\n",
    "for i in range(len(top)):\n",
    "    exp=top[i]\n",
    "    if (i%10==0):\n",
    "        print(\"Rank:{} Norm has relative frequency={:.3f}%\".format(i+1,exp[1]*100/t))\n",
    "    sys.stdout = open('./demo/{}.txt'.format(filename), 'a+')\n",
    "    print(\"\\n\\n\\n************Rank:{}, %-Frequency={:.3f}%**********\".format(i+1,exp[1]*100/t))\n",
    "    print_expression(exp[0])\n",
    "    print(\"*************************************************\")\n",
    "    sys.stdout=original"
   ]
  },
  {
   "cell_type": "code",
   "execution_count": null,
   "metadata": {
    "cell_id": "28fa9806-1f51-486f-a6fe-3974bdffe007"
   },
   "outputs": [],
   "source": [
    "# Visualise the frequency of top plots\n",
    "sns.set_style(\"darkgrid\")\n",
    "fig,ax=plt.subplots(figsize=(8,6),dpi=100)\n",
    "fig.suptitle('Frequency of Norms in the generated sequence for relevance_factor={}'.format(rf))\n",
    "\n",
    "t_l=sum(learned_expressions.values())\n",
    "ax.plot([x*100/t for x in sorted(learned_expressions.values())],\"o-\",c=(250/255,93/255,130/255,0.7),markerfacecolor=(250/255,18/255,72/255,0.77))\n",
    "ax.set_ylabel(\"%-Frequency in sample of size={}\".format(t))\n",
    "ax.set_xlabel(\"Descending Frequency Rank of Norms from a total of {} Norms\".format(len(learned_expressions)))\n",
    "ax.title.set_text(\"Weak Inequality check for E_0:\\nlog_Likelihood(expression)>=log_Likelihood(No-Norm)\")\n",
    "obl_rank=[] #Ascending order Rank\n",
    "for rank,x in enumerate(learned_expressions.most_common(),1):\n",
    "    if x[0][1][0] ==\"Obl\":\n",
    "        obl_rank.append(rank)\n",
    "for rank in obl_rank:\n",
    "    ax.scatter(x=len(learned_expressions)-rank,\n",
    "               y=sorted(learned_expressions.values())[len(learned_expressions)-rank]*100/t,\n",
    "               c='green',s=151,marker='p',alpha=0.88,label='Obligatory,Rank={}'.format(rank))\n",
    "ax.legend();"
   ]
  },
  {
   "cell_type": "markdown",
   "metadata": {
    "cell_id": "2a2fd2dc-abd2-45e2-9cce-05007f91cd77"
   },
   "source": [
    "### 4. Calculate Preciscion and Recall for the Learned Norms\n",
    "\n",
    "  * #####  Precision = $\\frac{|\\ true-data\\ ∩\\ predicted-data\\ |}{|\\ true-data\\ |}$\n",
    "  * #####  Recall = $\\frac{|\\ true-data\\ ∩\\ predicted-data\\ |}{|\\ predicted-data\\ |}$\n",
    "  * #####  F_beta = $\\frac{(1+\\beta^2)\\  . \\ (precision\\ *\\ recall)}{(\\beta^2.precision\\ +\\ recall)}$\n",
    "   where,\n",
    "   *           True Data = All Possible Action Profiles that can be produced by true/trace expression\n",
    "   *           Predicted Data = All Possible Action Profiles that can be produced by learned expression"
   ]
  },
  {
   "cell_type": "code",
   "execution_count": null,
   "metadata": {
    "cell_id": "e9bf265b-eece-4292-99fa-bc4dae6c60a8"
   },
   "outputs": [],
   "source": [
    "# Calculate precision and recall of top_n norms from learned expressions\n",
    "pr_result=performance(task1,env,true_expression,learned_expressions,\n",
    "                      folder_name=\"demo\",file_name=\"top_norm\",\n",
    "                      top_n=np.nan,beta=1,verbose=False)\n",
    "pr_result.head()"
   ]
  },
  {
   "cell_type": "markdown",
   "metadata": {
    "cell_id": "f820c454-b68e-49cc-8f62-19962fd60b62"
   },
   "source": [
    "### 5. Test the convergence of MCMC Chain\n",
    "\n",
    "<img src=\"mcmc_convergence/B_W_def.jpeg\" alt=\"Drawing\" style=\"width: 700px;float: center\"/> "
   ]
  },
  {
   "cell_type": "code",
   "execution_count": null,
   "metadata": {
    "cell_id": "229231d7-7d43-4b4e-b6fb-d4edbac5bb4f"
   },
   "outputs": [],
   "source": [
    "n=10000 #Length of sequence after discarding warm-up part and splitting in half\n",
    "m=10 #Number of sequences after splitting in half\n",
    "\n",
    "sequence_list=[]\n",
    "for i in tnrange(1,int(m/2+1),desc=\"Loop for Individual Chains\"):\n",
    "    print (\"\\n:::::::::::::::::::: FOR SEQUENCE {} ::::::::::::::::::::\".format(i))\n",
    "    exp_seq,lik_list=algorithm_1(data,env,task1,true_expression,q_dict,rule_dict,\n",
    "                                       filename=\"demo/convergence/report_for_chain_{}\".format(i),\n",
    "                                       sim_threshold=sim_t,similarity_penalty=sim_pen,\n",
    "                                       relevance_factor=rf,max_iterations=4*n,verbose=False)\n",
    "    sequence_list.append(exp_seq)"
   ]
  },
  {
   "cell_type": "code",
   "execution_count": null,
   "metadata": {
    "cell_id": "64c466f3-1586-4501-89f6-8e7761f838c3"
   },
   "outputs": [],
   "source": [
    "convergence_result=calculate_R(prepare_sequences(sequence_list,warmup=True),50)\n",
    "convergence_result"
   ]
  }
 ],
 "metadata": {
  "deepnote_execution_queue": [],
  "deepnote_notebook_id": "cbc6f52c-26f7-4f00-ad27-211760dbada5",
  "kernelspec": {
   "display_name": "Python 3",
   "language": "python",
   "name": "python3"
  }
 },
 "nbformat": 4,
 "nbformat_minor": 2
}
