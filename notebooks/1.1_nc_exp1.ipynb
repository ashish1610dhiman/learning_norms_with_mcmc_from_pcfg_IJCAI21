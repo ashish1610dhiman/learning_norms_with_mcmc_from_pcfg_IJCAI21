{
 "cells": [
  {
   "cell_type": "markdown",
   "metadata": {},
   "source": [
    "## Non Compliance Experiment=1\n",
    "Test top norms for different w_nc"
   ]
  },
  {
   "cell_type": "code",
   "execution_count": 24,
   "metadata": {},
   "outputs": [],
   "source": [
    "import sys\n",
    "sys.path.append('../src')"
   ]
  },
  {
   "cell_type": "code",
   "execution_count": 27,
   "metadata": {},
   "outputs": [],
   "source": [
    "import yaml\n",
    "from IPython.utils import io\n",
    "from tqdm.notebook import tqdm\n",
    "from pathlib import Path\n",
    "import pandas as pd\n",
    "from mcmc_norm_learning.algorithm_1_v4 import to_tuple"
   ]
  },
  {
   "cell_type": "code",
   "execution_count": 2,
   "metadata": {},
   "outputs": [],
   "source": [
    "def write_log(output,path):\n",
    "    with open(Path(path), 'w') as f:\n",
    "        f.write(output)"
   ]
  },
  {
   "cell_type": "code",
   "execution_count": 6,
   "metadata": {},
   "outputs": [
    {
     "name": "stdout",
     "output_type": "stream",
     "text": [
      "CPU times: user 7.88 s, sys: 2.16 s, total: 10 s\n",
      "Wall time: 28min 3s\n"
     ]
    }
   ],
   "source": [
    "%%time\n",
    "with io.capture_output() as exp_nc_0_log:\n",
    "    !python ../scripts/nc_experiments.py -exp exp_nc0 -w_nc 0.0 -n_threads 6\n",
    "write_log(exp_nc_0_log.stdout,\"../data_nc/exp_nc0/exp_nc_0_run.log\")  "
   ]
  },
  {
   "cell_type": "code",
   "execution_count": 7,
   "metadata": {},
   "outputs": [
    {
     "name": "stdout",
     "output_type": "stream",
     "text": [
      "########## * -------- * ########## ||  Time for step 0 0.01s || ########## * -------- * ##########\r",
      "\r\n",
      "########## * -------- * ########## ||  Time for step 1 0.56s || ########## * -------- * ##########\r",
      "\r\n",
      "########## * -------- * ########## ||  Time for step 2 0.68s || ########## * -------- * ##########\r",
      "\r\n",
      "########## * -------- * ########## ||  Time for step 3 1663.74s || ########## * -------- * ##########\r",
      "\r\n",
      "########## * -------- * ########## ||  Time for step 4 1665.90s || ########## * -------- * ##########\r",
      "\r\n",
      "########## * -------- * ########## ||  Time for step 5 1682.14s || ########## * -------- * ##########\r",
      "\r\n",
      "########## * -------- * ########## ||  Time for step 6 1682.37s || ########## * -------- * ##########\r",
      "\r\n"
     ]
    }
   ],
   "source": [
    "!grep \"Time for\" ../data_nc/exp_nc0/exp_nc_0_run.log"
   ]
  },
  {
   "cell_type": "code",
   "execution_count": 8,
   "metadata": {},
   "outputs": [
    {
     "name": "stdout",
     "output_type": "stream",
     "text": [
      "For True Norm, prior=8.930612711476907e-07, log_prior=-13.928610645716274\r",
      "\r\n",
      "log_post_no_norm=-13732.653608350562,log_post_true_norm=-12480.35022827932\r",
      "\r\n",
      "             log_posterior                                        \r",
      "\r\n"
     ]
    }
   ],
   "source": [
    "!grep \"log\" ../data_nc/exp_nc0/exp_nc_0_run.log"
   ]
  },
  {
   "cell_type": "code",
   "execution_count": null,
   "metadata": {},
   "outputs": [],
   "source": [
    "!dvc add ../data_nc/exp_nc0/\n",
    "!git add --all\n",
    "!git commit -m \"Results gen for dummy_exp_nc_0\"\n",
    "!dvc push"
   ]
  },
  {
   "cell_type": "markdown",
   "metadata": {},
   "source": [
    "### Loop over w_nc values"
   ]
  },
  {
   "cell_type": "code",
   "execution_count": 9,
   "metadata": {},
   "outputs": [],
   "source": [
    "w_nc_list=[0.0,0.05,0.1,0.2,0.3,0.4]"
   ]
  },
  {
   "cell_type": "code",
   "execution_count": 10,
   "metadata": {},
   "outputs": [
    {
     "data": {
      "application/vnd.jupyter.widget-view+json": {
       "model_id": "10629088ecb34debaf1054c91f89d5e7",
       "version_major": 2,
       "version_minor": 0
      },
      "text/plain": [
       "HBox(children=(HTML(value='Loop Over diff w_nc'), FloatProgress(value=0.0, max=6.0), HTML(value='')))"
      ]
     },
     "metadata": {},
     "output_type": "display_data"
    },
    {
     "name": "stdout",
     "output_type": "stream",
     "text": [
      "\n"
     ]
    }
   ],
   "source": [
    "for w_nc in tqdm(w_nc_list,\"Loop Over diff w_nc\"):\n",
    "    exp_dir_name=\"exp_nc_1.w_nc={}\".format(w_nc)\n",
    "    with io.capture_output() as exp_log:\n",
    "        !python ../scripts/nc_experiments.py -exp $exp_dir_name -w_nc $w_nc  -n_threads 6\n",
    "    write_log(exp_log.stdout,\"../data_nc/{}/run.log\".format(exp_dir_name)) "
   ]
  },
  {
   "cell_type": "markdown",
   "metadata": {},
   "source": [
    "## Analysis\n",
    "### 1. True Norm log_posterior for diff w_nc"
   ]
  },
  {
   "cell_type": "code",
   "execution_count": 55,
   "metadata": {},
   "outputs": [
    {
     "name": "stdout",
     "output_type": "stream",
     "text": [
      "For w_nc=0.0:\n",
      "['For True Norm, prior=8.930612711476907e-07, log_prior=-13.928610645716274']\n",
      "['log_post_no_norm=-13732.653608350562,log_post_true_norm=-12769.387404068873']\n",
      "\n",
      "For w_nc=0.05:\n",
      "['For True Norm, prior=8.930612711476907e-07, log_prior=-13.928610645716274']\n",
      "['log_post_no_norm=-13732.653608350562,log_post_true_norm=-13097.518410107548']\n",
      "\n",
      "For w_nc=0.1:\n",
      "['For True Norm, prior=8.930612711476907e-07, log_prior=-13.928610645716274']\n",
      "['log_post_no_norm=-13732.653608350562,log_post_true_norm=-13146.65914171823']\n",
      "\n",
      "For w_nc=0.2:\n",
      "['For True Norm, prior=8.930612711476907e-07, log_prior=-13.928610645716274']\n",
      "['log_post_no_norm=-13732.653608350562,log_post_true_norm=-13187.900778087323']\n",
      "\n",
      "For w_nc=0.3:\n",
      "['For True Norm, prior=8.930612711476907e-07, log_prior=-13.928610645716274']\n",
      "['log_post_no_norm=-13732.653608350562,log_post_true_norm=-13428.957121845662']\n",
      "\n",
      "For w_nc=0.4:\n",
      "['For True Norm, prior=8.930612711476907e-07, log_prior=-13.928610645716274']\n",
      "['log_post_no_norm=-13732.653608350562,log_post_true_norm=-13159.014144246456']\n",
      "\n"
     ]
    }
   ],
   "source": [
    "for w_nc in w_nc_list:\n",
    "    exp_dir_name=\"exp_nc_1.w_nc={}\".format(w_nc)\n",
    "    prior_out=!grep \"For True Norm\" ../data_nc/{exp_dir_name}/run.log\n",
    "    post_out=!grep \"log_post_true_norm\" ../data_nc/{exp_dir_name}/run.log\n",
    "    print (f\"For w_nc={w_nc}:\")\n",
    "    print (prior_out)\n",
    "    print (post_out)\n",
    "    print()"
   ]
  },
  {
   "cell_type": "markdown",
   "metadata": {},
   "source": []
  },
  {
   "cell_type": "markdown",
   "metadata": {},
   "source": [
    "### 1. True Norm atleast mentioned in any chains, for diff w_nc"
   ]
  },
  {
   "cell_type": "code",
   "execution_count": 19,
   "metadata": {},
   "outputs": [
    {
     "name": "stdout",
     "output_type": "stream",
     "text": [
      "For w_nc=0.0, True Norm found=['True norm in some chain(s): True']\n",
      "For w_nc=0.05, True Norm found=['True norm in some chain(s): True']\n",
      "For w_nc=0.1, True Norm found=['True norm in some chain(s): True']\n",
      "For w_nc=0.2, True Norm found=['True norm in some chain(s): True']\n",
      "For w_nc=0.3, True Norm found=['True norm in some chain(s): False']\n",
      "For w_nc=0.4, True Norm found=['True norm in some chain(s): False']\n"
     ]
    }
   ],
   "source": [
    "for w_nc in w_nc_list:\n",
    "    exp_dir_name=\"exp_nc_1.w_nc={}\".format(w_nc)\n",
    "    out=!grep \"True norm in some chain(s)\" ../data_nc/{exp_dir_name}/chain_info.txt\n",
    "    print (f\"For w_nc={w_nc}, True Norm found={out}\")"
   ]
  },
  {
   "cell_type": "markdown",
   "metadata": {},
   "source": [
    "### 2. Rank of True Norm as per log_post, iff it was found"
   ]
  },
  {
   "cell_type": "code",
   "execution_count": 28,
   "metadata": {},
   "outputs": [],
   "source": [
    "with open(\"../params_nc.yaml\", 'r') as fd:\n",
    "    params = yaml.safe_load(fd)\n",
    "true_norm=to_tuple(params['true_norm']['exp'])"
   ]
  },
  {
   "cell_type": "code",
   "execution_count": 52,
   "metadata": {},
   "outputs": [
    {
     "name": "stdout",
     "output_type": "stream",
     "text": [
      "For w_nc=0.0, True Norm rank=1.0,wi posterior=-12783.31601471459\n",
      "For w_nc=0.05, True Norm rank=1.0,wi posterior=-13111.447020753265\n",
      "For w_nc=0.1, True Norm rank=1.0,wi posterior=-13160.587752363943\n",
      "For w_nc=0.2, True Norm rank=1.0,wi posterior=-13201.82938873304\n"
     ]
    },
    {
     "ename": "IndexError",
     "evalue": "index 0 is out of bounds for axis 0 with size 0",
     "output_type": "error",
     "traceback": [
      "\u001b[0;31m---------------------------------------------------------------------------\u001b[0m",
      "\u001b[0;31mIndexError\u001b[0m                                Traceback (most recent call last)",
      "\u001b[0;32m<ipython-input-52-0c520deb4cdf>\u001b[0m in \u001b[0;36m<module>\u001b[0;34m\u001b[0m\n\u001b[1;32m      3\u001b[0m     \u001b[0mrank_df\u001b[0m\u001b[0;34m=\u001b[0m\u001b[0mpd\u001b[0m\u001b[0;34m.\u001b[0m\u001b[0mread_csv\u001b[0m\u001b[0;34m(\u001b[0m\u001b[0;34mf\"../data_nc/{exp_dir_name}/ranked_posteriors.csv\"\u001b[0m\u001b[0;34m,\u001b[0m\u001b[0mindex_col\u001b[0m\u001b[0;34m=\u001b[0m\u001b[0;32mFalse\u001b[0m\u001b[0;34m)\u001b[0m\u001b[0;34m\u001b[0m\u001b[0;34m\u001b[0m\u001b[0m\n\u001b[1;32m      4\u001b[0m     \u001b[0mrank_post\u001b[0m\u001b[0;34m=\u001b[0m\u001b[0mrank_df\u001b[0m\u001b[0;34m.\u001b[0m\u001b[0mloc\u001b[0m\u001b[0;34m[\u001b[0m\u001b[0mrank_df\u001b[0m\u001b[0;34m.\u001b[0m\u001b[0mexpression\u001b[0m\u001b[0;34m==\u001b[0m\u001b[0mstr\u001b[0m\u001b[0;34m(\u001b[0m\u001b[0mtrue_norm\u001b[0m\u001b[0;34m)\u001b[0m\u001b[0;34m]\u001b[0m\u001b[0;34m[\u001b[0m\u001b[0;34m[\u001b[0m\u001b[0;34m\"post_rank\"\u001b[0m\u001b[0;34m,\u001b[0m\u001b[0;34m\"log_posterior\"\u001b[0m\u001b[0;34m]\u001b[0m\u001b[0;34m]\u001b[0m\u001b[0;34m.\u001b[0m\u001b[0mvalues\u001b[0m\u001b[0;34m\u001b[0m\u001b[0;34m\u001b[0m\u001b[0m\n\u001b[0;32m----> 5\u001b[0;31m     \u001b[0mprint\u001b[0m \u001b[0;34m(\u001b[0m\u001b[0;34mf\"For w_nc={w_nc}, True Norm rank={rank_post[0][0]},wi posterior={rank_post[0][1]}\"\u001b[0m\u001b[0;34m)\u001b[0m\u001b[0;34m\u001b[0m\u001b[0;34m\u001b[0m\u001b[0m\n\u001b[0m",
      "\u001b[0;31mIndexError\u001b[0m: index 0 is out of bounds for axis 0 with size 0"
     ]
    }
   ],
   "source": [
    "for w_nc in w_nc_list:\n",
    "    exp_dir_name=\"exp_nc_1.w_nc={}\".format(w_nc)\n",
    "    rank_df=pd.read_csv(f\"../data_nc/{exp_dir_name}/ranked_posteriors.csv\",index_col=False)\n",
    "    rank_post=rank_df.loc[rank_df.expression==str(true_norm)][[\"post_rank\",\"log_posterior\"]].values\n",
    "    print (f\"For w_nc={w_nc}, True Norm rank={rank_post[0][0]},wi posterior={rank_post[0][1]}\")"
   ]
  },
  {
   "cell_type": "code",
   "execution_count": 47,
   "metadata": {},
   "outputs": [
    {
     "data": {
      "text/plain": [
       "1.0"
      ]
     },
     "execution_count": 47,
     "metadata": {},
     "output_type": "execute_result"
    }
   ],
   "source": [
    "rank_post[0][0]"
   ]
  },
  {
   "cell_type": "markdown",
   "metadata": {},
   "source": [
    "#### ==> True Norm always has highest posterior, when its found,\n",
    "confirm if it is in one chain, or multiple"
   ]
  },
  {
   "cell_type": "code",
   "execution_count": null,
   "metadata": {},
   "outputs": [],
   "source": []
  },
  {
   "cell_type": "code",
   "execution_count": null,
   "metadata": {},
   "outputs": [],
   "source": []
  },
  {
   "cell_type": "code",
   "execution_count": null,
   "metadata": {},
   "outputs": [],
   "source": []
  },
  {
   "cell_type": "code",
   "execution_count": null,
   "metadata": {},
   "outputs": [],
   "source": []
  },
  {
   "cell_type": "code",
   "execution_count": null,
   "metadata": {},
   "outputs": [],
   "source": []
  },
  {
   "cell_type": "code",
   "execution_count": null,
   "metadata": {},
   "outputs": [],
   "source": []
  },
  {
   "cell_type": "code",
   "execution_count": null,
   "metadata": {},
   "outputs": [],
   "source": []
  },
  {
   "cell_type": "code",
   "execution_count": null,
   "metadata": {},
   "outputs": [],
   "source": []
  }
 ],
 "metadata": {
  "kernelspec": {
   "display_name": "Python 3",
   "language": "python",
   "name": "python3"
  },
  "language_info": {
   "codemirror_mode": {
    "name": "ipython",
    "version": 3
   },
   "file_extension": ".py",
   "mimetype": "text/x-python",
   "name": "python",
   "nbconvert_exporter": "python",
   "pygments_lexer": "ipython3",
   "version": "3.8.2"
  }
 },
 "nbformat": 4,
 "nbformat_minor": 4
}
