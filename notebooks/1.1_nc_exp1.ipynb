{
 "cells": [
  {
   "cell_type": "markdown",
   "metadata": {},
   "source": [
    "## Non Compliance Experiment=1\n",
    "Test top norms for different w_nc"
   ]
  },
  {
   "cell_type": "code",
   "execution_count": 24,
   "metadata": {},
   "outputs": [],
   "source": [
    "import sys\n",
    "sys.path.append('../src')"
   ]
  },
  {
   "cell_type": "code",
   "execution_count": 146,
   "metadata": {},
   "outputs": [],
   "source": [
    "import yaml\n",
    "from IPython.utils import io\n",
    "from tqdm.notebook import tqdm\n",
    "from pathlib import Path\n",
    "import pandas as pd\n",
    "import numpy as np\n",
    "from mcmc_norm_learning.algorithm_1_v4 import to_tuple"
   ]
  },
  {
   "cell_type": "code",
   "execution_count": 2,
   "metadata": {},
   "outputs": [],
   "source": [
    "def write_log(output,path):\n",
    "    with open(Path(path), 'w') as f:\n",
    "        f.write(output)"
   ]
  },
  {
   "cell_type": "code",
   "execution_count": 6,
   "metadata": {},
   "outputs": [
    {
     "name": "stdout",
     "output_type": "stream",
     "text": [
      "CPU times: user 7.88 s, sys: 2.16 s, total: 10 s\n",
      "Wall time: 28min 3s\n"
     ]
    }
   ],
   "source": [
    "%%time\n",
    "with io.capture_output() as exp_nc_0_log:\n",
    "    !python ../scripts/nc_experiments.py -exp exp_nc0 -w_nc 0.0 -n_threads 6\n",
    "write_log(exp_nc_0_log.stdout,\"../data_nc/exp_nc0/exp_nc_0_run.log\")  "
   ]
  },
  {
   "cell_type": "code",
   "execution_count": 7,
   "metadata": {},
   "outputs": [
    {
     "name": "stdout",
     "output_type": "stream",
     "text": [
      "########## * -------- * ########## ||  Time for step 0 0.01s || ########## * -------- * ##########\r",
      "\r\n",
      "########## * -------- * ########## ||  Time for step 1 0.56s || ########## * -------- * ##########\r",
      "\r\n",
      "########## * -------- * ########## ||  Time for step 2 0.68s || ########## * -------- * ##########\r",
      "\r\n",
      "########## * -------- * ########## ||  Time for step 3 1663.74s || ########## * -------- * ##########\r",
      "\r\n",
      "########## * -------- * ########## ||  Time for step 4 1665.90s || ########## * -------- * ##########\r",
      "\r\n",
      "########## * -------- * ########## ||  Time for step 5 1682.14s || ########## * -------- * ##########\r",
      "\r\n",
      "########## * -------- * ########## ||  Time for step 6 1682.37s || ########## * -------- * ##########\r",
      "\r\n"
     ]
    }
   ],
   "source": [
    "!grep \"Time for\" ../data_nc/exp_nc0/exp_nc_0_run.log"
   ]
  },
  {
   "cell_type": "code",
   "execution_count": 8,
   "metadata": {},
   "outputs": [
    {
     "name": "stdout",
     "output_type": "stream",
     "text": [
      "For True Norm, prior=8.930612711476907e-07, log_prior=-13.928610645716274\r",
      "\r\n",
      "log_post_no_norm=-13732.653608350562,log_post_true_norm=-12480.35022827932\r",
      "\r\n",
      "             log_posterior                                        \r",
      "\r\n"
     ]
    }
   ],
   "source": [
    "!grep \"log\" ../data_nc/exp_nc0/exp_nc_0_run.log"
   ]
  },
  {
   "cell_type": "code",
   "execution_count": null,
   "metadata": {},
   "outputs": [],
   "source": [
    "!dvc add ../data_nc/exp_nc0/\n",
    "!git add --all\n",
    "!git commit -m \"Results gen for dummy_exp_nc_0\"\n",
    "!dvc push"
   ]
  },
  {
   "cell_type": "markdown",
   "metadata": {},
   "source": [
    "### Loop over w_nc values"
   ]
  },
  {
   "cell_type": "code",
   "execution_count": 9,
   "metadata": {},
   "outputs": [],
   "source": [
    "w_nc_list=[0.0,0.05,0.1,0.2,0.3,0.4]"
   ]
  },
  {
   "cell_type": "code",
   "execution_count": 10,
   "metadata": {},
   "outputs": [
    {
     "data": {
      "application/vnd.jupyter.widget-view+json": {
       "model_id": "10629088ecb34debaf1054c91f89d5e7",
       "version_major": 2,
       "version_minor": 0
      },
      "text/plain": [
       "HBox(children=(HTML(value='Loop Over diff w_nc'), FloatProgress(value=0.0, max=6.0), HTML(value='')))"
      ]
     },
     "metadata": {},
     "output_type": "display_data"
    },
    {
     "name": "stdout",
     "output_type": "stream",
     "text": [
      "\n"
     ]
    }
   ],
   "source": [
    "for w_nc in tqdm(w_nc_list,\"Loop Over diff w_nc\"):\n",
    "    exp_dir_name=\"exp_nc_1.w_nc={}\".format(w_nc)\n",
    "    with io.capture_output() as exp_log:\n",
    "        !python ../scripts/nc_experiments.py -exp $exp_dir_name -w_nc $w_nc  -n_threads 6\n",
    "    write_log(exp_log.stdout,\"../data_nc/{}/run.log\".format(exp_dir_name)) "
   ]
  },
  {
   "cell_type": "markdown",
   "metadata": {},
   "source": [
    "## Analysis\n",
    "### 1. True Norm log_posterior for diff w_nc"
   ]
  },
  {
   "cell_type": "code",
   "execution_count": 55,
   "metadata": {},
   "outputs": [
    {
     "name": "stdout",
     "output_type": "stream",
     "text": [
      "For w_nc=0.0:\n",
      "['For True Norm, prior=8.930612711476907e-07, log_prior=-13.928610645716274']\n",
      "['log_post_no_norm=-13732.653608350562,log_post_true_norm=-12769.387404068873']\n",
      "\n",
      "For w_nc=0.05:\n",
      "['For True Norm, prior=8.930612711476907e-07, log_prior=-13.928610645716274']\n",
      "['log_post_no_norm=-13732.653608350562,log_post_true_norm=-13097.518410107548']\n",
      "\n",
      "For w_nc=0.1:\n",
      "['For True Norm, prior=8.930612711476907e-07, log_prior=-13.928610645716274']\n",
      "['log_post_no_norm=-13732.653608350562,log_post_true_norm=-13146.65914171823']\n",
      "\n",
      "For w_nc=0.2:\n",
      "['For True Norm, prior=8.930612711476907e-07, log_prior=-13.928610645716274']\n",
      "['log_post_no_norm=-13732.653608350562,log_post_true_norm=-13187.900778087323']\n",
      "\n",
      "For w_nc=0.3:\n",
      "['For True Norm, prior=8.930612711476907e-07, log_prior=-13.928610645716274']\n",
      "['log_post_no_norm=-13732.653608350562,log_post_true_norm=-13428.957121845662']\n",
      "\n",
      "For w_nc=0.4:\n",
      "['For True Norm, prior=8.930612711476907e-07, log_prior=-13.928610645716274']\n",
      "['log_post_no_norm=-13732.653608350562,log_post_true_norm=-13159.014144246456']\n",
      "\n"
     ]
    }
   ],
   "source": [
    "for w_nc in w_nc_list:\n",
    "    exp_dir_name=\"exp_nc_1.w_nc={}\".format(w_nc)\n",
    "    prior_out=!grep \"For True Norm\" ../data_nc/{exp_dir_name}/run.log\n",
    "    post_out=!grep \"log_post_true_norm\" ../data_nc/{exp_dir_name}/run.log\n",
    "    print (f\"For w_nc={w_nc}:\")\n",
    "    print (prior_out)\n",
    "    print (post_out)\n",
    "    print()"
   ]
  },
  {
   "cell_type": "markdown",
   "metadata": {},
   "source": [
    "### 2. True Norm atleast mentioned in any chains, for diff w_nc"
   ]
  },
  {
   "cell_type": "code",
   "execution_count": 19,
   "metadata": {},
   "outputs": [
    {
     "name": "stdout",
     "output_type": "stream",
     "text": [
      "For w_nc=0.0, True Norm found=['True norm in some chain(s): True']\n",
      "For w_nc=0.05, True Norm found=['True norm in some chain(s): True']\n",
      "For w_nc=0.1, True Norm found=['True norm in some chain(s): True']\n",
      "For w_nc=0.2, True Norm found=['True norm in some chain(s): True']\n",
      "For w_nc=0.3, True Norm found=['True norm in some chain(s): False']\n",
      "For w_nc=0.4, True Norm found=['True norm in some chain(s): False']\n"
     ]
    }
   ],
   "source": [
    "for w_nc in w_nc_list:\n",
    "    exp_dir_name=\"exp_nc_1.w_nc={}\".format(w_nc)\n",
    "    out=!grep \"True norm in some chain(s)\" ../data_nc/{exp_dir_name}/chain_info.txt\n",
    "    print (f\"For w_nc={w_nc}, True Norm found={out}\")"
   ]
  },
  {
   "cell_type": "markdown",
   "metadata": {},
   "source": [
    "### 3. Rank of True Norm as per log_post, iff it was found"
   ]
  },
  {
   "cell_type": "code",
   "execution_count": 28,
   "metadata": {},
   "outputs": [],
   "source": [
    "with open(\"../params_nc.yaml\", 'r') as fd:\n",
    "    params = yaml.safe_load(fd)\n",
    "true_norm=to_tuple(params['true_norm']['exp'])"
   ]
  },
  {
   "cell_type": "code",
   "execution_count": 57,
   "metadata": {},
   "outputs": [
    {
     "name": "stdout",
     "output_type": "stream",
     "text": [
      "For w_nc=0.0, True Norm rank=1.0,wi posterior=-12783.31601471459\n",
      "For w_nc=0.05, True Norm rank=1.0,wi posterior=-13111.447020753265\n",
      "For w_nc=0.1, True Norm rank=1.0,wi posterior=-13160.587752363943\n",
      "For w_nc=0.2, True Norm rank=1.0,wi posterior=-13201.82938873304\n"
     ]
    }
   ],
   "source": [
    "for w_nc in w_nc_list:\n",
    "    exp_dir_name=\"exp_nc_1.w_nc={}\".format(w_nc)\n",
    "    rank_df=pd.read_csv(f\"../data_nc/{exp_dir_name}/ranked_posteriors.csv\",index_col=False)\n",
    "    rank_post=rank_df.loc[rank_df.expression==str(true_norm)][[\"post_rank\",\"log_posterior\"]].values\n",
    "    if rank_post.shape[0]==1:\n",
    "        print (f\"For w_nc={w_nc}, True Norm rank={rank_post[0][0]},wi posterior={rank_post[0][1]}\")"
   ]
  },
  {
   "cell_type": "markdown",
   "metadata": {},
   "source": [
    "#### ==> True Norm always has highest posterior, when its found,\n",
    "confirm if it is in one chain, or multiple"
   ]
  },
  {
   "cell_type": "markdown",
   "metadata": {},
   "source": [
    "### 4. In how many chains, max post crosses post(true_norm)"
   ]
  },
  {
   "cell_type": "code",
   "execution_count": 59,
   "metadata": {},
   "outputs": [],
   "source": [
    "stacked=pd.DataFrame()\n",
    "for w_nc in w_nc_list:\n",
    "    exp_dir_name=\"exp_nc_1.w_nc={}\".format(w_nc)\n",
    "    result = pd.read_csv(f\"../data_nc/{exp_dir_name}/chain_posteriors_nc.csv\")\n",
    "    result[\"w_nc\"] = w_nc\n",
    "    stacked=stacked.append(result)"
   ]
  },
  {
   "cell_type": "code",
   "execution_count": 63,
   "metadata": {},
   "outputs": [],
   "source": [
    "grouped=stacked.groupby([\"w_nc\",\"chain_number\"])[[\"log_posterior\"]].agg(['min', 'max', 'mean', 'std'])"
   ]
  },
  {
   "cell_type": "code",
   "execution_count": 168,
   "metadata": {},
   "outputs": [],
   "source": [
    "true_post={\n",
    "    \"a\":-12784,\"b\":-13112,\\\n",
    "    \"c\":-13161,\"d\":-13202,\\\n",
    "    \"e\":1,\"f\":1\n",
    "}"
   ]
  },
  {
   "cell_type": "code",
   "execution_count": 169,
   "metadata": {},
   "outputs": [],
   "source": [
    "grouped[\"w_nc\"]=[x[0] for x in grouped.index]\n",
    "grouped[\"key\"]=np.where(grouped[\"w_nc\"]==0.0,\"a\",\\\n",
    "                        np.where(grouped[\"w_nc\"]==0.05,\"b\",\\\n",
    "                                np.where(grouped[\"w_nc\"]==0.1,\"c\",\\\n",
    "                                        np.where(grouped[\"w_nc\"]==0.2,\"d\",\\\n",
    "                                                np.where(grouped[\"w_nc\"]==0.0,\"e\",\"f\")\\\n",
    "                                                )\\\n",
    "                                        )\\\n",
    "                                )\\\n",
    "                        )"
   ]
  },
  {
   "cell_type": "code",
   "execution_count": 170,
   "metadata": {},
   "outputs": [
    {
     "data": {
      "text/html": [
       "<style  type=\"text/css\" >\n",
       "#T_12722aee_4927_11eb_8383_acde48001122row0_col0,#T_12722aee_4927_11eb_8383_acde48001122row0_col1,#T_12722aee_4927_11eb_8383_acde48001122row0_col2,#T_12722aee_4927_11eb_8383_acde48001122row0_col3,#T_12722aee_4927_11eb_8383_acde48001122row0_col4,#T_12722aee_4927_11eb_8383_acde48001122row0_col5,#T_12722aee_4927_11eb_8383_acde48001122row7_col0,#T_12722aee_4927_11eb_8383_acde48001122row7_col1,#T_12722aee_4927_11eb_8383_acde48001122row7_col2,#T_12722aee_4927_11eb_8383_acde48001122row7_col3,#T_12722aee_4927_11eb_8383_acde48001122row7_col4,#T_12722aee_4927_11eb_8383_acde48001122row7_col5,#T_12722aee_4927_11eb_8383_acde48001122row8_col0,#T_12722aee_4927_11eb_8383_acde48001122row8_col1,#T_12722aee_4927_11eb_8383_acde48001122row8_col2,#T_12722aee_4927_11eb_8383_acde48001122row8_col3,#T_12722aee_4927_11eb_8383_acde48001122row8_col4,#T_12722aee_4927_11eb_8383_acde48001122row8_col5,#T_12722aee_4927_11eb_8383_acde48001122row9_col0,#T_12722aee_4927_11eb_8383_acde48001122row9_col1,#T_12722aee_4927_11eb_8383_acde48001122row9_col2,#T_12722aee_4927_11eb_8383_acde48001122row9_col3,#T_12722aee_4927_11eb_8383_acde48001122row9_col4,#T_12722aee_4927_11eb_8383_acde48001122row9_col5,#T_12722aee_4927_11eb_8383_acde48001122row10_col0,#T_12722aee_4927_11eb_8383_acde48001122row10_col1,#T_12722aee_4927_11eb_8383_acde48001122row10_col2,#T_12722aee_4927_11eb_8383_acde48001122row10_col3,#T_12722aee_4927_11eb_8383_acde48001122row10_col4,#T_12722aee_4927_11eb_8383_acde48001122row10_col5,#T_12722aee_4927_11eb_8383_acde48001122row13_col0,#T_12722aee_4927_11eb_8383_acde48001122row13_col1,#T_12722aee_4927_11eb_8383_acde48001122row13_col2,#T_12722aee_4927_11eb_8383_acde48001122row13_col3,#T_12722aee_4927_11eb_8383_acde48001122row13_col4,#T_12722aee_4927_11eb_8383_acde48001122row13_col5,#T_12722aee_4927_11eb_8383_acde48001122row14_col0,#T_12722aee_4927_11eb_8383_acde48001122row14_col1,#T_12722aee_4927_11eb_8383_acde48001122row14_col2,#T_12722aee_4927_11eb_8383_acde48001122row14_col3,#T_12722aee_4927_11eb_8383_acde48001122row14_col4,#T_12722aee_4927_11eb_8383_acde48001122row14_col5,#T_12722aee_4927_11eb_8383_acde48001122row15_col0,#T_12722aee_4927_11eb_8383_acde48001122row15_col1,#T_12722aee_4927_11eb_8383_acde48001122row15_col2,#T_12722aee_4927_11eb_8383_acde48001122row15_col3,#T_12722aee_4927_11eb_8383_acde48001122row15_col4,#T_12722aee_4927_11eb_8383_acde48001122row15_col5,#T_12722aee_4927_11eb_8383_acde48001122row16_col0,#T_12722aee_4927_11eb_8383_acde48001122row16_col1,#T_12722aee_4927_11eb_8383_acde48001122row16_col2,#T_12722aee_4927_11eb_8383_acde48001122row16_col3,#T_12722aee_4927_11eb_8383_acde48001122row16_col4,#T_12722aee_4927_11eb_8383_acde48001122row16_col5{\n",
       "            background:  lightgreen;\n",
       "        }</style><table id=\"T_12722aee_4927_11eb_8383_acde48001122\" ><thead>    <tr>        <th class=\"blank\" ></th>        <th class=\"blank level0\" ></th>        <th class=\"col_heading level0 col0\" colspan=4>log_posterior</th>        <th class=\"col_heading level0 col4\" >w_nc</th>        <th class=\"col_heading level0 col5\" >key</th>    </tr>    <tr>        <th class=\"blank\" ></th>        <th class=\"blank level1\" ></th>        <th class=\"col_heading level1 col0\" >min</th>        <th class=\"col_heading level1 col1\" >max</th>        <th class=\"col_heading level1 col2\" >mean</th>        <th class=\"col_heading level1 col3\" >std</th>        <th class=\"col_heading level1 col4\" ></th>        <th class=\"col_heading level1 col5\" ></th>    </tr>    <tr>        <th class=\"index_name level0\" >w_nc</th>        <th class=\"index_name level1\" >chain_number</th>        <th class=\"blank\" ></th>        <th class=\"blank\" ></th>        <th class=\"blank\" ></th>        <th class=\"blank\" ></th>        <th class=\"blank\" ></th>        <th class=\"blank\" ></th>    </tr></thead><tbody>\n",
       "                <tr>\n",
       "                        <th id=\"T_12722aee_4927_11eb_8383_acde48001122level0_row0\" class=\"row_heading level0 row0\" rowspan=5>0.0</th>\n",
       "                        <th id=\"T_12722aee_4927_11eb_8383_acde48001122level1_row0\" class=\"row_heading level1 row0\" >0</th>\n",
       "                        <td id=\"T_12722aee_4927_11eb_8383_acde48001122row0_col0\" class=\"data row0 col0\" >-13733.476001</td>\n",
       "                        <td id=\"T_12722aee_4927_11eb_8383_acde48001122row0_col1\" class=\"data row0 col1\" >-12783.316015</td>\n",
       "                        <td id=\"T_12722aee_4927_11eb_8383_acde48001122row0_col2\" class=\"data row0 col2\" >-13349.032186</td>\n",
       "                        <td id=\"T_12722aee_4927_11eb_8383_acde48001122row0_col3\" class=\"data row0 col3\" >382.952274</td>\n",
       "                        <td id=\"T_12722aee_4927_11eb_8383_acde48001122row0_col4\" class=\"data row0 col4\" >0.000000</td>\n",
       "                        <td id=\"T_12722aee_4927_11eb_8383_acde48001122row0_col5\" class=\"data row0 col5\" >a</td>\n",
       "            </tr>\n",
       "            <tr>\n",
       "                                <th id=\"T_12722aee_4927_11eb_8383_acde48001122level1_row1\" class=\"row_heading level1 row1\" >1</th>\n",
       "                        <td id=\"T_12722aee_4927_11eb_8383_acde48001122row1_col0\" class=\"data row1 col0\" >-13699.629573</td>\n",
       "                        <td id=\"T_12722aee_4927_11eb_8383_acde48001122row1_col1\" class=\"data row1 col1\" >-13555.627969</td>\n",
       "                        <td id=\"T_12722aee_4927_11eb_8383_acde48001122row1_col2\" class=\"data row1 col2\" >-13558.245814</td>\n",
       "                        <td id=\"T_12722aee_4927_11eb_8383_acde48001122row1_col3\" class=\"data row1 col3\" >17.251307</td>\n",
       "                        <td id=\"T_12722aee_4927_11eb_8383_acde48001122row1_col4\" class=\"data row1 col4\" >0.000000</td>\n",
       "                        <td id=\"T_12722aee_4927_11eb_8383_acde48001122row1_col5\" class=\"data row1 col5\" >a</td>\n",
       "            </tr>\n",
       "            <tr>\n",
       "                                <th id=\"T_12722aee_4927_11eb_8383_acde48001122level1_row2\" class=\"row_heading level1 row2\" >2</th>\n",
       "                        <td id=\"T_12722aee_4927_11eb_8383_acde48001122row2_col0\" class=\"data row2 col0\" >-13648.282477</td>\n",
       "                        <td id=\"T_12722aee_4927_11eb_8383_acde48001122row2_col1\" class=\"data row2 col1\" >-13581.790376</td>\n",
       "                        <td id=\"T_12722aee_4927_11eb_8383_acde48001122row2_col2\" class=\"data row2 col2\" >-13592.038815</td>\n",
       "                        <td id=\"T_12722aee_4927_11eb_8383_acde48001122row2_col3\" class=\"data row2 col3\" >18.114531</td>\n",
       "                        <td id=\"T_12722aee_4927_11eb_8383_acde48001122row2_col4\" class=\"data row2 col4\" >0.000000</td>\n",
       "                        <td id=\"T_12722aee_4927_11eb_8383_acde48001122row2_col5\" class=\"data row2 col5\" >a</td>\n",
       "            </tr>\n",
       "            <tr>\n",
       "                                <th id=\"T_12722aee_4927_11eb_8383_acde48001122level1_row3\" class=\"row_heading level1 row3\" >3</th>\n",
       "                        <td id=\"T_12722aee_4927_11eb_8383_acde48001122row3_col0\" class=\"data row3 col0\" >-13698.936425</td>\n",
       "                        <td id=\"T_12722aee_4927_11eb_8383_acde48001122row3_col1\" class=\"data row3 col1\" >-13358.889864</td>\n",
       "                        <td id=\"T_12722aee_4927_11eb_8383_acde48001122row3_col2\" class=\"data row3 col2\" >-13368.719747</td>\n",
       "                        <td id=\"T_12722aee_4927_11eb_8383_acde48001122row3_col3\" class=\"data row3 col3\" >55.845435</td>\n",
       "                        <td id=\"T_12722aee_4927_11eb_8383_acde48001122row3_col4\" class=\"data row3 col4\" >0.000000</td>\n",
       "                        <td id=\"T_12722aee_4927_11eb_8383_acde48001122row3_col5\" class=\"data row3 col5\" >a</td>\n",
       "            </tr>\n",
       "            <tr>\n",
       "                                <th id=\"T_12722aee_4927_11eb_8383_acde48001122level1_row4\" class=\"row_heading level1 row4\" >4</th>\n",
       "                        <td id=\"T_12722aee_4927_11eb_8383_acde48001122row4_col0\" class=\"data row4 col0\" >-13687.959677</td>\n",
       "                        <td id=\"T_12722aee_4927_11eb_8383_acde48001122row4_col1\" class=\"data row4 col1\" >-13198.105711</td>\n",
       "                        <td id=\"T_12722aee_4927_11eb_8383_acde48001122row4_col2\" class=\"data row4 col2\" >-13356.518124</td>\n",
       "                        <td id=\"T_12722aee_4927_11eb_8383_acde48001122row4_col3\" class=\"data row4 col3\" >190.266414</td>\n",
       "                        <td id=\"T_12722aee_4927_11eb_8383_acde48001122row4_col4\" class=\"data row4 col4\" >0.000000</td>\n",
       "                        <td id=\"T_12722aee_4927_11eb_8383_acde48001122row4_col5\" class=\"data row4 col5\" >a</td>\n",
       "            </tr>\n",
       "            <tr>\n",
       "                        <th id=\"T_12722aee_4927_11eb_8383_acde48001122level0_row5\" class=\"row_heading level0 row5\" rowspan=5>0.05</th>\n",
       "                        <th id=\"T_12722aee_4927_11eb_8383_acde48001122level1_row5\" class=\"row_heading level1 row5\" >0</th>\n",
       "                        <td id=\"T_12722aee_4927_11eb_8383_acde48001122row5_col0\" class=\"data row5 col0\" >-13702.828728</td>\n",
       "                        <td id=\"T_12722aee_4927_11eb_8383_acde48001122row5_col1\" class=\"data row5 col1\" >-13520.542021</td>\n",
       "                        <td id=\"T_12722aee_4927_11eb_8383_acde48001122row5_col2\" class=\"data row5 col2\" >-13571.724712</td>\n",
       "                        <td id=\"T_12722aee_4927_11eb_8383_acde48001122row5_col3\" class=\"data row5 col3\" >61.320097</td>\n",
       "                        <td id=\"T_12722aee_4927_11eb_8383_acde48001122row5_col4\" class=\"data row5 col4\" >0.050000</td>\n",
       "                        <td id=\"T_12722aee_4927_11eb_8383_acde48001122row5_col5\" class=\"data row5 col5\" >b</td>\n",
       "            </tr>\n",
       "            <tr>\n",
       "                                <th id=\"T_12722aee_4927_11eb_8383_acde48001122level1_row6\" class=\"row_heading level1 row6\" >1</th>\n",
       "                        <td id=\"T_12722aee_4927_11eb_8383_acde48001122row6_col0\" class=\"data row6 col0\" >-13712.398551</td>\n",
       "                        <td id=\"T_12722aee_4927_11eb_8383_acde48001122row6_col1\" class=\"data row6 col1\" >-13457.007086</td>\n",
       "                        <td id=\"T_12722aee_4927_11eb_8383_acde48001122row6_col2\" class=\"data row6 col2\" >-13467.018607</td>\n",
       "                        <td id=\"T_12722aee_4927_11eb_8383_acde48001122row6_col3\" class=\"data row6 col3\" >27.977767</td>\n",
       "                        <td id=\"T_12722aee_4927_11eb_8383_acde48001122row6_col4\" class=\"data row6 col4\" >0.050000</td>\n",
       "                        <td id=\"T_12722aee_4927_11eb_8383_acde48001122row6_col5\" class=\"data row6 col5\" >b</td>\n",
       "            </tr>\n",
       "            <tr>\n",
       "                                <th id=\"T_12722aee_4927_11eb_8383_acde48001122level1_row7\" class=\"row_heading level1 row7\" >2</th>\n",
       "                        <td id=\"T_12722aee_4927_11eb_8383_acde48001122row7_col0\" class=\"data row7 col0\" >-13714.595776</td>\n",
       "                        <td id=\"T_12722aee_4927_11eb_8383_acde48001122row7_col1\" class=\"data row7 col1\" >-13111.447021</td>\n",
       "                        <td id=\"T_12722aee_4927_11eb_8383_acde48001122row7_col2\" class=\"data row7 col2\" >-13360.419662</td>\n",
       "                        <td id=\"T_12722aee_4927_11eb_8383_acde48001122row7_col3\" class=\"data row7 col3\" >206.066916</td>\n",
       "                        <td id=\"T_12722aee_4927_11eb_8383_acde48001122row7_col4\" class=\"data row7 col4\" >0.050000</td>\n",
       "                        <td id=\"T_12722aee_4927_11eb_8383_acde48001122row7_col5\" class=\"data row7 col5\" >b</td>\n",
       "            </tr>\n",
       "            <tr>\n",
       "                                <th id=\"T_12722aee_4927_11eb_8383_acde48001122level1_row8\" class=\"row_heading level1 row8\" >3</th>\n",
       "                        <td id=\"T_12722aee_4927_11eb_8383_acde48001122row8_col0\" class=\"data row8 col0\" >-13702.710945</td>\n",
       "                        <td id=\"T_12722aee_4927_11eb_8383_acde48001122row8_col1\" class=\"data row8 col1\" >-13111.447021</td>\n",
       "                        <td id=\"T_12722aee_4927_11eb_8383_acde48001122row8_col2\" class=\"data row8 col2\" >-13372.269361</td>\n",
       "                        <td id=\"T_12722aee_4927_11eb_8383_acde48001122row8_col3\" class=\"data row8 col3\" >240.814031</td>\n",
       "                        <td id=\"T_12722aee_4927_11eb_8383_acde48001122row8_col4\" class=\"data row8 col4\" >0.050000</td>\n",
       "                        <td id=\"T_12722aee_4927_11eb_8383_acde48001122row8_col5\" class=\"data row8 col5\" >b</td>\n",
       "            </tr>\n",
       "            <tr>\n",
       "                                <th id=\"T_12722aee_4927_11eb_8383_acde48001122level1_row9\" class=\"row_heading level1 row9\" >4</th>\n",
       "                        <td id=\"T_12722aee_4927_11eb_8383_acde48001122row9_col0\" class=\"data row9 col0\" >-13591.270058</td>\n",
       "                        <td id=\"T_12722aee_4927_11eb_8383_acde48001122row9_col1\" class=\"data row9 col1\" >-13111.447021</td>\n",
       "                        <td id=\"T_12722aee_4927_11eb_8383_acde48001122row9_col2\" class=\"data row9 col2\" >-13151.906713</td>\n",
       "                        <td id=\"T_12722aee_4927_11eb_8383_acde48001122row9_col3\" class=\"data row9 col3\" >124.140086</td>\n",
       "                        <td id=\"T_12722aee_4927_11eb_8383_acde48001122row9_col4\" class=\"data row9 col4\" >0.050000</td>\n",
       "                        <td id=\"T_12722aee_4927_11eb_8383_acde48001122row9_col5\" class=\"data row9 col5\" >b</td>\n",
       "            </tr>\n",
       "            <tr>\n",
       "                        <th id=\"T_12722aee_4927_11eb_8383_acde48001122level0_row10\" class=\"row_heading level0 row10\" rowspan=5>0.1</th>\n",
       "                        <th id=\"T_12722aee_4927_11eb_8383_acde48001122level1_row10\" class=\"row_heading level1 row10\" >0</th>\n",
       "                        <td id=\"T_12722aee_4927_11eb_8383_acde48001122row10_col0\" class=\"data row10 col0\" >-13732.686172</td>\n",
       "                        <td id=\"T_12722aee_4927_11eb_8383_acde48001122row10_col1\" class=\"data row10 col1\" >-13160.587752</td>\n",
       "                        <td id=\"T_12722aee_4927_11eb_8383_acde48001122row10_col2\" class=\"data row10 col2\" >-13177.187741</td>\n",
       "                        <td id=\"T_12722aee_4927_11eb_8383_acde48001122row10_col3\" class=\"data row10 col3\" >84.096538</td>\n",
       "                        <td id=\"T_12722aee_4927_11eb_8383_acde48001122row10_col4\" class=\"data row10 col4\" >0.100000</td>\n",
       "                        <td id=\"T_12722aee_4927_11eb_8383_acde48001122row10_col5\" class=\"data row10 col5\" >c</td>\n",
       "            </tr>\n",
       "            <tr>\n",
       "                                <th id=\"T_12722aee_4927_11eb_8383_acde48001122level1_row11\" class=\"row_heading level1 row11\" >1</th>\n",
       "                        <td id=\"T_12722aee_4927_11eb_8383_acde48001122row11_col0\" class=\"data row11 col0\" >-13705.564123</td>\n",
       "                        <td id=\"T_12722aee_4927_11eb_8383_acde48001122row11_col1\" class=\"data row11 col1\" >-13620.195162</td>\n",
       "                        <td id=\"T_12722aee_4927_11eb_8383_acde48001122row11_col2\" class=\"data row11 col2\" >-13628.543149</td>\n",
       "                        <td id=\"T_12722aee_4927_11eb_8383_acde48001122row11_col3\" class=\"data row11 col3\" >23.521286</td>\n",
       "                        <td id=\"T_12722aee_4927_11eb_8383_acde48001122row11_col4\" class=\"data row11 col4\" >0.100000</td>\n",
       "                        <td id=\"T_12722aee_4927_11eb_8383_acde48001122row11_col5\" class=\"data row11 col5\" >c</td>\n",
       "            </tr>\n",
       "            <tr>\n",
       "                                <th id=\"T_12722aee_4927_11eb_8383_acde48001122level1_row12\" class=\"row_heading level1 row12\" >2</th>\n",
       "                        <td id=\"T_12722aee_4927_11eb_8383_acde48001122row12_col0\" class=\"data row12 col0\" >-13703.366898</td>\n",
       "                        <td id=\"T_12722aee_4927_11eb_8383_acde48001122row12_col1\" class=\"data row12 col1\" >-13543.143242</td>\n",
       "                        <td id=\"T_12722aee_4927_11eb_8383_acde48001122row12_col2\" class=\"data row12 col2\" >-13548.711925</td>\n",
       "                        <td id=\"T_12722aee_4927_11eb_8383_acde48001122row12_col3\" class=\"data row12 col3\" >20.612783</td>\n",
       "                        <td id=\"T_12722aee_4927_11eb_8383_acde48001122row12_col4\" class=\"data row12 col4\" >0.100000</td>\n",
       "                        <td id=\"T_12722aee_4927_11eb_8383_acde48001122row12_col5\" class=\"data row12 col5\" >c</td>\n",
       "            </tr>\n",
       "            <tr>\n",
       "                                <th id=\"T_12722aee_4927_11eb_8383_acde48001122level1_row13\" class=\"row_heading level1 row13\" >3</th>\n",
       "                        <td id=\"T_12722aee_4927_11eb_8383_acde48001122row13_col0\" class=\"data row13 col0\" >-13733.784785</td>\n",
       "                        <td id=\"T_12722aee_4927_11eb_8383_acde48001122row13_col1\" class=\"data row13 col1\" >-13160.587752</td>\n",
       "                        <td id=\"T_12722aee_4927_11eb_8383_acde48001122row13_col2\" class=\"data row13 col2\" >-13194.232748</td>\n",
       "                        <td id=\"T_12722aee_4927_11eb_8383_acde48001122row13_col3\" class=\"data row13 col3\" >119.553251</td>\n",
       "                        <td id=\"T_12722aee_4927_11eb_8383_acde48001122row13_col4\" class=\"data row13 col4\" >0.100000</td>\n",
       "                        <td id=\"T_12722aee_4927_11eb_8383_acde48001122row13_col5\" class=\"data row13 col5\" >c</td>\n",
       "            </tr>\n",
       "            <tr>\n",
       "                                <th id=\"T_12722aee_4927_11eb_8383_acde48001122level1_row14\" class=\"row_heading level1 row14\" >4</th>\n",
       "                        <td id=\"T_12722aee_4927_11eb_8383_acde48001122row14_col0\" class=\"data row14 col0\" >-13651.598245</td>\n",
       "                        <td id=\"T_12722aee_4927_11eb_8383_acde48001122row14_col1\" class=\"data row14 col1\" >-13160.587752</td>\n",
       "                        <td id=\"T_12722aee_4927_11eb_8383_acde48001122row14_col2\" class=\"data row14 col2\" >-13295.508232</td>\n",
       "                        <td id=\"T_12722aee_4927_11eb_8383_acde48001122row14_col3\" class=\"data row14 col3\" >176.382644</td>\n",
       "                        <td id=\"T_12722aee_4927_11eb_8383_acde48001122row14_col4\" class=\"data row14 col4\" >0.100000</td>\n",
       "                        <td id=\"T_12722aee_4927_11eb_8383_acde48001122row14_col5\" class=\"data row14 col5\" >c</td>\n",
       "            </tr>\n",
       "            <tr>\n",
       "                        <th id=\"T_12722aee_4927_11eb_8383_acde48001122level0_row15\" class=\"row_heading level0 row15\" rowspan=5>0.2</th>\n",
       "                        <th id=\"T_12722aee_4927_11eb_8383_acde48001122level1_row15\" class=\"row_heading level1 row15\" >0</th>\n",
       "                        <td id=\"T_12722aee_4927_11eb_8383_acde48001122row15_col0\" class=\"data row15 col0\" >-13651.421292</td>\n",
       "                        <td id=\"T_12722aee_4927_11eb_8383_acde48001122row15_col1\" class=\"data row15 col1\" >-13201.829389</td>\n",
       "                        <td id=\"T_12722aee_4927_11eb_8383_acde48001122row15_col2\" class=\"data row15 col2\" >-13393.525201</td>\n",
       "                        <td id=\"T_12722aee_4927_11eb_8383_acde48001122row15_col3\" class=\"data row15 col3\" >220.705078</td>\n",
       "                        <td id=\"T_12722aee_4927_11eb_8383_acde48001122row15_col4\" class=\"data row15 col4\" >0.200000</td>\n",
       "                        <td id=\"T_12722aee_4927_11eb_8383_acde48001122row15_col5\" class=\"data row15 col5\" >d</td>\n",
       "            </tr>\n",
       "            <tr>\n",
       "                                <th id=\"T_12722aee_4927_11eb_8383_acde48001122level1_row16\" class=\"row_heading level1 row16\" >1</th>\n",
       "                        <td id=\"T_12722aee_4927_11eb_8383_acde48001122row16_col0\" class=\"data row16 col0\" >-13708.981839</td>\n",
       "                        <td id=\"T_12722aee_4927_11eb_8383_acde48001122row16_col1\" class=\"data row16 col1\" >-13201.829389</td>\n",
       "                        <td id=\"T_12722aee_4927_11eb_8383_acde48001122row16_col2\" class=\"data row16 col2\" >-13219.657069</td>\n",
       "                        <td id=\"T_12722aee_4927_11eb_8383_acde48001122row16_col3\" class=\"data row16 col3\" >89.821930</td>\n",
       "                        <td id=\"T_12722aee_4927_11eb_8383_acde48001122row16_col4\" class=\"data row16 col4\" >0.200000</td>\n",
       "                        <td id=\"T_12722aee_4927_11eb_8383_acde48001122row16_col5\" class=\"data row16 col5\" >d</td>\n",
       "            </tr>\n",
       "            <tr>\n",
       "                                <th id=\"T_12722aee_4927_11eb_8383_acde48001122level1_row17\" class=\"row_heading level1 row17\" >2</th>\n",
       "                        <td id=\"T_12722aee_4927_11eb_8383_acde48001122row17_col0\" class=\"data row17 col0\" >-13682.871291</td>\n",
       "                        <td id=\"T_12722aee_4927_11eb_8383_acde48001122row17_col1\" class=\"data row17 col1\" >-13491.769002</td>\n",
       "                        <td id=\"T_12722aee_4927_11eb_8383_acde48001122row17_col2\" class=\"data row17 col2\" >-13532.963524</td>\n",
       "                        <td id=\"T_12722aee_4927_11eb_8383_acde48001122row17_col3\" class=\"data row17 col3\" >64.915105</td>\n",
       "                        <td id=\"T_12722aee_4927_11eb_8383_acde48001122row17_col4\" class=\"data row17 col4\" >0.200000</td>\n",
       "                        <td id=\"T_12722aee_4927_11eb_8383_acde48001122row17_col5\" class=\"data row17 col5\" >d</td>\n",
       "            </tr>\n",
       "            <tr>\n",
       "                                <th id=\"T_12722aee_4927_11eb_8383_acde48001122level1_row18\" class=\"row_heading level1 row18\" >3</th>\n",
       "                        <td id=\"T_12722aee_4927_11eb_8383_acde48001122row18_col0\" class=\"data row18 col0\" >-13707.883227</td>\n",
       "                        <td id=\"T_12722aee_4927_11eb_8383_acde48001122row18_col1\" class=\"data row18 col1\" >-13618.816501</td>\n",
       "                        <td id=\"T_12722aee_4927_11eb_8383_acde48001122row18_col2\" class=\"data row18 col2\" >-13621.601211</td>\n",
       "                        <td id=\"T_12722aee_4927_11eb_8383_acde48001122row18_col3\" class=\"data row18 col3\" >13.282507</td>\n",
       "                        <td id=\"T_12722aee_4927_11eb_8383_acde48001122row18_col4\" class=\"data row18 col4\" >0.200000</td>\n",
       "                        <td id=\"T_12722aee_4927_11eb_8383_acde48001122row18_col5\" class=\"data row18 col5\" >d</td>\n",
       "            </tr>\n",
       "            <tr>\n",
       "                                <th id=\"T_12722aee_4927_11eb_8383_acde48001122level1_row19\" class=\"row_heading level1 row19\" >4</th>\n",
       "                        <td id=\"T_12722aee_4927_11eb_8383_acde48001122row19_col0\" class=\"data row19 col0\" >-13707.883227</td>\n",
       "                        <td id=\"T_12722aee_4927_11eb_8383_acde48001122row19_col1\" class=\"data row19 col1\" >-13592.212634</td>\n",
       "                        <td id=\"T_12722aee_4927_11eb_8383_acde48001122row19_col2\" class=\"data row19 col2\" >-13607.589344</td>\n",
       "                        <td id=\"T_12722aee_4927_11eb_8383_acde48001122row19_col3\" class=\"data row19 col3\" >35.104621</td>\n",
       "                        <td id=\"T_12722aee_4927_11eb_8383_acde48001122row19_col4\" class=\"data row19 col4\" >0.200000</td>\n",
       "                        <td id=\"T_12722aee_4927_11eb_8383_acde48001122row19_col5\" class=\"data row19 col5\" >d</td>\n",
       "            </tr>\n",
       "            <tr>\n",
       "                        <th id=\"T_12722aee_4927_11eb_8383_acde48001122level0_row20\" class=\"row_heading level0 row20\" rowspan=5>0.3</th>\n",
       "                        <th id=\"T_12722aee_4927_11eb_8383_acde48001122level1_row20\" class=\"row_heading level1 row20\" >0</th>\n",
       "                        <td id=\"T_12722aee_4927_11eb_8383_acde48001122row20_col0\" class=\"data row20 col0\" >-13712.578510</td>\n",
       "                        <td id=\"T_12722aee_4927_11eb_8383_acde48001122row20_col1\" class=\"data row20 col1\" >-13499.673654</td>\n",
       "                        <td id=\"T_12722aee_4927_11eb_8383_acde48001122row20_col2\" class=\"data row20 col2\" >-13505.322337</td>\n",
       "                        <td id=\"T_12722aee_4927_11eb_8383_acde48001122row20_col3\" class=\"data row20 col3\" >33.601416</td>\n",
       "                        <td id=\"T_12722aee_4927_11eb_8383_acde48001122row20_col4\" class=\"data row20 col4\" >0.300000</td>\n",
       "                        <td id=\"T_12722aee_4927_11eb_8383_acde48001122row20_col5\" class=\"data row20 col5\" >f</td>\n",
       "            </tr>\n",
       "            <tr>\n",
       "                                <th id=\"T_12722aee_4927_11eb_8383_acde48001122level1_row21\" class=\"row_heading level1 row21\" >1</th>\n",
       "                        <td id=\"T_12722aee_4927_11eb_8383_acde48001122row21_col0\" class=\"data row21 col0\" >-13709.688138</td>\n",
       "                        <td id=\"T_12722aee_4927_11eb_8383_acde48001122row21_col1\" class=\"data row21 col1\" >-13505.175827</td>\n",
       "                        <td id=\"T_12722aee_4927_11eb_8383_acde48001122row21_col2\" class=\"data row21 col2\" >-13635.099888</td>\n",
       "                        <td id=\"T_12722aee_4927_11eb_8383_acde48001122row21_col3\" class=\"data row21 col3\" >22.442956</td>\n",
       "                        <td id=\"T_12722aee_4927_11eb_8383_acde48001122row21_col4\" class=\"data row21 col4\" >0.300000</td>\n",
       "                        <td id=\"T_12722aee_4927_11eb_8383_acde48001122row21_col5\" class=\"data row21 col5\" >f</td>\n",
       "            </tr>\n",
       "            <tr>\n",
       "                                <th id=\"T_12722aee_4927_11eb_8383_acde48001122level1_row22\" class=\"row_heading level1 row22\" >2</th>\n",
       "                        <td id=\"T_12722aee_4927_11eb_8383_acde48001122row22_col0\" class=\"data row22 col0\" >-13711.074432</td>\n",
       "                        <td id=\"T_12722aee_4927_11eb_8383_acde48001122row22_col1\" class=\"data row22 col1\" >-13475.004794</td>\n",
       "                        <td id=\"T_12722aee_4927_11eb_8383_acde48001122row22_col2\" class=\"data row22 col2\" >-13537.011286</td>\n",
       "                        <td id=\"T_12722aee_4927_11eb_8383_acde48001122row22_col3\" class=\"data row22 col3\" >89.573716</td>\n",
       "                        <td id=\"T_12722aee_4927_11eb_8383_acde48001122row22_col4\" class=\"data row22 col4\" >0.300000</td>\n",
       "                        <td id=\"T_12722aee_4927_11eb_8383_acde48001122row22_col5\" class=\"data row22 col5\" >f</td>\n",
       "            </tr>\n",
       "            <tr>\n",
       "                                <th id=\"T_12722aee_4927_11eb_8383_acde48001122level1_row23\" class=\"row_heading level1 row23\" >3</th>\n",
       "                        <td id=\"T_12722aee_4927_11eb_8383_acde48001122row23_col0\" class=\"data row23 col0\" >-13706.510084</td>\n",
       "                        <td id=\"T_12722aee_4927_11eb_8383_acde48001122row23_col1\" class=\"data row23 col1\" >-13570.795324</td>\n",
       "                        <td id=\"T_12722aee_4927_11eb_8383_acde48001122row23_col2\" class=\"data row23 col2\" >-13609.994515</td>\n",
       "                        <td id=\"T_12722aee_4927_11eb_8383_acde48001122row23_col3\" class=\"data row23 col3\" >44.331227</td>\n",
       "                        <td id=\"T_12722aee_4927_11eb_8383_acde48001122row23_col4\" class=\"data row23 col4\" >0.300000</td>\n",
       "                        <td id=\"T_12722aee_4927_11eb_8383_acde48001122row23_col5\" class=\"data row23 col5\" >f</td>\n",
       "            </tr>\n",
       "            <tr>\n",
       "                                <th id=\"T_12722aee_4927_11eb_8383_acde48001122level1_row24\" class=\"row_heading level1 row24\" >4</th>\n",
       "                        <td id=\"T_12722aee_4927_11eb_8383_acde48001122row24_col0\" class=\"data row24 col0\" >-13709.688138</td>\n",
       "                        <td id=\"T_12722aee_4927_11eb_8383_acde48001122row24_col1\" class=\"data row24 col1\" >-13502.851708</td>\n",
       "                        <td id=\"T_12722aee_4927_11eb_8383_acde48001122row24_col2\" class=\"data row24 col2\" >-13527.956681</td>\n",
       "                        <td id=\"T_12722aee_4927_11eb_8383_acde48001122row24_col3\" class=\"data row24 col3\" >41.822382</td>\n",
       "                        <td id=\"T_12722aee_4927_11eb_8383_acde48001122row24_col4\" class=\"data row24 col4\" >0.300000</td>\n",
       "                        <td id=\"T_12722aee_4927_11eb_8383_acde48001122row24_col5\" class=\"data row24 col5\" >f</td>\n",
       "            </tr>\n",
       "            <tr>\n",
       "                        <th id=\"T_12722aee_4927_11eb_8383_acde48001122level0_row25\" class=\"row_heading level0 row25\" rowspan=5>0.4</th>\n",
       "                        <th id=\"T_12722aee_4927_11eb_8383_acde48001122level1_row25\" class=\"row_heading level1 row25\" >0</th>\n",
       "                        <td id=\"T_12722aee_4927_11eb_8383_acde48001122row25_col0\" class=\"data row25 col0\" >-13711.841482</td>\n",
       "                        <td id=\"T_12722aee_4927_11eb_8383_acde48001122row25_col1\" class=\"data row25 col1\" >-13612.052376</td>\n",
       "                        <td id=\"T_12722aee_4927_11eb_8383_acde48001122row25_col2\" class=\"data row25 col2\" >-13621.053945</td>\n",
       "                        <td id=\"T_12722aee_4927_11eb_8383_acde48001122row25_col3\" class=\"data row25 col3\" >11.729996</td>\n",
       "                        <td id=\"T_12722aee_4927_11eb_8383_acde48001122row25_col4\" class=\"data row25 col4\" >0.400000</td>\n",
       "                        <td id=\"T_12722aee_4927_11eb_8383_acde48001122row25_col5\" class=\"data row25 col5\" >f</td>\n",
       "            </tr>\n",
       "            <tr>\n",
       "                                <th id=\"T_12722aee_4927_11eb_8383_acde48001122level1_row26\" class=\"row_heading level1 row26\" >1</th>\n",
       "                        <td id=\"T_12722aee_4927_11eb_8383_acde48001122row26_col0\" class=\"data row26 col0\" >-13723.929311</td>\n",
       "                        <td id=\"T_12722aee_4927_11eb_8383_acde48001122row26_col1\" class=\"data row26 col1\" >-13634.705284</td>\n",
       "                        <td id=\"T_12722aee_4927_11eb_8383_acde48001122row26_col2\" class=\"data row26 col2\" >-13644.377979</td>\n",
       "                        <td id=\"T_12722aee_4927_11eb_8383_acde48001122row26_col3\" class=\"data row26 col3\" >15.155295</td>\n",
       "                        <td id=\"T_12722aee_4927_11eb_8383_acde48001122row26_col4\" class=\"data row26 col4\" >0.400000</td>\n",
       "                        <td id=\"T_12722aee_4927_11eb_8383_acde48001122row26_col5\" class=\"data row26 col5\" >f</td>\n",
       "            </tr>\n",
       "            <tr>\n",
       "                                <th id=\"T_12722aee_4927_11eb_8383_acde48001122level1_row27\" class=\"row_heading level1 row27\" >2</th>\n",
       "                        <td id=\"T_12722aee_4927_11eb_8383_acde48001122row27_col0\" class=\"data row27 col0\" >-13715.425001</td>\n",
       "                        <td id=\"T_12722aee_4927_11eb_8383_acde48001122row27_col1\" class=\"data row27 col1\" >-13151.775491</td>\n",
       "                        <td id=\"T_12722aee_4927_11eb_8383_acde48001122row27_col2\" class=\"data row27 col2\" >-13253.423727</td>\n",
       "                        <td id=\"T_12722aee_4927_11eb_8383_acde48001122row27_col3\" class=\"data row27 col3\" >191.599560</td>\n",
       "                        <td id=\"T_12722aee_4927_11eb_8383_acde48001122row27_col4\" class=\"data row27 col4\" >0.400000</td>\n",
       "                        <td id=\"T_12722aee_4927_11eb_8383_acde48001122row27_col5\" class=\"data row27 col5\" >f</td>\n",
       "            </tr>\n",
       "            <tr>\n",
       "                                <th id=\"T_12722aee_4927_11eb_8383_acde48001122level1_row28\" class=\"row_heading level1 row28\" >3</th>\n",
       "                        <td id=\"T_12722aee_4927_11eb_8383_acde48001122row28_col0\" class=\"data row28 col0\" >-13718.767475</td>\n",
       "                        <td id=\"T_12722aee_4927_11eb_8383_acde48001122row28_col1\" class=\"data row28 col1\" >-13151.775491</td>\n",
       "                        <td id=\"T_12722aee_4927_11eb_8383_acde48001122row28_col2\" class=\"data row28 col2\" >-13318.141802</td>\n",
       "                        <td id=\"T_12722aee_4927_11eb_8383_acde48001122row28_col3\" class=\"data row28 col3\" >168.446190</td>\n",
       "                        <td id=\"T_12722aee_4927_11eb_8383_acde48001122row28_col4\" class=\"data row28 col4\" >0.400000</td>\n",
       "                        <td id=\"T_12722aee_4927_11eb_8383_acde48001122row28_col5\" class=\"data row28 col5\" >f</td>\n",
       "            </tr>\n",
       "            <tr>\n",
       "                                <th id=\"T_12722aee_4927_11eb_8383_acde48001122level1_row29\" class=\"row_heading level1 row29\" >4</th>\n",
       "                        <td id=\"T_12722aee_4927_11eb_8383_acde48001122row29_col0\" class=\"data row29 col0\" >-13721.887106</td>\n",
       "                        <td id=\"T_12722aee_4927_11eb_8383_acde48001122row29_col1\" class=\"data row29 col1\" >-13594.589268</td>\n",
       "                        <td id=\"T_12722aee_4927_11eb_8383_acde48001122row29_col2\" class=\"data row29 col2\" >-13595.286737</td>\n",
       "                        <td id=\"T_12722aee_4927_11eb_8383_acde48001122row29_col3\" class=\"data row29 col3\" >8.987760</td>\n",
       "                        <td id=\"T_12722aee_4927_11eb_8383_acde48001122row29_col4\" class=\"data row29 col4\" >0.400000</td>\n",
       "                        <td id=\"T_12722aee_4927_11eb_8383_acde48001122row29_col5\" class=\"data row29 col5\" >f</td>\n",
       "            </tr>\n",
       "    </tbody></table>"
      ],
      "text/plain": [
       "<pandas.io.formats.style.Styler at 0x124e7ec70>"
      ]
     },
     "execution_count": 170,
     "metadata": {},
     "output_type": "execute_result"
    }
   ],
   "source": [
    "grouped.style.apply(lambda x: ['background: lightgreen' if x['log_posterior',  'max'] >=\\\n",
    "                               true_post[x[\"key\"].values.item()] else '' for i in x], \n",
    "               axis=1)"
   ]
  },
  {
   "cell_type": "markdown",
   "metadata": {},
   "source": [
    "### 5. If True Norm, features in Top Norms"
   ]
  },
  {
   "cell_type": "code",
   "execution_count": 227,
   "metadata": {},
   "outputs": [],
   "source": [
    "top_norms=stacked.groupby([\"w_nc\",\"expression\"]\\\n",
    "               )[[\"chain_number\",\"log_posterior\"\\\n",
    "                 ]].agg({\"log_posterior\":'mean',\"chain_number\":\"count\"}\\\n",
    "                       ).sort_values(by=[\"chain_number\"]\\\n",
    "                                    ).groupby([\"w_nc\"\\\n",
    "                                              ]).tail(20).sort_values(by=[\"w_nc\",\"chain_number\"],\\\n",
    "                                                                     ascending=[True, False])"
   ]
  },
  {
   "cell_type": "code",
   "execution_count": 228,
   "metadata": {},
   "outputs": [],
   "source": [
    "top_norms[\"grp_rnk\"]=top_norms.groupby(\"w_nc\")[[\"chain_number\"]].rank(method='dense',ascending=False)"
   ]
  },
  {
   "cell_type": "code",
   "execution_count": 229,
   "metadata": {},
   "outputs": [
    {
     "data": {
      "text/html": [
       "<style  type=\"text/css\" >\n",
       "#T_cf2bda64_492b_11eb_8383_acde48001122row7_col0,#T_cf2bda64_492b_11eb_8383_acde48001122row7_col1,#T_cf2bda64_492b_11eb_8383_acde48001122row7_col2{\n",
       "            background:  lightgreen;\n",
       "        }</style><table id=\"T_cf2bda64_492b_11eb_8383_acde48001122\" ><thead>    <tr>        <th class=\"blank level0\" ></th>        <th class=\"col_heading level0 col0\" >log_posterior</th>        <th class=\"col_heading level0 col1\" >chain_number</th>        <th class=\"col_heading level0 col2\" >grp_rnk</th>    </tr>    <tr>        <th class=\"index_name level0\" >expression</th>        <th class=\"blank\" ></th>        <th class=\"blank\" ></th>        <th class=\"blank\" ></th>    </tr></thead><tbody>\n",
       "                <tr>\n",
       "                        <th id=\"T_cf2bda64_492b_11eb_8383_acde48001122level0_row0\" class=\"row_heading level0 row0\" >['Norms', ['Obl', ['Moved', ['Colour', 'g'], ['Shape', 'any'], ['Zone', '1'], ['Next-Move', ['Colour', 'any'], ['Shape', 'any']]], ['Zone', '3']], ['Per', ['Action', 'putdown'], ['Colour', 'any'], ['Shape', 'circle'], ['PerZone', '1']]]</th>\n",
       "                        <td id=\"T_cf2bda64_492b_11eb_8383_acde48001122row0_col0\" class=\"data row0 col0\" >-13555.627969</td>\n",
       "                        <td id=\"T_cf2bda64_492b_11eb_8383_acde48001122row0_col1\" class=\"data row0 col1\" >1459</td>\n",
       "                        <td id=\"T_cf2bda64_492b_11eb_8383_acde48001122row0_col2\" class=\"data row0 col2\" >1.000000</td>\n",
       "            </tr>\n",
       "            <tr>\n",
       "                        <th id=\"T_cf2bda64_492b_11eb_8383_acde48001122level0_row1\" class=\"row_heading level0 row1\" >['Norms', ['Obl', ['Moved', ['Colour', 'g'], ['Shape', 'any'], ['Zone', '1'], ['Next-Move', ['Colour', 'any'], ['Shape', 'any']]], ['Zone', '3']], ['Per', ['Action', 'putdown'], ['Colour', 'r'], ['Shape', 'any'], ['PerZone', '1']]]</th>\n",
       "                        <td id=\"T_cf2bda64_492b_11eb_8383_acde48001122row1_col0\" class=\"data row1 col0\" >-13555.627969</td>\n",
       "                        <td id=\"T_cf2bda64_492b_11eb_8383_acde48001122row1_col1\" class=\"data row1 col1\" >1342</td>\n",
       "                        <td id=\"T_cf2bda64_492b_11eb_8383_acde48001122row1_col2\" class=\"data row1 col2\" >2.000000</td>\n",
       "            </tr>\n",
       "            <tr>\n",
       "                        <th id=\"T_cf2bda64_492b_11eb_8383_acde48001122level0_row2\" class=\"row_heading level0 row2\" >['Norms', ['Obl', ['Moved', ['Colour', 'any'], ['Shape', 'square'], ['Zone', '3'], ['Next-Move', ['Colour', 'any'], ['Shape', 'square']]], ['Zone', '3']], ['Per', ['Action', 'putdown'], ['Colour', 'any'], ['Shape', 'any'], ['PerZone', '2']]]</th>\n",
       "                        <td id=\"T_cf2bda64_492b_11eb_8383_acde48001122row2_col0\" class=\"data row2 col0\" >-13584.396176</td>\n",
       "                        <td id=\"T_cf2bda64_492b_11eb_8383_acde48001122row2_col1\" class=\"data row2 col1\" >1184</td>\n",
       "                        <td id=\"T_cf2bda64_492b_11eb_8383_acde48001122row2_col2\" class=\"data row2 col2\" >3.000000</td>\n",
       "            </tr>\n",
       "            <tr>\n",
       "                        <th id=\"T_cf2bda64_492b_11eb_8383_acde48001122level0_row3\" class=\"row_heading level0 row3\" >['Norms', ['Obl', ['Moved', ['Colour', 'any'], ['Shape', 'circle'], ['Zone', '1'], ['Next-Move', ['Colour', 'any'], ['Shape', 'any']]], ['Zone', '3']], ['Per', ['Action', 'putdown'], ['Colour', 'any'], ['Shape', 'any'], ['PerZone', '2']]]</th>\n",
       "                        <td id=\"T_cf2bda64_492b_11eb_8383_acde48001122row3_col0\" class=\"data row3 col0\" >-13198.105711</td>\n",
       "                        <td id=\"T_cf2bda64_492b_11eb_8383_acde48001122row3_col1\" class=\"data row3 col1\" >1053</td>\n",
       "                        <td id=\"T_cf2bda64_492b_11eb_8383_acde48001122row3_col2\" class=\"data row3 col2\" >4.000000</td>\n",
       "            </tr>\n",
       "            <tr>\n",
       "                        <th id=\"T_cf2bda64_492b_11eb_8383_acde48001122level0_row4\" class=\"row_heading level0 row4\" >['Norm', ['Obl', ['Moved', ['Colour', 'r'], ['Shape', 'any'], ['Zone', '1'], ['Next-Move', ['Colour', 'r'], ['Shape', 'any']]], ['Zone', '2']]]</th>\n",
       "                        <td id=\"T_cf2bda64_492b_11eb_8383_acde48001122row4_col0\" class=\"data row4 col0\" >-13358.889864</td>\n",
       "                        <td id=\"T_cf2bda64_492b_11eb_8383_acde48001122row4_col1\" class=\"data row4 col1\" >841</td>\n",
       "                        <td id=\"T_cf2bda64_492b_11eb_8383_acde48001122row4_col2\" class=\"data row4 col2\" >5.000000</td>\n",
       "            </tr>\n",
       "            <tr>\n",
       "                        <th id=\"T_cf2bda64_492b_11eb_8383_acde48001122level0_row5\" class=\"row_heading level0 row5\" >['Norm', ['Obl', ['Moved', ['Colour', 'any'], ['Shape', 'circle'], ['Zone', '1'], ['Next-Move', ['Colour', 'r'], ['Shape', 'any']]], ['Zone', '2']]]</th>\n",
       "                        <td id=\"T_cf2bda64_492b_11eb_8383_acde48001122row5_col0\" class=\"data row5 col0\" >-13358.889864</td>\n",
       "                        <td id=\"T_cf2bda64_492b_11eb_8383_acde48001122row5_col1\" class=\"data row5 col1\" >779</td>\n",
       "                        <td id=\"T_cf2bda64_492b_11eb_8383_acde48001122row5_col2\" class=\"data row5 col2\" >6.000000</td>\n",
       "            </tr>\n",
       "            <tr>\n",
       "                        <th id=\"T_cf2bda64_492b_11eb_8383_acde48001122level0_row6\" class=\"row_heading level0 row6\" >['Norms', ['Obl', ['Moved', ['Colour', 'r'], ['Shape', 'any'], ['Zone', '1'], ['Next-Move', ['Colour', 'any'], ['Shape', 'any']]], ['Zone', '3']], ['Per', ['Action', 'putdown'], ['Colour', 'any'], ['Shape', 'any'], ['PerZone', '2']]]</th>\n",
       "                        <td id=\"T_cf2bda64_492b_11eb_8383_acde48001122row6_col0\" class=\"data row6 col0\" >-13198.105711</td>\n",
       "                        <td id=\"T_cf2bda64_492b_11eb_8383_acde48001122row6_col1\" class=\"data row6 col1\" >727</td>\n",
       "                        <td id=\"T_cf2bda64_492b_11eb_8383_acde48001122row6_col2\" class=\"data row6 col2\" >7.000000</td>\n",
       "            </tr>\n",
       "            <tr>\n",
       "                        <th id=\"T_cf2bda64_492b_11eb_8383_acde48001122level0_row7\" class=\"row_heading level0 row7\" >['Norms', ['Obl', ['Moved', ['Colour', 'r'], ['Shape', 'any'], ['Zone', '1'], ['Next-Move', ['Colour', 'any'], ['Shape', 'any']]], ['Zone', '2']], ['Per', ['Action', 'putdown'], ['Colour', 'any'], ['Shape', 'square'], ['PerZone', '3']]]</th>\n",
       "                        <td id=\"T_cf2bda64_492b_11eb_8383_acde48001122row7_col0\" class=\"data row7 col0\" >-12783.316015</td>\n",
       "                        <td id=\"T_cf2bda64_492b_11eb_8383_acde48001122row7_col1\" class=\"data row7 col1\" >676</td>\n",
       "                        <td id=\"T_cf2bda64_492b_11eb_8383_acde48001122row7_col2\" class=\"data row7 col2\" >8.000000</td>\n",
       "            </tr>\n",
       "            <tr>\n",
       "                        <th id=\"T_cf2bda64_492b_11eb_8383_acde48001122level0_row8\" class=\"row_heading level0 row8\" >['Norm', ['Obl', ['Moved', ['Colour', 'r'], ['Shape', 'any'], ['Zone', '1'], ['Next-Move', ['Colour', 'any'], ['Shape', 'circle']]], ['Zone', '2']]]</th>\n",
       "                        <td id=\"T_cf2bda64_492b_11eb_8383_acde48001122row8_col0\" class=\"data row8 col0\" >-13358.889864</td>\n",
       "                        <td id=\"T_cf2bda64_492b_11eb_8383_acde48001122row8_col1\" class=\"data row8 col1\" >648</td>\n",
       "                        <td id=\"T_cf2bda64_492b_11eb_8383_acde48001122row8_col2\" class=\"data row8 col2\" >9.000000</td>\n",
       "            </tr>\n",
       "            <tr>\n",
       "                        <th id=\"T_cf2bda64_492b_11eb_8383_acde48001122level0_row9\" class=\"row_heading level0 row9\" >['Norm', ['Obl', ['Moved', ['Colour', 'any'], ['Shape', 'circle'], ['Zone', '1'], ['Next-Move', ['Colour', 'any'], ['Shape', 'circle']]], ['Zone', '2']]]</th>\n",
       "                        <td id=\"T_cf2bda64_492b_11eb_8383_acde48001122row9_col0\" class=\"data row9 col0\" >-13358.889864</td>\n",
       "                        <td id=\"T_cf2bda64_492b_11eb_8383_acde48001122row9_col1\" class=\"data row9 col1\" >629</td>\n",
       "                        <td id=\"T_cf2bda64_492b_11eb_8383_acde48001122row9_col2\" class=\"data row9 col2\" >10.000000</td>\n",
       "            </tr>\n",
       "    </tbody></table>"
      ],
      "text/plain": [
       "<pandas.io.formats.style.Styler at 0x124f6f9d0>"
      ]
     },
     "execution_count": 229,
     "metadata": {},
     "output_type": "execute_result"
    }
   ],
   "source": [
    "top_norms.loc[0.0].head(10).style.apply(lambda x: ['background: lightgreen' if x['log_posterior'] >=\\\n",
    "                               true_post[\"a\"] else '' for i in x], \n",
    "               axis=1)"
   ]
  },
  {
   "cell_type": "code",
   "execution_count": 232,
   "metadata": {},
   "outputs": [
    {
     "data": {
      "text/html": [
       "<style  type=\"text/css\" >\n",
       "#T_d9868144_492b_11eb_8383_acde48001122row0_col0,#T_d9868144_492b_11eb_8383_acde48001122row0_col1,#T_d9868144_492b_11eb_8383_acde48001122row0_col2,#T_d9868144_492b_11eb_8383_acde48001122row1_col0,#T_d9868144_492b_11eb_8383_acde48001122row1_col1,#T_d9868144_492b_11eb_8383_acde48001122row1_col2{\n",
       "            background:  lightgreen;\n",
       "        }</style><table id=\"T_d9868144_492b_11eb_8383_acde48001122\" ><thead>    <tr>        <th class=\"blank level0\" ></th>        <th class=\"col_heading level0 col0\" >log_posterior</th>        <th class=\"col_heading level0 col1\" >chain_number</th>        <th class=\"col_heading level0 col2\" >grp_rnk</th>    </tr>    <tr>        <th class=\"index_name level0\" >expression</th>        <th class=\"blank\" ></th>        <th class=\"blank\" ></th>        <th class=\"blank\" ></th>    </tr></thead><tbody>\n",
       "                <tr>\n",
       "                        <th id=\"T_d9868144_492b_11eb_8383_acde48001122level0_row0\" class=\"row_heading level0 row0\" >['Norms', ['Obl', ['Moved', ['Colour', 'r'], ['Shape', 'any'], ['Zone', '1'], ['Next-Move', ['Colour', 'any'], ['Shape', 'any']]], ['Zone', '2']], ['Per', ['Action', 'putdown'], ['Colour', 'any'], ['Shape', 'square'], ['PerZone', '3']]]</th>\n",
       "                        <td id=\"T_d9868144_492b_11eb_8383_acde48001122row0_col0\" class=\"data row0 col0\" >-13111.447021</td>\n",
       "                        <td id=\"T_d9868144_492b_11eb_8383_acde48001122row0_col1\" class=\"data row0 col1\" >3509</td>\n",
       "                        <td id=\"T_d9868144_492b_11eb_8383_acde48001122row0_col2\" class=\"data row0 col2\" >1.000000</td>\n",
       "            </tr>\n",
       "            <tr>\n",
       "                        <th id=\"T_d9868144_492b_11eb_8383_acde48001122level0_row1\" class=\"row_heading level0 row1\" >['Norms', ['Obl', ['Moved', ['Colour', 'any'], ['Shape', 'circle'], ['Zone', '1'], ['Next-Move', ['Colour', 'any'], ['Shape', 'any']]], ['Zone', '2']], ['Per', ['Action', 'putdown'], ['Colour', 'any'], ['Shape', 'square'], ['PerZone', '3']]]</th>\n",
       "                        <td id=\"T_d9868144_492b_11eb_8383_acde48001122row1_col0\" class=\"data row1 col0\" >-13111.447021</td>\n",
       "                        <td id=\"T_d9868144_492b_11eb_8383_acde48001122row1_col1\" class=\"data row1 col1\" >2413</td>\n",
       "                        <td id=\"T_d9868144_492b_11eb_8383_acde48001122row1_col2\" class=\"data row1 col2\" >2.000000</td>\n",
       "            </tr>\n",
       "            <tr>\n",
       "                        <th id=\"T_d9868144_492b_11eb_8383_acde48001122level0_row2\" class=\"row_heading level0 row2\" >['Norm', ['Obl', ['Moved', ['Colour', 'any'], ['Shape', 'circle'], ['Zone', '1'], ['Next-Move', ['Colour', 'any'], ['Shape', 'square']]], ['Zone', '3']]]</th>\n",
       "                        <td id=\"T_d9868144_492b_11eb_8383_acde48001122row2_col0\" class=\"data row2 col0\" >-13520.542021</td>\n",
       "                        <td id=\"T_d9868144_492b_11eb_8383_acde48001122row2_col1\" class=\"data row2 col1\" >1411</td>\n",
       "                        <td id=\"T_d9868144_492b_11eb_8383_acde48001122row2_col2\" class=\"data row2 col2\" >3.000000</td>\n",
       "            </tr>\n",
       "            <tr>\n",
       "                        <th id=\"T_d9868144_492b_11eb_8383_acde48001122level0_row3\" class=\"row_heading level0 row3\" >['Norms', ['Obl', ['Moved', ['Colour', 'r'], ['Shape', 'circle'], ['Zone', '1'], ['Next-Move', ['Colour', 'any'], ['Shape', 'any']]], ['Zone', '2']], ['Per', ['Action', 'putdown'], ['Colour', 'any'], ['Shape', 'square'], ['PerZone', '3']]]</th>\n",
       "                        <td id=\"T_d9868144_492b_11eb_8383_acde48001122row3_col0\" class=\"data row3 col0\" >-13112.545633</td>\n",
       "                        <td id=\"T_d9868144_492b_11eb_8383_acde48001122row3_col1\" class=\"data row3 col1\" >1060</td>\n",
       "                        <td id=\"T_d9868144_492b_11eb_8383_acde48001122row3_col2\" class=\"data row3 col2\" >4.000000</td>\n",
       "            </tr>\n",
       "    </tbody></table>"
      ],
      "text/plain": [
       "<pandas.io.formats.style.Styler at 0x124f646d0>"
      ]
     },
     "execution_count": 232,
     "metadata": {},
     "output_type": "execute_result"
    }
   ],
   "source": [
    "top_norms.loc[0.05].head(4).style.apply(lambda x: ['background: lightgreen' if x['log_posterior'] >=\\\n",
    "                               true_post[\"b\"] else '' for i in x], \n",
    "               axis=1)"
   ]
  },
  {
   "cell_type": "code",
   "execution_count": 234,
   "metadata": {},
   "outputs": [
    {
     "data": {
      "text/html": [
       "<style  type=\"text/css\" >\n",
       "#T_eba71bd6_492b_11eb_8383_acde48001122row0_col0,#T_eba71bd6_492b_11eb_8383_acde48001122row0_col1,#T_eba71bd6_492b_11eb_8383_acde48001122row0_col2,#T_eba71bd6_492b_11eb_8383_acde48001122row1_col0,#T_eba71bd6_492b_11eb_8383_acde48001122row1_col1,#T_eba71bd6_492b_11eb_8383_acde48001122row1_col2{\n",
       "            background:  lightgreen;\n",
       "        }</style><table id=\"T_eba71bd6_492b_11eb_8383_acde48001122\" ><thead>    <tr>        <th class=\"blank level0\" ></th>        <th class=\"col_heading level0 col0\" >log_posterior</th>        <th class=\"col_heading level0 col1\" >chain_number</th>        <th class=\"col_heading level0 col2\" >grp_rnk</th>    </tr>    <tr>        <th class=\"index_name level0\" >expression</th>        <th class=\"blank\" ></th>        <th class=\"blank\" ></th>        <th class=\"blank\" ></th>    </tr></thead><tbody>\n",
       "                <tr>\n",
       "                        <th id=\"T_eba71bd6_492b_11eb_8383_acde48001122level0_row0\" class=\"row_heading level0 row0\" >['Norms', ['Obl', ['Moved', ['Colour', 'r'], ['Shape', 'any'], ['Zone', '1'], ['Next-Move', ['Colour', 'any'], ['Shape', 'any']]], ['Zone', '2']], ['Per', ['Action', 'putdown'], ['Colour', 'any'], ['Shape', 'square'], ['PerZone', '3']]]</th>\n",
       "                        <td id=\"T_eba71bd6_492b_11eb_8383_acde48001122row0_col0\" class=\"data row0 col0\" >-13160.587752</td>\n",
       "                        <td id=\"T_eba71bd6_492b_11eb_8383_acde48001122row0_col1\" class=\"data row0 col1\" >4246</td>\n",
       "                        <td id=\"T_eba71bd6_492b_11eb_8383_acde48001122row0_col2\" class=\"data row0 col2\" >1.000000</td>\n",
       "            </tr>\n",
       "            <tr>\n",
       "                        <th id=\"T_eba71bd6_492b_11eb_8383_acde48001122level0_row1\" class=\"row_heading level0 row1\" >['Norms', ['Obl', ['Moved', ['Colour', 'any'], ['Shape', 'circle'], ['Zone', '1'], ['Next-Move', ['Colour', 'any'], ['Shape', 'any']]], ['Zone', '2']], ['Per', ['Action', 'putdown'], ['Colour', 'any'], ['Shape', 'square'], ['PerZone', '3']]]</th>\n",
       "                        <td id=\"T_eba71bd6_492b_11eb_8383_acde48001122row1_col0\" class=\"data row1 col0\" >-13160.587752</td>\n",
       "                        <td id=\"T_eba71bd6_492b_11eb_8383_acde48001122row1_col1\" class=\"data row1 col1\" >4125</td>\n",
       "                        <td id=\"T_eba71bd6_492b_11eb_8383_acde48001122row1_col2\" class=\"data row1 col2\" >2.000000</td>\n",
       "            </tr>\n",
       "            <tr>\n",
       "                        <th id=\"T_eba71bd6_492b_11eb_8383_acde48001122level0_row2\" class=\"row_heading level0 row2\" >['Norms', ['Obl', ['Moved', ['Colour', 'any'], ['Shape', 'square'], ['Zone', '3'], ['Next-Move', ['Colour', 'any'], ['Shape', 'square']]], ['Zone', '3']], ['Per', ['Action', 'putdown'], ['Colour', 'any'], ['Shape', 'any'], ['PerZone', '1']]]</th>\n",
       "                        <td id=\"T_eba71bd6_492b_11eb_8383_acde48001122row2_col0\" class=\"data row2 col0\" >-13620.195162</td>\n",
       "                        <td id=\"T_eba71bd6_492b_11eb_8383_acde48001122row2_col1\" class=\"data row2 col1\" >2654</td>\n",
       "                        <td id=\"T_eba71bd6_492b_11eb_8383_acde48001122row2_col2\" class=\"data row2 col2\" >3.000000</td>\n",
       "            </tr>\n",
       "            <tr>\n",
       "                        <th id=\"T_eba71bd6_492b_11eb_8383_acde48001122level0_row3\" class=\"row_heading level0 row3\" >['Norms', ['Obl', ['Moved', ['Colour', 'r'], ['Shape', 'circle'], ['Zone', '1'], ['Next-Move', ['Colour', 'any'], ['Shape', 'any']]], ['Zone', '2']], ['Per', ['Action', 'putdown'], ['Colour', 'any'], ['Shape', 'square'], ['PerZone', '3']]]</th>\n",
       "                        <td id=\"T_eba71bd6_492b_11eb_8383_acde48001122row3_col0\" class=\"data row3 col0\" >-13161.686365</td>\n",
       "                        <td id=\"T_eba71bd6_492b_11eb_8383_acde48001122row3_col1\" class=\"data row3 col1\" >1385</td>\n",
       "                        <td id=\"T_eba71bd6_492b_11eb_8383_acde48001122row3_col2\" class=\"data row3 col2\" >4.000000</td>\n",
       "            </tr>\n",
       "    </tbody></table>"
      ],
      "text/plain": [
       "<pandas.io.formats.style.Styler at 0x124f957f0>"
      ]
     },
     "execution_count": 234,
     "metadata": {},
     "output_type": "execute_result"
    }
   ],
   "source": [
    "top_norms.loc[0.1].head(4).style.apply(lambda x: ['background: lightgreen' if x['log_posterior'] >=\\\n",
    "                               true_post[\"c\"] else '' for i in x], \n",
    "               axis=1)"
   ]
  },
  {
   "cell_type": "code",
   "execution_count": 236,
   "metadata": {},
   "outputs": [
    {
     "data": {
      "text/html": [
       "<style  type=\"text/css\" >\n",
       "#T_f5528dd2_492b_11eb_8383_acde48001122row0_col0,#T_f5528dd2_492b_11eb_8383_acde48001122row0_col1,#T_f5528dd2_492b_11eb_8383_acde48001122row0_col2,#T_f5528dd2_492b_11eb_8383_acde48001122row1_col0,#T_f5528dd2_492b_11eb_8383_acde48001122row1_col1,#T_f5528dd2_492b_11eb_8383_acde48001122row1_col2{\n",
       "            background:  lightgreen;\n",
       "        }</style><table id=\"T_f5528dd2_492b_11eb_8383_acde48001122\" ><thead>    <tr>        <th class=\"blank level0\" ></th>        <th class=\"col_heading level0 col0\" >log_posterior</th>        <th class=\"col_heading level0 col1\" >chain_number</th>        <th class=\"col_heading level0 col2\" >grp_rnk</th>    </tr>    <tr>        <th class=\"index_name level0\" >expression</th>        <th class=\"blank\" ></th>        <th class=\"blank\" ></th>        <th class=\"blank\" ></th>    </tr></thead><tbody>\n",
       "                <tr>\n",
       "                        <th id=\"T_f5528dd2_492b_11eb_8383_acde48001122level0_row0\" class=\"row_heading level0 row0\" >['Norms', ['Obl', ['Moved', ['Colour', 'any'], ['Shape', 'circle'], ['Zone', '1'], ['Next-Move', ['Colour', 'any'], ['Shape', 'any']]], ['Zone', '2']], ['Per', ['Action', 'putdown'], ['Colour', 'any'], ['Shape', 'square'], ['PerZone', '3']]]</th>\n",
       "                        <td id=\"T_f5528dd2_492b_11eb_8383_acde48001122row0_col0\" class=\"data row0 col0\" >-13201.829389</td>\n",
       "                        <td id=\"T_f5528dd2_492b_11eb_8383_acde48001122row0_col1\" class=\"data row0 col1\" >2860</td>\n",
       "                        <td id=\"T_f5528dd2_492b_11eb_8383_acde48001122row0_col2\" class=\"data row0 col2\" >1.000000</td>\n",
       "            </tr>\n",
       "            <tr>\n",
       "                        <th id=\"T_f5528dd2_492b_11eb_8383_acde48001122level0_row1\" class=\"row_heading level0 row1\" >['Norms', ['Obl', ['Moved', ['Colour', 'r'], ['Shape', 'any'], ['Zone', '1'], ['Next-Move', ['Colour', 'any'], ['Shape', 'any']]], ['Zone', '2']], ['Per', ['Action', 'putdown'], ['Colour', 'any'], ['Shape', 'square'], ['PerZone', '3']]]</th>\n",
       "                        <td id=\"T_f5528dd2_492b_11eb_8383_acde48001122row1_col0\" class=\"data row1 col0\" >-13201.829389</td>\n",
       "                        <td id=\"T_f5528dd2_492b_11eb_8383_acde48001122row1_col1\" class=\"data row1 col1\" >2353</td>\n",
       "                        <td id=\"T_f5528dd2_492b_11eb_8383_acde48001122row1_col2\" class=\"data row1 col2\" >2.000000</td>\n",
       "            </tr>\n",
       "            <tr>\n",
       "                        <th id=\"T_f5528dd2_492b_11eb_8383_acde48001122level0_row2\" class=\"row_heading level0 row2\" >['Norms', ['Obl', ['Moved', ['Colour', 'any'], ['Shape', 'any'], ['Zone', '3'], ['Moved', ['Colour', 'any'], ['Shape', 'any'], ['Zone', '1'], ['Next-Move', ['Colour', 'b'], ['Shape', 'any']]]], ['Zone', '2']], ['Per', ['Action', 'putdown'], ['Colour', 'any'], ['Shape', 'square'], ['PerZone', '3']]]</th>\n",
       "                        <td id=\"T_f5528dd2_492b_11eb_8383_acde48001122row2_col0\" class=\"data row2 col0\" >-13491.769002</td>\n",
       "                        <td id=\"T_f5528dd2_492b_11eb_8383_acde48001122row2_col1\" class=\"data row2 col1\" >2229</td>\n",
       "                        <td id=\"T_f5528dd2_492b_11eb_8383_acde48001122row2_col2\" class=\"data row2 col2\" >3.000000</td>\n",
       "            </tr>\n",
       "            <tr>\n",
       "                        <th id=\"T_f5528dd2_492b_11eb_8383_acde48001122level0_row3\" class=\"row_heading level0 row3\" >['Norms', ['Obl', ['Moved', ['Colour', 'any'], ['Shape', 'any'], ['Zone', '3'], ['Moved', ['Colour', 'b'], ['Shape', 'any'], ['Zone', '3'], ['Next-Move', ['Colour', 'any'], ['Shape', 'any']]]], ['Zone', '3']], ['Per', ['Action', 'putdown'], ['Colour', 'any'], ['Shape', 'circle'], ['PerZone', '1']]]</th>\n",
       "                        <td id=\"T_f5528dd2_492b_11eb_8383_acde48001122row3_col0\" class=\"data row3 col0\" >-13618.816501</td>\n",
       "                        <td id=\"T_f5528dd2_492b_11eb_8383_acde48001122row3_col1\" class=\"data row3 col1\" >1803</td>\n",
       "                        <td id=\"T_f5528dd2_492b_11eb_8383_acde48001122row3_col2\" class=\"data row3 col2\" >4.000000</td>\n",
       "            </tr>\n",
       "    </tbody></table>"
      ],
      "text/plain": [
       "<pandas.io.formats.style.Styler at 0x124f955e0>"
      ]
     },
     "execution_count": 236,
     "metadata": {},
     "output_type": "execute_result"
    }
   ],
   "source": [
    "top_norms.loc[0.2].head(4).style.apply(lambda x: ['background: lightgreen' if x['log_posterior'] >=\\\n",
    "                               true_post[\"d\"] else '' for i in x], \n",
    "               axis=1)"
   ]
  },
  {
   "cell_type": "code",
   "execution_count": 237,
   "metadata": {},
   "outputs": [
    {
     "data": {
      "text/html": [
       "<style  type=\"text/css\" >\n",
       "</style><table id=\"T_6deffcca_492c_11eb_8383_acde48001122\" ><thead>    <tr>        <th class=\"blank level0\" ></th>        <th class=\"col_heading level0 col0\" >log_posterior</th>        <th class=\"col_heading level0 col1\" >chain_number</th>        <th class=\"col_heading level0 col2\" >grp_rnk</th>    </tr>    <tr>        <th class=\"index_name level0\" >expression</th>        <th class=\"blank\" ></th>        <th class=\"blank\" ></th>        <th class=\"blank\" ></th>    </tr></thead><tbody>\n",
       "                <tr>\n",
       "                        <th id=\"T_6deffcca_492c_11eb_8383_acde48001122level0_row0\" class=\"row_heading level0 row0\" >['Norms', ['Obl', ['Moved', ['Colour', 'any'], ['Shape', 'any'], ['Zone', '1'], ['Moved', ['Colour', 'any'], ['Shape', 'any'], ['Zone', '3'], ['Moved', ['Colour', 'any'], ['Shape', 'any'], ['Zone', '3'], ['Next-Move', ['Colour', 'any'], ['Shape', 'any']]]]], ['Zone', '2']], ['Per', ['Action', 'putdown'], ['Colour', 'any'], ['Shape', 'triangle'], ['PerZone', '1']]]</th>\n",
       "                        <td id=\"T_6deffcca_492c_11eb_8383_acde48001122row0_col0\" class=\"data row0 col0\" >-13475.004794</td>\n",
       "                        <td id=\"T_6deffcca_492c_11eb_8383_acde48001122row0_col1\" class=\"data row0 col1\" >1758</td>\n",
       "                        <td id=\"T_6deffcca_492c_11eb_8383_acde48001122row0_col2\" class=\"data row0 col2\" >1.000000</td>\n",
       "            </tr>\n",
       "            <tr>\n",
       "                        <th id=\"T_6deffcca_492c_11eb_8383_acde48001122level0_row1\" class=\"row_heading level0 row1\" >['Norm', ['Obl', ['Moved', ['Colour', 'any'], ['Shape', 'any'], ['Zone', '1'], ['Moved', ['Colour', 'any'], ['Shape', 'any'], ['Zone', '2'], ['Next-Move', ['Colour', 'r'], ['Shape', 'any']]]], ['Zone', '3']]]</th>\n",
       "                        <td id=\"T_6deffcca_492c_11eb_8383_acde48001122row1_col0\" class=\"data row1 col0\" >-13499.673654</td>\n",
       "                        <td id=\"T_6deffcca_492c_11eb_8383_acde48001122row1_col1\" class=\"data row1 col1\" >1672</td>\n",
       "                        <td id=\"T_6deffcca_492c_11eb_8383_acde48001122row1_col2\" class=\"data row1 col2\" >2.000000</td>\n",
       "            </tr>\n",
       "            <tr>\n",
       "                        <th id=\"T_6deffcca_492c_11eb_8383_acde48001122level0_row2\" class=\"row_heading level0 row2\" >['Norm', ['Obl', ['Moved', ['Colour', 'any'], ['Shape', 'any'], ['Zone', '1'], ['Moved', ['Colour', 'any'], ['Shape', 'any'], ['Zone', '2'], ['Next-Move', ['Colour', 'any'], ['Shape', 'circle']]]], ['Zone', '3']]]</th>\n",
       "                        <td id=\"T_6deffcca_492c_11eb_8383_acde48001122row2_col0\" class=\"data row2 col0\" >-13499.673654</td>\n",
       "                        <td id=\"T_6deffcca_492c_11eb_8383_acde48001122row2_col1\" class=\"data row2 col1\" >1657</td>\n",
       "                        <td id=\"T_6deffcca_492c_11eb_8383_acde48001122row2_col2\" class=\"data row2 col2\" >3.000000</td>\n",
       "            </tr>\n",
       "            <tr>\n",
       "                        <th id=\"T_6deffcca_492c_11eb_8383_acde48001122level0_row3\" class=\"row_heading level0 row3\" >['Norm', ['Obl', ['Moved', ['Colour', 'any'], ['Shape', 'any'], ['Zone', '2'], ['Moved', ['Colour', 'any'], ['Shape', 'square'], ['Zone', '2'], ['Next-Move', ['Colour', 'any'], ['Shape', 'square']]]], ['Zone', '2']]]</th>\n",
       "                        <td id=\"T_6deffcca_492c_11eb_8383_acde48001122row3_col0\" class=\"data row3 col0\" >-13659.440810</td>\n",
       "                        <td id=\"T_6deffcca_492c_11eb_8383_acde48001122row3_col1\" class=\"data row3 col1\" >990</td>\n",
       "                        <td id=\"T_6deffcca_492c_11eb_8383_acde48001122row3_col2\" class=\"data row3 col2\" >4.000000</td>\n",
       "            </tr>\n",
       "            <tr>\n",
       "                        <th id=\"T_6deffcca_492c_11eb_8383_acde48001122level0_row4\" class=\"row_heading level0 row4\" >['Norms', ['Obl', ['Moved', ['Colour', 'any'], ['Shape', 'any'], ['Zone', '1'], ['Moved', ['Colour', 'any'], ['Shape', 'any'], ['Zone', '3'], ['Moved', ['Colour', 'any'], ['Shape', 'any'], ['Zone', '3'], ['Next-Move', ['Colour', 'any'], ['Shape', 'any']]]]], ['Zone', '2']], ['Per', ['Action', 'putdown'], ['Colour', 'b'], ['Shape', 'triangle'], ['PerZone', '1']]]</th>\n",
       "                        <td id=\"T_6deffcca_492c_11eb_8383_acde48001122row4_col0\" class=\"data row4 col0\" >-13476.103406</td>\n",
       "                        <td id=\"T_6deffcca_492c_11eb_8383_acde48001122row4_col1\" class=\"data row4 col1\" >836</td>\n",
       "                        <td id=\"T_6deffcca_492c_11eb_8383_acde48001122row4_col2\" class=\"data row4 col2\" >5.000000</td>\n",
       "            </tr>\n",
       "            <tr>\n",
       "                        <th id=\"T_6deffcca_492c_11eb_8383_acde48001122level0_row5\" class=\"row_heading level0 row5\" >['Norm', ['Obl', ['Moved', ['Colour', 'any'], ['Shape', 'any'], ['Zone', '2'], ['Moved', ['Colour', 'r'], ['Shape', 'any'], ['Zone', '1'], ['Next-Move', ['Colour', 'any'], ['Shape', 'any']]]], ['Zone', '2']]]</th>\n",
       "                        <td id=\"T_6deffcca_492c_11eb_8383_acde48001122row5_col0\" class=\"data row5 col0\" >-13570.795324</td>\n",
       "                        <td id=\"T_6deffcca_492c_11eb_8383_acde48001122row5_col1\" class=\"data row5 col1\" >660</td>\n",
       "                        <td id=\"T_6deffcca_492c_11eb_8383_acde48001122row5_col2\" class=\"data row5 col2\" >6.000000</td>\n",
       "            </tr>\n",
       "            <tr>\n",
       "                        <th id=\"T_6deffcca_492c_11eb_8383_acde48001122level0_row6\" class=\"row_heading level0 row6\" >['Norm', ['Obl', ['Moved', ['Colour', 'any'], ['Shape', 'any'], ['Zone', '1'], ['Moved', ['Colour', 'any'], ['Shape', 'any'], ['Zone', '2'], ['Next-Move', ['Colour', 'r'], ['Shape', 'circle']]]], ['Zone', '3']]]</th>\n",
       "                        <td id=\"T_6deffcca_492c_11eb_8383_acde48001122row6_col0\" class=\"data row6 col0\" >-13500.772266</td>\n",
       "                        <td id=\"T_6deffcca_492c_11eb_8383_acde48001122row6_col1\" class=\"data row6 col1\" >567</td>\n",
       "                        <td id=\"T_6deffcca_492c_11eb_8383_acde48001122row6_col2\" class=\"data row6 col2\" >7.000000</td>\n",
       "            </tr>\n",
       "            <tr>\n",
       "                        <th id=\"T_6deffcca_492c_11eb_8383_acde48001122level0_row7\" class=\"row_heading level0 row7\" >['Norms', ['Obl', ['Moved', ['Colour', 'b'], ['Shape', 'any'], ['Zone', '2'], ['Next-Move', ['Colour', 'any'], ['Shape', 'square']]], ['Zone', '3']], ['Per', ['Action', 'putdown'], ['Colour', 'b'], ['Shape', 'any'], ['PerZone', 'any']]]</th>\n",
       "                        <td id=\"T_6deffcca_492c_11eb_8383_acde48001122row7_col0\" class=\"data row7 col0\" >-13631.687112</td>\n",
       "                        <td id=\"T_6deffcca_492c_11eb_8383_acde48001122row7_col1\" class=\"data row7 col1\" >529</td>\n",
       "                        <td id=\"T_6deffcca_492c_11eb_8383_acde48001122row7_col2\" class=\"data row7 col2\" >8.000000</td>\n",
       "            </tr>\n",
       "            <tr>\n",
       "                        <th id=\"T_6deffcca_492c_11eb_8383_acde48001122level0_row8\" class=\"row_heading level0 row8\" >['Norm', ['Obl', ['Moved', ['Colour', 'any'], ['Shape', 'square'], ['Zone', '2'], ['Moved', ['Colour', 'r'], ['Shape', 'any'], ['Zone', '1'], ['Next-Move', ['Colour', 'any'], ['Shape', 'any']]]], ['Zone', '2']]]</th>\n",
       "                        <td id=\"T_6deffcca_492c_11eb_8383_acde48001122row8_col0\" class=\"data row8 col0\" >-13571.893937</td>\n",
       "                        <td id=\"T_6deffcca_492c_11eb_8383_acde48001122row8_col1\" class=\"data row8 col1\" >428</td>\n",
       "                        <td id=\"T_6deffcca_492c_11eb_8383_acde48001122row8_col2\" class=\"data row8 col2\" >9.000000</td>\n",
       "            </tr>\n",
       "            <tr>\n",
       "                        <th id=\"T_6deffcca_492c_11eb_8383_acde48001122level0_row9\" class=\"row_heading level0 row9\" >['Norms', ['Obl', ['Moved', ['Colour', 'r'], ['Shape', 'any'], ['Zone', '1'], ['Next-Move', ['Colour', 'any'], ['Shape', 'square']]], ['Zone', '3']], ['Per', ['Action', 'putdown'], ['Colour', 'g'], ['Shape', 'any'], ['PerZone', '2']]]</th>\n",
       "                        <td id=\"T_6deffcca_492c_11eb_8383_acde48001122row9_col0\" class=\"data row9 col0\" >-13557.759576</td>\n",
       "                        <td id=\"T_6deffcca_492c_11eb_8383_acde48001122row9_col1\" class=\"data row9 col1\" >371</td>\n",
       "                        <td id=\"T_6deffcca_492c_11eb_8383_acde48001122row9_col2\" class=\"data row9 col2\" >10.000000</td>\n",
       "            </tr>\n",
       "    </tbody></table>"
      ],
      "text/plain": [
       "<pandas.io.formats.style.Styler at 0x124f95ac0>"
      ]
     },
     "execution_count": 237,
     "metadata": {},
     "output_type": "execute_result"
    }
   ],
   "source": [
    "top_norms.loc[0.3].head(10).style.apply(lambda x: ['background: lightgreen' if x['log_posterior'] >=\\\n",
    "                               true_post[\"e\"] else '' for i in x], \n",
    "               axis=1)"
   ]
  },
  {
   "cell_type": "code",
   "execution_count": null,
   "metadata": {},
   "outputs": [],
   "source": []
  },
  {
   "cell_type": "code",
   "execution_count": null,
   "metadata": {},
   "outputs": [],
   "source": []
  },
  {
   "cell_type": "code",
   "execution_count": null,
   "metadata": {},
   "outputs": [],
   "source": []
  }
 ],
 "metadata": {
  "kernelspec": {
   "display_name": "Python 3",
   "language": "python",
   "name": "python3"
  },
  "language_info": {
   "codemirror_mode": {
    "name": "ipython",
    "version": 3
   },
   "file_extension": ".py",
   "mimetype": "text/x-python",
   "name": "python",
   "nbconvert_exporter": "python",
   "pygments_lexer": "ipython3",
   "version": "3.8.2"
  }
 },
 "nbformat": 4,
 "nbformat_minor": 4
}
