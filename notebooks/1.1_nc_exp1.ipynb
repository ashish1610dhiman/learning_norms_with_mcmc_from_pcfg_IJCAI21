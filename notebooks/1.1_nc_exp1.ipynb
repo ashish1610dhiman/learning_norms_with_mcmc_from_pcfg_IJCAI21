{
 "cells": [
  {
   "cell_type": "markdown",
   "metadata": {},
   "source": [
    "## Non Compliance Experiment=1\n",
    "Test top norms for different w_nc"
   ]
  },
  {
   "cell_type": "code",
   "execution_count": 1,
   "metadata": {},
   "outputs": [],
   "source": [
    "from IPython.utils import io\n",
    "from tqdm.notebook import tqdm\n",
    "from pathlib import Path"
   ]
  },
  {
   "cell_type": "code",
   "execution_count": 2,
   "metadata": {},
   "outputs": [],
   "source": [
    "def write_log(output,path):\n",
    "    with open(Path(path), 'w') as f:\n",
    "        f.write(output)"
   ]
  },
  {
   "cell_type": "code",
   "execution_count": 6,
   "metadata": {},
   "outputs": [
    {
     "name": "stdout",
     "output_type": "stream",
     "text": [
      "CPU times: user 7.88 s, sys: 2.16 s, total: 10 s\n",
      "Wall time: 28min 3s\n"
     ]
    }
   ],
   "source": [
    "%%time\n",
    "with io.capture_output() as exp_nc_0_log:\n",
    "    !python ../scripts/nc_experiments.py -exp exp_nc0 -w_nc 0.0 -n_threads 6\n",
    "write_log(exp_nc_0_log.stdout,\"../data_nc/exp_nc0/exp_nc_0_run.log\")  "
   ]
  },
  {
   "cell_type": "code",
   "execution_count": 7,
   "metadata": {},
   "outputs": [
    {
     "name": "stdout",
     "output_type": "stream",
     "text": [
      "########## * -------- * ########## ||  Time for step 0 0.01s || ########## * -------- * ##########\r",
      "\r\n",
      "########## * -------- * ########## ||  Time for step 1 0.56s || ########## * -------- * ##########\r",
      "\r\n",
      "########## * -------- * ########## ||  Time for step 2 0.68s || ########## * -------- * ##########\r",
      "\r\n",
      "########## * -------- * ########## ||  Time for step 3 1663.74s || ########## * -------- * ##########\r",
      "\r\n",
      "########## * -------- * ########## ||  Time for step 4 1665.90s || ########## * -------- * ##########\r",
      "\r\n",
      "########## * -------- * ########## ||  Time for step 5 1682.14s || ########## * -------- * ##########\r",
      "\r\n",
      "########## * -------- * ########## ||  Time for step 6 1682.37s || ########## * -------- * ##########\r",
      "\r\n"
     ]
    }
   ],
   "source": [
    "!grep \"Time for\" ../data_nc/exp_nc0/exp_nc_0_run.log"
   ]
  },
  {
   "cell_type": "code",
   "execution_count": 97,
   "metadata": {},
   "outputs": [
    {
     "name": "stdout",
     "output_type": "stream",
     "text": [
      "Adding...                                                                       \n",
      "!\u001b[A\n",
      "  0%|          |Computing file/dir hashes (only done 0/11 [00:00<?,      ?md5/s]\u001b[A\n",
      "                                                                                \u001b[A\n",
      "!\u001b[A\n",
      "Saving exp_nc0                                        |0.00 [00:00,     ?file/s]\u001b[A\n",
      "100% Add|██████████████████████████████████████████████|1/1 [00:01,  1.24s/file]\u001b[A\n",
      "\n",
      "To track the changes with git, run:\n",
      "\n",
      "\tgit add ../data_nc/.gitignore ../data_nc/exp_nc0.dvc\n",
      "  0% Uploading|                                     |0/12 [00:00<?,     ?file/s]\n",
      "!\u001b[A\n",
      "  0%|          |../data_nc/exp_nc0/chain_poster0.00/5.03M [00:00<?,       ?it/s]\u001b[A\n",
      "\n",
      "!\u001b[A\u001b[A\n",
      "\n",
      "  0%|          |../data_nc/exp_nc0/exp_nc_0_run0.00/2.01M [00:00<?,       ?it/s]\u001b[A\u001b[A\n",
      "\n",
      "\n",
      "!\u001b[A\u001b[A\u001b[A\n",
      "\n",
      "\n",
      "  0%|          |../data_nc/exp_nc0/precision_re0.00/9.73k [00:00<?,       ?it/s]\u001b[A\u001b[A\u001b[A\n",
      "\n",
      "\n",
      " 84%|████████▍ |../data_nc/exp_nc0/precisi8.00k/9.50k [00:00<00:00,    11.8kB/s]\u001b[A\u001b[A\u001b[A\n",
      "  0%|          |../data_nc/exp_nc0/chain_p8.00k/4.80M [00:00<08:05,    10.3kB/s]\u001b[A\n",
      "\n",
      "  0%|          |../data_nc/exp_nc0/exp_nc_8.00k/1.92M [00:00<03:08,    10.6kB/s]\u001b[A\u001b[A\n",
      "\n",
      " 28%|██▊       |../data_nc/exp_nc0/exp_nc_0552k/1.92M [00:00<01:35,    15.2kB/s]\u001b[A\u001b[A\n",
      "  4%|▍         |../data_nc/exp_nc0/chain_po192k/4.80M [00:00<05:28,    14.7kB/s]\u001b[A\n",
      " 10%|▉         |../data_nc/exp_nc0/chain_po480k/4.80M [00:01<03:36,    21.0kB/s]\u001b[A\n",
      "\n",
      " 36%|███▌      |../data_nc/exp_nc0/exp_nc_0712k/1.92M [00:01<00:59,    21.5kB/s]\u001b[A\u001b[A\n",
      " 15%|█▍        |../data_nc/exp_nc0/chain_po736k/4.80M [00:01<02:23,    29.9kB/s]\u001b[A\n",
      "\n",
      " 64%|██████▍   |../data_nc/exp_nc0/exp_nc_1.23M/1.92M [00:01<00:23,    30.7kB/s]\u001b[A\u001b[A\n",
      "\n",
      " 77%|███████▋  |../data_nc/exp_nc0/exp_nc_1.48M/1.92M [00:01<00:10,    43.6kB/s]\u001b[A\u001b[A\n",
      " 18%|█▊        |../data_nc/exp_nc0/chain_po896k/4.80M [00:01<01:38,    41.8kB/s]\u001b[A\n",
      " 21%|██        |../data_nc/exp_nc0/chain_p1.00M/4.80M [00:01<01:08,    57.9kB/s]\u001b[A\n",
      " 28%|██▊       |../data_nc/exp_nc0/chain_p1.34M/4.80M [00:01<00:44,    82.1kB/s]\u001b[A\n",
      " 36%|███▋      |../data_nc/exp_nc0/chain_p1.75M/4.80M [00:01<00:27,     116kB/s]\u001b[A\n",
      "\n",
      "\n",
      "\n",
      "!\u001b[A\u001b[A\u001b[A\u001b[A\n",
      "\n",
      "\n",
      "\n",
      "  0%|          |../data_nc/exp_nc0/posterior_nc.0.00/521k [00:00<?,       ?it/s]\u001b[A\u001b[A\u001b[A\u001b[A\n",
      " 43%|████▎     |../data_nc/exp_nc0/chain_p2.07M/4.80M [00:01<00:17,     163kB/s]\u001b[A\n",
      " 51%|█████     |../data_nc/exp_nc0/chain_p2.43M/4.80M [00:02<00:10,     229kB/s]\u001b[A\n",
      " 59%|█████▉    |../data_nc/exp_nc0/chain_p2.83M/4.80M [00:02<00:06,     319kB/s]\u001b[A\n",
      " 68%|██████▊   |../data_nc/exp_nc0/chain_p3.28M/4.80M [00:02<00:03,     443kB/s]\u001b[A\n",
      " 77%|███████▋  |../data_nc/exp_nc0/chain_p3.71M/4.80M [00:02<00:01,     607kB/s]\u001b[A\n",
      " 86%|████████▋ |../data_nc/exp_nc0/chain_p4.14M/4.80M [00:02<00:00,     812kB/s]\u001b[A\n",
      "\n",
      "\n",
      "\n",
      "  2%|▏         |../data_nc/exp_nc0/posterio8.00k/509k [00:00<00:37,    13.5kB/s]\u001b[A\u001b[A\u001b[A\u001b[A\n",
      " 94%|█████████▍|../data_nc/exp_nc0/chain_p4.52M/4.80M [00:02<00:00,    1.05MB/s]\u001b[A\n",
      "\n",
      "\n",
      "\n",
      " 94%|█████████▍|../data_nc/exp_nc0/posterior480k/509k [00:00<00:01,    19.3kB/s]\u001b[A\u001b[A\u001b[A\u001b[A\n",
      "\n",
      "\n",
      "  8% Uploading|██▊                              |1/12 [00:02<00:29,  2.69s/file]\u001b[A\u001b[A\u001b[A\n",
      "\n",
      "\n",
      "!\u001b[A\u001b[A\u001b[A\n",
      "\n",
      "\n",
      "  0%|          |../data_nc/exp_nc0/nc_hist.jpg 0.00/46.8k [00:00<?,       ?it/s]\u001b[A\u001b[A\u001b[A\n",
      "\n",
      " 17% Uploading|█████▌                           |2/12 [00:03<00:20,  2.07s/file]\u001b[A\u001b[A\n",
      "\n",
      "\n",
      " 18%|█▊        |../data_nc/exp_nc0/nc_hist8.00k/45.7k [00:00<00:03,    12.4kB/s]\u001b[A\u001b[A\u001b[A\n",
      "\n",
      "!\u001b[A\u001b[A\n",
      "\n",
      "  0%|          |../data_nc/exp_nc0/chains_and_l0.00/1.59M [00:00<?,       ?it/s]\u001b[A\u001b[A\n",
      "\n",
      "\n",
      "\n",
      " 25% Uploading|████████▎                        |3/12 [00:04<00:15,  1.74s/file]\u001b[A\u001b[A\u001b[A\u001b[A\n",
      " 33% Uploading|███████████                      |4/12 [00:04<00:10,  1.25s/file]\u001b[A\n",
      "\n",
      "  1%|          |../data_nc/exp_nc0/chains_8.00k/1.51M [00:00<02:06,    12.4kB/s]\u001b[A\u001b[A\n",
      "\n",
      " 23%|██▎       |../data_nc/exp_nc0/chains_a352k/1.51M [00:00<01:09,    17.7kB/s]\u001b[A\u001b[A\n",
      "\n",
      " 62%|██████▏   |../data_nc/exp_nc0/chains_a960k/1.51M [00:00<00:23,    25.3kB/s]\u001b[A\u001b[A\n",
      "!\u001b[A\n",
      "  0%|          |../data_nc/exp_nc0/starts_info_0.00/1.16k [00:00<?,       ?it/s]\u001b[A\n",
      "\n",
      "\n",
      " 42% Uploading|█████████████▊                   |5/12 [00:05<00:09,  1.32s/file]\u001b[A\u001b[A\u001b[A\n",
      "100%|██████████|../data_nc/exp_nc0/starts_1.14k/1.14k [00:00<00:00,    1.64kB/s]\u001b[A\n",
      "\n",
      "\n",
      "!\u001b[A\u001b[A\u001b[A\n",
      "\n",
      "\n",
      "  0%|          |../data_nc/exp_nc0/env_task_set0.00/79.6k [00:00<?,       ?it/s]\u001b[A\u001b[A\u001b[A\n",
      "\n",
      " 50% Uploading|████████████████▌                |6/12 [00:06<00:07,  1.19s/file]\u001b[A\u001b[A\n",
      "\n",
      "\n",
      " 10%|█         |../data_nc/exp_nc0/env_tas8.00k/77.7k [00:00<00:06,    11.5kB/s]\u001b[A\u001b[A\u001b[A\n",
      " 58% Uploading|███████████████████▎             |7/12 [00:07<00:05,  1.02s/file]\u001b[A\n",
      "!\u001b[A\n",
      "  0%|          |../data_nc/exp_nc0/chain_info.t0.00/66.4k [00:00<?,       ?it/s]\u001b[A\n",
      " 12%|█▏        |../data_nc/exp_nc0/chain_i8.00k/64.8k [00:00<00:05,    11.4kB/s]\u001b[A\n",
      "\n",
      "!\u001b[A\u001b[A\n",
      "\n",
      "  0%|          |../data_nc/exp_nc0/cnc_movement.0.00/232k [00:00<?,       ?it/s]\u001b[A\u001b[A\n",
      "\n",
      "  4%|▎         |../data_nc/exp_nc0/cnc_move8.00k/227k [00:00<00:16,    13.6kB/s]\u001b[A\u001b[A\n",
      "\n",
      "\n",
      " 67% Uploading|██████████████████████           |8/12 [00:09<00:05,  1.35s/file]\u001b[A\u001b[A\u001b[A\n",
      "\n",
      "\n",
      "!\u001b[A\u001b[A\u001b[A\n",
      "\n",
      "\n",
      "  0%|          |../data_nc/exp_nc0/conv_test_nc.txt 0/496 [00:00<?,       ?it/s]\u001b[A\u001b[A\u001b[A\n",
      " 75% Uploading|████████████████████████▊        |9/12 [00:09<00:03,  1.09s/file]\u001b[A\n",
      "\n",
      "\n",
      "100%|██████████|../data_nc/exp_nc0/conv_test_n496/496 [00:00<00:00,      695B/s]\u001b[A\u001b[A\u001b[A\n",
      "\n",
      " 83% Uploading|██████████████████████████▋     |10/12 [00:11<00:02,  1.28s/file]\u001b[A\u001b[A\n",
      "\n",
      "\n",
      " 92% Uploading|█████████████████████████████▎  |11/12 [00:12<00:01,  1.02s/file]\u001b[A\u001b[A\u001b[A\n",
      "!\u001b[A\n",
      "  0%|          |../data_nc/exp_nc0                  0/866 [00:00<?,       ?it/s]\u001b[A\n",
      "100%|██████████|../data_nc/exp_nc0            866/866 [00:00<00:00,    1.05kB/s]\u001b[A\n",
      "12 files pushed                                                                 \u001b[A\n",
      "\u001b[0m"
     ]
    }
   ],
   "source": [
    "!dvc add ../data_nc/exp_nc0/\n",
    "!git add --all\n",
    "!git commit -m \"Results gen for dummy_exp_nc_0\""
   ]
  },
  {
   "cell_type": "code",
   "execution_count": 98,
   "metadata": {},
   "outputs": [
    {
     "name": "stdout",
     "output_type": "stream",
     "text": [
      "[non_compliance 0660bd2] Results gen for dummy_exp_nc_0\r\n",
      " 3 files changed, 43 insertions(+), 33 deletions(-)\r\n",
      " create mode 100644 data_nc/.gitignore\r\n",
      " create mode 100644 data_nc/exp_nc0.dvc\r\n"
     ]
    }
   ],
   "source": [
    "!git add --all\n",
    "!git commit -m \"Results gen for dummy_exp_nc_0\""
   ]
  },
  {
   "cell_type": "code",
   "execution_count": 100,
   "metadata": {},
   "outputs": [],
   "source": [
    "w_nc_list=[0.0,0.05,0.1,0.2,0.3,0.4,0.5]"
   ]
  },
  {
   "cell_type": "code",
   "execution_count": 101,
   "metadata": {},
   "outputs": [
    {
     "data": {
      "application/vnd.jupyter.widget-view+json": {
       "model_id": "57814d7fb7394ccd9819dc8a04f312cb",
       "version_major": 2,
       "version_minor": 0
      },
      "text/plain": [
       "HBox(children=(HTML(value='Loop Over diff w_nc'), FloatProgress(value=0.0, max=7.0), HTML(value='')))"
      ]
     },
     "metadata": {},
     "output_type": "display_data"
    },
    {
     "name": "stdout",
     "output_type": "stream",
     "text": [
      "\n"
     ]
    }
   ],
   "source": [
    "for w_nc in tqdm(w_nc_list,\"Loop Over diff w_nc\"):\n",
    "    exp_dir_name=\"exp_nc_1.w_nc={}\".format(w_nc)\n",
    "    with io.capture_output() as exp_log:\n",
    "        !python ../scripts/nc_experiments.py -exp $exp_dir_name -w_nc $w_nc  -n_threads 6\n",
    "    write_log(exp_log.stdout,\"../data_nc/{}/run.log\".format(exp_dir_name)) "
   ]
  },
  {
   "cell_type": "code",
   "execution_count": 102,
   "metadata": {},
   "outputs": [
    {
     "data": {
      "text/plain": [
       "0.5"
      ]
     },
     "execution_count": 102,
     "metadata": {},
     "output_type": "execute_result"
    }
   ],
   "source": [
    "w_nc"
   ]
  },
  {
   "cell_type": "code",
   "execution_count": null,
   "metadata": {},
   "outputs": [],
   "source": []
  }
 ],
 "metadata": {
  "kernelspec": {
   "display_name": "Python 3",
   "language": "python",
   "name": "python3"
  },
  "language_info": {
   "codemirror_mode": {
    "name": "ipython",
    "version": 3
   },
   "file_extension": ".py",
   "mimetype": "text/x-python",
   "name": "python",
   "nbconvert_exporter": "python",
   "pygments_lexer": "ipython3",
   "version": "3.8.2"
  }
 },
 "nbformat": 4,
 "nbformat_minor": 4
}
