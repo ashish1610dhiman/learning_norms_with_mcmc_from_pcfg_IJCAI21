{
 "cells": [
  {
   "cell_type": "markdown",
   "metadata": {},
   "source": [
    "## Non Compliance Experiment=1\n",
    "Test top norms for different w_nc"
   ]
  },
  {
   "cell_type": "code",
   "execution_count": 91,
   "metadata": {},
   "outputs": [],
   "source": [
    "from IPython.utils import io\n",
    "from tqdm.notebook import tqdm\n",
    "from pathlib import Path"
   ]
  },
  {
   "cell_type": "code",
   "execution_count": 89,
   "metadata": {},
   "outputs": [],
   "source": [
    "def write_log(output,path):\n",
    "    with open(Path(path), 'w') as f:\n",
    "        f.write(output)"
   ]
  },
  {
   "cell_type": "code",
   "execution_count": 95,
   "metadata": {},
   "outputs": [
    {
     "name": "stdout",
     "output_type": "stream",
     "text": [
      "CPU times: user 8.72 s, sys: 1.97 s, total: 10.7 s\n",
      "Wall time: 38min 53s\n"
     ]
    }
   ],
   "source": [
    "%%time\n",
    "with io.capture_output() as exp_nc_0_log:\n",
    "    !python ../scripts/nc_experiments.py -exp exp_nc0 -w_nc 0.7 -n_threads 3\n",
    "write_log(exp_nc_0_log.stdout,\"../data_nc/exp_nc0/exp_nc_0_run.log\")  "
   ]
  },
  {
   "cell_type": "code",
   "execution_count": null,
   "metadata": {},
   "outputs": [],
   "source": []
  },
  {
   "cell_type": "code",
   "execution_count": null,
   "metadata": {},
   "outputs": [],
   "source": [
    "!dvc add ../data_nc/exp_nc0/\n",
    "!dvc push"
   ]
  },
  {
   "cell_type": "code",
   "execution_count": 34,
   "metadata": {},
   "outputs": [],
   "source": [
    "!git add --all\n",
    "!git commit -m \"Results gen for exp_nc_0\""
   ]
  },
  {
   "cell_type": "code",
   "execution_count": 17,
   "metadata": {},
   "outputs": [],
   "source": [
    "w_nc_list=[0.0,0.05,0.1,0.2,0.3,0.4]"
   ]
  },
  {
   "cell_type": "code",
   "execution_count": null,
   "metadata": {},
   "outputs": [],
   "source": [
    "for w_nc in tqdm(w_nc_list,\"Loop Over diff w_nc\"):\n",
    "    exp_dir_name=\"exp_nc_1.w_nc={}\".format(w_nc)\n",
    "    with io.capture_output() as exp_nc_0_log:\n",
    "        !python ../scripts/nc_experiments.py -exp $exp_dir_name -w_nc 0.7 -n_threads 6\n",
    "    write_log(exp_nc_0_log.stdout,\"../data_nc/exp_nc0/exp_nc_0_run.log\")  "
   ]
  },
  {
   "cell_type": "code",
   "execution_count": null,
   "metadata": {},
   "outputs": [],
   "source": []
  }
 ],
 "metadata": {
  "kernelspec": {
   "display_name": "Python 3",
   "language": "python",
   "name": "python3"
  },
  "language_info": {
   "codemirror_mode": {
    "name": "ipython",
    "version": 3
   },
   "file_extension": ".py",
   "mimetype": "text/x-python",
   "name": "python",
   "nbconvert_exporter": "python",
   "pygments_lexer": "ipython3",
   "version": "3.8.2"
  }
 },
 "nbformat": 4,
 "nbformat_minor": 4
}
