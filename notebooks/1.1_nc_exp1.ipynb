{
 "cells": [
  {
   "cell_type": "markdown",
   "metadata": {},
   "source": [
    "## Non Compliance Experiment=1\n",
    "Test top norms for different w_nc"
   ]
  },
  {
   "cell_type": "code",
   "execution_count": null,
   "metadata": {},
   "outputs": [],
   "source": [
    "%%time\n",
    "%%capture exp_nc_0_log\n",
    "!dvc run -n non_compliance_exp \\\n",
    "-d ../scripts/nc_experiments.py -d ../params_nc.yaml -d ../data/env.pickle\\\n",
    "-o ../data_nc/$exp_dir_name/  \\\n",
    "python ../scripts/nc_experiments.py\n",
    "!dvc add ../data_nc/$exp_dir_name/\n",
    "!dvc push\n",
    "!git add --all\n",
    "!git commit -m \"Results gen for exp_nc_0\""
   ]
  },
  {
   "cell_type": "code",
   "execution_count": 33,
   "metadata": {},
   "outputs": [
    {
     "name": "stdout",
     "output_type": "stream",
     "text": [
      "\r",
      "!\r",
      "If DVC froze, see `hardlink_lock` in <\u001b[36mhttps://man.dvc.org/config#core\u001b[39m>\r",
      "                                                                      \r",
      "\u001b[31mERROR\u001b[39m: '../data_nc' is busy, it is being blocked by:\r\n",
      "  (PID 2765): /Users/ashish1610dhiman/data_projects/otago_norm_learning/mcmc/venv/bin/dvc run -n non_compliance_exp -d ../scripts/nc_experiments.py -d ../params_nc.yaml -d ../data/env.pickle -o ../data_nc// python ../scripts/nc_experiments.py\r\n",
      "\r\n",
      "If there are no processes with such PIDs, you can manually remove'.dvc/tmp/rwlock' and try again.\r\n",
      "\u001b[0m"
     ]
    }
   ],
   "source": [
    "%exp_nc_0_log.show()"
   ]
  },
  {
   "cell_type": "code",
   "execution_count": null,
   "metadata": {},
   "outputs": [],
   "source": [
    "%store exp_nc_0_log > ../data_nc/exp0/exp_nc_0.log"
   ]
  },
  {
   "cell_type": "code",
   "execution_count": 16,
   "metadata": {},
   "outputs": [],
   "source": [
    "from tqdm.notebook import tqdm"
   ]
  },
  {
   "cell_type": "code",
   "execution_count": 17,
   "metadata": {},
   "outputs": [],
   "source": [
    "w_nc_list=[0.0,0.05,0.1,0.2,0.3,0.4]"
   ]
  },
  {
   "cell_type": "code",
   "execution_count": null,
   "metadata": {},
   "outputs": [],
   "source": [
    "for w_nc in tqdm(w_nc_list,\"Loop Over diff w_nc\"):\n",
    "    exp_dir_name=\"exp_nc_1.w_nc={}\".format(w_nc)\n",
    "    !dvc run -n non_compliance_exp \\\n",
    "        -d ../scripts/nc_experiments.py -d ../params_nc.yaml -d ../data/env.pickle\\\n",
    "        -o ../data_nc/$exp_dir_name  \\\n",
    "        python ../scripts/nc\n",
    "    !dvc add\n",
    "    !dvc push\n",
    "    !git add --all\n",
    "    !git commit -m result gen for {exp_dir_name}"
   ]
  },
  {
   "cell_type": "code",
   "execution_count": null,
   "metadata": {},
   "outputs": [],
   "source": []
  }
 ],
 "metadata": {
  "kernelspec": {
   "display_name": "Python 3",
   "language": "python",
   "name": "python3"
  },
  "language_info": {
   "codemirror_mode": {
    "name": "ipython",
    "version": 3
   },
   "file_extension": ".py",
   "mimetype": "text/x-python",
   "name": "python",
   "nbconvert_exporter": "python",
   "pygments_lexer": "ipython3",
   "version": "3.8.2"
  }
 },
 "nbformat": 4,
 "nbformat_minor": 4
}
