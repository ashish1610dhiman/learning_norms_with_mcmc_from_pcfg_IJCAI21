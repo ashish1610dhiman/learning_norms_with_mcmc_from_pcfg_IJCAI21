{
 "cells": [
  {
   "cell_type": "markdown",
   "metadata": {},
   "source": [
    "## Non Compliance Experiment=2\n",
    "Test top norms for different w_nc, and relation between violations with diff params   \n",
    "Dask page: http://localhost:8787/info/main/workers.html"
   ]
  },
  {
   "cell_type": "code",
   "execution_count": 1,
   "metadata": {},
   "outputs": [],
   "source": [
    "import sys\n",
    "sys.path.append('../src')"
   ]
  },
  {
   "cell_type": "code",
   "execution_count": 2,
   "metadata": {},
   "outputs": [],
   "source": [
    "import yaml\n",
    "from IPython.utils import io\n",
    "from tqdm.notebook import tqdm\n",
    "from pathlib import Path\n",
    "import pandas as pd\n",
    "import numpy as np\n",
    "from mcmc_norm_learning.algorithm_1_v4 import to_tuple\n",
    "from pickle_wrapper import unpickle"
   ]
  },
  {
   "cell_type": "code",
   "execution_count": 3,
   "metadata": {},
   "outputs": [],
   "source": [
    "def write_log(output,path):\n",
    "    with open(Path(path), 'w') as f:\n",
    "        f.write(output)"
   ]
  },
  {
   "cell_type": "markdown",
   "metadata": {},
   "source": [
    "## Loop over w_nc values\n",
    "### Trial=1"
   ]
  },
  {
   "cell_type": "code",
   "execution_count": 4,
   "metadata": {},
   "outputs": [],
   "source": [
    "exp_pattern=\"exp_nc4/w_nc={},trial={}\""
   ]
  },
  {
   "cell_type": "code",
   "execution_count": 5,
   "metadata": {},
   "outputs": [],
   "source": [
    "!rm -r ../data_nc/exp_nc4/*"
   ]
  },
  {
   "cell_type": "code",
   "execution_count": 6,
   "metadata": {},
   "outputs": [
    {
     "data": {
      "text/plain": [
       "[0.0, 0.05, 0.1, 0.15, 0.2, 0.25, 0.3, 0.35, 0.4, 0.45, 0.5, 0.55]"
      ]
     },
     "execution_count": 6,
     "metadata": {},
     "output_type": "execute_result"
    }
   ],
   "source": [
    "w_nc_list=[round(0.05*i,2) for i in range(12)]\n",
    "w_nc_list"
   ]
  },
  {
   "cell_type": "code",
   "execution_count": 7,
   "metadata": {},
   "outputs": [],
   "source": [
    "w_nc_parts={\n",
    "    f\"part_{part}\": w_nc_list[i*2:(i+1)*2]\\\n",
    "    for part,i in zip([\"a\",\"b\",\"c\",\"d\",\"e\",\"f\"],range(int(len(w_nc_list)/2)+1))\\\n",
    "}"
   ]
  },
  {
   "cell_type": "code",
   "execution_count": 8,
   "metadata": {},
   "outputs": [
    {
     "data": {
      "text/plain": [
       "{'part_a': [0.0, 0.05],\n",
       " 'part_b': [0.1, 0.15],\n",
       " 'part_c': [0.2, 0.25],\n",
       " 'part_d': [0.3, 0.35],\n",
       " 'part_e': [0.4, 0.45],\n",
       " 'part_f': [0.5, 0.55]}"
      ]
     },
     "execution_count": 8,
     "metadata": {},
     "output_type": "execute_result"
    }
   ],
   "source": [
    "w_nc_parts"
   ]
  },
  {
   "cell_type": "code",
   "execution_count": 10,
   "metadata": {},
   "outputs": [
    {
     "data": {
      "application/vnd.jupyter.widget-view+json": {
       "model_id": "3f636c1e1a574ddba2977e54e138db25",
       "version_major": 2,
       "version_minor": 0
      },
      "text/plain": [
       "HBox(children=(HTML(value='Loop Over diff w_nc: Part part_a'), FloatProgress(value=0.0, max=2.0), HTML(value='…"
      ]
     },
     "metadata": {},
     "output_type": "display_data"
    },
    {
     "name": "stdout",
     "output_type": "stream",
     "text": [
      "\n"
     ]
    },
    {
     "data": {
      "application/vnd.jupyter.widget-view+json": {
       "model_id": "ce390a7e1d9a481291377878c0ad322c",
       "version_major": 2,
       "version_minor": 0
      },
      "text/plain": [
       "HBox(children=(HTML(value='Loop Over diff w_nc: Part part_b'), FloatProgress(value=0.0, max=2.0), HTML(value='…"
      ]
     },
     "metadata": {},
     "output_type": "display_data"
    },
    {
     "name": "stdout",
     "output_type": "stream",
     "text": [
      "\n"
     ]
    },
    {
     "data": {
      "application/vnd.jupyter.widget-view+json": {
       "model_id": "db2e6d101cc04ad19eab0afc6b1edb62",
       "version_major": 2,
       "version_minor": 0
      },
      "text/plain": [
       "HBox(children=(HTML(value='Loop Over diff w_nc: Part part_c'), FloatProgress(value=0.0, max=2.0), HTML(value='…"
      ]
     },
     "metadata": {},
     "output_type": "display_data"
    },
    {
     "name": "stdout",
     "output_type": "stream",
     "text": [
      "\n"
     ]
    },
    {
     "data": {
      "application/vnd.jupyter.widget-view+json": {
       "model_id": "7cc16cc090444dbf8583b87db9e057d7",
       "version_major": 2,
       "version_minor": 0
      },
      "text/plain": [
       "HBox(children=(HTML(value='Loop Over diff w_nc: Part part_d'), FloatProgress(value=0.0, max=2.0), HTML(value='…"
      ]
     },
     "metadata": {},
     "output_type": "display_data"
    },
    {
     "name": "stdout",
     "output_type": "stream",
     "text": [
      "\n"
     ]
    },
    {
     "data": {
      "application/vnd.jupyter.widget-view+json": {
       "model_id": "03df88f37d754d01bd0a24fef330f27b",
       "version_major": 2,
       "version_minor": 0
      },
      "text/plain": [
       "HBox(children=(HTML(value='Loop Over diff w_nc: Part part_e'), FloatProgress(value=0.0, max=2.0), HTML(value='…"
      ]
     },
     "metadata": {},
     "output_type": "display_data"
    },
    {
     "name": "stdout",
     "output_type": "stream",
     "text": [
      "\n"
     ]
    },
    {
     "data": {
      "application/vnd.jupyter.widget-view+json": {
       "model_id": "e3082e257de94611a6ac587bd178c306",
       "version_major": 2,
       "version_minor": 0
      },
      "text/plain": [
       "HBox(children=(HTML(value='Loop Over diff w_nc: Part part_f'), FloatProgress(value=0.0, max=2.0), HTML(value='…"
      ]
     },
     "metadata": {},
     "output_type": "display_data"
    },
    {
     "name": "stdout",
     "output_type": "stream",
     "text": [
      "\n"
     ]
    },
    {
     "data": {
      "application/vnd.jupyter.widget-view+json": {
       "model_id": "df95f2ffe742464f9f36df3820b26324",
       "version_major": 2,
       "version_minor": 0
      },
      "text/plain": [
       "HBox(children=(HTML(value='Loop Over diff w_nc: Part part_a'), FloatProgress(value=0.0, max=2.0), HTML(value='…"
      ]
     },
     "metadata": {},
     "output_type": "display_data"
    },
    {
     "name": "stdout",
     "output_type": "stream",
     "text": [
      "\n"
     ]
    },
    {
     "data": {
      "application/vnd.jupyter.widget-view+json": {
       "model_id": "1dab6defe39f4a129ffe04ae74285d05",
       "version_major": 2,
       "version_minor": 0
      },
      "text/plain": [
       "HBox(children=(HTML(value='Loop Over diff w_nc: Part part_b'), FloatProgress(value=0.0, max=2.0), HTML(value='…"
      ]
     },
     "metadata": {},
     "output_type": "display_data"
    },
    {
     "name": "stdout",
     "output_type": "stream",
     "text": [
      "\n"
     ]
    },
    {
     "data": {
      "application/vnd.jupyter.widget-view+json": {
       "model_id": "a2e0d6fed2b0422698fda3dcb06d3e50",
       "version_major": 2,
       "version_minor": 0
      },
      "text/plain": [
       "HBox(children=(HTML(value='Loop Over diff w_nc: Part part_c'), FloatProgress(value=0.0, max=2.0), HTML(value='…"
      ]
     },
     "metadata": {},
     "output_type": "display_data"
    },
    {
     "name": "stdout",
     "output_type": "stream",
     "text": [
      "\n"
     ]
    },
    {
     "data": {
      "application/vnd.jupyter.widget-view+json": {
       "model_id": "eb976238be0e442f99d8dea3e5ae5816",
       "version_major": 2,
       "version_minor": 0
      },
      "text/plain": [
       "HBox(children=(HTML(value='Loop Over diff w_nc: Part part_d'), FloatProgress(value=0.0, max=2.0), HTML(value='…"
      ]
     },
     "metadata": {},
     "output_type": "display_data"
    },
    {
     "name": "stdout",
     "output_type": "stream",
     "text": [
      "\n"
     ]
    },
    {
     "data": {
      "application/vnd.jupyter.widget-view+json": {
       "model_id": "ce743733fce24594a4df7be372b2098b",
       "version_major": 2,
       "version_minor": 0
      },
      "text/plain": [
       "HBox(children=(HTML(value='Loop Over diff w_nc: Part part_e'), FloatProgress(value=0.0, max=2.0), HTML(value='…"
      ]
     },
     "metadata": {},
     "output_type": "display_data"
    },
    {
     "name": "stdout",
     "output_type": "stream",
     "text": [
      "\n"
     ]
    },
    {
     "data": {
      "application/vnd.jupyter.widget-view+json": {
       "model_id": "7f5390ed5b154a3b988a23e45d06ff99",
       "version_major": 2,
       "version_minor": 0
      },
      "text/plain": [
       "HBox(children=(HTML(value='Loop Over diff w_nc: Part part_f'), FloatProgress(value=0.0, max=2.0), HTML(value='…"
      ]
     },
     "metadata": {},
     "output_type": "display_data"
    },
    {
     "name": "stdout",
     "output_type": "stream",
     "text": [
      "\n"
     ]
    },
    {
     "data": {
      "application/vnd.jupyter.widget-view+json": {
       "model_id": "805a36b17fef4c8aa3f4b3a642a6aaa5",
       "version_major": 2,
       "version_minor": 0
      },
      "text/plain": [
       "HBox(children=(HTML(value='Loop Over diff w_nc: Part part_a'), FloatProgress(value=0.0, max=2.0), HTML(value='…"
      ]
     },
     "metadata": {},
     "output_type": "display_data"
    },
    {
     "name": "stdout",
     "output_type": "stream",
     "text": [
      "\n"
     ]
    },
    {
     "data": {
      "application/vnd.jupyter.widget-view+json": {
       "model_id": "a1b90fb4e5274873aab95a0d41dd5245",
       "version_major": 2,
       "version_minor": 0
      },
      "text/plain": [
       "HBox(children=(HTML(value='Loop Over diff w_nc: Part part_b'), FloatProgress(value=0.0, max=2.0), HTML(value='…"
      ]
     },
     "metadata": {},
     "output_type": "display_data"
    },
    {
     "name": "stdout",
     "output_type": "stream",
     "text": [
      "\n"
     ]
    },
    {
     "data": {
      "application/vnd.jupyter.widget-view+json": {
       "model_id": "65803866121c4c33ad5e94d15f9f78d4",
       "version_major": 2,
       "version_minor": 0
      },
      "text/plain": [
       "HBox(children=(HTML(value='Loop Over diff w_nc: Part part_c'), FloatProgress(value=0.0, max=2.0), HTML(value='…"
      ]
     },
     "metadata": {},
     "output_type": "display_data"
    },
    {
     "name": "stdout",
     "output_type": "stream",
     "text": [
      "\n"
     ]
    },
    {
     "data": {
      "application/vnd.jupyter.widget-view+json": {
       "model_id": "f8c488283fc249b8ae0716d6a43ab35c",
       "version_major": 2,
       "version_minor": 0
      },
      "text/plain": [
       "HBox(children=(HTML(value='Loop Over diff w_nc: Part part_d'), FloatProgress(value=0.0, max=2.0), HTML(value='…"
      ]
     },
     "metadata": {},
     "output_type": "display_data"
    },
    {
     "name": "stdout",
     "output_type": "stream",
     "text": [
      "\n"
     ]
    },
    {
     "data": {
      "application/vnd.jupyter.widget-view+json": {
       "model_id": "10af60bb4b0e42e4a1bba5e1fee4fe3d",
       "version_major": 2,
       "version_minor": 0
      },
      "text/plain": [
       "HBox(children=(HTML(value='Loop Over diff w_nc: Part part_e'), FloatProgress(value=0.0, max=2.0), HTML(value='…"
      ]
     },
     "metadata": {},
     "output_type": "display_data"
    },
    {
     "name": "stdout",
     "output_type": "stream",
     "text": [
      "\n"
     ]
    },
    {
     "data": {
      "application/vnd.jupyter.widget-view+json": {
       "model_id": "fecf6b1174f64acabc34231781a513cc",
       "version_major": 2,
       "version_minor": 0
      },
      "text/plain": [
       "HBox(children=(HTML(value='Loop Over diff w_nc: Part part_f'), FloatProgress(value=0.0, max=2.0), HTML(value='…"
      ]
     },
     "metadata": {},
     "output_type": "display_data"
    },
    {
     "name": "stdout",
     "output_type": "stream",
     "text": [
      "\n"
     ]
    }
   ],
   "source": [
    "import time\n",
    "for trial in [1,2,3]:\n",
    "    for part,w_nc_sub in w_nc_parts.items():\n",
    "        for w_nc in tqdm(w_nc_sub,f\"Loop Over diff w_nc: Part {part}\"):\n",
    "            exp_dir_name=exp_pattern.format(w_nc,trial)\n",
    "            with io.capture_output() as exp_log:\n",
    "                !python ../scripts/nc_experiments.py -exp $exp_dir_name -w_nc $w_nc  -n_threads 7\n",
    "            write_log(exp_log.stdout,\"../data_nc/{}/run.log\".format(exp_dir_name))\n",
    "            time.sleep(10)"
   ]
  },
  {
   "cell_type": "markdown",
   "metadata": {},
   "source": [
    "## Check if lik values are as expected\n",
    "### 1. True Norm log_posterior for diff w_nc"
   ]
  },
  {
   "cell_type": "code",
   "execution_count": 11,
   "metadata": {},
   "outputs": [
    {
     "data": {
      "text/plain": [
       "'exp_nc4/w_nc={},trial={}'"
      ]
     },
     "execution_count": 11,
     "metadata": {},
     "output_type": "execute_result"
    }
   ],
   "source": [
    "exp_pattern"
   ]
  },
  {
   "cell_type": "code",
   "execution_count": 12,
   "metadata": {},
   "outputs": [
    {
     "data": {
      "text/plain": [
       "-274.6530721670274"
      ]
     },
     "execution_count": 12,
     "metadata": {},
     "output_type": "execute_result"
    }
   ],
   "source": [
    "from numpy import log\n",
    "50*log(1/243)"
   ]
  },
  {
   "cell_type": "code",
   "execution_count": 13,
   "metadata": {},
   "outputs": [
    {
     "name": "stdout",
     "output_type": "stream",
     "text": [
      "For w_nc=0.0:\n",
      "['For True Norm, prior=8.930612711476907e-07, log_prior=-13.928610645716274']\n",
      "['lik_no_norm=-274.6530721670272,lik_true_norm=-254.57681786517114']\n",
      "\n",
      "For w_nc=0.05:\n",
      "['For True Norm, prior=8.930612711476907e-07, log_prior=-13.928610645716274']\n",
      "['lik_no_norm=-274.6530721670272,lik_true_norm=-256.82398945582503']\n",
      "\n",
      "For w_nc=0.1:\n",
      "['For True Norm, prior=8.930612711476907e-07, log_prior=-13.928610645716274']\n",
      "['lik_no_norm=-274.6530721670272,lik_true_norm=-257.8808016900953']\n",
      "\n",
      "For w_nc=0.15:\n",
      "['For True Norm, prior=8.930612711476907e-07, log_prior=-13.928610645716274']\n",
      "['lik_no_norm=-274.6530721670272,lik_true_norm=-270.2977831420349']\n",
      "\n",
      "For w_nc=0.2:\n",
      "['For True Norm, prior=8.930612711476907e-07, log_prior=-13.928610645716274']\n",
      "['lik_no_norm=-274.6530721670272,lik_true_norm=-266.78089596722697']\n",
      "\n",
      "For w_nc=0.25:\n",
      "['For True Norm, prior=8.930612711476907e-07, log_prior=-13.928610645716274']\n",
      "['lik_no_norm=-274.6530721670272,lik_true_norm=-269.5946235352998']\n",
      "\n",
      "For w_nc=0.3:\n",
      "['For True Norm, prior=8.930612711476907e-07, log_prior=-13.928610645716274']\n",
      "['lik_no_norm=-274.6530721670272,lik_true_norm=-270.1460207349376']\n",
      "\n",
      "For w_nc=0.35:\n",
      "['For True Norm, prior=8.930612711476907e-07, log_prior=-13.928610645716274']\n",
      "['lik_no_norm=-274.6530721670272,lik_true_norm=-273.14042558202686']\n",
      "\n",
      "For w_nc=0.4:\n",
      "['For True Norm, prior=8.930612711476907e-07, log_prior=-13.928610645716274']\n",
      "['lik_no_norm=-274.6530721670272,lik_true_norm=-277.1127900123914']\n",
      "\n",
      "For w_nc=0.45:\n",
      "['For True Norm, prior=8.930612711476907e-07, log_prior=-13.928610645716274']\n",
      "['lik_no_norm=-274.6530721670272,lik_true_norm=-268.4730019069743']\n",
      "\n",
      "For w_nc=0.5:\n",
      "['For True Norm, prior=8.930612711476907e-07, log_prior=-13.928610645716274']\n",
      "['lik_no_norm=-274.6530721670272,lik_true_norm=-268.0633265458286']\n",
      "\n",
      "For w_nc=0.55:\n",
      "['For True Norm, prior=8.930612711476907e-07, log_prior=-13.928610645716274']\n",
      "['lik_no_norm=-274.6530721670272,lik_true_norm=-267.37063425064747']\n",
      "\n",
      "For w_nc=0.0:\n",
      "['For True Norm, prior=8.930612711476907e-07, log_prior=-13.928610645716274']\n",
      "['lik_no_norm=-274.6530721670272,lik_true_norm=-254.17135275706295']\n",
      "\n",
      "For w_nc=0.05:\n",
      "['For True Norm, prior=8.930612711476907e-07, log_prior=-13.928610645716274']\n",
      "['lik_no_norm=-274.6530721670272,lik_true_norm=-256.79085921502605']\n",
      "\n",
      "For w_nc=0.1:\n",
      "['For True Norm, prior=8.930612711476907e-07, log_prior=-13.928610645716274']\n",
      "['lik_no_norm=-274.6530721670272,lik_true_norm=-260.42724920540036']\n",
      "\n",
      "For w_nc=0.15:\n",
      "['For True Norm, prior=8.930612711476907e-07, log_prior=-13.928610645716274']\n",
      "['lik_no_norm=-274.6530721670272,lik_true_norm=-264.4233798713351']\n",
      "\n",
      "For w_nc=0.2:\n",
      "['For True Norm, prior=8.930612711476907e-07, log_prior=-13.928610645716274']\n",
      "['lik_no_norm=-274.6530721670272,lik_true_norm=-264.49471690961997']\n",
      "\n",
      "For w_nc=0.25:\n",
      "['For True Norm, prior=8.930612711476907e-07, log_prior=-13.928610645716274']\n",
      "['lik_no_norm=-274.6530721670272,lik_true_norm=-265.67605326009584']\n",
      "\n",
      "For w_nc=0.3:\n",
      "['For True Norm, prior=8.930612711476907e-07, log_prior=-13.928610645716274']\n",
      "['lik_no_norm=-274.6530721670272,lik_true_norm=-264.9175339439502']\n",
      "\n",
      "For w_nc=0.35:\n",
      "['For True Norm, prior=8.930612711476907e-07, log_prior=-13.928610645716274']\n",
      "['lik_no_norm=-274.6530721670272,lik_true_norm=-268.3251409626606']\n",
      "\n",
      "For w_nc=0.4:\n",
      "['For True Norm, prior=8.930612711476907e-07, log_prior=-13.928610645716274']\n",
      "['lik_no_norm=-274.6530721670272,lik_true_norm=-270.6142060150888']\n",
      "\n",
      "For w_nc=0.45:\n",
      "['For True Norm, prior=8.930612711476907e-07, log_prior=-13.928610645716274']\n",
      "['lik_no_norm=-274.6530721670272,lik_true_norm=-277.8813655426708']\n",
      "\n",
      "For w_nc=0.5:\n",
      "['For True Norm, prior=8.930612711476907e-07, log_prior=-13.928610645716274']\n",
      "['lik_no_norm=-274.6530721670272,lik_true_norm=-268.916830289604']\n",
      "\n",
      "For w_nc=0.55:\n",
      "['For True Norm, prior=8.930612711476907e-07, log_prior=-13.928610645716274']\n",
      "['lik_no_norm=-274.6530721670272,lik_true_norm=-272.72503868791813']\n",
      "\n",
      "For w_nc=0.0:\n",
      "['For True Norm, prior=8.930612711476907e-07, log_prior=-13.928610645716274']\n",
      "['lik_no_norm=-274.6530721670272,lik_true_norm=-260.880809524728']\n",
      "\n",
      "For w_nc=0.05:\n",
      "['For True Norm, prior=8.930612711476907e-07, log_prior=-13.928610645716274']\n",
      "['lik_no_norm=-274.6530721670272,lik_true_norm=-255.17344579041514']\n",
      "\n",
      "For w_nc=0.1:\n",
      "['For True Norm, prior=8.930612711476907e-07, log_prior=-13.928610645716274']\n",
      "['lik_no_norm=-274.6530721670272,lik_true_norm=-251.88187620300587']\n",
      "\n",
      "For w_nc=0.15:\n",
      "['For True Norm, prior=8.930612711476907e-07, log_prior=-13.928610645716274']\n",
      "['lik_no_norm=-274.6530721670272,lik_true_norm=-264.3907787099596']\n",
      "\n",
      "For w_nc=0.2:\n",
      "['For True Norm, prior=8.930612711476907e-07, log_prior=-13.928610645716274']\n",
      "['lik_no_norm=-274.6530721670272,lik_true_norm=-270.0770285169198']\n",
      "\n",
      "For w_nc=0.25:\n",
      "['For True Norm, prior=8.930612711476907e-07, log_prior=-13.928610645716274']\n",
      "['lik_no_norm=-274.6530721670272,lik_true_norm=-265.9651136925178']\n",
      "\n",
      "For w_nc=0.3:\n",
      "['For True Norm, prior=8.930612711476907e-07, log_prior=-13.928610645716274']\n",
      "['lik_no_norm=-274.6530721670272,lik_true_norm=-267.1283095546649']\n",
      "\n",
      "For w_nc=0.35:\n",
      "['For True Norm, prior=8.930612711476907e-07, log_prior=-13.928610645716274']\n",
      "['lik_no_norm=-274.6530721670272,lik_true_norm=-267.15764817779217']\n",
      "\n",
      "For w_nc=0.4:\n",
      "['For True Norm, prior=8.930612711476907e-07, log_prior=-13.928610645716274']\n",
      "['lik_no_norm=-274.6530721670272,lik_true_norm=-263.2799117725714']\n",
      "\n",
      "For w_nc=0.45:\n",
      "['For True Norm, prior=8.930612711476907e-07, log_prior=-13.928610645716274']\n",
      "['lik_no_norm=-274.6530721670272,lik_true_norm=-267.29772489206096']\n",
      "\n",
      "For w_nc=0.5:\n",
      "['For True Norm, prior=8.930612711476907e-07, log_prior=-13.928610645716274']\n",
      "['lik_no_norm=-274.6530721670272,lik_true_norm=-269.97630832785205']\n",
      "\n",
      "For w_nc=0.55:\n",
      "['For True Norm, prior=8.930612711476907e-07, log_prior=-13.928610645716274']\n",
      "['lik_no_norm=-274.6530721670272,lik_true_norm=-272.8013421947175']\n",
      "\n"
     ]
    }
   ],
   "source": [
    "for trial in [1,2,3]:\n",
    "    for w_nc in w_nc_list:\n",
    "        exp_dir_name=exp_pattern.format(w_nc,trial)\n",
    "        prior_out=!grep \"For True Norm\" ../data_nc/{exp_dir_name}/run.log\n",
    "        post_out=!grep \"lik_no_norm\" ../data_nc/{exp_dir_name}/run.log\n",
    "        print (f\"For w_nc={w_nc}:\")\n",
    "        print (prior_out)\n",
    "        print (post_out)\n",
    "        print()"
   ]
  },
  {
   "cell_type": "markdown",
   "metadata": {},
   "source": [
    "### 2. True Norm atleast mentioned in any chains, for diff w_nc"
   ]
  },
  {
   "cell_type": "code",
   "execution_count": null,
   "metadata": {},
   "outputs": [],
   "source": [
    "# for w_nc in w_nc_list:\n",
    "#     exp_dir_name=exp_pattern.format(w_nc)\n",
    "#     out=!grep \"True norm in some chain(s)\" ../data_nc/{exp_dir_name}/chain_info.txt\n",
    "#     print (f\"For w_nc={w_nc}, True Norm found={out}\")"
   ]
  },
  {
   "cell_type": "markdown",
   "metadata": {},
   "source": [
    "### 3. Rank of True Norm as per log_post, iff it was found"
   ]
  },
  {
   "cell_type": "code",
   "execution_count": null,
   "metadata": {},
   "outputs": [],
   "source": [
    "# with open(\"../params_nc.yaml\", 'r') as fd:\n",
    "#     params = yaml.safe_load(fd)\n",
    "# true_norm=to_tuple(params['true_norm']['exp'])"
   ]
  },
  {
   "cell_type": "code",
   "execution_count": null,
   "metadata": {},
   "outputs": [],
   "source": [
    "# for w_nc in w_nc_list:\n",
    "#     exp_dir_name=exp_pattern.format(w_nc)\n",
    "#     rank_df=pd.read_csv(f\"../data_nc/{exp_dir_name}/ranked_posteriors.csv\",index_col=False)\n",
    "#     rank_post=rank_df.loc[rank_df.expression==str(true_norm)][[\"post_rank\",\"log_posterior\"]].values\n",
    "#     if rank_post.shape[0]==1:\n",
    "#         print (f\"For w_nc={w_nc}, True Norm rank={rank_post[0][0]},wi posterior={rank_post[0][1]}\")"
   ]
  },
  {
   "cell_type": "markdown",
   "metadata": {},
   "source": [
    "#### ==> True Norm always has highest posterior, when its found,\n",
    "confirm if it is in one chain, or multiple"
   ]
  },
  {
   "cell_type": "markdown",
   "metadata": {},
   "source": [
    "### 4. In how many chains, max post crosses post(true_norm)"
   ]
  },
  {
   "cell_type": "code",
   "execution_count": null,
   "metadata": {},
   "outputs": [],
   "source": [
    "# stacked=pd.DataFrame()\n",
    "# for w_nc in w_nc_list:\n",
    "#     exp_dir_name=\"exp_nc2/w_nc={}\".format(w_nc)\n",
    "#     result = pd.read_csv(f\"../data_nc/{exp_dir_name}/chain_posteriors_nc.csv\")\n",
    "#     result[\"w_nc\"] = w_nc\n",
    "#     stacked=stacked.append(result)"
   ]
  },
  {
   "cell_type": "code",
   "execution_count": null,
   "metadata": {},
   "outputs": [],
   "source": [
    "# grouped=stacked.groupby([\"w_nc\",\"chain_number\"])[[\"log_posterior\"]].agg(['min', 'max', 'mean', 'std'])"
   ]
  },
  {
   "cell_type": "code",
   "execution_count": null,
   "metadata": {},
   "outputs": [],
   "source": [
    "# true_post={\n",
    "#     \"a\":-25177,\"b\":-25782,\\\n",
    "#     \"c\":1,\"d\":-25773,\\\n",
    "#     \"e\":-25884,\"f\":1\n",
    "# }"
   ]
  },
  {
   "cell_type": "code",
   "execution_count": null,
   "metadata": {},
   "outputs": [],
   "source": [
    "# grouped[\"w_nc\"]=[x[0] for x in grouped.index]\n",
    "# grouped[\"key\"]=np.where(grouped[\"w_nc\"]==0.0,\"a\",\\\n",
    "#                         np.where(grouped[\"w_nc\"]==0.05,\"b\",\\\n",
    "#                                 np.where(grouped[\"w_nc\"]==0.1,\"c\",\\\n",
    "#                                         np.where(grouped[\"w_nc\"]==0.15,\"d\",\\\n",
    "#                                                 np.where(grouped[\"w_nc\"]==0.2,\"e\",\"f\")\\\n",
    "#                                                 )\\\n",
    "#                                         )\\\n",
    "#                                 )\\\n",
    "#                         )"
   ]
  },
  {
   "cell_type": "code",
   "execution_count": null,
   "metadata": {},
   "outputs": [],
   "source": [
    "# grouped.style.apply(lambda x: ['background: lightgreen' if x['log_posterior',  'max'] >=\\\n",
    "#                                true_post[x[\"key\"].values.item()] else '' for i in x], \n",
    "#                axis=1)"
   ]
  },
  {
   "cell_type": "markdown",
   "metadata": {},
   "source": [
    "### 5. If True Norm, features in Top Norms"
   ]
  },
  {
   "cell_type": "code",
   "execution_count": null,
   "metadata": {},
   "outputs": [],
   "source": [
    "# top_norms=stacked.groupby([\"w_nc\",\"expression\"]\\\n",
    "#                )[[\"chain_number\",\"log_posterior\"\\\n",
    "#                  ]].agg({\"log_posterior\":'mean',\"chain_number\":\"count\"}\\\n",
    "#                        ).sort_values(by=[\"chain_number\"]\\\n",
    "#                                     ).groupby([\"w_nc\"\\\n",
    "#                                               ]).tail(20).sort_values(by=[\"w_nc\",\"chain_number\"],\\\n",
    "#                                                                      ascending=[True, False])"
   ]
  },
  {
   "cell_type": "code",
   "execution_count": null,
   "metadata": {},
   "outputs": [],
   "source": [
    "# top_norms[\"grp_rnk\"]=top_norms.groupby(\"w_nc\")[[\"chain_number\"]].rank(method='dense',ascending=False)"
   ]
  },
  {
   "cell_type": "code",
   "execution_count": null,
   "metadata": {},
   "outputs": [],
   "source": [
    "# top_norms.loc[0.0].head(10).style.apply(lambda x: ['background: lightgreen' if x['log_posterior'] >=\\\n",
    "#                                true_post[\"a\"] else '' for i in x], \n",
    "#                axis=1)"
   ]
  },
  {
   "cell_type": "code",
   "execution_count": null,
   "metadata": {},
   "outputs": [],
   "source": [
    "# top_norms.loc[0.05].head(4).style.apply(lambda x: ['background: lightgreen' if x['log_posterior'] >=\\\n",
    "#                                true_post[\"b\"] else '' for i in x], \n",
    "#                axis=1)"
   ]
  },
  {
   "cell_type": "code",
   "execution_count": null,
   "metadata": {},
   "outputs": [],
   "source": [
    "# true_norm"
   ]
  },
  {
   "cell_type": "markdown",
   "metadata": {},
   "source": [
    "#### Below top norms(1,2) equivalent norm to true norm for a very peculiar action seq:\n",
    "1. posterior is lowered due to low prior (~complex condition)"
   ]
  },
  {
   "cell_type": "code",
   "execution_count": null,
   "metadata": {},
   "outputs": [],
   "source": [
    "# top_norms.loc[0.1].head(4).style.apply(lambda x: ['background: lightgreen' if x['log_posterior'] >=\\\n",
    "#                                true_post[\"c\"] else '' for i in x], \n",
    "#                axis=1)"
   ]
  },
  {
   "cell_type": "code",
   "execution_count": null,
   "metadata": {},
   "outputs": [],
   "source": [
    "# top_norms.loc[0.15].head(4).style.apply(lambda x: ['background: lightgreen' if x['log_posterior'] >=\\\n",
    "#                                true_post[\"d\"] else '' for i in x], \n",
    "#                axis=1)"
   ]
  },
  {
   "cell_type": "code",
   "execution_count": null,
   "metadata": {},
   "outputs": [],
   "source": [
    "# top_norms.loc[0.2].head(10).style.apply(lambda x: ['background: lightgreen' if x['log_posterior'] >=\\\n",
    "#                                true_post[\"e\"] else '' for i in x], \n",
    "#                axis=1)"
   ]
  },
  {
   "cell_type": "code",
   "execution_count": null,
   "metadata": {},
   "outputs": [],
   "source": []
  },
  {
   "cell_type": "code",
   "execution_count": null,
   "metadata": {},
   "outputs": [],
   "source": []
  },
  {
   "cell_type": "code",
   "execution_count": null,
   "metadata": {},
   "outputs": [],
   "source": []
  }
 ],
 "metadata": {
  "kernelspec": {
   "display_name": "Python 3",
   "language": "python",
   "name": "python3"
  },
  "language_info": {
   "codemirror_mode": {
    "name": "ipython",
    "version": 3
   },
   "file_extension": ".py",
   "mimetype": "text/x-python",
   "name": "python",
   "nbconvert_exporter": "python",
   "pygments_lexer": "ipython3",
   "version": "3.8.2"
  }
 },
 "nbformat": 4,
 "nbformat_minor": 4
}
