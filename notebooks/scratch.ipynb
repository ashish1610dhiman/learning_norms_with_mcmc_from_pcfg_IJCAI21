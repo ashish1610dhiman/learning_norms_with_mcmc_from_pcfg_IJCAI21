{
 "cells": [
  {
   "cell_type": "code",
   "execution_count": null,
   "metadata": {
    "cell_id": "00000-744251bc-92af-4468-858a-2c70eb9ac892",
    "output_cleared": false,
    "tags": []
   },
   "outputs": [],
   "source": [
    "import sys\n",
    "for path in sys.path:\n",
    "    print(path)\n"
   ]
  },
  {
   "cell_type": "code",
   "execution_count": null,
   "metadata": {
    "cell_id": "00000-b50d21af-651a-4df2-996b-96e1401198ac",
    "tags": []
   },
   "outputs": [],
   "source": [
    "!. /opt/venv/bin/activate; pushd ..; pip install -r ~/work/requirements.txt; popd\n",
    "\n"
   ]
  },
  {
   "cell_type": "code",
   "execution_count": null,
   "metadata": {
    "cell_id": "00000-733b6914-ba94-4b1c-b02d-15e208f5a8d9",
    "output_cleared": false,
    "tags": []
   },
   "outputs": [],
   "source": [
    "import pickle\n",
    "import environment\n",
    "\n",
    "with open('../data/default_env.pickle', 'rb') as fp:\n",
    "    env = pickle.load(fp)\n",
    "print(env)\n"
   ]
  }
 ],
 "metadata": {
  "deepnote_execution_queue": [],
  "deepnote_notebook_id": "6207ea46-ca57-41b6-b877-065ca868ad85"
 },
 "nbformat": 4,
 "nbformat_minor": 2
}
