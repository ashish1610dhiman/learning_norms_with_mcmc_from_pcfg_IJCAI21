{
 "cells": [
  {
   "cell_type": "markdown",
   "metadata": {
    "cell_id": "00014-71177571-9015-41f6-bba7-ffba318de53c",
    "tags": []
   },
   "source": [
    "### The cells below are for testing and are not part of the workflow"
   ]
  },
  {
   "cell_type": "code",
   "execution_count": null,
   "metadata": {
    "cell_id": "00015-c9c9bed2-2530-467b-8c5c-058ff0ae61de",
    "output_cleared": false,
    "tags": []
   },
   "outputs": [],
   "source": [
    "!cd ..; python scripts/check_observations.py"
   ]
  },
  {
   "cell_type": "code",
   "execution_count": null,
   "metadata": {
    "cell_id": "00016-df7cbb51-bc1b-4811-ade1-38811e93b747",
    "output_cleared": false,
    "tags": []
   },
   "outputs": [],
   "source": [
    "!cd ..; python scripts/test_overdispersed_starts.py"
   ]
  },
  {
   "cell_type": "code",
   "execution_count": null,
   "metadata": {
    "cell_id": "00017-3305a3cc-dd37-4aaf-b2f4-838acedce873",
    "tags": []
   },
   "outputs": [],
   "source": [
    "!dvc repro"
   ]
  },
  {
   "cell_type": "code",
   "execution_count": null,
   "metadata": {
    "cell_id": "00018-a074d866-53fc-4b48-8d28-e2c1cd7ca829",
    "output_cleared": false,
    "tags": []
   },
   "outputs": [],
   "source": [
    "!rm ../.dvc/tmp/rwlock"
   ]
  },
  {
   "cell_type": "code",
   "execution_count": null,
   "metadata": {
    "cell_id": "00019-e3d85939-fa13-4d90-badd-ad400d9f1208",
    "output_cleared": false,
    "tags": []
   },
   "outputs": [],
   "source": [
    "!cd ..; python scripts/conv_test_no_warmup.py"
   ]
  },
  {
   "cell_type": "code",
   "execution_count": null,
   "metadata": {
    "allow_embed": false,
    "cell_id": "00020-b5d8c88f-8a5a-47b2-accd-789abfa516d7",
    "output_cleared": false,
    "tags": []
   },
   "outputs": [],
   "source": [
    "!cd ..; python scripts/test_obs_likelihood.py"
   ]
  },
  {
   "cell_type": "code",
   "execution_count": null,
   "metadata": {
    "cell_id": "00021-128f1be0-2bea-4ee0-aa6e-df99579e5b37",
    "output_cleared": false,
    "tags": []
   },
   "outputs": [],
   "source": [
    "!cd ..; python scripts/test_chain_posteriors.py"
   ]
  },
  {
   "cell_type": "code",
   "execution_count": null,
   "metadata": {
    "cell_id": "00022-e5a88fe8-aaa3-4568-9cdf-b53b13bf76ed",
    "output_cleared": false,
    "tags": []
   },
   "outputs": [],
   "source": [
    "import os\n",
    "os.getcwd()"
   ]
  }
 ],
 "metadata": {
  "deepnote_execution_queue": [],
  "deepnote_notebook_id": "4a5812a2-2492-4097-82ef-d030d3194800",
  "kernelspec": {
   "display_name": "Python 3.8.2 32-bit ('env')",
   "metadata": {
    "interpreter": {
     "hash": "3caac4adb4e1f493f0617992483e3f4fe96c197b68af4c11de32cc1dac6ab887"
    }
   },
   "name": "Python 3.8.2 32-bit ('env')"
  }
 },
 "nbformat": 4,
 "nbformat_minor": 2
}
