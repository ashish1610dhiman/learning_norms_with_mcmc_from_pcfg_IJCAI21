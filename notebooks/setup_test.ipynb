{
 "cells": [
  {
   "cell_type": "code",
   "execution_count": null,
   "metadata": {
    "cell_id": "97758b1b-1f0c-4e09-82ab-c0d9b584dc79",
    "tags": []
   },
   "outputs": [],
   "source": [
    "#import mcmc_norm_learning\r\n",
    "!pip install mcmc_norm_learning\r\n",
    "\r\n",
    "\r\n"
   ]
  }
 ],
 "metadata": {
  "deepnote_execution_queue": [],
  "deepnote_notebook_id": "403e1039-6c90-496d-8f2d-f5a0366da542"
 },
 "nbformat": 4,
 "nbformat_minor": 2
}
