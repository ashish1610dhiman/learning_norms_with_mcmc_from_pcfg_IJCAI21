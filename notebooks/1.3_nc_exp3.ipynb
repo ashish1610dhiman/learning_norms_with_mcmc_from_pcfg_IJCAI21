{
 "cells": [
  {
   "cell_type": "markdown",
   "metadata": {},
   "source": [
    "## Non Compliance Experiment=2\n",
    "Test top norms for different w_nc, and relation between violations with diff params   \n",
    "Dask page: http://localhost:8787/info/main/workers.html"
   ]
  },
  {
   "cell_type": "code",
   "execution_count": 1,
   "metadata": {},
   "outputs": [],
   "source": [
    "import sys\n",
    "sys.path.append('../src')"
   ]
  },
  {
   "cell_type": "code",
   "execution_count": 2,
   "metadata": {},
   "outputs": [],
   "source": [
    "import yaml\n",
    "from IPython.utils import io\n",
    "from tqdm.notebook import tqdm\n",
    "from pathlib import Path\n",
    "import pandas as pd\n",
    "import numpy as np\n",
    "from mcmc_norm_learning.algorithm_1_v4 import to_tuple"
   ]
  },
  {
   "cell_type": "code",
   "execution_count": 3,
   "metadata": {},
   "outputs": [],
   "source": [
    "def write_log(output,path):\n",
    "    with open(Path(path), 'w') as f:\n",
    "        f.write(output)"
   ]
  },
  {
   "cell_type": "markdown",
   "metadata": {},
   "source": [
    "## Loop over w_nc values\n",
    "### Trial=1"
   ]
  },
  {
   "cell_type": "code",
   "execution_count": 4,
   "metadata": {},
   "outputs": [],
   "source": [
    "exp_pattern=\"exp_nc3/w_nc={}\""
   ]
  },
  {
   "cell_type": "code",
   "execution_count": 4,
   "metadata": {},
   "outputs": [],
   "source": [
    "# !rm -r ../data_nc/exp_nc2/*"
   ]
  },
  {
   "cell_type": "code",
   "execution_count": 5,
   "metadata": {},
   "outputs": [
    {
     "data": {
      "text/plain": [
       "[0.0, 0.05, 0.1, 0.15, 0.2, 0.25, 0.3, 0.35, 0.4]"
      ]
     },
     "execution_count": 5,
     "metadata": {},
     "output_type": "execute_result"
    }
   ],
   "source": [
    "w_nc_list=[round(0.05*i,2) for i in range(9)]\n",
    "w_nc_list"
   ]
  },
  {
   "cell_type": "code",
   "execution_count": 6,
   "metadata": {},
   "outputs": [],
   "source": [
    "w_nc_parts={\n",
    "    f\"part_{part}\": w_nc_list[i*2:(i+1)*2]\\\n",
    "    for part,i in zip([\"a\",\"b\",\"c\",\"d\",\"e\"],range(int(len(w_nc_list)/2)+1))\\\n",
    "}"
   ]
  },
  {
   "cell_type": "code",
   "execution_count": 7,
   "metadata": {},
   "outputs": [
    {
     "data": {
      "text/plain": [
       "{'part_a': [0.0, 0.05],\n",
       " 'part_b': [0.1, 0.15],\n",
       " 'part_c': [0.2, 0.25],\n",
       " 'part_d': [0.3, 0.35],\n",
       " 'part_e': [0.4]}"
      ]
     },
     "execution_count": 7,
     "metadata": {},
     "output_type": "execute_result"
    }
   ],
   "source": [
    "w_nc_parts"
   ]
  },
  {
   "cell_type": "code",
   "execution_count": 42,
   "metadata": {},
   "outputs": [
    {
     "data": {
      "application/vnd.jupyter.widget-view+json": {
       "model_id": "84d93c5f9b1344deac84f49bc94936ac",
       "version_major": 2,
       "version_minor": 0
      },
      "text/plain": [
       "HBox(children=(HTML(value='Loop Over diff w_nc'), FloatProgress(value=0.0, max=2.0), HTML(value='')))"
      ]
     },
     "metadata": {},
     "output_type": "display_data"
    },
    {
     "name": "stdout",
     "output_type": "stream",
     "text": [
      "\n"
     ]
    }
   ],
   "source": [
    "#part_a\n",
    "for w_nc in tqdm(w_nc_parts[\"part_a\"],\"Loop Over diff w_nc\"):\n",
    "    exp_dir_name=exp_pattern.format(w_nc)\n",
    "    with io.capture_output() as exp_log:\n",
    "        !python ../scripts/nc_experiments.py -exp $exp_dir_name -w_nc $w_nc  -n_threads 6\n",
    "    write_log(exp_log.stdout,\"../data_nc/{}/run.log\".format(exp_dir_name)) "
   ]
  },
  {
   "cell_type": "code",
   "execution_count": 43,
   "metadata": {},
   "outputs": [
    {
     "data": {
      "application/vnd.jupyter.widget-view+json": {
       "model_id": "eeee152f7af74419bd79b3217ea3a0c7",
       "version_major": 2,
       "version_minor": 0
      },
      "text/plain": [
       "HBox(children=(HTML(value='Loop Over diff w_nc'), FloatProgress(value=0.0, max=2.0), HTML(value='')))"
      ]
     },
     "metadata": {},
     "output_type": "display_data"
    },
    {
     "name": "stdout",
     "output_type": "stream",
     "text": [
      "\n"
     ]
    }
   ],
   "source": [
    "#part_b\n",
    "for w_nc in tqdm(w_nc_parts[\"part_b\"],\"Loop Over diff w_nc\"):\n",
    "    exp_dir_name=exp_pattern.format(w_nc)\n",
    "    with io.capture_output() as exp_log:\n",
    "        !python ../scripts/nc_experiments.py -exp $exp_dir_name -w_nc $w_nc  -n_threads 6\n",
    "    write_log(exp_log.stdout,\"../data_nc/{}/run.log\".format(exp_dir_name)) "
   ]
  },
  {
   "cell_type": "code",
   "execution_count": 44,
   "metadata": {},
   "outputs": [
    {
     "data": {
      "application/vnd.jupyter.widget-view+json": {
       "model_id": "b9afe5c949454839aa77e61d3a852633",
       "version_major": 2,
       "version_minor": 0
      },
      "text/plain": [
       "HBox(children=(HTML(value='Loop Over diff w_nc'), FloatProgress(value=0.0, max=2.0), HTML(value='')))"
      ]
     },
     "metadata": {},
     "output_type": "display_data"
    },
    {
     "name": "stdout",
     "output_type": "stream",
     "text": [
      "\n"
     ]
    }
   ],
   "source": [
    "#part_c\n",
    "for w_nc in tqdm(w_nc_parts[\"part_c\"],\"Loop Over diff w_nc\"):\n",
    "    exp_dir_name=exp_pattern.format(w_nc)\n",
    "    with io.capture_output() as exp_log:\n",
    "        !python ../scripts/nc_experiments.py -exp $exp_dir_name -w_nc $w_nc  -n_threads 6\n",
    "    write_log(exp_log.stdout,\"../data_nc/{}/run.log\".format(exp_dir_name)) "
   ]
  },
  {
   "cell_type": "code",
   "execution_count": 8,
   "metadata": {},
   "outputs": [
    {
     "data": {
      "application/vnd.jupyter.widget-view+json": {
       "model_id": "4a2d8331b0b9412aa15a41272834995d",
       "version_major": 2,
       "version_minor": 0
      },
      "text/plain": [
       "HBox(children=(HTML(value='Loop Over diff w_nc'), FloatProgress(value=0.0, max=2.0), HTML(value='')))"
      ]
     },
     "metadata": {},
     "output_type": "display_data"
    },
    {
     "name": "stdout",
     "output_type": "stream",
     "text": [
      "\n"
     ]
    }
   ],
   "source": [
    "#part_d\n",
    "for w_nc in tqdm(w_nc_parts[\"part_d\"],\"Loop Over diff w_nc\"):\n",
    "    exp_dir_name=exp_pattern.format(w_nc)\n",
    "    with io.capture_output() as exp_log:\n",
    "        !python ../scripts/nc_experiments.py -exp $exp_dir_name -w_nc $w_nc  -n_threads 6\n",
    "    write_log(exp_log.stdout,\"../data_nc/{}/run.log\".format(exp_dir_name)) "
   ]
  },
  {
   "cell_type": "code",
   "execution_count": 9,
   "metadata": {},
   "outputs": [
    {
     "data": {
      "application/vnd.jupyter.widget-view+json": {
       "model_id": "f5d759156dd44c038573e9da0860cfcd",
       "version_major": 2,
       "version_minor": 0
      },
      "text/plain": [
       "HBox(children=(HTML(value='Loop Over diff w_nc'), FloatProgress(value=0.0, max=1.0), HTML(value='')))"
      ]
     },
     "metadata": {},
     "output_type": "display_data"
    },
    {
     "name": "stdout",
     "output_type": "stream",
     "text": [
      "\n"
     ]
    }
   ],
   "source": [
    "#part_e\n",
    "for w_nc in tqdm(w_nc_parts[\"part_e\"],\"Loop Over diff w_nc\"):\n",
    "    exp_dir_name=exp_pattern.format(w_nc)\n",
    "    with io.capture_output() as exp_log:\n",
    "        !python ../scripts/nc_experiments.py -exp $exp_dir_name -w_nc $w_nc  -n_threads 6\n",
    "    write_log(exp_log.stdout,\"../data_nc/{}/run.log\".format(exp_dir_name)) "
   ]
  },
  {
   "cell_type": "markdown",
   "metadata": {},
   "source": [
    "### Add trials"
   ]
  },
  {
   "cell_type": "code",
   "execution_count": 4,
   "metadata": {},
   "outputs": [],
   "source": [
    "exp_pattern=\"exp_nc3/w_nc={},trial={}\""
   ]
  },
  {
   "cell_type": "code",
   "execution_count": 12,
   "metadata": {},
   "outputs": [
    {
     "data": {
      "application/vnd.jupyter.widget-view+json": {
       "model_id": "6e4d94a9c2474deda4f006111e24b5e7",
       "version_major": 2,
       "version_minor": 0
      },
      "text/plain": [
       "HBox(children=(HTML(value='Loop Over diff w_nc'), FloatProgress(value=0.0, max=2.0), HTML(value='')))"
      ]
     },
     "metadata": {},
     "output_type": "display_data"
    },
    {
     "name": "stdout",
     "output_type": "stream",
     "text": [
      "\n"
     ]
    },
    {
     "data": {
      "application/vnd.jupyter.widget-view+json": {
       "model_id": "6ab0e7f88932442e86a52695616cb443",
       "version_major": 2,
       "version_minor": 0
      },
      "text/plain": [
       "HBox(children=(HTML(value='Loop Over diff w_nc'), FloatProgress(value=0.0, max=2.0), HTML(value='')))"
      ]
     },
     "metadata": {},
     "output_type": "display_data"
    },
    {
     "name": "stdout",
     "output_type": "stream",
     "text": [
      "\n"
     ]
    }
   ],
   "source": [
    "#part_a\n",
    "for trial in [2,3]:\n",
    "    for w_nc in tqdm([0.05,0.1],\"Loop Over diff w_nc\"):\n",
    "        exp_dir_name=exp_pattern.format(w_nc,trial)\n",
    "        with io.capture_output() as exp_log:\n",
    "            !python ../scripts/nc_experiments.py -exp $exp_dir_name -w_nc $w_nc  -n_threads 6\n",
    "        write_log(exp_log.stdout,\"../data_nc/{}/run.log\".format(exp_dir_name)) "
   ]
  },
  {
   "cell_type": "code",
   "execution_count": 13,
   "metadata": {},
   "outputs": [
    {
     "data": {
      "application/vnd.jupyter.widget-view+json": {
       "model_id": "ae52599254544e2da8c7a677d59721f6",
       "version_major": 2,
       "version_minor": 0
      },
      "text/plain": [
       "HBox(children=(HTML(value='Loop Over diff w_nc'), FloatProgress(value=0.0, max=2.0), HTML(value='')))"
      ]
     },
     "metadata": {},
     "output_type": "display_data"
    },
    {
     "name": "stdout",
     "output_type": "stream",
     "text": [
      "\n"
     ]
    },
    {
     "data": {
      "application/vnd.jupyter.widget-view+json": {
       "model_id": "8fac2fab5ee844609abe400fc40584fb",
       "version_major": 2,
       "version_minor": 0
      },
      "text/plain": [
       "HBox(children=(HTML(value='Loop Over diff w_nc'), FloatProgress(value=0.0, max=2.0), HTML(value='')))"
      ]
     },
     "metadata": {},
     "output_type": "display_data"
    },
    {
     "name": "stdout",
     "output_type": "stream",
     "text": [
      "\n"
     ]
    }
   ],
   "source": [
    "#part_a\n",
    "for trial in [2,3]:\n",
    "    for w_nc in tqdm([0.15,0.2],\"Loop Over diff w_nc\"):\n",
    "        exp_dir_name=exp_pattern.format(w_nc,trial)\n",
    "        with io.capture_output() as exp_log:\n",
    "            !python ../scripts/nc_experiments.py -exp $exp_dir_name -w_nc $w_nc  -n_threads 6\n",
    "        write_log(exp_log.stdout,\"../data_nc/{}/run.log\".format(exp_dir_name)) "
   ]
  },
  {
   "cell_type": "code",
   "execution_count": 5,
   "metadata": {},
   "outputs": [
    {
     "data": {
      "application/vnd.jupyter.widget-view+json": {
       "model_id": "e05bb37a851d45fb9fd9a9edea1627dd",
       "version_major": 2,
       "version_minor": 0
      },
      "text/plain": [
       "HBox(children=(HTML(value='Loop Over diff w_nc'), FloatProgress(value=0.0, max=4.0), HTML(value='')))"
      ]
     },
     "metadata": {},
     "output_type": "display_data"
    },
    {
     "name": "stdout",
     "output_type": "stream",
     "text": [
      "\n"
     ]
    },
    {
     "data": {
      "application/vnd.jupyter.widget-view+json": {
       "model_id": "2fb6a8c04a034d739a1cbf427270bd9c",
       "version_major": 2,
       "version_minor": 0
      },
      "text/plain": [
       "HBox(children=(HTML(value='Loop Over diff w_nc'), FloatProgress(value=0.0, max=4.0), HTML(value='')))"
      ]
     },
     "metadata": {},
     "output_type": "display_data"
    },
    {
     "name": "stdout",
     "output_type": "stream",
     "text": [
      "\n"
     ]
    },
    {
     "name": "stderr",
     "output_type": "stream",
     "text": [
      "ERROR:root:Internal Python error in the inspect module.\n",
      "Below is the traceback from this internal error.\n",
      "\n"
     ]
    },
    {
     "name": "stdout",
     "output_type": "stream",
     "text": [
      "Traceback (most recent call last):\n",
      "  File \"/Users/ashish1610dhiman/data_projects/otago_norm_learning/mcmc/venv/lib/python3.8/site-packages/IPython/core/interactiveshell.py\", line 3418, in run_code\n",
      "    exec(code_obj, self.user_global_ns, self.user_ns)\n",
      "  File \"<ipython-input-5-4b214fa201ac>\", line 9, in <module>\n",
      "    time.sleep(50)\n",
      "KeyboardInterrupt\n",
      "\n",
      "During handling of the above exception, another exception occurred:\n",
      "\n",
      "Traceback (most recent call last):\n",
      "  File \"/Users/ashish1610dhiman/data_projects/otago_norm_learning/mcmc/venv/lib/python3.8/site-packages/IPython/core/interactiveshell.py\", line 2045, in showtraceback\n",
      "    stb = value._render_traceback_()\n",
      "AttributeError: 'KeyboardInterrupt' object has no attribute '_render_traceback_'\n",
      "\n",
      "During handling of the above exception, another exception occurred:\n",
      "\n",
      "Traceback (most recent call last):\n",
      "  File \"/Users/ashish1610dhiman/data_projects/otago_norm_learning/mcmc/venv/lib/python3.8/site-packages/IPython/core/ultratb.py\", line 1170, in get_records\n",
      "    return _fixed_getinnerframes(etb, number_of_lines_of_context, tb_offset)\n",
      "  File \"/Users/ashish1610dhiman/data_projects/otago_norm_learning/mcmc/venv/lib/python3.8/site-packages/IPython/core/ultratb.py\", line 316, in wrapped\n",
      "    return f(*args, **kwargs)\n",
      "  File \"/Users/ashish1610dhiman/data_projects/otago_norm_learning/mcmc/venv/lib/python3.8/site-packages/IPython/core/ultratb.py\", line 350, in _fixed_getinnerframes\n",
      "    records = fix_frame_records_filenames(inspect.getinnerframes(etb, context))\n",
      "  File \"/Library/Developer/CommandLineTools/Library/Frameworks/Python3.framework/Versions/3.8/lib/python3.8/inspect.py\", line 1503, in getinnerframes\n",
      "    frameinfo = (tb.tb_frame,) + getframeinfo(tb, context)\n",
      "  File \"/Library/Developer/CommandLineTools/Library/Frameworks/Python3.framework/Versions/3.8/lib/python3.8/inspect.py\", line 1461, in getframeinfo\n",
      "    filename = getsourcefile(frame) or getfile(frame)\n",
      "  File \"/Library/Developer/CommandLineTools/Library/Frameworks/Python3.framework/Versions/3.8/lib/python3.8/inspect.py\", line 708, in getsourcefile\n",
      "    if getattr(getmodule(object, filename), '__loader__', None) is not None:\n",
      "  File \"/Library/Developer/CommandLineTools/Library/Frameworks/Python3.framework/Versions/3.8/lib/python3.8/inspect.py\", line 754, in getmodule\n",
      "    os.path.realpath(f)] = module.__name__\n",
      "  File \"/Library/Developer/CommandLineTools/Library/Frameworks/Python3.framework/Versions/3.8/lib/python3.8/posixpath.py\", line 391, in realpath\n",
      "    path, ok = _joinrealpath(filename[:0], filename, {})\n",
      "  File \"/Library/Developer/CommandLineTools/Library/Frameworks/Python3.framework/Versions/3.8/lib/python3.8/posixpath.py\", line 424, in _joinrealpath\n",
      "    newpath = join(path, name)\n",
      "  File \"/Library/Developer/CommandLineTools/Library/Frameworks/Python3.framework/Versions/3.8/lib/python3.8/posixpath.py\", line 82, in join\n",
      "    for b in map(os.fspath, p):\n",
      "KeyboardInterrupt\n"
     ]
    },
    {
     "ename": "TypeError",
     "evalue": "object of type 'NoneType' has no len()",
     "output_type": "error",
     "traceback": [
      "\u001b[0;31m---------------------------------------------------------------------------\u001b[0m",
      "\u001b[0;31mKeyboardInterrupt\u001b[0m                         Traceback (most recent call last)",
      "    \u001b[0;31m[... skipping hidden 1 frame]\u001b[0m\n",
      "\u001b[0;32m<ipython-input-5-4b214fa201ac>\u001b[0m in \u001b[0;36m<module>\u001b[0;34m\u001b[0m\n\u001b[1;32m      8\u001b[0m         \u001b[0mwrite_log\u001b[0m\u001b[0;34m(\u001b[0m\u001b[0mexp_log\u001b[0m\u001b[0;34m.\u001b[0m\u001b[0mstdout\u001b[0m\u001b[0;34m,\u001b[0m\u001b[0;34m\"../data_nc/{}/run.log\"\u001b[0m\u001b[0;34m.\u001b[0m\u001b[0mformat\u001b[0m\u001b[0;34m(\u001b[0m\u001b[0mexp_dir_name\u001b[0m\u001b[0;34m)\u001b[0m\u001b[0;34m)\u001b[0m\u001b[0;34m\u001b[0m\u001b[0;34m\u001b[0m\u001b[0m\n\u001b[0;32m----> 9\u001b[0;31m         \u001b[0mtime\u001b[0m\u001b[0;34m.\u001b[0m\u001b[0msleep\u001b[0m\u001b[0;34m(\u001b[0m\u001b[0;36m50\u001b[0m\u001b[0;34m)\u001b[0m\u001b[0;34m\u001b[0m\u001b[0;34m\u001b[0m\u001b[0m\n\u001b[0m",
      "\u001b[0;31mKeyboardInterrupt\u001b[0m: ",
      "\nDuring handling of the above exception, another exception occurred:\n",
      "\u001b[0;31mAttributeError\u001b[0m                            Traceback (most recent call last)",
      "\u001b[0;32m~/data_projects/otago_norm_learning/mcmc/venv/lib/python3.8/site-packages/IPython/core/interactiveshell.py\u001b[0m in \u001b[0;36mshowtraceback\u001b[0;34m(self, exc_tuple, filename, tb_offset, exception_only, running_compiled_code)\u001b[0m\n\u001b[1;32m   2044\u001b[0m                         \u001b[0;31m# in the engines. This should return a list of strings.\u001b[0m\u001b[0;34m\u001b[0m\u001b[0;34m\u001b[0m\u001b[0;34m\u001b[0m\u001b[0m\n\u001b[0;32m-> 2045\u001b[0;31m                         \u001b[0mstb\u001b[0m \u001b[0;34m=\u001b[0m \u001b[0mvalue\u001b[0m\u001b[0;34m.\u001b[0m\u001b[0m_render_traceback_\u001b[0m\u001b[0;34m(\u001b[0m\u001b[0;34m)\u001b[0m\u001b[0;34m\u001b[0m\u001b[0;34m\u001b[0m\u001b[0m\n\u001b[0m\u001b[1;32m   2046\u001b[0m                     \u001b[0;32mexcept\u001b[0m \u001b[0mException\u001b[0m\u001b[0;34m:\u001b[0m\u001b[0;34m\u001b[0m\u001b[0;34m\u001b[0m\u001b[0m\n",
      "\u001b[0;31mAttributeError\u001b[0m: 'KeyboardInterrupt' object has no attribute '_render_traceback_'",
      "\nDuring handling of the above exception, another exception occurred:\n",
      "\u001b[0;31mTypeError\u001b[0m                                 Traceback (most recent call last)",
      "    \u001b[0;31m[... skipping hidden 1 frame]\u001b[0m\n",
      "\u001b[0;32m~/data_projects/otago_norm_learning/mcmc/venv/lib/python3.8/site-packages/IPython/core/interactiveshell.py\u001b[0m in \u001b[0;36mshowtraceback\u001b[0;34m(self, exc_tuple, filename, tb_offset, exception_only, running_compiled_code)\u001b[0m\n\u001b[1;32m   2045\u001b[0m                         \u001b[0mstb\u001b[0m \u001b[0;34m=\u001b[0m \u001b[0mvalue\u001b[0m\u001b[0;34m.\u001b[0m\u001b[0m_render_traceback_\u001b[0m\u001b[0;34m(\u001b[0m\u001b[0;34m)\u001b[0m\u001b[0;34m\u001b[0m\u001b[0;34m\u001b[0m\u001b[0m\n\u001b[1;32m   2046\u001b[0m                     \u001b[0;32mexcept\u001b[0m \u001b[0mException\u001b[0m\u001b[0;34m:\u001b[0m\u001b[0;34m\u001b[0m\u001b[0;34m\u001b[0m\u001b[0m\n\u001b[0;32m-> 2047\u001b[0;31m                         stb = self.InteractiveTB.structured_traceback(etype,\n\u001b[0m\u001b[1;32m   2048\u001b[0m                                             value, tb, tb_offset=tb_offset)\n\u001b[1;32m   2049\u001b[0m \u001b[0;34m\u001b[0m\u001b[0m\n",
      "\u001b[0;32m~/data_projects/otago_norm_learning/mcmc/venv/lib/python3.8/site-packages/IPython/core/ultratb.py\u001b[0m in \u001b[0;36mstructured_traceback\u001b[0;34m(self, etype, value, tb, tb_offset, number_of_lines_of_context)\u001b[0m\n\u001b[1;32m   1434\u001b[0m         \u001b[0;32melse\u001b[0m\u001b[0;34m:\u001b[0m\u001b[0;34m\u001b[0m\u001b[0;34m\u001b[0m\u001b[0m\n\u001b[1;32m   1435\u001b[0m             \u001b[0mself\u001b[0m\u001b[0;34m.\u001b[0m\u001b[0mtb\u001b[0m \u001b[0;34m=\u001b[0m \u001b[0mtb\u001b[0m\u001b[0;34m\u001b[0m\u001b[0;34m\u001b[0m\u001b[0m\n\u001b[0;32m-> 1436\u001b[0;31m         return FormattedTB.structured_traceback(\n\u001b[0m\u001b[1;32m   1437\u001b[0m             self, etype, value, tb, tb_offset, number_of_lines_of_context)\n\u001b[1;32m   1438\u001b[0m \u001b[0;34m\u001b[0m\u001b[0m\n",
      "\u001b[0;32m~/data_projects/otago_norm_learning/mcmc/venv/lib/python3.8/site-packages/IPython/core/ultratb.py\u001b[0m in \u001b[0;36mstructured_traceback\u001b[0;34m(self, etype, value, tb, tb_offset, number_of_lines_of_context)\u001b[0m\n\u001b[1;32m   1334\u001b[0m         \u001b[0;32mif\u001b[0m \u001b[0mmode\u001b[0m \u001b[0;32min\u001b[0m \u001b[0mself\u001b[0m\u001b[0;34m.\u001b[0m\u001b[0mverbose_modes\u001b[0m\u001b[0;34m:\u001b[0m\u001b[0;34m\u001b[0m\u001b[0;34m\u001b[0m\u001b[0m\n\u001b[1;32m   1335\u001b[0m             \u001b[0;31m# Verbose modes need a full traceback\u001b[0m\u001b[0;34m\u001b[0m\u001b[0;34m\u001b[0m\u001b[0;34m\u001b[0m\u001b[0m\n\u001b[0;32m-> 1336\u001b[0;31m             return VerboseTB.structured_traceback(\n\u001b[0m\u001b[1;32m   1337\u001b[0m                 \u001b[0mself\u001b[0m\u001b[0;34m,\u001b[0m \u001b[0metype\u001b[0m\u001b[0;34m,\u001b[0m \u001b[0mvalue\u001b[0m\u001b[0;34m,\u001b[0m \u001b[0mtb\u001b[0m\u001b[0;34m,\u001b[0m \u001b[0mtb_offset\u001b[0m\u001b[0;34m,\u001b[0m \u001b[0mnumber_of_lines_of_context\u001b[0m\u001b[0;34m\u001b[0m\u001b[0;34m\u001b[0m\u001b[0m\n\u001b[1;32m   1338\u001b[0m             )\n",
      "\u001b[0;32m~/data_projects/otago_norm_learning/mcmc/venv/lib/python3.8/site-packages/IPython/core/ultratb.py\u001b[0m in \u001b[0;36mstructured_traceback\u001b[0;34m(self, etype, evalue, etb, tb_offset, number_of_lines_of_context)\u001b[0m\n\u001b[1;32m   1191\u001b[0m         \u001b[0;34m\"\"\"Return a nice text document describing the traceback.\"\"\"\u001b[0m\u001b[0;34m\u001b[0m\u001b[0;34m\u001b[0m\u001b[0m\n\u001b[1;32m   1192\u001b[0m \u001b[0;34m\u001b[0m\u001b[0m\n\u001b[0;32m-> 1193\u001b[0;31m         formatted_exception = self.format_exception_as_a_whole(etype, evalue, etb, number_of_lines_of_context,\n\u001b[0m\u001b[1;32m   1194\u001b[0m                                                                tb_offset)\n\u001b[1;32m   1195\u001b[0m \u001b[0;34m\u001b[0m\u001b[0m\n",
      "\u001b[0;32m~/data_projects/otago_norm_learning/mcmc/venv/lib/python3.8/site-packages/IPython/core/ultratb.py\u001b[0m in \u001b[0;36mformat_exception_as_a_whole\u001b[0;34m(self, etype, evalue, etb, number_of_lines_of_context, tb_offset)\u001b[0m\n\u001b[1;32m   1149\u001b[0m \u001b[0;34m\u001b[0m\u001b[0m\n\u001b[1;32m   1150\u001b[0m \u001b[0;34m\u001b[0m\u001b[0m\n\u001b[0;32m-> 1151\u001b[0;31m         \u001b[0mlast_unique\u001b[0m\u001b[0;34m,\u001b[0m \u001b[0mrecursion_repeat\u001b[0m \u001b[0;34m=\u001b[0m \u001b[0mfind_recursion\u001b[0m\u001b[0;34m(\u001b[0m\u001b[0morig_etype\u001b[0m\u001b[0;34m,\u001b[0m \u001b[0mevalue\u001b[0m\u001b[0;34m,\u001b[0m \u001b[0mrecords\u001b[0m\u001b[0;34m)\u001b[0m\u001b[0;34m\u001b[0m\u001b[0;34m\u001b[0m\u001b[0m\n\u001b[0m\u001b[1;32m   1152\u001b[0m \u001b[0;34m\u001b[0m\u001b[0m\n\u001b[1;32m   1153\u001b[0m         \u001b[0mframes\u001b[0m \u001b[0;34m=\u001b[0m \u001b[0mself\u001b[0m\u001b[0;34m.\u001b[0m\u001b[0mformat_records\u001b[0m\u001b[0;34m(\u001b[0m\u001b[0mrecords\u001b[0m\u001b[0;34m,\u001b[0m \u001b[0mlast_unique\u001b[0m\u001b[0;34m,\u001b[0m \u001b[0mrecursion_repeat\u001b[0m\u001b[0;34m)\u001b[0m\u001b[0;34m\u001b[0m\u001b[0;34m\u001b[0m\u001b[0m\n",
      "\u001b[0;32m~/data_projects/otago_norm_learning/mcmc/venv/lib/python3.8/site-packages/IPython/core/ultratb.py\u001b[0m in \u001b[0;36mfind_recursion\u001b[0;34m(etype, value, records)\u001b[0m\n\u001b[1;32m    449\u001b[0m     \u001b[0;31m# first frame (from in to out) that looks different.\u001b[0m\u001b[0;34m\u001b[0m\u001b[0;34m\u001b[0m\u001b[0;34m\u001b[0m\u001b[0m\n\u001b[1;32m    450\u001b[0m     \u001b[0;32mif\u001b[0m \u001b[0;32mnot\u001b[0m \u001b[0mis_recursion_error\u001b[0m\u001b[0;34m(\u001b[0m\u001b[0metype\u001b[0m\u001b[0;34m,\u001b[0m \u001b[0mvalue\u001b[0m\u001b[0;34m,\u001b[0m \u001b[0mrecords\u001b[0m\u001b[0;34m)\u001b[0m\u001b[0;34m:\u001b[0m\u001b[0;34m\u001b[0m\u001b[0;34m\u001b[0m\u001b[0m\n\u001b[0;32m--> 451\u001b[0;31m         \u001b[0;32mreturn\u001b[0m \u001b[0mlen\u001b[0m\u001b[0;34m(\u001b[0m\u001b[0mrecords\u001b[0m\u001b[0;34m)\u001b[0m\u001b[0;34m,\u001b[0m \u001b[0;36m0\u001b[0m\u001b[0;34m\u001b[0m\u001b[0;34m\u001b[0m\u001b[0m\n\u001b[0m\u001b[1;32m    452\u001b[0m \u001b[0;34m\u001b[0m\u001b[0m\n\u001b[1;32m    453\u001b[0m     \u001b[0;31m# Select filename, lineno, func_name to track frames with\u001b[0m\u001b[0;34m\u001b[0m\u001b[0;34m\u001b[0m\u001b[0;34m\u001b[0m\u001b[0m\n",
      "\u001b[0;31mTypeError\u001b[0m: object of type 'NoneType' has no len()"
     ]
    }
   ],
   "source": [
    "#part_a\n",
    "import time\n",
    "for trial in [2,3]:\n",
    "    for w_nc in tqdm([0.25,0.3,0.35,0.4],\"Loop Over diff w_nc\"):\n",
    "        exp_dir_name=exp_pattern.format(w_nc,trial)\n",
    "        with io.capture_output() as exp_log:\n",
    "            !python ../scripts/nc_experiments.py -exp $exp_dir_name -w_nc $w_nc  -n_threads 6\n",
    "        write_log(exp_log.stdout,\"../data_nc/{}/run.log\".format(exp_dir_name))\n",
    "        time.sleep(50)"
   ]
  },
  {
   "cell_type": "code",
   "execution_count": 6,
   "metadata": {},
   "outputs": [
    {
     "data": {
      "application/vnd.jupyter.widget-view+json": {
       "model_id": "13ffeab84d5f4c28ac11dfe7905fbb74",
       "version_major": 2,
       "version_minor": 0
      },
      "text/plain": [
       "HBox(children=(HTML(value='Loop Over diff w_nc'), FloatProgress(value=0.0, max=3.0), HTML(value='')))"
      ]
     },
     "metadata": {},
     "output_type": "display_data"
    },
    {
     "name": "stdout",
     "output_type": "stream",
     "text": [
      "\n"
     ]
    }
   ],
   "source": [
    "#part_a\n",
    "import time\n",
    "for trial in [3]:\n",
    "    for w_nc in tqdm([0.3,0.35,0.4],\"Loop Over diff w_nc\"):\n",
    "        exp_dir_name=exp_pattern.format(w_nc,trial)\n",
    "        with io.capture_output() as exp_log:\n",
    "            !python ../scripts/nc_experiments.py -exp $exp_dir_name -w_nc $w_nc  -n_threads 6\n",
    "        write_log(exp_log.stdout,\"../data_nc/{}/run.log\".format(exp_dir_name))\n",
    "        time.sleep(50)"
   ]
  },
  {
   "cell_type": "markdown",
   "metadata": {},
   "source": [
    "## Analysis\n",
    "### 1. True Norm log_posterior for diff w_nc"
   ]
  },
  {
   "cell_type": "code",
   "execution_count": 50,
   "metadata": {},
   "outputs": [
    {
     "name": "stdout",
     "output_type": "stream",
     "text": [
      "For w_nc=0.0:\n",
      "['For True Norm, prior=8.930612711476907e-07, log_prior=-13.928610645716274']\n",
      "['lik_no_norm=-8788.898309344846,lik_true_norm=-8122.392933337214']\n",
      "\n",
      "For w_nc=0.05:\n",
      "['For True Norm, prior=8.930612711476907e-07, log_prior=-13.928610645716274']\n",
      "['lik_no_norm=-8788.898309344846,lik_true_norm=-8292.509943204042']\n",
      "\n",
      "For w_nc=0.1:\n",
      "['For True Norm, prior=8.930612711476907e-07, log_prior=-13.928610645716274']\n",
      "['lik_no_norm=-8788.898309344846,lik_true_norm=-8302.686171099069']\n",
      "\n",
      "For w_nc=0.15:\n",
      "['For True Norm, prior=8.930612711476907e-07, log_prior=-13.928610645716274']\n",
      "['lik_no_norm=-8788.898309344846,lik_true_norm=-8220.790333835605']\n",
      "\n",
      "For w_nc=0.2:\n",
      "['For True Norm, prior=8.930612711476907e-07, log_prior=-13.928610645716274']\n",
      "['lik_no_norm=-8788.898309344846,lik_true_norm=-8523.969913215415']\n",
      "\n",
      "For w_nc=0.25:\n",
      "['For True Norm, prior=8.930612711476907e-07, log_prior=-13.928610645716274']\n",
      "['lik_no_norm=-8788.898309344846,lik_true_norm=-8272.482187770502']\n",
      "\n",
      "For w_nc=0.3:\n",
      "['grep: ../data_nc/exp_nc3/w_nc=0.3/run.log: No such file or directory']\n",
      "['grep: ../data_nc/exp_nc3/w_nc=0.3/run.log: No such file or directory']\n",
      "\n",
      "For w_nc=0.35:\n",
      "['grep: ../data_nc/exp_nc3/w_nc=0.35/run.log: No such file or directory']\n",
      "['grep: ../data_nc/exp_nc3/w_nc=0.35/run.log: No such file or directory']\n",
      "\n",
      "For w_nc=0.4:\n",
      "['grep: ../data_nc/exp_nc3/w_nc=0.4/run.log: No such file or directory']\n",
      "['grep: ../data_nc/exp_nc3/w_nc=0.4/run.log: No such file or directory']\n",
      "\n"
     ]
    }
   ],
   "source": [
    "for w_nc in w_nc_list:\n",
    "    exp_dir_name=exp_pattern.format(w_nc)\n",
    "    prior_out=!grep \"For True Norm\" ../data_nc/{exp_dir_name}/run.log\n",
    "    post_out=!grep \"lik_no_norm\" ../data_nc/{exp_dir_name}/run.log\n",
    "    print (f\"For w_nc={w_nc}:\")\n",
    "    print (prior_out)\n",
    "    print (post_out)\n",
    "    print()"
   ]
  },
  {
   "cell_type": "markdown",
   "metadata": {},
   "source": [
    "### 2. True Norm atleast mentioned in any chains, for diff w_nc"
   ]
  },
  {
   "cell_type": "code",
   "execution_count": 51,
   "metadata": {},
   "outputs": [
    {
     "name": "stdout",
     "output_type": "stream",
     "text": [
      "For w_nc=0.0, True Norm found=['True norm in some chain(s): True']\n",
      "For w_nc=0.05, True Norm found=['True norm in some chain(s): True']\n",
      "For w_nc=0.1, True Norm found=['True norm in some chain(s): True']\n",
      "For w_nc=0.15, True Norm found=['True norm in some chain(s): True']\n",
      "For w_nc=0.2, True Norm found=['True norm in some chain(s): False']\n",
      "For w_nc=0.25, True Norm found=['True norm in some chain(s): True']\n",
      "For w_nc=0.3, True Norm found=['grep: ../data_nc/exp_nc3/w_nc=0.3/chain_info.txt: No such file or directory']\n",
      "For w_nc=0.35, True Norm found=['grep: ../data_nc/exp_nc3/w_nc=0.35/chain_info.txt: No such file or directory']\n",
      "For w_nc=0.4, True Norm found=['grep: ../data_nc/exp_nc3/w_nc=0.4/chain_info.txt: No such file or directory']\n"
     ]
    }
   ],
   "source": [
    "for w_nc in w_nc_list:\n",
    "    exp_dir_name=exp_pattern.format(w_nc)\n",
    "    out=!grep \"True norm in some chain(s)\" ../data_nc/{exp_dir_name}/chain_info.txt\n",
    "    print (f\"For w_nc={w_nc}, True Norm found={out}\")"
   ]
  },
  {
   "cell_type": "markdown",
   "metadata": {},
   "source": [
    "### 3. Rank of True Norm as per log_post, iff it was found"
   ]
  },
  {
   "cell_type": "code",
   "execution_count": 52,
   "metadata": {},
   "outputs": [],
   "source": [
    "with open(\"../params_nc.yaml\", 'r') as fd:\n",
    "    params = yaml.safe_load(fd)\n",
    "true_norm=to_tuple(params['true_norm']['exp'])"
   ]
  },
  {
   "cell_type": "code",
   "execution_count": 54,
   "metadata": {},
   "outputs": [
    {
     "name": "stdout",
     "output_type": "stream",
     "text": [
      "For w_nc=0.0, True Norm rank=1.0,wi posterior=-8136.321543982931\n",
      "For w_nc=0.05, True Norm rank=1.0,wi posterior=-8306.438553849759\n",
      "For w_nc=0.1, True Norm rank=1.0,wi posterior=-8316.614781744785\n",
      "For w_nc=0.15, True Norm rank=1.0,wi posterior=-8234.718944481321\n",
      "For w_nc=0.25, True Norm rank=1.0,wi posterior=-8286.410798416218\n"
     ]
    },
    {
     "ename": "FileNotFoundError",
     "evalue": "[Errno 2] No such file or directory: '../data_nc/exp_nc3/w_nc=0.3/ranked_posteriors.csv'",
     "output_type": "error",
     "traceback": [
      "\u001b[0;31m---------------------------------------------------------------------------\u001b[0m",
      "\u001b[0;31mFileNotFoundError\u001b[0m                         Traceback (most recent call last)",
      "\u001b[0;32m<ipython-input-54-848f77538b1a>\u001b[0m in \u001b[0;36m<module>\u001b[0;34m\u001b[0m\n\u001b[1;32m      1\u001b[0m \u001b[0;32mfor\u001b[0m \u001b[0mw_nc\u001b[0m \u001b[0;32min\u001b[0m \u001b[0mw_nc_list\u001b[0m\u001b[0;34m:\u001b[0m\u001b[0;34m\u001b[0m\u001b[0;34m\u001b[0m\u001b[0m\n\u001b[1;32m      2\u001b[0m     \u001b[0mexp_dir_name\u001b[0m\u001b[0;34m=\u001b[0m\u001b[0mexp_pattern\u001b[0m\u001b[0;34m.\u001b[0m\u001b[0mformat\u001b[0m\u001b[0;34m(\u001b[0m\u001b[0mw_nc\u001b[0m\u001b[0;34m)\u001b[0m\u001b[0;34m\u001b[0m\u001b[0;34m\u001b[0m\u001b[0m\n\u001b[0;32m----> 3\u001b[0;31m     \u001b[0mrank_df\u001b[0m\u001b[0;34m=\u001b[0m\u001b[0mpd\u001b[0m\u001b[0;34m.\u001b[0m\u001b[0mread_csv\u001b[0m\u001b[0;34m(\u001b[0m\u001b[0;34mf\"../data_nc/{exp_dir_name}/ranked_posteriors.csv\"\u001b[0m\u001b[0;34m,\u001b[0m\u001b[0mindex_col\u001b[0m\u001b[0;34m=\u001b[0m\u001b[0;32mFalse\u001b[0m\u001b[0;34m)\u001b[0m\u001b[0;34m\u001b[0m\u001b[0;34m\u001b[0m\u001b[0m\n\u001b[0m\u001b[1;32m      4\u001b[0m     \u001b[0mrank_post\u001b[0m\u001b[0;34m=\u001b[0m\u001b[0mrank_df\u001b[0m\u001b[0;34m.\u001b[0m\u001b[0mloc\u001b[0m\u001b[0;34m[\u001b[0m\u001b[0mrank_df\u001b[0m\u001b[0;34m.\u001b[0m\u001b[0mexpression\u001b[0m\u001b[0;34m==\u001b[0m\u001b[0mstr\u001b[0m\u001b[0;34m(\u001b[0m\u001b[0mtrue_norm\u001b[0m\u001b[0;34m)\u001b[0m\u001b[0;34m]\u001b[0m\u001b[0;34m[\u001b[0m\u001b[0;34m[\u001b[0m\u001b[0;34m\"post_rank\"\u001b[0m\u001b[0;34m,\u001b[0m\u001b[0;34m\"log_posterior\"\u001b[0m\u001b[0;34m]\u001b[0m\u001b[0;34m]\u001b[0m\u001b[0;34m.\u001b[0m\u001b[0mvalues\u001b[0m\u001b[0;34m\u001b[0m\u001b[0;34m\u001b[0m\u001b[0m\n\u001b[1;32m      5\u001b[0m     \u001b[0;32mif\u001b[0m \u001b[0mrank_post\u001b[0m\u001b[0;34m.\u001b[0m\u001b[0mshape\u001b[0m\u001b[0;34m[\u001b[0m\u001b[0;36m0\u001b[0m\u001b[0;34m]\u001b[0m\u001b[0;34m==\u001b[0m\u001b[0;36m1\u001b[0m\u001b[0;34m:\u001b[0m\u001b[0;34m\u001b[0m\u001b[0;34m\u001b[0m\u001b[0m\n",
      "\u001b[0;32m~/data_projects/otago_norm_learning/mcmc/venv/lib/python3.8/site-packages/pandas/io/parsers.py\u001b[0m in \u001b[0;36mread_csv\u001b[0;34m(filepath_or_buffer, sep, delimiter, header, names, index_col, usecols, squeeze, prefix, mangle_dupe_cols, dtype, engine, converters, true_values, false_values, skipinitialspace, skiprows, skipfooter, nrows, na_values, keep_default_na, na_filter, verbose, skip_blank_lines, parse_dates, infer_datetime_format, keep_date_col, date_parser, dayfirst, cache_dates, iterator, chunksize, compression, thousands, decimal, lineterminator, quotechar, quoting, doublequote, escapechar, comment, encoding, dialect, error_bad_lines, warn_bad_lines, delim_whitespace, low_memory, memory_map, float_precision)\u001b[0m\n\u001b[1;32m    686\u001b[0m     )\n\u001b[1;32m    687\u001b[0m \u001b[0;34m\u001b[0m\u001b[0m\n\u001b[0;32m--> 688\u001b[0;31m     \u001b[0;32mreturn\u001b[0m \u001b[0m_read\u001b[0m\u001b[0;34m(\u001b[0m\u001b[0mfilepath_or_buffer\u001b[0m\u001b[0;34m,\u001b[0m \u001b[0mkwds\u001b[0m\u001b[0;34m)\u001b[0m\u001b[0;34m\u001b[0m\u001b[0;34m\u001b[0m\u001b[0m\n\u001b[0m\u001b[1;32m    689\u001b[0m \u001b[0;34m\u001b[0m\u001b[0m\n\u001b[1;32m    690\u001b[0m \u001b[0;34m\u001b[0m\u001b[0m\n",
      "\u001b[0;32m~/data_projects/otago_norm_learning/mcmc/venv/lib/python3.8/site-packages/pandas/io/parsers.py\u001b[0m in \u001b[0;36m_read\u001b[0;34m(filepath_or_buffer, kwds)\u001b[0m\n\u001b[1;32m    452\u001b[0m \u001b[0;34m\u001b[0m\u001b[0m\n\u001b[1;32m    453\u001b[0m     \u001b[0;31m# Create the parser.\u001b[0m\u001b[0;34m\u001b[0m\u001b[0;34m\u001b[0m\u001b[0;34m\u001b[0m\u001b[0m\n\u001b[0;32m--> 454\u001b[0;31m     \u001b[0mparser\u001b[0m \u001b[0;34m=\u001b[0m \u001b[0mTextFileReader\u001b[0m\u001b[0;34m(\u001b[0m\u001b[0mfp_or_buf\u001b[0m\u001b[0;34m,\u001b[0m \u001b[0;34m**\u001b[0m\u001b[0mkwds\u001b[0m\u001b[0;34m)\u001b[0m\u001b[0;34m\u001b[0m\u001b[0;34m\u001b[0m\u001b[0m\n\u001b[0m\u001b[1;32m    455\u001b[0m \u001b[0;34m\u001b[0m\u001b[0m\n\u001b[1;32m    456\u001b[0m     \u001b[0;32mif\u001b[0m \u001b[0mchunksize\u001b[0m \u001b[0;32mor\u001b[0m \u001b[0miterator\u001b[0m\u001b[0;34m:\u001b[0m\u001b[0;34m\u001b[0m\u001b[0;34m\u001b[0m\u001b[0m\n",
      "\u001b[0;32m~/data_projects/otago_norm_learning/mcmc/venv/lib/python3.8/site-packages/pandas/io/parsers.py\u001b[0m in \u001b[0;36m__init__\u001b[0;34m(self, f, engine, **kwds)\u001b[0m\n\u001b[1;32m    946\u001b[0m             \u001b[0mself\u001b[0m\u001b[0;34m.\u001b[0m\u001b[0moptions\u001b[0m\u001b[0;34m[\u001b[0m\u001b[0;34m\"has_index_names\"\u001b[0m\u001b[0;34m]\u001b[0m \u001b[0;34m=\u001b[0m \u001b[0mkwds\u001b[0m\u001b[0;34m[\u001b[0m\u001b[0;34m\"has_index_names\"\u001b[0m\u001b[0;34m]\u001b[0m\u001b[0;34m\u001b[0m\u001b[0;34m\u001b[0m\u001b[0m\n\u001b[1;32m    947\u001b[0m \u001b[0;34m\u001b[0m\u001b[0m\n\u001b[0;32m--> 948\u001b[0;31m         \u001b[0mself\u001b[0m\u001b[0;34m.\u001b[0m\u001b[0m_make_engine\u001b[0m\u001b[0;34m(\u001b[0m\u001b[0mself\u001b[0m\u001b[0;34m.\u001b[0m\u001b[0mengine\u001b[0m\u001b[0;34m)\u001b[0m\u001b[0;34m\u001b[0m\u001b[0;34m\u001b[0m\u001b[0m\n\u001b[0m\u001b[1;32m    949\u001b[0m \u001b[0;34m\u001b[0m\u001b[0m\n\u001b[1;32m    950\u001b[0m     \u001b[0;32mdef\u001b[0m \u001b[0mclose\u001b[0m\u001b[0;34m(\u001b[0m\u001b[0mself\u001b[0m\u001b[0;34m)\u001b[0m\u001b[0;34m:\u001b[0m\u001b[0;34m\u001b[0m\u001b[0;34m\u001b[0m\u001b[0m\n",
      "\u001b[0;32m~/data_projects/otago_norm_learning/mcmc/venv/lib/python3.8/site-packages/pandas/io/parsers.py\u001b[0m in \u001b[0;36m_make_engine\u001b[0;34m(self, engine)\u001b[0m\n\u001b[1;32m   1178\u001b[0m     \u001b[0;32mdef\u001b[0m \u001b[0m_make_engine\u001b[0m\u001b[0;34m(\u001b[0m\u001b[0mself\u001b[0m\u001b[0;34m,\u001b[0m \u001b[0mengine\u001b[0m\u001b[0;34m=\u001b[0m\u001b[0;34m\"c\"\u001b[0m\u001b[0;34m)\u001b[0m\u001b[0;34m:\u001b[0m\u001b[0;34m\u001b[0m\u001b[0;34m\u001b[0m\u001b[0m\n\u001b[1;32m   1179\u001b[0m         \u001b[0;32mif\u001b[0m \u001b[0mengine\u001b[0m \u001b[0;34m==\u001b[0m \u001b[0;34m\"c\"\u001b[0m\u001b[0;34m:\u001b[0m\u001b[0;34m\u001b[0m\u001b[0;34m\u001b[0m\u001b[0m\n\u001b[0;32m-> 1180\u001b[0;31m             \u001b[0mself\u001b[0m\u001b[0;34m.\u001b[0m\u001b[0m_engine\u001b[0m \u001b[0;34m=\u001b[0m \u001b[0mCParserWrapper\u001b[0m\u001b[0;34m(\u001b[0m\u001b[0mself\u001b[0m\u001b[0;34m.\u001b[0m\u001b[0mf\u001b[0m\u001b[0;34m,\u001b[0m \u001b[0;34m**\u001b[0m\u001b[0mself\u001b[0m\u001b[0;34m.\u001b[0m\u001b[0moptions\u001b[0m\u001b[0;34m)\u001b[0m\u001b[0;34m\u001b[0m\u001b[0;34m\u001b[0m\u001b[0m\n\u001b[0m\u001b[1;32m   1181\u001b[0m         \u001b[0;32melse\u001b[0m\u001b[0;34m:\u001b[0m\u001b[0;34m\u001b[0m\u001b[0;34m\u001b[0m\u001b[0m\n\u001b[1;32m   1182\u001b[0m             \u001b[0;32mif\u001b[0m \u001b[0mengine\u001b[0m \u001b[0;34m==\u001b[0m \u001b[0;34m\"python\"\u001b[0m\u001b[0;34m:\u001b[0m\u001b[0;34m\u001b[0m\u001b[0;34m\u001b[0m\u001b[0m\n",
      "\u001b[0;32m~/data_projects/otago_norm_learning/mcmc/venv/lib/python3.8/site-packages/pandas/io/parsers.py\u001b[0m in \u001b[0;36m__init__\u001b[0;34m(self, src, **kwds)\u001b[0m\n\u001b[1;32m   2008\u001b[0m         \u001b[0mkwds\u001b[0m\u001b[0;34m[\u001b[0m\u001b[0;34m\"usecols\"\u001b[0m\u001b[0;34m]\u001b[0m \u001b[0;34m=\u001b[0m \u001b[0mself\u001b[0m\u001b[0;34m.\u001b[0m\u001b[0musecols\u001b[0m\u001b[0;34m\u001b[0m\u001b[0;34m\u001b[0m\u001b[0m\n\u001b[1;32m   2009\u001b[0m \u001b[0;34m\u001b[0m\u001b[0m\n\u001b[0;32m-> 2010\u001b[0;31m         \u001b[0mself\u001b[0m\u001b[0;34m.\u001b[0m\u001b[0m_reader\u001b[0m \u001b[0;34m=\u001b[0m \u001b[0mparsers\u001b[0m\u001b[0;34m.\u001b[0m\u001b[0mTextReader\u001b[0m\u001b[0;34m(\u001b[0m\u001b[0msrc\u001b[0m\u001b[0;34m,\u001b[0m \u001b[0;34m**\u001b[0m\u001b[0mkwds\u001b[0m\u001b[0;34m)\u001b[0m\u001b[0;34m\u001b[0m\u001b[0;34m\u001b[0m\u001b[0m\n\u001b[0m\u001b[1;32m   2011\u001b[0m         \u001b[0mself\u001b[0m\u001b[0;34m.\u001b[0m\u001b[0munnamed_cols\u001b[0m \u001b[0;34m=\u001b[0m \u001b[0mself\u001b[0m\u001b[0;34m.\u001b[0m\u001b[0m_reader\u001b[0m\u001b[0;34m.\u001b[0m\u001b[0munnamed_cols\u001b[0m\u001b[0;34m\u001b[0m\u001b[0;34m\u001b[0m\u001b[0m\n\u001b[1;32m   2012\u001b[0m \u001b[0;34m\u001b[0m\u001b[0m\n",
      "\u001b[0;32mpandas/_libs/parsers.pyx\u001b[0m in \u001b[0;36mpandas._libs.parsers.TextReader.__cinit__\u001b[0;34m()\u001b[0m\n",
      "\u001b[0;32mpandas/_libs/parsers.pyx\u001b[0m in \u001b[0;36mpandas._libs.parsers.TextReader._setup_parser_source\u001b[0;34m()\u001b[0m\n",
      "\u001b[0;31mFileNotFoundError\u001b[0m: [Errno 2] No such file or directory: '../data_nc/exp_nc3/w_nc=0.3/ranked_posteriors.csv'"
     ]
    }
   ],
   "source": [
    "for w_nc in w_nc_list:\n",
    "    exp_dir_name=exp_pattern.format(w_nc)\n",
    "    rank_df=pd.read_csv(f\"../data_nc/{exp_dir_name}/ranked_posteriors.csv\",index_col=False)\n",
    "    rank_post=rank_df.loc[rank_df.expression==str(true_norm)][[\"post_rank\",\"log_posterior\"]].values\n",
    "    if rank_post.shape[0]==1:\n",
    "        print (f\"For w_nc={w_nc}, True Norm rank={rank_post[0][0]},wi posterior={rank_post[0][1]}\")"
   ]
  },
  {
   "cell_type": "markdown",
   "metadata": {},
   "source": [
    "#### ==> True Norm always has highest posterior, when its found,\n",
    "confirm if it is in one chain, or multiple"
   ]
  },
  {
   "cell_type": "markdown",
   "metadata": {},
   "source": [
    "### 4. In how many chains, max post crosses post(true_norm)"
   ]
  },
  {
   "cell_type": "code",
   "execution_count": 20,
   "metadata": {},
   "outputs": [],
   "source": [
    "stacked=pd.DataFrame()\n",
    "for w_nc in w_nc_list:\n",
    "    exp_dir_name=\"exp_nc2/w_nc={}\".format(w_nc)\n",
    "    result = pd.read_csv(f\"../data_nc/{exp_dir_name}/chain_posteriors_nc.csv\")\n",
    "    result[\"w_nc\"] = w_nc\n",
    "    stacked=stacked.append(result)"
   ]
  },
  {
   "cell_type": "code",
   "execution_count": 21,
   "metadata": {},
   "outputs": [],
   "source": [
    "grouped=stacked.groupby([\"w_nc\",\"chain_number\"])[[\"log_posterior\"]].agg(['min', 'max', 'mean', 'std'])"
   ]
  },
  {
   "cell_type": "code",
   "execution_count": 29,
   "metadata": {},
   "outputs": [],
   "source": [
    "true_post={\n",
    "    \"a\":-25177,\"b\":-25782,\\\n",
    "    \"c\":1,\"d\":-25773,\\\n",
    "    \"e\":-25884,\"f\":1\n",
    "}"
   ]
  },
  {
   "cell_type": "code",
   "execution_count": 30,
   "metadata": {},
   "outputs": [],
   "source": [
    "grouped[\"w_nc\"]=[x[0] for x in grouped.index]\n",
    "grouped[\"key\"]=np.where(grouped[\"w_nc\"]==0.0,\"a\",\\\n",
    "                        np.where(grouped[\"w_nc\"]==0.05,\"b\",\\\n",
    "                                np.where(grouped[\"w_nc\"]==0.1,\"c\",\\\n",
    "                                        np.where(grouped[\"w_nc\"]==0.15,\"d\",\\\n",
    "                                                np.where(grouped[\"w_nc\"]==0.2,\"e\",\"f\")\\\n",
    "                                                )\\\n",
    "                                        )\\\n",
    "                                )\\\n",
    "                        )"
   ]
  },
  {
   "cell_type": "code",
   "execution_count": 31,
   "metadata": {},
   "outputs": [
    {
     "data": {
      "text/html": [
       "<style  type=\"text/css\" >\n",
       "#T_e36fd6f6_530d_11eb_a27f_acde48001122row0_col0,#T_e36fd6f6_530d_11eb_a27f_acde48001122row0_col1,#T_e36fd6f6_530d_11eb_a27f_acde48001122row0_col2,#T_e36fd6f6_530d_11eb_a27f_acde48001122row0_col3,#T_e36fd6f6_530d_11eb_a27f_acde48001122row0_col4,#T_e36fd6f6_530d_11eb_a27f_acde48001122row0_col5,#T_e36fd6f6_530d_11eb_a27f_acde48001122row2_col0,#T_e36fd6f6_530d_11eb_a27f_acde48001122row2_col1,#T_e36fd6f6_530d_11eb_a27f_acde48001122row2_col2,#T_e36fd6f6_530d_11eb_a27f_acde48001122row2_col3,#T_e36fd6f6_530d_11eb_a27f_acde48001122row2_col4,#T_e36fd6f6_530d_11eb_a27f_acde48001122row2_col5,#T_e36fd6f6_530d_11eb_a27f_acde48001122row6_col0,#T_e36fd6f6_530d_11eb_a27f_acde48001122row6_col1,#T_e36fd6f6_530d_11eb_a27f_acde48001122row6_col2,#T_e36fd6f6_530d_11eb_a27f_acde48001122row6_col3,#T_e36fd6f6_530d_11eb_a27f_acde48001122row6_col4,#T_e36fd6f6_530d_11eb_a27f_acde48001122row6_col5,#T_e36fd6f6_530d_11eb_a27f_acde48001122row7_col0,#T_e36fd6f6_530d_11eb_a27f_acde48001122row7_col1,#T_e36fd6f6_530d_11eb_a27f_acde48001122row7_col2,#T_e36fd6f6_530d_11eb_a27f_acde48001122row7_col3,#T_e36fd6f6_530d_11eb_a27f_acde48001122row7_col4,#T_e36fd6f6_530d_11eb_a27f_acde48001122row7_col5,#T_e36fd6f6_530d_11eb_a27f_acde48001122row16_col0,#T_e36fd6f6_530d_11eb_a27f_acde48001122row16_col1,#T_e36fd6f6_530d_11eb_a27f_acde48001122row16_col2,#T_e36fd6f6_530d_11eb_a27f_acde48001122row16_col3,#T_e36fd6f6_530d_11eb_a27f_acde48001122row16_col4,#T_e36fd6f6_530d_11eb_a27f_acde48001122row16_col5,#T_e36fd6f6_530d_11eb_a27f_acde48001122row18_col0,#T_e36fd6f6_530d_11eb_a27f_acde48001122row18_col1,#T_e36fd6f6_530d_11eb_a27f_acde48001122row18_col2,#T_e36fd6f6_530d_11eb_a27f_acde48001122row18_col3,#T_e36fd6f6_530d_11eb_a27f_acde48001122row18_col4,#T_e36fd6f6_530d_11eb_a27f_acde48001122row18_col5,#T_e36fd6f6_530d_11eb_a27f_acde48001122row22_col0,#T_e36fd6f6_530d_11eb_a27f_acde48001122row22_col1,#T_e36fd6f6_530d_11eb_a27f_acde48001122row22_col2,#T_e36fd6f6_530d_11eb_a27f_acde48001122row22_col3,#T_e36fd6f6_530d_11eb_a27f_acde48001122row22_col4,#T_e36fd6f6_530d_11eb_a27f_acde48001122row22_col5,#T_e36fd6f6_530d_11eb_a27f_acde48001122row24_col0,#T_e36fd6f6_530d_11eb_a27f_acde48001122row24_col1,#T_e36fd6f6_530d_11eb_a27f_acde48001122row24_col2,#T_e36fd6f6_530d_11eb_a27f_acde48001122row24_col3,#T_e36fd6f6_530d_11eb_a27f_acde48001122row24_col4,#T_e36fd6f6_530d_11eb_a27f_acde48001122row24_col5{\n",
       "            background:  lightgreen;\n",
       "        }</style><table id=\"T_e36fd6f6_530d_11eb_a27f_acde48001122\" ><thead>    <tr>        <th class=\"blank\" ></th>        <th class=\"blank level0\" ></th>        <th class=\"col_heading level0 col0\" colspan=4>log_posterior</th>        <th class=\"col_heading level0 col4\" >w_nc</th>        <th class=\"col_heading level0 col5\" >key</th>    </tr>    <tr>        <th class=\"blank\" ></th>        <th class=\"blank level1\" ></th>        <th class=\"col_heading level1 col0\" >min</th>        <th class=\"col_heading level1 col1\" >max</th>        <th class=\"col_heading level1 col2\" >mean</th>        <th class=\"col_heading level1 col3\" >std</th>        <th class=\"col_heading level1 col4\" ></th>        <th class=\"col_heading level1 col5\" ></th>    </tr>    <tr>        <th class=\"index_name level0\" >w_nc</th>        <th class=\"index_name level1\" >chain_number</th>        <th class=\"blank\" ></th>        <th class=\"blank\" ></th>        <th class=\"blank\" ></th>        <th class=\"blank\" ></th>        <th class=\"blank\" ></th>        <th class=\"blank\" ></th>    </tr></thead><tbody>\n",
       "                <tr>\n",
       "                        <th id=\"T_e36fd6f6_530d_11eb_a27f_acde48001122level0_row0\" class=\"row_heading level0 row0\" rowspan=5>0.0</th>\n",
       "                        <th id=\"T_e36fd6f6_530d_11eb_a27f_acde48001122level1_row0\" class=\"row_heading level1 row0\" >0</th>\n",
       "                        <td id=\"T_e36fd6f6_530d_11eb_a27f_acde48001122row0_col0\" class=\"data row0 col0\" >-26786.586837</td>\n",
       "                        <td id=\"T_e36fd6f6_530d_11eb_a27f_acde48001122row0_col1\" class=\"data row0 col1\" >-25176.704951</td>\n",
       "                        <td id=\"T_e36fd6f6_530d_11eb_a27f_acde48001122row0_col2\" class=\"data row0 col2\" >-25434.017078</td>\n",
       "                        <td id=\"T_e36fd6f6_530d_11eb_a27f_acde48001122row0_col3\" class=\"data row0 col3\" >584.183858</td>\n",
       "                        <td id=\"T_e36fd6f6_530d_11eb_a27f_acde48001122row0_col4\" class=\"data row0 col4\" >0.000000</td>\n",
       "                        <td id=\"T_e36fd6f6_530d_11eb_a27f_acde48001122row0_col5\" class=\"data row0 col5\" >a</td>\n",
       "            </tr>\n",
       "            <tr>\n",
       "                                <th id=\"T_e36fd6f6_530d_11eb_a27f_acde48001122level1_row1\" class=\"row_heading level1 row1\" >1</th>\n",
       "                        <td id=\"T_e36fd6f6_530d_11eb_a27f_acde48001122row1_col0\" class=\"data row1 col0\" >-26852.759978</td>\n",
       "                        <td id=\"T_e36fd6f6_530d_11eb_a27f_acde48001122row1_col1\" class=\"data row1 col1\" >-26772.561281</td>\n",
       "                        <td id=\"T_e36fd6f6_530d_11eb_a27f_acde48001122row1_col2\" class=\"data row1 col2\" >-26774.062901</td>\n",
       "                        <td id=\"T_e36fd6f6_530d_11eb_a27f_acde48001122row1_col3\" class=\"data row1 col3\" >7.004465</td>\n",
       "                        <td id=\"T_e36fd6f6_530d_11eb_a27f_acde48001122row1_col4\" class=\"data row1 col4\" >0.000000</td>\n",
       "                        <td id=\"T_e36fd6f6_530d_11eb_a27f_acde48001122row1_col5\" class=\"data row1 col5\" >a</td>\n",
       "            </tr>\n",
       "            <tr>\n",
       "                                <th id=\"T_e36fd6f6_530d_11eb_a27f_acde48001122level1_row2\" class=\"row_heading level1 row2\" >2</th>\n",
       "                        <td id=\"T_e36fd6f6_530d_11eb_a27f_acde48001122row2_col0\" class=\"data row2 col0\" >-26906.229257</td>\n",
       "                        <td id=\"T_e36fd6f6_530d_11eb_a27f_acde48001122row2_col1\" class=\"data row2 col1\" >-25176.704951</td>\n",
       "                        <td id=\"T_e36fd6f6_530d_11eb_a27f_acde48001122row2_col2\" class=\"data row2 col2\" >-25229.315524</td>\n",
       "                        <td id=\"T_e36fd6f6_530d_11eb_a27f_acde48001122row2_col3\" class=\"data row2 col3\" >221.172967</td>\n",
       "                        <td id=\"T_e36fd6f6_530d_11eb_a27f_acde48001122row2_col4\" class=\"data row2 col4\" >0.000000</td>\n",
       "                        <td id=\"T_e36fd6f6_530d_11eb_a27f_acde48001122row2_col5\" class=\"data row2 col5\" >a</td>\n",
       "            </tr>\n",
       "            <tr>\n",
       "                                <th id=\"T_e36fd6f6_530d_11eb_a27f_acde48001122level1_row3\" class=\"row_heading level1 row3\" >3</th>\n",
       "                        <td id=\"T_e36fd6f6_530d_11eb_a27f_acde48001122row3_col0\" class=\"data row3 col0\" >-26910.911388</td>\n",
       "                        <td id=\"T_e36fd6f6_530d_11eb_a27f_acde48001122row3_col1\" class=\"data row3 col1\" >-26542.237328</td>\n",
       "                        <td id=\"T_e36fd6f6_530d_11eb_a27f_acde48001122row3_col2\" class=\"data row3 col2\" >-26651.219298</td>\n",
       "                        <td id=\"T_e36fd6f6_530d_11eb_a27f_acde48001122row3_col3\" class=\"data row3 col3\" >121.939795</td>\n",
       "                        <td id=\"T_e36fd6f6_530d_11eb_a27f_acde48001122row3_col4\" class=\"data row3 col4\" >0.000000</td>\n",
       "                        <td id=\"T_e36fd6f6_530d_11eb_a27f_acde48001122row3_col5\" class=\"data row3 col5\" >a</td>\n",
       "            </tr>\n",
       "            <tr>\n",
       "                                <th id=\"T_e36fd6f6_530d_11eb_a27f_acde48001122level1_row4\" class=\"row_heading level1 row4\" >4</th>\n",
       "                        <td id=\"T_e36fd6f6_530d_11eb_a27f_acde48001122row4_col0\" class=\"data row4 col0\" >-26859.213031</td>\n",
       "                        <td id=\"T_e36fd6f6_530d_11eb_a27f_acde48001122row4_col1\" class=\"data row4 col1\" >-26772.945909</td>\n",
       "                        <td id=\"T_e36fd6f6_530d_11eb_a27f_acde48001122row4_col2\" class=\"data row4 col2\" >-26780.181968</td>\n",
       "                        <td id=\"T_e36fd6f6_530d_11eb_a27f_acde48001122row4_col3\" class=\"data row4 col3\" >15.674899</td>\n",
       "                        <td id=\"T_e36fd6f6_530d_11eb_a27f_acde48001122row4_col4\" class=\"data row4 col4\" >0.000000</td>\n",
       "                        <td id=\"T_e36fd6f6_530d_11eb_a27f_acde48001122row4_col5\" class=\"data row4 col5\" >a</td>\n",
       "            </tr>\n",
       "            <tr>\n",
       "                        <th id=\"T_e36fd6f6_530d_11eb_a27f_acde48001122level0_row5\" class=\"row_heading level0 row5\" rowspan=5>0.05</th>\n",
       "                        <th id=\"T_e36fd6f6_530d_11eb_a27f_acde48001122level1_row5\" class=\"row_heading level1 row5\" >0</th>\n",
       "                        <td id=\"T_e36fd6f6_530d_11eb_a27f_acde48001122row5_col0\" class=\"data row5 col0\" >-26864.764194</td>\n",
       "                        <td id=\"T_e36fd6f6_530d_11eb_a27f_acde48001122row5_col1\" class=\"data row5 col1\" >-26330.513616</td>\n",
       "                        <td id=\"T_e36fd6f6_530d_11eb_a27f_acde48001122row5_col2\" class=\"data row5 col2\" >-26394.297899</td>\n",
       "                        <td id=\"T_e36fd6f6_530d_11eb_a27f_acde48001122row5_col3\" class=\"data row5 col3\" >163.664495</td>\n",
       "                        <td id=\"T_e36fd6f6_530d_11eb_a27f_acde48001122row5_col4\" class=\"data row5 col4\" >0.050000</td>\n",
       "                        <td id=\"T_e36fd6f6_530d_11eb_a27f_acde48001122row5_col5\" class=\"data row5 col5\" >b</td>\n",
       "            </tr>\n",
       "            <tr>\n",
       "                                <th id=\"T_e36fd6f6_530d_11eb_a27f_acde48001122level1_row6\" class=\"row_heading level1 row6\" >1</th>\n",
       "                        <td id=\"T_e36fd6f6_530d_11eb_a27f_acde48001122row6_col0\" class=\"data row6 col0\" >-26862.279287</td>\n",
       "                        <td id=\"T_e36fd6f6_530d_11eb_a27f_acde48001122row6_col1\" class=\"data row6 col1\" >-25781.819948</td>\n",
       "                        <td id=\"T_e36fd6f6_530d_11eb_a27f_acde48001122row6_col2\" class=\"data row6 col2\" >-26110.746621</td>\n",
       "                        <td id=\"T_e36fd6f6_530d_11eb_a27f_acde48001122row6_col3\" class=\"data row6 col3\" >431.760696</td>\n",
       "                        <td id=\"T_e36fd6f6_530d_11eb_a27f_acde48001122row6_col4\" class=\"data row6 col4\" >0.050000</td>\n",
       "                        <td id=\"T_e36fd6f6_530d_11eb_a27f_acde48001122row6_col5\" class=\"data row6 col5\" >b</td>\n",
       "            </tr>\n",
       "            <tr>\n",
       "                                <th id=\"T_e36fd6f6_530d_11eb_a27f_acde48001122level1_row7\" class=\"row_heading level1 row7\" >2</th>\n",
       "                        <td id=\"T_e36fd6f6_530d_11eb_a27f_acde48001122row7_col0\" class=\"data row7 col0\" >-26797.195223</td>\n",
       "                        <td id=\"T_e36fd6f6_530d_11eb_a27f_acde48001122row7_col1\" class=\"data row7 col1\" >-25781.819948</td>\n",
       "                        <td id=\"T_e36fd6f6_530d_11eb_a27f_acde48001122row7_col2\" class=\"data row7 col2\" >-25902.095152</td>\n",
       "                        <td id=\"T_e36fd6f6_530d_11eb_a27f_acde48001122row7_col3\" class=\"data row7 col3\" >291.951113</td>\n",
       "                        <td id=\"T_e36fd6f6_530d_11eb_a27f_acde48001122row7_col4\" class=\"data row7 col4\" >0.050000</td>\n",
       "                        <td id=\"T_e36fd6f6_530d_11eb_a27f_acde48001122row7_col5\" class=\"data row7 col5\" >b</td>\n",
       "            </tr>\n",
       "            <tr>\n",
       "                                <th id=\"T_e36fd6f6_530d_11eb_a27f_acde48001122level1_row8\" class=\"row_heading level1 row8\" >3</th>\n",
       "                        <td id=\"T_e36fd6f6_530d_11eb_a27f_acde48001122row8_col0\" class=\"data row8 col0\" >-26859.388915</td>\n",
       "                        <td id=\"T_e36fd6f6_530d_11eb_a27f_acde48001122row8_col1\" class=\"data row8 col1\" >-26350.877680</td>\n",
       "                        <td id=\"T_e36fd6f6_530d_11eb_a27f_acde48001122row8_col2\" class=\"data row8 col2\" >-26620.659279</td>\n",
       "                        <td id=\"T_e36fd6f6_530d_11eb_a27f_acde48001122row8_col3\" class=\"data row8 col3\" >157.284233</td>\n",
       "                        <td id=\"T_e36fd6f6_530d_11eb_a27f_acde48001122row8_col4\" class=\"data row8 col4\" >0.050000</td>\n",
       "                        <td id=\"T_e36fd6f6_530d_11eb_a27f_acde48001122row8_col5\" class=\"data row8 col5\" >b</td>\n",
       "            </tr>\n",
       "            <tr>\n",
       "                                <th id=\"T_e36fd6f6_530d_11eb_a27f_acde48001122level1_row9\" class=\"row_heading level1 row9\" >4</th>\n",
       "                        <td id=\"T_e36fd6f6_530d_11eb_a27f_acde48001122row9_col0\" class=\"data row9 col0\" >-26863.377900</td>\n",
       "                        <td id=\"T_e36fd6f6_530d_11eb_a27f_acde48001122row9_col1\" class=\"data row9 col1\" >-26655.511829</td>\n",
       "                        <td id=\"T_e36fd6f6_530d_11eb_a27f_acde48001122row9_col2\" class=\"data row9 col2\" >-26668.567280</td>\n",
       "                        <td id=\"T_e36fd6f6_530d_11eb_a27f_acde48001122row9_col3\" class=\"data row9 col3\" >36.749601</td>\n",
       "                        <td id=\"T_e36fd6f6_530d_11eb_a27f_acde48001122row9_col4\" class=\"data row9 col4\" >0.050000</td>\n",
       "                        <td id=\"T_e36fd6f6_530d_11eb_a27f_acde48001122row9_col5\" class=\"data row9 col5\" >b</td>\n",
       "            </tr>\n",
       "            <tr>\n",
       "                        <th id=\"T_e36fd6f6_530d_11eb_a27f_acde48001122level0_row10\" class=\"row_heading level0 row10\" rowspan=5>0.1</th>\n",
       "                        <th id=\"T_e36fd6f6_530d_11eb_a27f_acde48001122level1_row10\" class=\"row_heading level1 row10\" >0</th>\n",
       "                        <td id=\"T_e36fd6f6_530d_11eb_a27f_acde48001122row10_col0\" class=\"data row10 col0\" >-26723.073868</td>\n",
       "                        <td id=\"T_e36fd6f6_530d_11eb_a27f_acde48001122row10_col1\" class=\"data row10 col1\" >-26206.018037</td>\n",
       "                        <td id=\"T_e36fd6f6_530d_11eb_a27f_acde48001122row10_col2\" class=\"data row10 col2\" >-26310.036033</td>\n",
       "                        <td id=\"T_e36fd6f6_530d_11eb_a27f_acde48001122row10_col3\" class=\"data row10 col3\" >189.467046</td>\n",
       "                        <td id=\"T_e36fd6f6_530d_11eb_a27f_acde48001122row10_col4\" class=\"data row10 col4\" >0.100000</td>\n",
       "                        <td id=\"T_e36fd6f6_530d_11eb_a27f_acde48001122row10_col5\" class=\"data row10 col5\" >c</td>\n",
       "            </tr>\n",
       "            <tr>\n",
       "                                <th id=\"T_e36fd6f6_530d_11eb_a27f_acde48001122level1_row11\" class=\"row_heading level1 row11\" >1</th>\n",
       "                        <td id=\"T_e36fd6f6_530d_11eb_a27f_acde48001122row11_col0\" class=\"data row11 col0\" >-26836.529006</td>\n",
       "                        <td id=\"T_e36fd6f6_530d_11eb_a27f_acde48001122row11_col1\" class=\"data row11 col1\" >-26619.210316</td>\n",
       "                        <td id=\"T_e36fd6f6_530d_11eb_a27f_acde48001122row11_col2\" class=\"data row11 col2\" >-26625.696118</td>\n",
       "                        <td id=\"T_e36fd6f6_530d_11eb_a27f_acde48001122row11_col3\" class=\"data row11 col3\" >31.747838</td>\n",
       "                        <td id=\"T_e36fd6f6_530d_11eb_a27f_acde48001122row11_col4\" class=\"data row11 col4\" >0.100000</td>\n",
       "                        <td id=\"T_e36fd6f6_530d_11eb_a27f_acde48001122row11_col5\" class=\"data row11 col5\" >c</td>\n",
       "            </tr>\n",
       "            <tr>\n",
       "                                <th id=\"T_e36fd6f6_530d_11eb_a27f_acde48001122level1_row12\" class=\"row_heading level1 row12\" >2</th>\n",
       "                        <td id=\"T_e36fd6f6_530d_11eb_a27f_acde48001122row12_col0\" class=\"data row12 col0\" >-26862.943920</td>\n",
       "                        <td id=\"T_e36fd6f6_530d_11eb_a27f_acde48001122row12_col1\" class=\"data row12 col1\" >-26206.018037</td>\n",
       "                        <td id=\"T_e36fd6f6_530d_11eb_a27f_acde48001122row12_col2\" class=\"data row12 col2\" >-26561.308973</td>\n",
       "                        <td id=\"T_e36fd6f6_530d_11eb_a27f_acde48001122row12_col3\" class=\"data row12 col3\" >234.241765</td>\n",
       "                        <td id=\"T_e36fd6f6_530d_11eb_a27f_acde48001122row12_col4\" class=\"data row12 col4\" >0.100000</td>\n",
       "                        <td id=\"T_e36fd6f6_530d_11eb_a27f_acde48001122row12_col5\" class=\"data row12 col5\" >c</td>\n",
       "            </tr>\n",
       "            <tr>\n",
       "                                <th id=\"T_e36fd6f6_530d_11eb_a27f_acde48001122level1_row13\" class=\"row_heading level1 row13\" >3</th>\n",
       "                        <td id=\"T_e36fd6f6_530d_11eb_a27f_acde48001122row13_col0\" class=\"data row13 col0\" >-26864.735680</td>\n",
       "                        <td id=\"T_e36fd6f6_530d_11eb_a27f_acde48001122row13_col1\" class=\"data row13 col1\" >-26392.178876</td>\n",
       "                        <td id=\"T_e36fd6f6_530d_11eb_a27f_acde48001122row13_col2\" class=\"data row13 col2\" >-26400.047076</td>\n",
       "                        <td id=\"T_e36fd6f6_530d_11eb_a27f_acde48001122row13_col3\" class=\"data row13 col3\" >33.264805</td>\n",
       "                        <td id=\"T_e36fd6f6_530d_11eb_a27f_acde48001122row13_col4\" class=\"data row13 col4\" >0.100000</td>\n",
       "                        <td id=\"T_e36fd6f6_530d_11eb_a27f_acde48001122row13_col5\" class=\"data row13 col5\" >c</td>\n",
       "            </tr>\n",
       "            <tr>\n",
       "                                <th id=\"T_e36fd6f6_530d_11eb_a27f_acde48001122level1_row14\" class=\"row_heading level1 row14\" >4</th>\n",
       "                        <td id=\"T_e36fd6f6_530d_11eb_a27f_acde48001122row14_col0\" class=\"data row14 col0\" >-26869.417811</td>\n",
       "                        <td id=\"T_e36fd6f6_530d_11eb_a27f_acde48001122row14_col1\" class=\"data row14 col1\" >-26392.178876</td>\n",
       "                        <td id=\"T_e36fd6f6_530d_11eb_a27f_acde48001122row14_col2\" class=\"data row14 col2\" >-26692.790342</td>\n",
       "                        <td id=\"T_e36fd6f6_530d_11eb_a27f_acde48001122row14_col3\" class=\"data row14 col3\" >87.962119</td>\n",
       "                        <td id=\"T_e36fd6f6_530d_11eb_a27f_acde48001122row14_col4\" class=\"data row14 col4\" >0.100000</td>\n",
       "                        <td id=\"T_e36fd6f6_530d_11eb_a27f_acde48001122row14_col5\" class=\"data row14 col5\" >c</td>\n",
       "            </tr>\n",
       "            <tr>\n",
       "                        <th id=\"T_e36fd6f6_530d_11eb_a27f_acde48001122level0_row15\" class=\"row_heading level0 row15\" rowspan=5>0.15</th>\n",
       "                        <th id=\"T_e36fd6f6_530d_11eb_a27f_acde48001122level1_row15\" class=\"row_heading level1 row15\" >0</th>\n",
       "                        <td id=\"T_e36fd6f6_530d_11eb_a27f_acde48001122row15_col0\" class=\"data row15 col0\" >-26869.478639</td>\n",
       "                        <td id=\"T_e36fd6f6_530d_11eb_a27f_acde48001122row15_col1\" class=\"data row15 col1\" >-26439.464372</td>\n",
       "                        <td id=\"T_e36fd6f6_530d_11eb_a27f_acde48001122row15_col2\" class=\"data row15 col2\" >-26471.639750</td>\n",
       "                        <td id=\"T_e36fd6f6_530d_11eb_a27f_acde48001122row15_col3\" class=\"data row15 col3\" >109.645794</td>\n",
       "                        <td id=\"T_e36fd6f6_530d_11eb_a27f_acde48001122row15_col4\" class=\"data row15 col4\" >0.150000</td>\n",
       "                        <td id=\"T_e36fd6f6_530d_11eb_a27f_acde48001122row15_col5\" class=\"data row15 col5\" >d</td>\n",
       "            </tr>\n",
       "            <tr>\n",
       "                                <th id=\"T_e36fd6f6_530d_11eb_a27f_acde48001122level1_row16\" class=\"row_heading level1 row16\" >1</th>\n",
       "                        <td id=\"T_e36fd6f6_530d_11eb_a27f_acde48001122row16_col0\" class=\"data row16 col0\" >-26633.523972</td>\n",
       "                        <td id=\"T_e36fd6f6_530d_11eb_a27f_acde48001122row16_col1\" class=\"data row16 col1\" >-25772.776412</td>\n",
       "                        <td id=\"T_e36fd6f6_530d_11eb_a27f_acde48001122row16_col2\" class=\"data row16 col2\" >-25825.625902</td>\n",
       "                        <td id=\"T_e36fd6f6_530d_11eb_a27f_acde48001122row16_col3\" class=\"data row16 col3\" >160.479678</td>\n",
       "                        <td id=\"T_e36fd6f6_530d_11eb_a27f_acde48001122row16_col4\" class=\"data row16 col4\" >0.150000</td>\n",
       "                        <td id=\"T_e36fd6f6_530d_11eb_a27f_acde48001122row16_col5\" class=\"data row16 col5\" >d</td>\n",
       "            </tr>\n",
       "            <tr>\n",
       "                                <th id=\"T_e36fd6f6_530d_11eb_a27f_acde48001122level1_row17\" class=\"row_heading level1 row17\" >2</th>\n",
       "                        <td id=\"T_e36fd6f6_530d_11eb_a27f_acde48001122row17_col0\" class=\"data row17 col0\" >-26864.391043</td>\n",
       "                        <td id=\"T_e36fd6f6_530d_11eb_a27f_acde48001122row17_col1\" class=\"data row17 col1\" >-26294.746163</td>\n",
       "                        <td id=\"T_e36fd6f6_530d_11eb_a27f_acde48001122row17_col2\" class=\"data row17 col2\" >-26698.138486</td>\n",
       "                        <td id=\"T_e36fd6f6_530d_11eb_a27f_acde48001122row17_col3\" class=\"data row17 col3\" >193.529704</td>\n",
       "                        <td id=\"T_e36fd6f6_530d_11eb_a27f_acde48001122row17_col4\" class=\"data row17 col4\" >0.150000</td>\n",
       "                        <td id=\"T_e36fd6f6_530d_11eb_a27f_acde48001122row17_col5\" class=\"data row17 col5\" >d</td>\n",
       "            </tr>\n",
       "            <tr>\n",
       "                                <th id=\"T_e36fd6f6_530d_11eb_a27f_acde48001122level1_row18\" class=\"row_heading level1 row18\" >3</th>\n",
       "                        <td id=\"T_e36fd6f6_530d_11eb_a27f_acde48001122row18_col0\" class=\"data row18 col0\" >-26897.227922</td>\n",
       "                        <td id=\"T_e36fd6f6_530d_11eb_a27f_acde48001122row18_col1\" class=\"data row18 col1\" >-25772.776412</td>\n",
       "                        <td id=\"T_e36fd6f6_530d_11eb_a27f_acde48001122row18_col2\" class=\"data row18 col2\" >-26204.999982</td>\n",
       "                        <td id=\"T_e36fd6f6_530d_11eb_a27f_acde48001122row18_col3\" class=\"data row18 col3\" >420.610291</td>\n",
       "                        <td id=\"T_e36fd6f6_530d_11eb_a27f_acde48001122row18_col4\" class=\"data row18 col4\" >0.150000</td>\n",
       "                        <td id=\"T_e36fd6f6_530d_11eb_a27f_acde48001122row18_col5\" class=\"data row18 col5\" >d</td>\n",
       "            </tr>\n",
       "            <tr>\n",
       "                                <th id=\"T_e36fd6f6_530d_11eb_a27f_acde48001122level1_row19\" class=\"row_heading level1 row19\" >4</th>\n",
       "                        <td id=\"T_e36fd6f6_530d_11eb_a27f_acde48001122row19_col0\" class=\"data row19 col0\" >-26864.391043</td>\n",
       "                        <td id=\"T_e36fd6f6_530d_11eb_a27f_acde48001122row19_col1\" class=\"data row19 col1\" >-26294.746163</td>\n",
       "                        <td id=\"T_e36fd6f6_530d_11eb_a27f_acde48001122row19_col2\" class=\"data row19 col2\" >-26690.791087</td>\n",
       "                        <td id=\"T_e36fd6f6_530d_11eb_a27f_acde48001122row19_col3\" class=\"data row19 col3\" >115.621375</td>\n",
       "                        <td id=\"T_e36fd6f6_530d_11eb_a27f_acde48001122row19_col4\" class=\"data row19 col4\" >0.150000</td>\n",
       "                        <td id=\"T_e36fd6f6_530d_11eb_a27f_acde48001122row19_col5\" class=\"data row19 col5\" >d</td>\n",
       "            </tr>\n",
       "            <tr>\n",
       "                        <th id=\"T_e36fd6f6_530d_11eb_a27f_acde48001122level0_row20\" class=\"row_heading level0 row20\" rowspan=5>0.2</th>\n",
       "                        <th id=\"T_e36fd6f6_530d_11eb_a27f_acde48001122level1_row20\" class=\"row_heading level1 row20\" >0</th>\n",
       "                        <td id=\"T_e36fd6f6_530d_11eb_a27f_acde48001122row20_col0\" class=\"data row20 col0\" >-26869.923238</td>\n",
       "                        <td id=\"T_e36fd6f6_530d_11eb_a27f_acde48001122row20_col1\" class=\"data row20 col1\" >-26767.543194</td>\n",
       "                        <td id=\"T_e36fd6f6_530d_11eb_a27f_acde48001122row20_col2\" class=\"data row20 col2\" >-26770.860427</td>\n",
       "                        <td id=\"T_e36fd6f6_530d_11eb_a27f_acde48001122row20_col3\" class=\"data row20 col3\" >16.696603</td>\n",
       "                        <td id=\"T_e36fd6f6_530d_11eb_a27f_acde48001122row20_col4\" class=\"data row20 col4\" >0.200000</td>\n",
       "                        <td id=\"T_e36fd6f6_530d_11eb_a27f_acde48001122row20_col5\" class=\"data row20 col5\" >e</td>\n",
       "            </tr>\n",
       "            <tr>\n",
       "                                <th id=\"T_e36fd6f6_530d_11eb_a27f_acde48001122level1_row21\" class=\"row_heading level1 row21\" >1</th>\n",
       "                        <td id=\"T_e36fd6f6_530d_11eb_a27f_acde48001122row21_col0\" class=\"data row21 col0\" >-26845.342921</td>\n",
       "                        <td id=\"T_e36fd6f6_530d_11eb_a27f_acde48001122row21_col1\" class=\"data row21 col1\" >-26623.739948</td>\n",
       "                        <td id=\"T_e36fd6f6_530d_11eb_a27f_acde48001122row21_col2\" class=\"data row21 col2\" >-26667.318525</td>\n",
       "                        <td id=\"T_e36fd6f6_530d_11eb_a27f_acde48001122row21_col3\" class=\"data row21 col3\" >79.675311</td>\n",
       "                        <td id=\"T_e36fd6f6_530d_11eb_a27f_acde48001122row21_col4\" class=\"data row21 col4\" >0.200000</td>\n",
       "                        <td id=\"T_e36fd6f6_530d_11eb_a27f_acde48001122row21_col5\" class=\"data row21 col5\" >e</td>\n",
       "            </tr>\n",
       "            <tr>\n",
       "                                <th id=\"T_e36fd6f6_530d_11eb_a27f_acde48001122level1_row22\" class=\"row_heading level1 row22\" >2</th>\n",
       "                        <td id=\"T_e36fd6f6_530d_11eb_a27f_acde48001122row22_col0\" class=\"data row22 col0\" >-26914.642277</td>\n",
       "                        <td id=\"T_e36fd6f6_530d_11eb_a27f_acde48001122row22_col1\" class=\"data row22 col1\" >-25883.433245</td>\n",
       "                        <td id=\"T_e36fd6f6_530d_11eb_a27f_acde48001122row22_col2\" class=\"data row22 col2\" >-26103.891209</td>\n",
       "                        <td id=\"T_e36fd6f6_530d_11eb_a27f_acde48001122row22_col3\" class=\"data row22 col3\" >390.336179</td>\n",
       "                        <td id=\"T_e36fd6f6_530d_11eb_a27f_acde48001122row22_col4\" class=\"data row22 col4\" >0.200000</td>\n",
       "                        <td id=\"T_e36fd6f6_530d_11eb_a27f_acde48001122row22_col5\" class=\"data row22 col5\" >e</td>\n",
       "            </tr>\n",
       "            <tr>\n",
       "                                <th id=\"T_e36fd6f6_530d_11eb_a27f_acde48001122level1_row23\" class=\"row_heading level1 row23\" >3</th>\n",
       "                        <td id=\"T_e36fd6f6_530d_11eb_a27f_acde48001122row23_col0\" class=\"data row23 col0\" >-26890.598158</td>\n",
       "                        <td id=\"T_e36fd6f6_530d_11eb_a27f_acde48001122row23_col1\" class=\"data row23 col1\" >-25993.578671</td>\n",
       "                        <td id=\"T_e36fd6f6_530d_11eb_a27f_acde48001122row23_col2\" class=\"data row23 col2\" >-26195.989939</td>\n",
       "                        <td id=\"T_e36fd6f6_530d_11eb_a27f_acde48001122row23_col3\" class=\"data row23 col3\" >337.563294</td>\n",
       "                        <td id=\"T_e36fd6f6_530d_11eb_a27f_acde48001122row23_col4\" class=\"data row23 col4\" >0.200000</td>\n",
       "                        <td id=\"T_e36fd6f6_530d_11eb_a27f_acde48001122row23_col5\" class=\"data row23 col5\" >e</td>\n",
       "            </tr>\n",
       "            <tr>\n",
       "                                <th id=\"T_e36fd6f6_530d_11eb_a27f_acde48001122level1_row24\" class=\"row_heading level1 row24\" >4</th>\n",
       "                        <td id=\"T_e36fd6f6_530d_11eb_a27f_acde48001122row24_col0\" class=\"data row24 col0\" >-26911.303641</td>\n",
       "                        <td id=\"T_e36fd6f6_530d_11eb_a27f_acde48001122row24_col1\" class=\"data row24 col1\" >-25883.433245</td>\n",
       "                        <td id=\"T_e36fd6f6_530d_11eb_a27f_acde48001122row24_col2\" class=\"data row24 col2\" >-25917.624288</td>\n",
       "                        <td id=\"T_e36fd6f6_530d_11eb_a27f_acde48001122row24_col3\" class=\"data row24 col3\" >167.827249</td>\n",
       "                        <td id=\"T_e36fd6f6_530d_11eb_a27f_acde48001122row24_col4\" class=\"data row24 col4\" >0.200000</td>\n",
       "                        <td id=\"T_e36fd6f6_530d_11eb_a27f_acde48001122row24_col5\" class=\"data row24 col5\" >e</td>\n",
       "            </tr>\n",
       "    </tbody></table>"
      ],
      "text/plain": [
       "<pandas.io.formats.style.Styler at 0x126279c10>"
      ]
     },
     "execution_count": 31,
     "metadata": {},
     "output_type": "execute_result"
    }
   ],
   "source": [
    "grouped.style.apply(lambda x: ['background: lightgreen' if x['log_posterior',  'max'] >=\\\n",
    "                               true_post[x[\"key\"].values.item()] else '' for i in x], \n",
    "               axis=1)"
   ]
  },
  {
   "cell_type": "markdown",
   "metadata": {},
   "source": [
    "### 5. If True Norm, features in Top Norms"
   ]
  },
  {
   "cell_type": "code",
   "execution_count": 32,
   "metadata": {},
   "outputs": [],
   "source": [
    "top_norms=stacked.groupby([\"w_nc\",\"expression\"]\\\n",
    "               )[[\"chain_number\",\"log_posterior\"\\\n",
    "                 ]].agg({\"log_posterior\":'mean',\"chain_number\":\"count\"}\\\n",
    "                       ).sort_values(by=[\"chain_number\"]\\\n",
    "                                    ).groupby([\"w_nc\"\\\n",
    "                                              ]).tail(20).sort_values(by=[\"w_nc\",\"chain_number\"],\\\n",
    "                                                                     ascending=[True, False])"
   ]
  },
  {
   "cell_type": "code",
   "execution_count": 33,
   "metadata": {},
   "outputs": [],
   "source": [
    "top_norms[\"grp_rnk\"]=top_norms.groupby(\"w_nc\")[[\"chain_number\"]].rank(method='dense',ascending=False)"
   ]
  },
  {
   "cell_type": "code",
   "execution_count": 34,
   "metadata": {},
   "outputs": [
    {
     "data": {
      "text/html": [
       "<style  type=\"text/css\" >\n",
       "#T_e7705d5c_530d_11eb_a27f_acde48001122row0_col0,#T_e7705d5c_530d_11eb_a27f_acde48001122row0_col1,#T_e7705d5c_530d_11eb_a27f_acde48001122row0_col2,#T_e7705d5c_530d_11eb_a27f_acde48001122row1_col0,#T_e7705d5c_530d_11eb_a27f_acde48001122row1_col1,#T_e7705d5c_530d_11eb_a27f_acde48001122row1_col2{\n",
       "            background:  lightgreen;\n",
       "        }</style><table id=\"T_e7705d5c_530d_11eb_a27f_acde48001122\" ><thead>    <tr>        <th class=\"blank level0\" ></th>        <th class=\"col_heading level0 col0\" >log_posterior</th>        <th class=\"col_heading level0 col1\" >chain_number</th>        <th class=\"col_heading level0 col2\" >grp_rnk</th>    </tr>    <tr>        <th class=\"index_name level0\" >expression</th>        <th class=\"blank\" ></th>        <th class=\"blank\" ></th>        <th class=\"blank\" ></th>    </tr></thead><tbody>\n",
       "                <tr>\n",
       "                        <th id=\"T_e7705d5c_530d_11eb_a27f_acde48001122level0_row0\" class=\"row_heading level0 row0\" >['Norms', ['Obl', ['Moved', ['Colour', 'any'], ['Shape', 'circle'], ['Zone', '1'], ['Next-Move', ['Colour', 'any'], ['Shape', 'any']]], ['Zone', '2']], ['Per', ['Action', 'putdown'], ['Colour', 'any'], ['Shape', 'square'], ['PerZone', '3']]]</th>\n",
       "                        <td id=\"T_e7705d5c_530d_11eb_a27f_acde48001122row0_col0\" class=\"data row0 col0\" >-25176.704951</td>\n",
       "                        <td id=\"T_e7705d5c_530d_11eb_a27f_acde48001122row0_col1\" class=\"data row0 col1\" >4745</td>\n",
       "                        <td id=\"T_e7705d5c_530d_11eb_a27f_acde48001122row0_col2\" class=\"data row0 col2\" >1.000000</td>\n",
       "            </tr>\n",
       "            <tr>\n",
       "                        <th id=\"T_e7705d5c_530d_11eb_a27f_acde48001122level0_row1\" class=\"row_heading level0 row1\" >['Norms', ['Obl', ['Moved', ['Colour', 'r'], ['Shape', 'any'], ['Zone', '1'], ['Next-Move', ['Colour', 'any'], ['Shape', 'any']]], ['Zone', '2']], ['Per', ['Action', 'putdown'], ['Colour', 'any'], ['Shape', 'square'], ['PerZone', '3']]]</th>\n",
       "                        <td id=\"T_e7705d5c_530d_11eb_a27f_acde48001122row1_col0\" class=\"data row1 col0\" >-25176.704951</td>\n",
       "                        <td id=\"T_e7705d5c_530d_11eb_a27f_acde48001122row1_col1\" class=\"data row1 col1\" >4285</td>\n",
       "                        <td id=\"T_e7705d5c_530d_11eb_a27f_acde48001122row1_col2\" class=\"data row1 col2\" >2.000000</td>\n",
       "            </tr>\n",
       "            <tr>\n",
       "                        <th id=\"T_e7705d5c_530d_11eb_a27f_acde48001122level0_row2\" class=\"row_heading level0 row2\" >['Norms', ['Obl', ['Moved', ['Colour', 'b'], ['Shape', 'any'], ['Zone', '3'], ['Moved', ['Colour', 'any'], ['Shape', 'any'], ['Zone', '3'], ['Next-Move', ['Colour', 'b'], ['Shape', 'any']]]], ['Zone', '3']], ['Per', ['Action', 'putdown'], ['Colour', 'any'], ['Shape', 'triangle'], ['PerZone', '2']]]</th>\n",
       "                        <td id=\"T_e7705d5c_530d_11eb_a27f_acde48001122row2_col0\" class=\"data row2 col0\" >-26772.561281</td>\n",
       "                        <td id=\"T_e7705d5c_530d_11eb_a27f_acde48001122row2_col1\" class=\"data row2 col1\" >2225</td>\n",
       "                        <td id=\"T_e7705d5c_530d_11eb_a27f_acde48001122row2_col2\" class=\"data row2 col2\" >3.000000</td>\n",
       "            </tr>\n",
       "            <tr>\n",
       "                        <th id=\"T_e7705d5c_530d_11eb_a27f_acde48001122level0_row3\" class=\"row_heading level0 row3\" >['Norm', ['Obl', ['Moved', ['Colour', 'any'], ['Shape', 'triangle'], ['Zone', '3'], ['Next-Move', ['Colour', 'g'], ['Shape', 'any']]], ['Zone', '1']]]</th>\n",
       "                        <td id=\"T_e7705d5c_530d_11eb_a27f_acde48001122row3_col0\" class=\"data row3 col0\" >-26542.237328</td>\n",
       "                        <td id=\"T_e7705d5c_530d_11eb_a27f_acde48001122row3_col1\" class=\"data row3 col1\" >1951</td>\n",
       "                        <td id=\"T_e7705d5c_530d_11eb_a27f_acde48001122row3_col2\" class=\"data row3 col2\" >4.000000</td>\n",
       "            </tr>\n",
       "            <tr>\n",
       "                        <th id=\"T_e7705d5c_530d_11eb_a27f_acde48001122level0_row4\" class=\"row_heading level0 row4\" >['Norms', ['Obl', ['Moved', ['Colour', 'r'], ['Shape', 'circle'], ['Zone', '1'], ['Next-Move', ['Colour', 'any'], ['Shape', 'any']]], ['Zone', '2']], ['Per', ['Action', 'putdown'], ['Colour', 'any'], ['Shape', 'square'], ['PerZone', '3']]]</th>\n",
       "                        <td id=\"T_e7705d5c_530d_11eb_a27f_acde48001122row4_col0\" class=\"data row4 col0\" >-25177.803563</td>\n",
       "                        <td id=\"T_e7705d5c_530d_11eb_a27f_acde48001122row4_col1\" class=\"data row4 col1\" >1604</td>\n",
       "                        <td id=\"T_e7705d5c_530d_11eb_a27f_acde48001122row4_col2\" class=\"data row4 col2\" >5.000000</td>\n",
       "            </tr>\n",
       "            <tr>\n",
       "                        <th id=\"T_e7705d5c_530d_11eb_a27f_acde48001122level0_row5\" class=\"row_heading level0 row5\" >['Norms', ['Obl', ['Moved', ['Colour', 'b'], ['Shape', 'any'], ['Zone', '3'], ['Moved', ['Colour', 'r'], ['Shape', 'any'], ['Zone', '3'], ['Next-Move', ['Colour', 'b'], ['Shape', 'any']]]], ['Zone', '3']], ['Per', ['Action', 'putdown'], ['Colour', 'any'], ['Shape', 'triangle'], ['PerZone', '2']]]</th>\n",
       "                        <td id=\"T_e7705d5c_530d_11eb_a27f_acde48001122row5_col0\" class=\"data row5 col0\" >-26773.659894</td>\n",
       "                        <td id=\"T_e7705d5c_530d_11eb_a27f_acde48001122row5_col1\" class=\"data row5 col1\" >1029</td>\n",
       "                        <td id=\"T_e7705d5c_530d_11eb_a27f_acde48001122row5_col2\" class=\"data row5 col2\" >6.000000</td>\n",
       "            </tr>\n",
       "            <tr>\n",
       "                        <th id=\"T_e7705d5c_530d_11eb_a27f_acde48001122level0_row6\" class=\"row_heading level0 row6\" >['Norms', ['Obl', ['Moved', ['Colour', 'b'], ['Shape', 'any'], ['Zone', '3'], ['Moved', ['Colour', 'any'], ['Shape', 'circle'], ['Zone', '3'], ['Next-Move', ['Colour', 'b'], ['Shape', 'any']]]], ['Zone', '3']], ['Per', ['Action', 'putdown'], ['Colour', 'any'], ['Shape', 'triangle'], ['PerZone', '2']]]</th>\n",
       "                        <td id=\"T_e7705d5c_530d_11eb_a27f_acde48001122row6_col0\" class=\"data row6 col0\" >-26773.659894</td>\n",
       "                        <td id=\"T_e7705d5c_530d_11eb_a27f_acde48001122row6_col1\" class=\"data row6 col1\" >898</td>\n",
       "                        <td id=\"T_e7705d5c_530d_11eb_a27f_acde48001122row6_col2\" class=\"data row6 col2\" >7.000000</td>\n",
       "            </tr>\n",
       "            <tr>\n",
       "                        <th id=\"T_e7705d5c_530d_11eb_a27f_acde48001122level0_row7\" class=\"row_heading level0 row7\" >['Norms', ['Obl', ['Moved', ['Colour', 'b'], ['Shape', 'any'], ['Zone', '3'], ['Moved', ['Colour', 'any'], ['Shape', 'any'], ['Zone', '3'], ['Next-Move', ['Colour', 'b'], ['Shape', 'any']]]], ['Zone', '3']], ['Per', ['Action', 'putdown'], ['Colour', 'b'], ['Shape', 'triangle'], ['PerZone', '2']]]</th>\n",
       "                        <td id=\"T_e7705d5c_530d_11eb_a27f_acde48001122row7_col0\" class=\"data row7 col0\" >-26773.659894</td>\n",
       "                        <td id=\"T_e7705d5c_530d_11eb_a27f_acde48001122row7_col1\" class=\"data row7 col1\" >842</td>\n",
       "                        <td id=\"T_e7705d5c_530d_11eb_a27f_acde48001122row7_col2\" class=\"data row7 col2\" >8.000000</td>\n",
       "            </tr>\n",
       "            <tr>\n",
       "                        <th id=\"T_e7705d5c_530d_11eb_a27f_acde48001122level0_row8\" class=\"row_heading level0 row8\" >['Norm', ['Obl', ['Moved', ['Colour', 'b'], ['Shape', 'any'], ['Zone', '1'], ['Next-Move', ['Colour', 'b'], ['Shape', 'square']]], ['Zone', '1']]]</th>\n",
       "                        <td id=\"T_e7705d5c_530d_11eb_a27f_acde48001122row8_col0\" class=\"data row8 col0\" >-26774.044521</td>\n",
       "                        <td id=\"T_e7705d5c_530d_11eb_a27f_acde48001122row8_col1\" class=\"data row8 col1\" >729</td>\n",
       "                        <td id=\"T_e7705d5c_530d_11eb_a27f_acde48001122row8_col2\" class=\"data row8 col2\" >9.000000</td>\n",
       "            </tr>\n",
       "            <tr>\n",
       "                        <th id=\"T_e7705d5c_530d_11eb_a27f_acde48001122level0_row9\" class=\"row_heading level0 row9\" >['Norm', ['Obl', ['Moved', ['Colour', 'b'], ['Shape', 'triangle'], ['Zone', '3'], ['Next-Move', ['Colour', 'g'], ['Shape', 'any']]], ['Zone', '1']]]</th>\n",
       "                        <td id=\"T_e7705d5c_530d_11eb_a27f_acde48001122row9_col0\" class=\"data row9 col0\" >-26543.335940</td>\n",
       "                        <td id=\"T_e7705d5c_530d_11eb_a27f_acde48001122row9_col1\" class=\"data row9 col1\" >657</td>\n",
       "                        <td id=\"T_e7705d5c_530d_11eb_a27f_acde48001122row9_col2\" class=\"data row9 col2\" >10.000000</td>\n",
       "            </tr>\n",
       "    </tbody></table>"
      ],
      "text/plain": [
       "<pandas.io.formats.style.Styler at 0x12765aa30>"
      ]
     },
     "execution_count": 34,
     "metadata": {},
     "output_type": "execute_result"
    }
   ],
   "source": [
    "top_norms.loc[0.0].head(10).style.apply(lambda x: ['background: lightgreen' if x['log_posterior'] >=\\\n",
    "                               true_post[\"a\"] else '' for i in x], \n",
    "               axis=1)"
   ]
  },
  {
   "cell_type": "code",
   "execution_count": 35,
   "metadata": {},
   "outputs": [
    {
     "data": {
      "text/html": [
       "<style  type=\"text/css\" >\n",
       "#T_eb7cc84a_530d_11eb_a27f_acde48001122row1_col0,#T_eb7cc84a_530d_11eb_a27f_acde48001122row1_col1,#T_eb7cc84a_530d_11eb_a27f_acde48001122row1_col2,#T_eb7cc84a_530d_11eb_a27f_acde48001122row2_col0,#T_eb7cc84a_530d_11eb_a27f_acde48001122row2_col1,#T_eb7cc84a_530d_11eb_a27f_acde48001122row2_col2{\n",
       "            background:  lightgreen;\n",
       "        }</style><table id=\"T_eb7cc84a_530d_11eb_a27f_acde48001122\" ><thead>    <tr>        <th class=\"blank level0\" ></th>        <th class=\"col_heading level0 col0\" >log_posterior</th>        <th class=\"col_heading level0 col1\" >chain_number</th>        <th class=\"col_heading level0 col2\" >grp_rnk</th>    </tr>    <tr>        <th class=\"index_name level0\" >expression</th>        <th class=\"blank\" ></th>        <th class=\"blank\" ></th>        <th class=\"blank\" ></th>    </tr></thead><tbody>\n",
       "                <tr>\n",
       "                        <th id=\"T_eb7cc84a_530d_11eb_a27f_acde48001122level0_row0\" class=\"row_heading level0 row0\" >['Norms', ['Obl', ['Moved', ['Colour', 'any'], ['Shape', 'any'], ['Zone', '1'], ['Moved', ['Colour', 'any'], ['Shape', 'any'], ['Zone', '1'], ['Next-Move', ['Colour', 'any'], ['Shape', 'square']]]], ['Zone', '3']], ['Per', ['Action', 'putdown'], ['Colour', 'g'], ['Shape', 'any'], ['PerZone', '2']]]</th>\n",
       "                        <td id=\"T_eb7cc84a_530d_11eb_a27f_acde48001122row0_col0\" class=\"data row0 col0\" >-26655.511829</td>\n",
       "                        <td id=\"T_eb7cc84a_530d_11eb_a27f_acde48001122row0_col1\" class=\"data row0 col1\" >4274</td>\n",
       "                        <td id=\"T_eb7cc84a_530d_11eb_a27f_acde48001122row0_col2\" class=\"data row0 col2\" >1.000000</td>\n",
       "            </tr>\n",
       "            <tr>\n",
       "                        <th id=\"T_eb7cc84a_530d_11eb_a27f_acde48001122level0_row1\" class=\"row_heading level0 row1\" >['Norms', ['Obl', ['Moved', ['Colour', 'r'], ['Shape', 'any'], ['Zone', '1'], ['Next-Move', ['Colour', 'any'], ['Shape', 'any']]], ['Zone', '2']], ['Per', ['Action', 'putdown'], ['Colour', 'any'], ['Shape', 'square'], ['PerZone', '3']]]</th>\n",
       "                        <td id=\"T_eb7cc84a_530d_11eb_a27f_acde48001122row1_col0\" class=\"data row1 col0\" >-25781.819948</td>\n",
       "                        <td id=\"T_eb7cc84a_530d_11eb_a27f_acde48001122row1_col1\" class=\"data row1 col1\" >2973</td>\n",
       "                        <td id=\"T_eb7cc84a_530d_11eb_a27f_acde48001122row1_col2\" class=\"data row1 col2\" >2.000000</td>\n",
       "            </tr>\n",
       "            <tr>\n",
       "                        <th id=\"T_eb7cc84a_530d_11eb_a27f_acde48001122level0_row2\" class=\"row_heading level0 row2\" >['Norms', ['Obl', ['Moved', ['Colour', 'any'], ['Shape', 'circle'], ['Zone', '1'], ['Next-Move', ['Colour', 'any'], ['Shape', 'any']]], ['Zone', '2']], ['Per', ['Action', 'putdown'], ['Colour', 'any'], ['Shape', 'square'], ['PerZone', '3']]]</th>\n",
       "                        <td id=\"T_eb7cc84a_530d_11eb_a27f_acde48001122row2_col0\" class=\"data row2 col0\" >-25781.819948</td>\n",
       "                        <td id=\"T_eb7cc84a_530d_11eb_a27f_acde48001122row2_col1\" class=\"data row2 col1\" >2561</td>\n",
       "                        <td id=\"T_eb7cc84a_530d_11eb_a27f_acde48001122row2_col2\" class=\"data row2 col2\" >3.000000</td>\n",
       "            </tr>\n",
       "            <tr>\n",
       "                        <th id=\"T_eb7cc84a_530d_11eb_a27f_acde48001122level0_row3\" class=\"row_heading level0 row3\" >['Norm', ['Obl', ['Moved', ['Colour', 'any'], ['Shape', 'circle'], ['Zone', '3'], ['Moved', ['Colour', 'any'], ['Shape', 'any'], ['Zone', '2'], ['Next-Move', ['Colour', 'any'], ['Shape', 'square']]]], ['Zone', '3']]]</th>\n",
       "                        <td id=\"T_eb7cc84a_530d_11eb_a27f_acde48001122row3_col0\" class=\"data row3 col0\" >-26706.745893</td>\n",
       "                        <td id=\"T_eb7cc84a_530d_11eb_a27f_acde48001122row3_col1\" class=\"data row3 col1\" >2510</td>\n",
       "                        <td id=\"T_eb7cc84a_530d_11eb_a27f_acde48001122row3_col2\" class=\"data row3 col2\" >4.000000</td>\n",
       "            </tr>\n",
       "    </tbody></table>"
      ],
      "text/plain": [
       "<pandas.io.formats.style.Styler at 0x1276447c0>"
      ]
     },
     "execution_count": 35,
     "metadata": {},
     "output_type": "execute_result"
    }
   ],
   "source": [
    "top_norms.loc[0.05].head(4).style.apply(lambda x: ['background: lightgreen' if x['log_posterior'] >=\\\n",
    "                               true_post[\"b\"] else '' for i in x], \n",
    "               axis=1)"
   ]
  },
  {
   "cell_type": "code",
   "execution_count": 39,
   "metadata": {},
   "outputs": [
    {
     "data": {
      "text/plain": [
       "('Norms',\n",
       " ('Obl',\n",
       "  ('Moved',\n",
       "   ('Colour', 'r'),\n",
       "   ('Shape', 'any'),\n",
       "   ('Zone', '1'),\n",
       "   ('Next-Move', ('Colour', 'any'), ('Shape', 'any'))),\n",
       "  ('Zone', '2')),\n",
       " ('Per',\n",
       "  ('Action', 'putdown'),\n",
       "  ('Colour', 'any'),\n",
       "  ('Shape', 'square'),\n",
       "  ('PerZone', '3')))"
      ]
     },
     "execution_count": 39,
     "metadata": {},
     "output_type": "execute_result"
    }
   ],
   "source": [
    "true_norm"
   ]
  },
  {
   "cell_type": "markdown",
   "metadata": {},
   "source": [
    "#### Below top norms(1,2) equivalent norm to true norm for a very peculiar action seq:\n",
    "1. posterior is lowered due to low prior (~complex condition)"
   ]
  },
  {
   "cell_type": "code",
   "execution_count": 36,
   "metadata": {},
   "outputs": [
    {
     "data": {
      "text/html": [
       "<style  type=\"text/css\" >\n",
       "</style><table id=\"T_ed2a2b10_530d_11eb_a27f_acde48001122\" ><thead>    <tr>        <th class=\"blank level0\" ></th>        <th class=\"col_heading level0 col0\" >log_posterior</th>        <th class=\"col_heading level0 col1\" >chain_number</th>        <th class=\"col_heading level0 col2\" >grp_rnk</th>    </tr>    <tr>        <th class=\"index_name level0\" >expression</th>        <th class=\"blank\" ></th>        <th class=\"blank\" ></th>        <th class=\"blank\" ></th>    </tr></thead><tbody>\n",
       "                <tr>\n",
       "                        <th id=\"T_ed2a2b10_530d_11eb_a27f_acde48001122level0_row0\" class=\"row_heading level0 row0\" >['Norm', ['Obl', ['Moved', ['Colour', 'b'], ['Shape', 'any'], ['Zone', '2'], ['Moved', ['Colour', 'any'], ['Shape', 'any'], ['Zone', '2'], ['Moved', ['Colour', 'any'], ['Shape', 'any'], ['Zone', '2'], ['Next-Move', ['Colour', 'any'], ['Shape', 'any']]]]], ['Zone', '2']]]</th>\n",
       "                        <td id=\"T_ed2a2b10_530d_11eb_a27f_acde48001122row0_col0\" class=\"data row0 col0\" >-26716.599977</td>\n",
       "                        <td id=\"T_ed2a2b10_530d_11eb_a27f_acde48001122row0_col1\" class=\"data row0 col1\" >3941</td>\n",
       "                        <td id=\"T_ed2a2b10_530d_11eb_a27f_acde48001122row0_col2\" class=\"data row0 col2\" >1.000000</td>\n",
       "            </tr>\n",
       "            <tr>\n",
       "                        <th id=\"T_ed2a2b10_530d_11eb_a27f_acde48001122level0_row1\" class=\"row_heading level0 row1\" >['Norms', ['Obl', ['Moved', ['Colour', 'any'], ['Shape', 'any'], ['Zone', '2'], ['Moved', ['Colour', 'r'], ['Shape', 'any'], ['Zone', '1'], ['Next-Move', ['Colour', 'any'], ['Shape', 'any']]]], ['Zone', '2']], ['Per', ['Action', 'putdown'], ['Colour', 'b'], ['Shape', 'square'], ['PerZone', '3']]]</th>\n",
       "                        <td id=\"T_ed2a2b10_530d_11eb_a27f_acde48001122row1_col0\" class=\"data row1 col0\" >-26392.178876</td>\n",
       "                        <td id=\"T_ed2a2b10_530d_11eb_a27f_acde48001122row1_col1\" class=\"data row1 col1\" >2594</td>\n",
       "                        <td id=\"T_ed2a2b10_530d_11eb_a27f_acde48001122row1_col2\" class=\"data row1 col2\" >2.000000</td>\n",
       "            </tr>\n",
       "            <tr>\n",
       "                        <th id=\"T_ed2a2b10_530d_11eb_a27f_acde48001122level0_row2\" class=\"row_heading level0 row2\" >['Norms', ['Obl', ['Moved', ['Colour', 'any'], ['Shape', 'any'], ['Zone', '2'], ['Moved', ['Colour', 'any'], ['Shape', 'circle'], ['Zone', '1'], ['Next-Move', ['Colour', 'any'], ['Shape', 'any']]]], ['Zone', '2']], ['Per', ['Action', 'putdown'], ['Colour', 'b'], ['Shape', 'square'], ['PerZone', '3']]]</th>\n",
       "                        <td id=\"T_ed2a2b10_530d_11eb_a27f_acde48001122row2_col0\" class=\"data row2 col0\" >-26392.178876</td>\n",
       "                        <td id=\"T_ed2a2b10_530d_11eb_a27f_acde48001122row2_col1\" class=\"data row2 col1\" >2561</td>\n",
       "                        <td id=\"T_ed2a2b10_530d_11eb_a27f_acde48001122row2_col2\" class=\"data row2 col2\" >3.000000</td>\n",
       "            </tr>\n",
       "            <tr>\n",
       "                        <th id=\"T_ed2a2b10_530d_11eb_a27f_acde48001122level0_row3\" class=\"row_heading level0 row3\" >['Norm', ['Obl', ['Moved', ['Colour', 'r'], ['Shape', 'any'], ['Zone', '1'], ['Next-Move', ['Colour', 'any'], ['Shape', 'triangle']]], ['Zone', '2']]]</th>\n",
       "                        <td id=\"T_ed2a2b10_530d_11eb_a27f_acde48001122row3_col0\" class=\"data row3 col0\" >-26206.018037</td>\n",
       "                        <td id=\"T_ed2a2b10_530d_11eb_a27f_acde48001122row3_col1\" class=\"data row3 col1\" >1999</td>\n",
       "                        <td id=\"T_ed2a2b10_530d_11eb_a27f_acde48001122row3_col2\" class=\"data row3 col2\" >4.000000</td>\n",
       "            </tr>\n",
       "    </tbody></table>"
      ],
      "text/plain": [
       "<pandas.io.formats.style.Styler at 0x127644730>"
      ]
     },
     "execution_count": 36,
     "metadata": {},
     "output_type": "execute_result"
    }
   ],
   "source": [
    "top_norms.loc[0.1].head(4).style.apply(lambda x: ['background: lightgreen' if x['log_posterior'] >=\\\n",
    "                               true_post[\"c\"] else '' for i in x], \n",
    "               axis=1)"
   ]
  },
  {
   "cell_type": "code",
   "execution_count": 37,
   "metadata": {},
   "outputs": [
    {
     "data": {
      "text/html": [
       "<style  type=\"text/css\" >\n",
       "#T_fddc4812_530d_11eb_a27f_acde48001122row0_col0,#T_fddc4812_530d_11eb_a27f_acde48001122row0_col1,#T_fddc4812_530d_11eb_a27f_acde48001122row0_col2,#T_fddc4812_530d_11eb_a27f_acde48001122row1_col0,#T_fddc4812_530d_11eb_a27f_acde48001122row1_col1,#T_fddc4812_530d_11eb_a27f_acde48001122row1_col2{\n",
       "            background:  lightgreen;\n",
       "        }</style><table id=\"T_fddc4812_530d_11eb_a27f_acde48001122\" ><thead>    <tr>        <th class=\"blank level0\" ></th>        <th class=\"col_heading level0 col0\" >log_posterior</th>        <th class=\"col_heading level0 col1\" >chain_number</th>        <th class=\"col_heading level0 col2\" >grp_rnk</th>    </tr>    <tr>        <th class=\"index_name level0\" >expression</th>        <th class=\"blank\" ></th>        <th class=\"blank\" ></th>        <th class=\"blank\" ></th>    </tr></thead><tbody>\n",
       "                <tr>\n",
       "                        <th id=\"T_fddc4812_530d_11eb_a27f_acde48001122level0_row0\" class=\"row_heading level0 row0\" >['Norms', ['Obl', ['Moved', ['Colour', 'any'], ['Shape', 'circle'], ['Zone', '1'], ['Next-Move', ['Colour', 'any'], ['Shape', 'any']]], ['Zone', '2']], ['Per', ['Action', 'putdown'], ['Colour', 'any'], ['Shape', 'square'], ['PerZone', '3']]]</th>\n",
       "                        <td id=\"T_fddc4812_530d_11eb_a27f_acde48001122row0_col0\" class=\"data row0 col0\" >-25772.776412</td>\n",
       "                        <td id=\"T_fddc4812_530d_11eb_a27f_acde48001122row0_col1\" class=\"data row0 col1\" >3554</td>\n",
       "                        <td id=\"T_fddc4812_530d_11eb_a27f_acde48001122row0_col2\" class=\"data row0 col2\" >1.000000</td>\n",
       "            </tr>\n",
       "            <tr>\n",
       "                        <th id=\"T_fddc4812_530d_11eb_a27f_acde48001122level0_row1\" class=\"row_heading level0 row1\" >['Norms', ['Obl', ['Moved', ['Colour', 'r'], ['Shape', 'any'], ['Zone', '1'], ['Next-Move', ['Colour', 'any'], ['Shape', 'any']]], ['Zone', '2']], ['Per', ['Action', 'putdown'], ['Colour', 'any'], ['Shape', 'square'], ['PerZone', '3']]]</th>\n",
       "                        <td id=\"T_fddc4812_530d_11eb_a27f_acde48001122row1_col0\" class=\"data row1 col0\" >-25772.776412</td>\n",
       "                        <td id=\"T_fddc4812_530d_11eb_a27f_acde48001122row1_col1\" class=\"data row1 col1\" >3334</td>\n",
       "                        <td id=\"T_fddc4812_530d_11eb_a27f_acde48001122row1_col2\" class=\"data row1 col2\" >2.000000</td>\n",
       "            </tr>\n",
       "            <tr>\n",
       "                        <th id=\"T_fddc4812_530d_11eb_a27f_acde48001122level0_row2\" class=\"row_heading level0 row2\" >['Norm', ['Obl', ['Moved', ['Colour', 'any'], ['Shape', 'any'], ['Zone', '1'], ['Moved', ['Colour', 'any'], ['Shape', 'any'], ['Zone', '2'], ['Moved', ['Colour', 'any'], ['Shape', 'any'], ['Zone', '2'], ['Next-Move', ['Colour', 'any'], ['Shape', 'any']]]]], ['Zone', '1']]]</th>\n",
       "                        <td id=\"T_fddc4812_530d_11eb_a27f_acde48001122row2_col0\" class=\"data row2 col0\" >-26723.138570</td>\n",
       "                        <td id=\"T_fddc4812_530d_11eb_a27f_acde48001122row2_col1\" class=\"data row2 col1\" >2906</td>\n",
       "                        <td id=\"T_fddc4812_530d_11eb_a27f_acde48001122row2_col2\" class=\"data row2 col2\" >3.000000</td>\n",
       "            </tr>\n",
       "            <tr>\n",
       "                        <th id=\"T_fddc4812_530d_11eb_a27f_acde48001122level0_row3\" class=\"row_heading level0 row3\" >['Norms', ['Obl', ['Moved', ['Colour', 'r'], ['Shape', 'circle'], ['Zone', '1'], ['Next-Move', ['Colour', 'any'], ['Shape', 'any']]], ['Zone', '2']], ['Per', ['Action', 'putdown'], ['Colour', 'any'], ['Shape', 'square'], ['PerZone', '3']]]</th>\n",
       "                        <td id=\"T_fddc4812_530d_11eb_a27f_acde48001122row3_col0\" class=\"data row3 col0\" >-25773.875024</td>\n",
       "                        <td id=\"T_fddc4812_530d_11eb_a27f_acde48001122row3_col1\" class=\"data row3 col1\" >1358</td>\n",
       "                        <td id=\"T_fddc4812_530d_11eb_a27f_acde48001122row3_col2\" class=\"data row3 col2\" >4.000000</td>\n",
       "            </tr>\n",
       "    </tbody></table>"
      ],
      "text/plain": [
       "<pandas.io.formats.style.Styler at 0x1276bde50>"
      ]
     },
     "execution_count": 37,
     "metadata": {},
     "output_type": "execute_result"
    }
   ],
   "source": [
    "top_norms.loc[0.15].head(4).style.apply(lambda x: ['background: lightgreen' if x['log_posterior'] >=\\\n",
    "                               true_post[\"d\"] else '' for i in x], \n",
    "               axis=1)"
   ]
  },
  {
   "cell_type": "code",
   "execution_count": 38,
   "metadata": {},
   "outputs": [
    {
     "data": {
      "text/html": [
       "<style  type=\"text/css\" >\n",
       "#T_00668084_530e_11eb_a27f_acde48001122row0_col0,#T_00668084_530e_11eb_a27f_acde48001122row0_col1,#T_00668084_530e_11eb_a27f_acde48001122row0_col2,#T_00668084_530e_11eb_a27f_acde48001122row1_col0,#T_00668084_530e_11eb_a27f_acde48001122row1_col1,#T_00668084_530e_11eb_a27f_acde48001122row1_col2{\n",
       "            background:  lightgreen;\n",
       "        }</style><table id=\"T_00668084_530e_11eb_a27f_acde48001122\" ><thead>    <tr>        <th class=\"blank level0\" ></th>        <th class=\"col_heading level0 col0\" >log_posterior</th>        <th class=\"col_heading level0 col1\" >chain_number</th>        <th class=\"col_heading level0 col2\" >grp_rnk</th>    </tr>    <tr>        <th class=\"index_name level0\" >expression</th>        <th class=\"blank\" ></th>        <th class=\"blank\" ></th>        <th class=\"blank\" ></th>    </tr></thead><tbody>\n",
       "                <tr>\n",
       "                        <th id=\"T_00668084_530e_11eb_a27f_acde48001122level0_row0\" class=\"row_heading level0 row0\" >['Norms', ['Obl', ['Moved', ['Colour', 'r'], ['Shape', 'any'], ['Zone', '1'], ['Next-Move', ['Colour', 'any'], ['Shape', 'any']]], ['Zone', '2']], ['Per', ['Action', 'putdown'], ['Colour', 'any'], ['Shape', 'square'], ['PerZone', '3']]]</th>\n",
       "                        <td id=\"T_00668084_530e_11eb_a27f_acde48001122row0_col0\" class=\"data row0 col0\" >-25883.433245</td>\n",
       "                        <td id=\"T_00668084_530e_11eb_a27f_acde48001122row0_col1\" class=\"data row0 col1\" >5239</td>\n",
       "                        <td id=\"T_00668084_530e_11eb_a27f_acde48001122row0_col2\" class=\"data row0 col2\" >1.000000</td>\n",
       "            </tr>\n",
       "            <tr>\n",
       "                        <th id=\"T_00668084_530e_11eb_a27f_acde48001122level0_row1\" class=\"row_heading level0 row1\" >['Norms', ['Obl', ['Moved', ['Colour', 'any'], ['Shape', 'circle'], ['Zone', '1'], ['Next-Move', ['Colour', 'any'], ['Shape', 'any']]], ['Zone', '2']], ['Per', ['Action', 'putdown'], ['Colour', 'any'], ['Shape', 'square'], ['PerZone', '3']]]</th>\n",
       "                        <td id=\"T_00668084_530e_11eb_a27f_acde48001122row1_col0\" class=\"data row1 col0\" >-25883.433245</td>\n",
       "                        <td id=\"T_00668084_530e_11eb_a27f_acde48001122row1_col1\" class=\"data row1 col1\" >3505</td>\n",
       "                        <td id=\"T_00668084_530e_11eb_a27f_acde48001122row1_col2\" class=\"data row1 col2\" >2.000000</td>\n",
       "            </tr>\n",
       "            <tr>\n",
       "                        <th id=\"T_00668084_530e_11eb_a27f_acde48001122level0_row2\" class=\"row_heading level0 row2\" >['Norms', ['Obl', ['Moved', ['Colour', 'any'], ['Shape', 'any'], ['Zone', '1'], ['Moved', ['Colour', 'r'], ['Shape', 'any'], ['Zone', '3'], ['Next-Move', ['Colour', 'any'], ['Shape', 'any']]]], ['Zone', '3']], ['Per', ['Action', 'putdown'], ['Colour', 'any'], ['Shape', 'any'], ['PerZone', '1']]]</th>\n",
       "                        <td id=\"T_00668084_530e_11eb_a27f_acde48001122row2_col0\" class=\"data row2 col0\" >-26767.543194</td>\n",
       "                        <td id=\"T_00668084_530e_11eb_a27f_acde48001122row2_col1\" class=\"data row2 col1\" >2988</td>\n",
       "                        <td id=\"T_00668084_530e_11eb_a27f_acde48001122row2_col2\" class=\"data row2 col2\" >3.000000</td>\n",
       "            </tr>\n",
       "            <tr>\n",
       "                        <th id=\"T_00668084_530e_11eb_a27f_acde48001122level0_row3\" class=\"row_heading level0 row3\" >['Norm', ['Obl', ['Moved', ['Colour', 'r'], ['Shape', 'any'], ['Zone', '1'], ['Next-Move', ['Colour', 'any'], ['Shape', 'any']]], ['Zone', '2']]]</th>\n",
       "                        <td id=\"T_00668084_530e_11eb_a27f_acde48001122row3_col0\" class=\"data row3 col0\" >-25993.578671</td>\n",
       "                        <td id=\"T_00668084_530e_11eb_a27f_acde48001122row3_col1\" class=\"data row3 col1\" >1960</td>\n",
       "                        <td id=\"T_00668084_530e_11eb_a27f_acde48001122row3_col2\" class=\"data row3 col2\" >4.000000</td>\n",
       "            </tr>\n",
       "            <tr>\n",
       "                        <th id=\"T_00668084_530e_11eb_a27f_acde48001122level0_row4\" class=\"row_heading level0 row4\" >['Norms', ['Obl', ['Moved', ['Colour', 'any'], ['Shape', 'any'], ['Zone', '1'], ['Moved', ['Colour', 'any'], ['Shape', 'circle'], ['Zone', '3'], ['Next-Move', ['Colour', 'any'], ['Shape', 'any']]]], ['Zone', '3']], ['Per', ['Action', 'putdown'], ['Colour', 'any'], ['Shape', 'any'], ['PerZone', '1']]]</th>\n",
       "                        <td id=\"T_00668084_530e_11eb_a27f_acde48001122row4_col0\" class=\"data row4 col0\" >-26767.543194</td>\n",
       "                        <td id=\"T_00668084_530e_11eb_a27f_acde48001122row4_col1\" class=\"data row4 col1\" >1899</td>\n",
       "                        <td id=\"T_00668084_530e_11eb_a27f_acde48001122row4_col2\" class=\"data row4 col2\" >5.000000</td>\n",
       "            </tr>\n",
       "            <tr>\n",
       "                        <th id=\"T_00668084_530e_11eb_a27f_acde48001122level0_row5\" class=\"row_heading level0 row5\" >['Norm', ['Obl', ['Moved', ['Colour', 'any'], ['Shape', 'circle'], ['Zone', '1'], ['Next-Move', ['Colour', 'any'], ['Shape', 'any']]], ['Zone', '2']]]</th>\n",
       "                        <td id=\"T_00668084_530e_11eb_a27f_acde48001122row5_col0\" class=\"data row5 col0\" >-25993.578671</td>\n",
       "                        <td id=\"T_00668084_530e_11eb_a27f_acde48001122row5_col1\" class=\"data row5 col1\" >1891</td>\n",
       "                        <td id=\"T_00668084_530e_11eb_a27f_acde48001122row5_col2\" class=\"data row5 col2\" >6.000000</td>\n",
       "            </tr>\n",
       "            <tr>\n",
       "                        <th id=\"T_00668084_530e_11eb_a27f_acde48001122level0_row6\" class=\"row_heading level0 row6\" >['Norm', ['Obl', ['Moved', ['Colour', 'b'], ['Shape', 'any'], ['Zone', '3'], ['Next-Move', ['Colour', 'b'], ['Shape', 'any']]], ['Zone', '2']]]</th>\n",
       "                        <td id=\"T_00668084_530e_11eb_a27f_acde48001122row6_col0\" class=\"data row6 col0\" >-26750.758130</td>\n",
       "                        <td id=\"T_00668084_530e_11eb_a27f_acde48001122row6_col1\" class=\"data row6 col1\" >1433</td>\n",
       "                        <td id=\"T_00668084_530e_11eb_a27f_acde48001122row6_col2\" class=\"data row6 col2\" >7.000000</td>\n",
       "            </tr>\n",
       "            <tr>\n",
       "                        <th id=\"T_00668084_530e_11eb_a27f_acde48001122level0_row7\" class=\"row_heading level0 row7\" >['Norms', ['Obl', ['Moved', ['Colour', 'r'], ['Shape', 'circle'], ['Zone', '1'], ['Next-Move', ['Colour', 'any'], ['Shape', 'any']]], ['Zone', '2']], ['Per', ['Action', 'putdown'], ['Colour', 'any'], ['Shape', 'square'], ['PerZone', '3']]]</th>\n",
       "                        <td id=\"T_00668084_530e_11eb_a27f_acde48001122row7_col0\" class=\"data row7 col0\" >-25884.531857</td>\n",
       "                        <td id=\"T_00668084_530e_11eb_a27f_acde48001122row7_col1\" class=\"data row7 col1\" >1347</td>\n",
       "                        <td id=\"T_00668084_530e_11eb_a27f_acde48001122row7_col2\" class=\"data row7 col2\" >8.000000</td>\n",
       "            </tr>\n",
       "            <tr>\n",
       "                        <th id=\"T_00668084_530e_11eb_a27f_acde48001122level0_row8\" class=\"row_heading level0 row8\" >['Norms', ['Obl', ['Moved', ['Colour', 'b'], ['Shape', 'any'], ['Zone', '1'], ['Next-Move', ['Colour', 'r'], ['Shape', 'any']]], ['Zone', '3']], ['Per', ['Action', 'putdown'], ['Colour', 'any'], ['Shape', 'any'], ['PerZone', '1']]]</th>\n",
       "                        <td id=\"T_00668084_530e_11eb_a27f_acde48001122row8_col0\" class=\"data row8 col0\" >-26623.739948</td>\n",
       "                        <td id=\"T_00668084_530e_11eb_a27f_acde48001122row8_col1\" class=\"data row8 col1\" >1263</td>\n",
       "                        <td id=\"T_00668084_530e_11eb_a27f_acde48001122row8_col2\" class=\"data row8 col2\" >9.000000</td>\n",
       "            </tr>\n",
       "            <tr>\n",
       "                        <th id=\"T_00668084_530e_11eb_a27f_acde48001122level0_row9\" class=\"row_heading level0 row9\" >['Norms', ['Obl', ['Moved', ['Colour', 'b'], ['Shape', 'any'], ['Zone', '1'], ['Next-Move', ['Colour', 'any'], ['Shape', 'circle']]], ['Zone', '3']], ['Per', ['Action', 'putdown'], ['Colour', 'any'], ['Shape', 'any'], ['PerZone', '1']]]</th>\n",
       "                        <td id=\"T_00668084_530e_11eb_a27f_acde48001122row9_col0\" class=\"data row9 col0\" >-26623.739948</td>\n",
       "                        <td id=\"T_00668084_530e_11eb_a27f_acde48001122row9_col1\" class=\"data row9 col1\" >1199</td>\n",
       "                        <td id=\"T_00668084_530e_11eb_a27f_acde48001122row9_col2\" class=\"data row9 col2\" >10.000000</td>\n",
       "            </tr>\n",
       "    </tbody></table>"
      ],
      "text/plain": [
       "<pandas.io.formats.style.Styler at 0x1276bd490>"
      ]
     },
     "execution_count": 38,
     "metadata": {},
     "output_type": "execute_result"
    }
   ],
   "source": [
    "top_norms.loc[0.2].head(10).style.apply(lambda x: ['background: lightgreen' if x['log_posterior'] >=\\\n",
    "                               true_post[\"e\"] else '' for i in x], \n",
    "               axis=1)"
   ]
  },
  {
   "cell_type": "code",
   "execution_count": null,
   "metadata": {},
   "outputs": [],
   "source": []
  },
  {
   "cell_type": "code",
   "execution_count": null,
   "metadata": {},
   "outputs": [],
   "source": []
  },
  {
   "cell_type": "code",
   "execution_count": null,
   "metadata": {},
   "outputs": [],
   "source": []
  }
 ],
 "metadata": {
  "kernelspec": {
   "display_name": "Python 3",
   "language": "python",
   "name": "python3"
  },
  "language_info": {
   "codemirror_mode": {
    "name": "ipython",
    "version": 3
   },
   "file_extension": ".py",
   "mimetype": "text/x-python",
   "name": "python",
   "nbconvert_exporter": "python",
   "pygments_lexer": "ipython3",
   "version": "3.8.2"
  }
 },
 "nbformat": 4,
 "nbformat_minor": 4
}
