{
 "cells": [
  {
   "cell_type": "markdown",
   "metadata": {
    "cell_id": "00000-324fab5f-e3f7-4509-9db3-4cb39ad78405",
    "tags": []
   },
   "source": [
    "### Generate an environment\n",
    "Currently, this just copies data/default_env.pickle into data/env.pickle.\n",
    "\n",
    "**To do**: Add a DVC parameter such as `env_name` and if this isn't set to \"default\" then generate a new environment."
   ]
  },
  {
   "cell_type": "code",
   "execution_count": null,
   "metadata": {
    "cell_id": "00000-f93b8b1f-e4bb-466f-90c7-157e541575cf",
    "output_cleared": true,
    "tags": []
   },
   "outputs": [],
   "source": [
    "!dvc run --force -n gen_env -w .. -d data/default_env.pickle -o data/env.pickle python scripts/gen_env.py"
   ]
  },
  {
   "cell_type": "markdown",
   "metadata": {
    "cell_id": "00002-7cc61989-19bc-43aa-88f6-f7645aa81b6c",
    "tags": []
   },
   "source": [
    "### Generate observations\n",
    "Currently this checks the values of the parameters `target_area`, `true_norm`, `num_observations` and `obs_data_set`. If they are equal to the settings of the observations in data/default_observations.pickle (and `obs_data_set` has value 1), then that file is copied into data/observations.pickle.\n",
    "\n",
    "**To do**: Generate a new set of observations if the parameter settings don't match the default one, or `obs_data_set` is not 1.\n"
   ]
  },
  {
   "cell_type": "code",
   "execution_count": null,
   "metadata": {
    "cell_id": "00001-16c1e51c-254a-43f2-86a9-f1eb33ff7515",
    "output_cleared": true,
    "tags": []
   },
   "outputs": [],
   "source": [
    "!dvc run --force -n gen_observations -w .. -d data/env.pickle -p target_area,true_norm,num_observations,obs_data_set -o data/observations.pickle python scripts/gen_observations.py"
   ]
  },
  {
   "cell_type": "markdown",
   "metadata": {
    "cell_id": "00004-e450e354-b0f6-4be5-bf60-55c1e89b36d3",
    "tags": []
   },
   "source": [
    "### Generate MCMC chains\n",
    "Creates data/chains_and_log_likelihoods.pickle. Also metrics/starts_info.txt, but that is not currently recorded in the \"dvc run\" command below."
   ]
  },
  {
   "cell_type": "code",
   "execution_count": null,
   "metadata": {
    "allow_embed": false,
    "cell_id": "00002-a888c5f1-50c2-4f53-911d-e56e17413bf5",
    "output_cleared": false,
    "tags": []
   },
   "outputs": [],
   "source": [
    "!dvc run --force --always-changed -n gen_mcmc_chains -w .. -d data/env.pickle -d data/observations.pickle -p n,m,rf,colour_specific,shape_specific,target_area -o data/chains_and_log_likelihoods.pickle python scripts/gen_mcmc_chains.py"
   ]
  },
  {
   "cell_type": "markdown",
   "metadata": {
    "cell_id": "00006-f3d1a0ff-4505-4109-bb09-6f1a37676a60",
    "tags": []
   },
   "source": [
    "### Analyse the chains\n",
    "Generate file metrics/chain_likelihoods.csv and append more information to metrics/chain_info.txt (note: DVC may not handle changing a file very well - perhaps a separate file should be created).\n",
    "\n",
    "**Temporary hack**: chain_likelihoods contains posterior probabilities now, even though the field name has not changed."
   ]
  },
  {
   "cell_type": "code",
   "execution_count": null,
   "metadata": {
    "cell_id": "00003-e14a9d99-8f7b-43c9-b9cd-1a1a54f123b0",
    "output_cleared": false,
    "tags": []
   },
   "outputs": [],
   "source": [
    "!dvc run --force --always-changed -n analyse_chains -w .. -d data/chains_and_log_likelihoods.pickle -d data/env.pickle -d data/observations.pickle -p n,m,rf,colour_specific,shape_specific,target_area -o metrics/chain_info.txt --plots metrics/chain_likelihoods.csv python scripts/analyse_chains.py"
   ]
  },
  {
   "cell_type": "markdown",
   "metadata": {
    "cell_id": "00008-b6e9f15d-9983-4607-9c11-5f3c30b75fde",
    "tags": []
   },
   "source": [
    "### Generate a plot showing norms ordered by likelihood (or now posterior prob.?)\n",
    "The file plots.html is generated in the root folder, based on data in metrics/chain_likelihoods.csv"
   ]
  },
  {
   "cell_type": "code",
   "execution_count": null,
   "metadata": {
    "cell_id": "00004-8dfebf1c-ed1c-4abf-933c-d5855e0bda14",
    "output_cleared": false
   },
   "outputs": [],
   "source": [
    "!pushd ..; dvc plots show -t plots/norm_exp_histogram.json metrics/chain_likelihoods.csv"
   ]
  },
  {
   "cell_type": "markdown",
   "metadata": {
    "cell_id": "00010-2b350a37-8c93-4bbe-9f6e-62dbcb503907",
    "tags": []
   },
   "source": [
    "### Perform a convergence test to compute $\\hat{R}$\n",
    "The result is written to metrics/conv_test.txt. Also, the posterior sample (after discarding initial warm-up segments of chains and combining the remains) is writen to data/posterior.pickle. \n"
   ]
  },
  {
   "cell_type": "code",
   "execution_count": null,
   "metadata": {
    "cell_id": "00004-de24100b-aa90-45d8-9951-e740220ab08e",
    "output_cleared": false,
    "tags": []
   },
   "outputs": [],
   "source": [
    "!dvc run --force --always-changed -n conv_test -w .. -d data/chains_and_log_likelihoods.pickle -p rhat_step_size -o data/posterior.pickle -o metrics/conv_test.txt python scripts/conv_test.py"
   ]
  },
  {
   "cell_type": "markdown",
   "metadata": {
    "cell_id": "00012-00464624-daf9-430c-bfcd-ef140ce0659b",
    "tags": []
   },
   "source": [
    "### Extract the top norms and compute precision and recall\n",
    "The results are written to metrics/precision_recall.txt.\n"
   ]
  },
  {
   "cell_type": "code",
   "execution_count": null,
   "metadata": {
    "allow_embed": false,
    "cell_id": "00005-bc971935-b212-471d-bce0-fd808b7f5362",
    "output_cleared": false,
    "tags": []
   },
   "outputs": [],
   "source": [
    "!dvc run --force --always-changed -n extract_top_norms -w .. -d data/posterior.pickle -d data/env.pickle -p colour_specific,shape_specific,target_area,true_norm -o metrics/precision_recall.txt python scripts/extract_top_norms.py"
   ]
  },
  {
   "cell_type": "markdown",
   "metadata": {
    "cell_id": "00014-8cba3171-ca35-4ebb-877b-32d83e5390ce",
    "tags": []
   },
   "source": [
    "### The cells below are for testing and are not part of the workflow"
   ]
  },
  {
   "cell_type": "code",
   "execution_count": null,
   "metadata": {
    "cell_id": "00006-0fb85935-ff62-4ad7-bde4-dcaa014ddf93",
    "output_cleared": false,
    "tags": []
   },
   "outputs": [],
   "source": [
    "!cd ..; python scripts/test_overdispersed_starts.py"
   ]
  },
  {
   "cell_type": "code",
   "execution_count": null,
   "metadata": {
    "cell_id": "00002-62342832-eb77-412d-912e-5231b9148645",
    "tags": []
   },
   "outputs": [],
   "source": [
    "!dvc repro"
   ]
  },
  {
   "cell_type": "code",
   "execution_count": null,
   "metadata": {
    "cell_id": "00005-d9b6e98b-4f7b-4a96-b7b8-b1fdf89fe08a",
    "output_cleared": false,
    "tags": []
   },
   "outputs": [],
   "source": [
    "!rm ../.dvc/tmp/rwlock"
   ]
  },
  {
   "cell_type": "code",
   "execution_count": null,
   "metadata": {
    "cell_id": "00018-2b39ca6d-a692-4352-a6d8-afeb8a38778f",
    "output_cleared": false,
    "tags": []
   },
   "outputs": [],
   "source": [
    "!cd ..; python scripts/conv_test_no_warmup.py"
   ]
  },
  {
   "cell_type": "code",
   "execution_count": null,
   "metadata": {
    "allow_embed": false,
    "cell_id": "00019-f83f4d84-4ea2-46df-b1ab-3c1517426bfe",
    "output_cleared": false,
    "tags": []
   },
   "outputs": [],
   "source": [
    "!cd ..; python scripts/test_obs_likelihood.py"
   ]
  },
  {
   "cell_type": "code",
   "execution_count": null,
   "metadata": {
    "cell_id": "00019-b957b093-fd61-43c9-8cc3-9a41b3e06ede",
    "output_cleared": false,
    "tags": []
   },
   "outputs": [],
   "source": [
    "import os\n",
    "os.getcwd()"
   ]
  }
 ],
 "metadata": {
  "deepnote_execution_queue": [],
  "deepnote_notebook_id": "406a8cf2-c2ac-4fed-9966-dbc145e270e1",
  "kernelspec": {
   "display_name": "Python 3.8.2 32-bit ('env')",
   "metadata": {
    "interpreter": {
     "hash": "3caac4adb4e1f493f0617992483e3f4fe96c197b68af4c11de32cc1dac6ab887"
    }
   },
   "name": "Python 3.8.2 32-bit ('env')"
  }
 },
 "nbformat": 4,
 "nbformat_minor": 2
}
