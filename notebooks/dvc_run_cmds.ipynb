{
 "cells": [
  {
   "cell_type": "markdown",
   "metadata": {
    "cell_id": "00000-324fab5f-e3f7-4509-9db3-4cb39ad78405",
    "tags": []
   },
   "source": [
    "### Generate an environment\n",
    "Currently, this just copies data/default_env.pickle into data/env.pickle.\n",
    "\n",
    "**To do**: Add a DVC parameter such as `env_name` and if this isn't set to \"default\" then generate a new environment."
   ]
  },
  {
   "cell_type": "code",
   "execution_count": null,
   "metadata": {
    "cell_id": "00000-f93b8b1f-e4bb-466f-90c7-157e541575cf",
    "output_cleared": false,
    "tags": []
   },
   "outputs": [],
   "source": [
    "!dvc run --force --always-changed -n gen_env -w .. -d data/default_env.pickle -o data/env.pickle python scripts/gen_env.py"
   ]
  },
  {
   "cell_type": "markdown",
   "metadata": {
    "cell_id": "00002-7cc61989-19bc-43aa-88f6-f7645aa81b6c",
    "tags": []
   },
   "source": [
    "### Generate observations\n",
    "Currently this checks the values of the parameters `target_area`, `true_norm`, `num_observations` and `obs_data_set`. If they are equal to the settings of the observations in data/default_observations.pickle (and `obs_data_set` has value 1), then that file is copied into data/observations.pickle.\n",
    "\n",
    "**To do**: Generate a new set of observations if the parameter settings don't match the default one, or `obs_data_set` is not 1.\n"
   ]
  },
  {
   "cell_type": "code",
   "execution_count": 1,
   "metadata": {
    "cell_id": "00001-16c1e51c-254a-43f2-86a9-f1eb33ff7515",
    "output_cleared": false,
    "tags": []
   },
   "outputs": [
    {
     "output_type": "stream",
     "name": "stdout",
     "text": [
      "Running stage 'gen_observations' with command:\n",
      "\tpython scripts/gen_observations.py\n",
      "(-0.8, 0.7)\n",
      "(0.25, 0.99)\n",
      "[3, 8, 13, 35, 40]\n",
      "Modifying stage 'gen_observations' in 'dvc.yaml'\n",
      "Updating lock file 'dvc.lock'\n",
      "\n",
      "To track the changes with git, run:\n",
      "\n",
      "\tgit add dvc.lock dvc.yaml\n",
      "\n",
      "Repetition of Task:   0%|          | 0/50 [00:00<?, ?it/s]\n",
      "Repetition of Task: 100%|██████████| 50/50 [00:00<00:00, 752.75it/s]\n"
     ]
    }
   ],
   "source": [
    "!dvc run --force --always-changed -n gen_observations -w .. -d data/env.pickle -p target_area,true_norm,num_observations,obs_data_set -o data/observations.pickle python scripts/gen_observations.py"
   ]
  },
  {
   "cell_type": "markdown",
   "metadata": {
    "cell_id": "00004-74dff12b-6246-4713-9d11-ac00f81ca12d",
    "tags": []
   },
   "source": [
    "### Check log likelihood of observation set given no norm and true norm"
   ]
  },
  {
   "cell_type": "code",
   "execution_count": 3,
   "metadata": {
    "cell_id": "00005-9fe496a2-bccc-4a58-889e-3f50ce6c84f0",
    "output_cleared": false,
    "tags": []
   },
   "outputs": [
    {
     "output_type": "stream",
     "name": "stdout",
     "text": [
      "Running stage 'test_obs_log_likelihood1' with command:\n\tpython scripts/test_obs_likelihood.py none true\nLog likelihood of observations given no norm: -13732.653608350562\n\nLog likelihood of observations given true exp.: -12694.183534230084\n\nModifying stage 'test_obs_log_likelihood1' in 'dvc.yaml'\nUpdating lock file 'dvc.lock'\n\nTo track the changes with git, run:\n\n\tgit add dvc.yaml dvc.lock\n"
     ]
    }
   ],
   "source": [
    "!dvc run --force --always-changed -n test_obs_log_likelihood1 -w .. -d data/observations.pickle -d data/env.pickle -p true_norm.exp python scripts/test_obs_likelihood.py none true"
   ]
  },
  {
   "cell_type": "markdown",
   "metadata": {
    "cell_id": "00004-e450e354-b0f6-4be5-bf60-55c1e89b36d3",
    "tags": []
   },
   "source": [
    "### Generate MCMC chains\n",
    "Creates data/chains_and_log_posteriors.pickle. Also metrics/starts_info.txt, but that is not currently recorded in the \"dvc run\" command below."
   ]
  },
  {
   "cell_type": "code",
   "execution_count": 3,
   "metadata": {
    "allow_embed": false,
    "cell_id": "00002-a888c5f1-50c2-4f53-911d-e56e17413bf5",
    "output_cleared": false,
    "tags": []
   },
   "outputs": [
    {
     "output_type": "stream",
     "name": "stdout",
     "text": "Running stage &#39;gen_mcmc_chains&#39; with command:Traceback (most recent call last):\n  File &quot;scripts/gen_mcmc_chains.py&quot;, line 60, in &lt;module&gt;\n    pickle_it(dask.compute(*chains_and_log_posteriors), &#39;data/chains_and_log_posteriors.pickle&#39;)\n  File &quot;C:\\Users\\crast78p\\OneDrive - University of Otago\\PythonProjects\\my fork - learning_norms_with_mcmc_from_pcfg\\env\\lib\\site-packages\\dask\\base.py&quot;, line 452, in compute\n    results = schedule(dsk, keys, **kwargs)\n  File &quot;C:\\Users\\crast78p\\OneDrive - University of Otago\\PythonProjects\\my fork - learning_norms_with_mcmc_from_pcfg\\env\\lib\\site-packages\\dask\\threaded.py&quot;, line 76, in get\n    results = get_async(\n  File &quot;C:\\Users\\crast78p\\OneDrive - University of Otago\\PythonProjects\\my fork - learning_norms_with_mcmc_from_pcfg\\env\\lib\\site-packages\\dask\\local.py&quot;, line 486, in get_async\n    raise_exception(exc, tb)\n  File &quot;C:\\Users\\crast78p\\OneDrive - University of Otago\\PythonProjects\\my fork - learning_norms_with_mcmc_from_pcfg\\env\\lib\\site-packages\\dask\\local.py&quot;, line 316, in reraise\n    raise exc\n  File &quot;C:\\Users\\crast78p\\OneDrive - University of Otago\\PythonProjects\\my fork - learning_norms_with_mcmc_from_pcfg\\env\\lib\\site-packages\\dask\\local.py&quot;, line 222, in execute_task\n    result = _execute_task(task, data)\n  File &quot;C:\\Users\\crast78p\\OneDrive - University of Otago\\PythonProjects\\my fork - learning_norms_with_mcmc_from_pcfg\\env\\lib\\site-packages\\dask\\core.py&quot;, line 121, in _execute_task\n    return func(*(_execute_task(a, cache) for a in args))\n  File &quot;scripts/gen_mcmc_chains.py&quot;, line 44, in delayed_alg1\n    exp_seq,log_likelihoods = algorithm_1(obs,env,the_task,q_dict,rule_dict,\n  File &quot;src\\mcmc_norm_learning\\algorithm_1_v4.py&quot;, line 195, in algorithm_1\n    new_expression = generate_new_expression(sequence[-1],data,task1,q_dict,rule_dict,env,log_lik_no_norm,relevance_factor,sim_threshold,similarity_penalty,w_normative)\n  File &quot;c:\\users\\crast78p\\onedrive - university of otago\\pythonprojects\\my fork - learning_norms_with_mcmc_from_pcfg\\src\\mcmc_norm_learning\\algorithm_2_v2.py&quot;, line 23, in generate_new_expression\n    a=random.choice(Ae)\n  File &quot;mtrand.pyx&quot;, line 904, in numpy.random.mtrand.RandomState.choice\nValueError: a must be 1-dimensional\nERROR: failed to run: python scripts/gen_mcmc_chains.py, exited with 1\n\n\tpython scripts/gen_mcmc_chains.py\nNormsNo-normNo-norm\nNorm\n\n\nOblPro\nAction\nColour\n\nShape\nZone\nNext-Move\nColour\nShape\nZone\nPer\nAction\nColour\nShape\nPerZone\nNorm\nObl\nNext-Move\nColour\nNo-normShape\nZone\n\nNo-normNo-norm\n\n-inf\nTrying another E0\nNo-norm\n-13732.653608350562-13732.653608350562\nTime to initialise E_0=0.2330s\n-13732.653608350562\nTime to initialise E_0=0.2540s\n\nTime to initialise E_0=0.2550s\n-inf\nNorm\nPro\nActionNo-norm-infTrying another E0\nNorms\n\n\nTrying another E0\n\nPro\nAction\nColour\nShapeColour\nShape\nZone-13732.653608350562\n\nNormsZone\nNo-norm\nTime to initialise E_0=0.3900s\n\n\nPerPro\nAction\nColour\nShape-13732.653608350562No-norm\n\nTime to initialise E_0=0.4520s\n\nZone\nPer\n\nAction\nColour\nShape\n-13732.653608350562\nAction\nColour\nTime to initialise E_0=0.2020s\nShape\nPerZone\n-13732.653608350562\nTime to initialise E_0=0.5670s\n-13732.653608350562\nTime to initialise E_0=0.1990s\n-inf\nTrying another E0\nNo-norm\nPerZone\n-13732.653608350562\nTime to initialise E_0=0.1960s\nNorm\n-13732.653608350562\nTime to initialise E_0=0.6670s\nNorms\n-13732.653608350562\nTime to initialise E_0=0.6720s\nNo-norm\nProPro-inf\nTrying another E0\n\n\nNo-normAction\nColour\nShape\nZone\nPer\nActionAction\n\nColour\nShape\nPerZone\n\nColour\nShape\nNorm\nZone\nObl\nNo-normMoved-13732.653608350562Norm\n\n\nColour\nShape\nZone\nNext-Move\nTime to initialise E_0=0.1920sPro\n\n-infColour\nAction\nColour\nNo-norm\n\nShape\nZoneNorms\nObl\nNext-Move\nColour-13732.653608350562\nTime to initialise E_0=0.2130s\nShape\n-inf\nTrying another E0\n\n\nZone\nTrying another E0No-norm\n\n\nNo-norm\nNo-norm\n-13732.653608350562\nTime to initialise E_0=0.1390s\nShape-inf-13732.653608350562\nTime to initialise E_0=0.2170s\n\nTrying another E0\nNo-norm\n\nZone\nNormPer\n\nOblActionNo-norm\n-13732.653608350562\nTime to initialise E_0=0.3460s\nColour\nShape\n\nNext-Move\nColour\n\nPerZone\n-13732.653608350562Norm\nTime to initialise E_0=0.4380s\nShape\nZone\nObl\nMoved-inf\nTrying another E0\nNo-norm\n\nNorms\nColour\nShape\n-13732.653608350562\nTime to initialise E_0=0.3160s\n\n-13732.653608350562\nTime to initialise E_0=0.3660s\nZonePro\nNext-Move\n\nAction-13732.653608350562\nTime to initialise E_0=0.1950s\n-inf\nTrying another E0\nNorms\nObl\nNext-Move\nColour\nColour\nShape\nZone\nPer\nColour\nShape\nZoneAction\nColour\nNo-norm\n\nNormShapeNo-norm\n\nShape\n\nZone\nPer\nActionPerZone\n-13732.653608350562\nTime to initialise E_0=0.2640s\nColour\nNo-norm\nShape\n\nObl\n\nPerZone\nNext-Move\n-inf\nTrying another E0\nNorms\nObl\n-infColour\n\nShapeMoved\nZoneTrying another E0\nColour\nShape\n\nZone-13732.653608350562-13732.653608350562\nTime to initialise E_0=0.2840s\n-13732.653608350562\nTime to initialise E_0=0.7000s\n\nNext-Move\nColour\nTime to initialise E_0=0.2320s\n-13732.653608350562\nTime to initialise E_0=0.2780s\n\nNorms\nPro\n\n-13732.653608350562\nTime to initialise E_0=0.2890sShape\nNorm\nPro\nAction\nColour\nShape\nZone\n\nNormAction\nColour\nShape\nZone\nPer\nAction\nColour\nShape\nPerZone\n-inf\nTrying another E0\nNo-norm\nNo-normNorms\nObl\nNorms\nObl\nMoved\n\n\nColour\nShape\nZone\nMoved\nColourZone\nPerObl\nShape\n\n\nMovedAction\nColour\n-13732.653608350562\nTime to initialise E_0=0.1660s\nShapeNext-Move\nColour\nShapeZone\nPerZone\n\nColour\nShape\nMoved\nColourZone\nNext-Move\nColour\n\n\nZone\n-13732.653608350562\nTime to initialise E_0=0.4250s\nPer\nNo-normNorms\nShape\nZone\n\n\nShape-inf\nTrying another E0\nNormActionObl\nObl\n-13732.653608350562\nTime to initialise E_0=0.1920s\nNext-Move\nColour\nShape\n\nColour\nNorms\nPro\n\nShapeNext-Move\nColourZone\n-inf\nTrying another E0\nZone\n\n\n\nNo-norm\nMovedAction\nColour\nShape-13732.653608350562\nTime to initialise E_0=0.1870s\n\nColour\nShapePerZone\nZone\nNext-Move\nColour\nShape\nZone\nPer\nAction\n\nNo-norm\n\nZoneColour\n\nShape\nShape-13732.653608350562\nPerZone\nPer\nAction-inf\n"
    }
   ],
   "source": [
    "!dvc run --force -n gen_mcmc_chains -w .. -d data/env.pickle -d data/observations.pickle -p n,m,rf,colour_specific,shape_specific,target_area -o data/chains_and_log_posteriors.pickle python scripts/gen_mcmc_chains.py"
   ]
  },
  {
   "cell_type": "markdown",
   "metadata": {
    "cell_id": "00006-f3d1a0ff-4505-4109-bb09-6f1a37676a60",
    "tags": []
   },
   "source": [
    "### Analyse the chains\n",
    "Generate file metrics/chain_posteriors.csv and append more information to metrics/chain_info.txt (note: DVC may not handle changing a file very well - perhaps a separate file should be created)."
   ]
  },
  {
   "cell_type": "code",
   "execution_count": 1,
   "metadata": {
    "cell_id": "00003-e14a9d99-8f7b-43c9-b9cd-1a1a54f123b0",
    "output_cleared": false,
    "tags": [
     "outputPrepend"
    ]
   },
   "outputs": [
    {
     "output_type": "stream",
     "name": "stdout",
     "text": [
      "17133, -13701.015867017133, -13701.015867017133, -13701.015867017133, -13701.015867017133, -13701.015867017133, -13701.015867017133, -13701.015867017133, -13701.015867017133, -13701.015867017133, -13701.015867017133, -13701.015867017133, -13701.015867017133, -13701.015867017133, -13701.015867017133, -13701.015867017133, -13701.015867017133, -13701.015867017133, -13701.015867017133, -13701.015867017133, -13701.015867017133, -13701.015867017133, -13701.015867017133, -13701.015867017133, -13701.015867017133, -13701.015867017133, -13701.015867017133, -13701.015867017133, -13701.015867017133, -13701.015867017133, -13701.015867017133, -13702.114479305801, -13702.114479305801, -13702.114479305801, -13702.114479305801, -13702.114479305801, -13702.114479305801, -13702.114479305801, -13702.114479305801, -13702.114479305801, -13733.346755531122, -13733.346755531122, -13733.346755531122, -13733.346755531122, -13733.346755531122, -13733.346755531122, -13733.346755531122, -13733.346755531122, -13733.346755531122, -13733.346755531122, -13733.346755531122, -13733.346755531122, -13733.346755531122, -13733.346755531122, -13733.346755531122, -13733.346755531122, -13733.346755531122, -13733.346755531122, -13733.346755531122, -13733.346755531122, -13733.346755531122, -13733.346755531122, -13733.346755531122, -13733.346755531122, -13733.346755531122, -13733.346755531122, -13733.346755531122, -13733.346755531122, -13733.346755531122, -13733.346755531122, -13733.346755531122, -13733.346755531122, -13733.346755531122, -13733.346755531122, -13733.346755531122, -13733.346755531122, -13733.346755531122, -13733.346755531122, -13733.346755531122, -13733.346755531122, -13733.346755531122, -13733.346755531122, -13733.346755531122, -13733.346755531122, -13733.346755531122, -13733.346755531122, -13733.346755531122, -13733.346755531122, -13733.346755531122, -13733.346755531122, -13733.346755531122, -13733.346755531122, -13733.346755531122, -13733.346755531122, -13733.346755531122, -13733.346755531122, -13733.346755531122, -13733.346755531122, -13733.346755531122, -13733.346755531122, -13733.346755531122, -13733.346755531122, -13733.346755531122, -13733.346755531122, -13733.346755531122, -13733.346755531122, -13733.346755531122, -13733.346755531122, -13733.346755531122, -13733.346755531122, -13733.346755531122, -13733.346755531122, -13733.346755531122, -13733.346755531122, -13733.346755531122, -13733.346755531122, -13733.346755531122, -13733.346755531122, -13733.346755531122, -13733.346755531122, -13733.346755531122, -13733.346755531122, -13733.346755531122, -13733.346755531122, -13733.346755531122, -13733.346755531122, -13733.346755531122, -13733.346755531122, -13733.346755531122, -13733.346755531122, -13733.346755531122, -13733.346755531122, -13733.346755531122, -13733.346755531122, -13733.346755531122, -13733.346755531122, -13733.346755531122, -13733.346755531122, -13733.346755531122, -13733.346755531122, -13733.346755531122, -13733.346755531122, -13733.346755531122, -13733.346755531122, -13733.346755531122, -13733.346755531122, -13733.346755531122, -13733.346755531122, -13733.346755531122, -13733.346755531122, -13733.346755531122, -13733.346755531122, -13733.346755531122, -13733.346755531122, -13733.346755531122, -13733.346755531122, -13733.346755531122, -13733.346755531122, -13733.346755531122, -13733.346755531122, -13733.346755531122, -13733.346755531122, -13733.346755531122, -13733.346755531122, -13733.346755531122, -13733.346755531122, -13733.346755531122, -13733.346755531122, -13733.346755531122, -13733.346755531122, -13733.346755531122, -13733.346755531122, -13733.346755531122, -13733.346755531122, -13733.346755531122, -13733.346755531122, -13733.346755531122, -13733.346755531122, -13733.346755531122, -13733.346755531122, -13733.346755531122, -13733.346755531122, -13733.346755531122, -13733.346755531122, -13733.346755531122, -13733.346755531122, -13733.346755531122, -13733.346755531122, -13733.346755531122, -13733.346755531122, -13733.346755531122, -13733.346755531122, -13733.346755531122, -13733.346755531122, -13733.346755531122, -13733.346755531122, -13733.346755531122, -13733.346755531122, -13733.346755531122, -13733.346755531122, -13733.346755531122, -13733.346755531122, -13733.346755531122, -13733.346755531122, -13733.346755531122, -13733.346755531122, -13733.346755531122, -13733.346755531122, -13733.346755531122, -13733.346755531122, -13733.346755531122, -13733.346755531122, -13733.346755531122, -13733.346755531122, -13733.346755531122, -13733.346755531122, -13733.346755531122, -13733.346755531122, -13733.346755531122, -13733.346755531122, -13733.346755531122, -13733.346755531122, -13733.346755531122, -13733.346755531122, -13733.346755531122, -13733.346755531122, -13733.346755531122, -13733.346755531122, -13733.346755531122, -13733.346755531122, -13733.346755531122, -13733.346755531122, -13733.346755531122, -13733.346755531122, -13733.346755531122, -13733.346755531122, -13733.346755531122, -13733.346755531122, -13733.346755531122, -13733.346755531122, -13733.346755531122, -13733.346755531122, -13733.346755531122, -13733.346755531122, -13733.346755531122, -13733.346755531122, -13733.346755531122, -13733.346755531122, -13733.346755531122, -13733.346755531122, -13733.346755531122, -13733.346755531122, -13733.346755531122, -13733.346755531122, -13733.346755531122, -13733.346755531122, -13733.346755531122, -13733.346755531122, -13733.346755531122, -13733.346755531122, -13733.346755531122, -13733.346755531122, -13733.346755531122, -13733.346755531122, -13733.346755531122, -13733.346755531122, -13733.346755531122, -13733.346755531122, -13733.346755531122, -13733.346755531122, -13733.346755531122, -13733.346755531122, -13733.346755531122, -13733.346755531122, -13733.346755531122, -13733.346755531122, -13733.346755531122, -13733.346755531122, -13733.346755531122, -13733.346755531122, -13733.346755531122, -13733.346755531122, -13733.346755531122, -13733.346755531122, -13733.346755531122, -13733.346755531122, -13733.346755531122, -13733.346755531122, -13733.346755531122, -13733.346755531122, -13733.346755531122, -13733.346755531122, -13733.346755531122, -13733.346755531122, -13733.346755531122, -13733.346755531122, -13733.346755531122, -13733.346755531122, -13733.346755531122, -13733.346755531122, -13733.346755531122, -13733.346755531122, -13733.346755531122, -13733.346755531122, -13733.346755531122, -13733.346755531122, -13733.346755531122, -13733.346755531122, -13733.346755531122, -13733.346755531122, -13733.346755531122, -13733.346755531122, -13733.346755531122, -13733.346755531122, -13733.346755531122, -13733.346755531122, -13733.346755531122, -13733.346755531122, -13733.346755531122, -13733.346755531122, -13733.346755531122, -13733.346755531122, -13733.346755531122, -13733.346755531122, -13733.346755531122, -13733.346755531122, -13733.346755531122, -13733.346755531122, -13733.346755531122, -13733.346755531122, -13733.346755531122, -13733.346755531122, -13733.346755531122, -13733.346755531122, -13733.346755531122, -13733.346755531122, -13733.346755531122, -13733.346755531122, -13733.346755531122, -13733.346755531122, -13733.346755531122, -13733.346755531122, -13733.346755531122, -13733.346755531122, -13733.346755531122, -13733.346755531122, -13733.346755531122, -13733.346755531122, -13733.346755531122, -13733.346755531122, -13733.346755531122, -13733.346755531122, -13733.346755531122, -13733.346755531122, -13733.346755531122, -13733.346755531122, -13733.346755531122, -13733.346755531122, -13733.346755531122, -13733.346755531122, -13733.346755531122, -13733.346755531122, -13733.346755531122, -13733.346755531122, -13733.346755531122, -13733.346755531122, -13733.346755531122, -13733.346755531122, -13733.346755531122, -13733.346755531122, -13733.346755531122, -13733.346755531122, -13733.346755531122, -13733.346755531122, -13733.346755531122, -13733.346755531122, -13733.346755531122, -13733.346755531122, -13733.346755531122, -13733.346755531122, -13733.346755531122, -13733.346755531122, -13733.346755531122, -13733.346755531122, -13733.346755531122, -13733.346755531122, -13733.346755531122, -13733.346755531122, -13733.346755531122, -13733.346755531122, -13733.346755531122, -13733.346755531122, -13733.346755531122, -13733.346755531122, -13733.346755531122, -13733.346755531122, -13733.346755531122, -13733.346755531122, -13733.346755531122, -13733.346755531122, -13733.346755531122, -13733.346755531122, -13733.346755531122, -13733.346755531122, -13733.346755531122, -13733.346755531122, -13733.346755531122, -13733.346755531122, -13733.346755531122, -13733.346755531122, -13733.346755531122, -13733.346755531122, -13733.346755531122, -13733.346755531122, -13733.346755531122, -13733.346755531122, -13733.346755531122, -13733.346755531122, -13733.346755531122, -13733.346755531122, -13733.346755531122, -13733.346755531122, -13733.346755531122, -13733.346755531122, -13733.346755531122, -13733.346755531122, -13733.346755531122, -13733.346755531122, -13733.346755531122, -13733.346755531122, -13733.346755531122, -13733.346755531122, -13733.346755531122, -13733.346755531122, -13733.346755531122, -13733.346755531122, -13733.346755531122, -13733.346755531122, -13733.346755531122, -13733.346755531122, -13733.346755531122, -13733.346755531122, -13733.346755531122, -13733.346755531122, -13733.346755531122, -13733.346755531122, -13733.346755531122, -13733.346755531122, -13733.346755531122, -13733.346755531122, -13733.346755531122, -13733.346755531122, -13733.346755531122, -13733.346755531122, -13733.346755531122, -13733.346755531122, -13733.346755531122, -13733.346755531122, -13733.346755531122, -13733.346755531122, -13733.346755531122, -13733.346755531122, -13733.346755531122, -13733.346755531122, -13733.346755531122, -13733.346755531122, -13733.346755531122, -13733.346755531122, -13733.346755531122, -13733.346755531122, -13733.346755531122, -13733.346755531122, -13733.346755531122, -13733.346755531122, -13733.346755531122, -13733.346755531122, -13733.346755531122, -13733.346755531122, -13733.346755531122, -13733.346755531122, -13733.346755531122, -13733.346755531122, -13733.346755531122, -13733.346755531122, -13733.346755531122, -13733.346755531122, -13733.346755531122, -13733.346755531122, -13733.346755531122, -13733.346755531122, -13733.346755531122, -13733.346755531122, -13733.346755531122, -13733.346755531122, -13733.346755531122, -13733.346755531122, -13733.346755531122, -13733.346755531122, -13733.346755531122, -13733.346755531122, -13733.346755531122, -13733.346755531122, -13733.346755531122, -13733.346755531122, -13733.346755531122, -13733.346755531122, -13733.346755531122, -13733.346755531122, -13733.346755531122, -13733.346755531122, -13733.346755531122, -13733.346755531122, -13733.346755531122, -13733.346755531122, -13733.346755531122, -13733.346755531122, -13733.346755531122, -13733.346755531122, -13733.346755531122, -13733.346755531122, -13733.346755531122, -13733.346755531122, -13733.346755531122, -13733.346755531122, -13733.346755531122, -13733.346755531122, -13733.346755531122, -13733.346755531122, -13733.346755531122, -13733.346755531122, -13733.346755531122, -13733.346755531122, -13733.346755531122, -13733.346755531122, -13733.346755531122, -13733.346755531122, -13733.346755531122, -13733.346755531122, -13733.346755531122, -13733.346755531122, -13733.346755531122, -13733.346755531122, -13733.346755531122, -13733.346755531122, -13733.346755531122, -13733.346755531122, -13733.346755531122, -13733.346755531122, -13733.346755531122, -13733.346755531122, -13733.346755531122, -13733.346755531122, -13733.346755531122, -13733.346755531122, -13733.346755531122, -13733.346755531122, -13733.346755531122, -13733.346755531122, -13733.346755531122, -13733.346755531122, -13733.346755531122, -13733.346755531122, -13733.346755531122, -13733.346755531122, -13733.346755531122, -13733.346755531122, -13733.346755531122, -13733.346755531122, -13733.346755531122, -13733.346755531122, -13733.346755531122, -13733.346755531122, -13733.346755531122, -13733.346755531122, -13733.346755531122, -13733.346755531122, -13733.346755531122, -13733.346755531122, -13733.346755531122, -13733.346755531122, -13733.346755531122, -13733.346755531122, -13733.346755531122, -13733.346755531122, -13733.346755531122, -13733.346755531122, -13733.346755531122, -13733.346755531122, -13733.346755531122, -13733.346755531122, -13733.346755531122, -13733.346755531122, -13733.346755531122, -13733.346755531122, -13733.346755531122, -13733.346755531122, -13733.346755531122, -13733.346755531122, -13733.346755531122, -13733.346755531122, -13733.346755531122, -13733.346755531122, -13733.346755531122, -13733.346755531122, -13733.346755531122, -13733.346755531122, -13733.346755531122, -13733.346755531122, -13733.346755531122, -13733.346755531122, -13733.346755531122, -13733.346755531122, -13733.346755531122, -13733.346755531122, -13733.346755531122, -13733.346755531122, -13733.346755531122, -13733.346755531122, -13733.346755531122, -13733.346755531122, -13733.346755531122, -13733.346755531122, -13733.346755531122, -13733.346755531122, -13733.346755531122, -13733.346755531122, -13733.346755531122, -13733.346755531122, -13733.346755531122, -13733.346755531122, -13733.346755531122, -13733.346755531122, -13733.346755531122, -13733.346755531122, -13733.346755531122, -13733.346755531122, -13733.346755531122, -13733.346755531122, -13733.346755531122, -13733.346755531122, -13733.346755531122, -13733.346755531122, -13733.346755531122, -13733.346755531122, -13733.346755531122, -13733.346755531122, -13733.346755531122, -13733.346755531122, -13733.346755531122, -13733.346755531122, -13733.346755531122, -13733.346755531122, -13733.346755531122, -13733.346755531122, -13733.346755531122, -13733.346755531122, -13733.346755531122, -13733.346755531122, -13733.346755531122, -13733.346755531122, -13733.346755531122, -13733.346755531122, -13733.346755531122, -13733.346755531122, -13733.346755531122, -13733.346755531122, -13733.346755531122, -13733.346755531122, -13733.346755531122, -13733.346755531122, -13733.346755531122, -13733.346755531122, -13733.346755531122, -13733.346755531122, -13733.346755531122, -13733.346755531122, -13733.346755531122, -13733.346755531122, -13733.346755531122, -13733.346755531122, -13733.346755531122, -13733.346755531122, -13733.346755531122, -13733.346755531122, -13733.346755531122, -13733.346755531122, -13733.346755531122, -13733.346755531122, -13733.346755531122, -13733.346755531122, -13733.346755531122, -13733.346755531122, -13733.346755531122, -13733.346755531122, -13733.346755531122, -13733.346755531122, -13733.346755531122, -13733.346755531122, -13733.346755531122, -13733.346755531122, -13733.346755531122, -13733.346755531122, -13733.346755531122, -13733.346755531122, -13733.346755531122, -13733.346755531122, -13733.346755531122, -13733.346755531122, -13733.346755531122, -13733.346755531122, -13733.346755531122, -13733.346755531122, -13733.346755531122, -13733.346755531122, -13733.346755531122, -13733.346755531122, -13733.346755531122, -13733.346755531122, -13733.346755531122, -13733.346755531122, -13733.346755531122, -13733.346755531122, -13733.346755531122, -13733.346755531122, -13733.346755531122, -13733.346755531122, -13733.346755531122, -13733.346755531122, -13733.346755531122, -13733.346755531122, -13733.346755531122, -13733.346755531122, -13739.415181119366, -13739.415181119366, -13739.415181119366, -13739.415181119366, -13739.415181119366, -13739.415181119366, -13739.415181119366, -13739.415181119366, -13739.415181119366, -13739.415181119366, -13739.415181119366, -13739.415181119366, -13739.415181119366, -13739.415181119366, -13739.415181119366, -13739.415181119366, -13739.415181119366, -13739.415181119366, -13739.415181119366, -13739.415181119366, -13739.415181119366, -13739.415181119366, -13739.415181119366, -13739.415181119366, -13739.415181119366, -13739.415181119366, -13739.415181119366, -13739.415181119366, -13739.415181119366, -13739.415181119366, -13739.415181119366, -13739.415181119366, -13739.415181119366, -13739.415181119366, -13739.415181119366, -13739.415181119366, -13739.415181119366, -13739.415181119366, -13739.415181119366, -13739.415181119366, -13739.415181119366, -13739.415181119366, -13739.415181119366, -13739.415181119366, -13739.415181119366, -13739.415181119366, -13739.415181119366, -13739.415181119366, -13739.415181119366, -13739.415181119366, -13739.415181119366, -13739.415181119366, -13739.415181119366, -13739.415181119366, -13739.415181119366, -13739.415181119366, -13739.415181119366, -13739.415181119366, -13739.415181119366, -13739.415181119366, -13739.820646227474, -13739.820646227474, -13739.820646227474, -13739.820646227474, -13739.820646227474, -13739.820646227474, -13739.820646227474, -13739.820646227474, -13739.820646227474, -13739.820646227474, -13739.820646227474, -13739.820646227474, -13739.820646227474, -13739.820646227474, -13739.820646227474, -13739.820646227474, -13739.820646227474, -13740.396010372377, -13740.396010372377, -13740.396010372377, -13740.396010372377, -13740.396010372377, -13740.396010372377, -13740.396010372377, -13740.396010372377, -13740.396010372377, -13740.396010372377, -13740.396010372377, -13740.801475480486, -13740.801475480486, -13740.801475480486, -13740.801475480486, -13740.801475480486, -13740.801475480486, -13741.494622661046, -13741.494622661046, -13741.494622661046, -13741.494622661046, -13741.494622661046, -13741.494622661046, -13741.494622661046, -13741.494622661046, -13741.494622661046, -13741.494622661046, -13741.494622661046, -13741.494622661046, -13741.494622661046, -13741.494622661046, -13741.494622661046, -13741.900087769154, -13741.900087769154, -13742.593234949714, -13742.593234949714, -13742.593234949714, -13742.593234949714, -13742.593234949714, -13742.593234949714, -13743.40416516593, -13743.691847238382, -13743.691847238382, -13744.09731234649, -13744.09731234649, -13744.09731234649, -13744.09731234649, -13744.09731234649, -13744.502777454598, -13744.502777454598, -13744.502777454598, -13744.502777454598, -13744.502777454598, -13744.502777454598, -13744.502777454598, -13744.502777454598, -13744.502777454598, -13744.502777454598, -13745.48360670761, -13745.48360670761, -13745.48360670761, -13745.601389743266, -13745.601389743266, -13745.601389743266, -13746.582218996278, -13746.987684104386, -13746.987684104386, -13746.987684104386, -13748.086296393054, -13748.086296393054, -13748.086296393054, -13748.086296393054, -13748.086296393054, -13748.086296393054, -13748.086296393054, -13748.086296393054, -13748.086296393054, -13748.086296393054, -13748.086296393054, -13748.086296393054, -13748.086296393054, -13748.086296393054, -13748.086296393054, -13748.086296393054, -13749.184908681722, -13749.184908681722, -13749.184908681722, -13749.184908681722, -13749.184908681722, -13749.184908681722, -13749.184908681722, -13750.28352097039, -13750.28352097039]\n",
      "dict_keys([-13739.820646227474, -13740.396010372377, -13741.494622661046, -13746.582218996278, -13745.48360670761, -13733.346755531122, -13739.415181119366, -13744.502777454598, -13745.601389743266, -13743.40416516593, -13740.801475480486, -13741.900087769154, -13744.09731234649, -13743.691847238382, -13742.593234949714, -13750.28352097039, -13749.184908681722, -13748.086296393054, -13746.987684104386, -13701.015867017133, -13699.917254728465, -13698.818642439797, -13702.114479305801, -13693.848829140221, -13692.750216851553, -13694.947441428889, -13691.651604562885, -13696.046053717557, -13698.530960367345, -13699.629572656013, -13642.501733645284, -13525.652740707037, -13490.99538167904, -13422.779275911711, -13421.680663623043, -13420.582051334375, -13423.877888200379, -13419.195756973257, -13418.097144684589, -13416.99853239592, -13420.294369261925, -12708.1121448758, -12709.210757164468])\n",
      "\n",
      "\n",
      "Writing 20000 rows to CSV file\n",
      "\n",
      "Modifying stage 'analyse_chains' in 'dvc.yaml'\n",
      "Updating lock file 'dvc.lock'\n",
      "\n",
      "To track the changes with git, run:\n",
      "\n",
      "\tgit add dvc.lock dvc.yaml\n"
     ]
    }
   ],
   "source": [
    "!dvc run --force -n analyse_chains -w .. -d data/chains_and_log_posteriors.pickle -d data/env.pickle -d data/observations.pickle -p n,m,rf,colour_specific,shape_specific,target_area -o metrics/chain_info.txt --plots metrics/chain_posteriors.csv python scripts/analyse_chains.py"
   ]
  },
  {
   "cell_type": "markdown",
   "metadata": {
    "cell_id": "00008-b6e9f15d-9983-4607-9c11-5f3c30b75fde",
    "tags": []
   },
   "source": [
    "### Generate a plot showing norms ordered by likelihood (or now posterior prob.?)\n",
    "The file plots.html is generated in the root folder, based on data in metrics/chain_posteriors.csv"
   ]
  },
  {
   "cell_type": "code",
   "execution_count": 4,
   "metadata": {
    "cell_id": "00004-8dfebf1c-ed1c-4abf-933c-d5855e0bda14",
    "output_cleared": false,
    "tags": []
   },
   "outputs": [
    {
     "output_type": "stream",
     "name": "stdout",
     "text": [
      "/c/Users/crast78p/OneDrive - University of Otago/PythonProjects/my fork - learning_norms_with_mcmc_from_pcfg\n",
      "\n",
      "ERROR: unexpected error - 'metrics/chain_posteriors.csv'\n",
      "Having any troubles? Hit us up at https://dvc.org/support, we are always happy to help!\n",
      "DVC version: 1.8.1 (pip)\n",
      "---------------------------------\n",
      "Platform: Python 3.8.2 on Windows-10-10.0.18362-SP0\n",
      "Supports: gdrive, http, https\n",
      "Cache types: hardlink\n",
      "Cache directory: NTFS on C:\\\n",
      "Workspace directory: NTFS on C:\\\n",
      "Repo: dvc, git\n"
     ]
    }
   ],
   "source": [
    "!pushd .. && pwd && dvc plots show -t plots/norm_exp_histogram.json metrics/chain_posteriors.csv"
   ]
  },
  {
   "cell_type": "markdown",
   "metadata": {
    "cell_id": "00010-2b350a37-8c93-4bbe-9f6e-62dbcb503907",
    "tags": []
   },
   "source": [
    "### Perform a convergence test to compute $\\hat{R}$\n",
    "The result is written to metrics/conv_test.txt. Also, the posterior sample (after discarding initial warm-up segments of chains and combining the remains) is writen to data/posterior.pickle. \n"
   ]
  },
  {
   "cell_type": "code",
   "execution_count": 2,
   "metadata": {
    "cell_id": "00004-de24100b-aa90-45d8-9951-e740220ab08e",
    "output_cleared": false,
    "tags": []
   },
   "outputs": [
    {
     "output_type": "stream",
     "name": "stdout",
     "text": [
      "Running stage 'conv_test' with command:\n\tpython scripts/conv_test.py\nHBox(children=(FloatProgress(value=0.0, description='Progress', max=8.0, style=ProgressStyle(description_width='initial')), HTML(value='')))\n\nCalculating Variance for 1st 50 iterations\nTemp. check: seq length is 50\nTime taken for job=0.4s\n\nCalculating Variance for 1st 100 iterations\nTemp. check: seq length is 100\nTime taken for job=0.7s\n\nCalculating Variance for 1st 200 iterations\nTemp. check: seq length is 200\nTime taken for job=1.3s\n\nCalculating Variance for 1st 400 iterations\nTemp. check: seq length is 400\nTime taken for job=2.7s\n\nCalculating Variance for 1st 800 iterations\nTemp. check: seq length is 800\nTime taken for job=5.9s\n\nCalculating Variance for 1st 1600 iterations\nTemp. check: seq length is 1600\nTime taken for job=10.5s\n\nCalculating Variance for 1st 3200 iterations\nTemp. check: seq length is 3200\nTime taken for job=20.5s\n\nCalculating Variance for 1st 4999 iterations\nTemp. check: seq length is 4999\nTime taken for job=30.9s\n\nModifying stage 'conv_test' in 'dvc.yaml'\nUpdating lock file 'dvc.lock'\n\nTo track the changes with git, run:\n\n\tgit add dvc.lock dvc.yaml\n"
     ]
    }
   ],
   "source": [
    "!dvc run --force -n conv_test -w .. -d data/chains_and_log_posteriors.pickle -p rhat_step_size -o data/posterior.pickle -o metrics/conv_test.txt python scripts/conv_test.py"
   ]
  },
  {
   "cell_type": "markdown",
   "metadata": {
    "cell_id": "00012-00464624-daf9-430c-bfcd-ef140ce0659b",
    "tags": []
   },
   "source": [
    "### Extract the top norms and compute precision and recall\n",
    "The results are written to metrics/precision_recall.txt.\n"
   ]
  },
  {
   "cell_type": "code",
   "execution_count": 3,
   "metadata": {
    "allow_embed": false,
    "cell_id": "00005-bc971935-b212-471d-bce0-fd808b7f5362",
    "output_cleared": false,
    "tags": []
   },
   "outputs": [
    {
     "output_type": "stream",
     "name": "stdout",
     "text": [
      "Running stage 'extract_top_norms' with command:\n",
      "\tpython scripts/extract_top_norms.py\n",
      "True expression passed to performance(...): ['Norms', ['Obl', ['Moved', ['Colour', 'r'], ['Shape', 'any'], ['Zone', '1'], ['Next-Move', ['Colour', 'any'], ['Shape', 'any']]], ['Zone', '2']], ['Per', ['Action', 'putdown'], ['Colour', 'any'], ['Shape', 'square'], ['PerZone', '3']]]\n",
      "true_data[0]: ((('pickup', 3), ('putdown', 3, '1')), (('pickup', 40), ('putdown', 40, '3')), (('pickup', 13), ('putdown', 13, '3')), (('pickup', 8), ('putdown', 8, '3')), (('pickup', 35), ('putdown', 35, '1')))\n",
      "Calculting P&R for exp (('Norms', ('Obl', ('Moved', ('Colour', 'r'), ('Shape', 'any'), ('Zone', '1'), ('Next-Move', ('Colour', 'any'), ('Shape', 'any'))), ('Zone', '2')), ('Per', ('Action', 'putdown'), ('Colour', 'any'), ('Shape', 'square'), ('PerZone', '3'))), 13322) at rank 1\n",
      "predicted_data[0]: ((('pickup', 35), ('putdown', 35, '1')), (('pickup', 3), ('putdown', 3, '2')), (('pickup', 40), ('putdown', 40, '3')), (('pickup', 8), ('putdown', 8, '2')), (('pickup', 13), ('putdown', 13, '3')))\n",
      "Identical sets: False\n",
      "Num. distinct executions in observations: 21451\n",
      "\n",
      "Num. distinct executions given learned exp.: 21479\n",
      "\n",
      "Size of intersection: 20952\n",
      "Calculting P&R for exp (('Norms', ('Obl', ('Moved', ('Colour', 'any'), ('Shape', 'circle'), ('Zone', '1'), ('Next-Move', ('Colour', 'any'), ('Shape', 'any'))), ('Zone', '2')), ('Per', ('Action', 'putdown'), ('Colour', 'any'), ('Shape', 'square'), ('PerZone', '3'))), 12433) at rank 2\n",
      "predicted_data[0]: ((('pickup', 13), ('putdown', 13, '1')), (('pickup', 35), ('putdown', 35, '3')), (('pickup', 40), ('putdown', 40, '1')), (('pickup', 3), ('putdown', 3, '2')), (('pickup', 8), ('putdown', 8, '1')))\n",
      "Identical sets: False\n",
      "Num. distinct executions in observations: 21451\n",
      "\n",
      "Num. distinct executions given learned exp.: 21493\n",
      "\n",
      "Size of intersection: 20962\n",
      "Calculting P&R for exp (('Norm', ('Obl', ('Moved', ('Colour', 'r'), ('Shape', 'any'), ('Zone', '1'), ('Next-Move', ('Colour', 'any'), ('Shape', 'triangle'))), ('Zone', '2'))), 6483) at rank 3\n",
      "\n",
      "Repetition of Task:   0%|          | 0/100000 [00:00<?, ?it/s]\n",
      "Repetition of Task:   0%|          | 46/100000 [00:00<03:39, 455.55it/s]\n",
      "Repetition of Task:   0%|          | 91/100000 [00:00<03:43, 447.25it/s]\n",
      "Repetition of Task:   0%|          | 130/100000 [00:00<03:55, 424.25it/s]\n",
      "Repetition of Task:   0%|          | 161/100000 [00:00<04:22, 381.05it/s]\n",
      "Repetition of Task:   0%|          | 194/100000 [00:00<04:34, 363.83it/s]\n",
      "Repetition of Task:   0%|          | 233/100000 [00:00<04:29, 370.29it/s]\n",
      "Repetition of Task:   0%|          | 266/100000 [00:00<04:59, 332.75it/s]\n",
      "Repetition of Task:   0%|          | 312/100000 [00:00<04:34, 362.86it/s]\n",
      "Repetition of Task:   0%|          | 354/100000 [00:00<04:28, 371.68it/s]\n",
      "Repetition of Task:   0%|          | 396/100000 [00:01<04:21, 380.81it/s]\n",
      "Repetition of Task:   0%|          | 437/100000 [00:01<04:17, 386.95it/s]\n",
      "Repetition of Task:   0%|          | 476/100000 [00:01<04:19, 383.28it/s]\n",
      "Repetition of Task:   1%|          | 515/100000 [00:01<04:27, 372.50it/s]\n",
      "Repetition of Task:   1%|          | 558/100000 [00:01<04:18, 384.97it/s]\n",
      "Repetition of Task:   1%|          | 600/100000 [00:01<04:13, 391.53it/s]\n",
      "Repetition of Task:   1%|          | 640/100000 [00:01<04:15, 388.36it/s]\n",
      "Repetition of Task:   1%|          | 685/100000 [00:01<04:05, 403.96it/s]\n",
      "Repetition of Task:   1%|          | 736/100000 [00:01<03:50, 429.78it/s]\n",
      "Repetition of Task:   1%|          | 790/100000 [00:01<03:37, 456.66it/s]\n",
      "Repetition of Task:   1%|          | 856/100000 [00:02<03:17, 500.95it/s]\n",
      "Repetition of Task:   1%|          | 911/100000 [00:02<03:13, 511.80it/s]\n",
      "predicted_data[0]: ((('pickup', 35), ('putdown', 35, '2')), (('pickup', 3), ('putdown', 3, '2')), (('pickup', 40), ('putdown', 40, '2')), (('pickup', 13), ('putdown', 13, '2')), (('pickup', 8), ('putdown', 8, '2')))\n",
      "Identical sets: False\n",
      "Num. distinct executions in observations: 21451\n",
      "\n",
      "Num. distinct executions given learned exp.: 25769\n",
      "\n",
      "Size of intersection: 20831\n",
      "Calculting P&R for exp (('Norm', ('Obl', ('Moved', ('Colour', 'any'), ('Shape', 'circle'), ('Zone', '1'), ('Next-Move', ('Colour', 'any'), ('Shape', 'triangle'))), ('Zone', '2'))), 5380) at rank 4\n",
      "predicted_data[0]: ((('pickup', 40), ('putdown', 40, '1')), (('pickup', 13), ('putdown', 13, '1')), (('pickup', 3), ('putdown', 3, '3')), (('pickup', 35), ('putdown', 35, '1')), (('pickup', 8), ('putdown', 8, '3')))\n",
      "Identical sets: False\n",
      "Num. distinct executions in observations: 21451\n",
      "\n",
      "Num. distinct executions given learned exp.: 25788\n",
      "\n",
      "Size of intersection: 20822\n",
      "Calculting P&R for exp (('Norms', ('Obl', ('Moved', ('Colour', 'r'), ('Shape', 'circle'), ('Zone', '1'), ('Next-Move', ('Colour', 'any'), ('Shape', 'any'))), ('Zone', '2')), ('Per', ('Action', 'putdown'), ('Colour', 'any'), ('Shape', 'square'), ('PerZone', '3'))), 4242) at rank 5\n",
      "predicted_data[0]: ((('pickup', 13), ('putdown', 13, '3')), (('pickup', 40), ('putdown', 40, '1')), (('pickup', 3), ('putdown', 3, '2')), (('pickup', 35), ('putdown', 35, '1')), (('pickup', 8), ('putdown', 8, '2')))\n",
      "Identical sets: False\n",
      "Num. distinct executions in observations: 21451\n",
      "\n",
      "Num. distinct executions given learned exp.: 21402\n",
      "\n",
      "Size of intersection: 20876\n",
      "Calculting P&R for exp (('Norm', ('Obl', ('Moved', ('Colour', 'r'), ('Shape', 'circle'), ('Zone', '1'), ('Next-Move', ('Colour', 'any'), ('Shape', 'triangle'))), ('Zone', '2'))), 2263) at rank 6\n",
      "predicted_data[0]: ((('pickup', 40), ('putdown', 40, '1')), (('pickup', 3), ('putdown', 3, '2')), (('pickup', 8), ('putdown', 8, '3')), (('pickup', 35), ('putdown', 35, '3')), (('pickup', 13), ('putdown', 13, '2')))\n",
      "Identical sets: False\n",
      "Num. distinct executions in observations: 21451\n",
      "\n",
      "Num. distinct executions given learned exp.: 25777\n",
      "\n",
      "Size of intersection: 20830\n",
      "Calculting P&R for exp (('Norm', ('Obl', ('Moved', ('Colour', 'any'), ('Shape', 'circle'), ('Zone', '1'), ('Next-Move', ('Colour', 'b'), ('Shape', 'triangle'))), ('Zone', '2'))), 2258) at rank 7\n",
      "predicted_data[0]: ((('pickup', 13), ('putdown', 13, '3')), (('pickup', 40), ('putdown', 40, '2')), (('pickup', 35), ('putdown', 35, '3')), (('pickup', 3), ('putdown', 3, '1')), (('pickup', 8), ('putdown', 8, '2')))\n",
      "Identical sets: False\n",
      "Num. distinct executions in observations: 21451\n",
      "\n",
      "Num. distinct executions given learned exp.: 25722\n",
      "\n",
      "Size of intersection: 20774\n",
      "Calculting P&R for exp (('Norm', ('Obl', ('Moved', ('Colour', 'r'), ('Shape', 'any'), ('Zone', '1'), ('Next-Move', ('Colour', 'b'), ('Shape', 'triangle'))), ('Zone', '2'))), 1861) at rank 8\n",
      "predicted_data[0]: ((('pickup', 40), ('putdown', 40, '2')), (('pickup', 3), ('putdown', 3, '3')), (('pickup', 35), ('putdown', 35, '1')), (('pickup', 13), ('putdown', 13, '3')), (('pickup', 8), ('putdown', 8, '3')))\n",
      "Identical sets: False\n",
      "Num. distinct executions in observations: 21451\n",
      "\n",
      "Num. distinct executions given learned exp.: 25776\n",
      "\n",
      "Size of intersection: 20803\n",
      "Calculting P&R for exp (('Norm', ('Obl', ('Moved', ('Colour', 'r'), ('Shape', 'circle'), ('Zone', '1'), ('Next-Move', ('Colour', 'b'), ('Shape', 'triangle'))), ('Zone', '2'))), 761) at rank 9\n",
      "predicted_data[0]: ((('pickup', 13), ('putdown', 13, '1')), (('pickup', 8), ('putdown', 8, '3')), (('pickup', 3), ('putdown', 3, '2')), (('pickup', 35), ('putdown', 35, '2')), (('pickup', 40), ('putdown', 40, '1')))\n",
      "Identical sets: False\n",
      "Num. distinct executions in observations: 21451\n",
      "\n",
      "Num. distinct executions given learned exp.: 25773\n",
      "\n",
      "Size of intersection: 20821\n",
      "Calculting P&R for exp (('Norm', ('Obl', ('Moved', ('Colour', 'any'), ('Shape', 'any'), ('Zone', '1'), ('Moved', ('Colour', 'any'), ('Shape', 'circle'), ('Zone', '2'), ('Next-Move', ('Colour', 'b'), ('Shape', 'square')))), ('Zone', '3'))), 692) at rank 10\n",
      "predicted_data[0]: ((('pickup', 40), ('putdown', 40, '3')), (('pickup', 3), ('putdown', 3, '3')), (('pickup', 35), ('putdown', 35, '2')), (('pickup', 13), ('putdown', 13, '1')), (('pickup', 8), ('putdown', 8, '2')))\n",
      "Identical sets: False\n",
      "Num. distinct executions in observations: 21451\n",
      "\n",
      "Num. distinct executions given learned exp.: 27576\n",
      "\n",
      "Size of intersection: 20211\n",
      "Calculting P&R for exp (('Norm', ('Obl', ('Moved', ('Colour', 'any'), ('Shape', 'any'), ('Zone', '1'), ('Moved', ('Colour', 'r'), ('Shape', 'any'), ('Zone', '2'), ('Next-Move', ('Colour', 'b'), ('Shape', 'square')))), ('Zone', '3'))), 153) at rank 11\n",
      "predicted_data[0]: ((('pickup', 3), ('putdown', 3, '1')), (('pickup', 13), ('putdown', 13, '2')), (('pickup', 8), ('putdown', 8, '3')), (('pickup', 35), ('putdown', 35, '3')), (('pickup', 40), ('putdown', 40, '1')))\n",
      "Identical sets: False\n",
      "Num. distinct executions in observations: 21451\n",
      "\n",
      "Num. distinct executions given learned exp.: 27566\n",
      "\n",
      "Size of intersection: 20209\n",
      "Calculting P&R for exp (('Norm', ('Obl', ('Moved', ('Colour', 'any'), ('Shape', 'any'), ('Zone', '1'), ('Moved', ('Colour', 'r'), ('Shape', 'circle'), ('Zone', '2'), ('Next-Move', ('Colour', 'b'), ('Shape', 'square')))), ('Zone', '3'))), 138) at rank 12\n",
      "predicted_data[0]: ((('pickup', 35), ('putdown', 35, '2')), (('pickup', 13), ('putdown', 13, '3')), (('pickup', 40), ('putdown', 40, '2')), (('pickup', 8), ('putdown', 8, '3')), (('pickup', 3), ('putdown', 3, '2')))\n",
      "Identical sets: False\n",
      "Num. distinct executions in observations: 21451\n",
      "\n",
      "Num. distinct executions given learned exp.: 27568\n",
      "\n",
      "Size of intersection: 20190\n",
      "Calculting P&R for exp (('Norm', ('Obl', ('Moved', ('Colour', 'r'), ('Shape', 'any'), ('Zone', '1'), ('Next-Move', ('Colour', 'any'), ('Shape', 'circle'))), ('Zone', '2'))), 5) at rank 13\n",
      "predicted_data[0]: ((('pickup', 40), ('putdown', 40, '3')), (('pickup', 8), ('putdown', 8, '3')), (('pickup', 35), ('putdown', 35, '1')), (('pickup', 13), ('putdown', 13, '2')), (('pickup', 3), ('putdown', 3, '1')))\n",
      "Identical sets: False\n",
      "Num. distinct executions in observations: 21451\n",
      "\n",
      "Num. distinct executions given learned exp.: 25742\n",
      "\n",
      "Size of intersection: 20794\n",
      "Calculting P&R for exp (('Norm', ('Obl', ('Moved', ('Colour', 'r'), ('Shape', 'circle'), ('Zone', '1'), ('Next-Move', ('Colour', 'any'), ('Shape', 'circle'))), ('Zone', '2'))), 4) at rank 14\n",
      "predicted_data[0]: ((('pickup', 40), ('putdown', 40, '1')), (('pickup', 8), ('putdown', 8, '2')), (('pickup', 3), ('putdown', 3, '3')), (('pickup', 13), ('putdown', 13, '1')), (('pickup', 35), ('putdown', 35, '1')))\n",
      "Identical sets: False\n",
      "Num. distinct executions in observations: 21451\n",
      "\n",
      "Num. distinct executions given learned exp.: 25725\n",
      "Repetition of Task:   1%|          | 967/100000 [00:02<03:09, 523.95it/s]\n",
      "Repetition of Task:   1%|          | 1023/100000 [00:02<03:06, 531.37it/s]\n",
      "Repetition of Task:   1%|          | 1077/100000 [00:02<03:18, 498.47it/s]\n",
      "Repetition of Task:   1%|          | 1128/100000 [00:02<03:48, 432.96it/s]\n",
      "Repetition of Task:   1%|          | 1174/100000 [00:02<03:53, 423.71it/s]\n",
      "Repetition of Task:   1%|          | 1237/100000 [00:02<03:30, 468.82it/s]\n",
      "Repetition of Task:   1%|▏         | 1289/100000 [00:02<03:25, 480.50it/s]\n",
      "Repetition of Task:   1%|▏         | 1339/100000 [00:03<03:24, 481.97it/s]\n",
      "Repetition of Task:   1%|▏         | 1389/100000 [00:03<03:30, 468.11it/s]\n",
      "Repetition of Task:   1%|▏         | 1439/100000 [00:03<03:29, 470.60it/s]\n",
      "Repetition of Task:   1%|▏         | 1487/100000 [00:03<03:36, 454.61it/s]\n",
      "Repetition of Task:   2%|▏         | 1534/100000 [00:03<03:47, 432.53it/s]\n",
      "Repetition of Task:   2%|▏         | 1580/100000 [00:03<03:44, 439.24it/s]\n",
      "Repetition of Task:   2%|▏         | 1625/100000 [00:03<03:50, 426.95it/s]\n",
      "Repetition of Task:   2%|▏         | 1669/100000 [00:03<03:52, 422.53it/s]\n",
      "Repetition of Task:   2%|▏         | 1720/100000 [00:03<03:41, 443.18it/s]\n",
      "Repetition of Task:   2%|▏         | 1765/100000 [00:04<03:40, 445.20it/s]\n",
      "Repetition of Task:   2%|▏         | 1815/100000 [00:04<03:35, 456.63it/s]\n",
      "Repetition of Task:   2%|▏         | 1865/100000 [00:04<03:30, 466.24it/s]\n",
      "Repetition of Task:   2%|▏         | 1912/100000 [00:04<03:45, 434.55it/s]\n",
      "Repetition of Task:   2%|▏         | 1968/100000 [00:04<03:31, 464.00it/s]\n",
      "Repetition of Task:   2%|▏         | 2018/100000 [00:04<03:29, 467.63it/s]\n",
      "Repetition of Task:   2%|▏         | 2066/100000 [00:04<03:46, 433.07it/s]\n",
      "Repetition of Task:   2%|▏         | 2112/100000 [00:04<03:43, 437.08it/s]\n",
      "Repetition of Task:   2%|▏         | 2158/100000 [00:04<03:41, 442.48it/s]\n",
      "Repetition of Task:   2%|▏         | 2204/100000 [00:05<03:40, 443.74it/s]\n",
      "Repetition of Task:   2%|▏         | 2250/100000 [00:05<03:38, 447.25it/s]\n",
      "Repetition of Task:   2%|▏         | 2295/100000 [00:05<03:39, 445.43it/s]\n",
      "Repetition of Task:   2%|▏         | 2340/100000 [00:05<03:49, 425.26it/s]\n",
      "Repetition of Task:   2%|▏         | 2383/100000 [00:05<04:12, 386.52it/s]\n",
      "Repetition of Task:   2%|▏         | 2423/100000 [00:05<04:40, 347.74it/s]\n",
      "Repetition of Task:   2%|▏         | 2460/100000 [00:05<04:44, 342.68it/s]\n",
      "Repetition of Task:   2%|▏         | 2496/100000 [00:05<05:02, 322.23it/s]\n",
      "Repetition of Task:   3%|▎         | 2530/100000 [00:05<05:06, 318.19it/s]\n",
      "Repetition of Task:   3%|▎         | 2568/100000 [00:06<04:52, 332.79it/s]\n",
      "Repetition of Task:   3%|▎         | 2609/100000 [00:06<04:37, 350.92it/s]\n",
      "Repetition of Task:   3%|▎         | 2654/100000 [00:06<04:19, 374.84it/s]\n",
      "Repetition of Task:   3%|▎         | 2698/100000 [00:06<04:08, 391.22it/s]\n",
      "Repetition of Task:   3%|▎         | 2741/100000 [00:06<04:03, 399.94it/s]\n",
      "Repetition of Task:   3%|▎         | 2784/100000 [00:06<03:59, 406.22it/s]\n",
      "Repetition of Task:   3%|▎         | 2826/100000 [00:06<04:00, 404.38it/s]\n",
      "Repetition of Task:   3%|▎         | 2867/100000 [00:06<04:02, 400.73it/s]\n",
      "Repetition of Task:   3%|▎         | 2908/100000 [00:06<04:27, 363.30it/s]\n",
      "Repetition of Task:   3%|▎         | 2954/100000 [00:07<04:10, 386.77it/s]\n",
      "Repetition of Task:   3%|▎         | 2997/100000 [00:07<04:03, 397.77it/s]\n",
      "Repetition of Task:   3%|▎         | 3047/100000 [00:07<03:49, 422.74it/s]\n",
      "Repetition of Task:   3%|▎         | 3098/100000 [00:07<03:37, 445.61it/s]\n",
      "Repetition of Task:   3%|▎         | 3151/100000 [00:07<03:28, 465.59it/s]\n",
      "Repetition of Task:   3%|▎         | 3200/100000 [00:07<03:25, 471.35it/s]\n",
      "Repetition of Task:   3%|▎         | 3248/100000 [00:07<03:45, 429.42it/s]\n",
      "Repetition of Task:   3%|▎         | 3293/100000 [00:07<03:45, 429.19it/s]\n",
      "Repetition of Task:   3%|▎         | 3337/100000 [00:07<03:50, 419.99it/s]\n",
      "Repetition of Task:   3%|▎         | 3380/100000 [00:07<03:52, 415.70it/s]\n",
      "Repetition of Task:   3%|▎         | 3423/100000 [00:08<04:01, 399.99it/s]\n",
      "Repetition of Task:   3%|▎         | 3464/100000 [00:08<04:14, 379.52it/s]\n",
      "Repetition of Task:   4%|▎         | 3505/100000 [00:08<04:09, 387.09it/s]\n",
      "Repetition of Task:   4%|▎         | 3550/100000 [00:08<04:00, 400.86it/s]\n",
      "Repetition of Task:   4%|▎         | 3593/100000 [00:08<03:57, 405.71it/s]\n",
      "Repetition of Task:   4%|▎         | 3634/100000 [00:08<04:15, 376.77it/s]\n",
      "Repetition of Task:   4%|▎         | 3673/100000 [00:08<05:01, 319.82it/s]\n",
      "Repetition of Task:   4%|▎         | 3707/100000 [00:08<05:16, 303.84it/s]\n",
      "Repetition of Task:   4%|▎         | 3746/100000 [00:09<04:56, 324.64it/s]\n",
      "Repetition of Task:   4%|▍         | 3782/100000 [00:09<04:49, 332.65it/s]\n",
      "Repetition of Task:   4%|▍         | 3828/100000 [00:09<04:26, 361.10it/s]\n",
      "Repetition of Task:   4%|▍         | 3866/100000 [00:09<04:47, 334.62it/s]\n",
      "Repetition of Task:   4%|▍         | 3901/100000 [00:09<05:16, 303.83it/s]\n",
      "Repetition of Task:   4%|▍         | 3933/100000 [00:09<06:30, 245.93it/s]\n",
      "Repetition of Task:   4%|▍         | 3961/100000 [00:09<06:56, 230.68it/s]\n",
      "Repetition of Task:   4%|▍         | 3987/100000 [00:09<07:10, 222.83it/s]\n",
      "Repetition of Task:   4%|▍         | 4011/100000 [00:10<07:11, 222.67it/s]\n",
      "Repetition of Task:   4%|▍         | 4035/100000 [00:10<07:12, 221.95it/s]\n",
      "Repetition of Task:   4%|▍         | 4061/100000 [00:10<06:54, 231.54it/s]\n",
      "Repetition of Task:   4%|▍         | 4086/100000 [00:10<06:45, 236.78it/s]\n",
      "Repetition of Task:   4%|▍         | 4111/100000 [00:10<07:15, 220.29it/s]\n",
      "Repetition of Task:   4%|▍         | 4137/100000 [00:10<06:57, 229.68it/s]\n",
      "Repetition of Task:   4%|▍         | 4166/100000 [00:10<06:35, 242.47it/s]\n",
      "Repetition of Task:   4%|▍         | 4196/100000 [00:10<06:14, 255.96it/s]\n",
      "Repetition of Task:   4%|▍         | 4226/100000 [00:10<06:00, 265.68it/s]\n",
      "Repetition of Task:   4%|▍         | 4259/100000 [00:11<05:43, 278.68it/s]\n",
      "Repetition of Task:   4%|▍         | 4290/100000 [00:11<05:34, 285.83it/s]\n",
      "Repetition of Task:   4%|▍         | 4321/100000 [00:11<05:27, 291.88it/s]\n",
      "Repetition of Task:   4%|▍         | 4351/100000 [00:11<05:26, 292.54it/s]\n",
      "Repetition of Task:   4%|▍         | 4381/100000 [00:11<05:33, 286.35it/s]\n"
     ]
    }
   ],
   "source": [
    "!dvc run --force --always-changed -n extract_top_norms -w .. -d data/posterior.pickle -d data/env.pickle -d metrics/chain_posteriors.csv -p colour_specific,shape_specific,target_area,true_norm -o data/top_norms.pickle -o metrics/precision_recall.txt python scripts/extract_top_norms.py"
   ]
  },
  {
   "cell_type": "markdown",
   "metadata": {
    "cell_id": "00016-e6a05927-4c08-40ea-91ef-0c7ff83c07d7",
    "tags": []
   },
   "source": [
    "### Check log likelihood of observation set given top norm"
   ]
  },
  {
   "cell_type": "code",
   "execution_count": 4,
   "metadata": {
    "cell_id": "00017-24a005d3-c943-41d5-b8c0-0b660d1e9a3d",
    "output_cleared": false,
    "tags": [
     "outputPrepend"
    ]
   },
   "outputs": [
    {
     "output_type": "stream",
     "name": "stderr",
     "text": [
      "ition of Task:  83%|████████▎ | 82930/100000 [02:05<00:25, 659.13it/s]\n",
      "Repetition of Task:  83%|████████▎ | 82996/100000 [02:05<00:25, 657.55it/s]\n",
      "Repetition of Task:  83%|████████▎ | 83062/100000 [02:05<00:26, 648.58it/s]\n",
      "Repetition of Task:  83%|████████▎ | 83131/100000 [02:05<00:25, 658.87it/s]\n",
      "Repetition of Task:  83%|████████▎ | 83197/100000 [02:06<00:25, 655.30it/s]\n",
      "Repetition of Task:  83%|████████▎ | 83263/100000 [02:06<00:25, 656.69it/s]\n",
      "Repetition of Task:  83%|████████▎ | 83331/100000 [02:06<00:25, 650.82it/s]\n",
      "Repetition of Task:  83%|████████▎ | 83399/100000 [02:06<00:25, 658.79it/s]\n",
      "Repetition of Task:  83%|████████▎ | 83468/100000 [02:06<00:24, 666.15it/s]\n",
      "Repetition of Task:  84%|████████▎ | 83535/100000 [02:06<00:24, 665.19it/s]\n",
      "Repetition of Task:  84%|████████▎ | 83602/100000 [02:06<00:25, 647.44it/s]\n",
      "Repetition of Task:  84%|████████▎ | 83667/100000 [02:06<00:25, 646.42it/s]\n",
      "Repetition of Task:  84%|████████▎ | 83732/100000 [02:06<00:25, 645.59it/s]\n",
      "Repetition of Task:  84%|████████▍ | 83802/100000 [02:06<00:24, 659.06it/s]\n",
      "Repetition of Task:  84%|████████▍ | 83869/100000 [02:07<00:25, 636.05it/s]\n",
      "Repetition of Task:  84%|████████▍ | 83933/100000 [02:07<00:25, 627.80it/s]\n",
      "Repetition of Task:  84%|████████▍ | 83998/100000 [02:07<00:25, 633.09it/s]\n",
      "Repetition of Task:  84%|████████▍ | 84062/100000 [02:07<00:25, 613.52it/s]\n",
      "Repetition of Task:  84%|████████▍ | 84124/100000 [02:07<00:25, 611.32it/s]\n",
      "Repetition of Task:  84%|████████▍ | 84186/100000 [02:07<00:26, 606.68it/s]\n",
      "Repetition of Task:  84%|████████▍ | 84252/100000 [02:07<00:25, 621.64it/s]\n",
      "Repetition of Task:  84%|████████▍ | 84319/100000 [02:07<00:24, 631.87it/s]\n",
      "Repetition of Task:  84%|████████▍ | 84387/100000 [02:07<00:24, 644.06it/s]\n",
      "Repetition of Task:  84%|████████▍ | 84454/100000 [02:07<00:23, 649.63it/s]\n",
      "Repetition of Task:  85%|████████▍ | 84520/100000 [02:08<00:23, 646.99it/s]\n",
      "Repetition of Task:  85%|████████▍ | 84587/100000 [02:08<00:23, 652.00it/s]\n",
      "Repetition of Task:  85%|████████▍ | 84653/100000 [02:08<00:23, 652.52it/s]\n",
      "Repetition of Task:  85%|████████▍ | 84719/100000 [02:08<00:23, 639.39it/s]\n",
      "Repetition of Task:  85%|████████▍ | 84784/100000 [02:08<00:24, 633.36it/s]\n",
      "Repetition of Task:  85%|████████▍ | 84852/100000 [02:08<00:23, 644.89it/s]\n",
      "Repetition of Task:  85%|████████▍ | 84918/100000 [02:08<00:23, 647.58it/s]\n",
      "Repetition of Task:  85%|████████▍ | 84983/100000 [02:08<00:23, 629.40it/s]\n",
      "Repetition of Task:  85%|████████▌ | 85050/100000 [02:08<00:23, 639.31it/s]\n",
      "Repetition of Task:  85%|████████▌ | 85117/100000 [02:09<00:23, 644.54it/s]\n",
      "Repetition of Task:  85%|████████▌ | 85182/100000 [02:09<00:23, 629.39it/s]\n",
      "Repetition of Task:  85%|████████▌ | 85254/100000 [02:09<00:22, 642.45it/s]\n",
      "Repetition of Task:  85%|████████▌ | 85321/100000 [02:09<00:22, 649.83it/s]\n",
      "Repetition of Task:  85%|████████▌ | 85389/100000 [02:09<00:22, 654.85it/s]\n",
      "Repetition of Task:  85%|████████▌ | 85455/100000 [02:09<00:22, 637.56it/s]\n",
      "Repetition of Task:  86%|████████▌ | 85520/100000 [02:09<00:22, 641.17it/s]\n",
      "Repetition of Task:  86%|████████▌ | 85585/100000 [02:09<00:22, 642.06it/s]\n",
      "Repetition of Task:  86%|████████▌ | 85650/100000 [02:09<00:22, 627.65it/s]\n",
      "Repetition of Task:  86%|████████▌ | 85717/100000 [02:09<00:22, 638.01it/s]\n",
      "Repetition of Task:  86%|████████▌ | 85781/100000 [02:10<00:22, 628.86it/s]\n",
      "Repetition of Task:  86%|████████▌ | 85845/100000 [02:10<00:22, 630.64it/s]\n",
      "Repetition of Task:  86%|████████▌ | 85909/100000 [02:10<00:22, 615.39it/s]\n",
      "Repetition of Task:  86%|████████▌ | 85976/100000 [02:10<00:22, 630.79it/s]\n",
      "Repetition of Task:  86%|████████▌ | 86041/100000 [02:10<00:22, 632.87it/s]\n",
      "Repetition of Task:  86%|████████▌ | 86105/100000 [02:10<00:22, 631.29it/s]\n",
      "Repetition of Task:  86%|████████▌ | 86172/100000 [02:10<00:21, 642.40it/s]\n",
      "Repetition of Task:  86%|████████▌ | 86240/100000 [02:10<00:21, 649.51it/s]\n",
      "Repetition of Task:  86%|████████▋ | 86306/100000 [02:10<00:21, 632.21it/s]\n",
      "Repetition of Task:  86%|████████▋ | 86375/100000 [02:10<00:21, 646.74it/s]\n",
      "Repetition of Task:  86%|████████▋ | 86441/100000 [02:11<00:20, 646.76it/s]\n",
      "Repetition of Task:  87%|████████▋ | 86506/100000 [02:11<00:20, 645.97it/s]\n",
      "Repetition of Task:  87%|████████▋ | 86571/100000 [02:11<00:20, 645.28it/s]\n",
      "Repetition of Task:  87%|████████▋ | 86636/100000 [02:11<00:20, 642.86it/s]\n",
      "Repetition of Task:  87%|████████▋ | 86701/100000 [02:11<00:20, 641.31it/s]\n",
      "Repetition of Task:  87%|████████▋ | 86766/100000 [02:11<00:20, 630.77it/s]\n",
      "Repetition of Task:  87%|████████▋ | 86834/100000 [02:11<00:20, 641.33it/s]\n",
      "Repetition of Task:  87%|████████▋ | 86899/100000 [02:11<00:20, 641.87it/s]\n",
      "Repetition of Task:  87%|████████▋ | 86968/100000 [02:11<00:19, 652.01it/s]\n",
      "Repetition of Task:  87%|████████▋ | 87034/100000 [02:12<00:19, 652.49it/s]\n",
      "Repetition of Task:  87%|████████▋ | 87101/100000 [02:12<00:19, 655.84it/s]\n",
      "Repetition of Task:  87%|████████▋ | 87167/100000 [02:12<00:19, 649.32it/s]\n",
      "Repetition of Task:  87%|████████▋ | 87234/100000 [02:12<00:19, 651.72it/s]\n",
      "Repetition of Task:  87%|████████▋ | 87300/100000 [02:12<00:19, 652.30it/s]\n",
      "Repetition of Task:  87%|████████▋ | 87366/100000 [02:12<00:19, 650.66it/s]\n",
      "Repetition of Task:  87%|████████▋ | 87432/100000 [02:12<00:19, 647.77it/s]\n",
      "Repetition of Task:  88%|████████▊ | 87500/100000 [02:12<00:19, 653.53it/s]\n",
      "Repetition of Task:  88%|████████▊ | 87567/100000 [02:12<00:18, 656.53it/s]\n",
      "Repetition of Task:  88%|████████▊ | 87633/100000 [02:12<00:19, 634.68it/s]\n",
      "Repetition of Task:  88%|████████▊ | 87697/100000 [02:13<00:20, 614.35it/s]\n",
      "Repetition of Task:  88%|████████▊ | 87764/100000 [02:13<00:19, 628.51it/s]\n",
      "Repetition of Task:  88%|████████▊ | 87829/100000 [02:13<00:19, 632.22it/s]\n",
      "Repetition of Task:  88%|████████▊ | 87897/100000 [02:13<00:18, 644.64it/s]\n",
      "Repetition of Task:  88%|████████▊ | 87963/100000 [02:13<00:18, 643.69it/s]\n",
      "Repetition of Task:  88%|████████▊ | 88029/100000 [02:13<00:18, 644.71it/s]\n",
      "Repetition of Task:  88%|████████▊ | 88094/100000 [02:13<00:18, 638.67it/s]\n",
      "Repetition of Task:  88%|████████▊ | 88158/100000 [02:13<00:18, 627.95it/s]\n",
      "Repetition of Task:  88%|████████▊ | 88224/100000 [02:13<00:18, 635.40it/s]\n",
      "Repetition of Task:  88%|████████▊ | 88288/100000 [02:13<00:18, 616.70it/s]\n",
      "Repetition of Task:  88%|████████▊ | 88354/100000 [02:14<00:18, 628.90it/s]\n",
      "Repetition of Task:  88%|████████▊ | 88420/100000 [02:14<00:18, 636.31it/s]\n",
      "Repetition of Task:  88%|████████▊ | 88487/100000 [02:14<00:17, 643.53it/s]\n",
      "Repetition of Task:  89%|████████▊ | 88552/100000 [02:14<00:17, 639.74it/s]\n",
      "Repetition of Task:  89%|████████▊ | 88617/100000 [02:14<00:17, 641.52it/s]\n",
      "Repetition of Task:  89%|████████▊ | 88684/100000 [02:14<00:17, 648.16it/s]\n",
      "Repetition of Task:  89%|████████▉ | 88750/100000 [02:14<00:17, 649.89it/s]\n",
      "Repetition of Task:  89%|████████▉ | 88816/100000 [02:14<00:17, 630.47it/s]\n",
      "Repetition of Task:  89%|████████▉ | 88884/100000 [02:14<00:17, 644.55it/s]\n",
      "Repetition of Task:  89%|████████▉ | 88950/100000 [02:15<00:17, 647.42it/s]\n",
      "Repetition of Task:  89%|████████▉ | 89015/100000 [02:15<00:16, 646.25it/s]\n",
      "Repetition of Task:  89%|████████▉ | 89080/100000 [02:15<00:16, 644.73it/s]\n",
      "Repetition of Task:  89%|████████▉ | 89145/100000 [02:15<00:16, 639.36it/s]\n",
      "Repetition of Task:  89%|████████▉ | 89212/100000 [02:15<00:16, 646.44it/s]\n",
      "Repetition of Task:  89%|████████▉ | 89279/100000 [02:15<00:16, 651.60it/s]\n",
      "Repetition of Task:  89%|████████▉ | 89345/100000 [02:15<00:16, 652.16it/s]\n",
      "Repetition of Task:  89%|████████▉ | 89411/100000 [02:15<00:16, 654.31it/s]\n",
      "Repetition of Task:  89%|████████▉ | 89477/100000 [02:15<00:16, 642.97it/s]\n",
      "Repetition of Task:  90%|████████▉ | 89542/100000 [02:15<00:16, 643.34it/s]\n",
      "Repetition of Task:  90%|████████▉ | 89608/100000 [02:16<00:16, 646.20it/s]\n",
      "Repetition of Task:  90%|████████▉ | 89677/100000 [02:16<00:15, 656.97it/s]\n",
      "Repetition of Task:  90%|████████▉ | 89743/100000 [02:16<00:16, 640.76it/s]\n",
      "Repetition of Task:  90%|████████▉ | 89808/100000 [02:16<00:15, 637.72it/s]\n",
      "Repetition of Task:  90%|████████▉ | 89874/100000 [02:16<00:15, 639.59it/s]\n",
      "Repetition of Task:  90%|████████▉ | 89939/100000 [02:16<00:15, 642.03it/s]\n",
      "Repetition of Task:  90%|█████████ | 90007/100000 [02:16<00:15, 651.10it/s]\n",
      "Repetition of Task:  90%|█████████ | 90076/100000 [02:16<00:14, 662.23it/s]\n",
      "Repetition of Task:  90%|█████████ | 90143/100000 [02:16<00:15, 645.55it/s]\n",
      "Repetition of Task:  90%|█████████ | 90209/100000 [02:16<00:15, 646.04it/s]\n",
      "Repetition of Task:  90%|█████████ | 90275/100000 [02:17<00:15, 646.43it/s]\n",
      "Repetition of Task:  90%|█████████ | 90340/100000 [02:17<00:15, 639.86it/s]\n",
      "Repetition of Task:  90%|█████████ | 90406/100000 [02:17<00:14, 642.16it/s]\n",
      "Repetition of Task:  90%|█████████ | 90471/100000 [02:17<00:14, 640.68it/s]\n",
      "Repetition of Task:  91%|█████████ | 90536/100000 [02:17<00:14, 639.66it/s]\n",
      "Repetition of Task:  91%|█████████ | 90605/100000 [02:17<00:14, 652.18it/s]\n",
      "Repetition of Task:  91%|█████████ | 90676/100000 [02:17<00:14, 659.40it/s]\n",
      "Repetition of Task:  91%|█████████ | 90743/100000 [02:17<00:14, 658.65it/s]\n",
      "Repetition of Task:  91%|█████████ | 90812/100000 [02:17<00:13, 665.85it/s]\n",
      "Repetition of Task:  91%|█████████ | 90879/100000 [02:17<00:13, 659.35it/s]\n",
      "Repetition of Task:  91%|█████████ | 90945/100000 [02:18<00:14, 644.08it/s]\n",
      "Repetition of Task:  91%|█████████ | 91010/100000 [02:18<00:14, 640.20it/s]\n",
      "Repetition of Task:  91%|█████████ | 91078/100000 [02:18<00:13, 647.94it/s]\n",
      "Repetition of Task:  91%|█████████ | 91144/100000 [02:18<00:13, 649.84it/s]\n",
      "Repetition of Task:  91%|█████████ | 91210/100000 [02:18<00:13, 648.93it/s]\n",
      "Repetition of Task:  91%|█████████▏| 91278/100000 [02:18<00:13, 654.26it/s]\n",
      "Repetition of Task:  91%|█████████▏| 91345/100000 [02:18<00:13, 657.03it/s]\n",
      "Repetition of Task:  91%|█████████▏| 91411/100000 [02:18<00:13, 637.08it/s]\n",
      "Repetition of Task:  91%|█████████▏| 91481/100000 [02:18<00:13, 652.91it/s]\n",
      "Repetition of Task:  92%|█████████▏| 91547/100000 [02:19<00:13, 649.95it/s]\n",
      "Repetition of Task:  92%|█████████▏| 91613/100000 [02:19<00:13, 635.40it/s]\n",
      "Repetition of Task:  92%|█████████▏| 91679/100000 [02:19<00:13, 638.98it/s]\n",
      "Repetition of Task:  92%|█████████▏| 91745/100000 [02:19<00:12, 643.16it/s]\n",
      "Repetition of Task:  92%|█████████▏| 91810/100000 [02:19<00:12, 639.55it/s]\n",
      "Repetition of Task:  92%|█████████▏| 91875/100000 [02:19<00:12, 631.53it/s]\n",
      "Repetition of Task:  92%|█████████▏| 91939/100000 [02:19<00:12, 623.07it/s]\n",
      "Repetition of Task:  92%|█████████▏| 92006/100000 [02:19<00:12, 636.37it/s]\n",
      "Repetition of Task:  92%|█████████▏| 92072/100000 [02:19<00:12, 641.53it/s]\n",
      "Repetition of Task:  92%|█████████▏| 92139/100000 [02:19<00:12, 646.07it/s]\n",
      "Repetition of Task:  92%|█████████▏| 92204/100000 [02:20<00:12, 639.59it/s]\n",
      "Repetition of Task:  92%|█████████▏| 92270/100000 [02:20<00:12, 643.77it/s]\n",
      "Repetition of Task:  92%|█████████▏| 92335/100000 [02:20<00:12, 628.78it/s]\n",
      "Repetition of Task:  92%|█████████▏| 92401/100000 [02:20<00:11, 636.26it/s]\n",
      "Repetition of Task:  92%|█████████▏| 92465/100000 [02:20<00:11, 635.51it/s]\n",
      "Repetition of Task:  93%|█████████▎| 92531/100000 [02:20<00:11, 640.91it/s]\n",
      "Repetition of Task:  93%|█████████▎| 92596/100000 [02:20<00:11, 639.85it/s]\n",
      "Repetition of Task:  93%|█████████▎| 92661/100000 [02:20<00:11, 640.97it/s]\n",
      "Repetition of Task:  93%|█████████▎| 92726/100000 [02:20<00:11, 641.80it/s]\n",
      "Repetition of Task:  93%|█████████▎| 92792/100000 [02:20<00:11, 643.39it/s]\n",
      "Repetition of Task:  93%|█████████▎| 92857/100000 [02:21<00:11, 623.16it/s]\n",
      "Repetition of Task:  93%|█████████▎| 92921/100000 [02:21<00:11, 626.41it/s]\n",
      "Repetition of Task:  93%|█████████▎| 92987/100000 [02:21<00:11, 636.05it/s]\n",
      "Repetition of Task:  93%|█████████▎| 93054/100000 [02:21<00:10, 644.17it/s]\n",
      "Repetition of Task:  93%|█████████▎| 93119/100000 [02:21<00:10, 642.22it/s]\n",
      "Repetition of Task:  93%|█████████▎| 93184/100000 [02:21<00:10, 635.02it/s]\n",
      "Repetition of Task:  93%|█████████▎| 93248/100000 [02:21<00:10, 632.86it/s]\n",
      "Repetition of Task:  93%|█████████▎| 93312/100000 [02:21<00:10, 631.39it/s]\n",
      "Repetition of Task:  93%|█████████▎| 93376/100000 [02:21<00:10, 626.46it/s]\n",
      "Repetition of Task:  93%|█████████▎| 93444/100000 [02:21<00:10, 639.88it/s]\n",
      "Repetition of Task:  94%|█████████▎| 93509/100000 [02:22<00:10, 639.17it/s]\n",
      "Repetition of Task:  94%|█████████▎| 93573/100000 [02:22<00:10, 622.69it/s]\n",
      "Repetition of Task:  94%|█████████▎| 93639/100000 [02:22<00:10, 633.40it/s]\n",
      "Repetition of Task:  94%|█████████▎| 93706/100000 [02:22<00:09, 640.40it/s]\n",
      "Repetition of Task:  94%|█████████▍| 93771/100000 [02:22<00:09, 635.77it/s]\n",
      "Repetition of Task:  94%|█████████▍| 93835/100000 [02:22<00:09, 635.22it/s]\n",
      "Repetition of Task:  94%|█████████▍| 93899/100000 [02:22<00:09, 636.00it/s]\n",
      "Repetition of Task:  94%|█████████▍| 93964/100000 [02:22<00:09, 638.90it/s]\n",
      "Repetition of Task:  94%|█████████▍| 94032/100000 [02:22<00:09, 648.89it/s]\n",
      "Repetition of Task:  94%|█████████▍| 94097/100000 [02:23<00:09, 649.20it/s]\n",
      "Repetition of Task:  94%|█████████▍| 94162/100000 [02:23<00:09, 630.74it/s]\n",
      "Repetition of Task:  94%|█████████▍| 94229/100000 [02:23<00:09, 640.33it/s]\n",
      "Repetition of Task:  94%|█████████▍| 94294/100000 [02:23<00:09, 632.08it/s]\n",
      "Repetition of Task:  94%|█████████▍| 94358/100000 [02:23<00:08, 634.41it/s]\n",
      "Repetition of Task:  94%|█████████▍| 94424/100000 [02:23<00:08, 640.06it/s]\n",
      "Repetition of Task:  94%|█████████▍| 94489/100000 [02:23<00:08, 631.88it/s]\n",
      "Repetition of Task:  95%|█████████▍| 94553/100000 [02:23<00:08, 605.48it/s]\n",
      "Repetition of Task:  95%|█████████▍| 94621/100000 [02:23<00:08, 626.00it/s]\n",
      "Repetition of Task:  95%|█████████▍| 94686/100000 [02:23<00:08, 629.44it/s]\n",
      "Repetition of Task:  95%|█████████▍| 94751/100000 [02:24<00:08, 632.00it/s]\n",
      "Repetition of Task:  95%|█████████▍| 94818/100000 [02:24<00:08, 642.73it/s]\n",
      "Repetition of Task:  95%|█████████▍| 94883/100000 [02:24<00:07, 641.39it/s]\n",
      "Repetition of Task:  95%|█████████▍| 94951/100000 [02:24<00:07, 652.50it/s]\n",
      "Repetition of Task:  95%|█████████▌| 95017/100000 [02:24<00:07, 649.13it/s]\n",
      "Repetition of Task:  95%|█████████▌| 95083/100000 [02:24<00:07, 633.47it/s]\n",
      "Repetition of Task:  95%|█████████▌| 95149/100000 [02:24<00:07, 639.46it/s]\n",
      "Repetition of Task:  95%|█████████▌| 95214/100000 [02:24<00:07, 640.73it/s]\n",
      "Repetition of Task:  95%|█████████▌| 95280/100000 [02:24<00:07, 642.62it/s]\n",
      "Repetition of Task:  95%|█████████▌| 95346/100000 [02:24<00:07, 645.95it/s]\n",
      "Repetition of Task:  95%|█████████▌| 95412/100000 [02:25<00:07, 646.38it/s]\n",
      "Repetition of Task:  95%|█████████▌| 95478/100000 [02:25<00:06, 646.64it/s]\n",
      "Repetition of Task:  96%|█████████▌| 95543/100000 [02:25<00:07, 634.51it/s]\n",
      "Repetition of Task:  96%|█████████▌| 95607/100000 [02:25<00:06, 630.52it/s]\n",
      "Repetition of Task:  96%|█████████▌| 95675/100000 [02:25<00:06, 641.04it/s]\n",
      "Repetition of Task:  96%|█████████▌| 95740/100000 [02:25<00:06, 634.22it/s]\n",
      "Repetition of Task:  96%|█████████▌| 95807/100000 [02:25<00:06, 640.87it/s]\n",
      "Repetition of Task:  96%|█████████▌| 95872/100000 [02:25<00:06, 637.94it/s]\n",
      "Repetition of Task:  96%|█████████▌| 95939/100000 [02:25<00:06, 645.36it/s]\n",
      "Repetition of Task:  96%|█████████▌| 96004/100000 [02:26<00:06, 637.47it/s]\n",
      "Repetition of Task:  96%|█████████▌| 96071/100000 [02:26<00:06, 646.26it/s]\n",
      "Repetition of Task:  96%|█████████▌| 96136/100000 [02:26<00:06, 631.19it/s]\n",
      "Repetition of Task:  96%|█████████▌| 96204/100000 [02:26<00:05, 642.86it/s]\n",
      "Repetition of Task:  96%|█████████▋| 96271/100000 [02:26<00:05, 649.44it/s]\n",
      "Repetition of Task:  96%|█████████▋| 96337/100000 [02:26<00:05, 628.46it/s]\n",
      "Repetition of Task:  96%|█████████▋| 96404/100000 [02:26<00:05, 638.50it/s]\n",
      "Repetition of Task:  96%|█████████▋| 96470/100000 [02:26<00:05, 641.13it/s]\n",
      "Repetition of Task:  97%|█████████▋| 96537/100000 [02:26<00:05, 647.54it/s]\n",
      "Repetition of Task:  97%|█████████▋| 96603/100000 [02:26<00:05, 649.53it/s]\n",
      "Repetition of Task:  97%|█████████▋| 96669/100000 [02:27<00:05, 639.55it/s]\n",
      "Repetition of Task:  97%|█████████▋| 96734/100000 [02:27<00:05, 624.10it/s]\n",
      "Repetition of Task:  97%|█████████▋| 96797/100000 [02:27<00:05, 625.25it/s]\n",
      "Repetition of Task:  97%|█████████▋| 96861/100000 [02:27<00:05, 626.59it/s]\n",
      "Repetition of Task:  97%|█████████▋| 96928/100000 [02:27<00:04, 637.32it/s]\n",
      "Repetition of Task:  97%|█████████▋| 96994/100000 [02:27<00:04, 642.13it/s]\n",
      "Repetition of Task:  97%|█████████▋| 97064/100000 [02:27<00:04, 656.61it/s]\n",
      "Repetition of Task:  97%|█████████▋| 97130/100000 [02:27<00:04, 640.54it/s]\n",
      "Repetition of Task:  97%|█████████▋| 97198/100000 [02:27<00:04, 651.87it/s]\n",
      "Repetition of Task:  97%|█████████▋| 97267/100000 [02:27<00:04, 660.91it/s]\n",
      "Repetition of Task:  97%|█████████▋| 97334/100000 [02:28<00:04, 661.94it/s]\n",
      "Repetition of Task:  97%|█████████▋| 97402/100000 [02:28<00:03, 665.36it/s]\n",
      "Repetition of Task:  97%|█████████▋| 97469/100000 [02:28<00:03, 664.70it/s]\n",
      "Repetition of Task:  98%|█████████▊| 97536/100000 [02:28<00:03, 662.33it/s]\n",
      "Repetition of Task:  98%|█████████▊| 97605/100000 [02:28<00:03, 668.62it/s]\n",
      "Repetition of Task:  98%|█████████▊| 97674/100000 [02:28<00:03, 673.08it/s]\n",
      "Repetition of Task:  98%|█████████▊| 97745/100000 [02:28<00:03, 683.62it/s]\n",
      "Repetition of Task:  98%|█████████▊| 97816/100000 [02:28<00:03, 689.40it/s]\n",
      "Repetition of Task:  98%|█████████▊| 97885/100000 [02:28<00:03, 681.40it/s]\n",
      "Repetition of Task:  98%|█████████▊| 97954/100000 [02:28<00:03, 672.23it/s]\n",
      "Repetition of Task:  98%|█████████▊| 98022/100000 [02:29<00:03, 658.95it/s]\n",
      "Repetition of Task:  98%|█████████▊| 98089/100000 [02:29<00:02, 660.18it/s]\n",
      "Repetition of Task:  98%|█████████▊| 98156/100000 [02:29<00:02, 655.11it/s]\n",
      "Repetition of Task:  98%|█████████▊| 98224/100000 [02:29<00:02, 658.80it/s]\n",
      "Repetition of Task:  98%|█████████▊| 98290/100000 [02:29<00:02, 657.25it/s]\n",
      "Repetition of Task:  98%|█████████▊| 98362/100000 [02:29<00:02, 671.34it/s]\n",
      "Repetition of Task:  98%|█████████▊| 98430/100000 [02:29<00:02, 672.00it/s]\n",
      "Repetition of Task:  99%|█████████▊| 98501/100000 [02:29<00:02, 679.12it/s]\n",
      "Repetition of Task:  99%|█████████▊| 98570/100000 [02:29<00:02, 680.33it/s]\n",
      "Repetition of Task:  99%|█████████▊| 98639/100000 [02:30<00:02, 669.38it/s]\n",
      "Repetition of Task:  99%|█████████▊| 98710/100000 [02:30<00:01, 677.24it/s]\n",
      "Repetition of Task:  99%|█████████▉| 98779/100000 [02:30<00:01, 680.87it/s]\n",
      "Repetition of Task:  99%|█████████▉| 98848/100000 [02:30<00:01, 676.97it/s]\n",
      "Repetition of Task:  99%|█████████▉| 98917/100000 [02:30<00:01, 679.77it/s]\n",
      "Repetition of Task:  99%|█████████▉| 98986/100000 [02:30<00:01, 655.59it/s]\n",
      "Repetition of Task:  99%|█████████▉| 99056/100000 [02:30<00:01, 666.47it/s]\n",
      "Repetition of Task:  99%|█████████▉| 99126/100000 [02:30<00:01, 674.29it/s]\n",
      "Repetition of Task:  99%|█████████▉| 99195/100000 [02:30<00:01, 676.98it/s]\n",
      "Repetition of Task:  99%|█████████▉| 99263/100000 [02:30<00:01, 662.14it/s]\n",
      "Repetition of Task:  99%|█████████▉| 99335/100000 [02:31<00:00, 678.45it/s]\n",
      "Repetition of Task:  99%|█████████▉| 99404/100000 [02:31<00:00, 670.20it/s]\n",
      "Repetition of Task:  99%|█████████▉| 99472/100000 [02:31<00:00, 665.19it/s]\n",
      "Repetition of Task: 100%|█████████▉| 99539/100000 [02:31<00:00, 657.51it/s]\n",
      "Repetition of Task: 100%|█████████▉| 99605/100000 [02:31<00:00, 635.06it/s]\n",
      "Repetition of Task: 100%|█████████▉| 99669/100000 [02:31<00:00, 627.19it/s]\n",
      "Repetition of Task: 100%|█████████▉| 99736/100000 [02:31<00:00, 635.83it/s]\n",
      "Repetition of Task: 100%|█████████▉| 99800/100000 [02:31<00:00, 618.60it/s]\n",
      "Repetition of Task: 100%|█████████▉| 99866/100000 [02:31<00:00, 628.78it/s]\n",
      "Repetition of Task: 100%|█████████▉| 99933/100000 [02:31<00:00, 637.07it/s]\n",
      "Repetition of Task: 100%|██████████| 100000/100000 [02:32<00:00, 642.99it/s]\n",
      "Repetition of Task: 100%|██████████| 100000/100000 [02:32<00:00, 657.48it/s]\n",
      "Running stage 'test_obs_log_likelihood2' with command:\n",
      "\tpython scripts/test_obs_likelihood.py top\n",
      "Log likelihood of observations given top norm.: -12694.183534230084\n",
      "\n",
      "Modifying stage 'test_obs_log_likelihood2' in 'dvc.yaml'\n",
      "Updating lock file 'dvc.lock'\n",
      "\n",
      "To track the changes with git, run:\n",
      "\n",
      "\tgit add dvc.yaml dvc.lock\n"
     ]
    }
   ],
   "source": [
    "!dvc run --force --always-changed -n test_obs_log_likelihood2 -w .. -d data/observations.pickle -d data/env.pickle -d data/top_norms.pickle python scripts/test_obs_likelihood.py top"
   ]
  },
  {
   "cell_type": "code",
   "execution_count": null,
   "metadata": {},
   "outputs": [],
   "source": []
  }
 ],
 "metadata": {
  "deepnote_execution_queue": [
   {
    "cellId": "00005-bc971935-b212-471d-bce0-fd808b7f5362",
    "msgId": "0870c9e3-9129-4671-9e1c-6113f6917369",
    "sessionId": "e2119be1-f54a-4aa0-af1b-5bc9e0017fe7"
   }
  ],
  "deepnote_notebook_id": "406a8cf2-c2ac-4fed-9966-dbc145e270e1",
  "kernelspec": {
   "name": "Python 3.8.2 32-bit ('env': venv)",
   "display_name": "Python 3.8.2 32-bit ('env': venv)",
   "metadata": {
    "interpreter": {
     "hash": "3caac4adb4e1f493f0617992483e3f4fe96c197b68af4c11de32cc1dac6ab887"
    }
   }
  }
 },
 "nbformat": 4,
 "nbformat_minor": 2
}