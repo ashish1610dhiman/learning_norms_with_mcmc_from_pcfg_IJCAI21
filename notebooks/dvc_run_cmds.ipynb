{
 "cells": [
  {
   "cell_type": "markdown",
   "metadata": {
    "cell_id": "00000-324fab5f-e3f7-4509-9db3-4cb39ad78405",
    "tags": []
   },
   "source": [
    "### Generate an environment\n",
    "Currently, this just copies data/default_env.pickle into data/env.pickle.\n",
    "\n",
    "**To do**: Add a DVC parameter such as `env_name` and if this isn't set to \"default\" then generate a new environment."
   ]
  },
  {
   "cell_type": "code",
   "execution_count": null,
   "metadata": {
    "cell_id": "00000-f93b8b1f-e4bb-466f-90c7-157e541575cf",
    "output_cleared": false,
    "tags": []
   },
   "outputs": [],
   "source": [
    "!dvc run --force --always-changed -n gen_env -w .. -d data/default_env.pickle -o data/env.pickle python scripts/gen_env.py"
   ]
  },
  {
   "cell_type": "markdown",
   "metadata": {
    "cell_id": "00002-7cc61989-19bc-43aa-88f6-f7645aa81b6c",
    "tags": []
   },
   "source": [
    "### Generate observations\n",
    "Currently this checks the values of the parameters `target_area`, `true_norm`, `num_observations` and `obs_data_set`. If they are equal to the settings of the observations in data/default_observations.pickle (and `obs_data_set` has value 1), then that file is copied into data/observations.pickle.\n",
    "\n",
    "**To do**: Generate a new set of observations if the parameter settings don't match the default one, or `obs_data_set` is not 1.\n"
   ]
  },
  {
   "cell_type": "code",
   "execution_count": 19,
   "metadata": {
    "cell_id": "00001-16c1e51c-254a-43f2-86a9-f1eb33ff7515",
    "output_cleared": false,
    "tags": [
     "outputPrepend"
    ]
   },
   "outputs": [
    {
     "output_type": "stream",
     "name": "stderr",
     "text": [
      "00:50<00:23, 695.46it/s]\n",
      "Repetition of Task:  67%|██████▋   | 33459/50000 [00:50<00:23, 712.34it/s]\n",
      "Repetition of Task:  67%|██████▋   | 33532/50000 [00:50<00:24, 660.36it/s]\n",
      "Repetition of Task:  67%|██████▋   | 33600/50000 [00:50<00:28, 571.58it/s]\n",
      "Repetition of Task:  67%|██████▋   | 33672/50000 [00:51<00:26, 605.13it/s]\n",
      "Repetition of Task:  68%|██████▊   | 33760/50000 [00:51<00:24, 661.25it/s]\n",
      "Repetition of Task:  68%|██████▊   | 33836/50000 [00:51<00:23, 682.10it/s]\n",
      "Repetition of Task:  68%|██████▊   | 33907/50000 [00:51<00:23, 672.43it/s]\n",
      "Repetition of Task:  68%|██████▊   | 33977/50000 [00:51<00:27, 584.81it/s]\n",
      "Repetition of Task:  68%|██████▊   | 34050/50000 [00:51<00:25, 614.91it/s]\n",
      "Repetition of Task:  68%|██████▊   | 34134/50000 [00:51<00:23, 667.25it/s]\n",
      "Repetition of Task:  68%|██████▊   | 34214/50000 [00:51<00:22, 700.41it/s]\n",
      "Repetition of Task:  69%|██████▊   | 34287/50000 [00:51<00:22, 684.86it/s]\n",
      "Repetition of Task:  69%|██████▊   | 34365/50000 [00:51<00:21, 710.79it/s]\n",
      "Repetition of Task:  69%|██████▉   | 34438/50000 [00:52<00:22, 705.22it/s]\n",
      "Repetition of Task:  69%|██████▉   | 34510/50000 [00:52<00:22, 698.85it/s]\n",
      "Repetition of Task:  69%|██████▉   | 34581/50000 [00:52<00:22, 684.60it/s]\n",
      "Repetition of Task:  69%|██████▉   | 34657/50000 [00:52<00:21, 704.37it/s]\n",
      "Repetition of Task:  69%|██████▉   | 34729/50000 [00:52<00:22, 684.63it/s]\n",
      "Repetition of Task:  70%|██████▉   | 34810/50000 [00:52<00:21, 715.83it/s]\n",
      "Repetition of Task:  70%|██████▉   | 34893/50000 [00:52<00:20, 743.33it/s]\n",
      "Repetition of Task:  70%|██████▉   | 34969/50000 [00:52<00:20, 734.26it/s]\n",
      "Repetition of Task:  70%|███████   | 35048/50000 [00:52<00:19, 748.43it/s]\n",
      "Repetition of Task:  70%|███████   | 35125/50000 [00:53<00:19, 747.87it/s]\n",
      "Repetition of Task:  70%|███████   | 35201/50000 [00:53<00:19, 750.75it/s]\n",
      "Repetition of Task:  71%|███████   | 35280/50000 [00:53<00:19, 757.17it/s]\n",
      "Repetition of Task:  71%|███████   | 35356/50000 [00:53<00:20, 709.32it/s]\n",
      "Repetition of Task:  71%|███████   | 35428/50000 [00:53<00:20, 701.72it/s]\n",
      "Repetition of Task:  71%|███████   | 35502/50000 [00:53<00:20, 708.41it/s]\n",
      "Repetition of Task:  71%|███████   | 35574/50000 [00:53<00:22, 633.35it/s]\n",
      "Repetition of Task:  71%|███████▏  | 35658/50000 [00:53<00:21, 682.46it/s]\n",
      "Repetition of Task:  71%|███████▏  | 35729/50000 [00:53<00:20, 680.40it/s]\n",
      "Repetition of Task:  72%|███████▏  | 35802/50000 [00:54<00:20, 693.15it/s]\n",
      "Repetition of Task:  72%|███████▏  | 35875/50000 [00:54<00:20, 701.25it/s]\n",
      "Repetition of Task:  72%|███████▏  | 35956/50000 [00:54<00:19, 726.32it/s]\n",
      "Repetition of Task:  72%|███████▏  | 36033/50000 [00:54<00:19, 733.29it/s]\n",
      "Repetition of Task:  72%|███████▏  | 36107/50000 [00:54<00:19, 702.64it/s]\n",
      "Repetition of Task:  72%|███████▏  | 36178/50000 [00:54<00:22, 624.58it/s]\n",
      "Repetition of Task:  72%|███████▏  | 36243/50000 [00:54<00:22, 624.03it/s]\n",
      "Repetition of Task:  73%|███████▎  | 36319/50000 [00:54<00:20, 659.11it/s]\n",
      "Repetition of Task:  73%|███████▎  | 36393/50000 [00:54<00:20, 678.89it/s]\n",
      "Repetition of Task:  73%|███████▎  | 36474/50000 [00:54<00:19, 707.13it/s]\n",
      "Repetition of Task:  73%|███████▎  | 36554/50000 [00:55<00:18, 729.25it/s]\n",
      "Repetition of Task:  73%|███████▎  | 36633/50000 [00:55<00:17, 744.20it/s]\n",
      "Repetition of Task:  73%|███████▎  | 36711/50000 [00:55<00:17, 753.85it/s]\n",
      "Repetition of Task:  74%|███████▎  | 36789/50000 [00:55<00:17, 760.24it/s]\n",
      "Repetition of Task:  74%|███████▎  | 36874/50000 [00:55<00:16, 784.67it/s]\n",
      "Repetition of Task:  74%|███████▍  | 36953/50000 [00:55<00:16, 773.46it/s]\n",
      "Repetition of Task:  74%|███████▍  | 37031/50000 [00:55<00:17, 751.79it/s]\n",
      "Repetition of Task:  74%|███████▍  | 37114/50000 [00:55<00:16, 766.10it/s]\n",
      "Repetition of Task:  74%|███████▍  | 37191/50000 [00:55<00:16, 758.33it/s]\n",
      "Repetition of Task:  75%|███████▍  | 37268/50000 [00:56<00:16, 758.41it/s]\n",
      "Repetition of Task:  75%|███████▍  | 37345/50000 [00:56<00:17, 730.45it/s]\n",
      "Repetition of Task:  75%|███████▍  | 37424/50000 [00:56<00:16, 746.43it/s]\n",
      "Repetition of Task:  75%|███████▌  | 37503/50000 [00:56<00:16, 757.31it/s]\n",
      "Repetition of Task:  75%|███████▌  | 37584/50000 [00:56<00:16, 770.88it/s]\n",
      "Repetition of Task:  75%|███████▌  | 37662/50000 [00:56<00:16, 742.75it/s]\n",
      "Repetition of Task:  75%|███████▌  | 37737/50000 [00:56<00:17, 710.91it/s]\n",
      "Repetition of Task:  76%|███████▌  | 37809/50000 [00:56<00:17, 683.24it/s]\n",
      "Repetition of Task:  76%|███████▌  | 37878/50000 [00:56<00:17, 683.63it/s]\n",
      "Repetition of Task:  76%|███████▌  | 37947/50000 [00:57<00:19, 616.92it/s]\n",
      "Repetition of Task:  76%|███████▌  | 38011/50000 [00:57<00:23, 499.75it/s]\n",
      "Repetition of Task:  76%|███████▌  | 38066/50000 [00:57<00:23, 512.79it/s]\n",
      "Repetition of Task:  76%|███████▋  | 38131/50000 [00:57<00:21, 546.79it/s]\n",
      "Repetition of Task:  76%|███████▋  | 38205/50000 [00:57<00:20, 589.29it/s]\n",
      "Repetition of Task:  77%|███████▋  | 38284/50000 [00:57<00:18, 637.77it/s]\n",
      "Repetition of Task:  77%|███████▋  | 38358/50000 [00:57<00:17, 664.73it/s]\n",
      "Repetition of Task:  77%|███████▋  | 38430/50000 [00:57<00:17, 678.39it/s]\n",
      "Repetition of Task:  77%|███████▋  | 38500/50000 [00:57<00:17, 649.56it/s]\n",
      "Repetition of Task:  77%|███████▋  | 38567/50000 [00:58<00:20, 550.17it/s]\n",
      "Repetition of Task:  77%|███████▋  | 38626/50000 [00:58<00:27, 419.02it/s]\n",
      "Repetition of Task:  77%|███████▋  | 38676/50000 [00:58<00:31, 364.08it/s]\n",
      "Repetition of Task:  77%|███████▋  | 38719/50000 [00:58<00:32, 342.58it/s]\n",
      "Repetition of Task:  78%|███████▊  | 38758/50000 [00:58<00:36, 311.27it/s]\n",
      "Repetition of Task:  78%|███████▊  | 38793/50000 [00:58<00:36, 309.06it/s]\n",
      "Repetition of Task:  78%|███████▊  | 38827/50000 [00:59<00:35, 313.67it/s]\n",
      "Repetition of Task:  78%|███████▊  | 38861/50000 [00:59<00:36, 303.04it/s]\n",
      "Repetition of Task:  78%|███████▊  | 38893/50000 [00:59<00:36, 306.14it/s]\n",
      "Repetition of Task:  78%|███████▊  | 38927/50000 [00:59<00:35, 313.96it/s]\n",
      "Repetition of Task:  78%|███████▊  | 38960/50000 [00:59<00:36, 298.97it/s]\n",
      "Repetition of Task:  78%|███████▊  | 38991/50000 [00:59<00:37, 296.52it/s]\n",
      "Repetition of Task:  78%|███████▊  | 39022/50000 [00:59<00:37, 291.87it/s]\n",
      "Repetition of Task:  78%|███████▊  | 39052/50000 [00:59<00:38, 284.83it/s]\n",
      "Repetition of Task:  78%|███████▊  | 39083/50000 [00:59<00:37, 289.93it/s]\n",
      "Repetition of Task:  78%|███████▊  | 39114/50000 [00:59<00:37, 293.47it/s]\n",
      "Repetition of Task:  78%|███████▊  | 39145/50000 [01:00<00:36, 295.65it/s]\n",
      "Repetition of Task:  78%|███████▊  | 39175/50000 [01:00<00:36, 294.94it/s]\n",
      "Repetition of Task:  78%|███████▊  | 39205/50000 [01:00<00:38, 283.87it/s]\n",
      "Repetition of Task:  78%|███████▊  | 39234/50000 [01:00<00:37, 284.87it/s]\n",
      "Repetition of Task:  79%|███████▊  | 39265/50000 [01:00<00:37, 289.56it/s]\n",
      "Repetition of Task:  79%|███████▊  | 39295/50000 [01:00<00:36, 292.32it/s]\n",
      "Repetition of Task:  79%|███████▊  | 39369/50000 [01:00<00:29, 356.42it/s]\n",
      "Repetition of Task:  79%|███████▉  | 39438/50000 [01:00<00:25, 414.95it/s]\n",
      "Repetition of Task:  79%|███████▉  | 39513/50000 [01:00<00:21, 476.96it/s]\n",
      "Repetition of Task:  79%|███████▉  | 39592/50000 [01:01<00:19, 539.14it/s]\n",
      "Repetition of Task:  79%|███████▉  | 39673/50000 [01:01<00:17, 596.34it/s]\n",
      "Repetition of Task:  79%|███████▉  | 39741/50000 [01:01<00:17, 592.02it/s]\n",
      "Repetition of Task:  80%|███████▉  | 39827/50000 [01:01<00:15, 649.98it/s]\n",
      "Repetition of Task:  80%|███████▉  | 39907/50000 [01:01<00:14, 688.57it/s]\n",
      "Repetition of Task:  80%|███████▉  | 39986/50000 [01:01<00:14, 715.13it/s]\n",
      "Repetition of Task:  80%|████████  | 40070/50000 [01:01<00:13, 748.16it/s]\n",
      "Repetition of Task:  80%|████████  | 40153/50000 [01:01<00:12, 768.66it/s]\n",
      "Repetition of Task:  80%|████████  | 40234/50000 [01:01<00:12, 777.67it/s]\n",
      "Repetition of Task:  81%|████████  | 40316/50000 [01:01<00:12, 789.52it/s]\n",
      "Repetition of Task:  81%|████████  | 40397/50000 [01:02<00:12, 792.66it/s]\n",
      "Repetition of Task:  81%|████████  | 40478/50000 [01:02<00:13, 724.89it/s]\n",
      "Repetition of Task:  81%|████████  | 40556/50000 [01:02<00:12, 738.31it/s]\n",
      "Repetition of Task:  81%|████████▏ | 40632/50000 [01:02<00:13, 719.15it/s]\n",
      "Repetition of Task:  81%|████████▏ | 40707/50000 [01:02<00:12, 726.72it/s]\n",
      "Repetition of Task:  82%|████████▏ | 40785/50000 [01:02<00:12, 736.34it/s]\n",
      "Repetition of Task:  82%|████████▏ | 40860/50000 [01:02<00:12, 717.53it/s]\n",
      "Repetition of Task:  82%|████████▏ | 40933/50000 [01:02<00:13, 691.21it/s]\n",
      "Repetition of Task:  82%|████████▏ | 41003/50000 [01:02<00:13, 687.62it/s]\n",
      "Repetition of Task:  82%|████████▏ | 41080/50000 [01:03<00:12, 710.26it/s]\n",
      "Repetition of Task:  82%|████████▏ | 41163/50000 [01:03<00:12, 734.65it/s]\n",
      "Repetition of Task:  82%|████████▏ | 41237/50000 [01:03<00:12, 709.55it/s]\n",
      "Repetition of Task:  83%|████████▎ | 41321/50000 [01:03<00:11, 737.03it/s]\n",
      "Repetition of Task:  83%|████████▎ | 41402/50000 [01:03<00:11, 756.78it/s]\n",
      "Repetition of Task:  83%|████████▎ | 41482/50000 [01:03<00:11, 760.50it/s]\n",
      "Repetition of Task:  83%|████████▎ | 41565/50000 [01:03<00:10, 771.01it/s]\n",
      "Repetition of Task:  83%|████████▎ | 41643/50000 [01:03<00:10, 762.47it/s]\n",
      "Repetition of Task:  83%|████████▎ | 41720/50000 [01:03<00:12, 668.22it/s]\n",
      "Repetition of Task:  84%|████████▎ | 41790/50000 [01:04<00:14, 568.07it/s]\n",
      "Repetition of Task:  84%|████████▎ | 41857/50000 [01:04<00:13, 595.09it/s]\n",
      "Repetition of Task:  84%|████████▍ | 41935/50000 [01:04<00:12, 632.15it/s]\n",
      "Repetition of Task:  84%|████████▍ | 42002/50000 [01:04<00:12, 637.53it/s]\n",
      "Repetition of Task:  84%|████████▍ | 42085/50000 [01:04<00:11, 682.04it/s]\n",
      "Repetition of Task:  84%|████████▍ | 42160/50000 [01:04<00:11, 693.05it/s]\n",
      "Repetition of Task:  84%|████████▍ | 42231/50000 [01:04<00:11, 652.25it/s]\n",
      "Repetition of Task:  85%|████████▍ | 42303/50000 [01:04<00:11, 665.59it/s]\n",
      "Repetition of Task:  85%|████████▍ | 42371/50000 [01:04<00:11, 651.69it/s]\n",
      "Repetition of Task:  85%|████████▍ | 42438/50000 [01:05<00:13, 574.39it/s]\n",
      "Repetition of Task:  85%|████████▍ | 42498/50000 [01:05<00:12, 581.71it/s]\n",
      "Repetition of Task:  85%|████████▌ | 42567/50000 [01:05<00:12, 608.96it/s]\n",
      "Repetition of Task:  85%|████████▌ | 42648/50000 [01:05<00:11, 657.87it/s]\n",
      "Repetition of Task:  85%|████████▌ | 42723/50000 [01:05<00:10, 682.29it/s]\n",
      "Repetition of Task:  86%|████████▌ | 42794/50000 [01:05<00:10, 684.35it/s]\n",
      "Repetition of Task:  86%|████████▌ | 42868/50000 [01:05<00:10, 699.17it/s]\n",
      "Repetition of Task:  86%|████████▌ | 42939/50000 [01:05<00:10, 683.22it/s]\n",
      "Repetition of Task:  86%|████████▌ | 43009/50000 [01:05<00:13, 530.20it/s]\n",
      "Repetition of Task:  86%|████████▌ | 43068/50000 [01:06<00:16, 425.52it/s]\n",
      "Repetition of Task:  86%|████████▌ | 43118/50000 [01:06<00:19, 361.24it/s]\n",
      "Repetition of Task:  86%|████████▋ | 43161/50000 [01:06<00:20, 338.02it/s]\n",
      "Repetition of Task:  86%|████████▋ | 43200/50000 [01:06<00:21, 321.94it/s]\n",
      "Repetition of Task:  86%|████████▋ | 43236/50000 [01:06<00:20, 327.17it/s]\n",
      "Repetition of Task:  87%|████████▋ | 43272/50000 [01:06<00:21, 312.90it/s]\n",
      "Repetition of Task:  87%|████████▋ | 43306/50000 [01:07<00:21, 309.26it/s]\n",
      "Repetition of Task:  87%|████████▋ | 43339/50000 [01:07<00:21, 306.27it/s]\n",
      "Repetition of Task:  87%|████████▋ | 43371/50000 [01:07<00:21, 303.46it/s]\n",
      "Repetition of Task:  87%|████████▋ | 43403/50000 [01:07<00:21, 302.77it/s]\n",
      "Repetition of Task:  87%|████████▋ | 43434/50000 [01:07<00:21, 302.31it/s]\n",
      "Repetition of Task:  87%|████████▋ | 43465/50000 [01:07<00:21, 302.11it/s]\n",
      "Repetition of Task:  87%|████████▋ | 43497/50000 [01:07<00:21, 302.32it/s]\n",
      "Repetition of Task:  87%|████████▋ | 43528/50000 [01:07<00:21, 299.93it/s]\n",
      "Repetition of Task:  87%|████████▋ | 43559/50000 [01:07<00:22, 290.84it/s]\n",
      "Repetition of Task:  87%|████████▋ | 43589/50000 [01:07<00:22, 289.81it/s]\n",
      "Repetition of Task:  87%|████████▋ | 43619/50000 [01:08<00:21, 292.60it/s]\n",
      "Repetition of Task:  87%|████████▋ | 43649/50000 [01:08<00:21, 291.35it/s]\n",
      "Repetition of Task:  87%|████████▋ | 43680/50000 [01:08<00:21, 292.30it/s]\n",
      "Repetition of Task:  87%|████████▋ | 43711/50000 [01:08<00:21, 294.29it/s]\n",
      "Repetition of Task:  87%|████████▋ | 43743/50000 [01:08<00:20, 298.93it/s]\n",
      "Repetition of Task:  88%|████████▊ | 43773/50000 [01:08<00:20, 297.37it/s]\n",
      "Repetition of Task:  88%|████████▊ | 43803/50000 [01:08<00:20, 298.02it/s]\n",
      "Repetition of Task:  88%|████████▊ | 43833/50000 [01:08<00:20, 296.12it/s]\n",
      "Repetition of Task:  88%|████████▊ | 43865/50000 [01:08<00:20, 299.47it/s]\n",
      "Repetition of Task:  88%|████████▊ | 43897/50000 [01:08<00:20, 301.83it/s]\n",
      "Repetition of Task:  88%|████████▊ | 43928/50000 [01:09<00:20, 296.93it/s]\n",
      "Repetition of Task:  88%|████████▊ | 43958/50000 [01:09<00:20, 293.02it/s]\n",
      "Repetition of Task:  88%|████████▊ | 43988/50000 [01:09<00:20, 292.63it/s]\n",
      "Repetition of Task:  88%|████████▊ | 44019/50000 [01:09<00:20, 296.49it/s]\n",
      "Repetition of Task:  88%|████████▊ | 44049/50000 [01:09<00:20, 295.14it/s]\n",
      "Repetition of Task:  88%|████████▊ | 44079/50000 [01:09<00:20, 292.36it/s]\n",
      "Repetition of Task:  88%|████████▊ | 44110/50000 [01:09<00:19, 296.76it/s]\n",
      "Repetition of Task:  88%|████████▊ | 44140/50000 [01:09<00:19, 295.51it/s]\n",
      "Repetition of Task:  88%|████████▊ | 44170/50000 [01:09<00:19, 296.70it/s]\n",
      "Repetition of Task:  88%|████████▊ | 44200/50000 [01:10<00:19, 296.40it/s]\n",
      "Repetition of Task:  88%|████████▊ | 44230/50000 [01:10<00:19, 295.65it/s]\n",
      "Repetition of Task:  89%|████████▊ | 44260/50000 [01:10<00:19, 296.64it/s]\n",
      "Repetition of Task:  89%|████████▊ | 44290/50000 [01:10<00:19, 285.73it/s]\n",
      "Repetition of Task:  89%|████████▊ | 44320/50000 [01:10<00:19, 289.74it/s]\n",
      "Repetition of Task:  89%|████████▊ | 44350/50000 [01:10<00:19, 292.16it/s]\n",
      "Repetition of Task:  89%|████████▉ | 44380/50000 [01:10<00:19, 292.46it/s]\n",
      "Repetition of Task:  89%|████████▉ | 44426/50000 [01:10<00:17, 326.31it/s]\n",
      "Repetition of Task:  89%|████████▉ | 44460/50000 [01:10<00:17, 315.73it/s]\n",
      "Repetition of Task:  89%|████████▉ | 44493/50000 [01:10<00:17, 309.35it/s]\n",
      "Repetition of Task:  89%|████████▉ | 44525/50000 [01:11<00:17, 305.39it/s]\n",
      "Repetition of Task:  89%|████████▉ | 44557/50000 [01:11<00:18, 295.40it/s]\n",
      "Repetition of Task:  89%|████████▉ | 44587/50000 [01:11<00:18, 290.43it/s]\n",
      "Repetition of Task:  89%|████████▉ | 44617/50000 [01:11<00:18, 293.03it/s]\n",
      "Repetition of Task:  89%|████████▉ | 44647/50000 [01:11<00:18, 291.99it/s]\n",
      "Repetition of Task:  89%|████████▉ | 44691/50000 [01:11<00:16, 324.24it/s]\n",
      "Repetition of Task:  90%|████████▉ | 44769/50000 [01:11<00:13, 391.31it/s]\n",
      "Repetition of Task:  90%|████████▉ | 44837/50000 [01:11<00:11, 448.28it/s]\n",
      "Repetition of Task:  90%|████████▉ | 44894/50000 [01:11<00:10, 474.21it/s]\n",
      "Repetition of Task:  90%|████████▉ | 44948/50000 [01:12<00:10, 465.68it/s]\n",
      "Repetition of Task:  90%|█████████ | 45017/50000 [01:12<00:09, 511.72it/s]\n",
      "Repetition of Task:  90%|█████████ | 45091/50000 [01:12<00:08, 560.31it/s]\n",
      "Repetition of Task:  90%|█████████ | 45171/50000 [01:12<00:07, 613.61it/s]\n",
      "Repetition of Task:  90%|█████████ | 45245/50000 [01:12<00:07, 640.13it/s]\n",
      "Repetition of Task:  91%|█████████ | 45313/50000 [01:12<00:07, 589.03it/s]\n",
      "Repetition of Task:  91%|█████████ | 45376/50000 [01:12<00:09, 492.27it/s]\n",
      "Repetition of Task:  91%|█████████ | 45431/50000 [01:12<00:09, 494.44it/s]\n",
      "Repetition of Task:  91%|█████████ | 45513/50000 [01:12<00:07, 560.90it/s]\n",
      "Repetition of Task:  91%|█████████ | 45583/50000 [01:13<00:07, 595.22it/s]\n",
      "Repetition of Task:  91%|█████████▏| 45652/50000 [01:13<00:07, 616.00it/s]\n",
      "Repetition of Task:  91%|█████████▏| 45717/50000 [01:13<00:07, 595.44it/s]\n",
      "Repetition of Task:  92%|█████████▏| 45789/50000 [01:13<00:06, 621.56it/s]\n",
      "Repetition of Task:  92%|█████████▏| 45854/50000 [01:13<00:07, 576.94it/s]\n",
      "Repetition of Task:  92%|█████████▏| 45930/50000 [01:13<00:06, 620.12it/s]\n",
      "Repetition of Task:  92%|█████████▏| 45995/50000 [01:13<00:07, 555.97it/s]\n",
      "Repetition of Task:  92%|█████████▏| 46054/50000 [01:13<00:07, 545.29it/s]\n",
      "Repetition of Task:  92%|█████████▏| 46135/50000 [01:13<00:06, 601.00it/s]\n",
      "Repetition of Task:  92%|█████████▏| 46216/50000 [01:14<00:05, 651.26it/s]\n",
      "Repetition of Task:  93%|█████████▎| 46300/50000 [01:14<00:05, 694.72it/s]\n",
      "Repetition of Task:  93%|█████████▎| 46373/50000 [01:14<00:05, 649.61it/s]\n",
      "Repetition of Task:  93%|█████████▎| 46451/50000 [01:14<00:05, 682.53it/s]\n",
      "Repetition of Task:  93%|█████████▎| 46523/50000 [01:14<00:05, 691.39it/s]\n",
      "Repetition of Task:  93%|█████████▎| 46594/50000 [01:14<00:05, 675.92it/s]\n",
      "Repetition of Task:  93%|█████████▎| 46669/50000 [01:14<00:04, 695.97it/s]\n",
      "Repetition of Task:  93%|█████████▎| 46742/50000 [01:14<00:04, 704.98it/s]\n",
      "Repetition of Task:  94%|█████████▎| 46814/50000 [01:14<00:04, 707.17it/s]\n",
      "Repetition of Task:  94%|█████████▍| 46889/50000 [01:15<00:04, 716.41it/s]\n",
      "Repetition of Task:  94%|█████████▍| 46962/50000 [01:15<00:04, 716.49it/s]\n",
      "Repetition of Task:  94%|█████████▍| 47034/50000 [01:15<00:04, 713.74it/s]\n",
      "Repetition of Task:  94%|█████████▍| 47117/50000 [01:15<00:03, 736.77it/s]\n",
      "Repetition of Task:  94%|█████████▍| 47192/50000 [01:15<00:03, 731.09it/s]\n",
      "Repetition of Task:  95%|█████████▍| 47267/50000 [01:15<00:03, 735.07it/s]\n",
      "Repetition of Task:  95%|█████████▍| 47345/50000 [01:15<00:03, 739.81it/s]\n",
      "Repetition of Task:  95%|█████████▍| 47423/50000 [01:15<00:03, 750.68it/s]\n",
      "Repetition of Task:  95%|█████████▍| 47499/50000 [01:15<00:03, 730.85it/s]\n",
      "Repetition of Task:  95%|█████████▌| 47573/50000 [01:15<00:03, 731.87it/s]\n",
      "Repetition of Task:  95%|█████████▌| 47647/50000 [01:16<00:03, 697.68it/s]\n",
      "Repetition of Task:  95%|█████████▌| 47728/50000 [01:16<00:03, 727.59it/s]\n",
      "Repetition of Task:  96%|█████████▌| 47803/50000 [01:16<00:03, 732.22it/s]\n",
      "Repetition of Task:  96%|█████████▌| 47880/50000 [01:16<00:02, 742.38it/s]\n",
      "Repetition of Task:  96%|█████████▌| 47960/50000 [01:16<00:02, 757.28it/s]\n",
      "Repetition of Task:  96%|█████████▌| 48042/50000 [01:16<00:02, 770.08it/s]\n",
      "Repetition of Task:  96%|█████████▌| 48120/50000 [01:16<00:02, 750.11it/s]\n",
      "Repetition of Task:  96%|█████████▋| 48197/50000 [01:16<00:02, 753.95it/s]\n",
      "Repetition of Task:  97%|█████████▋| 48274/50000 [01:16<00:02, 756.26it/s]\n",
      "Repetition of Task:  97%|█████████▋| 48351/50000 [01:17<00:02, 758.35it/s]\n",
      "Repetition of Task:  97%|█████████▋| 48432/50000 [01:17<00:02, 764.37it/s]\n",
      "Repetition of Task:  97%|█████████▋| 48509/50000 [01:17<00:01, 761.61it/s]\n",
      "Repetition of Task:  97%|█████████▋| 48591/50000 [01:17<00:01, 776.59it/s]\n",
      "Repetition of Task:  97%|█████████▋| 48670/50000 [01:17<00:01, 779.90it/s]\n",
      "Repetition of Task:  97%|█████████▋| 48749/50000 [01:17<00:01, 775.98it/s]\n",
      "Repetition of Task:  98%|█████████▊| 48831/50000 [01:17<00:01, 786.46it/s]\n",
      "Repetition of Task:  98%|█████████▊| 48917/50000 [01:17<00:01, 801.57it/s]\n",
      "Repetition of Task:  98%|█████████▊| 48998/50000 [01:17<00:01, 777.65it/s]\n",
      "Repetition of Task:  98%|█████████▊| 49078/50000 [01:17<00:01, 777.12it/s]\n",
      "Repetition of Task:  98%|█████████▊| 49160/50000 [01:18<00:01, 787.45it/s]\n",
      "Repetition of Task:  98%|█████████▊| 49242/50000 [01:18<00:00, 793.18it/s]\n",
      "Repetition of Task:  99%|█████████▊| 49322/50000 [01:18<00:00, 794.17it/s]\n",
      "Repetition of Task:  99%|█████████▉| 49402/50000 [01:18<00:00, 793.93it/s]\n",
      "Repetition of Task:  99%|█████████▉| 49482/50000 [01:18<00:00, 749.16it/s]\n",
      "Repetition of Task:  99%|█████████▉| 49560/50000 [01:18<00:00, 755.30it/s]\n",
      "Repetition of Task:  99%|█████████▉| 49640/50000 [01:18<00:00, 767.42it/s]\n",
      "Repetition of Task:  99%|█████████▉| 49723/50000 [01:18<00:00, 780.40it/s]\n",
      "Repetition of Task: 100%|█████████▉| 49804/50000 [01:18<00:00, 786.79it/s]\n",
      "Repetition of Task: 100%|█████████▉| 49883/50000 [01:18<00:00, 772.58it/s]\n",
      "Repetition of Task: 100%|█████████▉| 49963/50000 [01:19<00:00, 778.35it/s]\n",
      "Repetition of Task: 100%|██████████| 50000/50000 [01:19<00:00, 631.92it/s]\n",
      "Running stage 'gen_observations' with command:\n",
      "Repetition of Task:   0%|          | 0/50 [00:00<?, ?it/s]\n",
      "Repetition of Task: 100%|██████████| 50/50 [00:00<00:00, 667.02it/s]\n",
      "\n",
      "\tpython scripts/gen_observations.py\n",
      "(-0.8, 0.7)\n",
      "(0.25, 0.99)\n",
      "[3, 8, 13, 35, 40]\n",
      "Modifying stage 'gen_observations' in 'dvc.yaml'\n",
      "Updating lock file 'dvc.lock'\n",
      "\n",
      "To track the changes with git, run:\n",
      "\n",
      "\tgit add dvc.yaml dvc.lock\n"
     ]
    }
   ],
   "source": [
    "!dvc run --force --always-changed -n gen_observations -w .. -d data/env.pickle -p target_area,true_norm,num_observations,obs_data_set -o data/observations.pickle python scripts/gen_observations.py"
   ]
  },
  {
   "cell_type": "markdown",
   "metadata": {
    "cell_id": "00004-74dff12b-6246-4713-9d11-ac00f81ca12d",
    "tags": []
   },
   "source": [
    "### Check log likelihood of observation set given no norm and true norm"
   ]
  },
  {
   "cell_type": "code",
   "execution_count": 20,
   "metadata": {
    "cell_id": "00005-9fe496a2-bccc-4a58-889e-3f50ce6c84f0",
    "output_cleared": false,
    "tags": []
   },
   "outputs": [
    {
     "output_type": "stream",
     "name": "stdout",
     "text": [
      "Running stage 'test_obs_log_likelihood1' with command:\n\tpython scripts/test_obs_likelihood.py none true\nLog likelihood of observations given no norm: -13732.653608350562\n\nLog likelihood of observations given true exp.: -12694.183534230084\n\nModifying stage 'test_obs_log_likelihood1' in 'dvc.yaml'\nUpdating lock file 'dvc.lock'\n\nTo track the changes with git, run:\n\n\tgit add dvc.lock dvc.yaml\n"
     ]
    }
   ],
   "source": [
    "!dvc run --force --always-changed -n test_obs_log_likelihood1 -w .. -d data/observations.pickle -d data/env.pickle -p true_norm.exp python scripts/test_obs_likelihood.py none true"
   ]
  },
  {
   "cell_type": "markdown",
   "metadata": {
    "cell_id": "00004-e450e354-b0f6-4be5-bf60-55c1e89b36d3",
    "tags": []
   },
   "source": [
    "### Generate MCMC chains\n",
    "Creates data/chains_and_log_posteriors.pickle. Also metrics/starts_info.txt, but that is not currently recorded in the \"dvc run\" command below."
   ]
  },
  {
   "cell_type": "code",
   "execution_count": 3,
   "metadata": {
    "allow_embed": false,
    "cell_id": "00002-a888c5f1-50c2-4f53-911d-e56e17413bf5",
    "output_cleared": false,
    "tags": []
   },
   "outputs": [
    {
     "output_type": "stream",
     "name": "stdout",
     "text": "Running stage &#39;gen_mcmc_chains&#39; with command:Traceback (most recent call last):\n  File &quot;scripts/gen_mcmc_chains.py&quot;, line 60, in &lt;module&gt;\n    pickle_it(dask.compute(*chains_and_log_posteriors), &#39;data/chains_and_log_posteriors.pickle&#39;)\n  File &quot;C:\\Users\\crast78p\\OneDrive - University of Otago\\PythonProjects\\my fork - learning_norms_with_mcmc_from_pcfg\\env\\lib\\site-packages\\dask\\base.py&quot;, line 452, in compute\n    results = schedule(dsk, keys, **kwargs)\n  File &quot;C:\\Users\\crast78p\\OneDrive - University of Otago\\PythonProjects\\my fork - learning_norms_with_mcmc_from_pcfg\\env\\lib\\site-packages\\dask\\threaded.py&quot;, line 76, in get\n    results = get_async(\n  File &quot;C:\\Users\\crast78p\\OneDrive - University of Otago\\PythonProjects\\my fork - learning_norms_with_mcmc_from_pcfg\\env\\lib\\site-packages\\dask\\local.py&quot;, line 486, in get_async\n    raise_exception(exc, tb)\n  File &quot;C:\\Users\\crast78p\\OneDrive - University of Otago\\PythonProjects\\my fork - learning_norms_with_mcmc_from_pcfg\\env\\lib\\site-packages\\dask\\local.py&quot;, line 316, in reraise\n    raise exc\n  File &quot;C:\\Users\\crast78p\\OneDrive - University of Otago\\PythonProjects\\my fork - learning_norms_with_mcmc_from_pcfg\\env\\lib\\site-packages\\dask\\local.py&quot;, line 222, in execute_task\n    result = _execute_task(task, data)\n  File &quot;C:\\Users\\crast78p\\OneDrive - University of Otago\\PythonProjects\\my fork - learning_norms_with_mcmc_from_pcfg\\env\\lib\\site-packages\\dask\\core.py&quot;, line 121, in _execute_task\n    return func(*(_execute_task(a, cache) for a in args))\n  File &quot;scripts/gen_mcmc_chains.py&quot;, line 44, in delayed_alg1\n    exp_seq,log_likelihoods = algorithm_1(obs,env,the_task,q_dict,rule_dict,\n  File &quot;src\\mcmc_norm_learning\\algorithm_1_v4.py&quot;, line 195, in algorithm_1\n    new_expression = generate_new_expression(sequence[-1],data,task1,q_dict,rule_dict,env,log_lik_no_norm,relevance_factor,sim_threshold,similarity_penalty,w_normative)\n  File &quot;c:\\users\\crast78p\\onedrive - university of otago\\pythonprojects\\my fork - learning_norms_with_mcmc_from_pcfg\\src\\mcmc_norm_learning\\algorithm_2_v2.py&quot;, line 23, in generate_new_expression\n    a=random.choice(Ae)\n  File &quot;mtrand.pyx&quot;, line 904, in numpy.random.mtrand.RandomState.choice\nValueError: a must be 1-dimensional\nERROR: failed to run: python scripts/gen_mcmc_chains.py, exited with 1\n\n\tpython scripts/gen_mcmc_chains.py\nNormsNo-normNo-norm\nNorm\n\n\nOblPro\nAction\nColour\n\nShape\nZone\nNext-Move\nColour\nShape\nZone\nPer\nAction\nColour\nShape\nPerZone\nNorm\nObl\nNext-Move\nColour\nNo-normShape\nZone\n\nNo-normNo-norm\n\n-inf\nTrying another E0\nNo-norm\n-13732.653608350562-13732.653608350562\nTime to initialise E_0=0.2330s\n-13732.653608350562\nTime to initialise E_0=0.2540s\n\nTime to initialise E_0=0.2550s\n-inf\nNorm\nPro\nActionNo-norm-infTrying another E0\nNorms\n\n\nTrying another E0\n\nPro\nAction\nColour\nShapeColour\nShape\nZone-13732.653608350562\n\nNormsZone\nNo-norm\nTime to initialise E_0=0.3900s\n\n\nPerPro\nAction\nColour\nShape-13732.653608350562No-norm\n\nTime to initialise E_0=0.4520s\n\nZone\nPer\n\nAction\nColour\nShape\n-13732.653608350562\nAction\nColour\nTime to initialise E_0=0.2020s\nShape\nPerZone\n-13732.653608350562\nTime to initialise E_0=0.5670s\n-13732.653608350562\nTime to initialise E_0=0.1990s\n-inf\nTrying another E0\nNo-norm\nPerZone\n-13732.653608350562\nTime to initialise E_0=0.1960s\nNorm\n-13732.653608350562\nTime to initialise E_0=0.6670s\nNorms\n-13732.653608350562\nTime to initialise E_0=0.6720s\nNo-norm\nProPro-inf\nTrying another E0\n\n\nNo-normAction\nColour\nShape\nZone\nPer\nActionAction\n\nColour\nShape\nPerZone\n\nColour\nShape\nNorm\nZone\nObl\nNo-normMoved-13732.653608350562Norm\n\n\nColour\nShape\nZone\nNext-Move\nTime to initialise E_0=0.1920sPro\n\n-infColour\nAction\nColour\nNo-norm\n\nShape\nZoneNorms\nObl\nNext-Move\nColour-13732.653608350562\nTime to initialise E_0=0.2130s\nShape\n-inf\nTrying another E0\n\n\nZone\nTrying another E0No-norm\n\n\nNo-norm\nNo-norm\n-13732.653608350562\nTime to initialise E_0=0.1390s\nShape-inf-13732.653608350562\nTime to initialise E_0=0.2170s\n\nTrying another E0\nNo-norm\n\nZone\nNormPer\n\nOblActionNo-norm\n-13732.653608350562\nTime to initialise E_0=0.3460s\nColour\nShape\n\nNext-Move\nColour\n\nPerZone\n-13732.653608350562Norm\nTime to initialise E_0=0.4380s\nShape\nZone\nObl\nMoved-inf\nTrying another E0\nNo-norm\n\nNorms\nColour\nShape\n-13732.653608350562\nTime to initialise E_0=0.3160s\n\n-13732.653608350562\nTime to initialise E_0=0.3660s\nZonePro\nNext-Move\n\nAction-13732.653608350562\nTime to initialise E_0=0.1950s\n-inf\nTrying another E0\nNorms\nObl\nNext-Move\nColour\nColour\nShape\nZone\nPer\nColour\nShape\nZoneAction\nColour\nNo-norm\n\nNormShapeNo-norm\n\nShape\n\nZone\nPer\nActionPerZone\n-13732.653608350562\nTime to initialise E_0=0.2640s\nColour\nNo-norm\nShape\n\nObl\n\nPerZone\nNext-Move\n-inf\nTrying another E0\nNorms\nObl\n-infColour\n\nShapeMoved\nZoneTrying another E0\nColour\nShape\n\nZone-13732.653608350562-13732.653608350562\nTime to initialise E_0=0.2840s\n-13732.653608350562\nTime to initialise E_0=0.7000s\n\nNext-Move\nColour\nTime to initialise E_0=0.2320s\n-13732.653608350562\nTime to initialise E_0=0.2780s\n\nNorms\nPro\n\n-13732.653608350562\nTime to initialise E_0=0.2890sShape\nNorm\nPro\nAction\nColour\nShape\nZone\n\nNormAction\nColour\nShape\nZone\nPer\nAction\nColour\nShape\nPerZone\n-inf\nTrying another E0\nNo-norm\nNo-normNorms\nObl\nNorms\nObl\nMoved\n\n\nColour\nShape\nZone\nMoved\nColourZone\nPerObl\nShape\n\n\nMovedAction\nColour\n-13732.653608350562\nTime to initialise E_0=0.1660s\nShapeNext-Move\nColour\nShapeZone\nPerZone\n\nColour\nShape\nMoved\nColourZone\nNext-Move\nColour\n\n\nZone\n-13732.653608350562\nTime to initialise E_0=0.4250s\nPer\nNo-normNorms\nShape\nZone\n\n\nShape-inf\nTrying another E0\nNormActionObl\nObl\n-13732.653608350562\nTime to initialise E_0=0.1920s\nNext-Move\nColour\nShape\n\nColour\nNorms\nPro\n\nShapeNext-Move\nColourZone\n-inf\nTrying another E0\nZone\n\n\n\nNo-norm\nMovedAction\nColour\nShape-13732.653608350562\nTime to initialise E_0=0.1870s\n\nColour\nShapePerZone\nZone\nNext-Move\nColour\nShape\nZone\nPer\nAction\n\nNo-norm\n\nZoneColour\n\nShape\nShape-13732.653608350562\nPerZone\nPer\nAction-inf\n"
    }
   ],
   "source": [
    "!dvc run --force -n gen_mcmc_chains -w .. -d data/env.pickle -d data/observations.pickle -p n,m,rf,colour_specific,shape_specific,target_area -o data/chains_and_log_posteriors.pickle python scripts/gen_mcmc_chains.py"
   ]
  },
  {
   "cell_type": "markdown",
   "metadata": {
    "cell_id": "00006-f3d1a0ff-4505-4109-bb09-6f1a37676a60",
    "tags": []
   },
   "source": [
    "### Analyse the chains\n",
    "Generate file metrics/chain_posteriors.csv and append more information to metrics/chain_info.txt (note: DVC may not handle changing a file very well - perhaps a separate file should be created)."
   ]
  },
  {
   "cell_type": "code",
   "execution_count": 21,
   "metadata": {
    "cell_id": "00003-e14a9d99-8f7b-43c9-b9cd-1a1a54f123b0",
    "output_cleared": false,
    "tags": [
     "outputPrepend"
    ]
   },
   "outputs": [
    {
     "output_type": "stream",
     "name": "stdout",
     "text": [
      "13, -13527.265226370813, -13527.265226370813, -13527.265226370813, -13527.265226370813, -13527.265226370813, -13527.265226370813, -13527.265226370813, -13527.265226370813, -13527.265226370813, -13527.265226370813, -13527.265226370813, -13527.265226370813, -13527.265226370813, -13527.265226370813, -13527.265226370813, -13527.265226370813, -13527.265226370813, -13527.265226370813, -13527.265226370813, -13527.265226370813, -13527.265226370813, -13527.265226370813, -13527.265226370813, -13527.265226370813, -13527.265226370813, -13527.265226370813, -13527.265226370813, -13527.265226370813, -13527.265226370813, -13527.265226370813, -13527.265226370813, -13527.265226370813, -13527.265226370813, -13527.265226370813, -13527.265226370813, -13527.265226370813, -13527.265226370813, -13527.265226370813, -13527.265226370813, -13527.265226370813, -13527.265226370813, -13527.265226370813, -13527.265226370813, -13527.265226370813, -13527.265226370813, -13527.265226370813, -13527.265226370813, -13527.265226370813, -13528.363838659481, -13528.363838659481, -13528.363838659481, -13528.363838659481, -13528.363838659481, -13528.363838659481, -13528.363838659481, -13528.363838659481, -13528.363838659481, -13582.195840804206, -13582.195840804206, -13582.195840804206, -13582.195840804206, -13582.195840804206, -13582.195840804206, -13582.195840804206, -13582.195840804206, -13582.195840804206, -13582.195840804206, -13582.195840804206, -13637.1264552376, -13637.1264552376, -13637.1264552376, -13637.1264552376, -13637.1264552376, -13637.1264552376, -13637.1264552376, -13637.1264552376, -13637.1264552376, -13637.1264552376, -13637.1264552376, -13637.1264552376, -13637.1264552376, -13637.1264552376, -13637.1264552376, -13637.1264552376, -13637.1264552376, -13637.1264552376, -13637.1264552376, -13637.1264552376, -13637.1264552376, -13637.1264552376, -13637.1264552376, -13637.1264552376, -13637.1264552376, -13637.1264552376, -13637.1264552376, -13637.1264552376, -13637.1264552376, -13637.1264552376, -13637.1264552376, -13637.1264552376, -13637.1264552376, -13637.1264552376, -13637.1264552376, -13637.1264552376, -13637.1264552376, -13637.1264552376, -13637.1264552376, -13637.1264552376, -13637.1264552376, -13637.1264552376, -13637.1264552376, -13637.1264552376, -13637.1264552376, -13637.1264552376, -13637.1264552376, -13637.1264552376, -13637.1264552376, -13637.1264552376, -13637.1264552376, -13637.1264552376, -13637.1264552376, -13637.1264552376, -13637.1264552376, -13637.1264552376, -13637.1264552376, -13637.1264552376, -13637.1264552376, -13637.1264552376, -13637.1264552376, -13637.1264552376, -13637.1264552376, -13637.1264552376, -13637.1264552376, -13637.1264552376, -13637.1264552376, -13637.1264552376, -13637.1264552376, -13637.1264552376, -13637.1264552376, -13637.1264552376, -13637.1264552376, -13637.1264552376, -13637.1264552376, -13637.1264552376, -13637.1264552376, -13637.1264552376, -13637.1264552376, -13637.1264552376, -13637.1264552376, -13637.1264552376, -13637.1264552376, -13637.1264552376, -13637.1264552376, -13637.1264552376, -13637.1264552376, -13637.1264552376, -13637.1264552376, -13637.1264552376, -13637.1264552376, -13637.1264552376, -13637.1264552376, -13637.1264552376, -13637.1264552376, -13637.1264552376, -13637.1264552376, -13637.1264552376, -13637.1264552376, -13637.1264552376, -13637.1264552376, -13637.1264552376, -13637.1264552376, -13637.1264552376, -13637.1264552376, -13637.1264552376, -13637.1264552376, -13637.1264552376, -13637.1264552376, -13637.1264552376, -13637.1264552376, -13637.1264552376, -13637.1264552376, -13637.1264552376, -13637.1264552376, -13637.1264552376, -13637.1264552376, -13637.1264552376, -13637.1264552376, -13637.1264552376, -13637.1264552376, -13637.1264552376, -13637.1264552376, -13637.1264552376, -13637.1264552376, -13637.1264552376, -13637.1264552376, -13637.1264552376, -13637.1264552376, -13637.1264552376, -13637.1264552376, -13637.1264552376, -13637.1264552376, -13637.1264552376, -13637.1264552376, -13637.1264552376, -13637.1264552376, -13637.1264552376, -13637.1264552376, -13637.1264552376, -13637.1264552376, -13637.1264552376, -13637.1264552376, -13637.1264552376, -13637.1264552376, -13637.1264552376, -13637.1264552376, -13637.1264552376, -13637.1264552376, -13637.1264552376, -13637.1264552376, -13637.1264552376, -13637.1264552376, -13637.1264552376, -13637.1264552376, -13637.1264552376, -13637.1264552376, -13637.1264552376, -13637.1264552376, -13637.1264552376, -13637.1264552376, -13637.1264552376, -13637.1264552376, -13637.1264552376, -13637.1264552376, -13637.1264552376, -13637.1264552376, -13637.1264552376, -13637.1264552376, -13637.1264552376, -13637.1264552376, -13637.1264552376, -13637.1264552376, -13637.1264552376, -13637.1264552376, -13637.1264552376, -13637.1264552376, -13637.1264552376, -13637.1264552376, -13637.1264552376, -13637.1264552376, -13637.1264552376, -13637.1264552376, -13637.1264552376, -13637.1264552376, -13637.1264552376, -13637.1264552376, -13637.1264552376, -13637.1264552376, -13637.1264552376, -13637.1264552376, -13637.1264552376, -13637.1264552376, -13637.1264552376, -13637.1264552376, -13637.1264552376, -13637.1264552376, -13637.1264552376, -13637.1264552376, -13637.1264552376, -13637.1264552376, -13637.1264552376, -13637.1264552376, -13637.1264552376, -13637.1264552376, -13637.1264552376, -13637.1264552376, -13637.1264552376, -13637.1264552376, -13637.1264552376, -13637.1264552376, -13637.1264552376, -13637.1264552376, -13637.1264552376, -13637.1264552376, -13637.1264552376, -13637.1264552376, -13637.1264552376, -13637.1264552376, -13637.1264552376, -13637.1264552376, -13637.1264552376, -13637.1264552376, -13637.1264552376, -13637.1264552376, -13637.1264552376, -13637.1264552376, -13637.1264552376, -13637.1264552376, -13637.1264552376, -13637.1264552376, -13637.1264552376, -13637.1264552376, -13637.1264552376, -13637.1264552376, -13637.1264552376, -13637.1264552376, -13637.1264552376, -13637.1264552376, -13637.1264552376, -13638.225067526268, -13638.225067526268, -13638.225067526268, -13638.225067526268, -13638.225067526268, -13638.225067526268, -13638.225067526268, -13638.225067526268, -13638.225067526268, -13638.225067526268, -13638.225067526268, -13638.225067526268, -13638.225067526268, -13638.225067526268, -13638.225067526268, -13638.225067526268, -13638.225067526268, -13638.225067526268, -13638.225067526268, -13638.225067526268, -13638.225067526268, -13638.225067526268, -13638.225067526268, -13638.225067526268, -13638.225067526268, -13638.225067526268, -13638.225067526268, -13638.225067526268, -13638.225067526268, -13638.225067526268, -13638.225067526268, -13638.225067526268, -13638.225067526268, -13638.225067526268, -13638.225067526268, -13638.225067526268, -13638.225067526268, -13638.225067526268, -13638.225067526268, -13638.225067526268, -13638.225067526268, -13638.225067526268, -13638.225067526268, -13638.225067526268, -13638.225067526268, -13638.225067526268, -13638.225067526268, -13638.225067526268, -13638.225067526268, -13638.225067526268, -13638.225067526268, -13638.225067526268, -13638.225067526268, -13638.225067526268, -13638.225067526268, -13638.225067526268, -13638.225067526268, -13638.225067526268, -13638.225067526268, -13638.225067526268, -13638.225067526268, -13638.225067526268, -13638.225067526268, -13638.225067526268, -13638.225067526268, -13638.225067526268, -13638.225067526268, -13638.225067526268, -13638.225067526268, -13638.225067526268, -13638.225067526268, -13638.225067526268, -13638.225067526268, -13638.225067526268, -13638.225067526268, -13638.225067526268, -13638.225067526268, -13638.225067526268, -13638.225067526268, -13638.225067526268, -13638.225067526268, -13638.225067526268, -13638.225067526268, -13638.225067526268, -13638.225067526268, -13638.225067526268, -13638.225067526268, -13638.225067526268, -13638.225067526268, -13638.225067526268, -13638.225067526268, -13638.225067526268, -13638.225067526268, -13638.225067526268, -13638.225067526268, -13638.225067526268, -13638.225067526268, -13638.225067526268, -13638.225067526268, -13638.225067526268, -13638.225067526268, -13638.225067526268, -13638.225067526268, -13638.225067526268, -13638.225067526268, -13638.225067526268, -13638.225067526268, -13638.225067526268, -13638.225067526268, -13638.225067526268, -13638.225067526268, -13638.225067526268, -13638.225067526268, -13638.225067526268, -13638.225067526268, -13638.225067526268, -13638.225067526268, -13638.225067526268, -13638.225067526268, -13638.225067526268, -13638.225067526268, -13638.225067526268, -13638.225067526268, -13638.225067526268, -13638.225067526268, -13638.225067526268, -13638.225067526268, -13638.225067526268, -13638.225067526268, -13638.225067526268, -13638.225067526268, -13638.225067526268, -13638.225067526268, -13638.225067526268, -13638.225067526268, -13638.225067526268, -13638.225067526268, -13638.225067526268, -13638.225067526268, -13638.225067526268, -13638.225067526268, -13638.225067526268, -13638.225067526268, -13638.225067526268, -13638.225067526268, -13638.225067526268, -13638.225067526268, -13638.225067526268, -13638.225067526268, -13638.225067526268, -13638.225067526268, -13638.225067526268, -13638.225067526268, -13638.225067526268, -13638.225067526268, -13638.225067526268, -13638.225067526268, -13638.225067526268, -13639.323679814936, -13639.323679814936, -13639.323679814936, -13639.323679814936, -13639.323679814936, -13639.323679814936, -13639.323679814936, -13639.323679814936, -13639.323679814936, -13639.323679814936, -13639.323679814936, -13639.323679814936, -13639.323679814936, -13639.323679814936, -13639.323679814936, -13639.323679814936, -13639.323679814936, -13639.323679814936, -13639.323679814936, -13639.323679814936, -13639.323679814936, -13639.323679814936, -13639.323679814936, -13639.323679814936, -13639.323679814936, -13640.422292103603, -13640.422292103603, -13640.422292103603, -13640.422292103603, -13640.422292103603, -13640.422292103603, -13693.15568195966, -13693.15568195966, -13693.15568195966, -13693.15568195966, -13694.254294248329, -13694.254294248329, -13694.254294248329, -13694.254294248329, -13694.254294248329, -13694.254294248329, -13694.254294248329, -13694.254294248329, -13694.254294248329, -13694.254294248329, -13694.254294248329, -13694.254294248329, -13733.346755531122, -13733.346755531122, -13733.346755531122, -13733.346755531122, -13733.346755531122, -13733.346755531122, -13733.346755531122, -13733.346755531122, -13733.346755531122, -13733.346755531122, -13733.346755531122, -13733.346755531122, -13733.346755531122, -13733.346755531122, -13733.346755531122, -13733.346755531122, -13733.346755531122, -13733.346755531122, -13733.346755531122, -13733.346755531122, -13733.346755531122, -13733.346755531122, -13733.346755531122, -13733.346755531122, -13733.346755531122, -13733.346755531122, -13733.346755531122, -13733.346755531122, -13733.346755531122, -13733.346755531122, -13733.346755531122, -13733.346755531122, -13733.346755531122, -13733.346755531122, -13733.346755531122, -13733.346755531122, -13733.346755531122, -13733.346755531122, -13733.346755531122, -13733.346755531122, -13733.346755531122, -13733.346755531122, -13733.346755531122, -13733.346755531122, -13733.346755531122, -13733.346755531122, -13733.346755531122, -13733.346755531122, -13733.346755531122, -13733.346755531122, -13733.346755531122, -13733.346755531122, -13733.346755531122, -13733.346755531122, -13733.346755531122, -13733.346755531122, -13733.346755531122, -13733.346755531122, -13733.346755531122, -13733.346755531122, -13733.346755531122, -13733.346755531122, -13733.346755531122, -13733.346755531122, -13733.346755531122, -13733.346755531122, -13733.346755531122, -13733.346755531122, -13733.346755531122, -13733.346755531122, -13733.346755531122, -13733.346755531122, -13733.346755531122, -13733.346755531122, -13733.346755531122, -13733.346755531122, -13733.346755531122, -13733.346755531122, -13733.346755531122, -13733.346755531122, -13733.346755531122, -13733.346755531122, -13733.346755531122, -13733.346755531122, -13733.346755531122, -13733.346755531122, -13733.346755531122, -13733.346755531122, -13733.346755531122, -13733.346755531122, -13733.346755531122, -13733.346755531122, -13733.346755531122, -13733.346755531122, -13733.346755531122, -13733.346755531122, -13733.346755531122, -13733.346755531122, -13733.346755531122, -13733.346755531122, -13733.346755531122, -13733.346755531122, -13733.346755531122, -13733.346755531122, -13733.346755531122, -13733.346755531122, -13733.346755531122, -13733.346755531122, -13733.346755531122, -13733.346755531122, -13733.346755531122, -13733.346755531122, -13733.346755531122, -13733.346755531122, -13733.346755531122, -13733.346755531122, -13733.346755531122, -13733.346755531122, -13733.346755531122, -13733.346755531122, -13733.346755531122, -13733.346755531122, -13733.346755531122, -13733.346755531122, -13733.346755531122, -13733.346755531122, -13733.346755531122, -13733.346755531122, -13733.346755531122, -13733.346755531122, -13733.346755531122, -13733.346755531122, -13733.346755531122, -13733.346755531122, -13733.346755531122, -13733.346755531122, -13733.346755531122, -13733.346755531122, -13733.346755531122, -13733.346755531122, -13733.346755531122, -13733.346755531122, -13733.346755531122, -13733.346755531122, -13733.346755531122, -13733.346755531122, -13733.346755531122, -13733.346755531122, -13733.346755531122, -13733.346755531122, -13733.346755531122, -13733.346755531122, -13733.346755531122, -13733.346755531122, -13733.346755531122, -13733.346755531122, -13733.346755531122, -13733.346755531122, -13733.346755531122, -13733.346755531122, -13733.346755531122, -13733.346755531122, -13733.346755531122, -13733.346755531122, -13733.346755531122, -13733.346755531122, -13733.346755531122, -13733.346755531122, -13733.346755531122, -13733.346755531122, -13733.346755531122, -13733.346755531122, -13733.346755531122, -13733.346755531122, -13733.346755531122, -13733.346755531122, -13733.346755531122, -13733.346755531122, -13733.346755531122, -13733.346755531122, -13733.346755531122, -13733.346755531122, -13733.346755531122, -13733.346755531122, -13733.346755531122, -13733.346755531122, -13733.346755531122, -13733.346755531122, -13733.346755531122, -13733.346755531122, -13733.346755531122, -13733.346755531122, -13733.346755531122, -13733.346755531122, -13733.346755531122, -13733.346755531122, -13733.346755531122, -13733.346755531122, -13733.346755531122, -13733.346755531122, -13733.346755531122, -13733.346755531122, -13733.346755531122, -13733.346755531122, -13733.346755531122, -13733.346755531122, -13733.346755531122, -13733.346755531122, -13733.346755531122, -13733.346755531122, -13733.346755531122, -13733.346755531122, -13733.346755531122, -13733.346755531122, -13733.346755531122, -13733.346755531122, -13733.346755531122, -13733.346755531122, -13733.346755531122, -13733.346755531122, -13733.346755531122, -13733.346755531122, -13733.346755531122, -13733.346755531122, -13733.346755531122, -13733.346755531122, -13733.346755531122, -13733.346755531122, -13733.346755531122, -13733.346755531122, -13733.346755531122, -13733.346755531122, -13733.346755531122, -13733.346755531122, -13733.346755531122, -13733.346755531122, -13733.346755531122, -13733.346755531122, -13733.346755531122, -13733.346755531122, -13733.346755531122, -13733.346755531122, -13733.346755531122, -13733.346755531122, -13733.346755531122, -13733.346755531122, -13733.346755531122, -13733.346755531122, -13733.346755531122, -13733.346755531122, -13733.346755531122, -13733.346755531122, -13733.346755531122, -13733.346755531122, -13733.346755531122, -13733.346755531122, -13733.346755531122, -13733.346755531122, -13733.346755531122, -13733.346755531122, -13733.346755531122, -13733.346755531122, -13733.346755531122, -13733.346755531122, -13733.346755531122, -13733.346755531122, -13733.346755531122, -13733.346755531122, -13733.346755531122, -13733.346755531122, -13733.346755531122, -13733.346755531122, -13733.346755531122, -13733.346755531122, -13733.346755531122, -13733.346755531122, -13733.346755531122, -13733.346755531122, -13733.346755531122, -13733.346755531122, -13733.346755531122, -13733.346755531122, -13733.346755531122, -13733.346755531122, -13733.346755531122, -13733.346755531122, -13733.346755531122, -13733.346755531122, -13733.346755531122, -13733.346755531122, -13733.346755531122, -13733.346755531122, -13733.346755531122, -13733.346755531122, -13733.346755531122, -13733.346755531122, -13733.346755531122, -13733.346755531122, -13733.346755531122, -13733.346755531122, -13733.346755531122, -13733.346755531122, -13733.346755531122, -13733.346755531122, -13733.346755531122, -13733.346755531122, -13733.346755531122, -13733.346755531122, -13733.346755531122, -13733.346755531122, -13733.346755531122, -13733.346755531122, -13733.346755531122, -13733.346755531122, -13733.346755531122, -13733.346755531122, -13733.346755531122, -13733.346755531122, -13733.346755531122, -13733.346755531122, -13733.346755531122, -13733.346755531122, -13733.346755531122, -13733.346755531122, -13733.346755531122, -13733.346755531122, -13733.346755531122, -13733.346755531122, -13733.346755531122, -13733.346755531122, -13733.346755531122, -13733.346755531122, -13733.346755531122, -13733.346755531122, -13733.346755531122, -13733.346755531122, -13733.346755531122, -13733.346755531122, -13733.346755531122, -13733.346755531122, -13733.346755531122, -13733.346755531122, -13733.346755531122, -13733.346755531122, -13733.346755531122, -13733.346755531122, -13733.346755531122, -13733.346755531122, -13733.346755531122, -13733.346755531122, -13733.346755531122, -13733.346755531122, -13733.346755531122, -13733.346755531122, -13733.346755531122, -13733.346755531122, -13733.346755531122, -13733.346755531122, -13733.346755531122, -13733.346755531122, -13733.346755531122, -13733.346755531122, -13733.346755531122, -13733.346755531122, -13733.346755531122, -13733.346755531122, -13733.346755531122, -13733.346755531122, -13733.346755531122, -13733.346755531122, -13733.346755531122, -13733.346755531122, -13733.346755531122, -13733.346755531122, -13733.346755531122, -13739.702863191818, -13739.702863191818, -13739.702863191818, -13739.702863191818, -13739.820646227474, -13739.820646227474, -13739.820646227474, -13739.820646227474, -13739.820646227474, -13739.820646227474, -13739.820646227474, -13740.801475480486, -13740.801475480486, -13740.801475480486, -13740.801475480486, -13740.801475480486, -13740.801475480486, -13741.494622661046, -13741.900087769154, -13741.900087769154, -13741.900087769154, -13741.900087769154, -13741.900087769154, -13741.900087769154, -13741.900087769154, -13741.900087769154, -13741.900087769154, -13741.900087769154, -13741.900087769154, -13742.593234949714, -13742.593234949714, -13742.593234949714, -13742.593234949714, -13742.593234949714, -13742.593234949714, -13742.593234949714, -13742.593234949714, -13743.691847238382, -13743.691847238382, -13743.691847238382, -13744.09731234649, -13744.09731234649, -13744.09731234649, -13744.09731234649, -13744.09731234649, -13744.09731234649, -13744.09731234649, -13744.09731234649, -13748.086296393054, -13748.779443573614, -13748.779443573614, -13748.779443573614]\ndict_keys([-13742.593234949714, -13741.494622661046, -13741.900087769154, -13733.346755531122, -13739.702863191818, -13740.801475480486, -13748.779443573614, -13744.09731234649, -13743.691847238382, -13739.820646227474, -13748.086296393054, -13693.15568195966, -13694.254294248329, -13638.225067526268, -13637.1264552376, -13639.323679814936, -13640.422292103603, -13582.195840804206, -13527.265226370813, -13528.363838659481, -13417.403997504027, -13418.502609792695, -13413.820478565573, -13414.91909085424, -13358.88986413218, -13359.988476420847, -13361.087088709515])\n\n\nWriting 2000 rows to CSV file\n\nModifying stage 'analyse_chains' in 'dvc.yaml'\nUpdating lock file 'dvc.lock'\n\nTo track the changes with git, run:\n\n\tgit add dvc.lock dvc.yaml\n"
     ]
    }
   ],
   "source": [
    "!dvc run --force -n analyse_chains -w .. -d data/chains_and_log_posteriors.pickle -d data/env.pickle -d data/observations.pickle -p n,m,rf,colour_specific,shape_specific,target_area -o metrics/chain_info.txt --plots metrics/chain_posteriors.csv python scripts/analyse_chains.py"
   ]
  },
  {
   "cell_type": "markdown",
   "metadata": {
    "cell_id": "00008-b6e9f15d-9983-4607-9c11-5f3c30b75fde",
    "tags": []
   },
   "source": [
    "### Generate a plot showing norms ordered by likelihood (or now posterior prob.?)\n",
    "The file plots.html is generated in the root folder, based on data in metrics/chain_posteriors.csv"
   ]
  },
  {
   "cell_type": "code",
   "execution_count": 22,
   "metadata": {
    "cell_id": "00004-8dfebf1c-ed1c-4abf-933c-d5855e0bda14",
    "output_cleared": false,
    "tags": []
   },
   "outputs": [
    {
     "output_type": "stream",
     "name": "stdout",
     "text": [
      "/c/Users/crast78p/OneDrive - University of Otago/PythonProjects/my fork - learning_norms_with_mcmc_from_pcfgERROR: unexpected error - 'metrics/chain_posteriors.csv'\n",
      "\n",
      "\n",
      "Having any troubles? Hit us up at https://dvc.org/support, we are always happy to help!\n",
      "DVC version: 1.8.1 (pip)\n",
      "---------------------------------\n",
      "Platform: Python 3.8.2 on Windows-10-10.0.18362-SP0\n",
      "Supports: gdrive, http, https\n",
      "Cache types: hardlink\n",
      "Cache directory: NTFS on C:\\\n",
      "Workspace directory: NTFS on C:\\\n",
      "Repo: dvc, git\n"
     ]
    }
   ],
   "source": [
    "!cd .. && pwd && dvc plots show -t plots/norm_exp_histogram.json metrics/chain_posteriors.csv"
   ]
  },
  {
   "cell_type": "markdown",
   "metadata": {
    "cell_id": "00010-2b350a37-8c93-4bbe-9f6e-62dbcb503907",
    "tags": []
   },
   "source": [
    "### Perform a convergence test to compute $\\hat{R}$\n",
    "The result is written to metrics/conv_test.txt. Also, the posterior sample (after discarding initial warm-up segments of chains and combining the remains) is writen to data/posterior.pickle. \n"
   ]
  },
  {
   "cell_type": "code",
   "execution_count": 23,
   "metadata": {
    "cell_id": "00004-de24100b-aa90-45d8-9951-e740220ab08e",
    "output_cleared": false,
    "tags": []
   },
   "outputs": [
    {
     "output_type": "stream",
     "name": "stdout",
     "text": [
      "Running stage 'conv_test' with command:\n\tpython scripts/conv_test.py\nHBox(children=(FloatProgress(value=0.0, description='Progress', max=5.0, style=ProgressStyle(description_width='initial')), HTML(value='')))\n\nCalculating Variance for 1st 50 iterations\nTemp. check: seq length is 50\nTime taken for job=0.4s\n\nCalculating Variance for 1st 100 iterations\nTemp. check: seq length is 100\nTime taken for job=0.6s\n\nCalculating Variance for 1st 200 iterations\nTemp. check: seq length is 200\nTime taken for job=1.2s\n\nCalculating Variance for 1st 400 iterations\nTemp. check: seq length is 400\nTime taken for job=2.4s\n\nCalculating Variance for 1st 499 iterations\nTemp. check: seq length is 499\nTime taken for job=2.9s\n\nModifying stage 'conv_test' in 'dvc.yaml'\nUpdating lock file 'dvc.lock'\n\nTo track the changes with git, run:\n\n\tgit add dvc.yaml dvc.lock\n"
     ]
    }
   ],
   "source": [
    "!dvc run --force -n conv_test -w .. -d data/chains_and_log_posteriors.pickle -p rhat_step_size -o data/posterior.pickle -o metrics/conv_test.txt python scripts/conv_test.py"
   ]
  },
  {
   "cell_type": "markdown",
   "metadata": {
    "cell_id": "00012-00464624-daf9-430c-bfcd-ef140ce0659b",
    "tags": []
   },
   "source": [
    "### Extract the top norms and compute precision and recall\n",
    "The results are written to metrics/precision_recall.txt.\n"
   ]
  },
  {
   "cell_type": "code",
   "execution_count": 24,
   "metadata": {
    "allow_embed": false,
    "cell_id": "00005-bc971935-b212-471d-bce0-fd808b7f5362",
    "output_cleared": false,
    "tags": []
   },
   "outputs": [
    {
     "output_type": "stream",
     "name": "stdout",
     "text": [
      "Running stage 'extract_top_norms' with command:\n",
      "\tpython scripts/extract_top_norms.py\n",
      "True expression passed to performance(...): ['Norms', ['Obl', ['Moved', ['Colour', 'r'], ['Shape', 'any'], ['Zone', '1'], ['Next-Move', ['Colour', 'any'], ['Shape', 'any']]], ['Zone', '2']], ['Per', ['Action', 'putdown'], ['Colour', 'any'], ['Shape', 'square'], ['PerZone', '3']]]\n",
      "true_data[0]: ((('pickup', 8), ('putdown', 8, '1')), (('pickup', 35), ('putdown', 35, '3')), (('pickup', 3), ('putdown', 3, '3')), (('pickup', 40), ('putdown', 40, '3')), (('pickup', 13), ('putdown', 13, '1')))\n",
      "Calculting P&R for exp (('Norm', ('Obl', ('Moved', ('Colour', 'b'), ('Shape', 'any'), ('Zone', '1'), ('Moved', ('Colour', 'any'), ('Shape', 'any'), ('Zone', '1'), ('Moved', ('Colour', 'any'), ('Shape', 'any'), ('Zone', '2'), ('Next-Move', ('Colour', 'any'), ('Shape', 'any'))))), ('Zone', '3'))), 999) at rank 1\n",
      "predicted_data[0]: ((('pickup', 13), ('putdown', 13, '3')), (('pickup', 40), ('putdown', 40, '2')), (('pickup', 8), ('putdown', 8, '1')), (('pickup', 3), ('putdown', 3, '3')), (('pickup', 35), ('putdown', 35, '1')))\n",
      "Identical sets: False\n",
      "Num. distinct executions in observations: 18853\n",
      "\n",
      "Num. distinct executions given learned exp.: 23551\n",
      "\n",
      "Size of intersection: 15161\n",
      "Calculting P&R for exp (('Norm', ('Obl', ('Moved', ('Colour', 'g'), ('Shape', 'any'), ('Zone', '2'), ('Moved', ('Colour', 'any'), ('Shape', 'any'), ('Zone', '2'), ('Next-Move', ('Colour', 'any'), ('Shape', 'any')))), ('Zone', '1'))), 874) at rank 2\n",
      "predicted_data[0]: ((('pickup', 8), ('putdown', 8, '3')), (('pickup', 13), ('putdown', 13, '3')), (('pickup', 3), ('putdown', 3, '2')), (('pickup', 35), ('putdown', 35, '3')), (('pickup', 40), ('putdown', 40, '1')))\n",
      "Identical sets: False\n",
      "Repetition of Task:   0%|          | 0/50000 [00:00<?, ?it/s]\n",
      "Repetition of Task:   0%|          | 62/50000 [00:00<01:21, 613.87it/s]\n",
      "Repetition of Task:   0%|          | 126/50000 [00:00<01:20, 619.68it/s]\n",
      "Repetition of Task:   0%|          | 197/50000 [00:00<01:17, 644.27it/s]\n",
      "Repetition of Task:   1%|          | 264/50000 [00:00<01:16, 651.77it/s]\n",
      "Repetition of Task:   1%|          | 331/50000 [00:00<01:15, 657.07it/s]\n",
      "Repetition of Task:   1%|          | 396/50000 [00:00<01:18, 633.91it/s]\n",
      "Repetition of Task:   1%|          | 465/50000 [00:00<01:16, 649.70it/s]\n",
      "Repetition of Task:   1%|          | 533/50000 [00:00<01:15, 653.52it/s]\n",
      "Repetition of Task:   1%|          | 600/50000 [00:00<01:15, 658.35it/s]\n",
      "Repetition of Task:   1%|▏         | 665/50000 [00:01<01:15, 653.77it/s]\n",
      "Repetition of Task:   1%|▏         | 729/50000 [00:01<01:18, 628.60it/s]\n",
      "Repetition of Task:   2%|▏         | 799/50000 [00:01<01:16, 646.57it/s]\n",
      "Repetition of Task:   2%|▏         | 869/50000 [00:01<01:14, 658.06it/s]\n",
      "Repetition of Task:   2%|▏         | 935/50000 [00:01<01:15, 652.79it/s]\n",
      "Repetition of Task:   2%|▏         | 1007/50000 [00:01<01:13, 664.16it/s]\n",
      "Repetition of Task:   2%|▏         | 1074/50000 [00:01<01:14, 659.99it/s]\n",
      "Repetition of Task:   2%|▏         | 1144/50000 [00:01<01:12, 669.58it/s]\n",
      "Repetition of Task:   2%|▏         | 1214/50000 [00:01<01:11, 678.42it/s]\n",
      "Repetition of Task:   3%|▎         | 1282/50000 [00:01<01:12, 671.48it/s]\n",
      "Repetition of Task:   3%|▎         | 1350/50000 [00:02<01:13, 662.29it/s]\n",
      "Repetition of Task:   3%|▎         | 1417/50000 [00:02<01:13, 664.55it/s]\n",
      "Repetition of Task:   3%|▎         | 1484/50000 [00:02<01:13, 656.64it/s]\n",
      "Repetition of Task:   3%|▎         | 1550/50000 [00:02<01:18, 615.42it/s]\n",
      "Repetition of Task:   3%|▎         | 1620/50000 [00:02<01:16, 635.67it/s]\n",
      "Repetition of Task:   3%|▎         | 1686/50000 [00:02<01:15, 639.30it/s]\n",
      "Repetition of Task:   4%|▎         | 1753/50000 [00:02<01:14, 645.55it/s]\n",
      "Repetition of Task:   4%|▎         | 1818/50000 [00:02<01:15, 637.54it/s]\n",
      "Repetition of Task:   4%|▍         | 1883/50000 [00:02<01:15, 641.21it/s]\n",
      "Repetition of Task:   4%|▍         | 1955/50000 [00:02<01:12, 661.13it/s]\n",
      "Repetition of Task:   4%|▍         | 2024/50000 [00:03<01:12, 665.73it/s]\n",
      "Repetition of Task:   4%|▍         | 2091/50000 [00:03<01:12, 663.05it/s]\n",
      "Repetition of Task:   4%|▍         | 2160/50000 [00:03<01:11, 670.84it/s]\n",
      "Repetition of Task:   4%|▍         | 2234/50000 [00:03<01:09, 688.26it/s]\n",
      "Repetition of Task:   5%|▍         | 2306/50000 [00:03<01:08, 693.47it/s]\n",
      "Repetition of Task:   5%|▍         | 2376/50000 [00:03<01:11, 667.55it/s]\n",
      "Repetition of Task:   5%|▍         | 2444/50000 [00:03<01:11, 667.34it/s]\n",
      "Repetition of Task:   5%|▌         | 2511/50000 [00:03<01:13, 647.41it/s]\n",
      "\n",
      "Num. distinct executions in observations: 18853\n",
      "\n",
      "Num. distinct executions given learned exp.: 23006\n",
      "\n",
      "Size of intersection: 14752\n",
      "Calculting P&R for exp (('Norm', ('Obl', ('Moved', ('Colour', 'any'), ('Shape', 'circle'), ('Zone', '1'), ('Next-Move', ('Colour', 'any'), ('Shape', 'triangle'))), ('Zone', '2'))), 575) at rank 3\n",
      "predicted_data[0]: ((('pickup', 8), ('putdown', 8, '3')), (('pickup', 3), ('putdown', 3, '2')), (('pickup', 40), ('putdown', 40, '2')), (('pickup', 13), ('putdown', 13, '1')), (('pickup', 35), ('putdown', 35, '2')))\n",
      "Identical sets: False\n",
      "Num. distinct executions in observations: 18853\n",
      "\n",
      "Num. distinct executions given learned exp.: 22047\n",
      "\n",
      "Size of intersection: 15674\n",
      "Calculting P&R for exp (('Norms', ('Obl', ('Moved', ('Colour', 'r'), ('Shape', 'any'), ('Zone', '1'), ('Next-Move', ('Colour', 'any'), ('Shape', 'any'))), ('Zone', '2')), ('Per', ('Action', 'putdown'), ('Colour', 'any'), ('Shape', 'square'), ('PerZone', '3'))), 451) at rank 4\n",
      "predicted_data[0]: ((('pickup', 3), ('putdown', 3, '3')), (('pickup', 40), ('putdown', 40, '2')), (('pickup', 8), ('putdown', 8, '1')), (('pickup', 13), ('putdown', 13, '3')), (('pickup', 35), ('putdown', 35, '3')))\n",
      "Identical sets: False\n",
      "Num. distinct executions in observations: 18853\n",
      "\n",
      "Num. distinct executions given learned exp.: 18824\n",
      "\n",
      "Size of intersection: 16226\n",
      "Calculting P&R for exp (('Norm', ('Obl', ('Moved', ('Colour', 'r'), ('Shape', 'any'), ('Zone', '1'), ('Next-Move', ('Colour', 'any'), ('Shape', 'triangle'))), ('Zone', '2'))), 430) at rank 5\n",
      "predicted_data[0]: ((('pickup', 8), ('putdown', 8, '2')), (('pickup', 13), ('putdown', 13, '2')), (('pickup', 3), ('putdown', 3, '3')), (('pickup', 40), ('putdown', 40, '2')), (('pickup', 35), ('putdown', 35, '1')))\n",
      "Identical sets: False\n",
      "Num. distinct executions in observations: 18853\n",
      "\n",
      "Num. distinct executions given learned exp.: 22043\n",
      "\n",
      "Size of intersection: 15686\n",
      "  norm_rank    weight  precision    recall       F_1\n",
      "0         1  0.300090   0.643752  0.804169  0.715074\n",
      "1         2  0.262541   0.641224  0.782475  0.704842\n",
      "2         3  0.172725   0.710936  0.831380  0.766455\n",
      "3         4  0.135476   0.861985  0.860659  0.861321\n",
      "4         5  0.129168   0.711609  0.832016  0.767117\n",
      "5       net  1.000000   0.693023  0.814423  0.747798\n",
      "Modifying stage 'extract_top_norms' in 'dvc.yaml'\n",
      "Updating lock file 'dvc.lock'\n",
      "\n",
      "To track the changes with git, run:\n",
      "\n",
      "\tgit add dvc.lock dvc.yaml\n",
      "Repetition of Task:   5%|▌         | 2579/50000 [00:03<01:12, 654.98it/s]\n",
      "Repetition of Task:   5%|▌         | 2651/50000 [00:04<01:10, 673.22it/s]\n",
      "Repetition of Task:   5%|▌         | 2720/50000 [00:04<01:09, 676.23it/s]\n",
      "Repetition of Task:   6%|▌         | 2788/50000 [00:04<01:10, 673.32it/s]\n",
      "Repetition of Task:   6%|▌         | 2856/50000 [00:04<01:10, 669.33it/s]\n",
      "Repetition of Task:   6%|▌         | 2924/50000 [00:04<01:10, 666.49it/s]\n",
      "Repetition of Task:   6%|▌         | 2992/50000 [00:04<01:10, 666.57it/s]\n",
      "Repetition of Task:   6%|▌         | 3059/50000 [00:04<01:10, 665.65it/s]\n",
      "Repetition of Task:   6%|▋         | 3129/50000 [00:04<01:09, 673.65it/s]\n",
      "Repetition of Task:   6%|▋         | 3197/50000 [00:04<01:09, 669.49it/s]\n",
      "Repetition of Task:   7%|▋         | 3267/50000 [00:04<01:09, 676.40it/s]\n",
      "Repetition of Task:   7%|▋         | 3335/50000 [00:05<01:09, 667.55it/s]\n",
      "Repetition of Task:   7%|▋         | 3402/50000 [00:05<01:12, 645.12it/s]\n",
      "Repetition of Task:   7%|▋         | 3467/50000 [00:05<01:12, 642.67it/s]\n",
      "Repetition of Task:   7%|▋         | 3535/50000 [00:05<01:11, 653.40it/s]\n",
      "Repetition of Task:   7%|▋         | 3601/50000 [00:05<01:11, 647.73it/s]\n",
      "Repetition of Task:   7%|▋         | 3668/50000 [00:05<01:10, 654.25it/s]\n",
      "Repetition of Task:   7%|▋         | 3734/50000 [00:05<01:12, 635.15it/s]\n",
      "Repetition of Task:   8%|▊         | 3803/50000 [00:05<01:11, 646.94it/s]\n",
      "Repetition of Task:   8%|▊         | 3877/50000 [00:05<01:08, 671.77it/s]\n",
      "Repetition of Task:   8%|▊         | 3945/50000 [00:05<01:09, 664.39it/s]\n",
      "Repetition of Task:   8%|▊         | 4012/50000 [00:06<01:10, 656.28it/s]\n",
      "Repetition of Task:   8%|▊         | 4078/50000 [00:06<01:10, 651.50it/s]\n",
      "Repetition of Task:   8%|▊         | 4150/50000 [00:06<01:08, 668.82it/s]\n",
      "Repetition of Task:   8%|▊         | 4218/50000 [00:06<01:10, 645.34it/s]\n",
      "Repetition of Task:   9%|▊         | 4283/50000 [00:06<01:14, 612.02it/s]\n",
      "Repetition of Task:   9%|▊         | 4345/50000 [00:06<01:19, 575.06it/s]\n",
      "Repetition of Task:   9%|▉         | 4404/50000 [00:06<01:19, 572.73it/s]\n",
      "Repetition of Task:   9%|▉         | 4462/50000 [00:06<01:22, 552.40it/s]\n",
      "Repetition of Task:   9%|▉         | 4526/50000 [00:06<01:19, 574.54it/s]\n",
      "Repetition of Task:   9%|▉         | 4585/50000 [00:07<01:19, 570.70it/s]\n",
      "Repetition of Task:   9%|▉         | 4648/50000 [00:07<01:17, 584.08it/s]\n",
      "Repetition of Task:   9%|▉         | 4720/50000 [00:07<01:13, 617.59it/s]\n",
      "Repetition of Task:  10%|▉         | 4783/50000 [00:07<01:14, 608.87it/s]\n",
      "Repetition of Task:  10%|▉         | 4845/50000 [00:07<01:15, 594.51it/s]\n",
      "Repetition of Task:  10%|▉         | 4905/50000 [00:07<01:15, 595.00it/s]\n",
      "Repetition of Task:  10%|▉         | 4965/50000 [00:07<01:16, 587.20it/s]\n",
      "Repetition of Task:  10%|█         | 5035/50000 [00:07<01:13, 615.37it/s]\n",
      "Repetition of Task:  10%|█         | 5106/50000 [00:07<01:10, 637.70it/s]\n",
      "Repetition of Task:  10%|█         | 5172/50000 [00:08<01:09, 642.35it/s]\n",
      "Repetition of Task:  10%|█         | 5237/50000 [00:08<01:09, 640.82it/s]\n",
      "Repetition of Task:  11%|█         | 5302/50000 [00:08<01:09, 641.57it/s]\n",
      "Repetition of Task:  11%|█         | 5367/50000 [00:08<01:10, 634.70it/s]\n",
      "Repetition of Task:  11%|█         | 5433/50000 [00:08<01:09, 640.16it/s]\n",
      "Repetition of Task:  11%|█         | 5500/50000 [00:08<01:08, 647.00it/s]\n",
      "Repetition of Task:  11%|█         | 5566/50000 [00:08<01:08, 650.85it/s]\n",
      "Repetition of Task:  11%|█▏        | 5634/50000 [00:08<01:07, 657.41it/s]\n",
      "Repetition of Task:  11%|█▏        | 5703/50000 [00:08<01:06, 665.65it/s]\n",
      "Repetition of Task:  12%|█▏        | 5770/50000 [00:08<01:06, 663.03it/s]\n",
      "Repetition of Task:  12%|█▏        | 5837/50000 [00:09<01:07, 655.41it/s]\n",
      "Repetition of Task:  12%|█▏        | 5907/50000 [00:09<01:06, 666.29it/s]\n",
      "Repetition of Task:  12%|█▏        | 5974/50000 [00:09<01:08, 642.53it/s]\n",
      "Repetition of Task:  12%|█▏        | 6039/50000 [00:09<01:09, 629.91it/s]\n",
      "Repetition of Task:  12%|█▏        | 6103/50000 [00:09<01:09, 632.75it/s]\n",
      "Repetition of Task:  12%|█▏        | 6174/50000 [00:09<01:07, 652.48it/s]\n",
      "Repetition of Task:  12%|█▏        | 6240/50000 [00:09<01:09, 630.43it/s]\n",
      "Repetition of Task:  13%|█▎        | 6304/50000 [00:09<01:09, 627.64it/s]\n",
      "Repetition of Task:  13%|█▎        | 6375/50000 [00:09<01:07, 648.16it/s]\n",
      "Repetition of Task:  13%|█▎        | 6444/50000 [00:09<01:06, 659.39it/s]\n",
      "Repetition of Task:  13%|█▎        | 6511/50000 [00:10<01:08, 632.91it/s]\n",
      "Repetition of Task:  13%|█▎        | 6575/50000 [00:10<01:08, 634.22it/s]\n",
      "Repetition of Task:  13%|█▎        | 6639/50000 [00:10<01:10, 615.68it/s]\n",
      "Repetition of Task:  13%|█▎        | 6712/50000 [00:10<01:07, 644.50it/s]\n",
      "Repetition of Task:  14%|█▎        | 6778/50000 [00:10<01:07, 643.45it/s]\n",
      "Repetition of Task:  14%|█▎        | 6850/50000 [00:10<01:05, 658.59it/s]\n",
      "Repetition of Task:  14%|█▍        | 6919/50000 [00:10<01:04, 666.45it/s]\n",
      "Repetition of Task:  14%|█▍        | 6986/50000 [00:10<01:04, 663.64it/s]\n",
      "Repetition of Task:  14%|█▍        | 7056/50000 [00:10<01:04, 670.34it/s]\n",
      "Repetition of Task:  14%|█▍        | 7124/50000 [00:11<01:04, 667.31it/s]\n",
      "Repetition of Task:  14%|█▍        | 7191/50000 [00:11<01:04, 660.21it/s]\n",
      "Repetition of Task:  15%|█▍        | 7258/50000 [00:11<01:05, 653.42it/s]\n",
      "Repetition of Task:  15%|█▍        | 7324/50000 [00:11<01:05, 649.56it/s]\n",
      "Repetition of Task:  15%|█▍        | 7390/50000 [00:11<01:06, 637.48it/s]\n",
      "Repetition of Task:  15%|█▍        | 7456/50000 [00:11<01:06, 642.23it/s]\n",
      "Repetition of Task:  15%|█▌        | 7528/50000 [00:11<01:04, 660.11it/s]\n",
      "Repetition of Task:  15%|█▌        | 7597/50000 [00:11<01:03, 666.86it/s]\n",
      "Repetition of Task:  15%|█▌        | 7664/50000 [00:11<01:04, 657.90it/s]\n",
      "Repetition of Task:  15%|█▌        | 7730/50000 [00:11<01:04, 652.67it/s]\n",
      "Repetition of Task:  16%|█▌        | 7796/50000 [00:12<01:07, 623.31it/s]\n",
      "Repetition of Task:  16%|█▌        | 7859/50000 [00:12<01:08, 616.12it/s]\n",
      "Repetition of Task:  16%|█▌        | 7922/50000 [00:12<01:08, 618.38it/s]\n",
      "Repetition of Task:  16%|█▌        | 7988/50000 [00:12<01:07, 626.78it/s]\n",
      "Repetition of Task:  16%|█▌        | 8056/50000 [00:12<01:05, 641.79it/s]\n",
      "Repetition of Task:  16%|█▌        | 8121/50000 [00:12<01:05, 642.31it/s]\n",
      "Repetition of Task:  16%|█▋        | 8192/50000 [00:12<01:03, 657.61it/s]\n",
      "Repetition of Task:  17%|█▋        | 8259/50000 [00:12<01:03, 661.22it/s]\n",
      "Repetition of Task:  17%|█▋        | 8326/50000 [00:12<01:03, 653.54it/s]\n",
      "Repetition of Task:  17%|█▋        | 8392/50000 [00:12<01:03, 653.58it/s]\n",
      "Repetition of Task:  17%|█▋        | 8461/50000 [00:13<01:02, 662.18it/s]\n",
      "Repetition of Task:  17%|█▋        | 8528/50000 [00:13<01:02, 664.46it/s]\n",
      "Repetition of Task:  17%|█▋        | 8595/50000 [00:13<01:02, 660.48it/s]\n",
      "Repetition of Task:  17%|█▋        | 8663/50000 [00:13<01:02, 664.32it/s]\n",
      "Repetition of Task:  17%|█▋        | 8730/50000 [00:13<01:03, 645.02it/s]\n",
      "Repetition of Task:  18%|█▊        | 8795/50000 [00:13<01:05, 628.93it/s]\n",
      "Repetition of Task:  18%|█▊        | 8859/50000 [00:13<01:05, 626.93it/s]\n",
      "Repetition of Task:  18%|█▊        | 8922/50000 [00:13<01:05, 624.38it/s]\n",
      "Repetition of Task:  18%|█▊        | 8988/50000 [00:13<01:04, 631.09it/s]\n",
      "Repetition of Task:  18%|█▊        | 9053/50000 [00:14<01:04, 634.80it/s]\n",
      "Repetition of Task:  18%|█▊        | 9117/50000 [00:14<01:06, 617.96it/s]\n",
      "Repetition of Task:  18%|█▊        | 9183/50000 [00:14<01:04, 628.15it/s]\n",
      "Repetition of Task:  19%|█▊        | 9252/50000 [00:14<01:03, 643.69it/s]\n",
      "Repetition of Task:  19%|█▊        | 9318/50000 [00:14<01:02, 646.60it/s]\n",
      "Repetition of Task:  19%|█▉        | 9389/50000 [00:14<01:01, 662.53it/s]\n",
      "Repetition of Task:  19%|█▉        | 9456/50000 [00:14<01:01, 662.84it/s]\n",
      "Repetition of Task:  19%|█▉        | 9523/50000 [00:14<01:02, 647.62it/s]\n",
      "Repetition of Task:  19%|█▉        | 9594/50000 [00:14<01:00, 665.08it/s]\n",
      "Repetition of Task:  19%|█▉        | 9667/50000 [00:14<00:59, 681.39it/s]\n",
      "Repetition of Task:  19%|█▉        | 9736/50000 [00:15<01:00, 660.46it/s]\n",
      "Repetition of Task:  20%|█▉        | 9804/50000 [00:15<01:00, 666.15it/s]\n",
      "Repetition of Task:  20%|█▉        | 9873/50000 [00:15<00:59, 673.12it/s]\n",
      "Repetition of Task:  20%|█▉        | 9941/50000 [00:15<00:59, 671.16it/s]\n",
      "Repetition of Task:  20%|██        | 10009/50000 [00:15<01:00, 665.87it/s]\n",
      "Repetition of Task:  20%|██        | 10077/50000 [00:15<00:59, 668.14it/s]\n",
      "Repetition of Task:  20%|██        | 10148/50000 [00:15<00:58, 678.23it/s]\n",
      "Repetition of Task:  20%|██        | 10219/50000 [00:15<00:57, 687.45it/s]\n",
      "Repetition of Task:  21%|██        | 10288/50000 [00:15<00:57, 687.63it/s]\n",
      "Repetition of Task:  21%|██        | 10362/50000 [00:15<00:56, 702.53it/s]\n",
      "Repetition of Task:  21%|██        | 10433/50000 [00:16<00:56, 698.59it/s]\n",
      "Repetition of Task:  21%|██        | 10505/50000 [00:16<00:56, 704.81it/s]\n",
      "Repetition of Task:  21%|██        | 10576/50000 [00:16<00:56, 695.85it/s]\n",
      "Repetition of Task:  21%|██▏       | 10647/50000 [00:16<00:56, 698.18it/s]\n",
      "Repetition of Task:  21%|██▏       | 10717/50000 [00:16<00:59, 665.17it/s]\n",
      "Repetition of Task:  22%|██▏       | 10790/50000 [00:16<00:57, 679.58it/s]\n",
      "Repetition of Task:  22%|██▏       | 10859/50000 [00:16<00:57, 676.83it/s]\n",
      "Repetition of Task:  22%|██▏       | 10931/50000 [00:16<00:57, 685.42it/s]\n",
      "Repetition of Task:  22%|██▏       | 11000/50000 [00:16<00:57, 680.71it/s]\n",
      "Repetition of Task:  22%|██▏       | 11075/50000 [00:16<00:56, 694.28it/s]\n",
      "Repetition of Task:  22%|██▏       | 11148/50000 [00:17<00:55, 702.59it/s]\n",
      "Repetition of Task:  22%|██▏       | 11219/50000 [00:17<00:57, 670.84it/s]\n",
      "Repetition of Task:  23%|██▎       | 11294/50000 [00:17<00:56, 690.92it/s]\n",
      "Repetition of Task:  23%|██▎       | 11364/50000 [00:17<00:58, 662.13it/s]\n",
      "Repetition of Task:  23%|██▎       | 11431/50000 [00:17<00:58, 656.65it/s]\n",
      "Repetition of Task:  23%|██▎       | 11498/50000 [00:17<00:59, 647.20it/s]\n",
      "Repetition of Task:  23%|██▎       | 11566/50000 [00:17<00:58, 656.70it/s]\n",
      "Repetition of Task:  23%|██▎       | 11632/50000 [00:17<00:58, 657.62it/s]\n",
      "Repetition of Task:  23%|██▎       | 11698/50000 [00:17<00:58, 656.44it/s]\n",
      "Repetition of Task:  24%|██▎       | 11771/50000 [00:18<00:56, 676.89it/s]\n",
      "Repetition of Task:  24%|██▎       | 11845/50000 [00:18<00:55, 690.78it/s]\n",
      "Repetition of Task:  24%|██▍       | 11915/50000 [00:18<00:55, 691.40it/s]\n",
      "Repetition of Task:  24%|██▍       | 11985/50000 [00:18<00:55, 681.85it/s]\n",
      "Repetition of Task:  24%|██▍       | 12054/50000 [00:18<00:56, 668.31it/s]\n",
      "Repetition of Task:  24%|██▍       | 12127/50000 [00:18<00:55, 685.69it/s]\n",
      "Repetition of Task:  24%|██▍       | 12197/50000 [00:18<00:54, 687.85it/s]\n",
      "Repetition of Task:  25%|██▍       | 12267/50000 [00:18<00:54, 687.41it/s]\n",
      "Repetition of Task:  25%|██▍       | 12337/50000 [00:18<00:54, 690.40it/s]\n",
      "Repetition of Task:  25%|██▍       | 12407/50000 [00:18<00:55, 677.15it/s]\n",
      "Repetition of Task:  25%|██▍       | 12476/50000 [00:19<00:55, 678.95it/s]\n",
      "Repetition of Task:  25%|██▌       | 12549/50000 [00:19<00:54, 693.42it/s]\n",
      "Repetition of Task:  25%|██▌       | 12620/50000 [00:19<00:53, 694.22it/s]\n",
      "Repetition of Task:  25%|██▌       | 12692/50000 [00:19<00:53, 700.22it/s]\n",
      "Repetition of Task:  26%|██▌       | 12765/50000 [00:19<00:52, 706.94it/s]\n",
      "Repetition of Task:  26%|██▌       | 12836/50000 [00:19<00:53, 691.31it/s]\n",
      "Repetition of Task:  26%|██▌       | 12910/50000 [00:19<00:52, 701.34it/s]\n",
      "Repetition of Task:  26%|██▌       | 12981/50000 [00:19<00:53, 687.56it/s]\n",
      "Repetition of Task:  26%|██▌       | 13056/50000 [00:19<00:52, 701.32it/s]\n",
      "Repetition of Task:  26%|██▋       | 13127/50000 [00:19<00:54, 677.80it/s]\n",
      "Repetition of Task:  26%|██▋       | 13201/50000 [00:20<00:53, 693.37it/s]\n",
      "Repetition of Task:  27%|██▋       | 13271/50000 [00:20<00:53, 689.18it/s]\n",
      "Repetition of Task:  27%|██▋       | 13342/50000 [00:20<00:52, 695.20it/s]\n",
      "Repetition of Task:  27%|██▋       | 13412/50000 [00:20<00:53, 686.41it/s]\n"
     ]
    }
   ],
   "source": [
    "!dvc run --force -n extract_top_norms -w .. -d data/posterior.pickle -d data/env.pickle -p colour_specific,shape_specific,target_area,true_norm -o data/top_norms.pickle -o metrics/precision_recall.txt python scripts/extract_top_norms.py"
   ]
  },
  {
   "cell_type": "markdown",
   "metadata": {
    "cell_id": "00016-e6a05927-4c08-40ea-91ef-0c7ff83c07d7",
    "tags": []
   },
   "source": [
    "### Check log likelihood of observation set given top norm"
   ]
  },
  {
   "cell_type": "code",
   "execution_count": 25,
   "metadata": {
    "cell_id": "00017-24a005d3-c943-41d5-b8c0-0b660d1e9a3d",
    "output_cleared": false,
    "tags": []
   },
   "outputs": [
    {
     "output_type": "stream",
     "name": "stdout",
     "text": [
      "Running stage 'test_obs_log_likelihood2' with command:\n\tpython scripts/test_obs_likelihood.py top\nLog likelihood of observations given top norm.: -13567.861765050382\n\nModifying stage 'test_obs_log_likelihood2' in 'dvc.yaml'\nUpdating lock file 'dvc.lock'\n\nTo track the changes with git, run:\n\n\tgit add dvc.lock dvc.yaml\n"
     ]
    }
   ],
   "source": [
    "!dvc run --force --always-changed -n test_obs_log_likelihood2 -w .. -d data/observations.pickle -d data/env.pickle -d data/top_norms.pickle python scripts/test_obs_likelihood.py top"
   ]
  },
  {
   "cell_type": "code",
   "execution_count": null,
   "metadata": {},
   "outputs": [],
   "source": []
  }
 ],
 "metadata": {
  "deepnote_execution_queue": [
   {
    "cellId": "00005-bc971935-b212-471d-bce0-fd808b7f5362",
    "msgId": "0870c9e3-9129-4671-9e1c-6113f6917369",
    "sessionId": "e2119be1-f54a-4aa0-af1b-5bc9e0017fe7"
   }
  ],
  "deepnote_notebook_id": "406a8cf2-c2ac-4fed-9966-dbc145e270e1",
  "kernelspec": {
   "name": "Python 3.8.2 32-bit ('env': venv)",
   "display_name": "Python 3.8.2 32-bit ('env': venv)",
   "metadata": {
    "interpreter": {
     "hash": "3caac4adb4e1f493f0617992483e3f4fe96c197b68af4c11de32cc1dac6ab887"
    }
   }
  }
 },
 "nbformat": 4,
 "nbformat_minor": 2
}