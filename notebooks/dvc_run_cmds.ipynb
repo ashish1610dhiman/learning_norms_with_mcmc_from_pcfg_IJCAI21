{
 "cells": [
  {
   "cell_type": "markdown",
   "metadata": {
    "cell_id": "00000-324fab5f-e3f7-4509-9db3-4cb39ad78405",
    "tags": []
   },
   "source": [
    "### Generate an environment\n",
    "Currently, this just copies data/default_env.pickle into data/env.pickle.\n",
    "\n",
    "**To do**: Add a DVC parameter such as `env_name` and if this isn't set to \"default\" then generate a new environment."
   ]
  },
  {
   "cell_type": "code",
   "execution_count": null,
   "metadata": {
    "cell_id": "00000-f93b8b1f-e4bb-466f-90c7-157e541575cf",
    "output_cleared": false,
    "tags": []
   },
   "outputs": [],
   "source": [
    "!dvc run --force --always-changed -n gen_env -w .. -d data/default_env.pickle -o data/env.pickle python scripts/gen_env.py"
   ]
  },
  {
   "cell_type": "markdown",
   "metadata": {
    "cell_id": "00002-7cc61989-19bc-43aa-88f6-f7645aa81b6c",
    "tags": []
   },
   "source": [
    "### Generate observations\n",
    "Currently this checks the values of the parameters `target_area`, `true_norm`, `num_observations` and `obs_data_set`. If they are equal to the settings of the observations in data/default_observations.pickle (and `obs_data_set` has value 1), then that file is copied into data/observations.pickle.\n",
    "\n",
    "**To do**: Generate a new set of observations if the parameter settings don't match the default one, or `obs_data_set` is not 1.\n"
   ]
  },
  {
   "cell_type": "code",
   "execution_count": 19,
   "metadata": {
    "cell_id": "00001-16c1e51c-254a-43f2-86a9-f1eb33ff7515",
    "output_cleared": false,
    "tags": [
     "outputPrepend"
    ]
   },
   "outputs": [
    {
     "output_type": "stream",
     "name": "stderr",
     "text": [
      "00:50<00:23, 695.46it/s]\n",
      "Repetition of Task:  67%|██████▋   | 33459/50000 [00:50<00:23, 712.34it/s]\n",
      "Repetition of Task:  67%|██████▋   | 33532/50000 [00:50<00:24, 660.36it/s]\n",
      "Repetition of Task:  67%|██████▋   | 33600/50000 [00:50<00:28, 571.58it/s]\n",
      "Repetition of Task:  67%|██████▋   | 33672/50000 [00:51<00:26, 605.13it/s]\n",
      "Repetition of Task:  68%|██████▊   | 33760/50000 [00:51<00:24, 661.25it/s]\n",
      "Repetition of Task:  68%|██████▊   | 33836/50000 [00:51<00:23, 682.10it/s]\n",
      "Repetition of Task:  68%|██████▊   | 33907/50000 [00:51<00:23, 672.43it/s]\n",
      "Repetition of Task:  68%|██████▊   | 33977/50000 [00:51<00:27, 584.81it/s]\n",
      "Repetition of Task:  68%|██████▊   | 34050/50000 [00:51<00:25, 614.91it/s]\n",
      "Repetition of Task:  68%|██████▊   | 34134/50000 [00:51<00:23, 667.25it/s]\n",
      "Repetition of Task:  68%|██████▊   | 34214/50000 [00:51<00:22, 700.41it/s]\n",
      "Repetition of Task:  69%|██████▊   | 34287/50000 [00:51<00:22, 684.86it/s]\n",
      "Repetition of Task:  69%|██████▊   | 34365/50000 [00:51<00:21, 710.79it/s]\n",
      "Repetition of Task:  69%|██████▉   | 34438/50000 [00:52<00:22, 705.22it/s]\n",
      "Repetition of Task:  69%|██████▉   | 34510/50000 [00:52<00:22, 698.85it/s]\n",
      "Repetition of Task:  69%|██████▉   | 34581/50000 [00:52<00:22, 684.60it/s]\n",
      "Repetition of Task:  69%|██████▉   | 34657/50000 [00:52<00:21, 704.37it/s]\n",
      "Repetition of Task:  69%|██████▉   | 34729/50000 [00:52<00:22, 684.63it/s]\n",
      "Repetition of Task:  70%|██████▉   | 34810/50000 [00:52<00:21, 715.83it/s]\n",
      "Repetition of Task:  70%|██████▉   | 34893/50000 [00:52<00:20, 743.33it/s]\n",
      "Repetition of Task:  70%|██████▉   | 34969/50000 [00:52<00:20, 734.26it/s]\n",
      "Repetition of Task:  70%|███████   | 35048/50000 [00:52<00:19, 748.43it/s]\n",
      "Repetition of Task:  70%|███████   | 35125/50000 [00:53<00:19, 747.87it/s]\n",
      "Repetition of Task:  70%|███████   | 35201/50000 [00:53<00:19, 750.75it/s]\n",
      "Repetition of Task:  71%|███████   | 35280/50000 [00:53<00:19, 757.17it/s]\n",
      "Repetition of Task:  71%|███████   | 35356/50000 [00:53<00:20, 709.32it/s]\n",
      "Repetition of Task:  71%|███████   | 35428/50000 [00:53<00:20, 701.72it/s]\n",
      "Repetition of Task:  71%|███████   | 35502/50000 [00:53<00:20, 708.41it/s]\n",
      "Repetition of Task:  71%|███████   | 35574/50000 [00:53<00:22, 633.35it/s]\n",
      "Repetition of Task:  71%|███████▏  | 35658/50000 [00:53<00:21, 682.46it/s]\n",
      "Repetition of Task:  71%|███████▏  | 35729/50000 [00:53<00:20, 680.40it/s]\n",
      "Repetition of Task:  72%|███████▏  | 35802/50000 [00:54<00:20, 693.15it/s]\n",
      "Repetition of Task:  72%|███████▏  | 35875/50000 [00:54<00:20, 701.25it/s]\n",
      "Repetition of Task:  72%|███████▏  | 35956/50000 [00:54<00:19, 726.32it/s]\n",
      "Repetition of Task:  72%|███████▏  | 36033/50000 [00:54<00:19, 733.29it/s]\n",
      "Repetition of Task:  72%|███████▏  | 36107/50000 [00:54<00:19, 702.64it/s]\n",
      "Repetition of Task:  72%|███████▏  | 36178/50000 [00:54<00:22, 624.58it/s]\n",
      "Repetition of Task:  72%|███████▏  | 36243/50000 [00:54<00:22, 624.03it/s]\n",
      "Repetition of Task:  73%|███████▎  | 36319/50000 [00:54<00:20, 659.11it/s]\n",
      "Repetition of Task:  73%|███████▎  | 36393/50000 [00:54<00:20, 678.89it/s]\n",
      "Repetition of Task:  73%|███████▎  | 36474/50000 [00:54<00:19, 707.13it/s]\n",
      "Repetition of Task:  73%|███████▎  | 36554/50000 [00:55<00:18, 729.25it/s]\n",
      "Repetition of Task:  73%|███████▎  | 36633/50000 [00:55<00:17, 744.20it/s]\n",
      "Repetition of Task:  73%|███████▎  | 36711/50000 [00:55<00:17, 753.85it/s]\n",
      "Repetition of Task:  74%|███████▎  | 36789/50000 [00:55<00:17, 760.24it/s]\n",
      "Repetition of Task:  74%|███████▎  | 36874/50000 [00:55<00:16, 784.67it/s]\n",
      "Repetition of Task:  74%|███████▍  | 36953/50000 [00:55<00:16, 773.46it/s]\n",
      "Repetition of Task:  74%|███████▍  | 37031/50000 [00:55<00:17, 751.79it/s]\n",
      "Repetition of Task:  74%|███████▍  | 37114/50000 [00:55<00:16, 766.10it/s]\n",
      "Repetition of Task:  74%|███████▍  | 37191/50000 [00:55<00:16, 758.33it/s]\n",
      "Repetition of Task:  75%|███████▍  | 37268/50000 [00:56<00:16, 758.41it/s]\n",
      "Repetition of Task:  75%|███████▍  | 37345/50000 [00:56<00:17, 730.45it/s]\n",
      "Repetition of Task:  75%|███████▍  | 37424/50000 [00:56<00:16, 746.43it/s]\n",
      "Repetition of Task:  75%|███████▌  | 37503/50000 [00:56<00:16, 757.31it/s]\n",
      "Repetition of Task:  75%|███████▌  | 37584/50000 [00:56<00:16, 770.88it/s]\n",
      "Repetition of Task:  75%|███████▌  | 37662/50000 [00:56<00:16, 742.75it/s]\n",
      "Repetition of Task:  75%|███████▌  | 37737/50000 [00:56<00:17, 710.91it/s]\n",
      "Repetition of Task:  76%|███████▌  | 37809/50000 [00:56<00:17, 683.24it/s]\n",
      "Repetition of Task:  76%|███████▌  | 37878/50000 [00:56<00:17, 683.63it/s]\n",
      "Repetition of Task:  76%|███████▌  | 37947/50000 [00:57<00:19, 616.92it/s]\n",
      "Repetition of Task:  76%|███████▌  | 38011/50000 [00:57<00:23, 499.75it/s]\n",
      "Repetition of Task:  76%|███████▌  | 38066/50000 [00:57<00:23, 512.79it/s]\n",
      "Repetition of Task:  76%|███████▋  | 38131/50000 [00:57<00:21, 546.79it/s]\n",
      "Repetition of Task:  76%|███████▋  | 38205/50000 [00:57<00:20, 589.29it/s]\n",
      "Repetition of Task:  77%|███████▋  | 38284/50000 [00:57<00:18, 637.77it/s]\n",
      "Repetition of Task:  77%|███████▋  | 38358/50000 [00:57<00:17, 664.73it/s]\n",
      "Repetition of Task:  77%|███████▋  | 38430/50000 [00:57<00:17, 678.39it/s]\n",
      "Repetition of Task:  77%|███████▋  | 38500/50000 [00:57<00:17, 649.56it/s]\n",
      "Repetition of Task:  77%|███████▋  | 38567/50000 [00:58<00:20, 550.17it/s]\n",
      "Repetition of Task:  77%|███████▋  | 38626/50000 [00:58<00:27, 419.02it/s]\n",
      "Repetition of Task:  77%|███████▋  | 38676/50000 [00:58<00:31, 364.08it/s]\n",
      "Repetition of Task:  77%|███████▋  | 38719/50000 [00:58<00:32, 342.58it/s]\n",
      "Repetition of Task:  78%|███████▊  | 38758/50000 [00:58<00:36, 311.27it/s]\n",
      "Repetition of Task:  78%|███████▊  | 38793/50000 [00:58<00:36, 309.06it/s]\n",
      "Repetition of Task:  78%|███████▊  | 38827/50000 [00:59<00:35, 313.67it/s]\n",
      "Repetition of Task:  78%|███████▊  | 38861/50000 [00:59<00:36, 303.04it/s]\n",
      "Repetition of Task:  78%|███████▊  | 38893/50000 [00:59<00:36, 306.14it/s]\n",
      "Repetition of Task:  78%|███████▊  | 38927/50000 [00:59<00:35, 313.96it/s]\n",
      "Repetition of Task:  78%|███████▊  | 38960/50000 [00:59<00:36, 298.97it/s]\n",
      "Repetition of Task:  78%|███████▊  | 38991/50000 [00:59<00:37, 296.52it/s]\n",
      "Repetition of Task:  78%|███████▊  | 39022/50000 [00:59<00:37, 291.87it/s]\n",
      "Repetition of Task:  78%|███████▊  | 39052/50000 [00:59<00:38, 284.83it/s]\n",
      "Repetition of Task:  78%|███████▊  | 39083/50000 [00:59<00:37, 289.93it/s]\n",
      "Repetition of Task:  78%|███████▊  | 39114/50000 [00:59<00:37, 293.47it/s]\n",
      "Repetition of Task:  78%|███████▊  | 39145/50000 [01:00<00:36, 295.65it/s]\n",
      "Repetition of Task:  78%|███████▊  | 39175/50000 [01:00<00:36, 294.94it/s]\n",
      "Repetition of Task:  78%|███████▊  | 39205/50000 [01:00<00:38, 283.87it/s]\n",
      "Repetition of Task:  78%|███████▊  | 39234/50000 [01:00<00:37, 284.87it/s]\n",
      "Repetition of Task:  79%|███████▊  | 39265/50000 [01:00<00:37, 289.56it/s]\n",
      "Repetition of Task:  79%|███████▊  | 39295/50000 [01:00<00:36, 292.32it/s]\n",
      "Repetition of Task:  79%|███████▊  | 39369/50000 [01:00<00:29, 356.42it/s]\n",
      "Repetition of Task:  79%|███████▉  | 39438/50000 [01:00<00:25, 414.95it/s]\n",
      "Repetition of Task:  79%|███████▉  | 39513/50000 [01:00<00:21, 476.96it/s]\n",
      "Repetition of Task:  79%|███████▉  | 39592/50000 [01:01<00:19, 539.14it/s]\n",
      "Repetition of Task:  79%|███████▉  | 39673/50000 [01:01<00:17, 596.34it/s]\n",
      "Repetition of Task:  79%|███████▉  | 39741/50000 [01:01<00:17, 592.02it/s]\n",
      "Repetition of Task:  80%|███████▉  | 39827/50000 [01:01<00:15, 649.98it/s]\n",
      "Repetition of Task:  80%|███████▉  | 39907/50000 [01:01<00:14, 688.57it/s]\n",
      "Repetition of Task:  80%|███████▉  | 39986/50000 [01:01<00:14, 715.13it/s]\n",
      "Repetition of Task:  80%|████████  | 40070/50000 [01:01<00:13, 748.16it/s]\n",
      "Repetition of Task:  80%|████████  | 40153/50000 [01:01<00:12, 768.66it/s]\n",
      "Repetition of Task:  80%|████████  | 40234/50000 [01:01<00:12, 777.67it/s]\n",
      "Repetition of Task:  81%|████████  | 40316/50000 [01:01<00:12, 789.52it/s]\n",
      "Repetition of Task:  81%|████████  | 40397/50000 [01:02<00:12, 792.66it/s]\n",
      "Repetition of Task:  81%|████████  | 40478/50000 [01:02<00:13, 724.89it/s]\n",
      "Repetition of Task:  81%|████████  | 40556/50000 [01:02<00:12, 738.31it/s]\n",
      "Repetition of Task:  81%|████████▏ | 40632/50000 [01:02<00:13, 719.15it/s]\n",
      "Repetition of Task:  81%|████████▏ | 40707/50000 [01:02<00:12, 726.72it/s]\n",
      "Repetition of Task:  82%|████████▏ | 40785/50000 [01:02<00:12, 736.34it/s]\n",
      "Repetition of Task:  82%|████████▏ | 40860/50000 [01:02<00:12, 717.53it/s]\n",
      "Repetition of Task:  82%|████████▏ | 40933/50000 [01:02<00:13, 691.21it/s]\n",
      "Repetition of Task:  82%|████████▏ | 41003/50000 [01:02<00:13, 687.62it/s]\n",
      "Repetition of Task:  82%|████████▏ | 41080/50000 [01:03<00:12, 710.26it/s]\n",
      "Repetition of Task:  82%|████████▏ | 41163/50000 [01:03<00:12, 734.65it/s]\n",
      "Repetition of Task:  82%|████████▏ | 41237/50000 [01:03<00:12, 709.55it/s]\n",
      "Repetition of Task:  83%|████████▎ | 41321/50000 [01:03<00:11, 737.03it/s]\n",
      "Repetition of Task:  83%|████████▎ | 41402/50000 [01:03<00:11, 756.78it/s]\n",
      "Repetition of Task:  83%|████████▎ | 41482/50000 [01:03<00:11, 760.50it/s]\n",
      "Repetition of Task:  83%|████████▎ | 41565/50000 [01:03<00:10, 771.01it/s]\n",
      "Repetition of Task:  83%|████████▎ | 41643/50000 [01:03<00:10, 762.47it/s]\n",
      "Repetition of Task:  83%|████████▎ | 41720/50000 [01:03<00:12, 668.22it/s]\n",
      "Repetition of Task:  84%|████████▎ | 41790/50000 [01:04<00:14, 568.07it/s]\n",
      "Repetition of Task:  84%|████████▎ | 41857/50000 [01:04<00:13, 595.09it/s]\n",
      "Repetition of Task:  84%|████████▍ | 41935/50000 [01:04<00:12, 632.15it/s]\n",
      "Repetition of Task:  84%|████████▍ | 42002/50000 [01:04<00:12, 637.53it/s]\n",
      "Repetition of Task:  84%|████████▍ | 42085/50000 [01:04<00:11, 682.04it/s]\n",
      "Repetition of Task:  84%|████████▍ | 42160/50000 [01:04<00:11, 693.05it/s]\n",
      "Repetition of Task:  84%|████████▍ | 42231/50000 [01:04<00:11, 652.25it/s]\n",
      "Repetition of Task:  85%|████████▍ | 42303/50000 [01:04<00:11, 665.59it/s]\n",
      "Repetition of Task:  85%|████████▍ | 42371/50000 [01:04<00:11, 651.69it/s]\n",
      "Repetition of Task:  85%|████████▍ | 42438/50000 [01:05<00:13, 574.39it/s]\n",
      "Repetition of Task:  85%|████████▍ | 42498/50000 [01:05<00:12, 581.71it/s]\n",
      "Repetition of Task:  85%|████████▌ | 42567/50000 [01:05<00:12, 608.96it/s]\n",
      "Repetition of Task:  85%|████████▌ | 42648/50000 [01:05<00:11, 657.87it/s]\n",
      "Repetition of Task:  85%|████████▌ | 42723/50000 [01:05<00:10, 682.29it/s]\n",
      "Repetition of Task:  86%|████████▌ | 42794/50000 [01:05<00:10, 684.35it/s]\n",
      "Repetition of Task:  86%|████████▌ | 42868/50000 [01:05<00:10, 699.17it/s]\n",
      "Repetition of Task:  86%|████████▌ | 42939/50000 [01:05<00:10, 683.22it/s]\n",
      "Repetition of Task:  86%|████████▌ | 43009/50000 [01:05<00:13, 530.20it/s]\n",
      "Repetition of Task:  86%|████████▌ | 43068/50000 [01:06<00:16, 425.52it/s]\n",
      "Repetition of Task:  86%|████████▌ | 43118/50000 [01:06<00:19, 361.24it/s]\n",
      "Repetition of Task:  86%|████████▋ | 43161/50000 [01:06<00:20, 338.02it/s]\n",
      "Repetition of Task:  86%|████████▋ | 43200/50000 [01:06<00:21, 321.94it/s]\n",
      "Repetition of Task:  86%|████████▋ | 43236/50000 [01:06<00:20, 327.17it/s]\n",
      "Repetition of Task:  87%|████████▋ | 43272/50000 [01:06<00:21, 312.90it/s]\n",
      "Repetition of Task:  87%|████████▋ | 43306/50000 [01:07<00:21, 309.26it/s]\n",
      "Repetition of Task:  87%|████████▋ | 43339/50000 [01:07<00:21, 306.27it/s]\n",
      "Repetition of Task:  87%|████████▋ | 43371/50000 [01:07<00:21, 303.46it/s]\n",
      "Repetition of Task:  87%|████████▋ | 43403/50000 [01:07<00:21, 302.77it/s]\n",
      "Repetition of Task:  87%|████████▋ | 43434/50000 [01:07<00:21, 302.31it/s]\n",
      "Repetition of Task:  87%|████████▋ | 43465/50000 [01:07<00:21, 302.11it/s]\n",
      "Repetition of Task:  87%|████████▋ | 43497/50000 [01:07<00:21, 302.32it/s]\n",
      "Repetition of Task:  87%|████████▋ | 43528/50000 [01:07<00:21, 299.93it/s]\n",
      "Repetition of Task:  87%|████████▋ | 43559/50000 [01:07<00:22, 290.84it/s]\n",
      "Repetition of Task:  87%|████████▋ | 43589/50000 [01:07<00:22, 289.81it/s]\n",
      "Repetition of Task:  87%|████████▋ | 43619/50000 [01:08<00:21, 292.60it/s]\n",
      "Repetition of Task:  87%|████████▋ | 43649/50000 [01:08<00:21, 291.35it/s]\n",
      "Repetition of Task:  87%|████████▋ | 43680/50000 [01:08<00:21, 292.30it/s]\n",
      "Repetition of Task:  87%|████████▋ | 43711/50000 [01:08<00:21, 294.29it/s]\n",
      "Repetition of Task:  87%|████████▋ | 43743/50000 [01:08<00:20, 298.93it/s]\n",
      "Repetition of Task:  88%|████████▊ | 43773/50000 [01:08<00:20, 297.37it/s]\n",
      "Repetition of Task:  88%|████████▊ | 43803/50000 [01:08<00:20, 298.02it/s]\n",
      "Repetition of Task:  88%|████████▊ | 43833/50000 [01:08<00:20, 296.12it/s]\n",
      "Repetition of Task:  88%|████████▊ | 43865/50000 [01:08<00:20, 299.47it/s]\n",
      "Repetition of Task:  88%|████████▊ | 43897/50000 [01:08<00:20, 301.83it/s]\n",
      "Repetition of Task:  88%|████████▊ | 43928/50000 [01:09<00:20, 296.93it/s]\n",
      "Repetition of Task:  88%|████████▊ | 43958/50000 [01:09<00:20, 293.02it/s]\n",
      "Repetition of Task:  88%|████████▊ | 43988/50000 [01:09<00:20, 292.63it/s]\n",
      "Repetition of Task:  88%|████████▊ | 44019/50000 [01:09<00:20, 296.49it/s]\n",
      "Repetition of Task:  88%|████████▊ | 44049/50000 [01:09<00:20, 295.14it/s]\n",
      "Repetition of Task:  88%|████████▊ | 44079/50000 [01:09<00:20, 292.36it/s]\n",
      "Repetition of Task:  88%|████████▊ | 44110/50000 [01:09<00:19, 296.76it/s]\n",
      "Repetition of Task:  88%|████████▊ | 44140/50000 [01:09<00:19, 295.51it/s]\n",
      "Repetition of Task:  88%|████████▊ | 44170/50000 [01:09<00:19, 296.70it/s]\n",
      "Repetition of Task:  88%|████████▊ | 44200/50000 [01:10<00:19, 296.40it/s]\n",
      "Repetition of Task:  88%|████████▊ | 44230/50000 [01:10<00:19, 295.65it/s]\n",
      "Repetition of Task:  89%|████████▊ | 44260/50000 [01:10<00:19, 296.64it/s]\n",
      "Repetition of Task:  89%|████████▊ | 44290/50000 [01:10<00:19, 285.73it/s]\n",
      "Repetition of Task:  89%|████████▊ | 44320/50000 [01:10<00:19, 289.74it/s]\n",
      "Repetition of Task:  89%|████████▊ | 44350/50000 [01:10<00:19, 292.16it/s]\n",
      "Repetition of Task:  89%|████████▉ | 44380/50000 [01:10<00:19, 292.46it/s]\n",
      "Repetition of Task:  89%|████████▉ | 44426/50000 [01:10<00:17, 326.31it/s]\n",
      "Repetition of Task:  89%|████████▉ | 44460/50000 [01:10<00:17, 315.73it/s]\n",
      "Repetition of Task:  89%|████████▉ | 44493/50000 [01:10<00:17, 309.35it/s]\n",
      "Repetition of Task:  89%|████████▉ | 44525/50000 [01:11<00:17, 305.39it/s]\n",
      "Repetition of Task:  89%|████████▉ | 44557/50000 [01:11<00:18, 295.40it/s]\n",
      "Repetition of Task:  89%|████████▉ | 44587/50000 [01:11<00:18, 290.43it/s]\n",
      "Repetition of Task:  89%|████████▉ | 44617/50000 [01:11<00:18, 293.03it/s]\n",
      "Repetition of Task:  89%|████████▉ | 44647/50000 [01:11<00:18, 291.99it/s]\n",
      "Repetition of Task:  89%|████████▉ | 44691/50000 [01:11<00:16, 324.24it/s]\n",
      "Repetition of Task:  90%|████████▉ | 44769/50000 [01:11<00:13, 391.31it/s]\n",
      "Repetition of Task:  90%|████████▉ | 44837/50000 [01:11<00:11, 448.28it/s]\n",
      "Repetition of Task:  90%|████████▉ | 44894/50000 [01:11<00:10, 474.21it/s]\n",
      "Repetition of Task:  90%|████████▉ | 44948/50000 [01:12<00:10, 465.68it/s]\n",
      "Repetition of Task:  90%|█████████ | 45017/50000 [01:12<00:09, 511.72it/s]\n",
      "Repetition of Task:  90%|█████████ | 45091/50000 [01:12<00:08, 560.31it/s]\n",
      "Repetition of Task:  90%|█████████ | 45171/50000 [01:12<00:07, 613.61it/s]\n",
      "Repetition of Task:  90%|█████████ | 45245/50000 [01:12<00:07, 640.13it/s]\n",
      "Repetition of Task:  91%|█████████ | 45313/50000 [01:12<00:07, 589.03it/s]\n",
      "Repetition of Task:  91%|█████████ | 45376/50000 [01:12<00:09, 492.27it/s]\n",
      "Repetition of Task:  91%|█████████ | 45431/50000 [01:12<00:09, 494.44it/s]\n",
      "Repetition of Task:  91%|█████████ | 45513/50000 [01:12<00:07, 560.90it/s]\n",
      "Repetition of Task:  91%|█████████ | 45583/50000 [01:13<00:07, 595.22it/s]\n",
      "Repetition of Task:  91%|█████████▏| 45652/50000 [01:13<00:07, 616.00it/s]\n",
      "Repetition of Task:  91%|█████████▏| 45717/50000 [01:13<00:07, 595.44it/s]\n",
      "Repetition of Task:  92%|█████████▏| 45789/50000 [01:13<00:06, 621.56it/s]\n",
      "Repetition of Task:  92%|█████████▏| 45854/50000 [01:13<00:07, 576.94it/s]\n",
      "Repetition of Task:  92%|█████████▏| 45930/50000 [01:13<00:06, 620.12it/s]\n",
      "Repetition of Task:  92%|█████████▏| 45995/50000 [01:13<00:07, 555.97it/s]\n",
      "Repetition of Task:  92%|█████████▏| 46054/50000 [01:13<00:07, 545.29it/s]\n",
      "Repetition of Task:  92%|█████████▏| 46135/50000 [01:13<00:06, 601.00it/s]\n",
      "Repetition of Task:  92%|█████████▏| 46216/50000 [01:14<00:05, 651.26it/s]\n",
      "Repetition of Task:  93%|█████████▎| 46300/50000 [01:14<00:05, 694.72it/s]\n",
      "Repetition of Task:  93%|█████████▎| 46373/50000 [01:14<00:05, 649.61it/s]\n",
      "Repetition of Task:  93%|█████████▎| 46451/50000 [01:14<00:05, 682.53it/s]\n",
      "Repetition of Task:  93%|█████████▎| 46523/50000 [01:14<00:05, 691.39it/s]\n",
      "Repetition of Task:  93%|█████████▎| 46594/50000 [01:14<00:05, 675.92it/s]\n",
      "Repetition of Task:  93%|█████████▎| 46669/50000 [01:14<00:04, 695.97it/s]\n",
      "Repetition of Task:  93%|█████████▎| 46742/50000 [01:14<00:04, 704.98it/s]\n",
      "Repetition of Task:  94%|█████████▎| 46814/50000 [01:14<00:04, 707.17it/s]\n",
      "Repetition of Task:  94%|█████████▍| 46889/50000 [01:15<00:04, 716.41it/s]\n",
      "Repetition of Task:  94%|█████████▍| 46962/50000 [01:15<00:04, 716.49it/s]\n",
      "Repetition of Task:  94%|█████████▍| 47034/50000 [01:15<00:04, 713.74it/s]\n",
      "Repetition of Task:  94%|█████████▍| 47117/50000 [01:15<00:03, 736.77it/s]\n",
      "Repetition of Task:  94%|█████████▍| 47192/50000 [01:15<00:03, 731.09it/s]\n",
      "Repetition of Task:  95%|█████████▍| 47267/50000 [01:15<00:03, 735.07it/s]\n",
      "Repetition of Task:  95%|█████████▍| 47345/50000 [01:15<00:03, 739.81it/s]\n",
      "Repetition of Task:  95%|█████████▍| 47423/50000 [01:15<00:03, 750.68it/s]\n",
      "Repetition of Task:  95%|█████████▍| 47499/50000 [01:15<00:03, 730.85it/s]\n",
      "Repetition of Task:  95%|█████████▌| 47573/50000 [01:15<00:03, 731.87it/s]\n",
      "Repetition of Task:  95%|█████████▌| 47647/50000 [01:16<00:03, 697.68it/s]\n",
      "Repetition of Task:  95%|█████████▌| 47728/50000 [01:16<00:03, 727.59it/s]\n",
      "Repetition of Task:  96%|█████████▌| 47803/50000 [01:16<00:03, 732.22it/s]\n",
      "Repetition of Task:  96%|█████████▌| 47880/50000 [01:16<00:02, 742.38it/s]\n",
      "Repetition of Task:  96%|█████████▌| 47960/50000 [01:16<00:02, 757.28it/s]\n",
      "Repetition of Task:  96%|█████████▌| 48042/50000 [01:16<00:02, 770.08it/s]\n",
      "Repetition of Task:  96%|█████████▌| 48120/50000 [01:16<00:02, 750.11it/s]\n",
      "Repetition of Task:  96%|█████████▋| 48197/50000 [01:16<00:02, 753.95it/s]\n",
      "Repetition of Task:  97%|█████████▋| 48274/50000 [01:16<00:02, 756.26it/s]\n",
      "Repetition of Task:  97%|█████████▋| 48351/50000 [01:17<00:02, 758.35it/s]\n",
      "Repetition of Task:  97%|█████████▋| 48432/50000 [01:17<00:02, 764.37it/s]\n",
      "Repetition of Task:  97%|█████████▋| 48509/50000 [01:17<00:01, 761.61it/s]\n",
      "Repetition of Task:  97%|█████████▋| 48591/50000 [01:17<00:01, 776.59it/s]\n",
      "Repetition of Task:  97%|█████████▋| 48670/50000 [01:17<00:01, 779.90it/s]\n",
      "Repetition of Task:  97%|█████████▋| 48749/50000 [01:17<00:01, 775.98it/s]\n",
      "Repetition of Task:  98%|█████████▊| 48831/50000 [01:17<00:01, 786.46it/s]\n",
      "Repetition of Task:  98%|█████████▊| 48917/50000 [01:17<00:01, 801.57it/s]\n",
      "Repetition of Task:  98%|█████████▊| 48998/50000 [01:17<00:01, 777.65it/s]\n",
      "Repetition of Task:  98%|█████████▊| 49078/50000 [01:17<00:01, 777.12it/s]\n",
      "Repetition of Task:  98%|█████████▊| 49160/50000 [01:18<00:01, 787.45it/s]\n",
      "Repetition of Task:  98%|█████████▊| 49242/50000 [01:18<00:00, 793.18it/s]\n",
      "Repetition of Task:  99%|█████████▊| 49322/50000 [01:18<00:00, 794.17it/s]\n",
      "Repetition of Task:  99%|█████████▉| 49402/50000 [01:18<00:00, 793.93it/s]\n",
      "Repetition of Task:  99%|█████████▉| 49482/50000 [01:18<00:00, 749.16it/s]\n",
      "Repetition of Task:  99%|█████████▉| 49560/50000 [01:18<00:00, 755.30it/s]\n",
      "Repetition of Task:  99%|█████████▉| 49640/50000 [01:18<00:00, 767.42it/s]\n",
      "Repetition of Task:  99%|█████████▉| 49723/50000 [01:18<00:00, 780.40it/s]\n",
      "Repetition of Task: 100%|█████████▉| 49804/50000 [01:18<00:00, 786.79it/s]\n",
      "Repetition of Task: 100%|█████████▉| 49883/50000 [01:18<00:00, 772.58it/s]\n",
      "Repetition of Task: 100%|█████████▉| 49963/50000 [01:19<00:00, 778.35it/s]\n",
      "Repetition of Task: 100%|██████████| 50000/50000 [01:19<00:00, 631.92it/s]\n",
      "Running stage 'gen_observations' with command:\n",
      "Repetition of Task:   0%|          | 0/50 [00:00<?, ?it/s]\n",
      "Repetition of Task: 100%|██████████| 50/50 [00:00<00:00, 667.02it/s]\n",
      "\n",
      "\tpython scripts/gen_observations.py\n",
      "(-0.8, 0.7)\n",
      "(0.25, 0.99)\n",
      "[3, 8, 13, 35, 40]\n",
      "Modifying stage 'gen_observations' in 'dvc.yaml'\n",
      "Updating lock file 'dvc.lock'\n",
      "\n",
      "To track the changes with git, run:\n",
      "\n",
      "\tgit add dvc.yaml dvc.lock\n"
     ]
    }
   ],
   "source": [
    "!dvc run --force --always-changed -n gen_observations -w .. -d data/env.pickle -p target_area,true_norm,num_observations,obs_data_set -o data/observations.pickle python scripts/gen_observations.py"
   ]
  },
  {
   "cell_type": "markdown",
   "metadata": {
    "cell_id": "00004-74dff12b-6246-4713-9d11-ac00f81ca12d",
    "tags": []
   },
   "source": [
    "### Check log likelihood of observation set given no norm and true norm"
   ]
  },
  {
   "cell_type": "code",
   "execution_count": 26,
   "metadata": {
    "cell_id": "00005-9fe496a2-bccc-4a58-889e-3f50ce6c84f0",
    "output_cleared": false,
    "tags": []
   },
   "outputs": [
    {
     "output_type": "stream",
     "name": "stdout",
     "text": [
      "Running stage 'test_obs_log_likelihood1' with command:\n\tpython scripts/test_obs_likelihood.py none true\nLog likelihood of observations given no norm: -13732.653608350562\n\nLog likelihood of observations given true exp.: -12694.183534230084\n\nModifying stage 'test_obs_log_likelihood1' in 'dvc.yaml'\n\nTo track the changes with git, run:\n\n\tgit add dvc.yaml\n"
     ]
    }
   ],
   "source": [
    "!dvc run --force --always-changed -n test_obs_log_likelihood1 -w .. -d data/observations.pickle -d data/env.pickle -p true_norm.exp python scripts/test_obs_likelihood.py none true"
   ]
  },
  {
   "cell_type": "markdown",
   "metadata": {
    "cell_id": "00004-e450e354-b0f6-4be5-bf60-55c1e89b36d3",
    "tags": []
   },
   "source": [
    "### Generate MCMC chains\n",
    "Creates data/chains_and_log_posteriors.pickle. Also metrics/starts_info.txt, but that is not currently recorded in the \"dvc run\" command below."
   ]
  },
  {
   "cell_type": "code",
   "execution_count": 3,
   "metadata": {
    "allow_embed": false,
    "cell_id": "00002-a888c5f1-50c2-4f53-911d-e56e17413bf5",
    "output_cleared": false,
    "tags": []
   },
   "outputs": [
    {
     "output_type": "stream",
     "name": "stdout",
     "text": "Running stage &#39;gen_mcmc_chains&#39; with command:Traceback (most recent call last):\n  File &quot;scripts/gen_mcmc_chains.py&quot;, line 60, in &lt;module&gt;\n    pickle_it(dask.compute(*chains_and_log_posteriors), &#39;data/chains_and_log_posteriors.pickle&#39;)\n  File &quot;C:\\Users\\crast78p\\OneDrive - University of Otago\\PythonProjects\\my fork - learning_norms_with_mcmc_from_pcfg\\env\\lib\\site-packages\\dask\\base.py&quot;, line 452, in compute\n    results = schedule(dsk, keys, **kwargs)\n  File &quot;C:\\Users\\crast78p\\OneDrive - University of Otago\\PythonProjects\\my fork - learning_norms_with_mcmc_from_pcfg\\env\\lib\\site-packages\\dask\\threaded.py&quot;, line 76, in get\n    results = get_async(\n  File &quot;C:\\Users\\crast78p\\OneDrive - University of Otago\\PythonProjects\\my fork - learning_norms_with_mcmc_from_pcfg\\env\\lib\\site-packages\\dask\\local.py&quot;, line 486, in get_async\n    raise_exception(exc, tb)\n  File &quot;C:\\Users\\crast78p\\OneDrive - University of Otago\\PythonProjects\\my fork - learning_norms_with_mcmc_from_pcfg\\env\\lib\\site-packages\\dask\\local.py&quot;, line 316, in reraise\n    raise exc\n  File &quot;C:\\Users\\crast78p\\OneDrive - University of Otago\\PythonProjects\\my fork - learning_norms_with_mcmc_from_pcfg\\env\\lib\\site-packages\\dask\\local.py&quot;, line 222, in execute_task\n    result = _execute_task(task, data)\n  File &quot;C:\\Users\\crast78p\\OneDrive - University of Otago\\PythonProjects\\my fork - learning_norms_with_mcmc_from_pcfg\\env\\lib\\site-packages\\dask\\core.py&quot;, line 121, in _execute_task\n    return func(*(_execute_task(a, cache) for a in args))\n  File &quot;scripts/gen_mcmc_chains.py&quot;, line 44, in delayed_alg1\n    exp_seq,log_likelihoods = algorithm_1(obs,env,the_task,q_dict,rule_dict,\n  File &quot;src\\mcmc_norm_learning\\algorithm_1_v4.py&quot;, line 195, in algorithm_1\n    new_expression = generate_new_expression(sequence[-1],data,task1,q_dict,rule_dict,env,log_lik_no_norm,relevance_factor,sim_threshold,similarity_penalty,w_normative)\n  File &quot;c:\\users\\crast78p\\onedrive - university of otago\\pythonprojects\\my fork - learning_norms_with_mcmc_from_pcfg\\src\\mcmc_norm_learning\\algorithm_2_v2.py&quot;, line 23, in generate_new_expression\n    a=random.choice(Ae)\n  File &quot;mtrand.pyx&quot;, line 904, in numpy.random.mtrand.RandomState.choice\nValueError: a must be 1-dimensional\nERROR: failed to run: python scripts/gen_mcmc_chains.py, exited with 1\n\n\tpython scripts/gen_mcmc_chains.py\nNormsNo-normNo-norm\nNorm\n\n\nOblPro\nAction\nColour\n\nShape\nZone\nNext-Move\nColour\nShape\nZone\nPer\nAction\nColour\nShape\nPerZone\nNorm\nObl\nNext-Move\nColour\nNo-normShape\nZone\n\nNo-normNo-norm\n\n-inf\nTrying another E0\nNo-norm\n-13732.653608350562-13732.653608350562\nTime to initialise E_0=0.2330s\n-13732.653608350562\nTime to initialise E_0=0.2540s\n\nTime to initialise E_0=0.2550s\n-inf\nNorm\nPro\nActionNo-norm-infTrying another E0\nNorms\n\n\nTrying another E0\n\nPro\nAction\nColour\nShapeColour\nShape\nZone-13732.653608350562\n\nNormsZone\nNo-norm\nTime to initialise E_0=0.3900s\n\n\nPerPro\nAction\nColour\nShape-13732.653608350562No-norm\n\nTime to initialise E_0=0.4520s\n\nZone\nPer\n\nAction\nColour\nShape\n-13732.653608350562\nAction\nColour\nTime to initialise E_0=0.2020s\nShape\nPerZone\n-13732.653608350562\nTime to initialise E_0=0.5670s\n-13732.653608350562\nTime to initialise E_0=0.1990s\n-inf\nTrying another E0\nNo-norm\nPerZone\n-13732.653608350562\nTime to initialise E_0=0.1960s\nNorm\n-13732.653608350562\nTime to initialise E_0=0.6670s\nNorms\n-13732.653608350562\nTime to initialise E_0=0.6720s\nNo-norm\nProPro-inf\nTrying another E0\n\n\nNo-normAction\nColour\nShape\nZone\nPer\nActionAction\n\nColour\nShape\nPerZone\n\nColour\nShape\nNorm\nZone\nObl\nNo-normMoved-13732.653608350562Norm\n\n\nColour\nShape\nZone\nNext-Move\nTime to initialise E_0=0.1920sPro\n\n-infColour\nAction\nColour\nNo-norm\n\nShape\nZoneNorms\nObl\nNext-Move\nColour-13732.653608350562\nTime to initialise E_0=0.2130s\nShape\n-inf\nTrying another E0\n\n\nZone\nTrying another E0No-norm\n\n\nNo-norm\nNo-norm\n-13732.653608350562\nTime to initialise E_0=0.1390s\nShape-inf-13732.653608350562\nTime to initialise E_0=0.2170s\n\nTrying another E0\nNo-norm\n\nZone\nNormPer\n\nOblActionNo-norm\n-13732.653608350562\nTime to initialise E_0=0.3460s\nColour\nShape\n\nNext-Move\nColour\n\nPerZone\n-13732.653608350562Norm\nTime to initialise E_0=0.4380s\nShape\nZone\nObl\nMoved-inf\nTrying another E0\nNo-norm\n\nNorms\nColour\nShape\n-13732.653608350562\nTime to initialise E_0=0.3160s\n\n-13732.653608350562\nTime to initialise E_0=0.3660s\nZonePro\nNext-Move\n\nAction-13732.653608350562\nTime to initialise E_0=0.1950s\n-inf\nTrying another E0\nNorms\nObl\nNext-Move\nColour\nColour\nShape\nZone\nPer\nColour\nShape\nZoneAction\nColour\nNo-norm\n\nNormShapeNo-norm\n\nShape\n\nZone\nPer\nActionPerZone\n-13732.653608350562\nTime to initialise E_0=0.2640s\nColour\nNo-norm\nShape\n\nObl\n\nPerZone\nNext-Move\n-inf\nTrying another E0\nNorms\nObl\n-infColour\n\nShapeMoved\nZoneTrying another E0\nColour\nShape\n\nZone-13732.653608350562-13732.653608350562\nTime to initialise E_0=0.2840s\n-13732.653608350562\nTime to initialise E_0=0.7000s\n\nNext-Move\nColour\nTime to initialise E_0=0.2320s\n-13732.653608350562\nTime to initialise E_0=0.2780s\n\nNorms\nPro\n\n-13732.653608350562\nTime to initialise E_0=0.2890sShape\nNorm\nPro\nAction\nColour\nShape\nZone\n\nNormAction\nColour\nShape\nZone\nPer\nAction\nColour\nShape\nPerZone\n-inf\nTrying another E0\nNo-norm\nNo-normNorms\nObl\nNorms\nObl\nMoved\n\n\nColour\nShape\nZone\nMoved\nColourZone\nPerObl\nShape\n\n\nMovedAction\nColour\n-13732.653608350562\nTime to initialise E_0=0.1660s\nShapeNext-Move\nColour\nShapeZone\nPerZone\n\nColour\nShape\nMoved\nColourZone\nNext-Move\nColour\n\n\nZone\n-13732.653608350562\nTime to initialise E_0=0.4250s\nPer\nNo-normNorms\nShape\nZone\n\n\nShape-inf\nTrying another E0\nNormActionObl\nObl\n-13732.653608350562\nTime to initialise E_0=0.1920s\nNext-Move\nColour\nShape\n\nColour\nNorms\nPro\n\nShapeNext-Move\nColourZone\n-inf\nTrying another E0\nZone\n\n\n\nNo-norm\nMovedAction\nColour\nShape-13732.653608350562\nTime to initialise E_0=0.1870s\n\nColour\nShapePerZone\nZone\nNext-Move\nColour\nShape\nZone\nPer\nAction\n\nNo-norm\n\nZoneColour\n\nShape\nShape-13732.653608350562\nPerZone\nPer\nAction-inf\n"
    }
   ],
   "source": [
    "!dvc run --force -n gen_mcmc_chains -w .. -d data/env.pickle -d data/observations.pickle -p n,m,rf,colour_specific,shape_specific,target_area -o data/chains_and_log_posteriors.pickle python scripts/gen_mcmc_chains.py"
   ]
  },
  {
   "cell_type": "markdown",
   "metadata": {
    "cell_id": "00006-f3d1a0ff-4505-4109-bb09-6f1a37676a60",
    "tags": []
   },
   "source": [
    "### Analyse the chains\n",
    "Generate file metrics/chain_posteriors.csv and append more information to metrics/chain_info.txt (note: DVC may not handle changing a file very well - perhaps a separate file should be created)."
   ]
  },
  {
   "cell_type": "code",
   "execution_count": 27,
   "metadata": {
    "cell_id": "00003-e14a9d99-8f7b-43c9-b9cd-1a1a54f123b0",
    "output_cleared": false,
    "tags": [
     "outputPrepend"
    ]
   },
   "outputs": [
    {
     "output_type": "stream",
     "name": "stdout",
     "text": [
      "4, -13583.294453092874, -13583.294453092874, -13583.294453092874, -13583.294453092874, -13583.294453092874, -13583.294453092874, -13583.294453092874, -13583.294453092874, -13583.294453092874, -13583.294453092874, -13583.294453092874, -13583.294453092874, -13583.294453092874, -13583.294453092874, -13583.294453092874, -13583.294453092874, -13583.294453092874, -13583.294453092874, -13583.294453092874, -13583.294453092874, -13583.294453092874, -13583.294453092874, -13583.294453092874, -13583.294453092874, -13583.294453092874, -13583.294453092874, -13583.294453092874, -13583.294453092874, -13583.294453092874, -13583.294453092874, -13583.294453092874, -13583.294453092874, -13583.294453092874, -13583.294453092874, -13583.294453092874, -13583.294453092874, -13583.294453092874, -13583.294453092874, -13583.294453092874, -13583.294453092874, -13583.294453092874, -13583.294453092874, -13583.294453092874, -13583.294453092874, -13583.294453092874, -13583.294453092874, -13583.294453092874, -13583.294453092874, -13583.294453092874, -13583.294453092874, -13583.294453092874, -13583.294453092874, -13583.294453092874, -13583.294453092874, -13583.294453092874, -13583.294453092874, -13583.294453092874, -13583.294453092874, -13583.294453092874, -13583.294453092874, -13583.294453092874, -13583.294453092874, -13583.294453092874, -13583.294453092874, -13583.294453092874, -13583.294453092874, -13583.294453092874, -13583.294453092874, -13583.294453092874, -13583.294453092874, -13583.294453092874, -13583.294453092874, -13583.294453092874, -13583.294453092874, -13583.294453092874, -13583.294453092874, -13583.294453092874, -13583.294453092874, -13583.294453092874, -13583.294453092874, -13583.294453092874, -13583.294453092874, -13583.294453092874, -13583.294453092874, -13583.294453092874, -13583.294453092874, -13583.294453092874, -13583.294453092874, -13583.294453092874, -13583.294453092874, -13583.294453092874, -13583.294453092874, -13583.294453092874, -13583.294453092874, -13583.294453092874, -13583.294453092874, -13583.294453092874, -13583.294453092874, -13583.294453092874, -13583.294453092874, -13583.294453092874, -13583.294453092874, -13583.294453092874, -13583.294453092874, -13583.294453092874, -13583.294453092874, -13583.294453092874, -13583.294453092874, -13583.294453092874, -13583.294453092874, -13583.294453092874, -13583.294453092874, -13583.294453092874, -13583.294453092874, -13583.294453092874, -13583.294453092874, -13583.294453092874, -13583.294453092874, -13583.294453092874, -13583.294453092874, -13583.294453092874, -13583.294453092874, -13583.294453092874, -13583.294453092874, -13583.294453092874, -13583.294453092874, -13583.294453092874, -13583.294453092874, -13583.294453092874, -13583.294453092874, -13583.294453092874, -13583.294453092874, -13583.294453092874, -13583.294453092874, -13583.294453092874, -13583.294453092874, -13583.294453092874, -13583.294453092874, -13583.294453092874, -13583.294453092874, -13583.294453092874, -13583.294453092874, -13583.294453092874, -13583.294453092874, -13583.294453092874, -13583.294453092874, -13583.294453092874, -13583.294453092874, -13583.294453092874, -13583.294453092874, -13583.294453092874, -13583.294453092874, -13583.294453092874, -13583.294453092874, -13583.294453092874, -13583.294453092874, -13583.294453092874, -13583.294453092874, -13583.294453092874, -13583.294453092874, -13583.294453092874, -13583.294453092874, -13583.294453092874, -13583.294453092874, -13583.294453092874, -13583.294453092874, -13583.294453092874, -13583.294453092874, -13583.294453092874, -13583.294453092874, -13583.294453092874, -13583.294453092874, -13583.294453092874, -13583.294453092874, -13583.294453092874, -13583.294453092874, -13583.294453092874, -13583.294453092874, -13583.294453092874, -13583.294453092874, -13583.294453092874, -13583.294453092874, -13583.294453092874, -13583.294453092874, -13583.294453092874, -13583.294453092874, -13583.294453092874, -13583.294453092874, -13583.294453092874, -13583.294453092874, -13583.294453092874, -13583.294453092874, -13583.294453092874, -13583.294453092874, -13583.294453092874, -13583.294453092874, -13583.294453092874, -13583.294453092874, -13583.294453092874, -13583.294453092874, -13583.294453092874, -13583.294453092874, -13583.294453092874, -13583.294453092874, -13583.294453092874, -13583.294453092874, -13583.294453092874, -13583.294453092874, -13583.294453092874, -13583.294453092874, -13583.294453092874, -13583.294453092874, -13583.294453092874, -13583.294453092874, -13583.294453092874, -13583.294453092874, -13583.294453092874, -13583.294453092874, -13583.294453092874, -13583.294453092874, -13583.294453092874, -13583.294453092874, -13583.294453092874, -13583.294453092874, -13583.294453092874, -13583.294453092874, -13583.294453092874, -13583.294453092874, -13583.294453092874, -13583.294453092874, -13583.294453092874, -13583.294453092874, -13583.294453092874, -13583.294453092874, -13583.294453092874, -13583.294453092874, -13583.294453092874, -13583.294453092874, -13583.294453092874, -13583.294453092874, -13583.294453092874, -13583.294453092874, -13583.294453092874, -13583.294453092874, -13583.294453092874, -13583.294453092874, -13583.294453092874, -13583.294453092874, -13583.294453092874, -13583.294453092874, -13583.294453092874, -13583.294453092874, -13583.294453092874, -13583.294453092874, -13583.294453092874, -13583.294453092874, -13583.294453092874, -13583.294453092874, -13583.294453092874, -13583.294453092874, -13583.294453092874, -13583.294453092874, -13583.294453092874, -13583.294453092874, -13583.294453092874, -13583.294453092874, -13583.294453092874, -13583.294453092874, -13583.294453092874, -13583.294453092874, -13583.294453092874, -13583.294453092874, -13583.294453092874, -13583.294453092874, -13583.294453092874, -13583.294453092874, -13583.294453092874, -13583.294453092874, -13583.294453092874, -13583.294453092874, -13583.294453092874, -13583.294453092874, -13583.294453092874, -13583.294453092874, -13583.294453092874, -13583.294453092874, -13583.294453092874, -13583.294453092874, -13583.294453092874, -13583.294453092874, -13583.294453092874, -13583.294453092874, -13583.294453092874, -13583.294453092874, -13583.294453092874, -13583.294453092874, -13583.294453092874, -13583.294453092874, -13583.294453092874, -13583.294453092874, -13583.294453092874, -13583.294453092874, -13583.294453092874, -13583.294453092874, -13583.294453092874, -13583.294453092874, -13583.294453092874, -13583.294453092874, -13583.294453092874, -13583.294453092874, -13583.294453092874, -13583.294453092874, -13583.294453092874, -13583.294453092874, -13583.294453092874, -13583.294453092874, -13583.294453092874, -13583.294453092874, -13583.294453092874, -13583.294453092874, -13583.294453092874, -13583.294453092874, -13583.294453092874, -13583.294453092874, -13583.294453092874, -13583.294453092874, -13583.294453092874, -13583.294453092874, -13583.294453092874, -13583.294453092874, -13583.294453092874, -13583.294453092874, -13583.294453092874, -13583.294453092874, -13583.294453092874, -13583.294453092874, -13583.294453092874, -13583.294453092874, -13583.294453092874, -13583.294453092874, -13583.294453092874, -13583.294453092874, -13583.294453092874, -13583.294453092874, -13583.294453092874, -13583.294453092874, -13583.294453092874, -13583.294453092874, -13583.294453092874, -13583.294453092874, -13583.294453092874, -13583.294453092874, -13583.294453092874, -13583.294453092874, -13583.294453092874, -13583.294453092874, -13583.294453092874, -13583.294453092874, -13583.294453092874, -13583.294453092874, -13583.294453092874, -13583.294453092874, -13583.294453092874, -13583.294453092874, -13583.294453092874, -13583.294453092874, -13583.294453092874, -13583.294453092874, -13583.294453092874, -13583.294453092874, -13583.294453092874, -13583.294453092874, -13583.294453092874, -13583.294453092874, -13583.294453092874, -13583.294453092874, -13583.294453092874, -13583.294453092874, -13583.294453092874, -13583.294453092874, -13583.294453092874, -13583.294453092874, -13583.294453092874, -13583.294453092874, -13583.294453092874, -13583.294453092874, -13583.294453092874, -13583.294453092874, -13583.294453092874, -13583.294453092874, -13583.294453092874, -13583.294453092874, -13583.294453092874, -13583.294453092874, -13583.294453092874, -13583.294453092874, -13583.294453092874, -13583.294453092874, -13583.294453092874, -13584.393065381542, -13584.393065381542, -13584.393065381542, -13584.393065381542, -13584.393065381542, -13584.393065381542, -13584.393065381542, -13584.393065381542, -13584.393065381542, -13584.393065381542, -13584.393065381542, -13584.393065381542, -13584.393065381542, -13584.393065381542, -13584.393065381542, -13584.393065381542, -13584.393065381542, -13584.393065381542, -13584.393065381542, -13584.393065381542, -13584.393065381542, -13584.393065381542, -13584.393065381542, -13584.393065381542, -13584.393065381542, -13584.393065381542, -13584.393065381542, -13584.393065381542, -13584.393065381542, -13584.393065381542, -13584.393065381542, -13584.393065381542, -13584.393065381542, -13584.393065381542, -13584.393065381542, -13584.393065381542, -13584.393065381542, -13584.393065381542, -13637.1264552376, -13637.1264552376, -13637.1264552376, -13637.1264552376, -13637.1264552376, -13637.1264552376, -13637.1264552376, -13637.1264552376, -13637.1264552376, -13637.1264552376, -13637.1264552376, -13637.1264552376, -13637.1264552376, -13637.1264552376, -13637.1264552376, -13637.1264552376, -13637.1264552376, -13637.1264552376, -13637.1264552376, -13637.1264552376, -13637.1264552376, -13637.1264552376, -13637.1264552376, -13637.1264552376, -13637.1264552376, -13637.1264552376, -13637.1264552376, -13637.1264552376, -13637.1264552376, -13637.1264552376, -13637.1264552376, -13637.1264552376, -13637.1264552376, -13637.1264552376, -13637.1264552376, -13637.1264552376, -13637.1264552376, -13638.225067526268, -13638.225067526268, -13638.225067526268, -13638.225067526268, -13638.225067526268, -13638.225067526268, -13638.225067526268, -13638.225067526268, -13638.225067526268, -13638.225067526268, -13638.225067526268, -13638.225067526268, -13638.225067526268, -13638.225067526268, -13638.225067526268, -13638.225067526268, -13638.225067526268, -13638.225067526268, -13638.225067526268, -13638.225067526268, -13638.225067526268, -13638.225067526268, -13638.225067526268, -13638.225067526268, -13638.225067526268, -13638.225067526268, -13692.057069670993, -13692.057069670993, -13692.057069670993, -13692.057069670993, -13692.057069670993, -13692.057069670993, -13692.057069670993, -13692.057069670993, -13692.057069670993, -13692.057069670993, -13692.057069670993, -13692.057069670993, -13692.057069670993, -13692.057069670993, -13692.057069670993, -13692.057069670993, -13692.057069670993, -13692.057069670993, -13692.057069670993, -13692.057069670993, -13692.057069670993, -13692.057069670993, -13692.057069670993, -13692.057069670993, -13692.057069670993, -13692.057069670993, -13692.057069670993, -13692.057069670993, -13692.057069670993, -13692.057069670993, -13692.057069670993, -13692.057069670993, -13692.057069670993, -13692.057069670993, -13692.057069670993, -13692.057069670993, -13692.057069670993, -13692.057069670993, -13692.057069670993, -13692.057069670993, -13692.057069670993, -13692.057069670993, -13692.057069670993, -13692.057069670993, -13692.057069670993, -13692.057069670993, -13692.057069670993, -13692.057069670993, -13693.15568195966, -13693.15568195966, -13693.15568195966, -13693.15568195966, -13693.15568195966, -13693.15568195966, -13693.15568195966, -13693.15568195966, -13693.15568195966, -13693.15568195966, -13693.15568195966, -13693.15568195966, -13693.15568195966, -13693.15568195966, -13693.15568195966, -13733.346755531122, -13733.346755531122, -13733.346755531122, -13733.346755531122, -13733.346755531122, -13733.346755531122, -13733.346755531122, -13733.346755531122, -13733.346755531122, -13733.346755531122, -13733.346755531122, -13733.346755531122, -13733.346755531122, -13733.346755531122, -13733.346755531122, -13733.346755531122, -13733.346755531122, -13733.346755531122, -13733.346755531122, -13733.346755531122, -13733.346755531122, -13733.346755531122, -13733.346755531122, -13733.346755531122, -13733.346755531122, -13733.346755531122, -13733.346755531122, -13733.346755531122, -13733.346755531122, -13733.346755531122, -13733.346755531122, -13733.346755531122, -13733.346755531122, -13733.346755531122, -13733.346755531122, -13733.346755531122, -13733.346755531122, -13733.346755531122, -13733.346755531122, -13733.346755531122, -13733.346755531122, -13733.346755531122, -13733.346755531122, -13733.346755531122, -13733.346755531122, -13733.346755531122, -13733.346755531122, -13733.346755531122, -13733.346755531122, -13733.346755531122, -13733.346755531122, -13733.346755531122, -13733.346755531122, -13733.346755531122, -13733.346755531122, -13733.346755531122, -13733.346755531122, -13733.346755531122, -13733.346755531122, -13733.346755531122, -13733.346755531122, -13733.346755531122, -13733.346755531122, -13733.346755531122, -13733.346755531122, -13733.346755531122, -13733.346755531122, -13733.346755531122, -13733.346755531122, -13733.346755531122, -13733.346755531122, -13733.346755531122, -13733.346755531122, -13733.346755531122, -13733.346755531122, -13733.346755531122, -13733.346755531122, -13733.346755531122, -13733.346755531122, -13733.346755531122, -13733.346755531122, -13733.346755531122, -13733.346755531122, -13733.346755531122, -13733.346755531122, -13733.346755531122, -13733.346755531122, -13733.346755531122, -13733.346755531122, -13733.346755531122, -13733.346755531122, -13733.346755531122, -13733.346755531122, -13733.346755531122, -13733.346755531122, -13733.346755531122, -13733.346755531122, -13733.346755531122, -13733.346755531122, -13733.346755531122, -13733.346755531122, -13733.346755531122, -13733.346755531122, -13733.346755531122, -13733.346755531122, -13733.346755531122, -13733.346755531122, -13733.346755531122, -13733.346755531122, -13733.346755531122, -13733.346755531122, -13733.346755531122, -13733.346755531122, -13733.346755531122, -13733.346755531122, -13733.346755531122, -13733.346755531122, -13733.346755531122, -13733.346755531122, -13733.346755531122, -13733.346755531122, -13733.346755531122, -13733.346755531122, -13733.346755531122, -13733.346755531122, -13733.346755531122, -13733.346755531122, -13733.346755531122, -13733.346755531122, -13733.346755531122, -13733.346755531122, -13733.346755531122, -13733.346755531122, -13733.346755531122, -13733.346755531122, -13733.346755531122, -13733.346755531122, -13733.346755531122, -13733.346755531122, -13733.346755531122, -13733.346755531122, -13733.346755531122, -13733.346755531122, -13733.346755531122, -13733.346755531122, -13733.346755531122, -13733.346755531122, -13733.346755531122, -13733.346755531122, -13733.346755531122, -13733.346755531122, -13733.346755531122, -13733.346755531122, -13733.346755531122, -13733.346755531122, -13733.346755531122, -13733.346755531122, -13733.346755531122, -13733.346755531122, -13733.346755531122, -13733.346755531122, -13733.346755531122, -13733.346755531122, -13733.346755531122, -13733.346755531122, -13733.346755531122, -13733.346755531122, -13733.346755531122, -13733.346755531122, -13733.346755531122, -13733.346755531122, -13733.346755531122, -13733.346755531122, -13733.346755531122, -13733.346755531122, -13733.346755531122, -13733.346755531122, -13733.346755531122, -13733.346755531122, -13733.346755531122, -13733.346755531122, -13733.346755531122, -13733.346755531122, -13733.346755531122, -13733.346755531122, -13733.346755531122, -13733.346755531122, -13733.346755531122, -13733.346755531122, -13733.346755531122, -13733.346755531122, -13733.346755531122, -13733.346755531122, -13733.346755531122, -13733.346755531122, -13733.346755531122, -13733.346755531122, -13733.346755531122, -13733.346755531122, -13733.346755531122, -13733.346755531122, -13733.346755531122, -13733.346755531122, -13733.346755531122, -13733.346755531122, -13733.346755531122, -13733.346755531122, -13733.346755531122, -13733.346755531122, -13733.346755531122, -13733.346755531122, -13733.346755531122, -13733.346755531122, -13733.346755531122, -13733.346755531122, -13733.346755531122, -13733.346755531122, -13733.346755531122, -13733.346755531122, -13733.346755531122, -13733.346755531122, -13733.346755531122, -13733.346755531122, -13733.346755531122, -13733.346755531122, -13733.346755531122, -13733.346755531122, -13733.346755531122, -13733.346755531122, -13733.346755531122, -13733.346755531122, -13733.346755531122, -13733.346755531122, -13733.346755531122, -13733.346755531122, -13733.346755531122, -13733.346755531122, -13733.346755531122, -13733.346755531122, -13733.346755531122, -13733.346755531122, -13733.346755531122, -13733.346755531122, -13733.346755531122, -13733.346755531122, -13733.346755531122, -13733.346755531122, -13733.346755531122, -13733.346755531122, -13733.346755531122, -13733.346755531122, -13733.346755531122, -13733.346755531122, -13733.346755531122, -13733.346755531122, -13733.346755531122, -13733.346755531122, -13733.346755531122, -13733.346755531122, -13739.702863191818, -13740.396010372377, -13740.396010372377, -13740.801475480486, -13740.801475480486, -13740.801475480486, -13740.801475480486, -13740.801475480486, -13740.801475480486, -13742.998700057822, -13742.998700057822, -13742.998700057822, -13742.998700057822, -13742.998700057822, -13742.998700057822, -13742.998700057822, -13742.998700057822, -13742.998700057822, -13742.998700057822, -13742.998700057822, -13742.998700057822, -13743.40416516593, -13743.40416516593, -13743.40416516593, -13744.09731234649, -13744.09731234649, -13744.09731234649, -13744.09731234649, -13744.09731234649, -13744.09731234649, -13744.384994418942, -13744.384994418942, -13744.384994418942, -13744.384994418942, -13744.384994418942, -13744.502777454598, -13744.502777454598, -13744.502777454598, -13744.502777454598, -13744.502777454598, -13744.502777454598, -13745.195924635158, -13745.195924635158, -13745.195924635158, -13745.601389743266, -13745.601389743266, -13745.601389743266, -13745.601389743266, -13745.601389743266, -13745.601389743266, -13745.601389743266, -13746.987684104386, -13746.987684104386, -13746.987684104386, -13746.987684104386, -13747.680831284946, -13748.086296393054, -13748.086296393054, -13748.086296393054, -13748.086296393054, -13748.086296393054, -13748.086296393054, -13748.086296393054, -13748.779443573614, -13748.779443573614, -13748.779443573614, -13748.779443573614, -13748.779443573614, -13749.184908681722, -13749.184908681722, -13749.184908681722, -13749.184908681722, -13749.184908681722, -13749.184908681722, -13750.28352097039, -13753.867039908846, -13753.867039908846, -13754.965652197514, -13754.965652197514]\n",
      "dict_keys([-13748.779443573614, -13747.680831284946, -13733.346755531122, -13745.601389743266, -13744.502777454598, -13749.184908681722, -13748.086296393054, -13754.965652197514, -13753.867039908846, -13750.28352097039, -13746.987684104386, -13743.40416516593, -13740.801475480486, -13744.384994418942, -13740.396010372377, -13739.702863191818, -13744.09731234649, -13742.998700057822, -13745.195924635158, -13692.057069670993, -13693.15568195966, -13638.225067526268, -13637.1264552376, -13582.195840804206, -13583.294453092874, -13584.393065381542])\n",
      "\n",
      "\n",
      "Writing 4000 rows to CSV file\n",
      "\n",
      "\n",
      "Having any troubles? Hit us up at https://dvc.org/support, we are always happy to help!\n",
      "DVC version: 1.8.1 (pip)\n",
      "---------------------------------\n",
      "Platform: Python 3.8.2 on Windows-10-10.0.18362-SP0\n",
      "Supports: gdrive, http, https\n",
      "Cache types: hardlink\n",
      "Cache directory: NTFS on C:\\\n",
      "Workspace directory: NTFS on C:\\\n",
      "Repo: dvc, git\n",
      "ERROR: unexpected error - [WinError 32] The process cannot access the file because it is being used by another process: 'c:\\\\Users\\\\crast78p\\\\OneDrive - University of Otago\\\\PythonProjects\\\\my fork - learning_norms_with_mcmc_from_pcfg\\\\metrics\\\\chain_info.txt'\n"
     ]
    }
   ],
   "source": [
    "!dvc run --force -n analyse_chains -w .. -d data/chains_and_log_posteriors.pickle -d data/env.pickle -d data/observations.pickle -p n,m,rf,colour_specific,shape_specific,target_area -o metrics/chain_info.txt --plots metrics/chain_posteriors.csv python scripts/analyse_chains.py"
   ]
  },
  {
   "cell_type": "markdown",
   "metadata": {
    "cell_id": "00008-b6e9f15d-9983-4607-9c11-5f3c30b75fde",
    "tags": []
   },
   "source": [
    "### Generate a plot showing norms ordered by likelihood (or now posterior prob.?)\n",
    "The file plots.html is generated in the root folder, based on data in metrics/chain_posteriors.csv"
   ]
  },
  {
   "cell_type": "code",
   "execution_count": 2,
   "metadata": {
    "cell_id": "00004-8dfebf1c-ed1c-4abf-933c-d5855e0bda14",
    "output_cleared": false,
    "tags": []
   },
   "outputs": [
    {
     "output_type": "stream",
     "name": "stdout",
     "text": [
      "file://C:\\Users\\crast78p\\OneDrive - University of Otago\\PythonProjects\\my fork - learning_norms_with_mcmc_from_pcfg\\plots.html\n"
     ]
    }
   ],
   "source": [
    "from pathlib import Path\n",
    "metrics_path = Path('metrics/chain_posteriors.csv') # Get OS-appropriate path separator \n",
    "!dvc --cd .. plots show -t plots/norm_exp_histogram.json $metrics_path"
   ]
  },
  {
   "cell_type": "markdown",
   "metadata": {
    "cell_id": "00010-2b350a37-8c93-4bbe-9f6e-62dbcb503907",
    "tags": []
   },
   "source": [
    "### Perform a convergence test to compute $\\hat{R}$\n",
    "The result is written to metrics/conv_test.txt. Also, the posterior sample (after discarding initial warm-up segments of chains and combining the remains) is writen to data/posterior.pickle. \n"
   ]
  },
  {
   "cell_type": "code",
   "execution_count": 19,
   "metadata": {
    "cell_id": "00004-de24100b-aa90-45d8-9951-e740220ab08e",
    "output_cleared": false,
    "tags": []
   },
   "outputs": [
    {
     "output_type": "stream",
     "name": "stdout",
     "text": [
      "Stage is cached, skipping\n"
     ]
    }
   ],
   "source": [
    "!dvc run --force -n conv_test -w .. -d data/chains_and_log_posteriors.pickle -p rhat_step_size -o data/posterior.pickle -o metrics/conv_test.txt python scripts/conv_test.py"
   ]
  },
  {
   "cell_type": "markdown",
   "metadata": {
    "cell_id": "00012-00464624-daf9-430c-bfcd-ef140ce0659b",
    "tags": []
   },
   "source": [
    "### Extract the top norms and compute precision and recall\n",
    "The results are written to metrics/precision_recall.txt.\n"
   ]
  },
  {
   "cell_type": "code",
   "execution_count": 31,
   "metadata": {
    "allow_embed": false,
    "cell_id": "00005-bc971935-b212-471d-bce0-fd808b7f5362",
    "output_cleared": false,
    "tags": [
     "outputPrepend"
    ]
   },
   "outputs": [
    {
     "output_type": "stream",
     "name": "stdout",
     "text": [
      "██████▌   | 32616/50000 [00:45<00:22, 759.08it/s]\n",
      "Repetition of Task:  65%|██████▌   | 32694/50000 [00:45<00:22, 758.57it/s]\n",
      "Repetition of Task:  66%|██████▌   | 32770/50000 [00:45<00:22, 756.72it/s]\n",
      "Repetition of Task:  66%|██████▌   | 32846/50000 [00:45<00:22, 757.70it/s]\n",
      "Repetition of Task:  66%|██████▌   | 32922/50000 [00:45<00:22, 751.65it/s]\n",
      "Repetition of Task:  66%|██████▌   | 32998/50000 [00:45<00:22, 745.33it/s]\n",
      "Repetition of Task:  66%|██████▌   | 33073/50000 [00:46<00:22, 742.21it/s]\n",
      "Repetition of Task:  66%|██████▋   | 33149/50000 [00:46<00:22, 743.16it/s]\n",
      "Repetition of Task:  66%|██████▋   | 33226/50000 [00:46<00:22, 748.83it/s]\n",
      "Repetition of Task:  67%|██████▋   | 33302/50000 [00:46<00:22, 752.05it/s]\n",
      "Repetition of Task:  67%|██████▋   | 33379/50000 [00:46<00:22, 755.12it/s]\n",
      "Repetition of Task:  67%|██████▋   | 33455/50000 [00:46<00:21, 754.32it/s]\n",
      "Repetition of Task:  67%|██████▋   | 33531/50000 [00:46<00:21, 753.77it/s]\n",
      "Repetition of Task:  67%|██████▋   | 33607/50000 [00:46<00:21, 755.62it/s]\n",
      "Repetition of Task:  67%|██████▋   | 33683/50000 [00:46<00:21, 754.69it/s]\n",
      "Repetition of Task:  68%|██████▊   | 33761/50000 [00:46<00:21, 759.94it/s]\n",
      "Repetition of Task:  68%|██████▊   | 33839/50000 [00:47<00:21, 763.53it/s]\n",
      "Repetition of Task:  68%|██████▊   | 33916/50000 [00:47<00:21, 760.94it/s]\n",
      "Repetition of Task:  68%|██████▊   | 33994/50000 [00:47<00:20, 764.38it/s]\n",
      "Repetition of Task:  68%|██████▊   | 34071/50000 [00:47<00:20, 761.51it/s]\n",
      "Repetition of Task:  68%|██████▊   | 34148/50000 [00:47<00:20, 755.05it/s]\n",
      "Repetition of Task:  68%|██████▊   | 34226/50000 [00:47<00:20, 762.29it/s]\n",
      "Repetition of Task:  69%|██████▊   | 34303/50000 [00:47<00:20, 762.39it/s]\n",
      "Repetition of Task:  69%|██████▉   | 34380/50000 [00:47<00:20, 764.57it/s]\n",
      "Repetition of Task:  69%|██████▉   | 34458/50000 [00:47<00:20, 766.87it/s]\n",
      "Repetition of Task:  69%|██████▉   | 34535/50000 [00:47<00:20, 765.52it/s]\n",
      "Repetition of Task:  69%|██████▉   | 34612/50000 [00:48<00:20, 764.57it/s]\n",
      "Repetition of Task:  69%|██████▉   | 34690/50000 [00:48<00:20, 764.69it/s]\n",
      "Repetition of Task:  70%|██████▉   | 34767/50000 [00:48<00:20, 757.24it/s]\n",
      "Repetition of Task:  70%|██████▉   | 34843/50000 [00:48<00:19, 757.99it/s]\n",
      "Repetition of Task:  70%|██████▉   | 34922/50000 [00:48<00:19, 765.09it/s]\n",
      "Repetition of Task:  70%|██████▉   | 34999/50000 [00:48<00:19, 759.82it/s]\n",
      "Repetition of Task:  70%|███████   | 35076/50000 [00:48<00:19, 753.80it/s]\n",
      "Repetition of Task:  70%|███████   | 35154/50000 [00:48<00:19, 759.25it/s]\n",
      "Repetition of Task:  70%|███████   | 35232/50000 [00:48<00:19, 760.88it/s]\n",
      "Repetition of Task:  71%|███████   | 35309/50000 [00:48<00:19, 763.59it/s]\n",
      "Repetition of Task:  71%|███████   | 35386/50000 [00:49<00:19, 761.01it/s]\n",
      "Repetition of Task:  71%|███████   | 35463/50000 [00:49<00:19, 752.46it/s]\n",
      "Repetition of Task:  71%|███████   | 35539/50000 [00:49<00:19, 754.70it/s]\n",
      "Repetition of Task:  71%|███████   | 35615/50000 [00:49<00:19, 756.28it/s]\n",
      "Repetition of Task:  71%|███████▏  | 35691/50000 [00:49<00:19, 748.45it/s]\n",
      "Repetition of Task:  72%|███████▏  | 35766/50000 [00:49<00:19, 748.90it/s]\n",
      "Repetition of Task:  72%|███████▏  | 35844/50000 [00:49<00:18, 753.50it/s]\n",
      "Repetition of Task:  72%|███████▏  | 35920/50000 [00:49<00:18, 753.26it/s]\n",
      "Repetition of Task:  72%|███████▏  | 35996/50000 [00:49<00:18, 753.03it/s]\n",
      "Repetition of Task:  72%|███████▏  | 36074/50000 [00:49<00:18, 756.58it/s]\n",
      "Repetition of Task:  72%|███████▏  | 36150/50000 [00:50<00:18, 753.03it/s]\n",
      "Repetition of Task:  72%|███████▏  | 36226/50000 [00:50<00:18, 752.95it/s]\n",
      "Repetition of Task:  73%|███████▎  | 36302/50000 [00:50<00:18, 750.50it/s]\n",
      "Repetition of Task:  73%|███████▎  | 36378/50000 [00:50<00:18, 744.54it/s]\n",
      "Repetition of Task:  73%|███████▎  | 36455/50000 [00:50<00:18, 751.92it/s]\n",
      "Repetition of Task:  73%|███████▎  | 36531/50000 [00:50<00:17, 754.32it/s]\n",
      "Repetition of Task:  73%|███████▎  | 36607/50000 [00:50<00:17, 747.10it/s]\n",
      "Repetition of Task:  73%|███████▎  | 36682/50000 [00:50<00:17, 741.40it/s]\n",
      "Repetition of Task:  74%|███████▎  | 36757/50000 [00:50<00:17, 737.37it/s]\n",
      "Repetition of Task:  74%|███████▎  | 36831/50000 [00:50<00:18, 731.52it/s]\n",
      "Repetition of Task:  74%|███████▍  | 36905/50000 [00:51<00:18, 706.63it/s]\n",
      "Repetition of Task:  74%|███████▍  | 36977/50000 [00:51<00:18, 708.55it/s]\n",
      "Repetition of Task:  74%|███████▍  | 37051/50000 [00:51<00:18, 715.71it/s]\n",
      "Repetition of Task:  74%|███████▍  | 37126/50000 [00:51<00:17, 725.57it/s]\n",
      "Repetition of Task:  74%|███████▍  | 37199/50000 [00:51<00:17, 722.59it/s]\n",
      "Repetition of Task:  75%|███████▍  | 37272/50000 [00:51<00:17, 722.73it/s]\n",
      "Repetition of Task:  75%|███████▍  | 37346/50000 [00:51<00:17, 723.47it/s]\n",
      "Repetition of Task:  75%|███████▍  | 37419/50000 [00:51<00:17, 714.85it/s]\n",
      "Repetition of Task:  75%|███████▍  | 37492/50000 [00:51<00:17, 719.24it/s]\n",
      "Repetition of Task:  75%|███████▌  | 37564/50000 [00:52<00:17, 719.46it/s]\n",
      "Repetition of Task:  75%|███████▌  | 37639/50000 [00:52<00:16, 728.35it/s]\n",
      "Repetition of Task:  75%|███████▌  | 37714/50000 [00:52<00:16, 732.66it/s]\n",
      "Repetition of Task:  76%|███████▌  | 37788/50000 [00:52<00:16, 734.74it/s]\n",
      "Repetition of Task:  76%|███████▌  | 37864/50000 [00:52<00:16, 740.08it/s]\n",
      "Repetition of Task:  76%|███████▌  | 37939/50000 [00:52<00:16, 743.02it/s]\n",
      "Repetition of Task:  76%|███████▌  | 38014/50000 [00:52<00:16, 742.89it/s]\n",
      "Repetition of Task:  76%|███████▌  | 38089/50000 [00:52<00:16, 725.55it/s]\n",
      "Repetition of Task:  76%|███████▋  | 38162/50000 [00:52<00:17, 683.97it/s]\n",
      "Repetition of Task:  76%|███████▋  | 38231/50000 [00:52<00:17, 658.29it/s]\n",
      "Repetition of Task:  77%|███████▋  | 38298/50000 [00:53<00:18, 644.51it/s]\n",
      "Repetition of Task:  77%|███████▋  | 38363/50000 [00:53<00:18, 640.42it/s]\n",
      "Repetition of Task:  77%|███████▋  | 38428/50000 [00:53<00:18, 630.17it/s]\n",
      "Repetition of Task:  77%|███████▋  | 38492/50000 [00:53<00:18, 631.27it/s]\n",
      "Repetition of Task:  77%|███████▋  | 38559/50000 [00:53<00:17, 642.34it/s]\n",
      "Repetition of Task:  77%|███████▋  | 38624/50000 [00:53<00:17, 644.62it/s]\n",
      "Repetition of Task:  77%|███████▋  | 38691/50000 [00:53<00:17, 648.32it/s]\n",
      "Repetition of Task:  78%|███████▊  | 38756/50000 [00:53<00:17, 643.05it/s]\n",
      "Repetition of Task:  78%|███████▊  | 38821/50000 [00:53<00:17, 630.04it/s]\n",
      "Repetition of Task:  78%|███████▊  | 38887/50000 [00:53<00:17, 635.12it/s]\n",
      "Repetition of Task:  78%|███████▊  | 38951/50000 [00:54<00:17, 636.51it/s]\n",
      "Repetition of Task:  78%|███████▊  | 39019/50000 [00:54<00:16, 647.10it/s]\n",
      "Repetition of Task:  78%|███████▊  | 39086/50000 [00:54<00:16, 651.96it/s]\n",
      "Repetition of Task:  78%|███████▊  | 39156/50000 [00:54<00:16, 665.60it/s]\n",
      "Repetition of Task:  78%|███████▊  | 39224/50000 [00:54<00:16, 667.95it/s]\n",
      "Repetition of Task:  79%|███████▊  | 39294/50000 [00:54<00:15, 677.18it/s]\n",
      "Repetition of Task:  79%|███████▊  | 39364/50000 [00:54<00:15, 677.99it/s]\n",
      "Repetition of Task:  79%|███████▉  | 39432/50000 [00:54<00:15, 678.52it/s]\n",
      "Repetition of Task:  79%|███████▉  | 39505/50000 [00:54<00:15, 691.22it/s]\n",
      "Repetition of Task:  79%|███████▉  | 39575/50000 [00:54<00:15, 691.77it/s]\n",
      "Repetition of Task:  79%|███████▉  | 39645/50000 [00:55<00:14, 692.14it/s]\n",
      "Repetition of Task:  79%|███████▉  | 39717/50000 [00:55<00:14, 698.23it/s]\n",
      "Repetition of Task:  80%|███████▉  | 39790/50000 [00:55<00:14, 705.43it/s]\n",
      "Repetition of Task:  80%|███████▉  | 39862/50000 [00:55<00:14, 709.74it/s]\n",
      "Repetition of Task:  80%|███████▉  | 39936/50000 [00:55<00:14, 716.47it/s]\n",
      "Repetition of Task:  80%|████████  | 40010/50000 [00:55<00:13, 721.27it/s]\n",
      "Repetition of Task:  80%|████████  | 40086/50000 [00:55<00:13, 730.42it/s]\n",
      "Repetition of Task:  80%|████████  | 40160/50000 [00:55<00:13, 733.19it/s]\n",
      "Repetition of Task:  80%|████████  | 40238/50000 [00:55<00:13, 746.62it/s]\n",
      "Repetition of Task:  81%|████████  | 40315/50000 [00:56<00:12, 753.48it/s]\n",
      "Repetition of Task:  81%|████████  | 40392/50000 [00:56<00:12, 756.14it/s]\n",
      "Repetition of Task:  81%|████████  | 40469/50000 [00:56<00:12, 758.00it/s]\n",
      "Repetition of Task:  81%|████████  | 40545/50000 [00:56<00:12, 747.41it/s]\n",
      "Repetition of Task:  81%|████████  | 40620/50000 [00:56<00:12, 745.96it/s]\n",
      "Repetition of Task:  81%|████████▏ | 40695/50000 [00:56<00:12, 744.94it/s]\n",
      "Repetition of Task:  82%|████████▏ | 40770/50000 [00:56<00:12, 744.23it/s]\n",
      "Repetition of Task:  82%|████████▏ | 40847/50000 [00:56<00:12, 747.47it/s]\n",
      "Repetition of Task:  82%|████████▏ | 40922/50000 [00:56<00:12, 743.68it/s]\n",
      "Repetition of Task:  82%|████████▏ | 40997/50000 [00:56<00:12, 738.96it/s]\n",
      "Repetition of Task:  82%|████████▏ | 41074/50000 [00:57<00:11, 748.01it/s]\n",
      "Repetition of Task:  82%|████████▏ | 41149/50000 [00:57<00:11, 744.15it/s]\n",
      "Repetition of Task:  82%|████████▏ | 41224/50000 [00:57<00:11, 743.68it/s]\n",
      "Repetition of Task:  83%|████████▎ | 41300/50000 [00:57<00:11, 748.50it/s]\n",
      "Repetition of Task:  83%|████████▎ | 41378/50000 [00:57<00:11, 757.65it/s]\n",
      "Repetition of Task:  83%|████████▎ | 41455/50000 [00:57<00:11, 759.08it/s]\n",
      "Repetition of Task:  83%|████████▎ | 41531/50000 [00:57<00:11, 737.27it/s]\n",
      "Repetition of Task:  83%|████████▎ | 41606/50000 [00:57<00:11, 736.67it/s]\n",
      "Repetition of Task:  83%|████████▎ | 41680/50000 [00:57<00:11, 735.47it/s]\n",
      "Repetition of Task:  84%|████████▎ | 41756/50000 [00:57<00:11, 740.46it/s]\n",
      "Repetition of Task:  84%|████████▎ | 41832/50000 [00:58<00:10, 744.05it/s]\n",
      "Repetition of Task:  84%|████████▍ | 41907/50000 [00:58<00:11, 716.01it/s]\n",
      "Repetition of Task:  84%|████████▍ | 41979/50000 [00:58<00:12, 667.33it/s]\n",
      "Repetition of Task:  84%|████████▍ | 42047/50000 [00:58<00:15, 526.20it/s]\n",
      "Repetition of Task:  84%|████████▍ | 42105/50000 [00:58<00:15, 504.54it/s]\n",
      "Repetition of Task:  84%|████████▍ | 42160/50000 [00:58<00:15, 500.42it/s]\n",
      "Repetition of Task:  84%|████████▍ | 42213/50000 [00:58<00:15, 498.88it/s]\n",
      "Repetition of Task:  85%|████████▍ | 42265/50000 [00:58<00:15, 497.78it/s]\n",
      "Repetition of Task:  85%|████████▍ | 42318/50000 [00:59<00:15, 504.14it/s]\n",
      "Repetition of Task:  85%|████████▍ | 42370/50000 [00:59<00:14, 508.80it/s]\n",
      "Repetition of Task:  85%|████████▍ | 42426/50000 [00:59<00:14, 523.14it/s]\n",
      "Repetition of Task:  85%|████████▍ | 42483/50000 [00:59<00:14, 534.85it/s]\n",
      "Repetition of Task:  85%|████████▌ | 42537/50000 [00:59<00:13, 534.79it/s]\n",
      "Repetition of Task:  85%|████████▌ | 42595/50000 [00:59<00:13, 547.56it/s]\n",
      "Repetition of Task:  85%|████████▌ | 42656/50000 [00:59<00:13, 561.83it/s]\n",
      "Repetition of Task:  85%|████████▌ | 42713/50000 [00:59<00:13, 551.10it/s]\n",
      "Repetition of Task:  86%|████████▌ | 42770/50000 [00:59<00:13, 553.40it/s]\n",
      "Repetition of Task:  86%|████████▌ | 42826/50000 [00:59<00:13, 548.88it/s]\n",
      "Repetition of Task:  86%|████████▌ | 42887/50000 [01:00<00:12, 564.28it/s]\n",
      "Repetition of Task:  86%|████████▌ | 42948/50000 [01:00<00:12, 577.24it/s]\n",
      "Repetition of Task:  86%|████████▌ | 43006/50000 [01:00<00:12, 561.29it/s]\n",
      "Repetition of Task:  86%|████████▌ | 43068/50000 [01:00<00:12, 576.16it/s]\n",
      "Repetition of Task:  86%|████████▋ | 43126/50000 [01:00<00:12, 570.45it/s]\n",
      "Repetition of Task:  86%|████████▋ | 43186/50000 [01:00<00:11, 575.65it/s]\n",
      "Repetition of Task:  86%|████████▋ | 43244/50000 [01:00<00:12, 530.99it/s]\n",
      "Repetition of Task:  87%|████████▋ | 43299/50000 [01:00<00:12, 531.93it/s]\n",
      "Repetition of Task:  87%|████████▋ | 43354/50000 [01:00<00:12, 535.67it/s]\n",
      "Repetition of Task:  87%|████████▋ | 43408/50000 [01:00<00:12, 527.51it/s]\n",
      "Repetition of Task:  87%|████████▋ | 43462/50000 [01:01<00:12, 528.03it/s]\n",
      "Repetition of Task:  87%|████████▋ | 43517/50000 [01:01<00:12, 534.43it/s]\n",
      "Repetition of Task:  87%|████████▋ | 43576/50000 [01:01<00:11, 546.91it/s]\n",
      "Repetition of Task:  87%|████████▋ | 43631/50000 [01:01<00:12, 494.62it/s]\n",
      "Repetition of Task:  87%|████████▋ | 43692/50000 [01:01<00:12, 523.08it/s]\n",
      "Repetition of Task:  87%|████████▋ | 43746/50000 [01:01<00:12, 515.93it/s]\n",
      "Repetition of Task:  88%|████████▊ | 43801/50000 [01:01<00:11, 525.65it/s]\n",
      "Repetition of Task:  88%|████████▊ | 43855/50000 [01:01<00:11, 528.32it/s]\n",
      "Repetition of Task:  88%|████████▊ | 43909/50000 [01:01<00:11, 530.21it/s]\n",
      "Repetition of Task:  88%|████████▊ | 43968/50000 [01:02<00:11, 546.83it/s]\n",
      "Repetition of Task:  88%|████████▊ | 44024/50000 [01:02<00:10, 549.10it/s]\n",
      "Repetition of Task:  88%|████████▊ | 44083/50000 [01:02<00:10, 559.15it/s]\n",
      "Repetition of Task:  88%|████████▊ | 44140/50000 [01:02<00:10, 555.85it/s]\n",
      "Repetition of Task:  88%|████████▊ | 44196/50000 [01:02<00:10, 552.09it/s]\n",
      "Repetition of Task:  89%|████████▊ | 44252/50000 [01:02<00:10, 551.18it/s]\n",
      "Repetition of Task:  89%|████████▊ | 44310/50000 [01:02<00:10, 557.94it/s]\n",
      "Repetition of Task:  89%|████████▊ | 44368/50000 [01:02<00:10, 562.74it/s]\n",
      "Repetition of Task:  89%|████████▉ | 44428/50000 [01:02<00:09, 571.74it/s]\n",
      "Repetition of Task:  89%|████████▉ | 44486/50000 [01:02<00:09, 564.19it/s]\n",
      "Repetition of Task:  89%|████████▉ | 44543/50000 [01:03<00:09, 555.92it/s]\n",
      "Repetition of Task:  89%|████████▉ | 44601/50000 [01:03<00:09, 562.93it/s]\n",
      "Repetition of Task:  89%|████████▉ | 44662/50000 [01:03<00:09, 574.65it/s]\n",
      "Repetition of Task:  89%|████████▉ | 44724/50000 [01:03<00:09, 584.28it/s]\n",
      "Repetition of Task:  90%|████████▉ | 44783/50000 [01:03<00:09, 573.94it/s]\n",
      "Repetition of Task:  90%|████████▉ | 44842/50000 [01:03<00:08, 575.35it/s]\n",
      "Repetition of Task:  90%|████████▉ | 44900/50000 [01:03<00:09, 559.98it/s]\n",
      "Repetition of Task:  90%|████████▉ | 44957/50000 [01:03<00:09, 554.73it/s]\n",
      "Repetition of Task:  90%|█████████ | 45018/50000 [01:03<00:08, 568.69it/s]\n",
      "Repetition of Task:  90%|█████████ | 45078/50000 [01:04<00:08, 577.66it/s]\n",
      "Repetition of Task:  90%|█████████ | 45139/50000 [01:04<00:08, 583.69it/s]\n",
      "Repetition of Task:  90%|█████████ | 45198/50000 [01:04<00:08, 566.95it/s]\n",
      "Repetition of Task:  91%|█████████ | 45255/50000 [01:04<00:08, 545.05it/s]\n",
      "Repetition of Task:  91%|█████████ | 45311/50000 [01:04<00:08, 546.29it/s]\n",
      "Repetition of Task:  91%|█████████ | 45366/50000 [01:04<00:08, 544.14it/s]\n",
      "Repetition of Task:  91%|█████████ | 45421/50000 [01:04<00:08, 533.19it/s]\n",
      "Repetition of Task:  91%|█████████ | 45475/50000 [01:04<00:08, 527.38it/s]\n",
      "Repetition of Task:  91%|█████████ | 45528/50000 [01:04<00:08, 521.92it/s]\n",
      "Repetition of Task:  91%|█████████ | 45581/50000 [01:04<00:09, 485.42it/s]\n",
      "Repetition of Task:  91%|█████████▏| 45636/50000 [01:05<00:08, 503.09it/s]\n",
      "Repetition of Task:  91%|█████████▏| 45694/50000 [01:05<00:08, 522.52it/s]\n",
      "Repetition of Task:  92%|█████████▏| 45752/50000 [01:05<00:07, 537.09it/s]\n",
      "Repetition of Task:  92%|█████████▏| 45807/50000 [01:05<00:08, 517.98it/s]\n",
      "Repetition of Task:  92%|█████████▏| 45860/50000 [01:05<00:07, 521.52it/s]\n",
      "Repetition of Task:  92%|█████████▏| 45913/50000 [01:05<00:07, 519.41it/s]\n",
      "Repetition of Task:  92%|█████████▏| 45967/50000 [01:05<00:07, 525.36it/s]\n",
      "Repetition of Task:  92%|█████████▏| 46020/50000 [01:05<00:07, 514.47it/s]\n",
      "Repetition of Task:  92%|█████████▏| 46076/50000 [01:05<00:07, 524.38it/s]\n",
      "Repetition of Task:  92%|█████████▏| 46130/50000 [01:06<00:07, 527.48it/s]\n",
      "Repetition of Task:  92%|█████████▏| 46189/50000 [01:06<00:07, 543.29it/s]\n",
      "Repetition of Task:  92%|█████████▏| 46244/50000 [01:06<00:07, 532.55it/s]\n",
      "Repetition of Task:  93%|█████████▎| 46298/50000 [01:06<00:06, 530.10it/s]\n",
      "Repetition of Task:  93%|█████████▎| 46354/50000 [01:06<00:06, 537.18it/s]\n",
      "Repetition of Task:  93%|█████████▎| 46408/50000 [01:06<00:06, 530.10it/s]\n",
      "Repetition of Task:  93%|█████████▎| 46467/50000 [01:06<00:06, 545.19it/s]\n",
      "Repetition of Task:  93%|█████████▎| 46526/50000 [01:06<00:06, 556.38it/s]\n",
      "Repetition of Task:  93%|█████████▎| 46582/50000 [01:06<00:06, 538.12it/s]\n",
      "Repetition of Task:  93%|█████████▎| 46645/50000 [01:06<00:05, 561.28it/s]\n",
      "Repetition of Task:  93%|█████████▎| 46703/50000 [01:07<00:05, 566.77it/s]\n",
      "Repetition of Task:  94%|█████████▎| 46765/50000 [01:07<00:05, 581.71it/s]\n",
      "Repetition of Task:  94%|█████████▎| 46826/50000 [01:07<00:05, 586.57it/s]\n",
      "Repetition of Task:  94%|█████████▍| 46885/50000 [01:07<00:05, 567.19it/s]\n",
      "Repetition of Task:  94%|█████████▍| 46943/50000 [01:07<00:05, 567.68it/s]\n",
      "Repetition of Task:  94%|█████████▍| 47006/50000 [01:07<00:05, 581.81it/s]\n",
      "Repetition of Task:  94%|█████████▍| 47067/50000 [01:07<00:04, 588.22it/s]\n",
      "Repetition of Task:  94%|█████████▍| 47127/50000 [01:07<00:04, 581.44it/s]\n",
      "Repetition of Task:  94%|█████████▍| 47188/50000 [01:07<00:04, 589.66it/s]\n",
      "Repetition of Task:  94%|█████████▍| 47249/50000 [01:07<00:04, 593.95it/s]\n",
      "Repetition of Task:  95%|█████████▍| 47309/50000 [01:08<00:04, 593.91it/s]\n",
      "Repetition of Task:  95%|█████████▍| 47369/50000 [01:08<00:04, 592.25it/s]\n",
      "Repetition of Task:  95%|█████████▍| 47429/50000 [01:08<00:04, 592.74it/s]\n",
      "Repetition of Task:  95%|█████████▍| 47489/50000 [01:08<00:04, 589.70it/s]\n",
      "Repetition of Task:  95%|█████████▌| 47550/50000 [01:08<00:04, 593.85it/s]\n",
      "Repetition of Task:  95%|█████████▌| 47610/50000 [01:08<00:04, 552.92it/s]\n",
      "Repetition of Task:  95%|█████████▌| 47666/50000 [01:08<00:04, 523.86it/s]\n",
      "Repetition of Task:  95%|█████████▌| 47720/50000 [01:08<00:04, 503.47it/s]\n",
      "Repetition of Task:  96%|█████████▌| 47772/50000 [01:08<00:04, 485.53it/s]\n",
      "Repetition of Task:  96%|█████████▌| 47824/50000 [01:09<00:04, 492.52it/s]\n",
      "Repetition of Task:  96%|█████████▌| 47880/50000 [01:09<00:04, 509.65it/s]\n",
      "Repetition of Task:  96%|█████████▌| 47935/50000 [01:09<00:03, 519.64it/s]\n",
      "Repetition of Task:  96%|█████████▌| 47992/50000 [01:09<00:03, 529.28it/s]\n",
      "Repetition of Task:  96%|█████████▌| 48046/50000 [01:09<00:03, 494.47it/s]\n",
      "Repetition of Task:  96%|█████████▌| 48097/50000 [01:09<00:03, 488.98it/s]\n",
      "Repetition of Task:  96%|█████████▋| 48151/50000 [01:09<00:03, 503.19it/s]\n",
      "Repetition of Task:  96%|█████████▋| 48205/50000 [01:09<00:03, 512.23it/s]\n",
      "Repetition of Task:  97%|█████████▋| 48257/50000 [01:09<00:03, 511.57it/s]\n",
      "Repetition of Task:  97%|█████████▋| 48313/50000 [01:09<00:03, 525.13it/s]\n",
      "Repetition of Task:  97%|█████████▋| 48371/50000 [01:10<00:03, 538.95it/s]\n",
      "Repetition of Task:  97%|█████████▋| 48426/50000 [01:10<00:02, 529.70it/s]\n",
      "Repetition of Task:  97%|█████████▋| 48481/50000 [01:10<00:02, 532.52it/s]\n",
      "Repetition of Task:  97%|█████████▋| 48540/50000 [01:10<00:02, 548.55it/s]\n",
      "Repetition of Task:  97%|█████████▋| 48600/50000 [01:10<00:02, 561.46it/s]\n",
      "Repetition of Task:  97%|█████████▋| 48661/50000 [01:10<00:02, 575.19it/s]\n",
      "Repetition of Task:  97%|█████████▋| 48719/50000 [01:10<00:02, 573.21it/s]\n",
      "Repetition of Task:  98%|█████████▊| 48777/50000 [01:10<00:02, 573.52it/s]\n",
      "Repetition of Task:  98%|█████████▊| 48838/50000 [01:10<00:02, 580.66it/s]\n",
      "Repetition of Task:  98%|█████████▊| 48897/50000 [01:11<00:01, 563.42it/s]\n",
      "Repetition of Task:  98%|█████████▊| 48958/50000 [01:11<00:01, 576.59it/s]\n",
      "Repetition of Task:  98%|█████████▊| 49017/50000 [01:11<00:01, 580.54it/s]\n",
      "Repetition of Task:  98%|█████████▊| 49076/50000 [01:11<00:01, 564.92it/s]\n",
      "Repetition of Task:  98%|█████████▊| 49139/50000 [01:11<00:01, 582.98it/s]\n",
      "Repetition of Task:  98%|█████████▊| 49198/50000 [01:11<00:01, 583.35it/s]\n",
      "Repetition of Task:  99%|█████████▊| 49257/50000 [01:11<00:01, 575.04it/s]\n",
      "Repetition of Task:  99%|█████████▊| 49320/50000 [01:11<00:01, 590.49it/s]\n",
      "Repetition of Task:  99%|█████████▉| 49380/50000 [01:11<00:01, 576.28it/s]\n",
      "Repetition of Task:  99%|█████████▉| 49438/50000 [01:11<00:00, 563.87it/s]\n",
      "Repetition of Task:  99%|█████████▉| 49497/50000 [01:12<00:00, 569.86it/s]\n",
      "Repetition of Task:  99%|█████████▉| 49557/50000 [01:12<00:00, 578.52it/s]\n",
      "Repetition of Task:  99%|█████████▉| 49621/50000 [01:12<00:00, 594.03it/s]\n",
      "Repetition of Task:  99%|█████████▉| 49681/50000 [01:12<00:00, 557.66it/s]\n",
      "Repetition of Task:  99%|█████████▉| 49739/50000 [01:12<00:00, 564.12it/s]\n",
      "Repetition of Task: 100%|█████████▉| 49802/50000 [01:12<00:00, 580.78it/s]\n",
      "Repetition of Task: 100%|█████████▉| 49865/50000 [01:12<00:00, 593.03it/s]\n",
      "Repetition of Task: 100%|█████████▉| 49928/50000 [01:12<00:00, 600.21it/s]\n",
      "Repetition of Task: 100%|█████████▉| 49990/50000 [01:12<00:00, 602.49it/s]\n",
      "Repetition of Task: 100%|██████████| 50000/50000 [01:12<00:00, 685.73it/s]\n"
     ]
    }
   ],
   "source": [
    "!dvc run --force --always-changed -n extract_top_norms -w .. -d data/posterior.pickle -d data/env.pickle -d metrics/chain_posteriors.csv -p colour_specific,shape_specific,target_area,true_norm -o data/top_norms.pickle -o metrics/precision_recall.txt python scripts/extract_top_norms.py"
   ]
  },
  {
   "cell_type": "markdown",
   "metadata": {
    "cell_id": "00016-e6a05927-4c08-40ea-91ef-0c7ff83c07d7",
    "tags": []
   },
   "source": [
    "### Check log likelihood of observation set given top norm"
   ]
  },
  {
   "cell_type": "code",
   "execution_count": 31,
   "metadata": {
    "cell_id": "00017-24a005d3-c943-41d5-b8c0-0b660d1e9a3d",
    "output_cleared": false,
    "tags": []
   },
   "outputs": [
    {
     "output_type": "stream",
     "name": "stdout",
     "text": [
      "Running stage 'test_obs_log_likelihood2' with command:\n\tpython scripts/test_obs_likelihood.py top\nLog likelihood of observations given top norm.: -12694.183534230084\n\nModifying stage 'test_obs_log_likelihood2' in 'dvc.yaml'\nUpdating lock file 'dvc.lock'\n\nTo track the changes with git, run:\n\n\tgit add dvc.yaml dvc.lock\n"
     ]
    }
   ],
   "source": [
    "!dvc run --force --always-changed -n test_obs_log_likelihood2 -w .. -d data/observations.pickle -d data/env.pickle -d data/top_norms.pickle python scripts/test_obs_likelihood.py top"
   ]
  },
  {
   "cell_type": "code",
   "execution_count": null,
   "metadata": {},
   "outputs": [],
   "source": []
  }
 ],
 "metadata": {
  "deepnote_execution_queue": [
   {
    "cellId": "00005-bc971935-b212-471d-bce0-fd808b7f5362",
    "msgId": "0870c9e3-9129-4671-9e1c-6113f6917369",
    "sessionId": "e2119be1-f54a-4aa0-af1b-5bc9e0017fe7"
   }
  ],
  "deepnote_notebook_id": "406a8cf2-c2ac-4fed-9966-dbc145e270e1",
  "kernelspec": {
   "name": "Python 3.8.2 32-bit ('env')",
   "display_name": "Python 3.8.2 32-bit ('env')",
   "metadata": {
    "interpreter": {
     "hash": "3caac4adb4e1f493f0617992483e3f4fe96c197b68af4c11de32cc1dac6ab887"
    }
   }
  }
 },
 "nbformat": 4,
 "nbformat_minor": 2
}