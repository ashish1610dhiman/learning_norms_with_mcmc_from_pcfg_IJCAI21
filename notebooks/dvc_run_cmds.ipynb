!ls ~
!dvc run -n gen_env -p true_norm python ~/scripts/gen_env.py