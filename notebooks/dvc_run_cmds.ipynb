{
 "cells": [
  {
   "cell_type": "markdown",
   "metadata": {
    "cell_id": "00000-324fab5f-e3f7-4509-9db3-4cb39ad78405",
    "tags": []
   },
   "source": [
    "### Generate an environment\n",
    "Currently, this just copies data/default_env.pickle into data/env.pickle.\n",
    "\n",
    "**To do**: Add a DVC parameter such as `env_name` and if this isn't set to \"default\" then generate a new environment."
   ]
  },
  {
   "cell_type": "code",
   "execution_count": 1,
   "metadata": {
    "cell_id": "00000-f93b8b1f-e4bb-466f-90c7-157e541575cf",
    "output_cleared": false,
    "tags": []
   },
   "outputs": [
    {
     "name": "stdout",
     "output_type": "stream",
     "text": [
      "\u001b[31mERROR\u001b[39m: failed to reproduce 'dvc.yaml': dependency '../data/default_env.pickle' does not exist\n",
      "\u001b[0m"
     ]
    }
   ],
   "source": [
    "!dvc repro -s gen_env"
   ]
  },
  {
   "cell_type": "markdown",
   "metadata": {
    "cell_id": "00002-7cc61989-19bc-43aa-88f6-f7645aa81b6c",
    "tags": []
   },
   "source": [
    "### Generate observations\n",
    "Currently this checks the values of the parameters `target_area`, `true_norm`, `num_observations` and `obs_data_set`. If they are equal to the settings of the observations in data/default_observations.pickle (and `obs_data_set` has value 1), then that file is copied into data/observations.pickle.\n",
    "\n",
    "**To do**: Generate a new set of observations if the parameter settings don't match the default one, or `obs_data_set` is not 1.\n"
   ]
  },
  {
   "cell_type": "code",
   "execution_count": null,
   "metadata": {
    "cell_id": "00001-16c1e51c-254a-43f2-86a9-f1eb33ff7515",
    "output_cleared": false,
    "tags": [
     "outputPrepend"
    ]
   },
   "outputs": [],
   "source": [
    "!dvc repro -s gen_observations"
   ]
  },
  {
   "cell_type": "markdown",
   "metadata": {
    "cell_id": "00004-74dff12b-6246-4713-9d11-ac00f81ca12d",
    "tags": []
   },
   "source": [
    "### Check log likelihood of observation set given no norm and true norm"
   ]
  },
  {
   "cell_type": "code",
   "execution_count": null,
   "metadata": {
    "cell_id": "00005-9fe496a2-bccc-4a58-889e-3f50ce6c84f0",
    "output_cleared": false,
    "tags": []
   },
   "outputs": [],
   "source": [
    "!dvc repro -s test_obs_log_likelihood1"
   ]
  },
  {
   "cell_type": "markdown",
   "metadata": {
    "cell_id": "00004-e450e354-b0f6-4be5-bf60-55c1e89b36d3",
    "tags": []
   },
   "source": [
    "### Generate MCMC chains\n",
    "Creates data/chains_and_log_posteriors.pickle. Also metrics/starts_info.txt, but that is not currently recorded in the \"dvc run\" command below."
   ]
  },
  {
   "cell_type": "code",
   "execution_count": null,
   "metadata": {
    "allow_embed": false,
    "cell_id": "00002-a888c5f1-50c2-4f53-911d-e56e17413bf5",
    "output_cleared": false,
    "tags": []
   },
   "outputs": [],
   "source": [
    "!dvc repro -s gen_mcmc_chains"
   ]
  },
  {
   "cell_type": "markdown",
   "metadata": {
    "cell_id": "00006-f3d1a0ff-4505-4109-bb09-6f1a37676a60",
    "tags": []
   },
   "source": [
    "### Analyse the chains\n",
    "Generate file metrics/chain_posteriors.csv and append more information to metrics/chain_info.txt (note: DVC may not handle changing a file very well - perhaps a separate file should be created)."
   ]
  },
  {
   "cell_type": "code",
   "execution_count": null,
   "metadata": {
    "cell_id": "00003-e14a9d99-8f7b-43c9-b9cd-1a1a54f123b0",
    "output_cleared": false,
    "tags": [
     "outputPrepend"
    ]
   },
   "outputs": [],
   "source": [
    "!dvc repro -s analyse_chains"
   ]
  },
  {
   "cell_type": "markdown",
   "metadata": {
    "cell_id": "00008-b6e9f15d-9983-4607-9c11-5f3c30b75fde",
    "tags": []
   },
   "source": [
    "### Generate a plot showing norms ordered by likelihood (or now posterior prob.?)\n",
    "The file plots.html is generated in the root folder, based on data in metrics/chain_posteriors.csv"
   ]
  },
  {
   "cell_type": "code",
   "execution_count": null,
   "metadata": {
    "cell_id": "00004-8dfebf1c-ed1c-4abf-933c-d5855e0bda14",
    "output_cleared": false,
    "tags": []
   },
   "outputs": [],
   "source": [
    "from pathlib import Path\n",
    "metrics_path = Path('metrics/chain_posteriors.csv') # Get OS-appropriate path separator \n",
    "!dvc --cd .. plots show -t plots/norm_exp_histogram.json $metrics_path"
   ]
  },
  {
   "cell_type": "markdown",
   "metadata": {
    "cell_id": "00010-2b350a37-8c93-4bbe-9f6e-62dbcb503907",
    "tags": []
   },
   "source": [
    "### Perform a convergence test to compute $\\hat{R}$\n",
    "The result is written to metrics/conv_test.txt. Also, the posterior sample (after discarding initial warm-up segments of chains and combining the remains) is writen to data/posterior.pickle. \n"
   ]
  },
  {
   "cell_type": "code",
   "execution_count": null,
   "metadata": {
    "cell_id": "00004-de24100b-aa90-45d8-9951-e740220ab08e",
    "output_cleared": false,
    "tags": []
   },
   "outputs": [],
   "source": [
    "!dvc repro -s conv_test"
   ]
  },
  {
   "cell_type": "markdown",
   "metadata": {
    "cell_id": "00012-00464624-daf9-430c-bfcd-ef140ce0659b",
    "tags": []
   },
   "source": [
    "### Extract the top norms and compute precision and recall\n",
    "The results are written to metrics/precision_recall.txt.\n"
   ]
  },
  {
   "cell_type": "code",
   "execution_count": null,
   "metadata": {
    "allow_embed": false,
    "cell_id": "00005-bc971935-b212-471d-bce0-fd808b7f5362",
    "output_cleared": false,
    "tags": [
     "outputPrepend"
    ]
   },
   "outputs": [],
   "source": [
    "!dvc repro -s extract_top_norms"
   ]
  },
  {
   "cell_type": "markdown",
   "metadata": {
    "cell_id": "00016-e6a05927-4c08-40ea-91ef-0c7ff83c07d7",
    "tags": []
   },
   "source": [
    "### Check log likelihood of observation set given top norm"
   ]
  },
  {
   "cell_type": "code",
   "execution_count": null,
   "metadata": {
    "cell_id": "00017-24a005d3-c943-41d5-b8c0-0b660d1e9a3d",
    "output_cleared": false,
    "tags": []
   },
   "outputs": [],
   "source": [
    "!dvc repro -s test_obs_log_likelihood2"
   ]
  },
  {
   "cell_type": "code",
   "execution_count": null,
   "metadata": {},
   "outputs": [],
   "source": []
  }
 ],
 "metadata": {
  "deepnote_execution_queue": [
   {
    "cellId": "00005-bc971935-b212-471d-bce0-fd808b7f5362",
    "msgId": "0870c9e3-9129-4671-9e1c-6113f6917369",
    "sessionId": "e2119be1-f54a-4aa0-af1b-5bc9e0017fe7"
   }
  ],
  "deepnote_notebook_id": "406a8cf2-c2ac-4fed-9966-dbc145e270e1",
  "kernelspec": {
   "display_name": "venv",
   "language": "python",
   "name": "venv"
  },
  "language_info": {
   "codemirror_mode": {
    "name": "ipython",
    "version": 3
   },
   "file_extension": ".py",
   "mimetype": "text/x-python",
   "name": "python",
   "nbconvert_exporter": "python",
   "pygments_lexer": "ipython3",
   "version": "3.8.2"
  }
 },
 "nbformat": 4,
 "nbformat_minor": 2
}
