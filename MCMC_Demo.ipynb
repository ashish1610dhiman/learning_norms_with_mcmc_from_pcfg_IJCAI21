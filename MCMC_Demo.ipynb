{
 "cells": [
  {
   "cell_type": "markdown",
   "metadata": {},
   "source": [
    "### Notebook to illustrate MCMC sampling of Norms from pre-defined PCFGs\n",
    "\n",
    " *There are  the 5 main sections :*  \n",
    " **1. Initialising Environment and True Expression**  \n",
    " **2. Create Action Data on environment while performing randomised tasks**  \n",
    " **3. Run MCMC Algorithms to learn expressions from the data created earlier**  \n",
    " **4. Test  the performance of MCMC Algorithm by calculating Preciscion and Recall of Learned Norms**  \n",
    " **5. Test the convergence of MCMC algorithm**  "
   ]
  },
  {
   "cell_type": "code",
   "execution_count": 1,
   "metadata": {},
   "outputs": [],
   "source": [
    "#Import the different modules required\n",
    "from environment import *\n",
    "from rules_4 import *\n",
    "from robot_task_new import *\n",
    "from algorithm_1_v4 import create_data,algorithm_1,to_tuple\n",
    "from mcmc_performance import performance\n",
    "from mcmc_convergence import prepare_sequences,calculate_R\n",
    "\n",
    "import matplotlib.pyplot as plt\n",
    "from collections import Counter\n",
    "import pickle\n",
    "import time\n",
    "import seaborn as sns\n",
    "import os\n",
    "import sys\n",
    "from tqdm import tnrange, tqdm_notebook\n"
   ]
  },
  {
   "cell_type": "markdown",
   "metadata": {},
   "source": [
    "### 1. Initialising Environment and True Expression\n",
    "* *Environment can be initialisaed with any number of objects (default=20) and a seed value can also be fed.*\n",
    "* *Expression refers to Norms initialised from the PCFG, True Expression means the eexpression used to create data which if further used to learn norms from MCMC.*\n"
   ]
  },
  {
   "cell_type": "code",
   "execution_count": 10,
   "metadata": {},
   "outputs": [
    {
     "name": "stdout",
     "output_type": "stream",
     "text": "[6, 9, 26, 29]\n"
    },
    {
     "data": {
      "image/png": "[encoded data removed]",
      "image/svg+xml": "<?xml version=\"1.0\" encoding=\"utf-8\" standalone=\"no\"?>\r\n<!DOCTYPE svg PUBLIC \"-//W3C//DTD SVG 1.1//EN\"\r\n  \"http://www.w3.org/Graphics/SVG/1.1/DTD/svg11.dtd\">\r\n<!-- Created with matplotlib (https://matplotlib.org/) -->\r\n<svg height=\"399.749875pt\" version=\"1.1\" viewBox=\"0 0 512.401562 399.749875\" width=\"512.401562pt\" xmlns=\"http://www.w3.org/2000/svg\" xmlns:xlink=\"http://www.w3.org/1999/xlink\">\r\n <defs>\r\n  <style type=\"text/css\">\r\n*{stroke-linecap:butt;stroke-linejoin:round;}\r\n  </style>\r\n </defs>\r\n <g id=\"figure_1\">\r\n  <g id=\"patch_1\">\r\n   <path d=\"M 0 399.749875 \r\nL 512.401562 399.749875 \r\nL 512.401562 0 \r\nL 0 0 \r\nz\r\n\" style=\"fill:none;\"/>\r\n  </g>\r\n  <g id=\"axes_1\">\r\n   <g id=\"patch_2\">\r\n    <path d=\"M 58.801563 361.9155 \r\nL 505.201562 361.9155 \r\nL 505.201562 35.7555 \r\nL 58.801563 35.7555 \r\nz\r\n\" style=\"fill:#ffffff;\"/>\r\n   </g>\r\n   <g id=\"PathCollection_1\">\r\n    <defs>\r\n     <path d=\"M -0 3 \r\nL 3 -3 \r\nL -3 -3 \r\nz\r\n\" id=\"m37deb2fe9f\" style=\"stroke:#008000;\"/>\r\n    </defs>\r\n    <g clip-path=\"url(#p795aae9c03)\">\r\n     <use style=\"fill:#008000;stroke:#008000;\" x=\"312.437926\" xlink:href=\"#m37deb2fe9f\" y=\"157.324227\"/>\r\n    </g>\r\n   </g>\r\n   <g id=\"PathCollection_2\">\r\n    <defs>\r\n     <path d=\"M -0 3 \r\nL 3 -3 \r\nL -3 -3 \r\nz\r\n\" id=\"md673bad736\" style=\"stroke:#ff0000;\"/>\r\n    </defs>\r\n    <g clip-path=\"url(#p795aae9c03)\">\r\n     <use style=\"fill:#ff0000;stroke:#ff0000;\" x=\"95.325199\" xlink:href=\"#md673bad736\" y=\"256.654773\"/>\r\n    </g>\r\n   </g>\r\n   <g id=\"PathCollection_3\">\r\n    <defs>\r\n     <path d=\"M 0 3 \r\nC 0.795609 3 1.55874 2.683901 2.12132 2.12132 \r\nC 2.683901 1.55874 3 0.795609 3 0 \r\nC 3 -0.795609 2.683901 -1.55874 2.12132 -2.12132 \r\nC 1.55874 -2.683901 0.795609 -3 0 -3 \r\nC -0.795609 -3 -1.55874 -2.683901 -2.12132 -2.12132 \r\nC -2.683901 -1.55874 -3 -0.795609 -3 0 \r\nC -3 0.795609 -2.683901 1.55874 -2.12132 2.12132 \r\nC -1.55874 2.683901 -0.795609 3 0 3 \r\nz\r\n\" id=\"m2dcc763fd9\" style=\"stroke:#0000ff;\"/>\r\n    </defs>\r\n    <g clip-path=\"url(#p795aae9c03)\">\r\n     <use style=\"fill:#0000ff;stroke:#0000ff;\" x=\"415.921562\" xlink:href=\"#m2dcc763fd9\" y=\"164.736955\"/>\r\n    </g>\r\n   </g>\r\n   <g id=\"PathCollection_4\">\r\n    <g clip-path=\"url(#p795aae9c03)\">\r\n     <use style=\"fill:#0000ff;stroke:#0000ff;\" x=\"135.907017\" xlink:href=\"#m2dcc763fd9\" y=\"123.225682\"/>\r\n    </g>\r\n   </g>\r\n   <g id=\"PathCollection_5\">\r\n    <defs>\r\n     <path d=\"M 0 3 \r\nC 0.795609 3 1.55874 2.683901 2.12132 2.12132 \r\nC 2.683901 1.55874 3 0.795609 3 0 \r\nC 3 -0.795609 2.683901 -1.55874 2.12132 -2.12132 \r\nC 1.55874 -2.683901 0.795609 -3 0 -3 \r\nC -0.795609 -3 -1.55874 -2.683901 -2.12132 -2.12132 \r\nC -2.683901 -1.55874 -3 -0.795609 -3 0 \r\nC -3 0.795609 -2.683901 1.55874 -2.12132 2.12132 \r\nC -1.55874 2.683901 -0.795609 3 0 3 \r\nz\r\n\" id=\"m6776332499\" style=\"stroke:#ff0000;\"/>\r\n    </defs>\r\n    <g clip-path=\"url(#p795aae9c03)\">\r\n     <use style=\"fill:#ff0000;stroke:#ff0000;\" x=\"156.197926\" xlink:href=\"#m6776332499\" y=\"138.051136\"/>\r\n    </g>\r\n   </g>\r\n   <g id=\"PathCollection_6\">\r\n    <g clip-path=\"url(#p795aae9c03)\">\r\n     <use style=\"fill:#008000;stroke:#008000;\" x=\"312.437926\" xlink:href=\"#m37deb2fe9f\" y=\"90.609682\"/>\r\n    </g>\r\n   </g>\r\n   <g id=\"PathCollection_7\">\r\n    <defs>\r\n     <path d=\"M -3 3 \r\nL 3 3 \r\nL 3 -3 \r\nL -3 -3 \r\nz\r\n\" id=\"ma9176678af\" style=\"stroke:#0000ff;\"/>\r\n    </defs>\r\n    <g clip-path=\"url(#p795aae9c03)\">\r\n     <use style=\"fill:#0000ff;stroke:#0000ff;\" x=\"454.47429\" xlink:href=\"#ma9176678af\" y=\"185.492591\"/>\r\n    </g>\r\n   </g>\r\n   <g id=\"PathCollection_8\">\r\n    <g clip-path=\"url(#p795aae9c03)\">\r\n     <use style=\"fill:#0000ff;stroke:#0000ff;\" x=\"344.903381\" xlink:href=\"#m2dcc763fd9\" y=\"118.778045\"/>\r\n    </g>\r\n   </g>\r\n   <g id=\"PathCollection_9\">\r\n    <g clip-path=\"url(#p795aae9c03)\">\r\n     <use style=\"fill:#008000;stroke:#008000;\" x=\"158.227017\" xlink:href=\"#m37deb2fe9f\" y=\"72.819136\"/>\r\n    </g>\r\n   </g>\r\n   <g id=\"PathCollection_10\">\r\n    <defs>\r\n     <path d=\"M -3 3 \r\nL 3 3 \r\nL 3 -3 \r\nL -3 -3 \r\nz\r\n\" id=\"m4495cc2fed\" style=\"stroke:#ff0000;\"/>\r\n    </defs>\r\n    <g clip-path=\"url(#p795aae9c03)\">\r\n     <use style=\"fill:#ff0000;stroke:#ff0000;\" x=\"87.208835\" xlink:href=\"#m4495cc2fed\" y=\"332.264591\"/>\r\n    </g>\r\n   </g>\r\n   <g id=\"PathCollection_11\">\r\n    <g clip-path=\"url(#p795aae9c03)\">\r\n     <use style=\"fill:#008000;stroke:#008000;\" x=\"316.496108\" xlink:href=\"#m37deb2fe9f\" y=\"296.6835\"/>\r\n    </g>\r\n   </g>\r\n   <g id=\"PathCollection_12\">\r\n    <g clip-path=\"url(#p795aae9c03)\">\r\n     <use style=\"fill:#ff0000;stroke:#ff0000;\" x=\"387.51429\" xlink:href=\"#md673bad736\" y=\"281.858045\"/>\r\n    </g>\r\n   </g>\r\n   <g id=\"PathCollection_13\">\r\n    <g clip-path=\"url(#p795aae9c03)\">\r\n     <use style=\"fill:#0000ff;stroke:#0000ff;\" x=\"373.310653\" xlink:href=\"#m2dcc763fd9\" y=\"155.841682\"/>\r\n    </g>\r\n   </g>\r\n   <g id=\"PathCollection_14\">\r\n    <g clip-path=\"url(#p795aae9c03)\">\r\n     <use style=\"fill:#ff0000;stroke:#ff0000;\" x=\"290.117926\" xlink:href=\"#m6776332499\" y=\"185.492591\"/>\r\n    </g>\r\n   </g>\r\n   <g id=\"PathCollection_15\">\r\n    <g clip-path=\"url(#p795aae9c03)\">\r\n     <use style=\"fill:#ff0000;stroke:#ff0000;\" x=\"196.779744\" xlink:href=\"#m6776332499\" y=\"326.334409\"/>\r\n    </g>\r\n   </g>\r\n   <g id=\"PathCollection_16\">\r\n    <defs>\r\n     <path d=\"M -0 3 \r\nL 3 -3 \r\nL -3 -3 \r\nz\r\n\" id=\"mcd99289985\" style=\"stroke:#0000ff;\"/>\r\n    </defs>\r\n    <g clip-path=\"url(#p795aae9c03)\">\r\n     <use style=\"fill:#0000ff;stroke:#0000ff;\" x=\"340.845199\" xlink:href=\"#mcd99289985\" y=\"317.439136\"/>\r\n    </g>\r\n   </g>\r\n   <g id=\"PathCollection_17\">\r\n    <g clip-path=\"url(#p795aae9c03)\">\r\n     <use style=\"fill:#008000;stroke:#008000;\" x=\"326.641562\" xlink:href=\"#m37deb2fe9f\" y=\"143.981318\"/>\r\n    </g>\r\n   </g>\r\n   <g id=\"PathCollection_18\">\r\n    <g clip-path=\"url(#p795aae9c03)\">\r\n     <use style=\"fill:#0000ff;stroke:#0000ff;\" x=\"436.212472\" xlink:href=\"#mcd99289985\" y=\"292.235864\"/>\r\n    </g>\r\n   </g>\r\n   <g id=\"PathCollection_19\">\r\n    <defs>\r\n     <path d=\"M 0 3 \r\nC 0.795609 3 1.55874 2.683901 2.12132 2.12132 \r\nC 2.683901 1.55874 3 0.795609 3 0 \r\nC 3 -0.795609 2.683901 -1.55874 2.12132 -2.12132 \r\nC 1.55874 -2.683901 0.795609 -3 0 -3 \r\nC -0.795609 -3 -1.55874 -2.683901 -2.12132 -2.12132 \r\nC -2.683901 -1.55874 -3 -0.795609 -3 0 \r\nC -3 0.795609 -2.683901 1.55874 -2.12132 2.12132 \r\nC -1.55874 2.683901 -0.795609 3 0 3 \r\nz\r\n\" id=\"m470df6756d\" style=\"stroke:#008000;\"/>\r\n    </defs>\r\n    <g clip-path=\"url(#p795aae9c03)\">\r\n     <use style=\"fill:#008000;stroke:#008000;\" x=\"478.823381\" xlink:href=\"#m470df6756d\" y=\"265.550045\"/>\r\n    </g>\r\n   </g>\r\n   <g id=\"PathCollection_20\">\r\n    <g clip-path=\"url(#p795aae9c03)\">\r\n     <use style=\"fill:#0000ff;stroke:#0000ff;\" x=\"97.35429\" xlink:href=\"#ma9176678af\" y=\"170.667136\"/>\r\n    </g>\r\n   </g>\r\n   <g id=\"PathCollection_21\">\r\n    <g clip-path=\"url(#p795aae9c03)\">\r\n     <use style=\"fill:#008000;stroke:#008000;\" x=\"468.677926\" xlink:href=\"#m37deb2fe9f\" y=\"329.2995\"/>\r\n    </g>\r\n   </g>\r\n   <g id=\"PathCollection_22\">\r\n    <g clip-path=\"url(#p795aae9c03)\">\r\n     <use style=\"fill:#ff0000;stroke:#ff0000;\" x=\"302.292472\" xlink:href=\"#m6776332499\" y=\"330.782045\"/>\r\n    </g>\r\n   </g>\r\n   <g id=\"PathCollection_23\">\r\n    <g clip-path=\"url(#p795aae9c03)\">\r\n     <use style=\"fill:#ff0000;stroke:#ff0000;\" x=\"217.070653\" xlink:href=\"#m4495cc2fed\" y=\"256.654773\"/>\r\n    </g>\r\n   </g>\r\n   <g id=\"PathCollection_24\">\r\n    <g clip-path=\"url(#p795aae9c03)\">\r\n     <use style=\"fill:#008000;stroke:#008000;\" x=\"279.972472\" xlink:href=\"#m37deb2fe9f\" y=\"283.340591\"/>\r\n    </g>\r\n   </g>\r\n   <g id=\"PathCollection_25\">\r\n    <g clip-path=\"url(#p795aae9c03)\">\r\n     <use style=\"fill:#008000;stroke:#008000;\" x=\"180.547017\" xlink:href=\"#m37deb2fe9f\" y=\"149.9115\"/>\r\n    </g>\r\n   </g>\r\n   <g id=\"PathCollection_26\">\r\n    <g clip-path=\"url(#p795aae9c03)\">\r\n     <use style=\"fill:#0000ff;stroke:#0000ff;\" x=\"225.187017\" xlink:href=\"#mcd99289985\" y=\"84.6795\"/>\r\n    </g>\r\n   </g>\r\n   <g id=\"PathCollection_27\">\r\n    <g clip-path=\"url(#p795aae9c03)\">\r\n     <use style=\"fill:#008000;stroke:#008000;\" x=\"346.932472\" xlink:href=\"#m37deb2fe9f\" y=\"255.172227\"/>\r\n    </g>\r\n   </g>\r\n   <g id=\"PathCollection_28\">\r\n    <g clip-path=\"url(#p795aae9c03)\">\r\n     <use style=\"fill:#0000ff;stroke:#0000ff;\" x=\"434.183381\" xlink:href=\"#m2dcc763fd9\" y=\"203.283136\"/>\r\n    </g>\r\n   </g>\r\n   <g id=\"PathCollection_29\">\r\n    <g clip-path=\"url(#p795aae9c03)\">\r\n     <use style=\"fill:#0000ff;stroke:#0000ff;\" x=\"215.041562\" xlink:href=\"#ma9176678af\" y=\"65.406409\"/>\r\n    </g>\r\n   </g>\r\n   <g id=\"PathCollection_30\">\r\n    <defs>\r\n     <path d=\"M -3 3 \r\nL 3 3 \r\nL 3 -3 \r\nL -3 -3 \r\nz\r\n\" id=\"mbe7b7a8201\" style=\"stroke:#008000;\"/>\r\n    </defs>\r\n    <g clip-path=\"url(#p795aae9c03)\">\r\n     <use style=\"fill:#008000;stroke:#008000;\" x=\"166.343381\" xlink:href=\"#mbe7b7a8201\" y=\"167.702045\"/>\r\n    </g>\r\n   </g>\r\n   <g id=\"PathCollection_31\">\r\n    <g clip-path=\"url(#p795aae9c03)\">\r\n     <use style=\"fill:#008000;stroke:#008000;\" x=\"178.517926\" xlink:href=\"#mbe7b7a8201\" y=\"194.387864\"/>\r\n    </g>\r\n   </g>\r\n   <g id=\"PathCollection_32\">\r\n    <g clip-path=\"url(#p795aae9c03)\">\r\n     <use style=\"fill:#008000;stroke:#008000;\" x=\"273.885199\" xlink:href=\"#mbe7b7a8201\" y=\"146.946409\"/>\r\n    </g>\r\n   </g>\r\n   <g id=\"PathCollection_33\">\r\n    <g clip-path=\"url(#p795aae9c03)\">\r\n     <use style=\"fill:#008000;stroke:#008000;\" x=\"217.070653\" xlink:href=\"#mbe7b7a8201\" y=\"118.778045\"/>\r\n    </g>\r\n   </g>\r\n   <g id=\"PathCollection_34\">\r\n    <g clip-path=\"url(#p795aae9c03)\">\r\n     <use style=\"fill:#ff0000;stroke:#ff0000;\" x=\"95.325199\" xlink:href=\"#m6776332499\" y=\"148.428955\"/>\r\n    </g>\r\n   </g>\r\n   <g id=\"PathCollection_35\">\r\n    <g clip-path=\"url(#p795aae9c03)\">\r\n     <use style=\"fill:#ff0000;stroke:#ff0000;\" x=\"320.55429\" xlink:href=\"#m4495cc2fed\" y=\"272.962773\"/>\r\n    </g>\r\n   </g>\r\n   <g id=\"PathCollection_36\">\r\n    <g clip-path=\"url(#p795aae9c03)\">\r\n     <use style=\"fill:#ff0000;stroke:#ff0000;\" x=\"350.990653\" xlink:href=\"#m6776332499\" y=\"194.387864\"/>\r\n    </g>\r\n   </g>\r\n   <g id=\"PathCollection_37\">\r\n    <g clip-path=\"url(#p795aae9c03)\">\r\n     <use style=\"fill:#ff0000;stroke:#ff0000;\" x=\"350.990653\" xlink:href=\"#m4495cc2fed\" y=\"133.6035\"/>\r\n    </g>\r\n   </g>\r\n   <g id=\"PathCollection_38\">\r\n    <g clip-path=\"url(#p795aae9c03)\">\r\n     <use style=\"fill:#ff0000;stroke:#ff0000;\" x=\"355.048835\" xlink:href=\"#m4495cc2fed\" y=\"298.166045\"/>\r\n    </g>\r\n   </g>\r\n   <g id=\"PathCollection_39\">\r\n    <g clip-path=\"url(#p795aae9c03)\">\r\n     <use style=\"fill:#ff0000;stroke:#ff0000;\" x=\"196.779744\" xlink:href=\"#m6776332499\" y=\"280.3755\"/>\r\n    </g>\r\n   </g>\r\n   <g id=\"PathCollection_40\">\r\n    <g clip-path=\"url(#p795aae9c03)\">\r\n     <use style=\"fill:#ff0000;stroke:#ff0000;\" x=\"210.983381\" xlink:href=\"#m4495cc2fed\" y=\"172.149682\"/>\r\n    </g>\r\n   </g>\r\n   <g id=\"patch_3\">\r\n    <path clip-path=\"url(#p795aae9c03)\" d=\"M 79.092472 361.9155 \r\nL 79.092472 35.7555 \r\nL 214.365199 35.7555 \r\nL 214.365199 361.9155 \r\nz\r\n\" style=\"fill:#ff0000;opacity:0.07;stroke:#ff0000;stroke-linejoin:miter;\"/>\r\n   </g>\r\n   <g id=\"patch_4\">\r\n    <path clip-path=\"url(#p795aae9c03)\" d=\"M 214.365199 361.9155 \r\nL 214.365199 35.7555 \r\nL 349.637926 35.7555 \r\nL 349.637926 361.9155 \r\nz\r\n\" style=\"fill:#008000;opacity:0.07;stroke:#008000;stroke-linejoin:miter;\"/>\r\n   </g>\r\n   <g id=\"patch_5\">\r\n    <path clip-path=\"url(#p795aae9c03)\" d=\"M 349.637926 361.9155 \r\nL 349.637926 35.7555 \r\nL 484.910653 35.7555 \r\nL 484.910653 361.9155 \r\nz\r\n\" style=\"fill:#0000ff;opacity:0.07;stroke:#0000ff;stroke-linejoin:miter;\"/>\r\n   </g>\r\n   <g id=\"patch_6\">\r\n    <path clip-path=\"url(#p795aae9c03)\" d=\"M 119.67429 95.057318 \r\nL 332.728835 95.057318 \r\nL 332.728835 52.0635 \r\nL 119.67429 52.0635 \r\nz\r\n\" style=\"fill:#20b2aa;fill-opacity:0.25;stroke:#000000;stroke-linejoin:miter;\"/>\r\n   </g>\r\n   <g id=\"matplotlib.axis_1\">\r\n    <g id=\"xtick_1\">\r\n     <g id=\"line2d_1\">\r\n      <defs>\r\n       <path d=\"M 0 0 \r\nL 0 3.5 \r\n\" id=\"me986f5c49e\" style=\"stroke:#000000;stroke-width:0.8;\"/>\r\n      </defs>\r\n      <g>\r\n       <use style=\"stroke:#000000;stroke-width:0.8;\" x=\"79.092472\" xlink:href=\"#me986f5c49e\" y=\"361.9155\"/>\r\n      </g>\r\n     </g>\r\n     <g id=\"text_1\">\r\n      <!-- −1.00 -->\r\n      <defs>\r\n       <path d=\"M 10.59375 35.5 \r\nL 73.1875 35.5 \r\nL 73.1875 27.203125 \r\nL 10.59375 27.203125 \r\nz\r\n\" id=\"DejaVuSans-8722\"/>\r\n       <path d=\"M 12.40625 8.296875 \r\nL 28.515625 8.296875 \r\nL 28.515625 63.921875 \r\nL 10.984375 60.40625 \r\nL 10.984375 69.390625 \r\nL 28.421875 72.90625 \r\nL 38.28125 72.90625 \r\nL 38.28125 8.296875 \r\nL 54.390625 8.296875 \r\nL 54.390625 0 \r\nL 12.40625 0 \r\nz\r\n\" id=\"DejaVuSans-49\"/>\r\n       <path d=\"M 10.6875 12.40625 \r\nL 21 12.40625 \r\nL 21 0 \r\nL 10.6875 0 \r\nz\r\n\" id=\"DejaVuSans-46\"/>\r\n       <path d=\"M 31.78125 66.40625 \r\nQ 24.171875 66.40625 20.328125 58.90625 \r\nQ 16.5 51.421875 16.5 36.375 \r\nQ 16.5 21.390625 20.328125 13.890625 \r\nQ 24.171875 6.390625 31.78125 6.390625 \r\nQ 39.453125 6.390625 43.28125 13.890625 \r\nQ 47.125 21.390625 47.125 36.375 \r\nQ 47.125 51.421875 43.28125 58.90625 \r\nQ 39.453125 66.40625 31.78125 66.40625 \r\nz\r\nM 31.78125 74.21875 \r\nQ 44.046875 74.21875 50.515625 64.515625 \r\nQ 56.984375 54.828125 56.984375 36.375 \r\nQ 56.984375 17.96875 50.515625 8.265625 \r\nQ 44.046875 -1.421875 31.78125 -1.421875 \r\nQ 19.53125 -1.421875 13.0625 8.265625 \r\nQ 6.59375 17.96875 6.59375 36.375 \r\nQ 6.59375 54.828125 13.0625 64.515625 \r\nQ 19.53125 74.21875 31.78125 74.21875 \r\nz\r\n\" id=\"DejaVuSans-48\"/>\r\n      </defs>\r\n      <g transform=\"translate(63.769815 376.513937)scale(0.1 -0.1)\">\r\n       <use xlink:href=\"#DejaVuSans-8722\"/>\r\n       <use x=\"83.789062\" xlink:href=\"#DejaVuSans-49\"/>\r\n       <use x=\"147.412109\" xlink:href=\"#DejaVuSans-46\"/>\r\n       <use x=\"179.199219\" xlink:href=\"#DejaVuSans-48\"/>\r\n       <use x=\"242.822266\" xlink:href=\"#DejaVuSans-48\"/>\r\n      </g>\r\n     </g>\r\n    </g>\r\n    <g id=\"xtick_2\">\r\n     <g id=\"line2d_2\">\r\n      <g>\r\n       <use style=\"stroke:#000000;stroke-width:0.8;\" x=\"129.819744\" xlink:href=\"#me986f5c49e\" y=\"361.9155\"/>\r\n      </g>\r\n     </g>\r\n     <g id=\"text_2\">\r\n      <!-- −0.75 -->\r\n      <defs>\r\n       <path d=\"M 8.203125 72.90625 \r\nL 55.078125 72.90625 \r\nL 55.078125 68.703125 \r\nL 28.609375 0 \r\nL 18.3125 0 \r\nL 43.21875 64.59375 \r\nL 8.203125 64.59375 \r\nz\r\n\" id=\"DejaVuSans-55\"/>\r\n       <path d=\"M 10.796875 72.90625 \r\nL 49.515625 72.90625 \r\nL 49.515625 64.59375 \r\nL 19.828125 64.59375 \r\nL 19.828125 46.734375 \r\nQ 21.96875 47.46875 24.109375 47.828125 \r\nQ 26.265625 48.1875 28.421875 48.1875 \r\nQ 40.625 48.1875 47.75 41.5 \r\nQ 54.890625 34.8125 54.890625 23.390625 \r\nQ 54.890625 11.625 47.5625 5.09375 \r\nQ 40.234375 -1.421875 26.90625 -1.421875 \r\nQ 22.3125 -1.421875 17.546875 -0.640625 \r\nQ 12.796875 0.140625 7.71875 1.703125 \r\nL 7.71875 11.625 \r\nQ 12.109375 9.234375 16.796875 8.0625 \r\nQ 21.484375 6.890625 26.703125 6.890625 \r\nQ 35.15625 6.890625 40.078125 11.328125 \r\nQ 45.015625 15.765625 45.015625 23.390625 \r\nQ 45.015625 31 40.078125 35.4375 \r\nQ 35.15625 39.890625 26.703125 39.890625 \r\nQ 22.75 39.890625 18.8125 39.015625 \r\nQ 14.890625 38.140625 10.796875 36.28125 \r\nz\r\n\" id=\"DejaVuSans-53\"/>\r\n      </defs>\r\n      <g transform=\"translate(114.497088 376.513937)scale(0.1 -0.1)\">\r\n       <use xlink:href=\"#DejaVuSans-8722\"/>\r\n       <use x=\"83.789062\" xlink:href=\"#DejaVuSans-48\"/>\r\n       <use x=\"147.412109\" xlink:href=\"#DejaVuSans-46\"/>\r\n       <use x=\"179.199219\" xlink:href=\"#DejaVuSans-55\"/>\r\n       <use x=\"242.822266\" xlink:href=\"#DejaVuSans-53\"/>\r\n      </g>\r\n     </g>\r\n    </g>\r\n    <g id=\"xtick_3\">\r\n     <g id=\"line2d_3\">\r\n      <g>\r\n       <use style=\"stroke:#000000;stroke-width:0.8;\" x=\"180.547017\" xlink:href=\"#me986f5c49e\" y=\"361.9155\"/>\r\n      </g>\r\n     </g>\r\n     <g id=\"text_3\">\r\n      <!-- −0.50 -->\r\n      <g transform=\"translate(165.224361 376.513937)scale(0.1 -0.1)\">\r\n       <use xlink:href=\"#DejaVuSans-8722\"/>\r\n       <use x=\"83.789062\" xlink:href=\"#DejaVuSans-48\"/>\r\n       <use x=\"147.412109\" xlink:href=\"#DejaVuSans-46\"/>\r\n       <use x=\"179.199219\" xlink:href=\"#DejaVuSans-53\"/>\r\n       <use x=\"242.822266\" xlink:href=\"#DejaVuSans-48\"/>\r\n      </g>\r\n     </g>\r\n    </g>\r\n    <g id=\"xtick_4\">\r\n     <g id=\"line2d_4\">\r\n      <g>\r\n       <use style=\"stroke:#000000;stroke-width:0.8;\" x=\"231.27429\" xlink:href=\"#me986f5c49e\" y=\"361.9155\"/>\r\n      </g>\r\n     </g>\r\n     <g id=\"text_4\">\r\n      <!-- −0.25 -->\r\n      <defs>\r\n       <path d=\"M 19.1875 8.296875 \r\nL 53.609375 8.296875 \r\nL 53.609375 0 \r\nL 7.328125 0 \r\nL 7.328125 8.296875 \r\nQ 12.9375 14.109375 22.625 23.890625 \r\nQ 32.328125 33.6875 34.8125 36.53125 \r\nQ 39.546875 41.84375 41.421875 45.53125 \r\nQ 43.3125 49.21875 43.3125 52.78125 \r\nQ 43.3125 58.59375 39.234375 62.25 \r\nQ 35.15625 65.921875 28.609375 65.921875 \r\nQ 23.96875 65.921875 18.8125 64.3125 \r\nQ 13.671875 62.703125 7.8125 59.421875 \r\nL 7.8125 69.390625 \r\nQ 13.765625 71.78125 18.9375 73 \r\nQ 24.125 74.21875 28.421875 74.21875 \r\nQ 39.75 74.21875 46.484375 68.546875 \r\nQ 53.21875 62.890625 53.21875 53.421875 \r\nQ 53.21875 48.921875 51.53125 44.890625 \r\nQ 49.859375 40.875 45.40625 35.40625 \r\nQ 44.1875 33.984375 37.640625 27.21875 \r\nQ 31.109375 20.453125 19.1875 8.296875 \r\nz\r\n\" id=\"DejaVuSans-50\"/>\r\n      </defs>\r\n      <g transform=\"translate(215.951634 376.513937)scale(0.1 -0.1)\">\r\n       <use xlink:href=\"#DejaVuSans-8722\"/>\r\n       <use x=\"83.789062\" xlink:href=\"#DejaVuSans-48\"/>\r\n       <use x=\"147.412109\" xlink:href=\"#DejaVuSans-46\"/>\r\n       <use x=\"179.199219\" xlink:href=\"#DejaVuSans-50\"/>\r\n       <use x=\"242.822266\" xlink:href=\"#DejaVuSans-53\"/>\r\n      </g>\r\n     </g>\r\n    </g>\r\n    <g id=\"xtick_5\">\r\n     <g id=\"line2d_5\">\r\n      <g>\r\n       <use style=\"stroke:#000000;stroke-width:0.8;\" x=\"282.001562\" xlink:href=\"#me986f5c49e\" y=\"361.9155\"/>\r\n      </g>\r\n     </g>\r\n     <g id=\"text_5\">\r\n      <!-- 0.00 -->\r\n      <g transform=\"translate(270.86875 376.513937)scale(0.1 -0.1)\">\r\n       <use xlink:href=\"#DejaVuSans-48\"/>\r\n       <use x=\"63.623047\" xlink:href=\"#DejaVuSans-46\"/>\r\n       <use x=\"95.410156\" xlink:href=\"#DejaVuSans-48\"/>\r\n       <use x=\"159.033203\" xlink:href=\"#DejaVuSans-48\"/>\r\n      </g>\r\n     </g>\r\n    </g>\r\n    <g id=\"xtick_6\">\r\n     <g id=\"line2d_6\">\r\n      <g>\r\n       <use style=\"stroke:#000000;stroke-width:0.8;\" x=\"332.728835\" xlink:href=\"#me986f5c49e\" y=\"361.9155\"/>\r\n      </g>\r\n     </g>\r\n     <g id=\"text_6\">\r\n      <!-- 0.25 -->\r\n      <g transform=\"translate(321.596023 376.513937)scale(0.1 -0.1)\">\r\n       <use xlink:href=\"#DejaVuSans-48\"/>\r\n       <use x=\"63.623047\" xlink:href=\"#DejaVuSans-46\"/>\r\n       <use x=\"95.410156\" xlink:href=\"#DejaVuSans-50\"/>\r\n       <use x=\"159.033203\" xlink:href=\"#DejaVuSans-53\"/>\r\n      </g>\r\n     </g>\r\n    </g>\r\n    <g id=\"xtick_7\">\r\n     <g id=\"line2d_7\">\r\n      <g>\r\n       <use style=\"stroke:#000000;stroke-width:0.8;\" x=\"383.456108\" xlink:href=\"#me986f5c49e\" y=\"361.9155\"/>\r\n      </g>\r\n     </g>\r\n     <g id=\"text_7\">\r\n      <!-- 0.50 -->\r\n      <g transform=\"translate(372.323295 376.513937)scale(0.1 -0.1)\">\r\n       <use xlink:href=\"#DejaVuSans-48\"/>\r\n       <use x=\"63.623047\" xlink:href=\"#DejaVuSans-46\"/>\r\n       <use x=\"95.410156\" xlink:href=\"#DejaVuSans-53\"/>\r\n       <use x=\"159.033203\" xlink:href=\"#DejaVuSans-48\"/>\r\n      </g>\r\n     </g>\r\n    </g>\r\n    <g id=\"xtick_8\">\r\n     <g id=\"line2d_8\">\r\n      <g>\r\n       <use style=\"stroke:#000000;stroke-width:0.8;\" x=\"434.183381\" xlink:href=\"#me986f5c49e\" y=\"361.9155\"/>\r\n      </g>\r\n     </g>\r\n     <g id=\"text_8\">\r\n      <!-- 0.75 -->\r\n      <g transform=\"translate(423.050568 376.513937)scale(0.1 -0.1)\">\r\n       <use xlink:href=\"#DejaVuSans-48\"/>\r\n       <use x=\"63.623047\" xlink:href=\"#DejaVuSans-46\"/>\r\n       <use x=\"95.410156\" xlink:href=\"#DejaVuSans-55\"/>\r\n       <use x=\"159.033203\" xlink:href=\"#DejaVuSans-53\"/>\r\n      </g>\r\n     </g>\r\n    </g>\r\n    <g id=\"xtick_9\">\r\n     <g id=\"line2d_9\">\r\n      <g>\r\n       <use style=\"stroke:#000000;stroke-width:0.8;\" x=\"484.910653\" xlink:href=\"#me986f5c49e\" y=\"361.9155\"/>\r\n      </g>\r\n     </g>\r\n     <g id=\"text_9\">\r\n      <!-- 1.00 -->\r\n      <g transform=\"translate(473.777841 376.513937)scale(0.1 -0.1)\">\r\n       <use xlink:href=\"#DejaVuSans-49\"/>\r\n       <use x=\"63.623047\" xlink:href=\"#DejaVuSans-46\"/>\r\n       <use x=\"95.410156\" xlink:href=\"#DejaVuSans-48\"/>\r\n       <use x=\"159.033203\" xlink:href=\"#DejaVuSans-48\"/>\r\n      </g>\r\n     </g>\r\n    </g>\r\n    <g id=\"text_10\">\r\n     <!-- X_coordinate -->\r\n     <defs>\r\n      <path d=\"M 6.296875 72.90625 \r\nL 16.890625 72.90625 \r\nL 35.015625 45.796875 \r\nL 53.21875 72.90625 \r\nL 63.8125 72.90625 \r\nL 40.375 37.890625 \r\nL 65.375 0 \r\nL 54.78125 0 \r\nL 34.28125 31 \r\nL 13.625 0 \r\nL 2.984375 0 \r\nL 29 38.921875 \r\nz\r\n\" id=\"DejaVuSans-88\"/>\r\n      <path d=\"M 50.984375 -16.609375 \r\nL 50.984375 -23.578125 \r\nL -0.984375 -23.578125 \r\nL -0.984375 -16.609375 \r\nz\r\n\" id=\"DejaVuSans-95\"/>\r\n      <path d=\"M 48.78125 52.59375 \r\nL 48.78125 44.1875 \r\nQ 44.96875 46.296875 41.140625 47.34375 \r\nQ 37.3125 48.390625 33.40625 48.390625 \r\nQ 24.65625 48.390625 19.8125 42.84375 \r\nQ 14.984375 37.3125 14.984375 27.296875 \r\nQ 14.984375 17.28125 19.8125 11.734375 \r\nQ 24.65625 6.203125 33.40625 6.203125 \r\nQ 37.3125 6.203125 41.140625 7.25 \r\nQ 44.96875 8.296875 48.78125 10.40625 \r\nL 48.78125 2.09375 \r\nQ 45.015625 0.34375 40.984375 -0.53125 \r\nQ 36.96875 -1.421875 32.421875 -1.421875 \r\nQ 20.0625 -1.421875 12.78125 6.34375 \r\nQ 5.515625 14.109375 5.515625 27.296875 \r\nQ 5.515625 40.671875 12.859375 48.328125 \r\nQ 20.21875 56 33.015625 56 \r\nQ 37.15625 56 41.109375 55.140625 \r\nQ 45.0625 54.296875 48.78125 52.59375 \r\nz\r\n\" id=\"DejaVuSans-99\"/>\r\n      <path d=\"M 30.609375 48.390625 \r\nQ 23.390625 48.390625 19.1875 42.75 \r\nQ 14.984375 37.109375 14.984375 27.296875 \r\nQ 14.984375 17.484375 19.15625 11.84375 \r\nQ 23.34375 6.203125 30.609375 6.203125 \r\nQ 37.796875 6.203125 41.984375 11.859375 \r\nQ 46.1875 17.53125 46.1875 27.296875 \r\nQ 46.1875 37.015625 41.984375 42.703125 \r\nQ 37.796875 48.390625 30.609375 48.390625 \r\nz\r\nM 30.609375 56 \r\nQ 42.328125 56 49.015625 48.375 \r\nQ 55.71875 40.765625 55.71875 27.296875 \r\nQ 55.71875 13.875 49.015625 6.21875 \r\nQ 42.328125 -1.421875 30.609375 -1.421875 \r\nQ 18.84375 -1.421875 12.171875 6.21875 \r\nQ 5.515625 13.875 5.515625 27.296875 \r\nQ 5.515625 40.765625 12.171875 48.375 \r\nQ 18.84375 56 30.609375 56 \r\nz\r\n\" id=\"DejaVuSans-111\"/>\r\n      <path d=\"M 41.109375 46.296875 \r\nQ 39.59375 47.171875 37.8125 47.578125 \r\nQ 36.03125 48 33.890625 48 \r\nQ 26.265625 48 22.1875 43.046875 \r\nQ 18.109375 38.09375 18.109375 28.8125 \r\nL 18.109375 0 \r\nL 9.078125 0 \r\nL 9.078125 54.6875 \r\nL 18.109375 54.6875 \r\nL 18.109375 46.1875 \r\nQ 20.953125 51.171875 25.484375 53.578125 \r\nQ 30.03125 56 36.53125 56 \r\nQ 37.453125 56 38.578125 55.875 \r\nQ 39.703125 55.765625 41.0625 55.515625 \r\nz\r\n\" id=\"DejaVuSans-114\"/>\r\n      <path d=\"M 45.40625 46.390625 \r\nL 45.40625 75.984375 \r\nL 54.390625 75.984375 \r\nL 54.390625 0 \r\nL 45.40625 0 \r\nL 45.40625 8.203125 \r\nQ 42.578125 3.328125 38.25 0.953125 \r\nQ 33.9375 -1.421875 27.875 -1.421875 \r\nQ 17.96875 -1.421875 11.734375 6.484375 \r\nQ 5.515625 14.40625 5.515625 27.296875 \r\nQ 5.515625 40.1875 11.734375 48.09375 \r\nQ 17.96875 56 27.875 56 \r\nQ 33.9375 56 38.25 53.625 \r\nQ 42.578125 51.265625 45.40625 46.390625 \r\nz\r\nM 14.796875 27.296875 \r\nQ 14.796875 17.390625 18.875 11.75 \r\nQ 22.953125 6.109375 30.078125 6.109375 \r\nQ 37.203125 6.109375 41.296875 11.75 \r\nQ 45.40625 17.390625 45.40625 27.296875 \r\nQ 45.40625 37.203125 41.296875 42.84375 \r\nQ 37.203125 48.484375 30.078125 48.484375 \r\nQ 22.953125 48.484375 18.875 42.84375 \r\nQ 14.796875 37.203125 14.796875 27.296875 \r\nz\r\n\" id=\"DejaVuSans-100\"/>\r\n      <path d=\"M 9.421875 54.6875 \r\nL 18.40625 54.6875 \r\nL 18.40625 0 \r\nL 9.421875 0 \r\nz\r\nM 9.421875 75.984375 \r\nL 18.40625 75.984375 \r\nL 18.40625 64.59375 \r\nL 9.421875 64.59375 \r\nz\r\n\" id=\"DejaVuSans-105\"/>\r\n      <path d=\"M 54.890625 33.015625 \r\nL 54.890625 0 \r\nL 45.90625 0 \r\nL 45.90625 32.71875 \r\nQ 45.90625 40.484375 42.875 44.328125 \r\nQ 39.84375 48.1875 33.796875 48.1875 \r\nQ 26.515625 48.1875 22.3125 43.546875 \r\nQ 18.109375 38.921875 18.109375 30.90625 \r\nL 18.109375 0 \r\nL 9.078125 0 \r\nL 9.078125 54.6875 \r\nL 18.109375 54.6875 \r\nL 18.109375 46.1875 \r\nQ 21.34375 51.125 25.703125 53.5625 \r\nQ 30.078125 56 35.796875 56 \r\nQ 45.21875 56 50.046875 50.171875 \r\nQ 54.890625 44.34375 54.890625 33.015625 \r\nz\r\n\" id=\"DejaVuSans-110\"/>\r\n      <path d=\"M 34.28125 27.484375 \r\nQ 23.390625 27.484375 19.1875 25 \r\nQ 14.984375 22.515625 14.984375 16.5 \r\nQ 14.984375 11.71875 18.140625 8.90625 \r\nQ 21.296875 6.109375 26.703125 6.109375 \r\nQ 34.1875 6.109375 38.703125 11.40625 \r\nQ 43.21875 16.703125 43.21875 25.484375 \r\nL 43.21875 27.484375 \r\nz\r\nM 52.203125 31.203125 \r\nL 52.203125 0 \r\nL 43.21875 0 \r\nL 43.21875 8.296875 \r\nQ 40.140625 3.328125 35.546875 0.953125 \r\nQ 30.953125 -1.421875 24.3125 -1.421875 \r\nQ 15.921875 -1.421875 10.953125 3.296875 \r\nQ 6 8.015625 6 15.921875 \r\nQ 6 25.140625 12.171875 29.828125 \r\nQ 18.359375 34.515625 30.609375 34.515625 \r\nL 43.21875 34.515625 \r\nL 43.21875 35.40625 \r\nQ 43.21875 41.609375 39.140625 45 \r\nQ 35.0625 48.390625 27.6875 48.390625 \r\nQ 23 48.390625 18.546875 47.265625 \r\nQ 14.109375 46.140625 10.015625 43.890625 \r\nL 10.015625 52.203125 \r\nQ 14.9375 54.109375 19.578125 55.046875 \r\nQ 24.21875 56 28.609375 56 \r\nQ 40.484375 56 46.34375 49.84375 \r\nQ 52.203125 43.703125 52.203125 31.203125 \r\nz\r\n\" id=\"DejaVuSans-97\"/>\r\n      <path d=\"M 18.3125 70.21875 \r\nL 18.3125 54.6875 \r\nL 36.8125 54.6875 \r\nL 36.8125 47.703125 \r\nL 18.3125 47.703125 \r\nL 18.3125 18.015625 \r\nQ 18.3125 11.328125 20.140625 9.421875 \r\nQ 21.96875 7.515625 27.59375 7.515625 \r\nL 36.8125 7.515625 \r\nL 36.8125 0 \r\nL 27.59375 0 \r\nQ 17.1875 0 13.234375 3.875 \r\nQ 9.28125 7.765625 9.28125 18.015625 \r\nL 9.28125 47.703125 \r\nL 2.6875 47.703125 \r\nL 2.6875 54.6875 \r\nL 9.28125 54.6875 \r\nL 9.28125 70.21875 \r\nz\r\n\" id=\"DejaVuSans-116\"/>\r\n      <path d=\"M 56.203125 29.59375 \r\nL 56.203125 25.203125 \r\nL 14.890625 25.203125 \r\nQ 15.484375 15.921875 20.484375 11.0625 \r\nQ 25.484375 6.203125 34.421875 6.203125 \r\nQ 39.59375 6.203125 44.453125 7.46875 \r\nQ 49.3125 8.734375 54.109375 11.28125 \r\nL 54.109375 2.78125 \r\nQ 49.265625 0.734375 44.1875 -0.34375 \r\nQ 39.109375 -1.421875 33.890625 -1.421875 \r\nQ 20.796875 -1.421875 13.15625 6.1875 \r\nQ 5.515625 13.8125 5.515625 26.8125 \r\nQ 5.515625 40.234375 12.765625 48.109375 \r\nQ 20.015625 56 32.328125 56 \r\nQ 43.359375 56 49.78125 48.890625 \r\nQ 56.203125 41.796875 56.203125 29.59375 \r\nz\r\nM 47.21875 32.234375 \r\nQ 47.125 39.59375 43.09375 43.984375 \r\nQ 39.0625 48.390625 32.421875 48.390625 \r\nQ 24.90625 48.390625 20.390625 44.140625 \r\nQ 15.875 39.890625 15.1875 32.171875 \r\nz\r\n\" id=\"DejaVuSans-101\"/>\r\n     </defs>\r\n     <g transform=\"translate(249.321094 390.192062)scale(0.1 -0.1)\">\r\n      <use xlink:href=\"#DejaVuSans-88\"/>\r\n      <use x=\"68.505859\" xlink:href=\"#DejaVuSans-95\"/>\r\n      <use x=\"118.505859\" xlink:href=\"#DejaVuSans-99\"/>\r\n      <use x=\"173.486328\" xlink:href=\"#DejaVuSans-111\"/>\r\n      <use x=\"234.667969\" xlink:href=\"#DejaVuSans-111\"/>\r\n      <use x=\"295.849609\" xlink:href=\"#DejaVuSans-114\"/>\r\n      <use x=\"336.947266\" xlink:href=\"#DejaVuSans-100\"/>\r\n      <use x=\"400.423828\" xlink:href=\"#DejaVuSans-105\"/>\r\n      <use x=\"428.207031\" xlink:href=\"#DejaVuSans-110\"/>\r\n      <use x=\"491.585938\" xlink:href=\"#DejaVuSans-97\"/>\r\n      <use x=\"552.865234\" xlink:href=\"#DejaVuSans-116\"/>\r\n      <use x=\"592.074219\" xlink:href=\"#DejaVuSans-101\"/>\r\n     </g>\r\n    </g>\r\n   </g>\r\n   <g id=\"matplotlib.axis_2\">\r\n    <g id=\"ytick_1\">\r\n     <g id=\"line2d_10\">\r\n      <defs>\r\n       <path d=\"M 0 0 \r\nL -3.5 0 \r\n\" id=\"m38337fa261\" style=\"stroke:#000000;stroke-width:0.8;\"/>\r\n      </defs>\r\n      <g>\r\n       <use style=\"stroke:#000000;stroke-width:0.8;\" x=\"58.801563\" xlink:href=\"#m38337fa261\" y=\"347.090045\"/>\r\n      </g>\r\n     </g>\r\n     <g id=\"text_11\">\r\n      <!-- −1.00 -->\r\n      <g transform=\"translate(21.15625 350.889264)scale(0.1 -0.1)\">\r\n       <use xlink:href=\"#DejaVuSans-8722\"/>\r\n       <use x=\"83.789062\" xlink:href=\"#DejaVuSans-49\"/>\r\n       <use x=\"147.412109\" xlink:href=\"#DejaVuSans-46\"/>\r\n       <use x=\"179.199219\" xlink:href=\"#DejaVuSans-48\"/>\r\n       <use x=\"242.822266\" xlink:href=\"#DejaVuSans-48\"/>\r\n      </g>\r\n     </g>\r\n    </g>\r\n    <g id=\"ytick_2\">\r\n     <g id=\"line2d_11\">\r\n      <g>\r\n       <use style=\"stroke:#000000;stroke-width:0.8;\" x=\"58.801563\" xlink:href=\"#m38337fa261\" y=\"310.026409\"/>\r\n      </g>\r\n     </g>\r\n     <g id=\"text_12\">\r\n      <!-- −0.75 -->\r\n      <g transform=\"translate(21.15625 313.825628)scale(0.1 -0.1)\">\r\n       <use xlink:href=\"#DejaVuSans-8722\"/>\r\n       <use x=\"83.789062\" xlink:href=\"#DejaVuSans-48\"/>\r\n       <use x=\"147.412109\" xlink:href=\"#DejaVuSans-46\"/>\r\n       <use x=\"179.199219\" xlink:href=\"#DejaVuSans-55\"/>\r\n       <use x=\"242.822266\" xlink:href=\"#DejaVuSans-53\"/>\r\n      </g>\r\n     </g>\r\n    </g>\r\n    <g id=\"ytick_3\">\r\n     <g id=\"line2d_12\">\r\n      <g>\r\n       <use style=\"stroke:#000000;stroke-width:0.8;\" x=\"58.801563\" xlink:href=\"#m38337fa261\" y=\"272.962773\"/>\r\n      </g>\r\n     </g>\r\n     <g id=\"text_13\">\r\n      <!-- −0.50 -->\r\n      <g transform=\"translate(21.15625 276.761991)scale(0.1 -0.1)\">\r\n       <use xlink:href=\"#DejaVuSans-8722\"/>\r\n       <use x=\"83.789062\" xlink:href=\"#DejaVuSans-48\"/>\r\n       <use x=\"147.412109\" xlink:href=\"#DejaVuSans-46\"/>\r\n       <use x=\"179.199219\" xlink:href=\"#DejaVuSans-53\"/>\r\n       <use x=\"242.822266\" xlink:href=\"#DejaVuSans-48\"/>\r\n      </g>\r\n     </g>\r\n    </g>\r\n    <g id=\"ytick_4\">\r\n     <g id=\"line2d_13\">\r\n      <g>\r\n       <use style=\"stroke:#000000;stroke-width:0.8;\" x=\"58.801563\" xlink:href=\"#m38337fa261\" y=\"235.899136\"/>\r\n      </g>\r\n     </g>\r\n     <g id=\"text_14\">\r\n      <!-- −0.25 -->\r\n      <g transform=\"translate(21.15625 239.698355)scale(0.1 -0.1)\">\r\n       <use xlink:href=\"#DejaVuSans-8722\"/>\r\n       <use x=\"83.789062\" xlink:href=\"#DejaVuSans-48\"/>\r\n       <use x=\"147.412109\" xlink:href=\"#DejaVuSans-46\"/>\r\n       <use x=\"179.199219\" xlink:href=\"#DejaVuSans-50\"/>\r\n       <use x=\"242.822266\" xlink:href=\"#DejaVuSans-53\"/>\r\n      </g>\r\n     </g>\r\n    </g>\r\n    <g id=\"ytick_5\">\r\n     <g id=\"line2d_14\">\r\n      <g>\r\n       <use style=\"stroke:#000000;stroke-width:0.8;\" x=\"58.801563\" xlink:href=\"#m38337fa261\" y=\"198.8355\"/>\r\n      </g>\r\n     </g>\r\n     <g id=\"text_15\">\r\n      <!-- 0.00 -->\r\n      <g transform=\"translate(29.535938 202.634719)scale(0.1 -0.1)\">\r\n       <use xlink:href=\"#DejaVuSans-48\"/>\r\n       <use x=\"63.623047\" xlink:href=\"#DejaVuSans-46\"/>\r\n       <use x=\"95.410156\" xlink:href=\"#DejaVuSans-48\"/>\r\n       <use x=\"159.033203\" xlink:href=\"#DejaVuSans-48\"/>\r\n      </g>\r\n     </g>\r\n    </g>\r\n    <g id=\"ytick_6\">\r\n     <g id=\"line2d_15\">\r\n      <g>\r\n       <use style=\"stroke:#000000;stroke-width:0.8;\" x=\"58.801563\" xlink:href=\"#m38337fa261\" y=\"161.771864\"/>\r\n      </g>\r\n     </g>\r\n     <g id=\"text_16\">\r\n      <!-- 0.25 -->\r\n      <g transform=\"translate(29.535938 165.571082)scale(0.1 -0.1)\">\r\n       <use xlink:href=\"#DejaVuSans-48\"/>\r\n       <use x=\"63.623047\" xlink:href=\"#DejaVuSans-46\"/>\r\n       <use x=\"95.410156\" xlink:href=\"#DejaVuSans-50\"/>\r\n       <use x=\"159.033203\" xlink:href=\"#DejaVuSans-53\"/>\r\n      </g>\r\n     </g>\r\n    </g>\r\n    <g id=\"ytick_7\">\r\n     <g id=\"line2d_16\">\r\n      <g>\r\n       <use style=\"stroke:#000000;stroke-width:0.8;\" x=\"58.801563\" xlink:href=\"#m38337fa261\" y=\"124.708227\"/>\r\n      </g>\r\n     </g>\r\n     <g id=\"text_17\">\r\n      <!-- 0.50 -->\r\n      <g transform=\"translate(29.535938 128.507446)scale(0.1 -0.1)\">\r\n       <use xlink:href=\"#DejaVuSans-48\"/>\r\n       <use x=\"63.623047\" xlink:href=\"#DejaVuSans-46\"/>\r\n       <use x=\"95.410156\" xlink:href=\"#DejaVuSans-53\"/>\r\n       <use x=\"159.033203\" xlink:href=\"#DejaVuSans-48\"/>\r\n      </g>\r\n     </g>\r\n    </g>\r\n    <g id=\"ytick_8\">\r\n     <g id=\"line2d_17\">\r\n      <g>\r\n       <use style=\"stroke:#000000;stroke-width:0.8;\" x=\"58.801563\" xlink:href=\"#m38337fa261\" y=\"87.644591\"/>\r\n      </g>\r\n     </g>\r\n     <g id=\"text_18\">\r\n      <!-- 0.75 -->\r\n      <g transform=\"translate(29.535938 91.44381)scale(0.1 -0.1)\">\r\n       <use xlink:href=\"#DejaVuSans-48\"/>\r\n       <use x=\"63.623047\" xlink:href=\"#DejaVuSans-46\"/>\r\n       <use x=\"95.410156\" xlink:href=\"#DejaVuSans-55\"/>\r\n       <use x=\"159.033203\" xlink:href=\"#DejaVuSans-53\"/>\r\n      </g>\r\n     </g>\r\n    </g>\r\n    <g id=\"ytick_9\">\r\n     <g id=\"line2d_18\">\r\n      <g>\r\n       <use style=\"stroke:#000000;stroke-width:0.8;\" x=\"58.801563\" xlink:href=\"#m38337fa261\" y=\"50.580955\"/>\r\n      </g>\r\n     </g>\r\n     <g id=\"text_19\">\r\n      <!-- 1.00 -->\r\n      <g transform=\"translate(29.535938 54.380173)scale(0.1 -0.1)\">\r\n       <use xlink:href=\"#DejaVuSans-49\"/>\r\n       <use x=\"63.623047\" xlink:href=\"#DejaVuSans-46\"/>\r\n       <use x=\"95.410156\" xlink:href=\"#DejaVuSans-48\"/>\r\n       <use x=\"159.033203\" xlink:href=\"#DejaVuSans-48\"/>\r\n      </g>\r\n     </g>\r\n    </g>\r\n    <g id=\"text_20\">\r\n     <!-- Y_coordinate -->\r\n     <defs>\r\n      <path d=\"M -0.203125 72.90625 \r\nL 10.40625 72.90625 \r\nL 30.609375 42.921875 \r\nL 50.6875 72.90625 \r\nL 61.28125 72.90625 \r\nL 35.5 34.71875 \r\nL 35.5 0 \r\nL 25.59375 0 \r\nL 25.59375 34.71875 \r\nz\r\n\" id=\"DejaVuSans-89\"/>\r\n     </defs>\r\n     <g transform=\"translate(14.798438 231.144875)rotate(-90)scale(0.1 -0.1)\">\r\n      <use xlink:href=\"#DejaVuSans-89\"/>\r\n      <use x=\"61.083984\" xlink:href=\"#DejaVuSans-95\"/>\r\n      <use x=\"111.083984\" xlink:href=\"#DejaVuSans-99\"/>\r\n      <use x=\"166.064453\" xlink:href=\"#DejaVuSans-111\"/>\r\n      <use x=\"227.246094\" xlink:href=\"#DejaVuSans-111\"/>\r\n      <use x=\"288.427734\" xlink:href=\"#DejaVuSans-114\"/>\r\n      <use x=\"329.525391\" xlink:href=\"#DejaVuSans-100\"/>\r\n      <use x=\"393.001953\" xlink:href=\"#DejaVuSans-105\"/>\r\n      <use x=\"420.785156\" xlink:href=\"#DejaVuSans-110\"/>\r\n      <use x=\"484.164062\" xlink:href=\"#DejaVuSans-97\"/>\r\n      <use x=\"545.443359\" xlink:href=\"#DejaVuSans-116\"/>\r\n      <use x=\"584.652344\" xlink:href=\"#DejaVuSans-101\"/>\r\n     </g>\r\n    </g>\r\n   </g>\r\n   <g id=\"patch_7\">\r\n    <path d=\"M 58.801563 361.9155 \r\nL 58.801563 35.7555 \r\n\" style=\"fill:none;stroke:#000000;stroke-linecap:square;stroke-linejoin:miter;stroke-width:0.8;\"/>\r\n   </g>\r\n   <g id=\"patch_8\">\r\n    <path d=\"M 505.201562 361.9155 \r\nL 505.201562 35.7555 \r\n\" style=\"fill:none;stroke:#000000;stroke-linecap:square;stroke-linejoin:miter;stroke-width:0.8;\"/>\r\n   </g>\r\n   <g id=\"patch_9\">\r\n    <path d=\"M 58.801562 361.9155 \r\nL 505.201562 361.9155 \r\n\" style=\"fill:none;stroke:#000000;stroke-linecap:square;stroke-linejoin:miter;stroke-width:0.8;\"/>\r\n   </g>\r\n   <g id=\"patch_10\">\r\n    <path d=\"M 58.801562 35.7555 \r\nL 505.201562 35.7555 \r\n\" style=\"fill:none;stroke:#000000;stroke-linecap:square;stroke-linejoin:miter;stroke-width:0.8;\"/>\r\n   </g>\r\n   <g id=\"text_21\">\r\n    <!-- 1 -->\r\n    <g transform=\"translate(315.684472 154.952155)scale(0.07 -0.07)\">\r\n     <use xlink:href=\"#DejaVuSans-49\"/>\r\n    </g>\r\n   </g>\r\n   <g id=\"text_22\">\r\n    <!-- 2 -->\r\n    <g transform=\"translate(98.571744 254.2827)scale(0.07 -0.07)\">\r\n     <use xlink:href=\"#DejaVuSans-50\"/>\r\n    </g>\r\n   </g>\r\n   <g id=\"text_23\">\r\n    <!-- 3 -->\r\n    <defs>\r\n     <path d=\"M 40.578125 39.3125 \r\nQ 47.65625 37.796875 51.625 33 \r\nQ 55.609375 28.21875 55.609375 21.1875 \r\nQ 55.609375 10.40625 48.1875 4.484375 \r\nQ 40.765625 -1.421875 27.09375 -1.421875 \r\nQ 22.515625 -1.421875 17.65625 -0.515625 \r\nQ 12.796875 0.390625 7.625 2.203125 \r\nL 7.625 11.71875 \r\nQ 11.71875 9.328125 16.59375 8.109375 \r\nQ 21.484375 6.890625 26.8125 6.890625 \r\nQ 36.078125 6.890625 40.9375 10.546875 \r\nQ 45.796875 14.203125 45.796875 21.1875 \r\nQ 45.796875 27.640625 41.28125 31.265625 \r\nQ 36.765625 34.90625 28.71875 34.90625 \r\nL 20.21875 34.90625 \r\nL 20.21875 43.015625 \r\nL 29.109375 43.015625 \r\nQ 36.375 43.015625 40.234375 45.921875 \r\nQ 44.09375 48.828125 44.09375 54.296875 \r\nQ 44.09375 59.90625 40.109375 62.90625 \r\nQ 36.140625 65.921875 28.71875 65.921875 \r\nQ 24.65625 65.921875 20.015625 65.03125 \r\nQ 15.375 64.15625 9.8125 62.3125 \r\nL 9.8125 71.09375 \r\nQ 15.4375 72.65625 20.34375 73.4375 \r\nQ 25.25 74.21875 29.59375 74.21875 \r\nQ 40.828125 74.21875 47.359375 69.109375 \r\nQ 53.90625 64.015625 53.90625 55.328125 \r\nQ 53.90625 49.265625 50.4375 45.09375 \r\nQ 46.96875 40.921875 40.578125 39.3125 \r\nz\r\n\" id=\"DejaVuSans-51\"/>\r\n    </defs>\r\n    <g transform=\"translate(419.168108 162.364882)scale(0.07 -0.07)\">\r\n     <use xlink:href=\"#DejaVuSans-51\"/>\r\n    </g>\r\n   </g>\r\n   <g id=\"text_24\">\r\n    <!-- 4 -->\r\n    <defs>\r\n     <path d=\"M 37.796875 64.3125 \r\nL 12.890625 25.390625 \r\nL 37.796875 25.390625 \r\nz\r\nM 35.203125 72.90625 \r\nL 47.609375 72.90625 \r\nL 47.609375 25.390625 \r\nL 58.015625 25.390625 \r\nL 58.015625 17.1875 \r\nL 47.609375 17.1875 \r\nL 47.609375 0 \r\nL 37.796875 0 \r\nL 37.796875 17.1875 \r\nL 4.890625 17.1875 \r\nL 4.890625 26.703125 \r\nz\r\n\" id=\"DejaVuSans-52\"/>\r\n    </defs>\r\n    <g transform=\"translate(139.153563 120.853609)scale(0.07 -0.07)\">\r\n     <use xlink:href=\"#DejaVuSans-52\"/>\r\n    </g>\r\n   </g>\r\n   <g id=\"text_25\">\r\n    <!-- 5 -->\r\n    <g transform=\"translate(159.444472 135.679064)scale(0.07 -0.07)\">\r\n     <use xlink:href=\"#DejaVuSans-53\"/>\r\n    </g>\r\n   </g>\r\n   <g id=\"text_26\">\r\n    <!-- 6 -->\r\n    <defs>\r\n     <path d=\"M 33.015625 40.375 \r\nQ 26.375 40.375 22.484375 35.828125 \r\nQ 18.609375 31.296875 18.609375 23.390625 \r\nQ 18.609375 15.53125 22.484375 10.953125 \r\nQ 26.375 6.390625 33.015625 6.390625 \r\nQ 39.65625 6.390625 43.53125 10.953125 \r\nQ 47.40625 15.53125 47.40625 23.390625 \r\nQ 47.40625 31.296875 43.53125 35.828125 \r\nQ 39.65625 40.375 33.015625 40.375 \r\nz\r\nM 52.59375 71.296875 \r\nL 52.59375 62.3125 \r\nQ 48.875 64.0625 45.09375 64.984375 \r\nQ 41.3125 65.921875 37.59375 65.921875 \r\nQ 27.828125 65.921875 22.671875 59.328125 \r\nQ 17.53125 52.734375 16.796875 39.40625 \r\nQ 19.671875 43.65625 24.015625 45.921875 \r\nQ 28.375 48.1875 33.59375 48.1875 \r\nQ 44.578125 48.1875 50.953125 41.515625 \r\nQ 57.328125 34.859375 57.328125 23.390625 \r\nQ 57.328125 12.15625 50.6875 5.359375 \r\nQ 44.046875 -1.421875 33.015625 -1.421875 \r\nQ 20.359375 -1.421875 13.671875 8.265625 \r\nQ 6.984375 17.96875 6.984375 36.375 \r\nQ 6.984375 53.65625 15.1875 63.9375 \r\nQ 23.390625 74.21875 37.203125 74.21875 \r\nQ 40.921875 74.21875 44.703125 73.484375 \r\nQ 48.484375 72.75 52.59375 71.296875 \r\nz\r\n\" id=\"DejaVuSans-54\"/>\r\n    </defs>\r\n    <g transform=\"translate(315.684472 88.237609)scale(0.07 -0.07)\">\r\n     <use xlink:href=\"#DejaVuSans-54\"/>\r\n    </g>\r\n   </g>\r\n   <g id=\"text_27\">\r\n    <!-- 7 -->\r\n    <g transform=\"translate(457.720835 183.120518)scale(0.07 -0.07)\">\r\n     <use xlink:href=\"#DejaVuSans-55\"/>\r\n    </g>\r\n   </g>\r\n   <g id=\"text_28\">\r\n    <!-- 8 -->\r\n    <defs>\r\n     <path d=\"M 31.78125 34.625 \r\nQ 24.75 34.625 20.71875 30.859375 \r\nQ 16.703125 27.09375 16.703125 20.515625 \r\nQ 16.703125 13.921875 20.71875 10.15625 \r\nQ 24.75 6.390625 31.78125 6.390625 \r\nQ 38.8125 6.390625 42.859375 10.171875 \r\nQ 46.921875 13.96875 46.921875 20.515625 \r\nQ 46.921875 27.09375 42.890625 30.859375 \r\nQ 38.875 34.625 31.78125 34.625 \r\nz\r\nM 21.921875 38.8125 \r\nQ 15.578125 40.375 12.03125 44.71875 \r\nQ 8.5 49.078125 8.5 55.328125 \r\nQ 8.5 64.0625 14.71875 69.140625 \r\nQ 20.953125 74.21875 31.78125 74.21875 \r\nQ 42.671875 74.21875 48.875 69.140625 \r\nQ 55.078125 64.0625 55.078125 55.328125 \r\nQ 55.078125 49.078125 51.53125 44.71875 \r\nQ 48 40.375 41.703125 38.8125 \r\nQ 48.828125 37.15625 52.796875 32.3125 \r\nQ 56.78125 27.484375 56.78125 20.515625 \r\nQ 56.78125 9.90625 50.3125 4.234375 \r\nQ 43.84375 -1.421875 31.78125 -1.421875 \r\nQ 19.734375 -1.421875 13.25 4.234375 \r\nQ 6.78125 9.90625 6.78125 20.515625 \r\nQ 6.78125 27.484375 10.78125 32.3125 \r\nQ 14.796875 37.15625 21.921875 38.8125 \r\nz\r\nM 18.3125 54.390625 \r\nQ 18.3125 48.734375 21.84375 45.5625 \r\nQ 25.390625 42.390625 31.78125 42.390625 \r\nQ 38.140625 42.390625 41.71875 45.5625 \r\nQ 45.3125 48.734375 45.3125 54.390625 \r\nQ 45.3125 60.0625 41.71875 63.234375 \r\nQ 38.140625 66.40625 31.78125 66.40625 \r\nQ 25.390625 66.40625 21.84375 63.234375 \r\nQ 18.3125 60.0625 18.3125 54.390625 \r\nz\r\n\" id=\"DejaVuSans-56\"/>\r\n    </defs>\r\n    <g transform=\"translate(348.149926 116.405973)scale(0.07 -0.07)\">\r\n     <use xlink:href=\"#DejaVuSans-56\"/>\r\n    </g>\r\n   </g>\r\n   <g id=\"text_29\">\r\n    <!-- 9 -->\r\n    <defs>\r\n     <path d=\"M 10.984375 1.515625 \r\nL 10.984375 10.5 \r\nQ 14.703125 8.734375 18.5 7.8125 \r\nQ 22.3125 6.890625 25.984375 6.890625 \r\nQ 35.75 6.890625 40.890625 13.453125 \r\nQ 46.046875 20.015625 46.78125 33.40625 \r\nQ 43.953125 29.203125 39.59375 26.953125 \r\nQ 35.25 24.703125 29.984375 24.703125 \r\nQ 19.046875 24.703125 12.671875 31.3125 \r\nQ 6.296875 37.9375 6.296875 49.421875 \r\nQ 6.296875 60.640625 12.9375 67.421875 \r\nQ 19.578125 74.21875 30.609375 74.21875 \r\nQ 43.265625 74.21875 49.921875 64.515625 \r\nQ 56.59375 54.828125 56.59375 36.375 \r\nQ 56.59375 19.140625 48.40625 8.859375 \r\nQ 40.234375 -1.421875 26.421875 -1.421875 \r\nQ 22.703125 -1.421875 18.890625 -0.6875 \r\nQ 15.09375 0.046875 10.984375 1.515625 \r\nz\r\nM 30.609375 32.421875 \r\nQ 37.25 32.421875 41.125 36.953125 \r\nQ 45.015625 41.5 45.015625 49.421875 \r\nQ 45.015625 57.28125 41.125 61.84375 \r\nQ 37.25 66.40625 30.609375 66.40625 \r\nQ 23.96875 66.40625 20.09375 61.84375 \r\nQ 16.21875 57.28125 16.21875 49.421875 \r\nQ 16.21875 41.5 20.09375 36.953125 \r\nQ 23.96875 32.421875 30.609375 32.421875 \r\nz\r\n\" id=\"DejaVuSans-57\"/>\r\n    </defs>\r\n    <g transform=\"translate(161.473563 70.447064)scale(0.07 -0.07)\">\r\n     <use xlink:href=\"#DejaVuSans-57\"/>\r\n    </g>\r\n   </g>\r\n   <g id=\"text_30\">\r\n    <!-- 10 -->\r\n    <g transform=\"translate(90.455381 329.892518)scale(0.07 -0.07)\">\r\n     <use xlink:href=\"#DejaVuSans-49\"/>\r\n     <use x=\"63.623047\" xlink:href=\"#DejaVuSans-48\"/>\r\n    </g>\r\n   </g>\r\n   <g id=\"text_31\">\r\n    <!-- 11 -->\r\n    <g transform=\"translate(319.742653 294.311427)scale(0.07 -0.07)\">\r\n     <use xlink:href=\"#DejaVuSans-49\"/>\r\n     <use x=\"63.623047\" xlink:href=\"#DejaVuSans-49\"/>\r\n    </g>\r\n   </g>\r\n   <g id=\"text_32\">\r\n    <!-- 12 -->\r\n    <g transform=\"translate(390.760835 279.485973)scale(0.07 -0.07)\">\r\n     <use xlink:href=\"#DejaVuSans-49\"/>\r\n     <use x=\"63.623047\" xlink:href=\"#DejaVuSans-50\"/>\r\n    </g>\r\n   </g>\r\n   <g id=\"text_33\">\r\n    <!-- 13 -->\r\n    <g transform=\"translate(376.557199 153.469609)scale(0.07 -0.07)\">\r\n     <use xlink:href=\"#DejaVuSans-49\"/>\r\n     <use x=\"63.623047\" xlink:href=\"#DejaVuSans-51\"/>\r\n    </g>\r\n   </g>\r\n   <g id=\"text_34\">\r\n    <!-- 14 -->\r\n    <g transform=\"translate(293.364472 183.120518)scale(0.07 -0.07)\">\r\n     <use xlink:href=\"#DejaVuSans-49\"/>\r\n     <use x=\"63.623047\" xlink:href=\"#DejaVuSans-52\"/>\r\n    </g>\r\n   </g>\r\n   <g id=\"text_35\">\r\n    <!-- 15 -->\r\n    <g transform=\"translate(200.02629 323.962336)scale(0.07 -0.07)\">\r\n     <use xlink:href=\"#DejaVuSans-49\"/>\r\n     <use x=\"63.623047\" xlink:href=\"#DejaVuSans-53\"/>\r\n    </g>\r\n   </g>\r\n   <g id=\"text_36\">\r\n    <!-- 16 -->\r\n    <g transform=\"translate(344.091744 315.067064)scale(0.07 -0.07)\">\r\n     <use xlink:href=\"#DejaVuSans-49\"/>\r\n     <use x=\"63.623047\" xlink:href=\"#DejaVuSans-54\"/>\r\n    </g>\r\n   </g>\r\n   <g id=\"text_37\">\r\n    <!-- 17 -->\r\n    <g transform=\"translate(329.888108 141.609245)scale(0.07 -0.07)\">\r\n     <use xlink:href=\"#DejaVuSans-49\"/>\r\n     <use x=\"63.623047\" xlink:href=\"#DejaVuSans-55\"/>\r\n    </g>\r\n   </g>\r\n   <g id=\"text_38\">\r\n    <!-- 18 -->\r\n    <g transform=\"translate(439.459017 289.863791)scale(0.07 -0.07)\">\r\n     <use xlink:href=\"#DejaVuSans-49\"/>\r\n     <use x=\"63.623047\" xlink:href=\"#DejaVuSans-56\"/>\r\n    </g>\r\n   </g>\r\n   <g id=\"text_39\">\r\n    <!-- 19 -->\r\n    <g transform=\"translate(482.069926 263.177973)scale(0.07 -0.07)\">\r\n     <use xlink:href=\"#DejaVuSans-49\"/>\r\n     <use x=\"63.623047\" xlink:href=\"#DejaVuSans-57\"/>\r\n    </g>\r\n   </g>\r\n   <g id=\"text_40\">\r\n    <!-- 20 -->\r\n    <g transform=\"translate(100.600835 168.295064)scale(0.07 -0.07)\">\r\n     <use xlink:href=\"#DejaVuSans-50\"/>\r\n     <use x=\"63.623047\" xlink:href=\"#DejaVuSans-48\"/>\r\n    </g>\r\n   </g>\r\n   <g id=\"text_41\">\r\n    <!-- 21 -->\r\n    <g transform=\"translate(471.924472 326.927427)scale(0.07 -0.07)\">\r\n     <use xlink:href=\"#DejaVuSans-50\"/>\r\n     <use x=\"63.623047\" xlink:href=\"#DejaVuSans-49\"/>\r\n    </g>\r\n   </g>\r\n   <g id=\"text_42\">\r\n    <!-- 22 -->\r\n    <g transform=\"translate(305.539017 328.409973)scale(0.07 -0.07)\">\r\n     <use xlink:href=\"#DejaVuSans-50\"/>\r\n     <use x=\"63.623047\" xlink:href=\"#DejaVuSans-50\"/>\r\n    </g>\r\n   </g>\r\n   <g id=\"text_43\">\r\n    <!-- 23 -->\r\n    <g transform=\"translate(220.317199 254.2827)scale(0.07 -0.07)\">\r\n     <use xlink:href=\"#DejaVuSans-50\"/>\r\n     <use x=\"63.623047\" xlink:href=\"#DejaVuSans-51\"/>\r\n    </g>\r\n   </g>\r\n   <g id=\"text_44\">\r\n    <!-- 24 -->\r\n    <g transform=\"translate(283.219017 280.968518)scale(0.07 -0.07)\">\r\n     <use xlink:href=\"#DejaVuSans-50\"/>\r\n     <use x=\"63.623047\" xlink:href=\"#DejaVuSans-52\"/>\r\n    </g>\r\n   </g>\r\n   <g id=\"text_45\">\r\n    <!-- 25 -->\r\n    <g transform=\"translate(183.793563 147.539427)scale(0.07 -0.07)\">\r\n     <use xlink:href=\"#DejaVuSans-50\"/>\r\n     <use x=\"63.623047\" xlink:href=\"#DejaVuSans-53\"/>\r\n    </g>\r\n   </g>\r\n   <g id=\"text_46\">\r\n    <!-- 26 -->\r\n    <g transform=\"translate(228.433562 82.307427)scale(0.07 -0.07)\">\r\n     <use xlink:href=\"#DejaVuSans-50\"/>\r\n     <use x=\"63.623047\" xlink:href=\"#DejaVuSans-54\"/>\r\n    </g>\r\n   </g>\r\n   <g id=\"text_47\">\r\n    <!-- 27 -->\r\n    <g transform=\"translate(350.179017 252.800155)scale(0.07 -0.07)\">\r\n     <use xlink:href=\"#DejaVuSans-50\"/>\r\n     <use x=\"63.623047\" xlink:href=\"#DejaVuSans-55\"/>\r\n    </g>\r\n   </g>\r\n   <g id=\"text_48\">\r\n    <!-- 28 -->\r\n    <g transform=\"translate(437.429926 200.911064)scale(0.07 -0.07)\">\r\n     <use xlink:href=\"#DejaVuSans-50\"/>\r\n     <use x=\"63.623047\" xlink:href=\"#DejaVuSans-56\"/>\r\n    </g>\r\n   </g>\r\n   <g id=\"text_49\">\r\n    <!-- 29 -->\r\n    <g transform=\"translate(218.288108 63.034336)scale(0.07 -0.07)\">\r\n     <use xlink:href=\"#DejaVuSans-50\"/>\r\n     <use x=\"63.623047\" xlink:href=\"#DejaVuSans-57\"/>\r\n    </g>\r\n   </g>\r\n   <g id=\"text_50\">\r\n    <!-- 30 -->\r\n    <g transform=\"translate(169.589926 165.329973)scale(0.07 -0.07)\">\r\n     <use xlink:href=\"#DejaVuSans-51\"/>\r\n     <use x=\"63.623047\" xlink:href=\"#DejaVuSans-48\"/>\r\n    </g>\r\n   </g>\r\n   <g id=\"text_51\">\r\n    <!-- 31 -->\r\n    <g transform=\"translate(181.764472 192.015791)scale(0.07 -0.07)\">\r\n     <use xlink:href=\"#DejaVuSans-51\"/>\r\n     <use x=\"63.623047\" xlink:href=\"#DejaVuSans-49\"/>\r\n    </g>\r\n   </g>\r\n   <g id=\"text_52\">\r\n    <!-- 32 -->\r\n    <g transform=\"translate(277.131744 144.574336)scale(0.07 -0.07)\">\r\n     <use xlink:href=\"#DejaVuSans-51\"/>\r\n     <use x=\"63.623047\" xlink:href=\"#DejaVuSans-50\"/>\r\n    </g>\r\n   </g>\r\n   <g id=\"text_53\">\r\n    <!-- 33 -->\r\n    <g transform=\"translate(220.317199 116.405973)scale(0.07 -0.07)\">\r\n     <use xlink:href=\"#DejaVuSans-51\"/>\r\n     <use x=\"63.623047\" xlink:href=\"#DejaVuSans-51\"/>\r\n    </g>\r\n   </g>\r\n   <g id=\"text_54\">\r\n    <!-- 34 -->\r\n    <g transform=\"translate(98.571744 146.056882)scale(0.07 -0.07)\">\r\n     <use xlink:href=\"#DejaVuSans-51\"/>\r\n     <use x=\"63.623047\" xlink:href=\"#DejaVuSans-52\"/>\r\n    </g>\r\n   </g>\r\n   <g id=\"text_55\">\r\n    <!-- 35 -->\r\n    <g transform=\"translate(323.800835 270.5907)scale(0.07 -0.07)\">\r\n     <use xlink:href=\"#DejaVuSans-51\"/>\r\n     <use x=\"63.623047\" xlink:href=\"#DejaVuSans-53\"/>\r\n    </g>\r\n   </g>\r\n   <g id=\"text_56\">\r\n    <!-- 36 -->\r\n    <g transform=\"translate(354.237199 192.015791)scale(0.07 -0.07)\">\r\n     <use xlink:href=\"#DejaVuSans-51\"/>\r\n     <use x=\"63.623047\" xlink:href=\"#DejaVuSans-54\"/>\r\n    </g>\r\n   </g>\r\n   <g id=\"text_57\">\r\n    <!-- 37 -->\r\n    <g transform=\"translate(354.237199 131.231427)scale(0.07 -0.07)\">\r\n     <use xlink:href=\"#DejaVuSans-51\"/>\r\n     <use x=\"63.623047\" xlink:href=\"#DejaVuSans-55\"/>\r\n    </g>\r\n   </g>\r\n   <g id=\"text_58\">\r\n    <!-- 38 -->\r\n    <g transform=\"translate(358.295381 295.793973)scale(0.07 -0.07)\">\r\n     <use xlink:href=\"#DejaVuSans-51\"/>\r\n     <use x=\"63.623047\" xlink:href=\"#DejaVuSans-56\"/>\r\n    </g>\r\n   </g>\r\n   <g id=\"text_59\">\r\n    <!-- 39 -->\r\n    <g transform=\"translate(200.02629 278.003427)scale(0.07 -0.07)\">\r\n     <use xlink:href=\"#DejaVuSans-51\"/>\r\n     <use x=\"63.623047\" xlink:href=\"#DejaVuSans-57\"/>\r\n    </g>\r\n   </g>\r\n   <g id=\"text_60\">\r\n    <!-- 40 -->\r\n    <g transform=\"translate(214.229926 169.777609)scale(0.07 -0.07)\">\r\n     <use xlink:href=\"#DejaVuSans-52\"/>\r\n     <use x=\"63.623047\" xlink:href=\"#DejaVuSans-48\"/>\r\n    </g>\r\n   </g>\r\n   <g id=\"text_61\">\r\n    <!-- Clearing the highlighted area -->\r\n    <defs>\r\n     <path d=\"M 64.40625 67.28125 \r\nL 64.40625 56.890625 \r\nQ 59.421875 61.53125 53.78125 63.8125 \r\nQ 48.140625 66.109375 41.796875 66.109375 \r\nQ 29.296875 66.109375 22.65625 58.46875 \r\nQ 16.015625 50.828125 16.015625 36.375 \r\nQ 16.015625 21.96875 22.65625 14.328125 \r\nQ 29.296875 6.6875 41.796875 6.6875 \r\nQ 48.140625 6.6875 53.78125 8.984375 \r\nQ 59.421875 11.28125 64.40625 15.921875 \r\nL 64.40625 5.609375 \r\nQ 59.234375 2.09375 53.4375 0.328125 \r\nQ 47.65625 -1.421875 41.21875 -1.421875 \r\nQ 24.65625 -1.421875 15.125 8.703125 \r\nQ 5.609375 18.84375 5.609375 36.375 \r\nQ 5.609375 53.953125 15.125 64.078125 \r\nQ 24.65625 74.21875 41.21875 74.21875 \r\nQ 47.75 74.21875 53.53125 72.484375 \r\nQ 59.328125 70.75 64.40625 67.28125 \r\nz\r\n\" id=\"DejaVuSans-67\"/>\r\n     <path d=\"M 9.421875 75.984375 \r\nL 18.40625 75.984375 \r\nL 18.40625 0 \r\nL 9.421875 0 \r\nz\r\n\" id=\"DejaVuSans-108\"/>\r\n     <path d=\"M 45.40625 27.984375 \r\nQ 45.40625 37.75 41.375 43.109375 \r\nQ 37.359375 48.484375 30.078125 48.484375 \r\nQ 22.859375 48.484375 18.828125 43.109375 \r\nQ 14.796875 37.75 14.796875 27.984375 \r\nQ 14.796875 18.265625 18.828125 12.890625 \r\nQ 22.859375 7.515625 30.078125 7.515625 \r\nQ 37.359375 7.515625 41.375 12.890625 \r\nQ 45.40625 18.265625 45.40625 27.984375 \r\nz\r\nM 54.390625 6.78125 \r\nQ 54.390625 -7.171875 48.1875 -13.984375 \r\nQ 42 -20.796875 29.203125 -20.796875 \r\nQ 24.46875 -20.796875 20.265625 -20.09375 \r\nQ 16.0625 -19.390625 12.109375 -17.921875 \r\nL 12.109375 -9.1875 \r\nQ 16.0625 -11.328125 19.921875 -12.34375 \r\nQ 23.78125 -13.375 27.78125 -13.375 \r\nQ 36.625 -13.375 41.015625 -8.765625 \r\nQ 45.40625 -4.15625 45.40625 5.171875 \r\nL 45.40625 9.625 \r\nQ 42.625 4.78125 38.28125 2.390625 \r\nQ 33.9375 0 27.875 0 \r\nQ 17.828125 0 11.671875 7.65625 \r\nQ 5.515625 15.328125 5.515625 27.984375 \r\nQ 5.515625 40.671875 11.671875 48.328125 \r\nQ 17.828125 56 27.875 56 \r\nQ 33.9375 56 38.28125 53.609375 \r\nQ 42.625 51.21875 45.40625 46.390625 \r\nL 45.40625 54.6875 \r\nL 54.390625 54.6875 \r\nz\r\n\" id=\"DejaVuSans-103\"/>\r\n     <path id=\"DejaVuSans-32\"/>\r\n     <path d=\"M 54.890625 33.015625 \r\nL 54.890625 0 \r\nL 45.90625 0 \r\nL 45.90625 32.71875 \r\nQ 45.90625 40.484375 42.875 44.328125 \r\nQ 39.84375 48.1875 33.796875 48.1875 \r\nQ 26.515625 48.1875 22.3125 43.546875 \r\nQ 18.109375 38.921875 18.109375 30.90625 \r\nL 18.109375 0 \r\nL 9.078125 0 \r\nL 9.078125 75.984375 \r\nL 18.109375 75.984375 \r\nL 18.109375 46.1875 \r\nQ 21.34375 51.125 25.703125 53.5625 \r\nQ 30.078125 56 35.796875 56 \r\nQ 45.21875 56 50.046875 50.171875 \r\nQ 54.890625 44.34375 54.890625 33.015625 \r\nz\r\n\" id=\"DejaVuSans-104\"/>\r\n    </defs>\r\n    <g transform=\"translate(194.074375 16.318125)scale(0.12 -0.12)\">\r\n     <use xlink:href=\"#DejaVuSans-67\"/>\r\n     <use x=\"69.824219\" xlink:href=\"#DejaVuSans-108\"/>\r\n     <use x=\"97.607422\" xlink:href=\"#DejaVuSans-101\"/>\r\n     <use x=\"159.130859\" xlink:href=\"#DejaVuSans-97\"/>\r\n     <use x=\"220.410156\" xlink:href=\"#DejaVuSans-114\"/>\r\n     <use x=\"261.523438\" xlink:href=\"#DejaVuSans-105\"/>\r\n     <use x=\"289.306641\" xlink:href=\"#DejaVuSans-110\"/>\r\n     <use x=\"352.685547\" xlink:href=\"#DejaVuSans-103\"/>\r\n     <use x=\"416.162109\" xlink:href=\"#DejaVuSans-32\"/>\r\n     <use x=\"447.949219\" xlink:href=\"#DejaVuSans-116\"/>\r\n     <use x=\"487.158203\" xlink:href=\"#DejaVuSans-104\"/>\r\n     <use x=\"550.537109\" xlink:href=\"#DejaVuSans-101\"/>\r\n     <use x=\"612.060547\" xlink:href=\"#DejaVuSans-32\"/>\r\n     <use x=\"643.847656\" xlink:href=\"#DejaVuSans-104\"/>\r\n     <use x=\"707.226562\" xlink:href=\"#DejaVuSans-105\"/>\r\n     <use x=\"735.009766\" xlink:href=\"#DejaVuSans-103\"/>\r\n     <use x=\"798.486328\" xlink:href=\"#DejaVuSans-104\"/>\r\n     <use x=\"861.865234\" xlink:href=\"#DejaVuSans-108\"/>\r\n     <use x=\"889.648438\" xlink:href=\"#DejaVuSans-105\"/>\r\n     <use x=\"917.431641\" xlink:href=\"#DejaVuSans-103\"/>\r\n     <use x=\"980.908203\" xlink:href=\"#DejaVuSans-104\"/>\r\n     <use x=\"1044.287109\" xlink:href=\"#DejaVuSans-116\"/>\r\n     <use x=\"1083.496094\" xlink:href=\"#DejaVuSans-101\"/>\r\n     <use x=\"1145.019531\" xlink:href=\"#DejaVuSans-100\"/>\r\n     <use x=\"1208.496094\" xlink:href=\"#DejaVuSans-32\"/>\r\n     <use x=\"1240.283203\" xlink:href=\"#DejaVuSans-97\"/>\r\n     <use x=\"1301.5625\" xlink:href=\"#DejaVuSans-114\"/>\r\n     <use x=\"1342.644531\" xlink:href=\"#DejaVuSans-101\"/>\r\n     <use x=\"1404.167969\" xlink:href=\"#DejaVuSans-97\"/>\r\n    </g>\r\n    <!--  Number of objects=40 -->\r\n    <defs>\r\n     <path d=\"M 9.8125 72.90625 \r\nL 23.09375 72.90625 \r\nL 55.421875 11.921875 \r\nL 55.421875 72.90625 \r\nL 64.984375 72.90625 \r\nL 64.984375 0 \r\nL 51.703125 0 \r\nL 19.390625 60.984375 \r\nL 19.390625 0 \r\nL 9.8125 0 \r\nz\r\n\" id=\"DejaVuSans-78\"/>\r\n     <path d=\"M 8.5 21.578125 \r\nL 8.5 54.6875 \r\nL 17.484375 54.6875 \r\nL 17.484375 21.921875 \r\nQ 17.484375 14.15625 20.5 10.265625 \r\nQ 23.53125 6.390625 29.59375 6.390625 \r\nQ 36.859375 6.390625 41.078125 11.03125 \r\nQ 45.3125 15.671875 45.3125 23.6875 \r\nL 45.3125 54.6875 \r\nL 54.296875 54.6875 \r\nL 54.296875 0 \r\nL 45.3125 0 \r\nL 45.3125 8.40625 \r\nQ 42.046875 3.421875 37.71875 1 \r\nQ 33.40625 -1.421875 27.6875 -1.421875 \r\nQ 18.265625 -1.421875 13.375 4.4375 \r\nQ 8.5 10.296875 8.5 21.578125 \r\nz\r\nM 31.109375 56 \r\nz\r\n\" id=\"DejaVuSans-117\"/>\r\n     <path d=\"M 52 44.1875 \r\nQ 55.375 50.25 60.0625 53.125 \r\nQ 64.75 56 71.09375 56 \r\nQ 79.640625 56 84.28125 50.015625 \r\nQ 88.921875 44.046875 88.921875 33.015625 \r\nL 88.921875 0 \r\nL 79.890625 0 \r\nL 79.890625 32.71875 \r\nQ 79.890625 40.578125 77.09375 44.375 \r\nQ 74.3125 48.1875 68.609375 48.1875 \r\nQ 61.625 48.1875 57.5625 43.546875 \r\nQ 53.515625 38.921875 53.515625 30.90625 \r\nL 53.515625 0 \r\nL 44.484375 0 \r\nL 44.484375 32.71875 \r\nQ 44.484375 40.625 41.703125 44.40625 \r\nQ 38.921875 48.1875 33.109375 48.1875 \r\nQ 26.21875 48.1875 22.15625 43.53125 \r\nQ 18.109375 38.875 18.109375 30.90625 \r\nL 18.109375 0 \r\nL 9.078125 0 \r\nL 9.078125 54.6875 \r\nL 18.109375 54.6875 \r\nL 18.109375 46.1875 \r\nQ 21.1875 51.21875 25.484375 53.609375 \r\nQ 29.78125 56 35.6875 56 \r\nQ 41.65625 56 45.828125 52.96875 \r\nQ 50 49.953125 52 44.1875 \r\nz\r\n\" id=\"DejaVuSans-109\"/>\r\n     <path d=\"M 48.6875 27.296875 \r\nQ 48.6875 37.203125 44.609375 42.84375 \r\nQ 40.53125 48.484375 33.40625 48.484375 \r\nQ 26.265625 48.484375 22.1875 42.84375 \r\nQ 18.109375 37.203125 18.109375 27.296875 \r\nQ 18.109375 17.390625 22.1875 11.75 \r\nQ 26.265625 6.109375 33.40625 6.109375 \r\nQ 40.53125 6.109375 44.609375 11.75 \r\nQ 48.6875 17.390625 48.6875 27.296875 \r\nz\r\nM 18.109375 46.390625 \r\nQ 20.953125 51.265625 25.265625 53.625 \r\nQ 29.59375 56 35.59375 56 \r\nQ 45.5625 56 51.78125 48.09375 \r\nQ 58.015625 40.1875 58.015625 27.296875 \r\nQ 58.015625 14.40625 51.78125 6.484375 \r\nQ 45.5625 -1.421875 35.59375 -1.421875 \r\nQ 29.59375 -1.421875 25.265625 0.953125 \r\nQ 20.953125 3.328125 18.109375 8.203125 \r\nL 18.109375 0 \r\nL 9.078125 0 \r\nL 9.078125 75.984375 \r\nL 18.109375 75.984375 \r\nz\r\n\" id=\"DejaVuSans-98\"/>\r\n     <path d=\"M 37.109375 75.984375 \r\nL 37.109375 68.5 \r\nL 28.515625 68.5 \r\nQ 23.6875 68.5 21.796875 66.546875 \r\nQ 19.921875 64.59375 19.921875 59.515625 \r\nL 19.921875 54.6875 \r\nL 34.71875 54.6875 \r\nL 34.71875 47.703125 \r\nL 19.921875 47.703125 \r\nL 19.921875 0 \r\nL 10.890625 0 \r\nL 10.890625 47.703125 \r\nL 2.296875 47.703125 \r\nL 2.296875 54.6875 \r\nL 10.890625 54.6875 \r\nL 10.890625 58.5 \r\nQ 10.890625 67.625 15.140625 71.796875 \r\nQ 19.390625 75.984375 28.609375 75.984375 \r\nz\r\n\" id=\"DejaVuSans-102\"/>\r\n     <path d=\"M 9.421875 54.6875 \r\nL 18.40625 54.6875 \r\nL 18.40625 -0.984375 \r\nQ 18.40625 -11.421875 14.421875 -16.109375 \r\nQ 10.453125 -20.796875 1.609375 -20.796875 \r\nL -1.8125 -20.796875 \r\nL -1.8125 -13.1875 \r\nL 0.59375 -13.1875 \r\nQ 5.71875 -13.1875 7.5625 -10.8125 \r\nQ 9.421875 -8.453125 9.421875 -0.984375 \r\nz\r\nM 9.421875 75.984375 \r\nL 18.40625 75.984375 \r\nL 18.40625 64.59375 \r\nL 9.421875 64.59375 \r\nz\r\n\" id=\"DejaVuSans-106\"/>\r\n     <path d=\"M 44.28125 53.078125 \r\nL 44.28125 44.578125 \r\nQ 40.484375 46.53125 36.375 47.5 \r\nQ 32.28125 48.484375 27.875 48.484375 \r\nQ 21.1875 48.484375 17.84375 46.4375 \r\nQ 14.5 44.390625 14.5 40.28125 \r\nQ 14.5 37.15625 16.890625 35.375 \r\nQ 19.28125 33.59375 26.515625 31.984375 \r\nL 29.59375 31.296875 \r\nQ 39.15625 29.25 43.1875 25.515625 \r\nQ 47.21875 21.78125 47.21875 15.09375 \r\nQ 47.21875 7.46875 41.1875 3.015625 \r\nQ 35.15625 -1.421875 24.609375 -1.421875 \r\nQ 20.21875 -1.421875 15.453125 -0.5625 \r\nQ 10.6875 0.296875 5.421875 2 \r\nL 5.421875 11.28125 \r\nQ 10.40625 8.6875 15.234375 7.390625 \r\nQ 20.0625 6.109375 24.8125 6.109375 \r\nQ 31.15625 6.109375 34.5625 8.28125 \r\nQ 37.984375 10.453125 37.984375 14.40625 \r\nQ 37.984375 18.0625 35.515625 20.015625 \r\nQ 33.0625 21.96875 24.703125 23.78125 \r\nL 21.578125 24.515625 \r\nQ 13.234375 26.265625 9.515625 29.90625 \r\nQ 5.8125 33.546875 5.8125 39.890625 \r\nQ 5.8125 47.609375 11.28125 51.796875 \r\nQ 16.75 56 26.8125 56 \r\nQ 31.78125 56 36.171875 55.265625 \r\nQ 40.578125 54.546875 44.28125 53.078125 \r\nz\r\n\" id=\"DejaVuSans-115\"/>\r\n     <path d=\"M 10.59375 45.40625 \r\nL 73.1875 45.40625 \r\nL 73.1875 37.203125 \r\nL 10.59375 37.203125 \r\nz\r\nM 10.59375 25.484375 \r\nL 73.1875 25.484375 \r\nL 73.1875 17.1875 \r\nL 10.59375 17.1875 \r\nz\r\n\" id=\"DejaVuSans-61\"/>\r\n    </defs>\r\n    <g transform=\"translate(212.115625 29.7555)scale(0.12 -0.12)\">\r\n     <use xlink:href=\"#DejaVuSans-32\"/>\r\n     <use x=\"31.787109\" xlink:href=\"#DejaVuSans-78\"/>\r\n     <use x=\"106.591797\" xlink:href=\"#DejaVuSans-117\"/>\r\n     <use x=\"169.970703\" xlink:href=\"#DejaVuSans-109\"/>\r\n     <use x=\"267.382812\" xlink:href=\"#DejaVuSans-98\"/>\r\n     <use x=\"330.859375\" xlink:href=\"#DejaVuSans-101\"/>\r\n     <use x=\"392.382812\" xlink:href=\"#DejaVuSans-114\"/>\r\n     <use x=\"433.496094\" xlink:href=\"#DejaVuSans-32\"/>\r\n     <use x=\"465.283203\" xlink:href=\"#DejaVuSans-111\"/>\r\n     <use x=\"526.464844\" xlink:href=\"#DejaVuSans-102\"/>\r\n     <use x=\"561.669922\" xlink:href=\"#DejaVuSans-32\"/>\r\n     <use x=\"593.457031\" xlink:href=\"#DejaVuSans-111\"/>\r\n     <use x=\"654.638672\" xlink:href=\"#DejaVuSans-98\"/>\r\n     <use x=\"718.115234\" xlink:href=\"#DejaVuSans-106\"/>\r\n     <use x=\"745.898438\" xlink:href=\"#DejaVuSans-101\"/>\r\n     <use x=\"807.421875\" xlink:href=\"#DejaVuSans-99\"/>\r\n     <use x=\"862.402344\" xlink:href=\"#DejaVuSans-116\"/>\r\n     <use x=\"901.611328\" xlink:href=\"#DejaVuSans-115\"/>\r\n     <use x=\"953.710938\" xlink:href=\"#DejaVuSans-61\"/>\r\n     <use x=\"1037.5\" xlink:href=\"#DejaVuSans-52\"/>\r\n     <use x=\"1101.123047\" xlink:href=\"#DejaVuSans-48\"/>\r\n    </g>\r\n   </g>\r\n   <g id=\"legend_1\">\r\n    <g id=\"patch_11\">\r\n     <path d=\"M 401.907812 58.433625 \r\nL 498.201562 58.433625 \r\nQ 500.201562 58.433625 500.201562 56.433625 \r\nL 500.201562 42.7555 \r\nQ 500.201562 40.7555 498.201562 40.7555 \r\nL 401.907812 40.7555 \r\nQ 399.907812 40.7555 399.907812 42.7555 \r\nL 399.907812 56.433625 \r\nQ 399.907812 58.433625 401.907812 58.433625 \r\nz\r\n\" style=\"fill:#ffffff;opacity:0.8;stroke:#cccccc;stroke-linejoin:miter;\"/>\r\n    </g>\r\n    <g id=\"patch_12\">\r\n     <path d=\"M 403.907812 52.353937 \r\nL 423.907812 52.353937 \r\nL 423.907812 45.353937 \r\nL 403.907812 45.353937 \r\nz\r\n\" style=\"fill:#20b2aa;fill-opacity:0.25;stroke:#000000;stroke-linejoin:miter;\"/>\r\n    </g>\r\n    <g id=\"text_62\">\r\n     <!-- Area to clear -->\r\n     <defs>\r\n      <path d=\"M 34.1875 63.1875 \r\nL 20.796875 26.90625 \r\nL 47.609375 26.90625 \r\nz\r\nM 28.609375 72.90625 \r\nL 39.796875 72.90625 \r\nL 67.578125 0 \r\nL 57.328125 0 \r\nL 50.6875 18.703125 \r\nL 17.828125 18.703125 \r\nL 11.1875 0 \r\nL 0.78125 0 \r\nz\r\n\" id=\"DejaVuSans-65\"/>\r\n     </defs>\r\n     <g transform=\"translate(431.907812 52.353937)scale(0.1 -0.1)\">\r\n      <use xlink:href=\"#DejaVuSans-65\"/>\r\n      <use x=\"68.408203\" xlink:href=\"#DejaVuSans-114\"/>\r\n      <use x=\"109.490234\" xlink:href=\"#DejaVuSans-101\"/>\r\n      <use x=\"171.013672\" xlink:href=\"#DejaVuSans-97\"/>\r\n      <use x=\"232.292969\" xlink:href=\"#DejaVuSans-32\"/>\r\n      <use x=\"264.080078\" xlink:href=\"#DejaVuSans-116\"/>\r\n      <use x=\"303.289062\" xlink:href=\"#DejaVuSans-111\"/>\r\n      <use x=\"364.470703\" xlink:href=\"#DejaVuSans-32\"/>\r\n      <use x=\"396.257812\" xlink:href=\"#DejaVuSans-99\"/>\r\n      <use x=\"451.238281\" xlink:href=\"#DejaVuSans-108\"/>\r\n      <use x=\"479.021484\" xlink:href=\"#DejaVuSans-101\"/>\r\n      <use x=\"540.544922\" xlink:href=\"#DejaVuSans-97\"/>\r\n      <use x=\"601.824219\" xlink:href=\"#DejaVuSans-114\"/>\r\n     </g>\r\n    </g>\r\n   </g>\r\n  </g>\r\n </g>\r\n <defs>\r\n  <clipPath id=\"p795aae9c03\">\r\n   <rect height=\"326.16\" width=\"446.4\" x=\"58.801563\" y=\"35.7555\"/>\r\n  </clipPath>\r\n </defs>\r\n</svg>\r\n",
      "text/plain": "<Figure size 576x432 with 1 Axes>"
     },
     "metadata": {
      "needs_background": "light"
     },
     "output_type": "display_data"
    }
   ],
   "source": [
    "actionable = []\n",
    "while len(actionable) < 4:\n",
    "    env=create_env(N=40)\n",
    "    #fig,ax=plt.subplots(figsize=(8,6))\n",
    "    #plot_env(env,ax,legend=True)\n",
    "\n",
    "    #Dump env to file\n",
    "    with open('./demo/demo_env.sv', 'wb') as fp:\n",
    "        pickle.dump(env, fp)\n",
    "\n",
    "    target_area=[position(-0.8,0.7),position(0.25,0.99)]\n",
    "    task1=task(colour_specific=np.nan,shape_specific=np.nan,target_area=target_area)\n",
    "\n",
    "    rob = robot(task1,env)\n",
    "    actionable = rob.all_actionable()\n",
    "\n",
    "print(actionable)\n",
    "\n",
    "fig,ax=plt.subplots(figsize=(8,6))\n",
    "plot_task(env,ax,\"Clearing the highlighted area\",task1,True)\n",
    "#fig.savefig(\"example_task.pdf\", bbox_inches='tight')\n",
    "\n"
   ]
  },
  {
   "cell_type": "code",
   "execution_count": 11,
   "metadata": {},
   "outputs": [
    {
     "name": "stdout",
     "output_type": "stream",
     "text": "------------------------------------------------\n                NORM Number=1\n------------------------------------------------\n   > OBLIGATION:\n     put in zone 3 if handling colour b and shape triangle\n     and history is\n['Moved', ['Colour', 'any'], ['Shape', 'any'], ['Zone', '1']]\n------------------------------------------------\n                NORM Number=2\n------------------------------------------------\n   > PERMISSION: action pickup\n     for colour any, shape any and zone 2\n"
    }
   ],
   "source": [
    "true_expression=expand(\"NORMS\")\n",
    "print_expression(true_expression)\n",
    "\n",
    "\n",
    "#Dump expression\n",
    "with open('./demo/demo_exp.sv', 'wb') as fp:\n",
    "    pickle.dump(true_expression, fp)"
   ]
  },
  {
   "cell_type": "markdown",
   "metadata": {},
   "source": [
    "### 2. Create Action Data on environment while performing randomised tasks\n",
    "Action data is can be created in two ways (parametrised by random_task):\n",
    "1. Either Initialising a task beforehand and performing it ceratin times (*num_repeat*)\n",
    "2. or, by initialisng random tasks for each iteration in *num_repeat*. In such a case relevance of tasks becomes redundant, and though target are of task is randomised, scope of task (i.e. color and shape of objects) is fixed. And in next step rf must be passed as nan.\n",
    "\n",
    "In both the cases the repetition of tasks is on the original state of environment provided to function"
   ]
  },
  {
   "cell_type": "code",
   "execution_count": 23,
   "metadata": {},
   "outputs": [
    {
     "name": "stdout",
     "output_type": "stream",
     "text": ">>> Obligation match check for['Obl', ['Moved', ['Colour', 'any'], ['Shape', 'any'], ['Zone', '1'], ['Next-Move', ['Colour', 'b'], ['Shape', 'triangle']]], ['Zone', '3']]\n\nObject 6: color=g,shape=triangle,current_zone=2,last_action=nan\n(0, None, None)\n\nObject 9: color=g,shape=triangle,current_zone=1,last_action=nan"
    }
   ],
   "source": [
    "import verify_action_4\n",
    "import rules_4\n",
    "import robot_task_new\n",
    "from importlib import reload\n",
    "from copy import deepcopy\n",
    "reload(verify_action_4)\n",
    "reload(rules_4)\n",
    "reload(robot_task_new)\n",
    "from robot_task_new import *\n",
    "from verify_action_4 import *\n",
    "\n",
    "rules = [true_expression[i] for i in range(1, len(true_expression))]\n",
    "\n",
    "if rules[0][0]==\"Pro\":\n",
    "    the_pro = rules[0]\n",
    "    print(\">>> Prohibition match check for\", the_pro, '\\n')\n",
    "    for oid in actionable:\n",
    "        get_obj(oid,env).describe()\n",
    "        print(check_pro_or_per(get_obj(oid,env),pro_or_per_action(the_pro),{1:the_pro}))\n",
    "        print()\n",
    "\n",
    "if rules[0][0]==\"Obl\":\n",
    "    rule = rules[0]\n",
    "    print(\">>> Obligation match check for\", rule, '\\n')\n",
    "    cond = rule[1]\n",
    "    conds_list = separate_conds(cond)\n",
    "    next_move = conds_list[-1]\n",
    "    for oid in actionable:\n",
    "        get_obj(oid,env).describe()\n",
    "        print(check_obl(get_obj(oid,env),{1:rule}))\n",
    "        print()\n",
    "\n",
    "if len(rules) > 1:\n",
    "    the_per = rules[1]\n",
    "    print(\">>> Permission match check for\", the_per,'\\n')\n",
    "    for oid in actionable:\n",
    "        get_obj(oid,env).describe()\n",
    "        print(check_pro_or_per(get_obj(oid,env),pro_or_per_action(the_per),{1:the_per}))\n",
    "        print()\n",
    "\n",
    "rob = robot(task1,deepcopy(env))\n",
    "rob.all_compliant(rules,\"foo\")\n"
   ]
  },
  {
   "cell_type": "code",
   "execution_count": 40,
   "metadata": {},
   "outputs": [
    {
     "name": "stdout",
     "output_type": "stream",
     "text": [
      "Generating action-profile data for case demo\n"
     ]
    },
    {
     "data": {
      "application/vnd.jupyter.widget-view+json": {
       "model_id": "f30911e919344103bdae2de448b05b22",
       "version_major": 2,
       "version_minor": 0
      },
      "text/plain": [
       "HBox(children=(IntProgress(value=0, description='Repetition of Task', max=250, style=ProgressStyle(description…"
      ]
     },
     "metadata": {},
     "output_type": "display_data"
    },
    {
     "name": "stdout",
     "output_type": "stream",
     "text": [
      "\n",
      "Time Taken to complete job=129.84s\n",
      "\n"
     ]
    }
   ],
   "source": [
    "s=time.time()\n",
    "action_profile_with_norms=create_data(true_expression,env,name=\"demo\",task1=task1,random_task=False,\n",
    "                num_actionable=np.nan,num_repeat=250,verbose=False)\n",
    "print (\"Time Taken to complete job={:.2f}s\\n\".format(time.time()-s))"
   ]
  },
  {
   "cell_type": "code",
   "execution_count": 41,
   "metadata": {},
   "outputs": [
    {
     "name": "stdout",
     "output_type": "stream",
     "text": [
      "Data Generated:\n",
      "(('pickup', 17), ('putdown', 17, 1))\n",
      "(('pickup', 27), ('putdown', 27, 3))\n",
      "(('pickup', 37), ('putdown', 37, 1))\n",
      "(('pickup', 29), ('putdown', 29, 1))\n",
      "(('pickup', 2), ('putdown', 2, 3))\n"
     ]
    }
   ],
   "source": [
    "data=[]\n",
    "for itr,ap in action_profile_with_norms.items():\n",
    "    for i in range(0,int(len(ap)/2)):\n",
    "        data.append(tuple([ap[2*i],ap[2*i+1]]))\n",
    "print (\"Data Generated:\")\n",
    "for i in range(5):\n",
    "    print(data[i])\n",
    "    \n",
    "with open('./demo/demo_data.sv', 'wb') as fp:\n",
    "    pickle.dump(data, fp)"
   ]
  },
  {
   "cell_type": "markdown",
   "metadata": {},
   "source": [
    "### 3. Run MCMC Algorithm to learn expressions from the data created earlier\n",
    "1. rf is the relevance discounting factor for irrelevant expressions.\n",
    "2. sim_t is the similarity threshold: cos(E1,E2) above which p_accept is penalised.\n",
    "3. sim_pen is the penalty imposed if the above threshold is crossed."
   ]
  },
  {
   "cell_type": "code",
   "execution_count": 42,
   "metadata": {},
   "outputs": [],
   "source": [
    "# Different parameters for MCMC sequence\n",
    "rf=0.5 #To negate relevance logic use np.nan\n",
    "sim_t=0.8\n",
    "sim_pen=0.7 #To negate similarity logic use 1"
   ]
  },
  {
   "cell_type": "code",
   "execution_count": 43,
   "metadata": {},
   "outputs": [
    {
     "name": "stdout",
     "output_type": "stream",
     "text": [
      "Generating sequence\n",
      "Time to initialise E_0=0.0590s\n",
      "E0 chosen is:\n",
      "------------------------------------------------\n",
      "                NORM Number=1\n",
      "------------------------------------------------\n",
      "   > PROHIBITED to PUTDOWN\n",
      "     B-CIRCLEs in ZONE-2\n",
      "------------------------------------------------\n",
      "                NORM Number=2\n",
      "------------------------------------------------\n",
      "   > PERMITTED to PICKUP\n",
      "     B-SQUAREs in ZONE-2\n"
     ]
    },
    {
     "data": {
      "application/vnd.jupyter.widget-view+json": {
       "model_id": "be0a551c563b43a68036023477d10f2c",
       "version_major": 2,
       "version_minor": 0
      },
      "text/plain": [
       "HBox(children=(IntProgress(value=0, description='Length of Sequence', max=50000, style=ProgressStyle(descripti…"
      ]
     },
     "metadata": {},
     "output_type": "display_data"
    },
    {
     "name": "stdout",
     "output_type": "stream",
     "text": [
      "\n",
      "\n",
      "Time Taken to complete job=639.41s\n",
      "\n"
     ]
    }
   ],
   "source": [
    "s=time.time()\n",
    "print (\"Generating sequence\")\n",
    "exp_seq,lik_list=algorithm_1(data,env,task1,true_expression,q_dict,rule_dict,\n",
    "                                       filename=\"demo/demo_mcmc_report\",\n",
    "                                       sim_threshold=sim_t,similarity_penalty=sim_pen,\n",
    "                                       relevance_factor=rf,max_iterations=50000,verbose=False)\n",
    "print (\"\\nTime Taken to complete job={:.2f}s\\n\".format(time.time()-s))"
   ]
  },
  {
   "cell_type": "code",
   "execution_count": 44,
   "metadata": {},
   "outputs": [
    {
     "name": "stdout",
     "output_type": "stream",
     "text": [
      "Number of unique Norms in sequence=54\n"
     ]
    }
   ],
   "source": [
    "learned_expressions=Counter(map(to_tuple,exp_seq[int(len(exp_seq)/2)+1:]))#Discarding 1 half as warmup\n",
    "print (\"Number of unique Norms in sequence={}\".format(len(learned_expressions)))"
   ]
  },
  {
   "cell_type": "code",
   "execution_count": 45,
   "metadata": {},
   "outputs": [
    {
     "name": "stdout",
     "output_type": "stream",
     "text": [
      "Rank:1 Norm has relative frequency=13.968%\n",
      "Rank:11 Norm has relative frequency=1.848%\n",
      "Rank:21 Norm has relative frequency=1.708%\n",
      "Rank:31 Norm has relative frequency=1.616%\n",
      "Rank:41 Norm has relative frequency=1.464%\n",
      "Rank:51 Norm has relative frequency=1.284%\n"
     ]
    }
   ],
   "source": [
    "# Write top norms to file\n",
    "filename=\"demo_top_norms\"\n",
    "top=learned_expressions.most_common()\n",
    "t=sum(learned_expressions.values())\n",
    "exists = os.path.isfile('./demo/{}.txt'.format(filename))\n",
    "if exists==True:\n",
    "    os.remove('./demo/{}.txt'.format(filename))\n",
    "original = sys.stdout\n",
    "for i in range(len(top)):\n",
    "    exp=top[i]\n",
    "    if (i%10==0):\n",
    "        print(\"Rank:{} Norm has relative frequency={:.3f}%\".format(i+1,exp[1]*100/t))\n",
    "    sys.stdout = open('./demo/{}.txt'.format(filename), 'a+')\n",
    "    print(\"\\n\\n\\n************Rank:{}, %-Frequency={:.3f}%**********\".format(i+1,exp[1]*100/t))\n",
    "    print_expression(exp[0])\n",
    "    print(\"*************************************************\")\n",
    "    sys.stdout=original"
   ]
  },
  {
   "cell_type": "code",
   "execution_count": 46,
   "metadata": {},
   "outputs": [
    {
     "data": {
      "image/png": "[encoded data removed]",
      "text/plain": [
       "<Figure size 800x600 with 1 Axes>"
      ]
     },
     "metadata": {},
     "output_type": "display_data"
    }
   ],
   "source": [
    "# Visualise the frequency of top plots\n",
    "sns.set_style(\"darkgrid\")\n",
    "fig,ax=plt.subplots(figsize=(8,6),dpi=100)\n",
    "fig.suptitle('Frequency of Norms in the generated sequence for relevance_factor={}'.format(rf))\n",
    "\n",
    "t_l=sum(learned_expressions.values())\n",
    "ax.plot([x*100/t for x in sorted(learned_expressions.values())],\"o-\",c=(250/255,93/255,130/255,0.7),markerfacecolor=(250/255,18/255,72/255,0.77))\n",
    "ax.set_ylabel(\"%-Frequency in sample of size={}\".format(t))\n",
    "ax.set_xlabel(\"Descending Frequency Rank of Norms from a total of {} Norms\".format(len(learned_expressions)))\n",
    "ax.title.set_text(\"Weak Inequality check for E_0:\\nlog_Likelihood(expression)>=log_Likelihood(No-Norm)\")\n",
    "obl_rank=[] #Ascending order Rank\n",
    "for rank,x in enumerate(learned_expressions.most_common(),1):\n",
    "    if x[0][1][0] ==\"Obl\":\n",
    "        obl_rank.append(rank)\n",
    "for rank in obl_rank:\n",
    "    ax.scatter(x=len(learned_expressions)-rank,\n",
    "               y=sorted(learned_expressions.values())[len(learned_expressions)-rank]*100/t,\n",
    "               c='green',s=151,marker='p',alpha=0.88,label='Obligatory,Rank={}'.format(rank))\n",
    "ax.legend();"
   ]
  },
  {
   "cell_type": "markdown",
   "metadata": {},
   "source": [
    "### 4. Calculate Preciscion and Recall for the Learned Norms\n",
    "\n",
    "  * #####  Precision = $\\frac{|\\ true-data\\ ∩\\ predicted-data\\ |}{|\\ true-data\\ |}$\n",
    "  * #####  Recall = $\\frac{|\\ true-data\\ ∩\\ predicted-data\\ |}{|\\ predicted-data\\ |}$\n",
    "  * #####  F_beta = $\\frac{(1+\\beta^2)\\  . \\ (precision\\ *\\ recall)}{(\\beta^2.precision\\ +\\ recall)}$\n",
    "   where,\n",
    "   *           True Data = All Possible Action Profiles that can be produced by true/trace expression\n",
    "   *           Predicted Data = All Possible Action Profiles that can be produced by learned expression"
   ]
  },
  {
   "cell_type": "code",
   "execution_count": 47,
   "metadata": {},
   "outputs": [
    {
     "data": {
      "text/html": [
       "<div>\n",
       "<style scoped>\n",
       "    .dataframe tbody tr th:only-of-type {\n",
       "        vertical-align: middle;\n",
       "    }\n",
       "\n",
       "    .dataframe tbody tr th {\n",
       "        vertical-align: top;\n",
       "    }\n",
       "\n",
       "    .dataframe thead th {\n",
       "        text-align: right;\n",
       "    }\n",
       "</style>\n",
       "<table border=\"1\" class=\"dataframe\">\n",
       "  <thead>\n",
       "    <tr style=\"text-align: right;\">\n",
       "      <th></th>\n",
       "      <th>norm_rank</th>\n",
       "      <th>weight</th>\n",
       "      <th>precision</th>\n",
       "      <th>recall</th>\n",
       "      <th>F_1</th>\n",
       "    </tr>\n",
       "  </thead>\n",
       "  <tbody>\n",
       "    <tr>\n",
       "      <th>0</th>\n",
       "      <td>1</td>\n",
       "      <td>0.13968</td>\n",
       "      <td>1.0</td>\n",
       "      <td>1.0</td>\n",
       "      <td>1.0</td>\n",
       "    </tr>\n",
       "    <tr>\n",
       "      <th>1</th>\n",
       "      <td>2</td>\n",
       "      <td>0.02272</td>\n",
       "      <td>1.0</td>\n",
       "      <td>1.0</td>\n",
       "      <td>1.0</td>\n",
       "    </tr>\n",
       "    <tr>\n",
       "      <th>2</th>\n",
       "      <td>3</td>\n",
       "      <td>0.01988</td>\n",
       "      <td>1.0</td>\n",
       "      <td>1.0</td>\n",
       "      <td>1.0</td>\n",
       "    </tr>\n",
       "    <tr>\n",
       "      <th>3</th>\n",
       "      <td>4</td>\n",
       "      <td>0.01988</td>\n",
       "      <td>1.0</td>\n",
       "      <td>1.0</td>\n",
       "      <td>1.0</td>\n",
       "    </tr>\n",
       "    <tr>\n",
       "      <th>4</th>\n",
       "      <td>5</td>\n",
       "      <td>0.01948</td>\n",
       "      <td>1.0</td>\n",
       "      <td>1.0</td>\n",
       "      <td>1.0</td>\n",
       "    </tr>\n",
       "  </tbody>\n",
       "</table>\n",
       "</div>"
      ],
      "text/plain": [
       "  norm_rank   weight  precision  recall  F_1\n",
       "0         1  0.13968        1.0     1.0  1.0\n",
       "1         2  0.02272        1.0     1.0  1.0\n",
       "2         3  0.01988        1.0     1.0  1.0\n",
       "3         4  0.01988        1.0     1.0  1.0\n",
       "4         5  0.01948        1.0     1.0  1.0"
      ]
     },
     "execution_count": 47,
     "metadata": {},
     "output_type": "execute_result"
    }
   ],
   "source": [
    "# Calculate precision and recall of top_n norms from learned expressions\n",
    "pr_result=performance(task1,env,true_expression,learned_expressions,\n",
    "                      folder_name=\"demo\",file_name=\"top_norm\",\n",
    "                      top_n=np.nan,beta=1,verbose=False)\n",
    "pr_result.head()"
   ]
  },
  {
   "cell_type": "markdown",
   "metadata": {},
   "source": [
    "### 5. Test the convergence of MCMC Chain\n",
    "\n",
    "<img src=\"mcmc_convergence/B_W_def.jpeg\" alt=\"Drawing\" style=\"width: 700px;float: center\"/> "
   ]
  },
  {
   "cell_type": "code",
   "execution_count": 48,
   "metadata": {},
   "outputs": [
    {
     "data": {
      "application/vnd.jupyter.widget-view+json": {
       "model_id": "f85e6691ac71442caf4d030376a48e6f",
       "version_major": 2,
       "version_minor": 0
      },
      "text/plain": [
       "HBox(children=(IntProgress(value=0, description='Loop for Individual Chains', max=5, style=ProgressStyle(descr…"
      ]
     },
     "metadata": {},
     "output_type": "display_data"
    },
    {
     "name": "stdout",
     "output_type": "stream",
     "text": [
      "\n",
      ":::::::::::::::::::: FOR SEQUENCE 1 ::::::::::::::::::::\n",
      "Time to initialise E_0=0.0300s\n",
      "E0 chosen is:\n",
      "------------------------------------------------\n",
      "                NORM Number=1\n",
      "------------------------------------------------\n",
      "   > PROHIBITED to PUTDOWN\n",
      "     B-CIRCLEs in ZONE-2\n",
      "------------------------------------------------\n",
      "                NORM Number=2\n",
      "------------------------------------------------\n",
      "   > PERMITTED to PICKUP\n",
      "     G-CIRCLEs in ZONE-3\n"
     ]
    },
    {
     "data": {
      "application/vnd.jupyter.widget-view+json": {
       "model_id": "06d128c5093342d9a3ecdb4c73e0bf9b",
       "version_major": 2,
       "version_minor": 0
      },
      "text/plain": [
       "HBox(children=(IntProgress(value=0, description='Length of Sequence', max=40000, style=ProgressStyle(descripti…"
      ]
     },
     "metadata": {},
     "output_type": "display_data"
    },
    {
     "name": "stdout",
     "output_type": "stream",
     "text": [
      "\n",
      ":::::::::::::::::::: FOR SEQUENCE 2 ::::::::::::::::::::\n",
      "Time to initialise E_0=0.6180s\n",
      "E0 chosen is:\n",
      "------------------------------------------------\n",
      "                NORM Number=1\n",
      "------------------------------------------------\n",
      "   > PROHIBITED to PUTDOWN\n",
      "     B-CIRCLEs in ZONE-2\n",
      "------------------------------------------------\n",
      "                NORM Number=2\n",
      "------------------------------------------------\n",
      "   > PERMITTED to PICKUP\n",
      "     R-TRIANGLEs in ZONE-2\n"
     ]
    },
    {
     "data": {
      "application/vnd.jupyter.widget-view+json": {
       "model_id": "58cb1d2d6d4c4833a010cf7670ee38e1",
       "version_major": 2,
       "version_minor": 0
      },
      "text/plain": [
       "HBox(children=(IntProgress(value=0, description='Length of Sequence', max=40000, style=ProgressStyle(descripti…"
      ]
     },
     "metadata": {},
     "output_type": "display_data"
    },
    {
     "name": "stdout",
     "output_type": "stream",
     "text": [
      "\n",
      ":::::::::::::::::::: FOR SEQUENCE 3 ::::::::::::::::::::\n",
      "Time to initialise E_0=0.6210s\n",
      "E0 chosen is:\n",
      "------------------------------------------------\n",
      "                NORM Number=1\n",
      "------------------------------------------------\n",
      "   > PROHIBITED to PUTDOWN\n",
      "     B-CIRCLEs in ZONE-2\n",
      "------------------------------------------------\n",
      "                NORM Number=2\n",
      "------------------------------------------------\n",
      "   > PERMITTED to PUTDOWN\n",
      "     R-TRIANGLEs in ZONE-2\n"
     ]
    },
    {
     "data": {
      "application/vnd.jupyter.widget-view+json": {
       "model_id": "291b18af959040dba7b5ad7ab92cb341",
       "version_major": 2,
       "version_minor": 0
      },
      "text/plain": [
       "HBox(children=(IntProgress(value=0, description='Length of Sequence', max=40000, style=ProgressStyle(descripti…"
      ]
     },
     "metadata": {},
     "output_type": "display_data"
    },
    {
     "name": "stdout",
     "output_type": "stream",
     "text": [
      "\n",
      ":::::::::::::::::::: FOR SEQUENCE 4 ::::::::::::::::::::\n",
      "Time to initialise E_0=0.0800s\n",
      "E0 chosen is:\n",
      "------------------------------------------------\n",
      "                NORM Number=1\n",
      "------------------------------------------------\n",
      "   > OBLIGATORY to\n",
      "     PUTDOWN B-CIRCLEs in ZONE-1\n",
      "     if you PICKUP B-CIRCLEs\n",
      "------------------------------------------------\n",
      "                NORM Number=2\n",
      "------------------------------------------------\n",
      "   > PERMITTED to PUTDOWN\n",
      "     B-CIRCLEs in ZONE-3\n"
     ]
    },
    {
     "data": {
      "application/vnd.jupyter.widget-view+json": {
       "model_id": "fbdc3c5caf64464d919f26cfe2df6b47",
       "version_major": 2,
       "version_minor": 0
      },
      "text/plain": [
       "HBox(children=(IntProgress(value=0, description='Length of Sequence', max=40000, style=ProgressStyle(descripti…"
      ]
     },
     "metadata": {},
     "output_type": "display_data"
    },
    {
     "name": "stdout",
     "output_type": "stream",
     "text": [
      "\n",
      ":::::::::::::::::::: FOR SEQUENCE 5 ::::::::::::::::::::\n",
      "Time to initialise E_0=0.3570s\n",
      "E0 chosen is:\n",
      "------------------------------------------------\n",
      "                NORM Number=1\n",
      "------------------------------------------------\n",
      "   > PROHIBITED to PUTDOWN\n",
      "     B-CIRCLEs in ZONE-2\n",
      "------------------------------------------------\n",
      "                NORM Number=2\n",
      "------------------------------------------------\n",
      "   > PERMITTED to PUTDOWN\n",
      "     R-TRIANGLEs in ZONE-1\n"
     ]
    },
    {
     "data": {
      "application/vnd.jupyter.widget-view+json": {
       "model_id": "c832268d6ad14d91944187e63eef6ee6",
       "version_major": 2,
       "version_minor": 0
      },
      "text/plain": [
       "HBox(children=(IntProgress(value=0, description='Length of Sequence', max=40000, style=ProgressStyle(descripti…"
      ]
     },
     "metadata": {},
     "output_type": "display_data"
    },
    {
     "name": "stdout",
     "output_type": "stream",
     "text": [
      "\n"
     ]
    }
   ],
   "source": [
    "n=10000 #Length of sequence after discarding warm-up part and splitting in half\n",
    "m=10 #Number of sequences after splitting in half\n",
    "\n",
    "sequence_list=[]\n",
    "for i in tnrange(1,int(m/2+1),desc=\"Loop for Individual Chains\"):\n",
    "    print (\"\\n:::::::::::::::::::: FOR SEQUENCE {} ::::::::::::::::::::\".format(i))\n",
    "    exp_seq,lik_list=algorithm_1(data,env,task1,true_expression,q_dict,rule_dict,\n",
    "                                       filename=\"demo/convergence/report_for_chain_{}\".format(i),\n",
    "                                       sim_threshold=sim_t,similarity_penalty=sim_pen,\n",
    "                                       relevance_factor=rf,max_iterations=4*n,verbose=False)\n",
    "    sequence_list.append(exp_seq)"
   ]
  },
  {
   "cell_type": "code",
   "execution_count": 49,
   "metadata": {},
   "outputs": [
    {
     "data": {
      "application/vnd.jupyter.widget-view+json": {
       "model_id": "c73c63444afb4c96bd7cb52739961d1a",
       "version_major": 2,
       "version_minor": 0
      },
      "text/plain": [
       "HBox(children=(IntProgress(value=0, description='Progress', max=9, style=ProgressStyle(description_width='init…"
      ]
     },
     "metadata": {},
     "output_type": "display_data"
    },
    {
     "name": "stdout",
     "output_type": "stream",
     "text": [
      "\n",
      "Calculating Variance for 1st 50 iterations\n",
      "Time taken for job=0.4s\n",
      "\n",
      "Calculating Variance for 1st 100 iterations\n",
      "Time taken for job=0.7s\n",
      "\n",
      "Calculating Variance for 1st 200 iterations\n",
      "Time taken for job=1.5s\n",
      "\n",
      "Calculating Variance for 1st 400 iterations\n",
      "Time taken for job=3.1s\n",
      "\n",
      "Calculating Variance for 1st 800 iterations\n",
      "Time taken for job=6.3s\n",
      "\n",
      "Calculating Variance for 1st 1600 iterations\n",
      "Time taken for job=13.4s\n",
      "\n",
      "Calculating Variance for 1st 3200 iterations\n",
      "Time taken for job=25.8s\n",
      "\n",
      "Calculating Variance for 1st 6400 iterations\n",
      "Time taken for job=55.2s\n",
      "\n",
      "Calculating Variance for 1st 10000 iterations\n",
      "Time taken for job=91.1s\n",
      "\n"
     ]
    },
    {
     "data": {
      "text/html": [
       "<div>\n",
       "<style scoped>\n",
       "    .dataframe tbody tr th:only-of-type {\n",
       "        vertical-align: middle;\n",
       "    }\n",
       "\n",
       "    .dataframe tbody tr th {\n",
       "        vertical-align: top;\n",
       "    }\n",
       "\n",
       "    .dataframe thead th {\n",
       "        text-align: right;\n",
       "    }\n",
       "</style>\n",
       "<table border=\"1\" class=\"dataframe\">\n",
       "  <thead>\n",
       "    <tr style=\"text-align: right;\">\n",
       "      <th></th>\n",
       "      <th>iterations</th>\n",
       "      <th>R</th>\n",
       "      <th>within_seq_var</th>\n",
       "      <th>between_seq_var</th>\n",
       "      <th>var_over_est</th>\n",
       "    </tr>\n",
       "  </thead>\n",
       "  <tbody>\n",
       "    <tr>\n",
       "      <th>0</th>\n",
       "      <td>50</td>\n",
       "      <td>1.000314</td>\n",
       "      <td>5.469551</td>\n",
       "      <td>39.863111</td>\n",
       "      <td>5.472990</td>\n",
       "    </tr>\n",
       "    <tr>\n",
       "      <th>1</th>\n",
       "      <td>100</td>\n",
       "      <td>1.000313</td>\n",
       "      <td>5.820768</td>\n",
       "      <td>42.288222</td>\n",
       "      <td>5.824414</td>\n",
       "    </tr>\n",
       "    <tr>\n",
       "      <th>2</th>\n",
       "      <td>200</td>\n",
       "      <td>1.000311</td>\n",
       "      <td>5.993834</td>\n",
       "      <td>43.227222</td>\n",
       "      <td>5.997558</td>\n",
       "    </tr>\n",
       "    <tr>\n",
       "      <th>3</th>\n",
       "      <td>400</td>\n",
       "      <td>1.000347</td>\n",
       "      <td>6.075675</td>\n",
       "      <td>48.304000</td>\n",
       "      <td>6.079898</td>\n",
       "    </tr>\n",
       "    <tr>\n",
       "      <th>4</th>\n",
       "      <td>800</td>\n",
       "      <td>1.000343</td>\n",
       "      <td>6.123026</td>\n",
       "      <td>48.110389</td>\n",
       "      <td>6.127224</td>\n",
       "    </tr>\n",
       "    <tr>\n",
       "      <th>5</th>\n",
       "      <td>1600</td>\n",
       "      <td>1.002246</td>\n",
       "      <td>6.356199</td>\n",
       "      <td>292.204208</td>\n",
       "      <td>6.384784</td>\n",
       "    </tr>\n",
       "    <tr>\n",
       "      <th>6</th>\n",
       "      <td>3200</td>\n",
       "      <td>1.005616</td>\n",
       "      <td>6.440944</td>\n",
       "      <td>731.894535</td>\n",
       "      <td>6.513490</td>\n",
       "    </tr>\n",
       "    <tr>\n",
       "      <th>7</th>\n",
       "      <td>6400</td>\n",
       "      <td>1.008423</td>\n",
       "      <td>6.745303</td>\n",
       "      <td>1147.812757</td>\n",
       "      <td>6.859409</td>\n",
       "    </tr>\n",
       "    <tr>\n",
       "      <th>8</th>\n",
       "      <td>10000</td>\n",
       "      <td>1.007436</td>\n",
       "      <td>6.618031</td>\n",
       "      <td>994.498911</td>\n",
       "      <td>6.716819</td>\n",
       "    </tr>\n",
       "  </tbody>\n",
       "</table>\n",
       "</div>"
      ],
      "text/plain": [
       "   iterations         R  within_seq_var  between_seq_var  var_over_est\n",
       "0          50  1.000314        5.469551        39.863111      5.472990\n",
       "1         100  1.000313        5.820768        42.288222      5.824414\n",
       "2         200  1.000311        5.993834        43.227222      5.997558\n",
       "3         400  1.000347        6.075675        48.304000      6.079898\n",
       "4         800  1.000343        6.123026        48.110389      6.127224\n",
       "5        1600  1.002246        6.356199       292.204208      6.384784\n",
       "6        3200  1.005616        6.440944       731.894535      6.513490\n",
       "7        6400  1.008423        6.745303      1147.812757      6.859409\n",
       "8       10000  1.007436        6.618031       994.498911      6.716819"
      ]
     },
     "execution_count": 49,
     "metadata": {},
     "output_type": "execute_result"
    }
   ],
   "source": [
    "convergence_result=calculate_R(prepare_sequences(sequence_list,warmup=True),50)\n",
    "convergence_result"
   ]
  }
 ],
 "metadata": {
  "kernelspec": {
   "display_name": "Python 3",
   "language": "python",
   "name": "python3"
  }
 },
 "nbformat": 4,
 "nbformat_minor": 2
}